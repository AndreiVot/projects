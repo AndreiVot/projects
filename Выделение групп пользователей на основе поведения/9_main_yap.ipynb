{
 "cells": [
  {
   "cell_type": "markdown",
   "metadata": {},
   "source": [
    "# Мобильные приложения — \n",
    "\n",
    "# Выделение групп пользователей на основе поведения\n",
    "\n",
    "\n",
    "##\n",
    "\n",
    "\n",
    "Задача: выделить группы пользователей мобильного приложения \"Ненужные вещи\" на основе их поведения в приложении.\n",
    "\n",
    "\n",
    "Цель работы: по результатам выделения групп пользователей и расчёта пользовательских метрик ответить на вопросы:\n",
    "\n",
    "\n",
    "* какие пользователи склонны возвращаться в мобильное приложение?\n",
    "\n",
    "\n",
    "* какие пользователи часто делают целевое событие?\n",
    "\n",
    "\n",
    "* как различается время между распространёнными событиями пользователей (например, различаются ли пользователи по группам на основе времени, которое происходит с момента первого использования мобильного приложения и до использования функции поиска)?\n"
   ]
  },
  {
   "cell_type": "markdown",
   "metadata": {},
   "source": [
    "В мобильном приложении \"Ненужные вещи\" пользователи продают свои ненужные вещи, размещая их на доске объявлений.\n",
    "\n",
    "\n",
    "Исходные данные представлены в виде двух датасетов. В датасете mobile_dataset.csv содержатся данные пользователей, впервые совершивших действия в приложении после 7 октября 2019 года. Датасет mobile_sources.csv содержит идентификатор пользователя, источник, с которого пользователь установил приложение и логи событий (действий пользователя в приложении). \n",
    "\n",
    "Расшифровки событий: \n",
    "\n",
    "* advert_open  — открытие карточки объявления \n",
    "\n",
    "* photos_show  — просмотр фотографий в объявлении \n",
    "\n",
    "* tips_show  — пользователь увидел рекомендованные объявления \n",
    "\n",
    "* tips_click  — пользователь кликнул по рекомендованному объявлению \n",
    "\n",
    "* contacts_show  и  show_contacts  — пользователь нажал на кнопку \"посмотреть номер телефона\" на карточке объявления \n",
    "\n",
    "* contacts_call  — пользователь позвонил по номеру телефона на карточке объявления \n",
    "\n",
    "* map  — пользователь открыл карту размещенных объявлений \n",
    "\n",
    "* search_1  —  search_7  — разные события, связанные с поиском по сайту \n",
    "\n",
    "* favorites_add  — добавление объявления в избранное \n",
    "\n",
    "\n",
    "\n",
    "\n",
    "Выделенные группы пользователей должны различаться по метрикам:\n",
    "1. retention rate,\n",
    "2. время, проведённое в приложении, \n",
    "3. частота действий, \n",
    "4. конверсия в целевое действие — просмотр контактов. \n"
   ]
  },
  {
   "cell_type": "markdown",
   "metadata": {},
   "source": [
    " # 1 Исследовательский анализ данных"
   ]
  },
  {
   "cell_type": "markdown",
   "metadata": {},
   "source": [
    "## 1.1 Подготовка данных к анализу\n",
    "Просмотр данных методами info(), describe(), value_counts(). Поиск наличия дубликатов и проспусков, переименование равных по смыслу столбцов и событий (столбцов user.id, событий contact_show), отсечение лишней информации (милисекунд в датах), перевод данных в определённые типы данных."
   ]
  },
  {
   "cell_type": "code",
   "execution_count": 1,
   "metadata": {},
   "outputs": [],
   "source": [
    "# импорты необходимых библиотек\n",
    "\n",
    "import pandas as pd\n",
    "from datetime import datetime, timedelta\n",
    "import matplotlib.pyplot as plt\n",
    "import numpy as np\n",
    "import seaborn as sns\n",
    "from scipy import stats as st\n",
    "import math as mth\n",
    "\n",
    "\n",
    "import warnings\n",
    "warnings.filterwarnings('ignore')\n"
   ]
  },
  {
   "cell_type": "code",
   "execution_count": 2,
   "metadata": {},
   "outputs": [
    {
     "data": {
      "text/html": [
       "<div>\n",
       "<style scoped>\n",
       "    .dataframe tbody tr th:only-of-type {\n",
       "        vertical-align: middle;\n",
       "    }\n",
       "\n",
       "    .dataframe tbody tr th {\n",
       "        vertical-align: top;\n",
       "    }\n",
       "\n",
       "    .dataframe thead th {\n",
       "        text-align: right;\n",
       "    }\n",
       "</style>\n",
       "<table border=\"1\" class=\"dataframe\">\n",
       "  <thead>\n",
       "    <tr style=\"text-align: right;\">\n",
       "      <th></th>\n",
       "      <th>event.time</th>\n",
       "      <th>event.name</th>\n",
       "      <th>user.id</th>\n",
       "    </tr>\n",
       "  </thead>\n",
       "  <tbody>\n",
       "    <tr>\n",
       "      <th>0</th>\n",
       "      <td>2019-10-07 00:00:00.431357</td>\n",
       "      <td>advert_open</td>\n",
       "      <td>020292ab-89bc-4156-9acf-68bc2783f894</td>\n",
       "    </tr>\n",
       "    <tr>\n",
       "      <th>1</th>\n",
       "      <td>2019-10-07 00:00:01.236320</td>\n",
       "      <td>tips_show</td>\n",
       "      <td>020292ab-89bc-4156-9acf-68bc2783f894</td>\n",
       "    </tr>\n",
       "    <tr>\n",
       "      <th>2</th>\n",
       "      <td>2019-10-07 00:00:02.245341</td>\n",
       "      <td>tips_show</td>\n",
       "      <td>cf7eda61-9349-469f-ac27-e5b6f5ec475c</td>\n",
       "    </tr>\n",
       "    <tr>\n",
       "      <th>3</th>\n",
       "      <td>2019-10-07 00:00:07.039334</td>\n",
       "      <td>tips_show</td>\n",
       "      <td>020292ab-89bc-4156-9acf-68bc2783f894</td>\n",
       "    </tr>\n",
       "    <tr>\n",
       "      <th>4</th>\n",
       "      <td>2019-10-07 00:00:56.319813</td>\n",
       "      <td>advert_open</td>\n",
       "      <td>cf7eda61-9349-469f-ac27-e5b6f5ec475c</td>\n",
       "    </tr>\n",
       "  </tbody>\n",
       "</table>\n",
       "</div>"
      ],
      "text/plain": [
       "                   event.time   event.name  \\\n",
       "0  2019-10-07 00:00:00.431357  advert_open   \n",
       "1  2019-10-07 00:00:01.236320    tips_show   \n",
       "2  2019-10-07 00:00:02.245341    tips_show   \n",
       "3  2019-10-07 00:00:07.039334    tips_show   \n",
       "4  2019-10-07 00:00:56.319813  advert_open   \n",
       "\n",
       "                                user.id  \n",
       "0  020292ab-89bc-4156-9acf-68bc2783f894  \n",
       "1  020292ab-89bc-4156-9acf-68bc2783f894  \n",
       "2  cf7eda61-9349-469f-ac27-e5b6f5ec475c  \n",
       "3  020292ab-89bc-4156-9acf-68bc2783f894  \n",
       "4  cf7eda61-9349-469f-ac27-e5b6f5ec475c  "
      ]
     },
     "metadata": {},
     "output_type": "display_data"
    }
   ],
   "source": [
    "# распаковка и вывод на экран датасета mobile_dataset\n",
    "\n",
    "mobile_dataset = pd.read_csv('/datasets/mobile_dataset.csv')\n",
    "\n",
    "display(mobile_dataset.head())"
   ]
  },
  {
   "cell_type": "code",
   "execution_count": 3,
   "metadata": {},
   "outputs": [
    {
     "name": "stdout",
     "output_type": "stream",
     "text": [
      "<class 'pandas.core.frame.DataFrame'>\n",
      "RangeIndex: 74197 entries, 0 to 74196\n",
      "Data columns (total 3 columns):\n",
      " #   Column      Non-Null Count  Dtype \n",
      "---  ------      --------------  ----- \n",
      " 0   event.time  74197 non-null  object\n",
      " 1   event.name  74197 non-null  object\n",
      " 2   user.id     74197 non-null  object\n",
      "dtypes: object(3)\n",
      "memory usage: 1.7+ MB\n"
     ]
    }
   ],
   "source": [
    "# вывод информации о данных в датасете mobile_dataset\n",
    "\n",
    "mobile_dataset.info()"
   ]
  },
  {
   "cell_type": "code",
   "execution_count": 4,
   "metadata": {},
   "outputs": [
    {
     "data": {
      "text/html": [
       "<div>\n",
       "<style scoped>\n",
       "    .dataframe tbody tr th:only-of-type {\n",
       "        vertical-align: middle;\n",
       "    }\n",
       "\n",
       "    .dataframe tbody tr th {\n",
       "        vertical-align: top;\n",
       "    }\n",
       "\n",
       "    .dataframe thead th {\n",
       "        text-align: right;\n",
       "    }\n",
       "</style>\n",
       "<table border=\"1\" class=\"dataframe\">\n",
       "  <thead>\n",
       "    <tr style=\"text-align: right;\">\n",
       "      <th></th>\n",
       "      <th>event.time</th>\n",
       "      <th>event.name</th>\n",
       "      <th>user.id</th>\n",
       "    </tr>\n",
       "  </thead>\n",
       "  <tbody>\n",
       "    <tr>\n",
       "      <th>count</th>\n",
       "      <td>74197</td>\n",
       "      <td>74197</td>\n",
       "      <td>74197</td>\n",
       "    </tr>\n",
       "    <tr>\n",
       "      <th>unique</th>\n",
       "      <td>74197</td>\n",
       "      <td>16</td>\n",
       "      <td>4293</td>\n",
       "    </tr>\n",
       "    <tr>\n",
       "      <th>top</th>\n",
       "      <td>2019-10-07 14:24:23.506885</td>\n",
       "      <td>tips_show</td>\n",
       "      <td>cb36854f-570a-41f4-baa8-36680b396370</td>\n",
       "    </tr>\n",
       "    <tr>\n",
       "      <th>freq</th>\n",
       "      <td>1</td>\n",
       "      <td>40055</td>\n",
       "      <td>478</td>\n",
       "    </tr>\n",
       "  </tbody>\n",
       "</table>\n",
       "</div>"
      ],
      "text/plain": [
       "                        event.time event.name  \\\n",
       "count                        74197      74197   \n",
       "unique                       74197         16   \n",
       "top     2019-10-07 14:24:23.506885  tips_show   \n",
       "freq                             1      40055   \n",
       "\n",
       "                                     user.id  \n",
       "count                                  74197  \n",
       "unique                                  4293  \n",
       "top     cb36854f-570a-41f4-baa8-36680b396370  \n",
       "freq                                     478  "
      ]
     },
     "execution_count": 4,
     "metadata": {},
     "output_type": "execute_result"
    }
   ],
   "source": [
    "# дополнительный вывод информации о данных в датасете mobile_dataset\n",
    "\n",
    "mobile_dataset.describe()"
   ]
  },
  {
   "cell_type": "code",
   "execution_count": 5,
   "metadata": {},
   "outputs": [
    {
     "name": "stdout",
     "output_type": "stream",
     "text": [
      "Дубликатов в данных: 0\n"
     ]
    }
   ],
   "source": [
    "# вывод информации о дубликатах данных в датасете mobile_dataset\n",
    "\n",
    "print('Дубликатов в данных:', mobile_dataset.duplicated().sum()) "
   ]
  },
  {
   "cell_type": "code",
   "execution_count": 6,
   "metadata": {},
   "outputs": [
    {
     "data": {
      "text/plain": [
       "tips_show        40055\n",
       "photos_show      10012\n",
       "advert_open       6164\n",
       "contacts_show     4450\n",
       "map               3881\n",
       "search_1          3506\n",
       "favorites_add     1417\n",
       "search_5          1049\n",
       "tips_click         814\n",
       "search_4           701\n",
       "contacts_call      541\n",
       "search_3           522\n",
       "search_6           460\n",
       "search_2           324\n",
       "search_7           222\n",
       "show_contacts       79\n",
       "Name: event.name, dtype: int64"
      ]
     },
     "execution_count": 6,
     "metadata": {},
     "output_type": "execute_result"
    }
   ],
   "source": [
    "# просмотр количества каждого события (event.name) в датасете mobile_dataset\n",
    "\n",
    "mobile_dataset['event.name'].value_counts()"
   ]
  },
  {
   "cell_type": "markdown",
   "metadata": {},
   "source": [
    "Датасет mobile_dataset содержит 3 колонки и 74197 строк без пропусков. Явных дубликатов в датасете не обнаружено. Все данные типа object.\n",
    "\n",
    "\n",
    "Колонки датасета:\n",
    "\n",
    "\n",
    "* event.time - время совершения события. Время записано в неверном формате и с указанием долей секунды, что является излишней информацией, поэтому время нужно перевести в формат дат, доли секунды нужно исключить.\n",
    "\n",
    "\n",
    "* event.name - название события. В датасете данные о 16-ти видах событий. Среди видов событий встречаются contacts_show и show_contacts. Эти события равнозначны - пользователь нажал на кнопку \"посмотреть номер телефона\" на карточке объявления, это неявные дубликаты. Необходимо переименовать события с приведением к единому виду записи. Тип данных колонки изменять не нужно. \n",
    "\n",
    "\n",
    "* user.id - идентификатор пользователя. Уникальных пользователей в датасете 4293. Тип данных колонки изменять не нужно. \n",
    "\n",
    "\n",
    "Для унификации колонки необходимо переименовать с заменой разделительной точки на черту нижнего подчёркивания."
   ]
  },
  {
   "cell_type": "code",
   "execution_count": 7,
   "metadata": {},
   "outputs": [
    {
     "data": {
      "text/plain": [
       "0   2019-10-07 00:00:00\n",
       "1   2019-10-07 00:00:01\n",
       "2   2019-10-07 00:00:02\n",
       "3   2019-10-07 00:00:07\n",
       "4   2019-10-07 00:00:56\n",
       "Name: event.time, dtype: datetime64[ns]"
      ]
     },
     "execution_count": 7,
     "metadata": {},
     "output_type": "execute_result"
    }
   ],
   "source": [
    "# перевод типов данных датасета mobile_dataset в даты\n",
    "\n",
    "mobile_dataset['event.time'] = pd.to_datetime(mobile_dataset['event.time'])\n",
    "\n",
    "# округление дат датасета mobile_dataset до целых секунд\n",
    "\n",
    "mobile_dataset['event.time'] = mobile_dataset['event.time'].dt.round('1S')\n",
    "\n",
    "# контроль выполнения операций\n",
    "\n",
    "mobile_dataset['event.time'].head()"
   ]
  },
  {
   "cell_type": "code",
   "execution_count": 8,
   "metadata": {},
   "outputs": [
    {
     "data": {
      "text/plain": [
       "tips_show        40055\n",
       "photos_show      10012\n",
       "advert_open       6164\n",
       "show_contacts     4529\n",
       "map               3881\n",
       "search_1          3506\n",
       "favorites_add     1417\n",
       "search_5          1049\n",
       "tips_click         814\n",
       "search_4           701\n",
       "contacts_call      541\n",
       "search_3           522\n",
       "search_6           460\n",
       "search_2           324\n",
       "search_7           222\n",
       "Name: event.name, dtype: int64"
      ]
     },
     "execution_count": 8,
     "metadata": {},
     "output_type": "execute_result"
    }
   ],
   "source": [
    "# приведение к единому виду записи события \"пользователь нажал на кнопку \"посмотреть номер телефона\" \n",
    "# на карточке объявления\"\n",
    "\n",
    "mobile_dataset['event.name'] = mobile_dataset['event.name'].replace('contacts_show', 'show_contacts')\n",
    "\n",
    "# контроль выполнения операции\n",
    "\n",
    "mobile_dataset['event.name'].value_counts()"
   ]
  },
  {
   "cell_type": "code",
   "execution_count": 9,
   "metadata": {},
   "outputs": [
    {
     "data": {
      "text/html": [
       "<div>\n",
       "<style scoped>\n",
       "    .dataframe tbody tr th:only-of-type {\n",
       "        vertical-align: middle;\n",
       "    }\n",
       "\n",
       "    .dataframe tbody tr th {\n",
       "        vertical-align: top;\n",
       "    }\n",
       "\n",
       "    .dataframe thead th {\n",
       "        text-align: right;\n",
       "    }\n",
       "</style>\n",
       "<table border=\"1\" class=\"dataframe\">\n",
       "  <thead>\n",
       "    <tr style=\"text-align: right;\">\n",
       "      <th></th>\n",
       "      <th>event_time</th>\n",
       "      <th>event_name</th>\n",
       "      <th>user_id</th>\n",
       "    </tr>\n",
       "  </thead>\n",
       "  <tbody>\n",
       "    <tr>\n",
       "      <th>0</th>\n",
       "      <td>2019-10-07 00:00:00</td>\n",
       "      <td>advert_open</td>\n",
       "      <td>020292ab-89bc-4156-9acf-68bc2783f894</td>\n",
       "    </tr>\n",
       "    <tr>\n",
       "      <th>1</th>\n",
       "      <td>2019-10-07 00:00:01</td>\n",
       "      <td>tips_show</td>\n",
       "      <td>020292ab-89bc-4156-9acf-68bc2783f894</td>\n",
       "    </tr>\n",
       "    <tr>\n",
       "      <th>2</th>\n",
       "      <td>2019-10-07 00:00:02</td>\n",
       "      <td>tips_show</td>\n",
       "      <td>cf7eda61-9349-469f-ac27-e5b6f5ec475c</td>\n",
       "    </tr>\n",
       "    <tr>\n",
       "      <th>3</th>\n",
       "      <td>2019-10-07 00:00:07</td>\n",
       "      <td>tips_show</td>\n",
       "      <td>020292ab-89bc-4156-9acf-68bc2783f894</td>\n",
       "    </tr>\n",
       "    <tr>\n",
       "      <th>4</th>\n",
       "      <td>2019-10-07 00:00:56</td>\n",
       "      <td>advert_open</td>\n",
       "      <td>cf7eda61-9349-469f-ac27-e5b6f5ec475c</td>\n",
       "    </tr>\n",
       "  </tbody>\n",
       "</table>\n",
       "</div>"
      ],
      "text/plain": [
       "           event_time   event_name                               user_id\n",
       "0 2019-10-07 00:00:00  advert_open  020292ab-89bc-4156-9acf-68bc2783f894\n",
       "1 2019-10-07 00:00:01    tips_show  020292ab-89bc-4156-9acf-68bc2783f894\n",
       "2 2019-10-07 00:00:02    tips_show  cf7eda61-9349-469f-ac27-e5b6f5ec475c\n",
       "3 2019-10-07 00:00:07    tips_show  020292ab-89bc-4156-9acf-68bc2783f894\n",
       "4 2019-10-07 00:00:56  advert_open  cf7eda61-9349-469f-ac27-e5b6f5ec475c"
      ]
     },
     "execution_count": 9,
     "metadata": {},
     "output_type": "execute_result"
    }
   ],
   "source": [
    "# переименование колонок датасета mobile_dataset\n",
    "\n",
    "mobile_dataset.set_axis(['event_time', 'event_name', 'user_id'], axis = 'columns', inplace = True)\n",
    "\n",
    "mobile_dataset.head()"
   ]
  },
  {
   "cell_type": "markdown",
   "metadata": {},
   "source": [
    "Аналогичная первичная обработка датасета mobile_sources"
   ]
  },
  {
   "cell_type": "code",
   "execution_count": 10,
   "metadata": {},
   "outputs": [
    {
     "data": {
      "text/html": [
       "<div>\n",
       "<style scoped>\n",
       "    .dataframe tbody tr th:only-of-type {\n",
       "        vertical-align: middle;\n",
       "    }\n",
       "\n",
       "    .dataframe tbody tr th {\n",
       "        vertical-align: top;\n",
       "    }\n",
       "\n",
       "    .dataframe thead th {\n",
       "        text-align: right;\n",
       "    }\n",
       "</style>\n",
       "<table border=\"1\" class=\"dataframe\">\n",
       "  <thead>\n",
       "    <tr style=\"text-align: right;\">\n",
       "      <th></th>\n",
       "      <th>userId</th>\n",
       "      <th>source</th>\n",
       "    </tr>\n",
       "  </thead>\n",
       "  <tbody>\n",
       "    <tr>\n",
       "      <th>0</th>\n",
       "      <td>020292ab-89bc-4156-9acf-68bc2783f894</td>\n",
       "      <td>other</td>\n",
       "    </tr>\n",
       "    <tr>\n",
       "      <th>1</th>\n",
       "      <td>cf7eda61-9349-469f-ac27-e5b6f5ec475c</td>\n",
       "      <td>yandex</td>\n",
       "    </tr>\n",
       "    <tr>\n",
       "      <th>2</th>\n",
       "      <td>8c356c42-3ba9-4cb6-80b8-3f868d0192c3</td>\n",
       "      <td>yandex</td>\n",
       "    </tr>\n",
       "    <tr>\n",
       "      <th>3</th>\n",
       "      <td>d9b06b47-0f36-419b-bbb0-3533e582a6cb</td>\n",
       "      <td>other</td>\n",
       "    </tr>\n",
       "    <tr>\n",
       "      <th>4</th>\n",
       "      <td>f32e1e2a-3027-4693-b793-b7b3ff274439</td>\n",
       "      <td>google</td>\n",
       "    </tr>\n",
       "  </tbody>\n",
       "</table>\n",
       "</div>"
      ],
      "text/plain": [
       "                                 userId  source\n",
       "0  020292ab-89bc-4156-9acf-68bc2783f894   other\n",
       "1  cf7eda61-9349-469f-ac27-e5b6f5ec475c  yandex\n",
       "2  8c356c42-3ba9-4cb6-80b8-3f868d0192c3  yandex\n",
       "3  d9b06b47-0f36-419b-bbb0-3533e582a6cb   other\n",
       "4  f32e1e2a-3027-4693-b793-b7b3ff274439  google"
      ]
     },
     "metadata": {},
     "output_type": "display_data"
    }
   ],
   "source": [
    "# распаковка и вывод на экран датасета mobile_sources\n",
    "\n",
    "mobile_sources = pd.read_csv('/datasets/mobile_soures.csv')\n",
    "\n",
    "display(mobile_sources.head())"
   ]
  },
  {
   "cell_type": "code",
   "execution_count": 11,
   "metadata": {},
   "outputs": [
    {
     "name": "stdout",
     "output_type": "stream",
     "text": [
      "<class 'pandas.core.frame.DataFrame'>\n",
      "RangeIndex: 4293 entries, 0 to 4292\n",
      "Data columns (total 2 columns):\n",
      " #   Column  Non-Null Count  Dtype \n",
      "---  ------  --------------  ----- \n",
      " 0   userId  4293 non-null   object\n",
      " 1   source  4293 non-null   object\n",
      "dtypes: object(2)\n",
      "memory usage: 67.2+ KB\n"
     ]
    }
   ],
   "source": [
    "# вывод информации о данных в датасете mobile_sources\n",
    "\n",
    "mobile_sources.info()"
   ]
  },
  {
   "cell_type": "code",
   "execution_count": 12,
   "metadata": {},
   "outputs": [
    {
     "data": {
      "text/html": [
       "<div>\n",
       "<style scoped>\n",
       "    .dataframe tbody tr th:only-of-type {\n",
       "        vertical-align: middle;\n",
       "    }\n",
       "\n",
       "    .dataframe tbody tr th {\n",
       "        vertical-align: top;\n",
       "    }\n",
       "\n",
       "    .dataframe thead th {\n",
       "        text-align: right;\n",
       "    }\n",
       "</style>\n",
       "<table border=\"1\" class=\"dataframe\">\n",
       "  <thead>\n",
       "    <tr style=\"text-align: right;\">\n",
       "      <th></th>\n",
       "      <th>userId</th>\n",
       "      <th>source</th>\n",
       "    </tr>\n",
       "  </thead>\n",
       "  <tbody>\n",
       "    <tr>\n",
       "      <th>count</th>\n",
       "      <td>4293</td>\n",
       "      <td>4293</td>\n",
       "    </tr>\n",
       "    <tr>\n",
       "      <th>unique</th>\n",
       "      <td>4293</td>\n",
       "      <td>3</td>\n",
       "    </tr>\n",
       "    <tr>\n",
       "      <th>top</th>\n",
       "      <td>5464372c-83d0-4ee2-9452-2cd698c4d591</td>\n",
       "      <td>yandex</td>\n",
       "    </tr>\n",
       "    <tr>\n",
       "      <th>freq</th>\n",
       "      <td>1</td>\n",
       "      <td>1934</td>\n",
       "    </tr>\n",
       "  </tbody>\n",
       "</table>\n",
       "</div>"
      ],
      "text/plain": [
       "                                      userId  source\n",
       "count                                   4293    4293\n",
       "unique                                  4293       3\n",
       "top     5464372c-83d0-4ee2-9452-2cd698c4d591  yandex\n",
       "freq                                       1    1934"
      ]
     },
     "execution_count": 12,
     "metadata": {},
     "output_type": "execute_result"
    }
   ],
   "source": [
    "# дополнительный вывод информации о данных в датасете mobile_sources\n",
    "\n",
    "mobile_sources.describe()"
   ]
  },
  {
   "cell_type": "code",
   "execution_count": 13,
   "metadata": {},
   "outputs": [
    {
     "name": "stdout",
     "output_type": "stream",
     "text": [
      "Дубликатов в данных: 0\n"
     ]
    }
   ],
   "source": [
    "# вывод информации о дубликатах данных в датасете mobile_sources\n",
    "\n",
    "print('Дубликатов в данных:', mobile_sources.duplicated().sum())"
   ]
  },
  {
   "cell_type": "code",
   "execution_count": 14,
   "metadata": {},
   "outputs": [
    {
     "data": {
      "text/plain": [
       "yandex    1934\n",
       "other     1230\n",
       "google    1129\n",
       "Name: source, dtype: int64"
      ]
     },
     "execution_count": 14,
     "metadata": {},
     "output_type": "execute_result"
    }
   ],
   "source": [
    "# просмотр количества строк для каждого источника (source) в датасете mobile_sources\n",
    "\n",
    "mobile_sources['source'].value_counts()"
   ]
  },
  {
   "cell_type": "markdown",
   "metadata": {},
   "source": [
    "Датасет mobile_sources содержит 2 колонки и 4293 строки без пропусков. Дубликатов в датасете не обнаружено. Все данные типа object.\n",
    "\n",
    "Колонки датасета:\n",
    "\n",
    "* userId - идентификатор пользователя. Уникальных пользователей в датасете 4293. Тип данных колонки изменять не нужно. \n",
    "\n",
    "\n",
    "* source - источник, с которого пользователь установил приложение. Количество источников - 3, это: yandex (1934 записи), google (1129 записей), other (другой источник, 1230 записей). Тип данных колонки изменять не нужно. \n",
    "\n",
    "\n",
    "Число уникальных пользователей (номеров id) в датасетах mobile_dataset и mobile_sources одинаково.\n",
    "\n",
    "\n",
    "Для унификации и возможного дальнейшего объединения датасетов, колонку userId необходимо переименовать. \n",
    "\n"
   ]
  },
  {
   "cell_type": "code",
   "execution_count": 15,
   "metadata": {},
   "outputs": [
    {
     "data": {
      "text/html": [
       "<div>\n",
       "<style scoped>\n",
       "    .dataframe tbody tr th:only-of-type {\n",
       "        vertical-align: middle;\n",
       "    }\n",
       "\n",
       "    .dataframe tbody tr th {\n",
       "        vertical-align: top;\n",
       "    }\n",
       "\n",
       "    .dataframe thead th {\n",
       "        text-align: right;\n",
       "    }\n",
       "</style>\n",
       "<table border=\"1\" class=\"dataframe\">\n",
       "  <thead>\n",
       "    <tr style=\"text-align: right;\">\n",
       "      <th></th>\n",
       "      <th>user_id</th>\n",
       "      <th>source</th>\n",
       "    </tr>\n",
       "  </thead>\n",
       "  <tbody>\n",
       "    <tr>\n",
       "      <th>0</th>\n",
       "      <td>020292ab-89bc-4156-9acf-68bc2783f894</td>\n",
       "      <td>other</td>\n",
       "    </tr>\n",
       "    <tr>\n",
       "      <th>1</th>\n",
       "      <td>cf7eda61-9349-469f-ac27-e5b6f5ec475c</td>\n",
       "      <td>yandex</td>\n",
       "    </tr>\n",
       "    <tr>\n",
       "      <th>2</th>\n",
       "      <td>8c356c42-3ba9-4cb6-80b8-3f868d0192c3</td>\n",
       "      <td>yandex</td>\n",
       "    </tr>\n",
       "    <tr>\n",
       "      <th>3</th>\n",
       "      <td>d9b06b47-0f36-419b-bbb0-3533e582a6cb</td>\n",
       "      <td>other</td>\n",
       "    </tr>\n",
       "    <tr>\n",
       "      <th>4</th>\n",
       "      <td>f32e1e2a-3027-4693-b793-b7b3ff274439</td>\n",
       "      <td>google</td>\n",
       "    </tr>\n",
       "  </tbody>\n",
       "</table>\n",
       "</div>"
      ],
      "text/plain": [
       "                                user_id  source\n",
       "0  020292ab-89bc-4156-9acf-68bc2783f894   other\n",
       "1  cf7eda61-9349-469f-ac27-e5b6f5ec475c  yandex\n",
       "2  8c356c42-3ba9-4cb6-80b8-3f868d0192c3  yandex\n",
       "3  d9b06b47-0f36-419b-bbb0-3533e582a6cb   other\n",
       "4  f32e1e2a-3027-4693-b793-b7b3ff274439  google"
      ]
     },
     "execution_count": 15,
     "metadata": {},
     "output_type": "execute_result"
    }
   ],
   "source": [
    "# переименование колонки датасета mobile_sources\n",
    "\n",
    "mobile_sources.set_axis(['user_id', 'source'], axis = 'columns', inplace = True)\n",
    "\n",
    "mobile_sources.head()"
   ]
  },
  {
   "cell_type": "markdown",
   "metadata": {},
   "source": [
    "## 1.2 Просмотр агрегированных данных\n",
    "Просмотр агрегированных данных методами min(), max(), mean(), median(). Построение и анализ гистограмм распределения и диаграмм разброса значений параметров. Оценка выбросов. "
   ]
  },
  {
   "cell_type": "code",
   "execution_count": 16,
   "metadata": {},
   "outputs": [
    {
     "data": {
      "text/plain": [
       "Timestamp('2019-10-07 00:00:00')"
      ]
     },
     "execution_count": 16,
     "metadata": {},
     "output_type": "execute_result"
    }
   ],
   "source": [
    "# определение самой ранней даты события в датасете mobile_dataset\n",
    "\n",
    "mobile_dataset['event_time'].min()"
   ]
  },
  {
   "cell_type": "code",
   "execution_count": 17,
   "metadata": {},
   "outputs": [
    {
     "data": {
      "text/plain": [
       "Timestamp('2019-11-03 23:58:13')"
      ]
     },
     "execution_count": 17,
     "metadata": {},
     "output_type": "execute_result"
    }
   ],
   "source": [
    "# определение самой поздней даты события в датасете mobile_dataset\n",
    "\n",
    "mobile_dataset['event_time'].max()"
   ]
  },
  {
   "cell_type": "code",
   "execution_count": 18,
   "metadata": {},
   "outputs": [
    {
     "data": {
      "image/png": "[encoded data removed]",
      "text/plain": [
       "<Figure size 432x288 with 1 Axes>"
      ]
     },
     "metadata": {
      "needs_background": "light"
     },
     "output_type": "display_data"
    }
   ],
   "source": [
    "# построение гистограммы распределения числа событий по датам\n",
    "\n",
    "mobile_dataset['event_time'].hist(bins=40)\n",
    "plt.rcParams[\"figure.figsize\"] = (10, 7)\n",
    "plt.xticks(rotation=40)\n",
    "plt.title('Количество событий в исследуемый период', fontsize=20)\n",
    "plt.xlabel('Дата события', fontsize=15)\n",
    "plt.ylabel('Количество событий', fontsize=15)\n",
    "plt.show()"
   ]
  },
  {
   "cell_type": "markdown",
   "metadata": {},
   "source": [
    "Самая ранняя дата в датасете это 00:00:00 7 октября 2019 года.\n",
    "\n",
    "\n",
    "Самая поздняя дата в датасете это  23:58:13 3 ноября 2019 года.\n",
    "\n",
    "\n",
    "Распределение событий по датам на всём протяжении исследуемого периода колеблется около значения 1500 событий в день. В отдельные дни число событий падает до значений 1000 событий в день и менее, в отдельные дни достигает значения 2500 событий в день и более.\n",
    "\n",
    "\n",
    "Регулярность увеличения и снижения числа событий по дням не визуально наблюдается."
   ]
  },
  {
   "cell_type": "code",
   "execution_count": 19,
   "metadata": {},
   "outputs": [
    {
     "data": {
      "text/plain": [
       "cb36854f-570a-41f4-baa8-36680b396370    478\n",
       "e13f9f32-7ae3-4204-8d60-898db040bcfc    465\n",
       "9ce63488-758a-481a-bcb5-a02b467e1d84    407\n",
       "21230dd9-2f7f-4b77-a436-43d4d10388e0    400\n",
       "be1449f6-ca45-4f94-93a7-ea4b079b8f0f    397\n",
       "                                       ... \n",
       "c9087b41-3e83-4551-ae77-7a107f992052      1\n",
       "3ac69839-e9d8-4cef-8306-9076e6358619      1\n",
       "6a21a8dc-c9a6-49fa-a8e7-5a3cad431004      1\n",
       "90aec49c-47f7-41ba-bc28-416855b51d6b      1\n",
       "5bfdb95a-9d12-4436-b371-22754434d0d4      1\n",
       "Name: user_id, Length: 4293, dtype: int64"
      ]
     },
     "execution_count": 19,
     "metadata": {},
     "output_type": "execute_result"
    }
   ],
   "source": [
    "# выявление максимального и минимального количества событий для отдельного пользователя\n",
    "\n",
    "mobile_dataset['user_id'].value_counts()"
   ]
  },
  {
   "cell_type": "code",
   "execution_count": 20,
   "metadata": {},
   "outputs": [
    {
     "name": "stdout",
     "output_type": "stream",
     "text": [
      "Верхняя граница количества событий, выше которой значения признаются выбросами: 35.0\n"
     ]
    }
   ],
   "source": [
    "# расчёт верхней границы выбросов значений числа событий (действий) пользователя в приложении\n",
    "\n",
    "q1 = mobile_dataset['user_id'].value_counts().quantile(0.25)\n",
    "q3 = mobile_dataset['user_id'].value_counts().quantile(0.75)\n",
    "iqr = q3 - q1  \n",
    "print('Верхняя граница количества событий, выше которой значения признаются выбросами:', \n",
    "      (q3 + 1.5 * iqr))"
   ]
  },
  {
   "cell_type": "code",
   "execution_count": 21,
   "metadata": {},
   "outputs": [
    {
     "data": {
      "text/plain": [
       "17.283251805264385"
      ]
     },
     "execution_count": 21,
     "metadata": {},
     "output_type": "execute_result"
    }
   ],
   "source": [
    "# расчёт среднего числа событий (действий) пользователя в приложении\n",
    "\n",
    "mobile_dataset['user_id'].value_counts().mean()"
   ]
  },
  {
   "cell_type": "code",
   "execution_count": 22,
   "metadata": {},
   "outputs": [
    {
     "data": {
      "text/plain": [
       "9.0"
      ]
     },
     "execution_count": 22,
     "metadata": {},
     "output_type": "execute_result"
    }
   ],
   "source": [
    "# расчёт медианного значения числа событий (действий) пользователя в приложении\n",
    "\n",
    "mobile_dataset['user_id'].value_counts().median()"
   ]
  },
  {
   "cell_type": "code",
   "execution_count": 23,
   "metadata": {},
   "outputs": [
    {
     "data": {
      "image/png": "[encoded data removed]",
      "text/plain": [
       "<Figure size 720x504 with 1 Axes>"
      ]
     },
     "metadata": {
      "needs_background": "light"
     },
     "output_type": "display_data"
    }
   ],
   "source": [
    "# визуализация распределения количества событий на каждого пользователя\n",
    "\n",
    "mobile_dataset['user_id'].value_counts().hist(bins = 40, range = (0, 40))\n",
    "plt.rcParams[\"figure.figsize\"] = (10, 7)\n",
    "plt.title('Распределение количества событий на каждого пользователя', fontsize=20)\n",
    "plt.xlabel('Количество событий', fontsize=15)\n",
    "plt.ylabel('Количество пользователей', fontsize=15)\n",
    "plt.show()"
   ]
  },
  {
   "cell_type": "markdown",
   "metadata": {},
   "source": [
    "В датасете содержатся id пользователей с различной активностью. Максимальное количество действий (событий), приходящееся на одного пользователя составляет 478. Часть пользователей совершили лишь одно действие (событие). \n",
    "\n",
    "\n",
    "Более 35 совершённых в приложении действий является необычным поведением пользователя. В среднем пользователь совершает 17 действий в приложении. Чаще всего пользователь в приложении совершает от 4 до 7 действий. Пользователей, совершивших в приложении лишь 1 действие невелико.\n"
   ]
  },
  {
   "cell_type": "markdown",
   "metadata": {},
   "source": [
    "## 1.3 Объединение датасетов\n",
    "Объединение датасетов методом merge() по столбцу user_id. "
   ]
  },
  {
   "cell_type": "code",
   "execution_count": 24,
   "metadata": {},
   "outputs": [
    {
     "data": {
      "text/html": [
       "<div>\n",
       "<style scoped>\n",
       "    .dataframe tbody tr th:only-of-type {\n",
       "        vertical-align: middle;\n",
       "    }\n",
       "\n",
       "    .dataframe tbody tr th {\n",
       "        vertical-align: top;\n",
       "    }\n",
       "\n",
       "    .dataframe thead th {\n",
       "        text-align: right;\n",
       "    }\n",
       "</style>\n",
       "<table border=\"1\" class=\"dataframe\">\n",
       "  <thead>\n",
       "    <tr style=\"text-align: right;\">\n",
       "      <th></th>\n",
       "      <th>event_time</th>\n",
       "      <th>event_name</th>\n",
       "      <th>user_id</th>\n",
       "      <th>source</th>\n",
       "    </tr>\n",
       "  </thead>\n",
       "  <tbody>\n",
       "    <tr>\n",
       "      <th>0</th>\n",
       "      <td>2019-10-07 00:00:00</td>\n",
       "      <td>advert_open</td>\n",
       "      <td>020292ab-89bc-4156-9acf-68bc2783f894</td>\n",
       "      <td>other</td>\n",
       "    </tr>\n",
       "    <tr>\n",
       "      <th>1</th>\n",
       "      <td>2019-10-07 00:00:01</td>\n",
       "      <td>tips_show</td>\n",
       "      <td>020292ab-89bc-4156-9acf-68bc2783f894</td>\n",
       "      <td>other</td>\n",
       "    </tr>\n",
       "    <tr>\n",
       "      <th>2</th>\n",
       "      <td>2019-10-07 00:00:02</td>\n",
       "      <td>tips_show</td>\n",
       "      <td>cf7eda61-9349-469f-ac27-e5b6f5ec475c</td>\n",
       "      <td>yandex</td>\n",
       "    </tr>\n",
       "    <tr>\n",
       "      <th>3</th>\n",
       "      <td>2019-10-07 00:00:07</td>\n",
       "      <td>tips_show</td>\n",
       "      <td>020292ab-89bc-4156-9acf-68bc2783f894</td>\n",
       "      <td>other</td>\n",
       "    </tr>\n",
       "    <tr>\n",
       "      <th>4</th>\n",
       "      <td>2019-10-07 00:00:56</td>\n",
       "      <td>advert_open</td>\n",
       "      <td>cf7eda61-9349-469f-ac27-e5b6f5ec475c</td>\n",
       "      <td>yandex</td>\n",
       "    </tr>\n",
       "  </tbody>\n",
       "</table>\n",
       "</div>"
      ],
      "text/plain": [
       "           event_time   event_name                               user_id  \\\n",
       "0 2019-10-07 00:00:00  advert_open  020292ab-89bc-4156-9acf-68bc2783f894   \n",
       "1 2019-10-07 00:00:01    tips_show  020292ab-89bc-4156-9acf-68bc2783f894   \n",
       "2 2019-10-07 00:00:02    tips_show  cf7eda61-9349-469f-ac27-e5b6f5ec475c   \n",
       "3 2019-10-07 00:00:07    tips_show  020292ab-89bc-4156-9acf-68bc2783f894   \n",
       "4 2019-10-07 00:00:56  advert_open  cf7eda61-9349-469f-ac27-e5b6f5ec475c   \n",
       "\n",
       "   source  \n",
       "0   other  \n",
       "1   other  \n",
       "2  yandex  \n",
       "3   other  \n",
       "4  yandex  "
      ]
     },
     "metadata": {},
     "output_type": "display_data"
    },
    {
     "name": "stdout",
     "output_type": "stream",
     "text": [
      "<class 'pandas.core.frame.DataFrame'>\n",
      "Int64Index: 74197 entries, 0 to 74196\n",
      "Data columns (total 4 columns):\n",
      " #   Column      Non-Null Count  Dtype         \n",
      "---  ------      --------------  -----         \n",
      " 0   event_time  74197 non-null  datetime64[ns]\n",
      " 1   event_name  74197 non-null  object        \n",
      " 2   user_id     74197 non-null  object        \n",
      " 3   source      74197 non-null  object        \n",
      "dtypes: datetime64[ns](1), object(3)\n",
      "memory usage: 2.8+ MB\n"
     ]
    }
   ],
   "source": [
    "# объединение датасетов методом merge() по столбцу user_id и вывод общего датасета\n",
    "\n",
    "dataset = (\n",
    "    mobile_dataset.merge(\n",
    "        mobile_sources, left_on='user_id', right_on='user_id', how='left')\n",
    "    )\n",
    "\n",
    "display(dataset.head())\n",
    "dataset.info()"
   ]
  },
  {
   "cell_type": "markdown",
   "metadata": {},
   "source": [
    "Объединённый датасет dataset содержит 74197 строк и 4 столбца без пропусков. Объединение прошло без потерь данных, все данные необходимого типа.\n"
   ]
  },
  {
   "cell_type": "markdown",
   "metadata": {},
   "source": [
    "# 2 Сегментация \n",
    "Сегментирование - разбиение на две неравные группы пользователей по признаку их действий. Расчёт метрик, когортный анализ. Построение иллюстрирующих графиков. Выделение групп клиентов по расчитанным ранее метрикам. Описание характерных признаков и отличий пользовательских групп.\n",
    "Расчёт метрик: retention rate, конверсия в просмотры контактов, время, проведённое в приложении клиентом, частота действий клиентов в приложении."
   ]
  },
  {
   "cell_type": "markdown",
   "metadata": {},
   "source": [
    "Сегментация пользователей приложения основывается на ранее определённым аномально большом числе событий:\n",
    "\n",
    "* toomuch_events - пользователи, совершившие более 35-ти событий;\n",
    "\n",
    "\n",
    "* medium_events - пользователи, совершившие 35 и менее событий.\n",
    "\n",
    "\n",
    "Выбор критерия \"число совершённых пользователем событий в приложении\" для сегментирования пользователеей на группы обусловлен вопросом: не являются ли все эти избыточные (с т.з. распределения количества действий среди пользователей)  действия пользователей в приложении бесцельным блужданием, праздным нажатием кнопок и просмотром фотографий ради рассматривания фотографий, не приводящими к полезным действиям?\n",
    "\n",
    "\n",
    "----------------\n",
    "\n",
    "Для удобства рассчётов рассматриваются недельные когорты и лайфтаймы."
   ]
  },
  {
   "cell_type": "code",
   "execution_count": 25,
   "metadata": {},
   "outputs": [
    {
     "data": {
      "text/html": [
       "<div>\n",
       "<style scoped>\n",
       "    .dataframe tbody tr th:only-of-type {\n",
       "        vertical-align: middle;\n",
       "    }\n",
       "\n",
       "    .dataframe tbody tr th {\n",
       "        vertical-align: top;\n",
       "    }\n",
       "\n",
       "    .dataframe thead th {\n",
       "        text-align: right;\n",
       "    }\n",
       "</style>\n",
       "<table border=\"1\" class=\"dataframe\">\n",
       "  <thead>\n",
       "    <tr style=\"text-align: right;\">\n",
       "      <th></th>\n",
       "      <th>user_id</th>\n",
       "      <th>number_events</th>\n",
       "    </tr>\n",
       "  </thead>\n",
       "  <tbody>\n",
       "    <tr>\n",
       "      <th>0</th>\n",
       "      <td>0001b1d5-b74a-4cbf-aeb0-7df5947bf349</td>\n",
       "      <td>35</td>\n",
       "    </tr>\n",
       "    <tr>\n",
       "      <th>1</th>\n",
       "      <td>00157779-810c-4498-9e05-a1e9e3cedf93</td>\n",
       "      <td>71</td>\n",
       "    </tr>\n",
       "    <tr>\n",
       "      <th>2</th>\n",
       "      <td>00463033-5717-4bf1-91b4-09183923b9df</td>\n",
       "      <td>10</td>\n",
       "    </tr>\n",
       "    <tr>\n",
       "      <th>3</th>\n",
       "      <td>004690c3-5a84-4bb7-a8af-e0c8f8fca64e</td>\n",
       "      <td>32</td>\n",
       "    </tr>\n",
       "    <tr>\n",
       "      <th>4</th>\n",
       "      <td>00551e79-152e-4441-9cf7-565d7eb04090</td>\n",
       "      <td>8</td>\n",
       "    </tr>\n",
       "    <tr>\n",
       "      <th>...</th>\n",
       "      <td>...</td>\n",
       "      <td>...</td>\n",
       "    </tr>\n",
       "    <tr>\n",
       "      <th>4288</th>\n",
       "      <td>ffab8d8a-30bb-424a-a3ab-0b63ebbf7b07</td>\n",
       "      <td>17</td>\n",
       "    </tr>\n",
       "    <tr>\n",
       "      <th>4289</th>\n",
       "      <td>ffc01466-fdb1-4460-ae94-e800f52eb136</td>\n",
       "      <td>7</td>\n",
       "    </tr>\n",
       "    <tr>\n",
       "      <th>4290</th>\n",
       "      <td>ffcf50d9-293c-4254-8243-4890b030b238</td>\n",
       "      <td>2</td>\n",
       "    </tr>\n",
       "    <tr>\n",
       "      <th>4291</th>\n",
       "      <td>ffe68f10-e48e-470e-be9b-eeb93128ff1a</td>\n",
       "      <td>13</td>\n",
       "    </tr>\n",
       "    <tr>\n",
       "      <th>4292</th>\n",
       "      <td>fffb9e79-b927-4dbb-9b48-7fd09b23a62b</td>\n",
       "      <td>303</td>\n",
       "    </tr>\n",
       "  </tbody>\n",
       "</table>\n",
       "<p>4293 rows × 2 columns</p>\n",
       "</div>"
      ],
      "text/plain": [
       "                                   user_id  number_events\n",
       "0     0001b1d5-b74a-4cbf-aeb0-7df5947bf349             35\n",
       "1     00157779-810c-4498-9e05-a1e9e3cedf93             71\n",
       "2     00463033-5717-4bf1-91b4-09183923b9df             10\n",
       "3     004690c3-5a84-4bb7-a8af-e0c8f8fca64e             32\n",
       "4     00551e79-152e-4441-9cf7-565d7eb04090              8\n",
       "...                                    ...            ...\n",
       "4288  ffab8d8a-30bb-424a-a3ab-0b63ebbf7b07             17\n",
       "4289  ffc01466-fdb1-4460-ae94-e800f52eb136              7\n",
       "4290  ffcf50d9-293c-4254-8243-4890b030b238              2\n",
       "4291  ffe68f10-e48e-470e-be9b-eeb93128ff1a             13\n",
       "4292  fffb9e79-b927-4dbb-9b48-7fd09b23a62b            303\n",
       "\n",
       "[4293 rows x 2 columns]"
      ]
     },
     "execution_count": 25,
     "metadata": {},
     "output_type": "execute_result"
    }
   ],
   "source": [
    "# подсчёт количества событий каждым уникальным пользователем\n",
    "\n",
    "profilesn = (\n",
    "    dataset\n",
    "        .sort_values(by=['user_id', 'event_name'])\n",
    "        .groupby('user_id')\n",
    "        .agg({'event_name':'count'})\n",
    "        .rename(columns={'event_name':'number_events'})\n",
    "        .reset_index()\n",
    ")\n",
    "\n",
    "profilesn"
   ]
  },
  {
   "cell_type": "code",
   "execution_count": 26,
   "metadata": {},
   "outputs": [
    {
     "data": {
      "text/html": [
       "<div>\n",
       "<style scoped>\n",
       "    .dataframe tbody tr th:only-of-type {\n",
       "        vertical-align: middle;\n",
       "    }\n",
       "\n",
       "    .dataframe tbody tr th {\n",
       "        vertical-align: top;\n",
       "    }\n",
       "\n",
       "    .dataframe thead th {\n",
       "        text-align: right;\n",
       "    }\n",
       "</style>\n",
       "<table border=\"1\" class=\"dataframe\">\n",
       "  <thead>\n",
       "    <tr style=\"text-align: right;\">\n",
       "      <th></th>\n",
       "      <th>event_time</th>\n",
       "      <th>event_name</th>\n",
       "      <th>user_id</th>\n",
       "      <th>source</th>\n",
       "      <th>number_events</th>\n",
       "    </tr>\n",
       "  </thead>\n",
       "  <tbody>\n",
       "    <tr>\n",
       "      <th>0</th>\n",
       "      <td>2019-10-07 00:00:00</td>\n",
       "      <td>advert_open</td>\n",
       "      <td>020292ab-89bc-4156-9acf-68bc2783f894</td>\n",
       "      <td>other</td>\n",
       "      <td>28</td>\n",
       "    </tr>\n",
       "    <tr>\n",
       "      <th>1</th>\n",
       "      <td>2019-10-07 00:00:01</td>\n",
       "      <td>tips_show</td>\n",
       "      <td>020292ab-89bc-4156-9acf-68bc2783f894</td>\n",
       "      <td>other</td>\n",
       "      <td>28</td>\n",
       "    </tr>\n",
       "    <tr>\n",
       "      <th>2</th>\n",
       "      <td>2019-10-07 00:00:07</td>\n",
       "      <td>tips_show</td>\n",
       "      <td>020292ab-89bc-4156-9acf-68bc2783f894</td>\n",
       "      <td>other</td>\n",
       "      <td>28</td>\n",
       "    </tr>\n",
       "    <tr>\n",
       "      <th>3</th>\n",
       "      <td>2019-10-07 00:01:28</td>\n",
       "      <td>advert_open</td>\n",
       "      <td>020292ab-89bc-4156-9acf-68bc2783f894</td>\n",
       "      <td>other</td>\n",
       "      <td>28</td>\n",
       "    </tr>\n",
       "    <tr>\n",
       "      <th>4</th>\n",
       "      <td>2019-10-07 00:01:35</td>\n",
       "      <td>tips_show</td>\n",
       "      <td>020292ab-89bc-4156-9acf-68bc2783f894</td>\n",
       "      <td>other</td>\n",
       "      <td>28</td>\n",
       "    </tr>\n",
       "    <tr>\n",
       "      <th>...</th>\n",
       "      <td>...</td>\n",
       "      <td>...</td>\n",
       "      <td>...</td>\n",
       "      <td>...</td>\n",
       "      <td>...</td>\n",
       "    </tr>\n",
       "    <tr>\n",
       "      <th>74192</th>\n",
       "      <td>2019-11-03 23:46:47</td>\n",
       "      <td>map</td>\n",
       "      <td>d157bffc-264d-4464-8220-1cc0c42f43a9</td>\n",
       "      <td>google</td>\n",
       "      <td>5</td>\n",
       "    </tr>\n",
       "    <tr>\n",
       "      <th>74193</th>\n",
       "      <td>2019-11-03 23:46:59</td>\n",
       "      <td>advert_open</td>\n",
       "      <td>d157bffc-264d-4464-8220-1cc0c42f43a9</td>\n",
       "      <td>google</td>\n",
       "      <td>5</td>\n",
       "    </tr>\n",
       "    <tr>\n",
       "      <th>74194</th>\n",
       "      <td>2019-11-03 23:47:01</td>\n",
       "      <td>tips_show</td>\n",
       "      <td>d157bffc-264d-4464-8220-1cc0c42f43a9</td>\n",
       "      <td>google</td>\n",
       "      <td>5</td>\n",
       "    </tr>\n",
       "    <tr>\n",
       "      <th>74195</th>\n",
       "      <td>2019-11-03 23:47:47</td>\n",
       "      <td>advert_open</td>\n",
       "      <td>d157bffc-264d-4464-8220-1cc0c42f43a9</td>\n",
       "      <td>google</td>\n",
       "      <td>5</td>\n",
       "    </tr>\n",
       "    <tr>\n",
       "      <th>74196</th>\n",
       "      <td>2019-11-03 23:47:50</td>\n",
       "      <td>tips_show</td>\n",
       "      <td>d157bffc-264d-4464-8220-1cc0c42f43a9</td>\n",
       "      <td>google</td>\n",
       "      <td>5</td>\n",
       "    </tr>\n",
       "  </tbody>\n",
       "</table>\n",
       "<p>74197 rows × 5 columns</p>\n",
       "</div>"
      ],
      "text/plain": [
       "               event_time   event_name                               user_id  \\\n",
       "0     2019-10-07 00:00:00  advert_open  020292ab-89bc-4156-9acf-68bc2783f894   \n",
       "1     2019-10-07 00:00:01    tips_show  020292ab-89bc-4156-9acf-68bc2783f894   \n",
       "2     2019-10-07 00:00:07    tips_show  020292ab-89bc-4156-9acf-68bc2783f894   \n",
       "3     2019-10-07 00:01:28  advert_open  020292ab-89bc-4156-9acf-68bc2783f894   \n",
       "4     2019-10-07 00:01:35    tips_show  020292ab-89bc-4156-9acf-68bc2783f894   \n",
       "...                   ...          ...                                   ...   \n",
       "74192 2019-11-03 23:46:47          map  d157bffc-264d-4464-8220-1cc0c42f43a9   \n",
       "74193 2019-11-03 23:46:59  advert_open  d157bffc-264d-4464-8220-1cc0c42f43a9   \n",
       "74194 2019-11-03 23:47:01    tips_show  d157bffc-264d-4464-8220-1cc0c42f43a9   \n",
       "74195 2019-11-03 23:47:47  advert_open  d157bffc-264d-4464-8220-1cc0c42f43a9   \n",
       "74196 2019-11-03 23:47:50    tips_show  d157bffc-264d-4464-8220-1cc0c42f43a9   \n",
       "\n",
       "       source  number_events  \n",
       "0       other             28  \n",
       "1       other             28  \n",
       "2       other             28  \n",
       "3       other             28  \n",
       "4       other             28  \n",
       "...       ...            ...  \n",
       "74192  google              5  \n",
       "74193  google              5  \n",
       "74194  google              5  \n",
       "74195  google              5  \n",
       "74196  google              5  \n",
       "\n",
       "[74197 rows x 5 columns]"
      ]
     },
     "execution_count": 26,
     "metadata": {},
     "output_type": "execute_result"
    }
   ],
   "source": [
    "# добавление результатов предыдущего шага к общему датасету\n",
    "\n",
    "dataset_n = dataset.merge(profilesn, on='user_id')   \n",
    "\n",
    "dataset_n"
   ]
  },
  {
   "cell_type": "code",
   "execution_count": 27,
   "metadata": {},
   "outputs": [
    {
     "data": {
      "text/html": [
       "<div>\n",
       "<style scoped>\n",
       "    .dataframe tbody tr th:only-of-type {\n",
       "        vertical-align: middle;\n",
       "    }\n",
       "\n",
       "    .dataframe tbody tr th {\n",
       "        vertical-align: top;\n",
       "    }\n",
       "\n",
       "    .dataframe thead th {\n",
       "        text-align: right;\n",
       "    }\n",
       "</style>\n",
       "<table border=\"1\" class=\"dataframe\">\n",
       "  <thead>\n",
       "    <tr style=\"text-align: right;\">\n",
       "      <th></th>\n",
       "      <th>event_time</th>\n",
       "      <th>event_name</th>\n",
       "      <th>user_id</th>\n",
       "      <th>source</th>\n",
       "      <th>number_events</th>\n",
       "      <th>event_week</th>\n",
       "    </tr>\n",
       "  </thead>\n",
       "  <tbody>\n",
       "    <tr>\n",
       "      <th>28</th>\n",
       "      <td>2019-10-07 00:00:02</td>\n",
       "      <td>tips_show</td>\n",
       "      <td>cf7eda61-9349-469f-ac27-e5b6f5ec475c</td>\n",
       "      <td>yandex</td>\n",
       "      <td>93</td>\n",
       "      <td>41</td>\n",
       "    </tr>\n",
       "    <tr>\n",
       "      <th>29</th>\n",
       "      <td>2019-10-07 00:00:56</td>\n",
       "      <td>advert_open</td>\n",
       "      <td>cf7eda61-9349-469f-ac27-e5b6f5ec475c</td>\n",
       "      <td>yandex</td>\n",
       "      <td>93</td>\n",
       "      <td>41</td>\n",
       "    </tr>\n",
       "    <tr>\n",
       "      <th>30</th>\n",
       "      <td>2019-10-07 00:01:20</td>\n",
       "      <td>tips_show</td>\n",
       "      <td>cf7eda61-9349-469f-ac27-e5b6f5ec475c</td>\n",
       "      <td>yandex</td>\n",
       "      <td>93</td>\n",
       "      <td>41</td>\n",
       "    </tr>\n",
       "    <tr>\n",
       "      <th>31</th>\n",
       "      <td>2019-10-07 00:01:50</td>\n",
       "      <td>advert_open</td>\n",
       "      <td>cf7eda61-9349-469f-ac27-e5b6f5ec475c</td>\n",
       "      <td>yandex</td>\n",
       "      <td>93</td>\n",
       "      <td>41</td>\n",
       "    </tr>\n",
       "    <tr>\n",
       "      <th>32</th>\n",
       "      <td>2019-10-07 00:02:06</td>\n",
       "      <td>tips_show</td>\n",
       "      <td>cf7eda61-9349-469f-ac27-e5b6f5ec475c</td>\n",
       "      <td>yandex</td>\n",
       "      <td>93</td>\n",
       "      <td>41</td>\n",
       "    </tr>\n",
       "    <tr>\n",
       "      <th>...</th>\n",
       "      <td>...</td>\n",
       "      <td>...</td>\n",
       "      <td>...</td>\n",
       "      <td>...</td>\n",
       "      <td>...</td>\n",
       "      <td>...</td>\n",
       "    </tr>\n",
       "    <tr>\n",
       "      <th>73972</th>\n",
       "      <td>2019-11-03 23:21:53</td>\n",
       "      <td>tips_show</td>\n",
       "      <td>a0944ccf-5813-427a-966e-b146d4e9adbc</td>\n",
       "      <td>google</td>\n",
       "      <td>39</td>\n",
       "      <td>44</td>\n",
       "    </tr>\n",
       "    <tr>\n",
       "      <th>73973</th>\n",
       "      <td>2019-11-03 23:22:00</td>\n",
       "      <td>tips_show</td>\n",
       "      <td>a0944ccf-5813-427a-966e-b146d4e9adbc</td>\n",
       "      <td>google</td>\n",
       "      <td>39</td>\n",
       "      <td>44</td>\n",
       "    </tr>\n",
       "    <tr>\n",
       "      <th>73974</th>\n",
       "      <td>2019-11-03 23:44:13</td>\n",
       "      <td>show_contacts</td>\n",
       "      <td>a0944ccf-5813-427a-966e-b146d4e9adbc</td>\n",
       "      <td>google</td>\n",
       "      <td>39</td>\n",
       "      <td>44</td>\n",
       "    </tr>\n",
       "    <tr>\n",
       "      <th>73975</th>\n",
       "      <td>2019-11-03 23:44:29</td>\n",
       "      <td>tips_show</td>\n",
       "      <td>a0944ccf-5813-427a-966e-b146d4e9adbc</td>\n",
       "      <td>google</td>\n",
       "      <td>39</td>\n",
       "      <td>44</td>\n",
       "    </tr>\n",
       "    <tr>\n",
       "      <th>73976</th>\n",
       "      <td>2019-11-03 23:44:31</td>\n",
       "      <td>show_contacts</td>\n",
       "      <td>a0944ccf-5813-427a-966e-b146d4e9adbc</td>\n",
       "      <td>google</td>\n",
       "      <td>39</td>\n",
       "      <td>44</td>\n",
       "    </tr>\n",
       "  </tbody>\n",
       "</table>\n",
       "<p>33670 rows × 6 columns</p>\n",
       "</div>"
      ],
      "text/plain": [
       "               event_time     event_name  \\\n",
       "28    2019-10-07 00:00:02      tips_show   \n",
       "29    2019-10-07 00:00:56    advert_open   \n",
       "30    2019-10-07 00:01:20      tips_show   \n",
       "31    2019-10-07 00:01:50    advert_open   \n",
       "32    2019-10-07 00:02:06      tips_show   \n",
       "...                   ...            ...   \n",
       "73972 2019-11-03 23:21:53      tips_show   \n",
       "73973 2019-11-03 23:22:00      tips_show   \n",
       "73974 2019-11-03 23:44:13  show_contacts   \n",
       "73975 2019-11-03 23:44:29      tips_show   \n",
       "73976 2019-11-03 23:44:31  show_contacts   \n",
       "\n",
       "                                    user_id  source  number_events  event_week  \n",
       "28     cf7eda61-9349-469f-ac27-e5b6f5ec475c  yandex             93          41  \n",
       "29     cf7eda61-9349-469f-ac27-e5b6f5ec475c  yandex             93          41  \n",
       "30     cf7eda61-9349-469f-ac27-e5b6f5ec475c  yandex             93          41  \n",
       "31     cf7eda61-9349-469f-ac27-e5b6f5ec475c  yandex             93          41  \n",
       "32     cf7eda61-9349-469f-ac27-e5b6f5ec475c  yandex             93          41  \n",
       "...                                     ...     ...            ...         ...  \n",
       "73972  a0944ccf-5813-427a-966e-b146d4e9adbc  google             39          44  \n",
       "73973  a0944ccf-5813-427a-966e-b146d4e9adbc  google             39          44  \n",
       "73974  a0944ccf-5813-427a-966e-b146d4e9adbc  google             39          44  \n",
       "73975  a0944ccf-5813-427a-966e-b146d4e9adbc  google             39          44  \n",
       "73976  a0944ccf-5813-427a-966e-b146d4e9adbc  google             39          44  \n",
       "\n",
       "[33670 rows x 6 columns]"
      ]
     },
     "execution_count": 27,
     "metadata": {},
     "output_type": "execute_result"
    }
   ],
   "source": [
    "# формирование первой группы пользователей - пользователи, совершившие более 35-ти событий\n",
    "\n",
    "toomuch_events= dataset_n.query('number_events > 35')\n",
    "toomuch_events['event_week'] = toomuch_events['event_time'].dt.week\n",
    "toomuch_events"
   ]
  },
  {
   "cell_type": "code",
   "execution_count": 28,
   "metadata": {},
   "outputs": [
    {
     "data": {
      "text/html": [
       "<div>\n",
       "<style scoped>\n",
       "    .dataframe tbody tr th:only-of-type {\n",
       "        vertical-align: middle;\n",
       "    }\n",
       "\n",
       "    .dataframe tbody tr th {\n",
       "        vertical-align: top;\n",
       "    }\n",
       "\n",
       "    .dataframe thead th {\n",
       "        text-align: right;\n",
       "    }\n",
       "</style>\n",
       "<table border=\"1\" class=\"dataframe\">\n",
       "  <thead>\n",
       "    <tr style=\"text-align: right;\">\n",
       "      <th></th>\n",
       "      <th>event_time</th>\n",
       "      <th>event_name</th>\n",
       "      <th>user_id</th>\n",
       "      <th>source</th>\n",
       "      <th>number_events</th>\n",
       "      <th>event_week</th>\n",
       "    </tr>\n",
       "  </thead>\n",
       "  <tbody>\n",
       "    <tr>\n",
       "      <th>0</th>\n",
       "      <td>2019-10-07 00:00:00</td>\n",
       "      <td>advert_open</td>\n",
       "      <td>020292ab-89bc-4156-9acf-68bc2783f894</td>\n",
       "      <td>other</td>\n",
       "      <td>28</td>\n",
       "      <td>41</td>\n",
       "    </tr>\n",
       "    <tr>\n",
       "      <th>1</th>\n",
       "      <td>2019-10-07 00:00:01</td>\n",
       "      <td>tips_show</td>\n",
       "      <td>020292ab-89bc-4156-9acf-68bc2783f894</td>\n",
       "      <td>other</td>\n",
       "      <td>28</td>\n",
       "      <td>41</td>\n",
       "    </tr>\n",
       "    <tr>\n",
       "      <th>2</th>\n",
       "      <td>2019-10-07 00:00:07</td>\n",
       "      <td>tips_show</td>\n",
       "      <td>020292ab-89bc-4156-9acf-68bc2783f894</td>\n",
       "      <td>other</td>\n",
       "      <td>28</td>\n",
       "      <td>41</td>\n",
       "    </tr>\n",
       "    <tr>\n",
       "      <th>3</th>\n",
       "      <td>2019-10-07 00:01:28</td>\n",
       "      <td>advert_open</td>\n",
       "      <td>020292ab-89bc-4156-9acf-68bc2783f894</td>\n",
       "      <td>other</td>\n",
       "      <td>28</td>\n",
       "      <td>41</td>\n",
       "    </tr>\n",
       "    <tr>\n",
       "      <th>4</th>\n",
       "      <td>2019-10-07 00:01:35</td>\n",
       "      <td>tips_show</td>\n",
       "      <td>020292ab-89bc-4156-9acf-68bc2783f894</td>\n",
       "      <td>other</td>\n",
       "      <td>28</td>\n",
       "      <td>41</td>\n",
       "    </tr>\n",
       "    <tr>\n",
       "      <th>...</th>\n",
       "      <td>...</td>\n",
       "      <td>...</td>\n",
       "      <td>...</td>\n",
       "      <td>...</td>\n",
       "      <td>...</td>\n",
       "      <td>...</td>\n",
       "    </tr>\n",
       "    <tr>\n",
       "      <th>74192</th>\n",
       "      <td>2019-11-03 23:46:47</td>\n",
       "      <td>map</td>\n",
       "      <td>d157bffc-264d-4464-8220-1cc0c42f43a9</td>\n",
       "      <td>google</td>\n",
       "      <td>5</td>\n",
       "      <td>44</td>\n",
       "    </tr>\n",
       "    <tr>\n",
       "      <th>74193</th>\n",
       "      <td>2019-11-03 23:46:59</td>\n",
       "      <td>advert_open</td>\n",
       "      <td>d157bffc-264d-4464-8220-1cc0c42f43a9</td>\n",
       "      <td>google</td>\n",
       "      <td>5</td>\n",
       "      <td>44</td>\n",
       "    </tr>\n",
       "    <tr>\n",
       "      <th>74194</th>\n",
       "      <td>2019-11-03 23:47:01</td>\n",
       "      <td>tips_show</td>\n",
       "      <td>d157bffc-264d-4464-8220-1cc0c42f43a9</td>\n",
       "      <td>google</td>\n",
       "      <td>5</td>\n",
       "      <td>44</td>\n",
       "    </tr>\n",
       "    <tr>\n",
       "      <th>74195</th>\n",
       "      <td>2019-11-03 23:47:47</td>\n",
       "      <td>advert_open</td>\n",
       "      <td>d157bffc-264d-4464-8220-1cc0c42f43a9</td>\n",
       "      <td>google</td>\n",
       "      <td>5</td>\n",
       "      <td>44</td>\n",
       "    </tr>\n",
       "    <tr>\n",
       "      <th>74196</th>\n",
       "      <td>2019-11-03 23:47:50</td>\n",
       "      <td>tips_show</td>\n",
       "      <td>d157bffc-264d-4464-8220-1cc0c42f43a9</td>\n",
       "      <td>google</td>\n",
       "      <td>5</td>\n",
       "      <td>44</td>\n",
       "    </tr>\n",
       "  </tbody>\n",
       "</table>\n",
       "<p>40527 rows × 6 columns</p>\n",
       "</div>"
      ],
      "text/plain": [
       "               event_time   event_name                               user_id  \\\n",
       "0     2019-10-07 00:00:00  advert_open  020292ab-89bc-4156-9acf-68bc2783f894   \n",
       "1     2019-10-07 00:00:01    tips_show  020292ab-89bc-4156-9acf-68bc2783f894   \n",
       "2     2019-10-07 00:00:07    tips_show  020292ab-89bc-4156-9acf-68bc2783f894   \n",
       "3     2019-10-07 00:01:28  advert_open  020292ab-89bc-4156-9acf-68bc2783f894   \n",
       "4     2019-10-07 00:01:35    tips_show  020292ab-89bc-4156-9acf-68bc2783f894   \n",
       "...                   ...          ...                                   ...   \n",
       "74192 2019-11-03 23:46:47          map  d157bffc-264d-4464-8220-1cc0c42f43a9   \n",
       "74193 2019-11-03 23:46:59  advert_open  d157bffc-264d-4464-8220-1cc0c42f43a9   \n",
       "74194 2019-11-03 23:47:01    tips_show  d157bffc-264d-4464-8220-1cc0c42f43a9   \n",
       "74195 2019-11-03 23:47:47  advert_open  d157bffc-264d-4464-8220-1cc0c42f43a9   \n",
       "74196 2019-11-03 23:47:50    tips_show  d157bffc-264d-4464-8220-1cc0c42f43a9   \n",
       "\n",
       "       source  number_events  event_week  \n",
       "0       other             28          41  \n",
       "1       other             28          41  \n",
       "2       other             28          41  \n",
       "3       other             28          41  \n",
       "4       other             28          41  \n",
       "...       ...            ...         ...  \n",
       "74192  google              5          44  \n",
       "74193  google              5          44  \n",
       "74194  google              5          44  \n",
       "74195  google              5          44  \n",
       "74196  google              5          44  \n",
       "\n",
       "[40527 rows x 6 columns]"
      ]
     },
     "execution_count": 28,
     "metadata": {},
     "output_type": "execute_result"
    }
   ],
   "source": [
    "# формирование второй группы пользователей - пользователи, совершившие 35 и менее событий\n",
    "\n",
    "medium_events = dataset_n.query('number_events <= 35')\n",
    "medium_events['event_week'] = medium_events['event_time'].dt.week\n",
    "medium_events"
   ]
  },
  {
   "cell_type": "markdown",
   "metadata": {},
   "source": [
    "Исходный датасет поделился с небольшим численным перевесом пользователей, совершивших 35 и менее событий.\n",
    "\n",
    "\n",
    "Далее рассчитываю метрики для каждого выделенного сегмента пользователей.\n",
    "\n",
    "\n",
    "Первый расчёт для сегмента toomuch_events."
   ]
  },
  {
   "cell_type": "code",
   "execution_count": 29,
   "metadata": {},
   "outputs": [
    {
     "data": {
      "text/html": [
       "<div>\n",
       "<style scoped>\n",
       "    .dataframe tbody tr th:only-of-type {\n",
       "        vertical-align: middle;\n",
       "    }\n",
       "\n",
       "    .dataframe tbody tr th {\n",
       "        vertical-align: top;\n",
       "    }\n",
       "\n",
       "    .dataframe thead th {\n",
       "        text-align: right;\n",
       "    }\n",
       "</style>\n",
       "<table border=\"1\" class=\"dataframe\">\n",
       "  <thead>\n",
       "    <tr style=\"text-align: right;\">\n",
       "      <th></th>\n",
       "      <th>user_id</th>\n",
       "      <th>first_ts</th>\n",
       "      <th>source</th>\n",
       "      <th>dt</th>\n",
       "    </tr>\n",
       "  </thead>\n",
       "  <tbody>\n",
       "    <tr>\n",
       "      <th>0</th>\n",
       "      <td>00157779-810c-4498-9e05-a1e9e3cedf93</td>\n",
       "      <td>2019-10-19 21:34:34</td>\n",
       "      <td>yandex</td>\n",
       "      <td>42</td>\n",
       "    </tr>\n",
       "    <tr>\n",
       "      <th>1</th>\n",
       "      <td>017c6afc-965d-4c94-84ee-f0e326998e30</td>\n",
       "      <td>2019-10-10 14:28:11</td>\n",
       "      <td>other</td>\n",
       "      <td>41</td>\n",
       "    </tr>\n",
       "    <tr>\n",
       "      <th>2</th>\n",
       "      <td>02c90994-8de8-49e8-a384-415fb1602ac5</td>\n",
       "      <td>2019-10-14 23:07:14</td>\n",
       "      <td>other</td>\n",
       "      <td>42</td>\n",
       "    </tr>\n",
       "    <tr>\n",
       "      <th>3</th>\n",
       "      <td>04adf25e-cb60-4cbd-bedc-ddc1057cde06</td>\n",
       "      <td>2019-10-13 15:41:09</td>\n",
       "      <td>other</td>\n",
       "      <td>41</td>\n",
       "    </tr>\n",
       "    <tr>\n",
       "      <th>4</th>\n",
       "      <td>04d0b1b4-d31f-4c19-bc7e-14e5fcf6f791</td>\n",
       "      <td>2019-10-26 15:36:03</td>\n",
       "      <td>yandex</td>\n",
       "      <td>43</td>\n",
       "    </tr>\n",
       "    <tr>\n",
       "      <th>...</th>\n",
       "      <td>...</td>\n",
       "      <td>...</td>\n",
       "      <td>...</td>\n",
       "      <td>...</td>\n",
       "    </tr>\n",
       "    <tr>\n",
       "      <th>429</th>\n",
       "      <td>fdd232f5-962d-4eed-ac02-f0141385cc8f</td>\n",
       "      <td>2019-10-08 11:30:15</td>\n",
       "      <td>yandex</td>\n",
       "      <td>41</td>\n",
       "    </tr>\n",
       "    <tr>\n",
       "      <th>430</th>\n",
       "      <td>feb7c7a1-26e0-4ea9-9cdc-3e5b401cac97</td>\n",
       "      <td>2019-10-17 11:22:27</td>\n",
       "      <td>yandex</td>\n",
       "      <td>42</td>\n",
       "    </tr>\n",
       "    <tr>\n",
       "      <th>431</th>\n",
       "      <td>fee3ba1c-16f4-46f7-bf56-4bf80cc4e2f5</td>\n",
       "      <td>2019-10-26 11:43:12</td>\n",
       "      <td>google</td>\n",
       "      <td>43</td>\n",
       "    </tr>\n",
       "    <tr>\n",
       "      <th>432</th>\n",
       "      <td>ff82c7c7-16d6-44b1-833b-a217747b0b02</td>\n",
       "      <td>2019-10-15 23:41:08</td>\n",
       "      <td>yandex</td>\n",
       "      <td>42</td>\n",
       "    </tr>\n",
       "    <tr>\n",
       "      <th>433</th>\n",
       "      <td>fffb9e79-b927-4dbb-9b48-7fd09b23a62b</td>\n",
       "      <td>2019-10-12 00:57:21</td>\n",
       "      <td>google</td>\n",
       "      <td>41</td>\n",
       "    </tr>\n",
       "  </tbody>\n",
       "</table>\n",
       "<p>434 rows × 4 columns</p>\n",
       "</div>"
      ],
      "text/plain": [
       "                                  user_id            first_ts  source  dt\n",
       "0    00157779-810c-4498-9e05-a1e9e3cedf93 2019-10-19 21:34:34  yandex  42\n",
       "1    017c6afc-965d-4c94-84ee-f0e326998e30 2019-10-10 14:28:11   other  41\n",
       "2    02c90994-8de8-49e8-a384-415fb1602ac5 2019-10-14 23:07:14   other  42\n",
       "3    04adf25e-cb60-4cbd-bedc-ddc1057cde06 2019-10-13 15:41:09   other  41\n",
       "4    04d0b1b4-d31f-4c19-bc7e-14e5fcf6f791 2019-10-26 15:36:03  yandex  43\n",
       "..                                    ...                 ...     ...  ..\n",
       "429  fdd232f5-962d-4eed-ac02-f0141385cc8f 2019-10-08 11:30:15  yandex  41\n",
       "430  feb7c7a1-26e0-4ea9-9cdc-3e5b401cac97 2019-10-17 11:22:27  yandex  42\n",
       "431  fee3ba1c-16f4-46f7-bf56-4bf80cc4e2f5 2019-10-26 11:43:12  google  43\n",
       "432  ff82c7c7-16d6-44b1-833b-a217747b0b02 2019-10-15 23:41:08  yandex  42\n",
       "433  fffb9e79-b927-4dbb-9b48-7fd09b23a62b 2019-10-12 00:57:21  google  41\n",
       "\n",
       "[434 rows x 4 columns]"
      ]
     },
     "execution_count": 29,
     "metadata": {},
     "output_type": "execute_result"
    }
   ],
   "source": [
    "# формирование таблицы профилей пользователей, совершивших более 35 событий\n",
    "\n",
    "profiles_toomuch = (\n",
    "    toomuch_events\n",
    "        .sort_values(by=['user_id', 'event_time'])\n",
    "        .groupby('user_id')\n",
    "        .agg({'event_time':'first', 'source':'first'})\n",
    "        .rename(columns={'event_time':'first_ts'})\n",
    "        .assign(dt=lambda x: x['first_ts'].dt.week)\n",
    "        .reset_index()\n",
    ")\n",
    "\n",
    "profiles_toomuch"
   ]
  },
  {
   "cell_type": "code",
   "execution_count": 30,
   "metadata": {},
   "outputs": [
    {
     "data": {
      "text/html": [
       "<div>\n",
       "<style scoped>\n",
       "    .dataframe tbody tr th:only-of-type {\n",
       "        vertical-align: middle;\n",
       "    }\n",
       "\n",
       "    .dataframe tbody tr th {\n",
       "        vertical-align: top;\n",
       "    }\n",
       "\n",
       "    .dataframe thead th {\n",
       "        text-align: right;\n",
       "    }\n",
       "</style>\n",
       "<table border=\"1\" class=\"dataframe\">\n",
       "  <thead>\n",
       "    <tr style=\"text-align: right;\">\n",
       "      <th></th>\n",
       "      <th>event_time</th>\n",
       "      <th>event_name</th>\n",
       "      <th>user_id</th>\n",
       "      <th>source_x</th>\n",
       "      <th>number_events</th>\n",
       "      <th>event_week</th>\n",
       "      <th>first_ts</th>\n",
       "      <th>source_y</th>\n",
       "      <th>dt</th>\n",
       "    </tr>\n",
       "  </thead>\n",
       "  <tbody>\n",
       "    <tr>\n",
       "      <th>0</th>\n",
       "      <td>2019-10-07 00:00:02</td>\n",
       "      <td>tips_show</td>\n",
       "      <td>cf7eda61-9349-469f-ac27-e5b6f5ec475c</td>\n",
       "      <td>yandex</td>\n",
       "      <td>93</td>\n",
       "      <td>41</td>\n",
       "      <td>2019-10-07 00:00:02</td>\n",
       "      <td>yandex</td>\n",
       "      <td>41</td>\n",
       "    </tr>\n",
       "    <tr>\n",
       "      <th>1</th>\n",
       "      <td>2019-10-07 00:00:56</td>\n",
       "      <td>advert_open</td>\n",
       "      <td>cf7eda61-9349-469f-ac27-e5b6f5ec475c</td>\n",
       "      <td>yandex</td>\n",
       "      <td>93</td>\n",
       "      <td>41</td>\n",
       "      <td>2019-10-07 00:00:02</td>\n",
       "      <td>yandex</td>\n",
       "      <td>41</td>\n",
       "    </tr>\n",
       "    <tr>\n",
       "      <th>2</th>\n",
       "      <td>2019-10-07 00:01:20</td>\n",
       "      <td>tips_show</td>\n",
       "      <td>cf7eda61-9349-469f-ac27-e5b6f5ec475c</td>\n",
       "      <td>yandex</td>\n",
       "      <td>93</td>\n",
       "      <td>41</td>\n",
       "      <td>2019-10-07 00:00:02</td>\n",
       "      <td>yandex</td>\n",
       "      <td>41</td>\n",
       "    </tr>\n",
       "    <tr>\n",
       "      <th>3</th>\n",
       "      <td>2019-10-07 00:01:50</td>\n",
       "      <td>advert_open</td>\n",
       "      <td>cf7eda61-9349-469f-ac27-e5b6f5ec475c</td>\n",
       "      <td>yandex</td>\n",
       "      <td>93</td>\n",
       "      <td>41</td>\n",
       "      <td>2019-10-07 00:00:02</td>\n",
       "      <td>yandex</td>\n",
       "      <td>41</td>\n",
       "    </tr>\n",
       "    <tr>\n",
       "      <th>4</th>\n",
       "      <td>2019-10-07 00:02:06</td>\n",
       "      <td>tips_show</td>\n",
       "      <td>cf7eda61-9349-469f-ac27-e5b6f5ec475c</td>\n",
       "      <td>yandex</td>\n",
       "      <td>93</td>\n",
       "      <td>41</td>\n",
       "      <td>2019-10-07 00:00:02</td>\n",
       "      <td>yandex</td>\n",
       "      <td>41</td>\n",
       "    </tr>\n",
       "  </tbody>\n",
       "</table>\n",
       "</div>"
      ],
      "text/plain": [
       "           event_time   event_name                               user_id  \\\n",
       "0 2019-10-07 00:00:02    tips_show  cf7eda61-9349-469f-ac27-e5b6f5ec475c   \n",
       "1 2019-10-07 00:00:56  advert_open  cf7eda61-9349-469f-ac27-e5b6f5ec475c   \n",
       "2 2019-10-07 00:01:20    tips_show  cf7eda61-9349-469f-ac27-e5b6f5ec475c   \n",
       "3 2019-10-07 00:01:50  advert_open  cf7eda61-9349-469f-ac27-e5b6f5ec475c   \n",
       "4 2019-10-07 00:02:06    tips_show  cf7eda61-9349-469f-ac27-e5b6f5ec475c   \n",
       "\n",
       "  source_x  number_events  event_week            first_ts source_y  dt  \n",
       "0   yandex             93          41 2019-10-07 00:00:02   yandex  41  \n",
       "1   yandex             93          41 2019-10-07 00:00:02   yandex  41  \n",
       "2   yandex             93          41 2019-10-07 00:00:02   yandex  41  \n",
       "3   yandex             93          41 2019-10-07 00:00:02   yandex  41  \n",
       "4   yandex             93          41 2019-10-07 00:00:02   yandex  41  "
      ]
     },
     "execution_count": 30,
     "metadata": {},
     "output_type": "execute_result"
    }
   ],
   "source": [
    "# объединение таблицы профилей с датастетом с логами\n",
    "\n",
    "rt_toomuch = toomuch_events.merge(profiles_toomuch, on='user_id')\n",
    "\n",
    "rt_toomuch.head()"
   ]
  },
  {
   "cell_type": "code",
   "execution_count": 31,
   "metadata": {},
   "outputs": [
    {
     "data": {
      "text/html": [
       "<div>\n",
       "<style scoped>\n",
       "    .dataframe tbody tr th:only-of-type {\n",
       "        vertical-align: middle;\n",
       "    }\n",
       "\n",
       "    .dataframe tbody tr th {\n",
       "        vertical-align: top;\n",
       "    }\n",
       "\n",
       "    .dataframe thead th {\n",
       "        text-align: right;\n",
       "    }\n",
       "</style>\n",
       "<table border=\"1\" class=\"dataframe\">\n",
       "  <thead>\n",
       "    <tr style=\"text-align: right;\">\n",
       "      <th></th>\n",
       "      <th>event_time</th>\n",
       "      <th>event_name</th>\n",
       "      <th>user_id</th>\n",
       "      <th>source_x</th>\n",
       "      <th>number_events</th>\n",
       "      <th>event_week</th>\n",
       "      <th>first_ts</th>\n",
       "      <th>source_y</th>\n",
       "      <th>dt</th>\n",
       "      <th>lifetime</th>\n",
       "    </tr>\n",
       "  </thead>\n",
       "  <tbody>\n",
       "    <tr>\n",
       "      <th>0</th>\n",
       "      <td>2019-10-07 00:00:02</td>\n",
       "      <td>tips_show</td>\n",
       "      <td>cf7eda61-9349-469f-ac27-e5b6f5ec475c</td>\n",
       "      <td>yandex</td>\n",
       "      <td>93</td>\n",
       "      <td>41</td>\n",
       "      <td>2019-10-07 00:00:02</td>\n",
       "      <td>yandex</td>\n",
       "      <td>41</td>\n",
       "      <td>0</td>\n",
       "    </tr>\n",
       "    <tr>\n",
       "      <th>1</th>\n",
       "      <td>2019-10-07 00:00:56</td>\n",
       "      <td>advert_open</td>\n",
       "      <td>cf7eda61-9349-469f-ac27-e5b6f5ec475c</td>\n",
       "      <td>yandex</td>\n",
       "      <td>93</td>\n",
       "      <td>41</td>\n",
       "      <td>2019-10-07 00:00:02</td>\n",
       "      <td>yandex</td>\n",
       "      <td>41</td>\n",
       "      <td>0</td>\n",
       "    </tr>\n",
       "    <tr>\n",
       "      <th>2</th>\n",
       "      <td>2019-10-07 00:01:20</td>\n",
       "      <td>tips_show</td>\n",
       "      <td>cf7eda61-9349-469f-ac27-e5b6f5ec475c</td>\n",
       "      <td>yandex</td>\n",
       "      <td>93</td>\n",
       "      <td>41</td>\n",
       "      <td>2019-10-07 00:00:02</td>\n",
       "      <td>yandex</td>\n",
       "      <td>41</td>\n",
       "      <td>0</td>\n",
       "    </tr>\n",
       "    <tr>\n",
       "      <th>3</th>\n",
       "      <td>2019-10-07 00:01:50</td>\n",
       "      <td>advert_open</td>\n",
       "      <td>cf7eda61-9349-469f-ac27-e5b6f5ec475c</td>\n",
       "      <td>yandex</td>\n",
       "      <td>93</td>\n",
       "      <td>41</td>\n",
       "      <td>2019-10-07 00:00:02</td>\n",
       "      <td>yandex</td>\n",
       "      <td>41</td>\n",
       "      <td>0</td>\n",
       "    </tr>\n",
       "    <tr>\n",
       "      <th>4</th>\n",
       "      <td>2019-10-07 00:02:06</td>\n",
       "      <td>tips_show</td>\n",
       "      <td>cf7eda61-9349-469f-ac27-e5b6f5ec475c</td>\n",
       "      <td>yandex</td>\n",
       "      <td>93</td>\n",
       "      <td>41</td>\n",
       "      <td>2019-10-07 00:00:02</td>\n",
       "      <td>yandex</td>\n",
       "      <td>41</td>\n",
       "      <td>0</td>\n",
       "    </tr>\n",
       "  </tbody>\n",
       "</table>\n",
       "</div>"
      ],
      "text/plain": [
       "           event_time   event_name                               user_id  \\\n",
       "0 2019-10-07 00:00:02    tips_show  cf7eda61-9349-469f-ac27-e5b6f5ec475c   \n",
       "1 2019-10-07 00:00:56  advert_open  cf7eda61-9349-469f-ac27-e5b6f5ec475c   \n",
       "2 2019-10-07 00:01:20    tips_show  cf7eda61-9349-469f-ac27-e5b6f5ec475c   \n",
       "3 2019-10-07 00:01:50  advert_open  cf7eda61-9349-469f-ac27-e5b6f5ec475c   \n",
       "4 2019-10-07 00:02:06    tips_show  cf7eda61-9349-469f-ac27-e5b6f5ec475c   \n",
       "\n",
       "  source_x  number_events  event_week            first_ts source_y  dt  \\\n",
       "0   yandex             93          41 2019-10-07 00:00:02   yandex  41   \n",
       "1   yandex             93          41 2019-10-07 00:00:02   yandex  41   \n",
       "2   yandex             93          41 2019-10-07 00:00:02   yandex  41   \n",
       "3   yandex             93          41 2019-10-07 00:00:02   yandex  41   \n",
       "4   yandex             93          41 2019-10-07 00:00:02   yandex  41   \n",
       "\n",
       "   lifetime  \n",
       "0         0  \n",
       "1         0  \n",
       "2         0  \n",
       "3         0  \n",
       "4         0  "
      ]
     },
     "execution_count": 31,
     "metadata": {},
     "output_type": "execute_result"
    }
   ],
   "source": [
    "# расчёт лайфтайма\n",
    "\n",
    "rt_toomuch['lifetime'] = rt_toomuch['event_week'] - rt_toomuch['dt']\n",
    "\n",
    "rt_toomuch.head()"
   ]
  },
  {
   "cell_type": "code",
   "execution_count": 32,
   "metadata": {},
   "outputs": [
    {
     "data": {
      "text/html": [
       "<div>\n",
       "<style scoped>\n",
       "    .dataframe tbody tr th:only-of-type {\n",
       "        vertical-align: middle;\n",
       "    }\n",
       "\n",
       "    .dataframe tbody tr th {\n",
       "        vertical-align: top;\n",
       "    }\n",
       "\n",
       "    .dataframe thead th {\n",
       "        text-align: right;\n",
       "    }\n",
       "</style>\n",
       "<table border=\"1\" class=\"dataframe\">\n",
       "  <thead>\n",
       "    <tr style=\"text-align: right;\">\n",
       "      <th>lifetime</th>\n",
       "      <th>0</th>\n",
       "      <th>1</th>\n",
       "      <th>2</th>\n",
       "      <th>3</th>\n",
       "    </tr>\n",
       "    <tr>\n",
       "      <th>dt</th>\n",
       "      <th></th>\n",
       "      <th></th>\n",
       "      <th></th>\n",
       "      <th></th>\n",
       "    </tr>\n",
       "  </thead>\n",
       "  <tbody>\n",
       "    <tr>\n",
       "      <th>41</th>\n",
       "      <td>154.0</td>\n",
       "      <td>92.0</td>\n",
       "      <td>63.0</td>\n",
       "      <td>53.0</td>\n",
       "    </tr>\n",
       "    <tr>\n",
       "      <th>42</th>\n",
       "      <td>129.0</td>\n",
       "      <td>80.0</td>\n",
       "      <td>44.0</td>\n",
       "      <td>NaN</td>\n",
       "    </tr>\n",
       "    <tr>\n",
       "      <th>43</th>\n",
       "      <td>101.0</td>\n",
       "      <td>58.0</td>\n",
       "      <td>NaN</td>\n",
       "      <td>NaN</td>\n",
       "    </tr>\n",
       "    <tr>\n",
       "      <th>44</th>\n",
       "      <td>50.0</td>\n",
       "      <td>NaN</td>\n",
       "      <td>NaN</td>\n",
       "      <td>NaN</td>\n",
       "    </tr>\n",
       "  </tbody>\n",
       "</table>\n",
       "</div>"
      ],
      "text/plain": [
       "lifetime      0     1     2     3\n",
       "dt                               \n",
       "41        154.0  92.0  63.0  53.0\n",
       "42        129.0  80.0  44.0   NaN\n",
       "43        101.0  58.0   NaN   NaN\n",
       "44         50.0   NaN   NaN   NaN"
      ]
     },
     "execution_count": 32,
     "metadata": {},
     "output_type": "execute_result"
    }
   ],
   "source": [
    "# формирование сводной таблицы\n",
    "\n",
    "rtt_toomuch = rt_toomuch.pivot_table(\n",
    "    index = 'dt',\n",
    "    columns = 'lifetime',\n",
    "    values = 'user_id',\n",
    "    aggfunc = 'nunique'\n",
    ")\n",
    "\n",
    "rtt_toomuch"
   ]
  },
  {
   "cell_type": "code",
   "execution_count": 33,
   "metadata": {},
   "outputs": [
    {
     "data": {
      "text/html": [
       "<div>\n",
       "<style scoped>\n",
       "    .dataframe tbody tr th:only-of-type {\n",
       "        vertical-align: middle;\n",
       "    }\n",
       "\n",
       "    .dataframe tbody tr th {\n",
       "        vertical-align: top;\n",
       "    }\n",
       "\n",
       "    .dataframe thead th {\n",
       "        text-align: right;\n",
       "    }\n",
       "</style>\n",
       "<table border=\"1\" class=\"dataframe\">\n",
       "  <thead>\n",
       "    <tr style=\"text-align: right;\">\n",
       "      <th>lifetime</th>\n",
       "      <th>0</th>\n",
       "      <th>1</th>\n",
       "      <th>2</th>\n",
       "      <th>3</th>\n",
       "    </tr>\n",
       "    <tr>\n",
       "      <th>dt</th>\n",
       "      <th></th>\n",
       "      <th></th>\n",
       "      <th></th>\n",
       "      <th></th>\n",
       "    </tr>\n",
       "  </thead>\n",
       "  <tbody>\n",
       "    <tr>\n",
       "      <th>41</th>\n",
       "      <td>1.0</td>\n",
       "      <td>0.597403</td>\n",
       "      <td>0.409091</td>\n",
       "      <td>0.344156</td>\n",
       "    </tr>\n",
       "    <tr>\n",
       "      <th>42</th>\n",
       "      <td>1.0</td>\n",
       "      <td>0.620155</td>\n",
       "      <td>0.341085</td>\n",
       "      <td>NaN</td>\n",
       "    </tr>\n",
       "    <tr>\n",
       "      <th>43</th>\n",
       "      <td>1.0</td>\n",
       "      <td>0.574257</td>\n",
       "      <td>NaN</td>\n",
       "      <td>NaN</td>\n",
       "    </tr>\n",
       "    <tr>\n",
       "      <th>44</th>\n",
       "      <td>1.0</td>\n",
       "      <td>NaN</td>\n",
       "      <td>NaN</td>\n",
       "      <td>NaN</td>\n",
       "    </tr>\n",
       "  </tbody>\n",
       "</table>\n",
       "</div>"
      ],
      "text/plain": [
       "lifetime    0         1         2         3\n",
       "dt                                         \n",
       "41        1.0  0.597403  0.409091  0.344156\n",
       "42        1.0  0.620155  0.341085       NaN\n",
       "43        1.0  0.574257       NaN       NaN\n",
       "44        1.0       NaN       NaN       NaN"
      ]
     },
     "execution_count": 33,
     "metadata": {},
     "output_type": "execute_result"
    }
   ],
   "source": [
    "# расчёт retention rate\n",
    "\n",
    "rtt_toomuch.div(rtt_toomuch[0], axis=0)"
   ]
  },
  {
   "cell_type": "code",
   "execution_count": 34,
   "metadata": {},
   "outputs": [
    {
     "data": {
      "image/png": "[encoded data removed]",
      "text/plain": [
       "<Figure size 720x576 with 2 Axes>"
      ]
     },
     "metadata": {
      "needs_background": "light"
     },
     "output_type": "display_data"
    }
   ],
   "source": [
    "# визуализация результата предыдущего шага\n",
    "\n",
    "plt.figure(figsize = (10, 8))\n",
    "sns.heatmap(rtt_toomuch.div(rtt_toomuch[0], axis=0).drop(columns = [0]), annot = True, cmap = 'RdYlGn')\n",
    "plt.show()"
   ]
  },
  {
   "cell_type": "markdown",
   "metadata": {},
   "source": [
    "Значения Retention Rate (коэффициента удержания) для первого лайфтайма (периода) составляют: 0,6; 0,62; 0,57. \n",
    "\n",
    "Среднее значение Retention Rate для сегмента пользователей, совершивших более 35 событий (действий) составляет 59,7%.\n"
   ]
  },
  {
   "cell_type": "code",
   "execution_count": 35,
   "metadata": {},
   "outputs": [
    {
     "data": {
      "text/html": [
       "<div>\n",
       "<style scoped>\n",
       "    .dataframe tbody tr th:only-of-type {\n",
       "        vertical-align: middle;\n",
       "    }\n",
       "\n",
       "    .dataframe tbody tr th {\n",
       "        vertical-align: top;\n",
       "    }\n",
       "\n",
       "    .dataframe thead th {\n",
       "        text-align: right;\n",
       "    }\n",
       "</style>\n",
       "<table border=\"1\" class=\"dataframe\">\n",
       "  <thead>\n",
       "    <tr style=\"text-align: right;\">\n",
       "      <th></th>\n",
       "      <th>user_id</th>\n",
       "      <th>first_ts</th>\n",
       "      <th>source</th>\n",
       "      <th>dt</th>\n",
       "    </tr>\n",
       "  </thead>\n",
       "  <tbody>\n",
       "    <tr>\n",
       "      <th>0</th>\n",
       "      <td>0001b1d5-b74a-4cbf-aeb0-7df5947bf349</td>\n",
       "      <td>2019-10-07 13:39:46</td>\n",
       "      <td>other</td>\n",
       "      <td>41</td>\n",
       "    </tr>\n",
       "    <tr>\n",
       "      <th>1</th>\n",
       "      <td>00463033-5717-4bf1-91b4-09183923b9df</td>\n",
       "      <td>2019-11-01 13:54:35</td>\n",
       "      <td>yandex</td>\n",
       "      <td>44</td>\n",
       "    </tr>\n",
       "    <tr>\n",
       "      <th>2</th>\n",
       "      <td>004690c3-5a84-4bb7-a8af-e0c8f8fca64e</td>\n",
       "      <td>2019-10-18 22:14:06</td>\n",
       "      <td>google</td>\n",
       "      <td>42</td>\n",
       "    </tr>\n",
       "    <tr>\n",
       "      <th>3</th>\n",
       "      <td>00551e79-152e-4441-9cf7-565d7eb04090</td>\n",
       "      <td>2019-10-25 16:44:41</td>\n",
       "      <td>yandex</td>\n",
       "      <td>43</td>\n",
       "    </tr>\n",
       "    <tr>\n",
       "      <th>4</th>\n",
       "      <td>00554293-7e00-4122-b898-4e892c4a7c53</td>\n",
       "      <td>2019-10-27 12:32:28</td>\n",
       "      <td>yandex</td>\n",
       "      <td>43</td>\n",
       "    </tr>\n",
       "    <tr>\n",
       "      <th>...</th>\n",
       "      <td>...</td>\n",
       "      <td>...</td>\n",
       "      <td>...</td>\n",
       "      <td>...</td>\n",
       "    </tr>\n",
       "    <tr>\n",
       "      <th>3854</th>\n",
       "      <td>ff5c152c-bd63-4797-8fa2-29987199e76d</td>\n",
       "      <td>2019-10-17 12:25:14</td>\n",
       "      <td>yandex</td>\n",
       "      <td>42</td>\n",
       "    </tr>\n",
       "    <tr>\n",
       "      <th>3855</th>\n",
       "      <td>ffab8d8a-30bb-424a-a3ab-0b63ebbf7b07</td>\n",
       "      <td>2019-10-13 16:11:27</td>\n",
       "      <td>yandex</td>\n",
       "      <td>41</td>\n",
       "    </tr>\n",
       "    <tr>\n",
       "      <th>3856</th>\n",
       "      <td>ffc01466-fdb1-4460-ae94-e800f52eb136</td>\n",
       "      <td>2019-10-07 20:32:50</td>\n",
       "      <td>yandex</td>\n",
       "      <td>41</td>\n",
       "    </tr>\n",
       "    <tr>\n",
       "      <th>3857</th>\n",
       "      <td>ffcf50d9-293c-4254-8243-4890b030b238</td>\n",
       "      <td>2019-10-23 11:51:35</td>\n",
       "      <td>google</td>\n",
       "      <td>43</td>\n",
       "    </tr>\n",
       "    <tr>\n",
       "      <th>3858</th>\n",
       "      <td>ffe68f10-e48e-470e-be9b-eeb93128ff1a</td>\n",
       "      <td>2019-10-21 16:39:34</td>\n",
       "      <td>yandex</td>\n",
       "      <td>43</td>\n",
       "    </tr>\n",
       "  </tbody>\n",
       "</table>\n",
       "<p>3859 rows × 4 columns</p>\n",
       "</div>"
      ],
      "text/plain": [
       "                                   user_id            first_ts  source  dt\n",
       "0     0001b1d5-b74a-4cbf-aeb0-7df5947bf349 2019-10-07 13:39:46   other  41\n",
       "1     00463033-5717-4bf1-91b4-09183923b9df 2019-11-01 13:54:35  yandex  44\n",
       "2     004690c3-5a84-4bb7-a8af-e0c8f8fca64e 2019-10-18 22:14:06  google  42\n",
       "3     00551e79-152e-4441-9cf7-565d7eb04090 2019-10-25 16:44:41  yandex  43\n",
       "4     00554293-7e00-4122-b898-4e892c4a7c53 2019-10-27 12:32:28  yandex  43\n",
       "...                                    ...                 ...     ...  ..\n",
       "3854  ff5c152c-bd63-4797-8fa2-29987199e76d 2019-10-17 12:25:14  yandex  42\n",
       "3855  ffab8d8a-30bb-424a-a3ab-0b63ebbf7b07 2019-10-13 16:11:27  yandex  41\n",
       "3856  ffc01466-fdb1-4460-ae94-e800f52eb136 2019-10-07 20:32:50  yandex  41\n",
       "3857  ffcf50d9-293c-4254-8243-4890b030b238 2019-10-23 11:51:35  google  43\n",
       "3858  ffe68f10-e48e-470e-be9b-eeb93128ff1a 2019-10-21 16:39:34  yandex  43\n",
       "\n",
       "[3859 rows x 4 columns]"
      ]
     },
     "execution_count": 35,
     "metadata": {},
     "output_type": "execute_result"
    }
   ],
   "source": [
    "# формирование таблицы профилей пользователей, совершивших 35 и менее событий\n",
    "\n",
    "profiles_medium = (\n",
    "    medium_events\n",
    "        .sort_values(by=['user_id', 'event_time'])\n",
    "        .groupby('user_id')\n",
    "        .agg({'event_time':'first', 'source':'first'})\n",
    "        .rename(columns={'event_time':'first_ts'})\n",
    "        .assign(dt=lambda x: x['first_ts'].dt.week)\n",
    "        .reset_index()\n",
    ")\n",
    "\n",
    "profiles_medium"
   ]
  },
  {
   "cell_type": "code",
   "execution_count": 36,
   "metadata": {},
   "outputs": [
    {
     "data": {
      "text/html": [
       "<div>\n",
       "<style scoped>\n",
       "    .dataframe tbody tr th:only-of-type {\n",
       "        vertical-align: middle;\n",
       "    }\n",
       "\n",
       "    .dataframe tbody tr th {\n",
       "        vertical-align: top;\n",
       "    }\n",
       "\n",
       "    .dataframe thead th {\n",
       "        text-align: right;\n",
       "    }\n",
       "</style>\n",
       "<table border=\"1\" class=\"dataframe\">\n",
       "  <thead>\n",
       "    <tr style=\"text-align: right;\">\n",
       "      <th></th>\n",
       "      <th>event_time</th>\n",
       "      <th>event_name</th>\n",
       "      <th>user_id</th>\n",
       "      <th>source_x</th>\n",
       "      <th>number_events</th>\n",
       "      <th>event_week</th>\n",
       "      <th>first_ts</th>\n",
       "      <th>source_y</th>\n",
       "      <th>dt</th>\n",
       "    </tr>\n",
       "  </thead>\n",
       "  <tbody>\n",
       "    <tr>\n",
       "      <th>0</th>\n",
       "      <td>2019-10-07 00:00:00</td>\n",
       "      <td>advert_open</td>\n",
       "      <td>020292ab-89bc-4156-9acf-68bc2783f894</td>\n",
       "      <td>other</td>\n",
       "      <td>28</td>\n",
       "      <td>41</td>\n",
       "      <td>2019-10-07</td>\n",
       "      <td>other</td>\n",
       "      <td>41</td>\n",
       "    </tr>\n",
       "    <tr>\n",
       "      <th>1</th>\n",
       "      <td>2019-10-07 00:00:01</td>\n",
       "      <td>tips_show</td>\n",
       "      <td>020292ab-89bc-4156-9acf-68bc2783f894</td>\n",
       "      <td>other</td>\n",
       "      <td>28</td>\n",
       "      <td>41</td>\n",
       "      <td>2019-10-07</td>\n",
       "      <td>other</td>\n",
       "      <td>41</td>\n",
       "    </tr>\n",
       "    <tr>\n",
       "      <th>2</th>\n",
       "      <td>2019-10-07 00:00:07</td>\n",
       "      <td>tips_show</td>\n",
       "      <td>020292ab-89bc-4156-9acf-68bc2783f894</td>\n",
       "      <td>other</td>\n",
       "      <td>28</td>\n",
       "      <td>41</td>\n",
       "      <td>2019-10-07</td>\n",
       "      <td>other</td>\n",
       "      <td>41</td>\n",
       "    </tr>\n",
       "    <tr>\n",
       "      <th>3</th>\n",
       "      <td>2019-10-07 00:01:28</td>\n",
       "      <td>advert_open</td>\n",
       "      <td>020292ab-89bc-4156-9acf-68bc2783f894</td>\n",
       "      <td>other</td>\n",
       "      <td>28</td>\n",
       "      <td>41</td>\n",
       "      <td>2019-10-07</td>\n",
       "      <td>other</td>\n",
       "      <td>41</td>\n",
       "    </tr>\n",
       "    <tr>\n",
       "      <th>4</th>\n",
       "      <td>2019-10-07 00:01:35</td>\n",
       "      <td>tips_show</td>\n",
       "      <td>020292ab-89bc-4156-9acf-68bc2783f894</td>\n",
       "      <td>other</td>\n",
       "      <td>28</td>\n",
       "      <td>41</td>\n",
       "      <td>2019-10-07</td>\n",
       "      <td>other</td>\n",
       "      <td>41</td>\n",
       "    </tr>\n",
       "  </tbody>\n",
       "</table>\n",
       "</div>"
      ],
      "text/plain": [
       "           event_time   event_name                               user_id  \\\n",
       "0 2019-10-07 00:00:00  advert_open  020292ab-89bc-4156-9acf-68bc2783f894   \n",
       "1 2019-10-07 00:00:01    tips_show  020292ab-89bc-4156-9acf-68bc2783f894   \n",
       "2 2019-10-07 00:00:07    tips_show  020292ab-89bc-4156-9acf-68bc2783f894   \n",
       "3 2019-10-07 00:01:28  advert_open  020292ab-89bc-4156-9acf-68bc2783f894   \n",
       "4 2019-10-07 00:01:35    tips_show  020292ab-89bc-4156-9acf-68bc2783f894   \n",
       "\n",
       "  source_x  number_events  event_week   first_ts source_y  dt  \n",
       "0    other             28          41 2019-10-07    other  41  \n",
       "1    other             28          41 2019-10-07    other  41  \n",
       "2    other             28          41 2019-10-07    other  41  \n",
       "3    other             28          41 2019-10-07    other  41  \n",
       "4    other             28          41 2019-10-07    other  41  "
      ]
     },
     "execution_count": 36,
     "metadata": {},
     "output_type": "execute_result"
    }
   ],
   "source": [
    "# объединение таблицы профилей с датастетом с логами\n",
    "\n",
    "rt_medium = medium_events.merge(profiles_medium, on='user_id')\n",
    "\n",
    "rt_medium.head()"
   ]
  },
  {
   "cell_type": "code",
   "execution_count": 37,
   "metadata": {},
   "outputs": [
    {
     "data": {
      "text/html": [
       "<div>\n",
       "<style scoped>\n",
       "    .dataframe tbody tr th:only-of-type {\n",
       "        vertical-align: middle;\n",
       "    }\n",
       "\n",
       "    .dataframe tbody tr th {\n",
       "        vertical-align: top;\n",
       "    }\n",
       "\n",
       "    .dataframe thead th {\n",
       "        text-align: right;\n",
       "    }\n",
       "</style>\n",
       "<table border=\"1\" class=\"dataframe\">\n",
       "  <thead>\n",
       "    <tr style=\"text-align: right;\">\n",
       "      <th></th>\n",
       "      <th>event_time</th>\n",
       "      <th>event_name</th>\n",
       "      <th>user_id</th>\n",
       "      <th>source_x</th>\n",
       "      <th>number_events</th>\n",
       "      <th>event_week</th>\n",
       "      <th>first_ts</th>\n",
       "      <th>source_y</th>\n",
       "      <th>dt</th>\n",
       "      <th>lifetime</th>\n",
       "    </tr>\n",
       "  </thead>\n",
       "  <tbody>\n",
       "    <tr>\n",
       "      <th>0</th>\n",
       "      <td>2019-10-07 00:00:00</td>\n",
       "      <td>advert_open</td>\n",
       "      <td>020292ab-89bc-4156-9acf-68bc2783f894</td>\n",
       "      <td>other</td>\n",
       "      <td>28</td>\n",
       "      <td>41</td>\n",
       "      <td>2019-10-07</td>\n",
       "      <td>other</td>\n",
       "      <td>41</td>\n",
       "      <td>0</td>\n",
       "    </tr>\n",
       "    <tr>\n",
       "      <th>1</th>\n",
       "      <td>2019-10-07 00:00:01</td>\n",
       "      <td>tips_show</td>\n",
       "      <td>020292ab-89bc-4156-9acf-68bc2783f894</td>\n",
       "      <td>other</td>\n",
       "      <td>28</td>\n",
       "      <td>41</td>\n",
       "      <td>2019-10-07</td>\n",
       "      <td>other</td>\n",
       "      <td>41</td>\n",
       "      <td>0</td>\n",
       "    </tr>\n",
       "    <tr>\n",
       "      <th>2</th>\n",
       "      <td>2019-10-07 00:00:07</td>\n",
       "      <td>tips_show</td>\n",
       "      <td>020292ab-89bc-4156-9acf-68bc2783f894</td>\n",
       "      <td>other</td>\n",
       "      <td>28</td>\n",
       "      <td>41</td>\n",
       "      <td>2019-10-07</td>\n",
       "      <td>other</td>\n",
       "      <td>41</td>\n",
       "      <td>0</td>\n",
       "    </tr>\n",
       "    <tr>\n",
       "      <th>3</th>\n",
       "      <td>2019-10-07 00:01:28</td>\n",
       "      <td>advert_open</td>\n",
       "      <td>020292ab-89bc-4156-9acf-68bc2783f894</td>\n",
       "      <td>other</td>\n",
       "      <td>28</td>\n",
       "      <td>41</td>\n",
       "      <td>2019-10-07</td>\n",
       "      <td>other</td>\n",
       "      <td>41</td>\n",
       "      <td>0</td>\n",
       "    </tr>\n",
       "    <tr>\n",
       "      <th>4</th>\n",
       "      <td>2019-10-07 00:01:35</td>\n",
       "      <td>tips_show</td>\n",
       "      <td>020292ab-89bc-4156-9acf-68bc2783f894</td>\n",
       "      <td>other</td>\n",
       "      <td>28</td>\n",
       "      <td>41</td>\n",
       "      <td>2019-10-07</td>\n",
       "      <td>other</td>\n",
       "      <td>41</td>\n",
       "      <td>0</td>\n",
       "    </tr>\n",
       "  </tbody>\n",
       "</table>\n",
       "</div>"
      ],
      "text/plain": [
       "           event_time   event_name                               user_id  \\\n",
       "0 2019-10-07 00:00:00  advert_open  020292ab-89bc-4156-9acf-68bc2783f894   \n",
       "1 2019-10-07 00:00:01    tips_show  020292ab-89bc-4156-9acf-68bc2783f894   \n",
       "2 2019-10-07 00:00:07    tips_show  020292ab-89bc-4156-9acf-68bc2783f894   \n",
       "3 2019-10-07 00:01:28  advert_open  020292ab-89bc-4156-9acf-68bc2783f894   \n",
       "4 2019-10-07 00:01:35    tips_show  020292ab-89bc-4156-9acf-68bc2783f894   \n",
       "\n",
       "  source_x  number_events  event_week   first_ts source_y  dt  lifetime  \n",
       "0    other             28          41 2019-10-07    other  41         0  \n",
       "1    other             28          41 2019-10-07    other  41         0  \n",
       "2    other             28          41 2019-10-07    other  41         0  \n",
       "3    other             28          41 2019-10-07    other  41         0  \n",
       "4    other             28          41 2019-10-07    other  41         0  "
      ]
     },
     "execution_count": 37,
     "metadata": {},
     "output_type": "execute_result"
    }
   ],
   "source": [
    "# расчёт лайфтайма\n",
    "\n",
    "rt_medium['lifetime'] = rt_medium['event_week'] - rt_medium['dt']\n",
    "\n",
    "rt_medium.head()"
   ]
  },
  {
   "cell_type": "code",
   "execution_count": 38,
   "metadata": {},
   "outputs": [
    {
     "data": {
      "text/html": [
       "<div>\n",
       "<style scoped>\n",
       "    .dataframe tbody tr th:only-of-type {\n",
       "        vertical-align: middle;\n",
       "    }\n",
       "\n",
       "    .dataframe tbody tr th {\n",
       "        vertical-align: top;\n",
       "    }\n",
       "\n",
       "    .dataframe thead th {\n",
       "        text-align: right;\n",
       "    }\n",
       "</style>\n",
       "<table border=\"1\" class=\"dataframe\">\n",
       "  <thead>\n",
       "    <tr style=\"text-align: right;\">\n",
       "      <th>lifetime</th>\n",
       "      <th>0</th>\n",
       "      <th>1</th>\n",
       "      <th>2</th>\n",
       "      <th>3</th>\n",
       "    </tr>\n",
       "    <tr>\n",
       "      <th>dt</th>\n",
       "      <th></th>\n",
       "      <th></th>\n",
       "      <th></th>\n",
       "      <th></th>\n",
       "    </tr>\n",
       "  </thead>\n",
       "  <tbody>\n",
       "    <tr>\n",
       "      <th>41</th>\n",
       "      <td>976.0</td>\n",
       "      <td>180.0</td>\n",
       "      <td>107.0</td>\n",
       "      <td>66.0</td>\n",
       "    </tr>\n",
       "    <tr>\n",
       "      <th>42</th>\n",
       "      <td>1037.0</td>\n",
       "      <td>202.0</td>\n",
       "      <td>111.0</td>\n",
       "      <td>NaN</td>\n",
       "    </tr>\n",
       "    <tr>\n",
       "      <th>43</th>\n",
       "      <td>993.0</td>\n",
       "      <td>181.0</td>\n",
       "      <td>NaN</td>\n",
       "      <td>NaN</td>\n",
       "    </tr>\n",
       "    <tr>\n",
       "      <th>44</th>\n",
       "      <td>853.0</td>\n",
       "      <td>NaN</td>\n",
       "      <td>NaN</td>\n",
       "      <td>NaN</td>\n",
       "    </tr>\n",
       "  </tbody>\n",
       "</table>\n",
       "</div>"
      ],
      "text/plain": [
       "lifetime       0      1      2     3\n",
       "dt                                  \n",
       "41         976.0  180.0  107.0  66.0\n",
       "42        1037.0  202.0  111.0   NaN\n",
       "43         993.0  181.0    NaN   NaN\n",
       "44         853.0    NaN    NaN   NaN"
      ]
     },
     "execution_count": 38,
     "metadata": {},
     "output_type": "execute_result"
    }
   ],
   "source": [
    "# формирование сводной таблицы\n",
    "\n",
    "rtt_medium = rt_medium.pivot_table(\n",
    "    index = 'dt',\n",
    "    columns = 'lifetime',\n",
    "    values = 'user_id',\n",
    "    aggfunc = 'nunique'\n",
    ")\n",
    "\n",
    "rtt_medium"
   ]
  },
  {
   "cell_type": "code",
   "execution_count": 39,
   "metadata": {},
   "outputs": [
    {
     "data": {
      "text/html": [
       "<div>\n",
       "<style scoped>\n",
       "    .dataframe tbody tr th:only-of-type {\n",
       "        vertical-align: middle;\n",
       "    }\n",
       "\n",
       "    .dataframe tbody tr th {\n",
       "        vertical-align: top;\n",
       "    }\n",
       "\n",
       "    .dataframe thead th {\n",
       "        text-align: right;\n",
       "    }\n",
       "</style>\n",
       "<table border=\"1\" class=\"dataframe\">\n",
       "  <thead>\n",
       "    <tr style=\"text-align: right;\">\n",
       "      <th>lifetime</th>\n",
       "      <th>0</th>\n",
       "      <th>1</th>\n",
       "      <th>2</th>\n",
       "      <th>3</th>\n",
       "    </tr>\n",
       "    <tr>\n",
       "      <th>dt</th>\n",
       "      <th></th>\n",
       "      <th></th>\n",
       "      <th></th>\n",
       "      <th></th>\n",
       "    </tr>\n",
       "  </thead>\n",
       "  <tbody>\n",
       "    <tr>\n",
       "      <th>41</th>\n",
       "      <td>1.0</td>\n",
       "      <td>0.184426</td>\n",
       "      <td>0.109631</td>\n",
       "      <td>0.067623</td>\n",
       "    </tr>\n",
       "    <tr>\n",
       "      <th>42</th>\n",
       "      <td>1.0</td>\n",
       "      <td>0.194793</td>\n",
       "      <td>0.107040</td>\n",
       "      <td>NaN</td>\n",
       "    </tr>\n",
       "    <tr>\n",
       "      <th>43</th>\n",
       "      <td>1.0</td>\n",
       "      <td>0.182276</td>\n",
       "      <td>NaN</td>\n",
       "      <td>NaN</td>\n",
       "    </tr>\n",
       "    <tr>\n",
       "      <th>44</th>\n",
       "      <td>1.0</td>\n",
       "      <td>NaN</td>\n",
       "      <td>NaN</td>\n",
       "      <td>NaN</td>\n",
       "    </tr>\n",
       "  </tbody>\n",
       "</table>\n",
       "</div>"
      ],
      "text/plain": [
       "lifetime    0         1         2         3\n",
       "dt                                         \n",
       "41        1.0  0.184426  0.109631  0.067623\n",
       "42        1.0  0.194793  0.107040       NaN\n",
       "43        1.0  0.182276       NaN       NaN\n",
       "44        1.0       NaN       NaN       NaN"
      ]
     },
     "execution_count": 39,
     "metadata": {},
     "output_type": "execute_result"
    }
   ],
   "source": [
    "# расчёт retention rate\n",
    "\n",
    "rtt_medium.div(rtt_medium[0], axis=0)"
   ]
  },
  {
   "cell_type": "code",
   "execution_count": 40,
   "metadata": {},
   "outputs": [
    {
     "data": {
      "image/png": "[encoded data removed]",
      "text/plain": [
       "<Figure size 720x576 with 2 Axes>"
      ]
     },
     "metadata": {
      "needs_background": "light"
     },
     "output_type": "display_data"
    }
   ],
   "source": [
    "# визуализация результата предыдущего шага\n",
    "\n",
    "plt.figure(figsize = (10, 8))\n",
    "sns.heatmap(rtt_medium.div(rtt_medium[0], axis=0).drop(columns = [0]), annot = True, cmap = 'RdYlGn')\n",
    "plt.show()"
   ]
  },
  {
   "cell_type": "markdown",
   "metadata": {},
   "source": [
    "Значения Retention Rate (коэффициента удержания) для первого лайфтайма (периода) составляют: 0,18; 0,19; 0,18. \n",
    "\n",
    "Среднее значение Retention Rate для сегмента пользователей, совершивших 35 и менее событий (действий) составляет 18,3%.\n"
   ]
  },
  {
   "cell_type": "markdown",
   "metadata": {},
   "source": [
    "Расчёт Retention Rate (коэффициента удержания) показал, что пользователи, совершающие необычно много действий в приложении удерживаются значительно сильнее по сравнению с пользователями, совершающими обычное число (менее 35-ти) действий."
   ]
  },
  {
   "cell_type": "markdown",
   "metadata": {},
   "source": [
    "------------------------------------"
   ]
  },
  {
   "cell_type": "markdown",
   "metadata": {},
   "source": [
    "Далее следует расчёт конверсии в целевое действие. Целевым действием является: show_contacts - пользователь нажал на кнопку \"посмотреть номер телефона\" на карточке объявления.\n",
    "\n",
    "\n",
    "Сначала расчёт для сегмента пользователей toomuch_events."
   ]
  },
  {
   "cell_type": "code",
   "execution_count": 41,
   "metadata": {},
   "outputs": [
    {
     "data": {
      "text/html": [
       "<div>\n",
       "<style scoped>\n",
       "    .dataframe tbody tr th:only-of-type {\n",
       "        vertical-align: middle;\n",
       "    }\n",
       "\n",
       "    .dataframe tbody tr th {\n",
       "        vertical-align: top;\n",
       "    }\n",
       "\n",
       "    .dataframe thead th {\n",
       "        text-align: right;\n",
       "    }\n",
       "</style>\n",
       "<table border=\"1\" class=\"dataframe\">\n",
       "  <thead>\n",
       "    <tr style=\"text-align: right;\">\n",
       "      <th></th>\n",
       "      <th>user_id</th>\n",
       "      <th>first_view</th>\n",
       "      <th>source</th>\n",
       "    </tr>\n",
       "  </thead>\n",
       "  <tbody>\n",
       "    <tr>\n",
       "      <th>0</th>\n",
       "      <td>00157779-810c-4498-9e05-a1e9e3cedf93</td>\n",
       "      <td>2019-10-20 19:17:19</td>\n",
       "      <td>yandex</td>\n",
       "    </tr>\n",
       "    <tr>\n",
       "      <th>1</th>\n",
       "      <td>04adf25e-cb60-4cbd-bedc-ddc1057cde06</td>\n",
       "      <td>2019-10-13 17:37:33</td>\n",
       "      <td>other</td>\n",
       "    </tr>\n",
       "    <tr>\n",
       "      <th>2</th>\n",
       "      <td>04e06319-c049-465c-9170-362a191a1287</td>\n",
       "      <td>2019-10-17 11:03:24</td>\n",
       "      <td>yandex</td>\n",
       "    </tr>\n",
       "    <tr>\n",
       "      <th>3</th>\n",
       "      <td>06216934-8394-482e-a9fd-001f93bbebde</td>\n",
       "      <td>2019-10-17 16:30:20</td>\n",
       "      <td>google</td>\n",
       "    </tr>\n",
       "    <tr>\n",
       "      <th>4</th>\n",
       "      <td>06bdb96e-2712-47b3-a0af-d19f297abd6c</td>\n",
       "      <td>2019-10-12 17:52:29</td>\n",
       "      <td>yandex</td>\n",
       "    </tr>\n",
       "    <tr>\n",
       "      <th>...</th>\n",
       "      <td>...</td>\n",
       "      <td>...</td>\n",
       "      <td>...</td>\n",
       "    </tr>\n",
       "    <tr>\n",
       "      <th>179</th>\n",
       "      <td>f9e48f0a-b7b3-452b-9018-0d1e1574b9f5</td>\n",
       "      <td>2019-10-24 14:50:17</td>\n",
       "      <td>yandex</td>\n",
       "    </tr>\n",
       "    <tr>\n",
       "      <th>180</th>\n",
       "      <td>fd33e787-85c8-4c53-99bd-3439f676fb40</td>\n",
       "      <td>2019-10-29 02:22:10</td>\n",
       "      <td>other</td>\n",
       "    </tr>\n",
       "    <tr>\n",
       "      <th>181</th>\n",
       "      <td>fdd232f5-962d-4eed-ac02-f0141385cc8f</td>\n",
       "      <td>2019-10-10 16:52:22</td>\n",
       "      <td>yandex</td>\n",
       "    </tr>\n",
       "    <tr>\n",
       "      <th>182</th>\n",
       "      <td>fee3ba1c-16f4-46f7-bf56-4bf80cc4e2f5</td>\n",
       "      <td>2019-10-26 12:13:20</td>\n",
       "      <td>google</td>\n",
       "    </tr>\n",
       "    <tr>\n",
       "      <th>183</th>\n",
       "      <td>fffb9e79-b927-4dbb-9b48-7fd09b23a62b</td>\n",
       "      <td>2019-10-16 12:57:41</td>\n",
       "      <td>google</td>\n",
       "    </tr>\n",
       "  </tbody>\n",
       "</table>\n",
       "<p>184 rows × 3 columns</p>\n",
       "</div>"
      ],
      "text/plain": [
       "                                  user_id          first_view  source\n",
       "0    00157779-810c-4498-9e05-a1e9e3cedf93 2019-10-20 19:17:19  yandex\n",
       "1    04adf25e-cb60-4cbd-bedc-ddc1057cde06 2019-10-13 17:37:33   other\n",
       "2    04e06319-c049-465c-9170-362a191a1287 2019-10-17 11:03:24  yandex\n",
       "3    06216934-8394-482e-a9fd-001f93bbebde 2019-10-17 16:30:20  google\n",
       "4    06bdb96e-2712-47b3-a0af-d19f297abd6c 2019-10-12 17:52:29  yandex\n",
       "..                                    ...                 ...     ...\n",
       "179  f9e48f0a-b7b3-452b-9018-0d1e1574b9f5 2019-10-24 14:50:17  yandex\n",
       "180  fd33e787-85c8-4c53-99bd-3439f676fb40 2019-10-29 02:22:10   other\n",
       "181  fdd232f5-962d-4eed-ac02-f0141385cc8f 2019-10-10 16:52:22  yandex\n",
       "182  fee3ba1c-16f4-46f7-bf56-4bf80cc4e2f5 2019-10-26 12:13:20  google\n",
       "183  fffb9e79-b927-4dbb-9b48-7fd09b23a62b 2019-10-16 12:57:41  google\n",
       "\n",
       "[184 rows x 3 columns]"
      ]
     },
     "execution_count": 41,
     "metadata": {},
     "output_type": "execute_result"
    }
   ],
   "source": [
    "# формирование таблицы логов пользователей впервые совершивших действие \"пользователь нажал на кнопку \n",
    "# \"посмотреть номер телефона\" на карточке объявления\" среди пользователей, \n",
    "# совершивших более 35 событий\n",
    "\n",
    "contacts_toomuch = (\n",
    "    toomuch_events.query('event_name == \"show_contacts\"')\n",
    "        .sort_values(by=['user_id', 'event_time'])\n",
    "        .groupby('user_id')\n",
    "        .agg({'event_time':'first', 'source':'first'})\n",
    "        .rename(columns={'event_time':'first_view'})\n",
    "        .reset_index()\n",
    ")\n",
    "\n",
    "contacts_toomuch"
   ]
  },
  {
   "cell_type": "code",
   "execution_count": 42,
   "metadata": {},
   "outputs": [
    {
     "data": {
      "text/html": [
       "<div>\n",
       "<style scoped>\n",
       "    .dataframe tbody tr th:only-of-type {\n",
       "        vertical-align: middle;\n",
       "    }\n",
       "\n",
       "    .dataframe tbody tr th {\n",
       "        vertical-align: top;\n",
       "    }\n",
       "\n",
       "    .dataframe thead th {\n",
       "        text-align: right;\n",
       "    }\n",
       "</style>\n",
       "<table border=\"1\" class=\"dataframe\">\n",
       "  <thead>\n",
       "    <tr style=\"text-align: right;\">\n",
       "      <th></th>\n",
       "      <th>user_id</th>\n",
       "      <th>first_ts</th>\n",
       "      <th>source_x</th>\n",
       "      <th>dt</th>\n",
       "      <th>first_view</th>\n",
       "      <th>source_y</th>\n",
       "      <th>first_week</th>\n",
       "    </tr>\n",
       "  </thead>\n",
       "  <tbody>\n",
       "    <tr>\n",
       "      <th>0</th>\n",
       "      <td>00157779-810c-4498-9e05-a1e9e3cedf93</td>\n",
       "      <td>2019-10-19 21:34:34</td>\n",
       "      <td>yandex</td>\n",
       "      <td>42</td>\n",
       "      <td>2019-10-20 19:17:19</td>\n",
       "      <td>yandex</td>\n",
       "      <td>42.0</td>\n",
       "    </tr>\n",
       "    <tr>\n",
       "      <th>1</th>\n",
       "      <td>017c6afc-965d-4c94-84ee-f0e326998e30</td>\n",
       "      <td>2019-10-10 14:28:11</td>\n",
       "      <td>other</td>\n",
       "      <td>41</td>\n",
       "      <td>NaT</td>\n",
       "      <td>NaN</td>\n",
       "      <td>NaN</td>\n",
       "    </tr>\n",
       "    <tr>\n",
       "      <th>2</th>\n",
       "      <td>02c90994-8de8-49e8-a384-415fb1602ac5</td>\n",
       "      <td>2019-10-14 23:07:14</td>\n",
       "      <td>other</td>\n",
       "      <td>42</td>\n",
       "      <td>NaT</td>\n",
       "      <td>NaN</td>\n",
       "      <td>NaN</td>\n",
       "    </tr>\n",
       "    <tr>\n",
       "      <th>3</th>\n",
       "      <td>04adf25e-cb60-4cbd-bedc-ddc1057cde06</td>\n",
       "      <td>2019-10-13 15:41:09</td>\n",
       "      <td>other</td>\n",
       "      <td>41</td>\n",
       "      <td>2019-10-13 17:37:33</td>\n",
       "      <td>other</td>\n",
       "      <td>41.0</td>\n",
       "    </tr>\n",
       "    <tr>\n",
       "      <th>4</th>\n",
       "      <td>04d0b1b4-d31f-4c19-bc7e-14e5fcf6f791</td>\n",
       "      <td>2019-10-26 15:36:03</td>\n",
       "      <td>yandex</td>\n",
       "      <td>43</td>\n",
       "      <td>NaT</td>\n",
       "      <td>NaN</td>\n",
       "      <td>NaN</td>\n",
       "    </tr>\n",
       "  </tbody>\n",
       "</table>\n",
       "</div>"
      ],
      "text/plain": [
       "                                user_id            first_ts source_x  dt  \\\n",
       "0  00157779-810c-4498-9e05-a1e9e3cedf93 2019-10-19 21:34:34   yandex  42   \n",
       "1  017c6afc-965d-4c94-84ee-f0e326998e30 2019-10-10 14:28:11    other  41   \n",
       "2  02c90994-8de8-49e8-a384-415fb1602ac5 2019-10-14 23:07:14    other  42   \n",
       "3  04adf25e-cb60-4cbd-bedc-ddc1057cde06 2019-10-13 15:41:09    other  41   \n",
       "4  04d0b1b4-d31f-4c19-bc7e-14e5fcf6f791 2019-10-26 15:36:03   yandex  43   \n",
       "\n",
       "           first_view source_y  first_week  \n",
       "0 2019-10-20 19:17:19   yandex        42.0  \n",
       "1                 NaT      NaN         NaN  \n",
       "2                 NaT      NaN         NaN  \n",
       "3 2019-10-13 17:37:33    other        41.0  \n",
       "4                 NaT      NaN         NaN  "
      ]
     },
     "execution_count": 42,
     "metadata": {},
     "output_type": "execute_result"
    }
   ],
   "source": [
    "# объединение таблицы профилей с датастетом логов contacts_viewers\n",
    "\n",
    "cr_toomuch = profiles_toomuch.merge(contacts_toomuch, on = 'user_id', how = 'left')\n",
    "cr_toomuch['first_week'] = cr_toomuch['first_view'].dt.week\n",
    "cr_toomuch.head()"
   ]
  },
  {
   "cell_type": "code",
   "execution_count": 43,
   "metadata": {},
   "outputs": [
    {
     "data": {
      "text/html": [
       "<div>\n",
       "<style scoped>\n",
       "    .dataframe tbody tr th:only-of-type {\n",
       "        vertical-align: middle;\n",
       "    }\n",
       "\n",
       "    .dataframe tbody tr th {\n",
       "        vertical-align: top;\n",
       "    }\n",
       "\n",
       "    .dataframe thead th {\n",
       "        text-align: right;\n",
       "    }\n",
       "</style>\n",
       "<table border=\"1\" class=\"dataframe\">\n",
       "  <thead>\n",
       "    <tr style=\"text-align: right;\">\n",
       "      <th></th>\n",
       "      <th>user_id</th>\n",
       "      <th>first_ts</th>\n",
       "      <th>source_x</th>\n",
       "      <th>dt</th>\n",
       "      <th>first_view</th>\n",
       "      <th>source_y</th>\n",
       "      <th>first_week</th>\n",
       "      <th>lifetime</th>\n",
       "    </tr>\n",
       "  </thead>\n",
       "  <tbody>\n",
       "    <tr>\n",
       "      <th>0</th>\n",
       "      <td>00157779-810c-4498-9e05-a1e9e3cedf93</td>\n",
       "      <td>2019-10-19 21:34:34</td>\n",
       "      <td>yandex</td>\n",
       "      <td>42</td>\n",
       "      <td>2019-10-20 19:17:19</td>\n",
       "      <td>yandex</td>\n",
       "      <td>42.0</td>\n",
       "      <td>0.0</td>\n",
       "    </tr>\n",
       "    <tr>\n",
       "      <th>1</th>\n",
       "      <td>017c6afc-965d-4c94-84ee-f0e326998e30</td>\n",
       "      <td>2019-10-10 14:28:11</td>\n",
       "      <td>other</td>\n",
       "      <td>41</td>\n",
       "      <td>NaT</td>\n",
       "      <td>NaN</td>\n",
       "      <td>NaN</td>\n",
       "      <td>NaN</td>\n",
       "    </tr>\n",
       "    <tr>\n",
       "      <th>2</th>\n",
       "      <td>02c90994-8de8-49e8-a384-415fb1602ac5</td>\n",
       "      <td>2019-10-14 23:07:14</td>\n",
       "      <td>other</td>\n",
       "      <td>42</td>\n",
       "      <td>NaT</td>\n",
       "      <td>NaN</td>\n",
       "      <td>NaN</td>\n",
       "      <td>NaN</td>\n",
       "    </tr>\n",
       "    <tr>\n",
       "      <th>3</th>\n",
       "      <td>04adf25e-cb60-4cbd-bedc-ddc1057cde06</td>\n",
       "      <td>2019-10-13 15:41:09</td>\n",
       "      <td>other</td>\n",
       "      <td>41</td>\n",
       "      <td>2019-10-13 17:37:33</td>\n",
       "      <td>other</td>\n",
       "      <td>41.0</td>\n",
       "      <td>0.0</td>\n",
       "    </tr>\n",
       "    <tr>\n",
       "      <th>4</th>\n",
       "      <td>04d0b1b4-d31f-4c19-bc7e-14e5fcf6f791</td>\n",
       "      <td>2019-10-26 15:36:03</td>\n",
       "      <td>yandex</td>\n",
       "      <td>43</td>\n",
       "      <td>NaT</td>\n",
       "      <td>NaN</td>\n",
       "      <td>NaN</td>\n",
       "      <td>NaN</td>\n",
       "    </tr>\n",
       "  </tbody>\n",
       "</table>\n",
       "</div>"
      ],
      "text/plain": [
       "                                user_id            first_ts source_x  dt  \\\n",
       "0  00157779-810c-4498-9e05-a1e9e3cedf93 2019-10-19 21:34:34   yandex  42   \n",
       "1  017c6afc-965d-4c94-84ee-f0e326998e30 2019-10-10 14:28:11    other  41   \n",
       "2  02c90994-8de8-49e8-a384-415fb1602ac5 2019-10-14 23:07:14    other  42   \n",
       "3  04adf25e-cb60-4cbd-bedc-ddc1057cde06 2019-10-13 15:41:09    other  41   \n",
       "4  04d0b1b4-d31f-4c19-bc7e-14e5fcf6f791 2019-10-26 15:36:03   yandex  43   \n",
       "\n",
       "           first_view source_y  first_week  lifetime  \n",
       "0 2019-10-20 19:17:19   yandex        42.0       0.0  \n",
       "1                 NaT      NaN         NaN       NaN  \n",
       "2                 NaT      NaN         NaN       NaN  \n",
       "3 2019-10-13 17:37:33    other        41.0       0.0  \n",
       "4                 NaT      NaN         NaN       NaN  "
      ]
     },
     "execution_count": 43,
     "metadata": {},
     "output_type": "execute_result"
    }
   ],
   "source": [
    "# вычисление лайфтайма - количества дней, прошедших со дня первого посещения приложения до дня \n",
    "# совершения show_contacts (просмотра контактов)\n",
    "\n",
    "cr_toomuch['lifetime'] = cr_toomuch['first_week'] - cr_toomuch['dt']\n",
    "\n",
    "cr_toomuch.head()"
   ]
  },
  {
   "cell_type": "code",
   "execution_count": 44,
   "metadata": {},
   "outputs": [
    {
     "data": {
      "text/html": [
       "<div>\n",
       "<style scoped>\n",
       "    .dataframe tbody tr th:only-of-type {\n",
       "        vertical-align: middle;\n",
       "    }\n",
       "\n",
       "    .dataframe tbody tr th {\n",
       "        vertical-align: top;\n",
       "    }\n",
       "\n",
       "    .dataframe thead th {\n",
       "        text-align: right;\n",
       "    }\n",
       "</style>\n",
       "<table border=\"1\" class=\"dataframe\">\n",
       "  <thead>\n",
       "    <tr style=\"text-align: right;\">\n",
       "      <th>lifetime</th>\n",
       "      <th>0.0</th>\n",
       "      <th>1.0</th>\n",
       "      <th>2.0</th>\n",
       "      <th>3.0</th>\n",
       "    </tr>\n",
       "    <tr>\n",
       "      <th>dt</th>\n",
       "      <th></th>\n",
       "      <th></th>\n",
       "      <th></th>\n",
       "      <th></th>\n",
       "    </tr>\n",
       "  </thead>\n",
       "  <tbody>\n",
       "    <tr>\n",
       "      <th>41</th>\n",
       "      <td>47.0</td>\n",
       "      <td>15.0</td>\n",
       "      <td>4.0</td>\n",
       "      <td>1.0</td>\n",
       "    </tr>\n",
       "    <tr>\n",
       "      <th>42</th>\n",
       "      <td>35.0</td>\n",
       "      <td>7.0</td>\n",
       "      <td>5.0</td>\n",
       "      <td>NaN</td>\n",
       "    </tr>\n",
       "    <tr>\n",
       "      <th>43</th>\n",
       "      <td>41.0</td>\n",
       "      <td>7.0</td>\n",
       "      <td>NaN</td>\n",
       "      <td>NaN</td>\n",
       "    </tr>\n",
       "    <tr>\n",
       "      <th>44</th>\n",
       "      <td>22.0</td>\n",
       "      <td>NaN</td>\n",
       "      <td>NaN</td>\n",
       "      <td>NaN</td>\n",
       "    </tr>\n",
       "  </tbody>\n",
       "</table>\n",
       "</div>"
      ],
      "text/plain": [
       "lifetime   0.0   1.0  2.0  3.0\n",
       "dt                            \n",
       "41        47.0  15.0  4.0  1.0\n",
       "42        35.0   7.0  5.0  NaN\n",
       "43        41.0   7.0  NaN  NaN\n",
       "44        22.0   NaN  NaN  NaN"
      ]
     },
     "execution_count": 44,
     "metadata": {},
     "output_type": "execute_result"
    }
   ],
   "source": [
    "# формирование сводной таблицы конверсии в целевое действие\n",
    "\n",
    "crr_toomuch = cr_toomuch.pivot_table(\n",
    "    index = 'dt',\n",
    "    columns = 'lifetime',\n",
    "    values = 'first_week',\n",
    "    aggfunc = 'count'\n",
    ")\n",
    "\n",
    "crr_toomuch"
   ]
  },
  {
   "cell_type": "code",
   "execution_count": 45,
   "metadata": {},
   "outputs": [
    {
     "data": {
      "text/html": [
       "<div>\n",
       "<style scoped>\n",
       "    .dataframe tbody tr th:only-of-type {\n",
       "        vertical-align: middle;\n",
       "    }\n",
       "\n",
       "    .dataframe tbody tr th {\n",
       "        vertical-align: top;\n",
       "    }\n",
       "\n",
       "    .dataframe thead th {\n",
       "        text-align: right;\n",
       "    }\n",
       "</style>\n",
       "<table border=\"1\" class=\"dataframe\">\n",
       "  <thead>\n",
       "    <tr style=\"text-align: right;\">\n",
       "      <th>lifetime</th>\n",
       "      <th>0.0</th>\n",
       "      <th>1.0</th>\n",
       "      <th>2.0</th>\n",
       "      <th>3.0</th>\n",
       "    </tr>\n",
       "    <tr>\n",
       "      <th>dt</th>\n",
       "      <th></th>\n",
       "      <th></th>\n",
       "      <th></th>\n",
       "      <th></th>\n",
       "    </tr>\n",
       "  </thead>\n",
       "  <tbody>\n",
       "    <tr>\n",
       "      <th>41</th>\n",
       "      <td>47.0</td>\n",
       "      <td>62.0</td>\n",
       "      <td>66.0</td>\n",
       "      <td>67.0</td>\n",
       "    </tr>\n",
       "    <tr>\n",
       "      <th>42</th>\n",
       "      <td>35.0</td>\n",
       "      <td>42.0</td>\n",
       "      <td>47.0</td>\n",
       "      <td>NaN</td>\n",
       "    </tr>\n",
       "    <tr>\n",
       "      <th>43</th>\n",
       "      <td>41.0</td>\n",
       "      <td>48.0</td>\n",
       "      <td>NaN</td>\n",
       "      <td>NaN</td>\n",
       "    </tr>\n",
       "    <tr>\n",
       "      <th>44</th>\n",
       "      <td>22.0</td>\n",
       "      <td>NaN</td>\n",
       "      <td>NaN</td>\n",
       "      <td>NaN</td>\n",
       "    </tr>\n",
       "  </tbody>\n",
       "</table>\n",
       "</div>"
      ],
      "text/plain": [
       "lifetime   0.0   1.0   2.0   3.0\n",
       "dt                              \n",
       "41        47.0  62.0  66.0  67.0\n",
       "42        35.0  42.0  47.0   NaN\n",
       "43        41.0  48.0   NaN   NaN\n",
       "44        22.0   NaN   NaN   NaN"
      ]
     },
     "execution_count": 45,
     "metadata": {},
     "output_type": "execute_result"
    }
   ],
   "source": [
    "# переформатирование конверсии в кумулятивную конверсию\n",
    "\n",
    "cumcrr_toomuch = crr_toomuch.cumsum(axis = 1)\n",
    "cumcrr_toomuch"
   ]
  },
  {
   "cell_type": "code",
   "execution_count": 46,
   "metadata": {},
   "outputs": [
    {
     "data": {
      "text/plain": [
       "dt\n",
       "41    154\n",
       "42    129\n",
       "43    101\n",
       "44     50\n",
       "Name: user_id, dtype: int64"
      ]
     },
     "execution_count": 46,
     "metadata": {},
     "output_type": "execute_result"
    }
   ],
   "source": [
    "# расчёт размера когорт пользователей приложения\n",
    "\n",
    "sizes_toomuch = profiles_toomuch.groupby('dt')['user_id'].count()\n",
    "sizes_toomuch"
   ]
  },
  {
   "cell_type": "code",
   "execution_count": 47,
   "metadata": {},
   "outputs": [
    {
     "data": {
      "text/html": [
       "<div>\n",
       "<style scoped>\n",
       "    .dataframe tbody tr th:only-of-type {\n",
       "        vertical-align: middle;\n",
       "    }\n",
       "\n",
       "    .dataframe tbody tr th {\n",
       "        vertical-align: top;\n",
       "    }\n",
       "\n",
       "    .dataframe thead th {\n",
       "        text-align: right;\n",
       "    }\n",
       "</style>\n",
       "<table border=\"1\" class=\"dataframe\">\n",
       "  <thead>\n",
       "    <tr style=\"text-align: right;\">\n",
       "      <th>lifetime</th>\n",
       "      <th>0.0</th>\n",
       "      <th>1.0</th>\n",
       "      <th>2.0</th>\n",
       "      <th>3.0</th>\n",
       "    </tr>\n",
       "    <tr>\n",
       "      <th>dt</th>\n",
       "      <th></th>\n",
       "      <th></th>\n",
       "      <th></th>\n",
       "      <th></th>\n",
       "    </tr>\n",
       "  </thead>\n",
       "  <tbody>\n",
       "    <tr>\n",
       "      <th>41</th>\n",
       "      <td>0.305195</td>\n",
       "      <td>0.402597</td>\n",
       "      <td>0.428571</td>\n",
       "      <td>0.435065</td>\n",
       "    </tr>\n",
       "    <tr>\n",
       "      <th>42</th>\n",
       "      <td>0.271318</td>\n",
       "      <td>0.325581</td>\n",
       "      <td>0.364341</td>\n",
       "      <td>NaN</td>\n",
       "    </tr>\n",
       "    <tr>\n",
       "      <th>43</th>\n",
       "      <td>0.405941</td>\n",
       "      <td>0.475248</td>\n",
       "      <td>NaN</td>\n",
       "      <td>NaN</td>\n",
       "    </tr>\n",
       "    <tr>\n",
       "      <th>44</th>\n",
       "      <td>0.440000</td>\n",
       "      <td>NaN</td>\n",
       "      <td>NaN</td>\n",
       "      <td>NaN</td>\n",
       "    </tr>\n",
       "  </tbody>\n",
       "</table>\n",
       "</div>"
      ],
      "text/plain": [
       "lifetime       0.0       1.0       2.0       3.0\n",
       "dt                                              \n",
       "41        0.305195  0.402597  0.428571  0.435065\n",
       "42        0.271318  0.325581  0.364341       NaN\n",
       "43        0.405941  0.475248       NaN       NaN\n",
       "44        0.440000       NaN       NaN       NaN"
      ]
     },
     "execution_count": 47,
     "metadata": {},
     "output_type": "execute_result"
    }
   ],
   "source": [
    "# расчёт кумулятивной конверсии в целевое действие в долях\n",
    "\n",
    "cumcrr_toomuch.div(sizes_toomuch, axis = 0)"
   ]
  },
  {
   "cell_type": "code",
   "execution_count": 48,
   "metadata": {},
   "outputs": [
    {
     "data": {
      "image/png": "[encoded data removed]",
      "text/plain": [
       "<Figure size 720x576 with 2 Axes>"
      ]
     },
     "metadata": {
      "needs_background": "light"
     },
     "output_type": "display_data"
    }
   ],
   "source": [
    "# визуализация результата предыдущего шага\n",
    "\n",
    "plt.figure(figsize = (10, 8))\n",
    "sns.heatmap(cumcrr_toomuch.div(sizes_toomuch, axis = 0), annot = True, cmap = 'RdYlGn')\n",
    "plt.show()"
   ]
  },
  {
   "cell_type": "markdown",
   "metadata": {},
   "source": [
    "Значения CR (конверсии в целевое действие) для первого лайфтайма (периода) составляют: 0,31; 0,27; 0,41; 0,44. \n",
    "\n",
    "Среднее значение CR для сегмента пользователей, совершивших более 35-ти событий (действий) составляет 35,75%.\n"
   ]
  },
  {
   "cell_type": "code",
   "execution_count": 49,
   "metadata": {},
   "outputs": [
    {
     "data": {
      "text/html": [
       "<div>\n",
       "<style scoped>\n",
       "    .dataframe tbody tr th:only-of-type {\n",
       "        vertical-align: middle;\n",
       "    }\n",
       "\n",
       "    .dataframe tbody tr th {\n",
       "        vertical-align: top;\n",
       "    }\n",
       "\n",
       "    .dataframe thead th {\n",
       "        text-align: right;\n",
       "    }\n",
       "</style>\n",
       "<table border=\"1\" class=\"dataframe\">\n",
       "  <thead>\n",
       "    <tr style=\"text-align: right;\">\n",
       "      <th></th>\n",
       "      <th>user_id</th>\n",
       "      <th>first_view</th>\n",
       "      <th>source</th>\n",
       "    </tr>\n",
       "  </thead>\n",
       "  <tbody>\n",
       "    <tr>\n",
       "      <th>0</th>\n",
       "      <td>00551e79-152e-4441-9cf7-565d7eb04090</td>\n",
       "      <td>2019-10-25 16:44:41</td>\n",
       "      <td>yandex</td>\n",
       "    </tr>\n",
       "    <tr>\n",
       "      <th>1</th>\n",
       "      <td>005fbea5-2678-406f-88a6-fbe9787e2268</td>\n",
       "      <td>2019-10-11 11:22:54</td>\n",
       "      <td>yandex</td>\n",
       "    </tr>\n",
       "    <tr>\n",
       "      <th>2</th>\n",
       "      <td>00753c79-ea81-4456-acd0-a47a23ca2fb9</td>\n",
       "      <td>2019-10-20 14:57:06</td>\n",
       "      <td>yandex</td>\n",
       "    </tr>\n",
       "    <tr>\n",
       "      <th>3</th>\n",
       "      <td>007d031d-5018-4e02-b7ee-72a30609173f</td>\n",
       "      <td>2019-10-22 13:08:09</td>\n",
       "      <td>yandex</td>\n",
       "    </tr>\n",
       "    <tr>\n",
       "      <th>4</th>\n",
       "      <td>00a93a72-3bbc-4ee7-8a81-7134f45ae009</td>\n",
       "      <td>2019-10-11 15:38:13</td>\n",
       "      <td>google</td>\n",
       "    </tr>\n",
       "    <tr>\n",
       "      <th>...</th>\n",
       "      <td>...</td>\n",
       "      <td>...</td>\n",
       "      <td>...</td>\n",
       "    </tr>\n",
       "    <tr>\n",
       "      <th>792</th>\n",
       "      <td>fda0d8ef-8cbf-4b3a-af44-8f4034bd9cc5</td>\n",
       "      <td>2019-10-17 22:06:36</td>\n",
       "      <td>google</td>\n",
       "    </tr>\n",
       "    <tr>\n",
       "      <th>793</th>\n",
       "      <td>fdaffa89-8eb4-4908-beba-2b40deb53346</td>\n",
       "      <td>2019-10-30 18:12:07</td>\n",
       "      <td>google</td>\n",
       "    </tr>\n",
       "    <tr>\n",
       "      <th>794</th>\n",
       "      <td>ff1554b5-919e-40b1-90bb-ee1f7f6d5846</td>\n",
       "      <td>2019-10-21 10:59:24</td>\n",
       "      <td>other</td>\n",
       "    </tr>\n",
       "    <tr>\n",
       "      <th>795</th>\n",
       "      <td>ffc01466-fdb1-4460-ae94-e800f52eb136</td>\n",
       "      <td>2019-10-07 20:33:42</td>\n",
       "      <td>yandex</td>\n",
       "    </tr>\n",
       "    <tr>\n",
       "      <th>796</th>\n",
       "      <td>ffe68f10-e48e-470e-be9b-eeb93128ff1a</td>\n",
       "      <td>2019-10-22 16:07:18</td>\n",
       "      <td>yandex</td>\n",
       "    </tr>\n",
       "  </tbody>\n",
       "</table>\n",
       "<p>797 rows × 3 columns</p>\n",
       "</div>"
      ],
      "text/plain": [
       "                                  user_id          first_view  source\n",
       "0    00551e79-152e-4441-9cf7-565d7eb04090 2019-10-25 16:44:41  yandex\n",
       "1    005fbea5-2678-406f-88a6-fbe9787e2268 2019-10-11 11:22:54  yandex\n",
       "2    00753c79-ea81-4456-acd0-a47a23ca2fb9 2019-10-20 14:57:06  yandex\n",
       "3    007d031d-5018-4e02-b7ee-72a30609173f 2019-10-22 13:08:09  yandex\n",
       "4    00a93a72-3bbc-4ee7-8a81-7134f45ae009 2019-10-11 15:38:13  google\n",
       "..                                    ...                 ...     ...\n",
       "792  fda0d8ef-8cbf-4b3a-af44-8f4034bd9cc5 2019-10-17 22:06:36  google\n",
       "793  fdaffa89-8eb4-4908-beba-2b40deb53346 2019-10-30 18:12:07  google\n",
       "794  ff1554b5-919e-40b1-90bb-ee1f7f6d5846 2019-10-21 10:59:24   other\n",
       "795  ffc01466-fdb1-4460-ae94-e800f52eb136 2019-10-07 20:33:42  yandex\n",
       "796  ffe68f10-e48e-470e-be9b-eeb93128ff1a 2019-10-22 16:07:18  yandex\n",
       "\n",
       "[797 rows x 3 columns]"
      ]
     },
     "execution_count": 49,
     "metadata": {},
     "output_type": "execute_result"
    }
   ],
   "source": [
    "# формирование таблицы логов пользователей впервые совершивших действие \"пользователь нажал на кнопку \n",
    "# \"посмотреть номер телефона\" на карточке объявления\" среди пользователей, \n",
    "# совершивших 35 и менее событий\n",
    "\n",
    "contacts_medium = (\n",
    "    medium_events.query('event_name == \"show_contacts\"')\n",
    "        .sort_values(by=['user_id', 'event_time'])\n",
    "        .groupby('user_id')\n",
    "        .agg({'event_time':'first', 'source':'first'})\n",
    "        .rename(columns={'event_time':'first_view'})\n",
    "        .reset_index()\n",
    ")\n",
    "\n",
    "contacts_medium"
   ]
  },
  {
   "cell_type": "code",
   "execution_count": 50,
   "metadata": {},
   "outputs": [
    {
     "data": {
      "text/html": [
       "<div>\n",
       "<style scoped>\n",
       "    .dataframe tbody tr th:only-of-type {\n",
       "        vertical-align: middle;\n",
       "    }\n",
       "\n",
       "    .dataframe tbody tr th {\n",
       "        vertical-align: top;\n",
       "    }\n",
       "\n",
       "    .dataframe thead th {\n",
       "        text-align: right;\n",
       "    }\n",
       "</style>\n",
       "<table border=\"1\" class=\"dataframe\">\n",
       "  <thead>\n",
       "    <tr style=\"text-align: right;\">\n",
       "      <th></th>\n",
       "      <th>user_id</th>\n",
       "      <th>first_ts</th>\n",
       "      <th>source_x</th>\n",
       "      <th>dt</th>\n",
       "      <th>first_view</th>\n",
       "      <th>source_y</th>\n",
       "      <th>first_week</th>\n",
       "    </tr>\n",
       "  </thead>\n",
       "  <tbody>\n",
       "    <tr>\n",
       "      <th>0</th>\n",
       "      <td>0001b1d5-b74a-4cbf-aeb0-7df5947bf349</td>\n",
       "      <td>2019-10-07 13:39:46</td>\n",
       "      <td>other</td>\n",
       "      <td>41</td>\n",
       "      <td>NaT</td>\n",
       "      <td>NaN</td>\n",
       "      <td>NaN</td>\n",
       "    </tr>\n",
       "    <tr>\n",
       "      <th>1</th>\n",
       "      <td>00463033-5717-4bf1-91b4-09183923b9df</td>\n",
       "      <td>2019-11-01 13:54:35</td>\n",
       "      <td>yandex</td>\n",
       "      <td>44</td>\n",
       "      <td>NaT</td>\n",
       "      <td>NaN</td>\n",
       "      <td>NaN</td>\n",
       "    </tr>\n",
       "    <tr>\n",
       "      <th>2</th>\n",
       "      <td>004690c3-5a84-4bb7-a8af-e0c8f8fca64e</td>\n",
       "      <td>2019-10-18 22:14:06</td>\n",
       "      <td>google</td>\n",
       "      <td>42</td>\n",
       "      <td>NaT</td>\n",
       "      <td>NaN</td>\n",
       "      <td>NaN</td>\n",
       "    </tr>\n",
       "    <tr>\n",
       "      <th>3</th>\n",
       "      <td>00551e79-152e-4441-9cf7-565d7eb04090</td>\n",
       "      <td>2019-10-25 16:44:41</td>\n",
       "      <td>yandex</td>\n",
       "      <td>43</td>\n",
       "      <td>2019-10-25 16:44:41</td>\n",
       "      <td>yandex</td>\n",
       "      <td>43.0</td>\n",
       "    </tr>\n",
       "    <tr>\n",
       "      <th>4</th>\n",
       "      <td>00554293-7e00-4122-b898-4e892c4a7c53</td>\n",
       "      <td>2019-10-27 12:32:28</td>\n",
       "      <td>yandex</td>\n",
       "      <td>43</td>\n",
       "      <td>NaT</td>\n",
       "      <td>NaN</td>\n",
       "      <td>NaN</td>\n",
       "    </tr>\n",
       "  </tbody>\n",
       "</table>\n",
       "</div>"
      ],
      "text/plain": [
       "                                user_id            first_ts source_x  dt  \\\n",
       "0  0001b1d5-b74a-4cbf-aeb0-7df5947bf349 2019-10-07 13:39:46    other  41   \n",
       "1  00463033-5717-4bf1-91b4-09183923b9df 2019-11-01 13:54:35   yandex  44   \n",
       "2  004690c3-5a84-4bb7-a8af-e0c8f8fca64e 2019-10-18 22:14:06   google  42   \n",
       "3  00551e79-152e-4441-9cf7-565d7eb04090 2019-10-25 16:44:41   yandex  43   \n",
       "4  00554293-7e00-4122-b898-4e892c4a7c53 2019-10-27 12:32:28   yandex  43   \n",
       "\n",
       "           first_view source_y  first_week  \n",
       "0                 NaT      NaN         NaN  \n",
       "1                 NaT      NaN         NaN  \n",
       "2                 NaT      NaN         NaN  \n",
       "3 2019-10-25 16:44:41   yandex        43.0  \n",
       "4                 NaT      NaN         NaN  "
      ]
     },
     "execution_count": 50,
     "metadata": {},
     "output_type": "execute_result"
    }
   ],
   "source": [
    "# объединение таблицы профилей с датастетом логов contacts_viewers\n",
    "\n",
    "cr_medium = profiles_medium.merge(contacts_medium, on = 'user_id', how = 'left')\n",
    "cr_medium['first_week'] = cr_medium['first_view'].dt.week\n",
    "cr_medium.head()"
   ]
  },
  {
   "cell_type": "code",
   "execution_count": 51,
   "metadata": {},
   "outputs": [
    {
     "data": {
      "text/html": [
       "<div>\n",
       "<style scoped>\n",
       "    .dataframe tbody tr th:only-of-type {\n",
       "        vertical-align: middle;\n",
       "    }\n",
       "\n",
       "    .dataframe tbody tr th {\n",
       "        vertical-align: top;\n",
       "    }\n",
       "\n",
       "    .dataframe thead th {\n",
       "        text-align: right;\n",
       "    }\n",
       "</style>\n",
       "<table border=\"1\" class=\"dataframe\">\n",
       "  <thead>\n",
       "    <tr style=\"text-align: right;\">\n",
       "      <th></th>\n",
       "      <th>user_id</th>\n",
       "      <th>first_ts</th>\n",
       "      <th>source_x</th>\n",
       "      <th>dt</th>\n",
       "      <th>first_view</th>\n",
       "      <th>source_y</th>\n",
       "      <th>first_week</th>\n",
       "      <th>lifetime</th>\n",
       "    </tr>\n",
       "  </thead>\n",
       "  <tbody>\n",
       "    <tr>\n",
       "      <th>0</th>\n",
       "      <td>0001b1d5-b74a-4cbf-aeb0-7df5947bf349</td>\n",
       "      <td>2019-10-07 13:39:46</td>\n",
       "      <td>other</td>\n",
       "      <td>41</td>\n",
       "      <td>NaT</td>\n",
       "      <td>NaN</td>\n",
       "      <td>NaN</td>\n",
       "      <td>NaN</td>\n",
       "    </tr>\n",
       "    <tr>\n",
       "      <th>1</th>\n",
       "      <td>00463033-5717-4bf1-91b4-09183923b9df</td>\n",
       "      <td>2019-11-01 13:54:35</td>\n",
       "      <td>yandex</td>\n",
       "      <td>44</td>\n",
       "      <td>NaT</td>\n",
       "      <td>NaN</td>\n",
       "      <td>NaN</td>\n",
       "      <td>NaN</td>\n",
       "    </tr>\n",
       "    <tr>\n",
       "      <th>2</th>\n",
       "      <td>004690c3-5a84-4bb7-a8af-e0c8f8fca64e</td>\n",
       "      <td>2019-10-18 22:14:06</td>\n",
       "      <td>google</td>\n",
       "      <td>42</td>\n",
       "      <td>NaT</td>\n",
       "      <td>NaN</td>\n",
       "      <td>NaN</td>\n",
       "      <td>NaN</td>\n",
       "    </tr>\n",
       "    <tr>\n",
       "      <th>3</th>\n",
       "      <td>00551e79-152e-4441-9cf7-565d7eb04090</td>\n",
       "      <td>2019-10-25 16:44:41</td>\n",
       "      <td>yandex</td>\n",
       "      <td>43</td>\n",
       "      <td>2019-10-25 16:44:41</td>\n",
       "      <td>yandex</td>\n",
       "      <td>43.0</td>\n",
       "      <td>0.0</td>\n",
       "    </tr>\n",
       "    <tr>\n",
       "      <th>4</th>\n",
       "      <td>00554293-7e00-4122-b898-4e892c4a7c53</td>\n",
       "      <td>2019-10-27 12:32:28</td>\n",
       "      <td>yandex</td>\n",
       "      <td>43</td>\n",
       "      <td>NaT</td>\n",
       "      <td>NaN</td>\n",
       "      <td>NaN</td>\n",
       "      <td>NaN</td>\n",
       "    </tr>\n",
       "  </tbody>\n",
       "</table>\n",
       "</div>"
      ],
      "text/plain": [
       "                                user_id            first_ts source_x  dt  \\\n",
       "0  0001b1d5-b74a-4cbf-aeb0-7df5947bf349 2019-10-07 13:39:46    other  41   \n",
       "1  00463033-5717-4bf1-91b4-09183923b9df 2019-11-01 13:54:35   yandex  44   \n",
       "2  004690c3-5a84-4bb7-a8af-e0c8f8fca64e 2019-10-18 22:14:06   google  42   \n",
       "3  00551e79-152e-4441-9cf7-565d7eb04090 2019-10-25 16:44:41   yandex  43   \n",
       "4  00554293-7e00-4122-b898-4e892c4a7c53 2019-10-27 12:32:28   yandex  43   \n",
       "\n",
       "           first_view source_y  first_week  lifetime  \n",
       "0                 NaT      NaN         NaN       NaN  \n",
       "1                 NaT      NaN         NaN       NaN  \n",
       "2                 NaT      NaN         NaN       NaN  \n",
       "3 2019-10-25 16:44:41   yandex        43.0       0.0  \n",
       "4                 NaT      NaN         NaN       NaN  "
      ]
     },
     "execution_count": 51,
     "metadata": {},
     "output_type": "execute_result"
    }
   ],
   "source": [
    "# вычисление лайфтайма - количества дней, прошедших со дня первого посещения приложения до дня \n",
    "# совершения show_contacts (просмотра контактов)\n",
    "\n",
    "cr_medium['lifetime'] = cr_medium['first_week'] - cr_medium['dt']\n",
    "\n",
    "cr_medium.head()"
   ]
  },
  {
   "cell_type": "code",
   "execution_count": 52,
   "metadata": {},
   "outputs": [
    {
     "data": {
      "text/html": [
       "<div>\n",
       "<style scoped>\n",
       "    .dataframe tbody tr th:only-of-type {\n",
       "        vertical-align: middle;\n",
       "    }\n",
       "\n",
       "    .dataframe tbody tr th {\n",
       "        vertical-align: top;\n",
       "    }\n",
       "\n",
       "    .dataframe thead th {\n",
       "        text-align: right;\n",
       "    }\n",
       "</style>\n",
       "<table border=\"1\" class=\"dataframe\">\n",
       "  <thead>\n",
       "    <tr style=\"text-align: right;\">\n",
       "      <th>lifetime</th>\n",
       "      <th>0.0</th>\n",
       "      <th>1.0</th>\n",
       "      <th>2.0</th>\n",
       "      <th>3.0</th>\n",
       "    </tr>\n",
       "    <tr>\n",
       "      <th>dt</th>\n",
       "      <th></th>\n",
       "      <th></th>\n",
       "      <th></th>\n",
       "      <th></th>\n",
       "    </tr>\n",
       "  </thead>\n",
       "  <tbody>\n",
       "    <tr>\n",
       "      <th>41</th>\n",
       "      <td>171.0</td>\n",
       "      <td>22.0</td>\n",
       "      <td>9.0</td>\n",
       "      <td>3.0</td>\n",
       "    </tr>\n",
       "    <tr>\n",
       "      <th>42</th>\n",
       "      <td>186.0</td>\n",
       "      <td>15.0</td>\n",
       "      <td>5.0</td>\n",
       "      <td>NaN</td>\n",
       "    </tr>\n",
       "    <tr>\n",
       "      <th>43</th>\n",
       "      <td>187.0</td>\n",
       "      <td>33.0</td>\n",
       "      <td>NaN</td>\n",
       "      <td>NaN</td>\n",
       "    </tr>\n",
       "    <tr>\n",
       "      <th>44</th>\n",
       "      <td>166.0</td>\n",
       "      <td>NaN</td>\n",
       "      <td>NaN</td>\n",
       "      <td>NaN</td>\n",
       "    </tr>\n",
       "  </tbody>\n",
       "</table>\n",
       "</div>"
      ],
      "text/plain": [
       "lifetime    0.0   1.0  2.0  3.0\n",
       "dt                             \n",
       "41        171.0  22.0  9.0  3.0\n",
       "42        186.0  15.0  5.0  NaN\n",
       "43        187.0  33.0  NaN  NaN\n",
       "44        166.0   NaN  NaN  NaN"
      ]
     },
     "execution_count": 52,
     "metadata": {},
     "output_type": "execute_result"
    }
   ],
   "source": [
    "# формирование сводной таблицы конверсии в целевое действие\n",
    "\n",
    "crr_medium = cr_medium.pivot_table(\n",
    "    index = 'dt',\n",
    "    columns = 'lifetime',\n",
    "    values = 'first_week',\n",
    "    aggfunc = 'count'\n",
    ")\n",
    "\n",
    "crr_medium"
   ]
  },
  {
   "cell_type": "code",
   "execution_count": 53,
   "metadata": {},
   "outputs": [
    {
     "data": {
      "text/html": [
       "<div>\n",
       "<style scoped>\n",
       "    .dataframe tbody tr th:only-of-type {\n",
       "        vertical-align: middle;\n",
       "    }\n",
       "\n",
       "    .dataframe tbody tr th {\n",
       "        vertical-align: top;\n",
       "    }\n",
       "\n",
       "    .dataframe thead th {\n",
       "        text-align: right;\n",
       "    }\n",
       "</style>\n",
       "<table border=\"1\" class=\"dataframe\">\n",
       "  <thead>\n",
       "    <tr style=\"text-align: right;\">\n",
       "      <th>lifetime</th>\n",
       "      <th>0.0</th>\n",
       "      <th>1.0</th>\n",
       "      <th>2.0</th>\n",
       "      <th>3.0</th>\n",
       "    </tr>\n",
       "    <tr>\n",
       "      <th>dt</th>\n",
       "      <th></th>\n",
       "      <th></th>\n",
       "      <th></th>\n",
       "      <th></th>\n",
       "    </tr>\n",
       "  </thead>\n",
       "  <tbody>\n",
       "    <tr>\n",
       "      <th>41</th>\n",
       "      <td>171.0</td>\n",
       "      <td>193.0</td>\n",
       "      <td>202.0</td>\n",
       "      <td>205.0</td>\n",
       "    </tr>\n",
       "    <tr>\n",
       "      <th>42</th>\n",
       "      <td>186.0</td>\n",
       "      <td>201.0</td>\n",
       "      <td>206.0</td>\n",
       "      <td>NaN</td>\n",
       "    </tr>\n",
       "    <tr>\n",
       "      <th>43</th>\n",
       "      <td>187.0</td>\n",
       "      <td>220.0</td>\n",
       "      <td>NaN</td>\n",
       "      <td>NaN</td>\n",
       "    </tr>\n",
       "    <tr>\n",
       "      <th>44</th>\n",
       "      <td>166.0</td>\n",
       "      <td>NaN</td>\n",
       "      <td>NaN</td>\n",
       "      <td>NaN</td>\n",
       "    </tr>\n",
       "  </tbody>\n",
       "</table>\n",
       "</div>"
      ],
      "text/plain": [
       "lifetime    0.0    1.0    2.0    3.0\n",
       "dt                                  \n",
       "41        171.0  193.0  202.0  205.0\n",
       "42        186.0  201.0  206.0    NaN\n",
       "43        187.0  220.0    NaN    NaN\n",
       "44        166.0    NaN    NaN    NaN"
      ]
     },
     "execution_count": 53,
     "metadata": {},
     "output_type": "execute_result"
    }
   ],
   "source": [
    "# переформатирование конверсии в кумулятивную конверсию\n",
    "\n",
    "cumcrr_medium = crr_medium.cumsum(axis = 1)\n",
    "cumcrr_medium"
   ]
  },
  {
   "cell_type": "code",
   "execution_count": 54,
   "metadata": {},
   "outputs": [
    {
     "data": {
      "text/plain": [
       "dt\n",
       "41     976\n",
       "42    1037\n",
       "43     993\n",
       "44     853\n",
       "Name: user_id, dtype: int64"
      ]
     },
     "execution_count": 54,
     "metadata": {},
     "output_type": "execute_result"
    }
   ],
   "source": [
    "# расчёт размера когорт пользователей приложения\n",
    "\n",
    "sizes_medium = profiles_medium.groupby('dt')['user_id'].count()\n",
    "sizes_medium"
   ]
  },
  {
   "cell_type": "code",
   "execution_count": 55,
   "metadata": {},
   "outputs": [
    {
     "data": {
      "text/html": [
       "<div>\n",
       "<style scoped>\n",
       "    .dataframe tbody tr th:only-of-type {\n",
       "        vertical-align: middle;\n",
       "    }\n",
       "\n",
       "    .dataframe tbody tr th {\n",
       "        vertical-align: top;\n",
       "    }\n",
       "\n",
       "    .dataframe thead th {\n",
       "        text-align: right;\n",
       "    }\n",
       "</style>\n",
       "<table border=\"1\" class=\"dataframe\">\n",
       "  <thead>\n",
       "    <tr style=\"text-align: right;\">\n",
       "      <th>lifetime</th>\n",
       "      <th>0.0</th>\n",
       "      <th>1.0</th>\n",
       "      <th>2.0</th>\n",
       "      <th>3.0</th>\n",
       "    </tr>\n",
       "    <tr>\n",
       "      <th>dt</th>\n",
       "      <th></th>\n",
       "      <th></th>\n",
       "      <th></th>\n",
       "      <th></th>\n",
       "    </tr>\n",
       "  </thead>\n",
       "  <tbody>\n",
       "    <tr>\n",
       "      <th>41</th>\n",
       "      <td>0.175205</td>\n",
       "      <td>0.197746</td>\n",
       "      <td>0.206967</td>\n",
       "      <td>0.210041</td>\n",
       "    </tr>\n",
       "    <tr>\n",
       "      <th>42</th>\n",
       "      <td>0.179364</td>\n",
       "      <td>0.193828</td>\n",
       "      <td>0.198650</td>\n",
       "      <td>NaN</td>\n",
       "    </tr>\n",
       "    <tr>\n",
       "      <th>43</th>\n",
       "      <td>0.188318</td>\n",
       "      <td>0.221551</td>\n",
       "      <td>NaN</td>\n",
       "      <td>NaN</td>\n",
       "    </tr>\n",
       "    <tr>\n",
       "      <th>44</th>\n",
       "      <td>0.194607</td>\n",
       "      <td>NaN</td>\n",
       "      <td>NaN</td>\n",
       "      <td>NaN</td>\n",
       "    </tr>\n",
       "  </tbody>\n",
       "</table>\n",
       "</div>"
      ],
      "text/plain": [
       "lifetime       0.0       1.0       2.0       3.0\n",
       "dt                                              \n",
       "41        0.175205  0.197746  0.206967  0.210041\n",
       "42        0.179364  0.193828  0.198650       NaN\n",
       "43        0.188318  0.221551       NaN       NaN\n",
       "44        0.194607       NaN       NaN       NaN"
      ]
     },
     "execution_count": 55,
     "metadata": {},
     "output_type": "execute_result"
    }
   ],
   "source": [
    "# расчёт кумулятивной конверсии в целевое действие в долях\n",
    "\n",
    "cumcrr_medium.div(sizes_medium, axis = 0)"
   ]
  },
  {
   "cell_type": "code",
   "execution_count": 56,
   "metadata": {},
   "outputs": [
    {
     "data": {
      "image/png": "[encoded data removed]",
      "text/plain": [
       "<Figure size 720x576 with 2 Axes>"
      ]
     },
     "metadata": {
      "needs_background": "light"
     },
     "output_type": "display_data"
    }
   ],
   "source": [
    "# визуализация результата предыдущего шага\n",
    "\n",
    "plt.figure(figsize = (10, 8))\n",
    "sns.heatmap(cumcrr_medium.div(sizes_medium, axis = 0), annot = True, cmap = 'RdYlGn')\n",
    "plt.show()"
   ]
  },
  {
   "cell_type": "markdown",
   "metadata": {},
   "source": [
    "Значения CR (конверсии в целевое действие) для первого лайфтайма (периода) составляют: 0,18; 0,18; 0,19; 0,19. \n",
    "\n",
    "Среднее значение CR для сегмента пользователей, совершивших 35 и менее событий (действий) составляет 18,5%."
   ]
  },
  {
   "cell_type": "markdown",
   "metadata": {},
   "source": [
    "Расчёт CR (конверсии в целевое действие) показал, что пользователи, совершающие необычно много действий в приложении совершают целевое действие значительно чаще по сравнению с пользователями, совершающими обычное число (менее 35-ти) действий.\n"
   ]
  },
  {
   "cell_type": "markdown",
   "metadata": {},
   "source": [
    "---------------------------------"
   ]
  },
  {
   "cell_type": "markdown",
   "metadata": {},
   "source": [
    "Далее следует расчёт длительности пользовательских сессий, т.е., время, проведённое пользователями в приложении. \n",
    "\n",
    "\n",
    "Для отделения сессий друг от друга принимаю временной промежуток между сессиями 30 минут. Это значит, что если пользователь не совершал никаких действий более 30 минут, то следующее действие было совершено в следующую сессию.\n",
    "\n",
    "\n",
    "Сначала расчёт для сегмента пользователей toomuch_events."
   ]
  },
  {
   "cell_type": "code",
   "execution_count": 57,
   "metadata": {},
   "outputs": [
    {
     "data": {
      "text/html": [
       "<div>\n",
       "<style scoped>\n",
       "    .dataframe tbody tr th:only-of-type {\n",
       "        vertical-align: middle;\n",
       "    }\n",
       "\n",
       "    .dataframe tbody tr th {\n",
       "        vertical-align: top;\n",
       "    }\n",
       "\n",
       "    .dataframe thead th {\n",
       "        text-align: right;\n",
       "    }\n",
       "</style>\n",
       "<table border=\"1\" class=\"dataframe\">\n",
       "  <thead>\n",
       "    <tr style=\"text-align: right;\">\n",
       "      <th></th>\n",
       "      <th>event_time</th>\n",
       "      <th>event_name</th>\n",
       "      <th>user_id</th>\n",
       "      <th>source</th>\n",
       "      <th>number_events</th>\n",
       "      <th>event_week</th>\n",
       "      <th>session_id</th>\n",
       "    </tr>\n",
       "  </thead>\n",
       "  <tbody>\n",
       "    <tr>\n",
       "      <th>28</th>\n",
       "      <td>2019-10-07 00:00:02</td>\n",
       "      <td>tips_show</td>\n",
       "      <td>cf7eda61-9349-469f-ac27-e5b6f5ec475c</td>\n",
       "      <td>yandex</td>\n",
       "      <td>93</td>\n",
       "      <td>41</td>\n",
       "      <td>1</td>\n",
       "    </tr>\n",
       "    <tr>\n",
       "      <th>29</th>\n",
       "      <td>2019-10-07 00:00:56</td>\n",
       "      <td>advert_open</td>\n",
       "      <td>cf7eda61-9349-469f-ac27-e5b6f5ec475c</td>\n",
       "      <td>yandex</td>\n",
       "      <td>93</td>\n",
       "      <td>41</td>\n",
       "      <td>1</td>\n",
       "    </tr>\n",
       "    <tr>\n",
       "      <th>30</th>\n",
       "      <td>2019-10-07 00:01:20</td>\n",
       "      <td>tips_show</td>\n",
       "      <td>cf7eda61-9349-469f-ac27-e5b6f5ec475c</td>\n",
       "      <td>yandex</td>\n",
       "      <td>93</td>\n",
       "      <td>41</td>\n",
       "      <td>1</td>\n",
       "    </tr>\n",
       "    <tr>\n",
       "      <th>31</th>\n",
       "      <td>2019-10-07 00:01:50</td>\n",
       "      <td>advert_open</td>\n",
       "      <td>cf7eda61-9349-469f-ac27-e5b6f5ec475c</td>\n",
       "      <td>yandex</td>\n",
       "      <td>93</td>\n",
       "      <td>41</td>\n",
       "      <td>1</td>\n",
       "    </tr>\n",
       "    <tr>\n",
       "      <th>32</th>\n",
       "      <td>2019-10-07 00:02:06</td>\n",
       "      <td>tips_show</td>\n",
       "      <td>cf7eda61-9349-469f-ac27-e5b6f5ec475c</td>\n",
       "      <td>yandex</td>\n",
       "      <td>93</td>\n",
       "      <td>41</td>\n",
       "      <td>1</td>\n",
       "    </tr>\n",
       "  </tbody>\n",
       "</table>\n",
       "</div>"
      ],
      "text/plain": [
       "            event_time   event_name                               user_id  \\\n",
       "28 2019-10-07 00:00:02    tips_show  cf7eda61-9349-469f-ac27-e5b6f5ec475c   \n",
       "29 2019-10-07 00:00:56  advert_open  cf7eda61-9349-469f-ac27-e5b6f5ec475c   \n",
       "30 2019-10-07 00:01:20    tips_show  cf7eda61-9349-469f-ac27-e5b6f5ec475c   \n",
       "31 2019-10-07 00:01:50  advert_open  cf7eda61-9349-469f-ac27-e5b6f5ec475c   \n",
       "32 2019-10-07 00:02:06    tips_show  cf7eda61-9349-469f-ac27-e5b6f5ec475c   \n",
       "\n",
       "    source  number_events  event_week  session_id  \n",
       "28  yandex             93          41           1  \n",
       "29  yandex             93          41           1  \n",
       "30  yandex             93          41           1  \n",
       "31  yandex             93          41           1  \n",
       "32  yandex             93          41           1  "
      ]
     },
     "execution_count": 57,
     "metadata": {},
     "output_type": "execute_result"
    }
   ],
   "source": [
    "# разделение сессий с учётом максимального перерыва между действиями в сессии не более 30 минут\n",
    "\n",
    "g_toomuch = (toomuch_events.groupby('user_id')['event_time'].diff() > pd.Timedelta('30Min')).cumsum()\n",
    "\n",
    "toomuch_events['session_id'] = toomuch_events.groupby(['user_id', g_toomuch], sort=False).ngroup() + 1\n",
    "\n",
    "# вывод большого числа строк для визуального контроля отделения сессий \n",
    "\n",
    "toomuch_events.head()"
   ]
  },
  {
   "cell_type": "code",
   "execution_count": 58,
   "metadata": {},
   "outputs": [
    {
     "data": {
      "text/html": [
       "<div>\n",
       "<style scoped>\n",
       "    .dataframe tbody tr th:only-of-type {\n",
       "        vertical-align: middle;\n",
       "    }\n",
       "\n",
       "    .dataframe tbody tr th {\n",
       "        vertical-align: top;\n",
       "    }\n",
       "\n",
       "    .dataframe thead th {\n",
       "        text-align: right;\n",
       "    }\n",
       "</style>\n",
       "<table border=\"1\" class=\"dataframe\">\n",
       "  <thead>\n",
       "    <tr style=\"text-align: right;\">\n",
       "      <th></th>\n",
       "      <th>session_id</th>\n",
       "      <th>start_session</th>\n",
       "    </tr>\n",
       "  </thead>\n",
       "  <tbody>\n",
       "    <tr>\n",
       "      <th>0</th>\n",
       "      <td>1</td>\n",
       "      <td>2019-10-07 00:00:02</td>\n",
       "    </tr>\n",
       "    <tr>\n",
       "      <th>1</th>\n",
       "      <td>2</td>\n",
       "      <td>2019-10-08 20:06:42</td>\n",
       "    </tr>\n",
       "    <tr>\n",
       "      <th>2</th>\n",
       "      <td>3</td>\n",
       "      <td>2019-10-10 19:43:23</td>\n",
       "    </tr>\n",
       "  </tbody>\n",
       "</table>\n",
       "</div>"
      ],
      "text/plain": [
       "   session_id       start_session\n",
       "0           1 2019-10-07 00:00:02\n",
       "1           2 2019-10-08 20:06:42\n",
       "2           3 2019-10-10 19:43:23"
      ]
     },
     "execution_count": 58,
     "metadata": {},
     "output_type": "execute_result"
    }
   ],
   "source": [
    "# вычисление времени начала сессий\n",
    "\n",
    "s_toomuch = toomuch_events.groupby('session_id').agg({'event_time' : 'min'}).reset_index()\n",
    "s_toomuch= s_toomuch.rename(columns={'event_time': 'start_session'}) \n",
    "s_toomuch.head(3)"
   ]
  },
  {
   "cell_type": "code",
   "execution_count": 59,
   "metadata": {},
   "outputs": [
    {
     "data": {
      "text/html": [
       "<div>\n",
       "<style scoped>\n",
       "    .dataframe tbody tr th:only-of-type {\n",
       "        vertical-align: middle;\n",
       "    }\n",
       "\n",
       "    .dataframe tbody tr th {\n",
       "        vertical-align: top;\n",
       "    }\n",
       "\n",
       "    .dataframe thead th {\n",
       "        text-align: right;\n",
       "    }\n",
       "</style>\n",
       "<table border=\"1\" class=\"dataframe\">\n",
       "  <thead>\n",
       "    <tr style=\"text-align: right;\">\n",
       "      <th></th>\n",
       "      <th>session_id</th>\n",
       "      <th>end_session</th>\n",
       "    </tr>\n",
       "  </thead>\n",
       "  <tbody>\n",
       "    <tr>\n",
       "      <th>0</th>\n",
       "      <td>1</td>\n",
       "      <td>2019-10-07 00:41:40</td>\n",
       "    </tr>\n",
       "    <tr>\n",
       "      <th>1</th>\n",
       "      <td>2</td>\n",
       "      <td>2019-10-08 20:19:08</td>\n",
       "    </tr>\n",
       "    <tr>\n",
       "      <th>2</th>\n",
       "      <td>3</td>\n",
       "      <td>2019-10-10 20:12:33</td>\n",
       "    </tr>\n",
       "  </tbody>\n",
       "</table>\n",
       "</div>"
      ],
      "text/plain": [
       "   session_id         end_session\n",
       "0           1 2019-10-07 00:41:40\n",
       "1           2 2019-10-08 20:19:08\n",
       "2           3 2019-10-10 20:12:33"
      ]
     },
     "execution_count": 59,
     "metadata": {},
     "output_type": "execute_result"
    }
   ],
   "source": [
    "# вычисление времени окончания сессий\n",
    "\n",
    "e_toomuch = toomuch_events.groupby('session_id').agg({'event_time' : 'max'}).reset_index()\n",
    "e_toomuch = e_toomuch.rename(columns={'event_time': 'end_session'}) \n",
    "e_toomuch.head(3)"
   ]
  },
  {
   "cell_type": "code",
   "execution_count": 60,
   "metadata": {},
   "outputs": [
    {
     "data": {
      "text/html": [
       "<div>\n",
       "<style scoped>\n",
       "    .dataframe tbody tr th:only-of-type {\n",
       "        vertical-align: middle;\n",
       "    }\n",
       "\n",
       "    .dataframe tbody tr th {\n",
       "        vertical-align: top;\n",
       "    }\n",
       "\n",
       "    .dataframe thead th {\n",
       "        text-align: right;\n",
       "    }\n",
       "</style>\n",
       "<table border=\"1\" class=\"dataframe\">\n",
       "  <thead>\n",
       "    <tr style=\"text-align: right;\">\n",
       "      <th></th>\n",
       "      <th>session_id</th>\n",
       "      <th>start_session</th>\n",
       "      <th>end_session</th>\n",
       "    </tr>\n",
       "  </thead>\n",
       "  <tbody>\n",
       "    <tr>\n",
       "      <th>0</th>\n",
       "      <td>1</td>\n",
       "      <td>2019-10-07 00:00:02</td>\n",
       "      <td>2019-10-07 00:41:40</td>\n",
       "    </tr>\n",
       "    <tr>\n",
       "      <th>1</th>\n",
       "      <td>2</td>\n",
       "      <td>2019-10-08 20:06:42</td>\n",
       "      <td>2019-10-08 20:19:08</td>\n",
       "    </tr>\n",
       "    <tr>\n",
       "      <th>2</th>\n",
       "      <td>3</td>\n",
       "      <td>2019-10-10 19:43:23</td>\n",
       "      <td>2019-10-10 20:12:33</td>\n",
       "    </tr>\n",
       "  </tbody>\n",
       "</table>\n",
       "</div>"
      ],
      "text/plain": [
       "   session_id       start_session         end_session\n",
       "0           1 2019-10-07 00:00:02 2019-10-07 00:41:40\n",
       "1           2 2019-10-08 20:06:42 2019-10-08 20:19:08\n",
       "2           3 2019-10-10 19:43:23 2019-10-10 20:12:33"
      ]
     },
     "execution_count": 60,
     "metadata": {},
     "output_type": "execute_result"
    }
   ],
   "source": [
    "# объединение датафреймов, содержащих даты начала и окончания сессий\n",
    "\n",
    "toomuch_sessions = s_toomuch.merge(e_toomuch, on = 'session_id')\n",
    "\n",
    "toomuch_sessions.head(3)"
   ]
  },
  {
   "cell_type": "code",
   "execution_count": 61,
   "metadata": {},
   "outputs": [
    {
     "data": {
      "text/html": [
       "<div>\n",
       "<style scoped>\n",
       "    .dataframe tbody tr th:only-of-type {\n",
       "        vertical-align: middle;\n",
       "    }\n",
       "\n",
       "    .dataframe tbody tr th {\n",
       "        vertical-align: top;\n",
       "    }\n",
       "\n",
       "    .dataframe thead th {\n",
       "        text-align: right;\n",
       "    }\n",
       "</style>\n",
       "<table border=\"1\" class=\"dataframe\">\n",
       "  <thead>\n",
       "    <tr style=\"text-align: right;\">\n",
       "      <th></th>\n",
       "      <th>session_id</th>\n",
       "      <th>start_session</th>\n",
       "      <th>end_session</th>\n",
       "      <th>dur_sess</th>\n",
       "    </tr>\n",
       "  </thead>\n",
       "  <tbody>\n",
       "    <tr>\n",
       "      <th>0</th>\n",
       "      <td>1</td>\n",
       "      <td>2019-10-07 00:00:02</td>\n",
       "      <td>2019-10-07 00:41:40</td>\n",
       "      <td>2498</td>\n",
       "    </tr>\n",
       "    <tr>\n",
       "      <th>1</th>\n",
       "      <td>2</td>\n",
       "      <td>2019-10-08 20:06:42</td>\n",
       "      <td>2019-10-08 20:19:08</td>\n",
       "      <td>746</td>\n",
       "    </tr>\n",
       "    <tr>\n",
       "      <th>2</th>\n",
       "      <td>3</td>\n",
       "      <td>2019-10-10 19:43:23</td>\n",
       "      <td>2019-10-10 20:12:33</td>\n",
       "      <td>1750</td>\n",
       "    </tr>\n",
       "  </tbody>\n",
       "</table>\n",
       "</div>"
      ],
      "text/plain": [
       "   session_id       start_session         end_session  dur_sess\n",
       "0           1 2019-10-07 00:00:02 2019-10-07 00:41:40      2498\n",
       "1           2 2019-10-08 20:06:42 2019-10-08 20:19:08       746\n",
       "2           3 2019-10-10 19:43:23 2019-10-10 20:12:33      1750"
      ]
     },
     "execution_count": 61,
     "metadata": {},
     "output_type": "execute_result"
    }
   ],
   "source": [
    "# вычисление длительности сессий в секундах\n",
    "\n",
    "toomuch_sessions['dur_sess'] = toomuch_sessions['end_session'] - toomuch_sessions['start_session']\n",
    "toomuch_sessions['dur_sess'] = toomuch_sessions['dur_sess'].dt.seconds\n",
    "\n",
    "toomuch_sessions.head(3)"
   ]
  },
  {
   "cell_type": "code",
   "execution_count": 62,
   "metadata": {},
   "outputs": [
    {
     "data": {
      "text/plain": [
       "count     3167.000000\n",
       "mean      1129.418693\n",
       "std       1679.057121\n",
       "min          0.000000\n",
       "25%         27.000000\n",
       "50%        474.000000\n",
       "75%       1526.000000\n",
       "max      19318.000000\n",
       "Name: dur_sess, dtype: float64"
      ]
     },
     "execution_count": 62,
     "metadata": {},
     "output_type": "execute_result"
    }
   ],
   "source": [
    "# просмотр агрегированных данных колонки с длительностью сессий пользователей\n",
    "\n",
    "toomuch_sessions['dur_sess'].describe()"
   ]
  },
  {
   "cell_type": "code",
   "execution_count": 63,
   "metadata": {},
   "outputs": [
    {
     "data": {
      "text/html": [
       "<div>\n",
       "<style scoped>\n",
       "    .dataframe tbody tr th:only-of-type {\n",
       "        vertical-align: middle;\n",
       "    }\n",
       "\n",
       "    .dataframe tbody tr th {\n",
       "        vertical-align: top;\n",
       "    }\n",
       "\n",
       "    .dataframe thead th {\n",
       "        text-align: right;\n",
       "    }\n",
       "</style>\n",
       "<table border=\"1\" class=\"dataframe\">\n",
       "  <thead>\n",
       "    <tr style=\"text-align: right;\">\n",
       "      <th></th>\n",
       "      <th>session_id</th>\n",
       "      <th>start_session</th>\n",
       "      <th>end_session</th>\n",
       "      <th>dur_sess</th>\n",
       "    </tr>\n",
       "  </thead>\n",
       "  <tbody>\n",
       "    <tr>\n",
       "      <th>70</th>\n",
       "      <td>71</td>\n",
       "      <td>2019-10-08 11:31:49</td>\n",
       "      <td>2019-10-08 15:01:44</td>\n",
       "      <td>12595</td>\n",
       "    </tr>\n",
       "    <tr>\n",
       "      <th>317</th>\n",
       "      <td>318</td>\n",
       "      <td>2019-10-08 10:47:17</td>\n",
       "      <td>2019-10-08 15:06:46</td>\n",
       "      <td>15569</td>\n",
       "    </tr>\n",
       "    <tr>\n",
       "      <th>369</th>\n",
       "      <td>370</td>\n",
       "      <td>2019-11-01 10:24:05</td>\n",
       "      <td>2019-11-01 13:42:03</td>\n",
       "      <td>11878</td>\n",
       "    </tr>\n",
       "    <tr>\n",
       "      <th>783</th>\n",
       "      <td>784</td>\n",
       "      <td>2019-10-11 11:24:21</td>\n",
       "      <td>2019-10-11 16:46:19</td>\n",
       "      <td>19318</td>\n",
       "    </tr>\n",
       "    <tr>\n",
       "      <th>1013</th>\n",
       "      <td>1014</td>\n",
       "      <td>2019-10-29 14:13:49</td>\n",
       "      <td>2019-10-29 17:19:48</td>\n",
       "      <td>11159</td>\n",
       "    </tr>\n",
       "    <tr>\n",
       "      <th>1267</th>\n",
       "      <td>1268</td>\n",
       "      <td>2019-10-12 19:11:40</td>\n",
       "      <td>2019-10-12 22:40:46</td>\n",
       "      <td>12546</td>\n",
       "    </tr>\n",
       "    <tr>\n",
       "      <th>1269</th>\n",
       "      <td>1270</td>\n",
       "      <td>2019-10-13 13:44:01</td>\n",
       "      <td>2019-10-13 17:37:40</td>\n",
       "      <td>14019</td>\n",
       "    </tr>\n",
       "    <tr>\n",
       "      <th>1273</th>\n",
       "      <td>1274</td>\n",
       "      <td>2019-11-02 19:46:32</td>\n",
       "      <td>2019-11-02 22:46:36</td>\n",
       "      <td>10804</td>\n",
       "    </tr>\n",
       "    <tr>\n",
       "      <th>2823</th>\n",
       "      <td>2824</td>\n",
       "      <td>2019-10-26 15:36:03</td>\n",
       "      <td>2019-10-26 19:08:10</td>\n",
       "      <td>12727</td>\n",
       "    </tr>\n",
       "    <tr>\n",
       "      <th>2891</th>\n",
       "      <td>2892</td>\n",
       "      <td>2019-10-27 01:24:21</td>\n",
       "      <td>2019-10-27 04:36:45</td>\n",
       "      <td>11544</td>\n",
       "    </tr>\n",
       "  </tbody>\n",
       "</table>\n",
       "</div>"
      ],
      "text/plain": [
       "      session_id       start_session         end_session  dur_sess\n",
       "70            71 2019-10-08 11:31:49 2019-10-08 15:01:44     12595\n",
       "317          318 2019-10-08 10:47:17 2019-10-08 15:06:46     15569\n",
       "369          370 2019-11-01 10:24:05 2019-11-01 13:42:03     11878\n",
       "783          784 2019-10-11 11:24:21 2019-10-11 16:46:19     19318\n",
       "1013        1014 2019-10-29 14:13:49 2019-10-29 17:19:48     11159\n",
       "1267        1268 2019-10-12 19:11:40 2019-10-12 22:40:46     12546\n",
       "1269        1270 2019-10-13 13:44:01 2019-10-13 17:37:40     14019\n",
       "1273        1274 2019-11-02 19:46:32 2019-11-02 22:46:36     10804\n",
       "2823        2824 2019-10-26 15:36:03 2019-10-26 19:08:10     12727\n",
       "2891        2892 2019-10-27 01:24:21 2019-10-27 04:36:45     11544"
      ]
     },
     "execution_count": 63,
     "metadata": {},
     "output_type": "execute_result"
    }
   ],
   "source": [
    "# вывод строчек датафрейма с необычно длительными сессиями (более трёх часов), \n",
    "# контроль на предмет ошибок\n",
    "\n",
    "very_toomuch = toomuch_sessions.query('dur_sess > 10800')\n",
    "\n",
    "very_toomuch"
   ]
  },
  {
   "cell_type": "markdown",
   "metadata": {},
   "source": [
    "Расчёт длительности сессий в сегменте toomuch_events - пользователи, совершившие более 35-ти событий дал следующие результаты (с учётом предыдущих рассчётов):\n",
    "\n",
    "\n",
    "* 434 пользователя совершили в приложении за исследуемый период 3167 сессий;\n",
    "\n",
    "\n",
    "* средняя продолжительность сессии составляет 1129 секунд или почти 19 минут;\n",
    "\n",
    "\n",
    "* часть пользователей совершает очень длительные сессии,- например, 10 сессий длилось более трёх часов, а максимальная сессия длилась более пяти часов.\n"
   ]
  },
  {
   "cell_type": "code",
   "execution_count": 64,
   "metadata": {},
   "outputs": [
    {
     "data": {
      "text/html": [
       "<div>\n",
       "<style scoped>\n",
       "    .dataframe tbody tr th:only-of-type {\n",
       "        vertical-align: middle;\n",
       "    }\n",
       "\n",
       "    .dataframe tbody tr th {\n",
       "        vertical-align: top;\n",
       "    }\n",
       "\n",
       "    .dataframe thead th {\n",
       "        text-align: right;\n",
       "    }\n",
       "</style>\n",
       "<table border=\"1\" class=\"dataframe\">\n",
       "  <thead>\n",
       "    <tr style=\"text-align: right;\">\n",
       "      <th></th>\n",
       "      <th>event_time</th>\n",
       "      <th>event_name</th>\n",
       "      <th>user_id</th>\n",
       "      <th>source</th>\n",
       "      <th>number_events</th>\n",
       "      <th>event_week</th>\n",
       "      <th>session_id</th>\n",
       "    </tr>\n",
       "  </thead>\n",
       "  <tbody>\n",
       "    <tr>\n",
       "      <th>0</th>\n",
       "      <td>2019-10-07 00:00:00</td>\n",
       "      <td>advert_open</td>\n",
       "      <td>020292ab-89bc-4156-9acf-68bc2783f894</td>\n",
       "      <td>other</td>\n",
       "      <td>28</td>\n",
       "      <td>41</td>\n",
       "      <td>1</td>\n",
       "    </tr>\n",
       "    <tr>\n",
       "      <th>1</th>\n",
       "      <td>2019-10-07 00:00:01</td>\n",
       "      <td>tips_show</td>\n",
       "      <td>020292ab-89bc-4156-9acf-68bc2783f894</td>\n",
       "      <td>other</td>\n",
       "      <td>28</td>\n",
       "      <td>41</td>\n",
       "      <td>1</td>\n",
       "    </tr>\n",
       "    <tr>\n",
       "      <th>2</th>\n",
       "      <td>2019-10-07 00:00:07</td>\n",
       "      <td>tips_show</td>\n",
       "      <td>020292ab-89bc-4156-9acf-68bc2783f894</td>\n",
       "      <td>other</td>\n",
       "      <td>28</td>\n",
       "      <td>41</td>\n",
       "      <td>1</td>\n",
       "    </tr>\n",
       "    <tr>\n",
       "      <th>3</th>\n",
       "      <td>2019-10-07 00:01:28</td>\n",
       "      <td>advert_open</td>\n",
       "      <td>020292ab-89bc-4156-9acf-68bc2783f894</td>\n",
       "      <td>other</td>\n",
       "      <td>28</td>\n",
       "      <td>41</td>\n",
       "      <td>1</td>\n",
       "    </tr>\n",
       "    <tr>\n",
       "      <th>4</th>\n",
       "      <td>2019-10-07 00:01:35</td>\n",
       "      <td>tips_show</td>\n",
       "      <td>020292ab-89bc-4156-9acf-68bc2783f894</td>\n",
       "      <td>other</td>\n",
       "      <td>28</td>\n",
       "      <td>41</td>\n",
       "      <td>1</td>\n",
       "    </tr>\n",
       "  </tbody>\n",
       "</table>\n",
       "</div>"
      ],
      "text/plain": [
       "           event_time   event_name                               user_id  \\\n",
       "0 2019-10-07 00:00:00  advert_open  020292ab-89bc-4156-9acf-68bc2783f894   \n",
       "1 2019-10-07 00:00:01    tips_show  020292ab-89bc-4156-9acf-68bc2783f894   \n",
       "2 2019-10-07 00:00:07    tips_show  020292ab-89bc-4156-9acf-68bc2783f894   \n",
       "3 2019-10-07 00:01:28  advert_open  020292ab-89bc-4156-9acf-68bc2783f894   \n",
       "4 2019-10-07 00:01:35    tips_show  020292ab-89bc-4156-9acf-68bc2783f894   \n",
       "\n",
       "  source  number_events  event_week  session_id  \n",
       "0  other             28          41           1  \n",
       "1  other             28          41           1  \n",
       "2  other             28          41           1  \n",
       "3  other             28          41           1  \n",
       "4  other             28          41           1  "
      ]
     },
     "execution_count": 64,
     "metadata": {},
     "output_type": "execute_result"
    }
   ],
   "source": [
    "# разделение сессий с учётом максимального перерыва между действиями в сессии не более 30 минут\n",
    "\n",
    "g_medium = (medium_events.groupby('user_id')['event_time'].diff() > pd.Timedelta('30Min')).cumsum()\n",
    "\n",
    "medium_events['session_id'] = medium_events.groupby(['user_id', g_medium], sort=False).ngroup() + 1\n",
    "\n",
    "# вывод большого числа строк для визуального контроля отделения сессий \n",
    "\n",
    "medium_events.head()"
   ]
  },
  {
   "cell_type": "code",
   "execution_count": 65,
   "metadata": {},
   "outputs": [
    {
     "data": {
      "text/html": [
       "<div>\n",
       "<style scoped>\n",
       "    .dataframe tbody tr th:only-of-type {\n",
       "        vertical-align: middle;\n",
       "    }\n",
       "\n",
       "    .dataframe tbody tr th {\n",
       "        vertical-align: top;\n",
       "    }\n",
       "\n",
       "    .dataframe thead th {\n",
       "        text-align: right;\n",
       "    }\n",
       "</style>\n",
       "<table border=\"1\" class=\"dataframe\">\n",
       "  <thead>\n",
       "    <tr style=\"text-align: right;\">\n",
       "      <th></th>\n",
       "      <th>session_id</th>\n",
       "      <th>start_session</th>\n",
       "    </tr>\n",
       "  </thead>\n",
       "  <tbody>\n",
       "    <tr>\n",
       "      <th>0</th>\n",
       "      <td>1</td>\n",
       "      <td>2019-10-07 00:00:00</td>\n",
       "    </tr>\n",
       "    <tr>\n",
       "      <th>1</th>\n",
       "      <td>2</td>\n",
       "      <td>2019-10-07 00:05:20</td>\n",
       "    </tr>\n",
       "    <tr>\n",
       "      <th>2</th>\n",
       "      <td>3</td>\n",
       "      <td>2019-10-10 15:45:36</td>\n",
       "    </tr>\n",
       "  </tbody>\n",
       "</table>\n",
       "</div>"
      ],
      "text/plain": [
       "   session_id       start_session\n",
       "0           1 2019-10-07 00:00:00\n",
       "1           2 2019-10-07 00:05:20\n",
       "2           3 2019-10-10 15:45:36"
      ]
     },
     "execution_count": 65,
     "metadata": {},
     "output_type": "execute_result"
    }
   ],
   "source": [
    "# вычисление времени начала сессий\n",
    "\n",
    "s_medium = medium_events.groupby('session_id').agg({'event_time' : 'min'}).reset_index()\n",
    "s_medium = s_medium.rename(columns={'event_time': 'start_session'}) \n",
    "s_medium.head(3)"
   ]
  },
  {
   "cell_type": "code",
   "execution_count": 66,
   "metadata": {},
   "outputs": [
    {
     "data": {
      "text/html": [
       "<div>\n",
       "<style scoped>\n",
       "    .dataframe tbody tr th:only-of-type {\n",
       "        vertical-align: middle;\n",
       "    }\n",
       "\n",
       "    .dataframe tbody tr th {\n",
       "        vertical-align: top;\n",
       "    }\n",
       "\n",
       "    .dataframe thead th {\n",
       "        text-align: right;\n",
       "    }\n",
       "</style>\n",
       "<table border=\"1\" class=\"dataframe\">\n",
       "  <thead>\n",
       "    <tr style=\"text-align: right;\">\n",
       "      <th></th>\n",
       "      <th>session_id</th>\n",
       "      <th>end_session</th>\n",
       "    </tr>\n",
       "  </thead>\n",
       "  <tbody>\n",
       "    <tr>\n",
       "      <th>0</th>\n",
       "      <td>1</td>\n",
       "      <td>2019-10-07 00:18:43</td>\n",
       "    </tr>\n",
       "    <tr>\n",
       "      <th>1</th>\n",
       "      <td>2</td>\n",
       "      <td>2019-10-07 00:05:23</td>\n",
       "    </tr>\n",
       "    <tr>\n",
       "      <th>2</th>\n",
       "      <td>3</td>\n",
       "      <td>2019-10-10 15:47:43</td>\n",
       "    </tr>\n",
       "  </tbody>\n",
       "</table>\n",
       "</div>"
      ],
      "text/plain": [
       "   session_id         end_session\n",
       "0           1 2019-10-07 00:18:43\n",
       "1           2 2019-10-07 00:05:23\n",
       "2           3 2019-10-10 15:47:43"
      ]
     },
     "execution_count": 66,
     "metadata": {},
     "output_type": "execute_result"
    }
   ],
   "source": [
    "# вычисление времени окончания сессий\n",
    "\n",
    "e_medium = medium_events.groupby('session_id').agg({'event_time' : 'max'}).reset_index()\n",
    "e_medium = e_medium.rename(columns={'event_time': 'end_session'}) \n",
    "e_medium.head(3)"
   ]
  },
  {
   "cell_type": "code",
   "execution_count": 67,
   "metadata": {},
   "outputs": [
    {
     "data": {
      "text/html": [
       "<div>\n",
       "<style scoped>\n",
       "    .dataframe tbody tr th:only-of-type {\n",
       "        vertical-align: middle;\n",
       "    }\n",
       "\n",
       "    .dataframe tbody tr th {\n",
       "        vertical-align: top;\n",
       "    }\n",
       "\n",
       "    .dataframe thead th {\n",
       "        text-align: right;\n",
       "    }\n",
       "</style>\n",
       "<table border=\"1\" class=\"dataframe\">\n",
       "  <thead>\n",
       "    <tr style=\"text-align: right;\">\n",
       "      <th></th>\n",
       "      <th>session_id</th>\n",
       "      <th>start_session</th>\n",
       "      <th>end_session</th>\n",
       "    </tr>\n",
       "  </thead>\n",
       "  <tbody>\n",
       "    <tr>\n",
       "      <th>0</th>\n",
       "      <td>1</td>\n",
       "      <td>2019-10-07 00:00:00</td>\n",
       "      <td>2019-10-07 00:18:43</td>\n",
       "    </tr>\n",
       "    <tr>\n",
       "      <th>1</th>\n",
       "      <td>2</td>\n",
       "      <td>2019-10-07 00:05:20</td>\n",
       "      <td>2019-10-07 00:05:23</td>\n",
       "    </tr>\n",
       "    <tr>\n",
       "      <th>2</th>\n",
       "      <td>3</td>\n",
       "      <td>2019-10-10 15:45:36</td>\n",
       "      <td>2019-10-10 15:47:43</td>\n",
       "    </tr>\n",
       "  </tbody>\n",
       "</table>\n",
       "</div>"
      ],
      "text/plain": [
       "   session_id       start_session         end_session\n",
       "0           1 2019-10-07 00:00:00 2019-10-07 00:18:43\n",
       "1           2 2019-10-07 00:05:20 2019-10-07 00:05:23\n",
       "2           3 2019-10-10 15:45:36 2019-10-10 15:47:43"
      ]
     },
     "execution_count": 67,
     "metadata": {},
     "output_type": "execute_result"
    }
   ],
   "source": [
    "# объединение датафреймов, содержащих даты начала и окончания сессий\n",
    "\n",
    "medium_sessions = s_medium.merge(e_medium, on = 'session_id')\n",
    "\n",
    "medium_sessions.head(3)"
   ]
  },
  {
   "cell_type": "code",
   "execution_count": 68,
   "metadata": {},
   "outputs": [
    {
     "data": {
      "text/html": [
       "<div>\n",
       "<style scoped>\n",
       "    .dataframe tbody tr th:only-of-type {\n",
       "        vertical-align: middle;\n",
       "    }\n",
       "\n",
       "    .dataframe tbody tr th {\n",
       "        vertical-align: top;\n",
       "    }\n",
       "\n",
       "    .dataframe thead th {\n",
       "        text-align: right;\n",
       "    }\n",
       "</style>\n",
       "<table border=\"1\" class=\"dataframe\">\n",
       "  <thead>\n",
       "    <tr style=\"text-align: right;\">\n",
       "      <th></th>\n",
       "      <th>session_id</th>\n",
       "      <th>start_session</th>\n",
       "      <th>end_session</th>\n",
       "      <th>dur_sess</th>\n",
       "    </tr>\n",
       "  </thead>\n",
       "  <tbody>\n",
       "    <tr>\n",
       "      <th>0</th>\n",
       "      <td>1</td>\n",
       "      <td>2019-10-07 00:00:00</td>\n",
       "      <td>2019-10-07 00:18:43</td>\n",
       "      <td>1123</td>\n",
       "    </tr>\n",
       "    <tr>\n",
       "      <th>1</th>\n",
       "      <td>2</td>\n",
       "      <td>2019-10-07 00:05:20</td>\n",
       "      <td>2019-10-07 00:05:23</td>\n",
       "      <td>3</td>\n",
       "    </tr>\n",
       "    <tr>\n",
       "      <th>2</th>\n",
       "      <td>3</td>\n",
       "      <td>2019-10-10 15:45:36</td>\n",
       "      <td>2019-10-10 15:47:43</td>\n",
       "      <td>127</td>\n",
       "    </tr>\n",
       "  </tbody>\n",
       "</table>\n",
       "</div>"
      ],
      "text/plain": [
       "   session_id       start_session         end_session  dur_sess\n",
       "0           1 2019-10-07 00:00:00 2019-10-07 00:18:43      1123\n",
       "1           2 2019-10-07 00:05:20 2019-10-07 00:05:23         3\n",
       "2           3 2019-10-10 15:45:36 2019-10-10 15:47:43       127"
      ]
     },
     "execution_count": 68,
     "metadata": {},
     "output_type": "execute_result"
    }
   ],
   "source": [
    "# вычисление длительности сессий в секундах\n",
    "\n",
    "medium_sessions['dur_sess'] = medium_sessions['end_session'] - medium_sessions['start_session']\n",
    "medium_sessions['dur_sess'] = medium_sessions['dur_sess'].dt.seconds\n",
    "\n",
    "medium_sessions.head(3)"
   ]
  },
  {
   "cell_type": "code",
   "execution_count": 69,
   "metadata": {},
   "outputs": [
    {
     "data": {
      "text/plain": [
       "count     7201.000000\n",
       "mean       615.770449\n",
       "std        851.011232\n",
       "min          0.000000\n",
       "25%         18.000000\n",
       "50%        297.000000\n",
       "75%        865.000000\n",
       "max      13050.000000\n",
       "Name: dur_sess, dtype: float64"
      ]
     },
     "execution_count": 69,
     "metadata": {},
     "output_type": "execute_result"
    }
   ],
   "source": [
    "medium_sessions['dur_sess'].describe()"
   ]
  },
  {
   "cell_type": "code",
   "execution_count": 70,
   "metadata": {},
   "outputs": [
    {
     "data": {
      "text/html": [
       "<div>\n",
       "<style scoped>\n",
       "    .dataframe tbody tr th:only-of-type {\n",
       "        vertical-align: middle;\n",
       "    }\n",
       "\n",
       "    .dataframe tbody tr th {\n",
       "        vertical-align: top;\n",
       "    }\n",
       "\n",
       "    .dataframe thead th {\n",
       "        text-align: right;\n",
       "    }\n",
       "</style>\n",
       "<table border=\"1\" class=\"dataframe\">\n",
       "  <thead>\n",
       "    <tr style=\"text-align: right;\">\n",
       "      <th></th>\n",
       "      <th>session_id</th>\n",
       "      <th>start_session</th>\n",
       "      <th>end_session</th>\n",
       "      <th>dur_sess</th>\n",
       "    </tr>\n",
       "  </thead>\n",
       "  <tbody>\n",
       "    <tr>\n",
       "      <th>249</th>\n",
       "      <td>250</td>\n",
       "      <td>2019-10-07 19:54:24</td>\n",
       "      <td>2019-10-07 23:31:54</td>\n",
       "      <td>13050</td>\n",
       "    </tr>\n",
       "  </tbody>\n",
       "</table>\n",
       "</div>"
      ],
      "text/plain": [
       "     session_id       start_session         end_session  dur_sess\n",
       "249         250 2019-10-07 19:54:24 2019-10-07 23:31:54     13050"
      ]
     },
     "execution_count": 70,
     "metadata": {},
     "output_type": "execute_result"
    }
   ],
   "source": [
    "very_medium = medium_sessions.query('dur_sess > 10800')\n",
    "\n",
    "very_medium"
   ]
  },
  {
   "cell_type": "markdown",
   "metadata": {},
   "source": [
    "Расчёт длительности сессий в сегменте medium_events - пользователи, совершившие 35 и менее событий дал следующие результаты (с учётом предыдущих рассчётов):\n",
    "\n",
    "\n",
    "* 3859 пользователей совершили в приложении за исследуемый период 7201 сессию;\n",
    "\n",
    "\n",
    "* средняя продолжительность сессии составляет 615 секунд или чуть больше 10 минут;\n",
    "\n",
    "\n",
    "* только одна сессия пользователя этого сегмента длилась более трёх часов.\n",
    "\n",
    "\n"
   ]
  },
  {
   "cell_type": "markdown",
   "metadata": {},
   "source": [
    "----------------------------"
   ]
  },
  {
   "cell_type": "markdown",
   "metadata": {},
   "source": [
    "Далее следует расчёт частоты действий пользователя во время сессии. \n",
    "\n",
    "\n",
    "Методика расчёта: среднее число действий пользователя за все сессии на протяжении исследуемого периода.\n"
   ]
  },
  {
   "cell_type": "code",
   "execution_count": 71,
   "metadata": {},
   "outputs": [
    {
     "name": "stdout",
     "output_type": "stream",
     "text": [
      "В среднем пользователи сегмента toomuch_events совершают 10.6 действий за одну сессию\n"
     ]
    }
   ],
   "source": [
    "# расчёт частоты действий пользователей сегмента toomuch_events в приложении \n",
    "\n",
    "toomuch_freq = round(toomuch_events['session_id'].count() / toomuch_events['session_id'].max(), 1)\n",
    "print('В среднем пользователи сегмента toomuch_events совершают', toomuch_freq,\n",
    "      'действий за одну сессию') "
   ]
  },
  {
   "cell_type": "code",
   "execution_count": 72,
   "metadata": {},
   "outputs": [
    {
     "name": "stdout",
     "output_type": "stream",
     "text": [
      "В среднем пользователи сегмента toomuch_events совершают 5.6 действий за одну сессию\n"
     ]
    }
   ],
   "source": [
    "# расчёт частоты действий пользователей сегмента medium_events в приложении\n",
    "\n",
    "medium_freq = round(medium_events['session_id'].count() / medium_events['session_id'].max(), 1)\n",
    "print('В среднем пользователи сегмента toomuch_events совершают', medium_freq,\n",
    "      'действий за одну сессию')"
   ]
  },
  {
   "cell_type": "markdown",
   "metadata": {},
   "source": [
    "В дополнение к расчитанным метрикам далее расчёт пользовательской активности — количество уникальных активных пользователей за определённое время.\n",
    "\n",
    "    • DAU — количество уникальных пользователей в день;\n",
    "    • WAU — количество уникальных пользователей в неделю.\n"
   ]
  },
  {
   "cell_type": "code",
   "execution_count": 73,
   "metadata": {},
   "outputs": [
    {
     "data": {
      "text/plain": [
       "28    2019-10-07\n",
       "29    2019-10-07\n",
       "Name: date_time, dtype: object"
      ]
     },
     "execution_count": 73,
     "metadata": {},
     "output_type": "execute_result"
    }
   ],
   "source": [
    "# выделение календарной даты без времени\n",
    "\n",
    "toomuch_events['date_time'] = toomuch_events['event_time'].dt.date\n",
    "toomuch_events['date_time'].head(2)"
   ]
  },
  {
   "cell_type": "code",
   "execution_count": 74,
   "metadata": {},
   "outputs": [
    {
     "name": "stdout",
     "output_type": "stream",
     "text": [
      "67\n",
      "206\n"
     ]
    }
   ],
   "source": [
    "# расчёт показателей DAU и WAU для пользователей сегмента toomuch_events\n",
    "\n",
    "dau_toomuch = toomuch_events.groupby('date_time').agg({'user_id': 'nunique'}).mean()\n",
    "\n",
    "wau_toomuch = toomuch_events.groupby('event_week').agg({'user_id': 'nunique'}).mean()\n",
    "\n",
    "\n",
    "print(int(dau_toomuch))\n",
    "print(int(wau_toomuch))"
   ]
  },
  {
   "cell_type": "code",
   "execution_count": 75,
   "metadata": {},
   "outputs": [
    {
     "data": {
      "text/plain": [
       "0    2019-10-07\n",
       "1    2019-10-07\n",
       "Name: date_time, dtype: object"
      ]
     },
     "execution_count": 75,
     "metadata": {},
     "output_type": "execute_result"
    }
   ],
   "source": [
    "# выделение календарной даты без времени\n",
    "\n",
    "medium_events['date_time'] = medium_events['event_time'].dt.date\n",
    "medium_events['date_time'].head(2)"
   ]
  },
  {
   "cell_type": "code",
   "execution_count": 76,
   "metadata": {},
   "outputs": [
    {
     "name": "stdout",
     "output_type": "stream",
     "text": [
      "212\n",
      "1176\n"
     ]
    }
   ],
   "source": [
    "# расчёт показателей DAU и WAU для пользователей сегмента medium_events\n",
    "\n",
    "dau_medium = medium_events.groupby('date_time').agg({'user_id': 'nunique'}).mean()\n",
    "\n",
    "wau_medium = medium_events.groupby('event_week').agg({'user_id': 'nunique'}).mean()\n",
    "\n",
    "\n",
    "print(int(dau_medium))\n",
    "print(int(wau_medium))"
   ]
  },
  {
   "cell_type": "markdown",
   "metadata": {},
   "source": [
    "-------------------------"
   ]
  },
  {
   "cell_type": "markdown",
   "metadata": {},
   "source": [
    "Вычисление времени между первым действием пользователя в приложении до любого действия из списка событий search_1  —  search_7.\n"
   ]
  },
  {
   "cell_type": "code",
   "execution_count": 98,
   "metadata": {},
   "outputs": [
    {
     "data": {
      "text/html": [
       "<div>\n",
       "<style scoped>\n",
       "    .dataframe tbody tr th:only-of-type {\n",
       "        vertical-align: middle;\n",
       "    }\n",
       "\n",
       "    .dataframe tbody tr th {\n",
       "        vertical-align: top;\n",
       "    }\n",
       "\n",
       "    .dataframe thead th {\n",
       "        text-align: right;\n",
       "    }\n",
       "</style>\n",
       "<table border=\"1\" class=\"dataframe\">\n",
       "  <thead>\n",
       "    <tr style=\"text-align: right;\">\n",
       "      <th></th>\n",
       "      <th>event_time</th>\n",
       "      <th>event_name</th>\n",
       "      <th>user_id</th>\n",
       "      <th>source</th>\n",
       "      <th>number_events</th>\n",
       "      <th>event_week</th>\n",
       "      <th>session_id</th>\n",
       "      <th>date_time</th>\n",
       "    </tr>\n",
       "  </thead>\n",
       "  <tbody>\n",
       "    <tr>\n",
       "      <th>55</th>\n",
       "      <td>2019-10-08 20:08:11</td>\n",
       "      <td>search_4</td>\n",
       "      <td>cf7eda61-9349-469f-ac27-e5b6f5ec475c</td>\n",
       "      <td>yandex</td>\n",
       "      <td>93</td>\n",
       "      <td>41</td>\n",
       "      <td>2</td>\n",
       "      <td>2019-10-08</td>\n",
       "    </tr>\n",
       "    <tr>\n",
       "      <th>86</th>\n",
       "      <td>2019-10-16 21:36:12</td>\n",
       "      <td>search_2</td>\n",
       "      <td>cf7eda61-9349-469f-ac27-e5b6f5ec475c</td>\n",
       "      <td>yandex</td>\n",
       "      <td>93</td>\n",
       "      <td>42</td>\n",
       "      <td>4</td>\n",
       "      <td>2019-10-16</td>\n",
       "    </tr>\n",
       "    <tr>\n",
       "      <th>87</th>\n",
       "      <td>2019-10-16 21:36:12</td>\n",
       "      <td>search_4</td>\n",
       "      <td>cf7eda61-9349-469f-ac27-e5b6f5ec475c</td>\n",
       "      <td>yandex</td>\n",
       "      <td>93</td>\n",
       "      <td>42</td>\n",
       "      <td>4</td>\n",
       "      <td>2019-10-16</td>\n",
       "    </tr>\n",
       "  </tbody>\n",
       "</table>\n",
       "</div>"
      ],
      "text/plain": [
       "            event_time event_name                               user_id  \\\n",
       "55 2019-10-08 20:08:11   search_4  cf7eda61-9349-469f-ac27-e5b6f5ec475c   \n",
       "86 2019-10-16 21:36:12   search_2  cf7eda61-9349-469f-ac27-e5b6f5ec475c   \n",
       "87 2019-10-16 21:36:12   search_4  cf7eda61-9349-469f-ac27-e5b6f5ec475c   \n",
       "\n",
       "    source  number_events  event_week  session_id   date_time  \n",
       "55  yandex             93          41           2  2019-10-08  \n",
       "86  yandex             93          42           4  2019-10-16  \n",
       "87  yandex             93          42           4  2019-10-16  "
      ]
     },
     "execution_count": 98,
     "metadata": {},
     "output_type": "execute_result"
    }
   ],
   "source": [
    "# формирование среза со всеми событиями из списка событий search_1 — search_7\n",
    "# сегмент пользователей toomuch_events\n",
    "\n",
    "toomuch_events_ser = toomuch_events.query('event_name == \"search_1\" or event_name == \"search_2\"\\\n",
    "    or event_name == \"search_3\" or event_name == \"search_4\" or event_name == \"search_5\"\\\n",
    "    or event_name == \"search_6\" or event_name == \"search_7\"')                                                                                 \n",
    "                                                                                 \n",
    "toomuch_events_ser.head(3)"
   ]
  },
  {
   "cell_type": "code",
   "execution_count": 97,
   "metadata": {},
   "outputs": [
    {
     "data": {
      "text/html": [
       "<div>\n",
       "<style scoped>\n",
       "    .dataframe tbody tr th:only-of-type {\n",
       "        vertical-align: middle;\n",
       "    }\n",
       "\n",
       "    .dataframe tbody tr th {\n",
       "        vertical-align: top;\n",
       "    }\n",
       "\n",
       "    .dataframe thead th {\n",
       "        text-align: right;\n",
       "    }\n",
       "</style>\n",
       "<table border=\"1\" class=\"dataframe\">\n",
       "  <thead>\n",
       "    <tr style=\"text-align: right;\">\n",
       "      <th></th>\n",
       "      <th>session_id</th>\n",
       "      <th>start_search</th>\n",
       "    </tr>\n",
       "  </thead>\n",
       "  <tbody>\n",
       "    <tr>\n",
       "      <th>0</th>\n",
       "      <td>2</td>\n",
       "      <td>2019-10-08 20:08:11</td>\n",
       "    </tr>\n",
       "    <tr>\n",
       "      <th>1</th>\n",
       "      <td>4</td>\n",
       "      <td>2019-10-16 21:36:12</td>\n",
       "    </tr>\n",
       "    <tr>\n",
       "      <th>2</th>\n",
       "      <td>9</td>\n",
       "      <td>2019-10-17 21:48:10</td>\n",
       "    </tr>\n",
       "  </tbody>\n",
       "</table>\n",
       "</div>"
      ],
      "text/plain": [
       "   session_id        start_search\n",
       "0           2 2019-10-08 20:08:11\n",
       "1           4 2019-10-16 21:36:12\n",
       "2           9 2019-10-17 21:48:10"
      ]
     },
     "execution_count": 97,
     "metadata": {},
     "output_type": "execute_result"
    }
   ],
   "source": [
    "# вычисление времени начала использования поиска - самого раннего из списка событий search_1 — search_7\n",
    "\n",
    "e_toomuch_ser = toomuch_events_ser.groupby('session_id').agg({'event_time' : 'min'}).reset_index()\n",
    "e_toomuch_ser = e_toomuch_ser.rename(columns={'event_time': 'start_search'}) \n",
    "e_toomuch_ser.head(3)"
   ]
  },
  {
   "cell_type": "code",
   "execution_count": 91,
   "metadata": {},
   "outputs": [
    {
     "data": {
      "text/html": [
       "<div>\n",
       "<style scoped>\n",
       "    .dataframe tbody tr th:only-of-type {\n",
       "        vertical-align: middle;\n",
       "    }\n",
       "\n",
       "    .dataframe tbody tr th {\n",
       "        vertical-align: top;\n",
       "    }\n",
       "\n",
       "    .dataframe thead th {\n",
       "        text-align: right;\n",
       "    }\n",
       "</style>\n",
       "<table border=\"1\" class=\"dataframe\">\n",
       "  <thead>\n",
       "    <tr style=\"text-align: right;\">\n",
       "      <th></th>\n",
       "      <th>session_id</th>\n",
       "      <th>start_session</th>\n",
       "      <th>start_search</th>\n",
       "    </tr>\n",
       "  </thead>\n",
       "  <tbody>\n",
       "    <tr>\n",
       "      <th>0</th>\n",
       "      <td>2</td>\n",
       "      <td>2019-10-08 20:06:42</td>\n",
       "      <td>2019-10-08 20:08:11</td>\n",
       "    </tr>\n",
       "    <tr>\n",
       "      <th>1</th>\n",
       "      <td>4</td>\n",
       "      <td>2019-10-16 21:17:07</td>\n",
       "      <td>2019-10-16 21:36:12</td>\n",
       "    </tr>\n",
       "    <tr>\n",
       "      <th>2</th>\n",
       "      <td>9</td>\n",
       "      <td>2019-10-17 21:48:10</td>\n",
       "      <td>2019-10-17 21:48:10</td>\n",
       "    </tr>\n",
       "  </tbody>\n",
       "</table>\n",
       "</div>"
      ],
      "text/plain": [
       "   session_id       start_session        start_search\n",
       "0           2 2019-10-08 20:06:42 2019-10-08 20:08:11\n",
       "1           4 2019-10-16 21:17:07 2019-10-16 21:36:12\n",
       "2           9 2019-10-17 21:48:10 2019-10-17 21:48:10"
      ]
     },
     "execution_count": 91,
     "metadata": {},
     "output_type": "execute_result"
    }
   ],
   "source": [
    "# объединение датафреймов, содержащих даты начала сессий и начала использования поиска\n",
    "\n",
    "toomuch_sessions_ser = s_toomuch.merge(e_toomuch_ser, on = 'session_id')\n",
    "\n",
    "toomuch_sessions_ser.head(3)"
   ]
  },
  {
   "cell_type": "code",
   "execution_count": 103,
   "metadata": {},
   "outputs": [
    {
     "data": {
      "text/html": [
       "<div>\n",
       "<style scoped>\n",
       "    .dataframe tbody tr th:only-of-type {\n",
       "        vertical-align: middle;\n",
       "    }\n",
       "\n",
       "    .dataframe tbody tr th {\n",
       "        vertical-align: top;\n",
       "    }\n",
       "\n",
       "    .dataframe thead th {\n",
       "        text-align: right;\n",
       "    }\n",
       "</style>\n",
       "<table border=\"1\" class=\"dataframe\">\n",
       "  <thead>\n",
       "    <tr style=\"text-align: right;\">\n",
       "      <th></th>\n",
       "      <th>session_id</th>\n",
       "      <th>start_session</th>\n",
       "      <th>start_search</th>\n",
       "      <th>dur_gap</th>\n",
       "    </tr>\n",
       "  </thead>\n",
       "  <tbody>\n",
       "    <tr>\n",
       "      <th>0</th>\n",
       "      <td>2</td>\n",
       "      <td>2019-10-08 20:06:42</td>\n",
       "      <td>2019-10-08 20:08:11</td>\n",
       "      <td>89</td>\n",
       "    </tr>\n",
       "    <tr>\n",
       "      <th>1</th>\n",
       "      <td>4</td>\n",
       "      <td>2019-10-16 21:17:07</td>\n",
       "      <td>2019-10-16 21:36:12</td>\n",
       "      <td>1145</td>\n",
       "    </tr>\n",
       "    <tr>\n",
       "      <th>2</th>\n",
       "      <td>9</td>\n",
       "      <td>2019-10-17 21:48:10</td>\n",
       "      <td>2019-10-17 21:48:10</td>\n",
       "      <td>0</td>\n",
       "    </tr>\n",
       "  </tbody>\n",
       "</table>\n",
       "</div>"
      ],
      "text/plain": [
       "   session_id       start_session        start_search  dur_gap\n",
       "0           2 2019-10-08 20:06:42 2019-10-08 20:08:11       89\n",
       "1           4 2019-10-16 21:17:07 2019-10-16 21:36:12     1145\n",
       "2           9 2019-10-17 21:48:10 2019-10-17 21:48:10        0"
      ]
     },
     "execution_count": 103,
     "metadata": {},
     "output_type": "execute_result"
    }
   ],
   "source": [
    "# вычисление длительности временного промежутка между началом сессий и началом использования \n",
    "# поиска в секундах\n",
    "\n",
    "toomuch_sessions_ser['dur_gap'] = toomuch_sessions_ser['start_search'] - \\\n",
    "                                                            toomuch_sessions_ser['start_session']\n",
    "toomuch_sessions_ser['dur_gap'] = toomuch_sessions_ser['dur_gap'].dt.seconds\n",
    "\n",
    "toomuch_sessions_ser.head(3)"
   ]
  },
  {
   "cell_type": "code",
   "execution_count": 94,
   "metadata": {},
   "outputs": [
    {
     "data": {
      "text/plain": [
       "count     838.000000\n",
       "mean      194.125298\n",
       "std       665.256611\n",
       "min         0.000000\n",
       "25%         0.000000\n",
       "50%         0.000000\n",
       "75%         0.000000\n",
       "max      7084.000000\n",
       "Name: dur_gap, dtype: float64"
      ]
     },
     "execution_count": 94,
     "metadata": {},
     "output_type": "execute_result"
    }
   ],
   "source": [
    "# просмотр агрегированных данных о длительности временного промежутка между началом сессий \n",
    "# и началом использования поиска\n",
    "\n",
    "toomuch_sessions_ser['dur_gap'].describe()"
   ]
  },
  {
   "cell_type": "code",
   "execution_count": 99,
   "metadata": {},
   "outputs": [
    {
     "data": {
      "text/html": [
       "<div>\n",
       "<style scoped>\n",
       "    .dataframe tbody tr th:only-of-type {\n",
       "        vertical-align: middle;\n",
       "    }\n",
       "\n",
       "    .dataframe tbody tr th {\n",
       "        vertical-align: top;\n",
       "    }\n",
       "\n",
       "    .dataframe thead th {\n",
       "        text-align: right;\n",
       "    }\n",
       "</style>\n",
       "<table border=\"1\" class=\"dataframe\">\n",
       "  <thead>\n",
       "    <tr style=\"text-align: right;\">\n",
       "      <th></th>\n",
       "      <th>event_time</th>\n",
       "      <th>event_name</th>\n",
       "      <th>user_id</th>\n",
       "      <th>source</th>\n",
       "      <th>number_events</th>\n",
       "      <th>event_week</th>\n",
       "      <th>session_id</th>\n",
       "      <th>date_time</th>\n",
       "    </tr>\n",
       "  </thead>\n",
       "  <tbody>\n",
       "    <tr>\n",
       "      <th>217</th>\n",
       "      <td>2019-10-07 00:05:20</td>\n",
       "      <td>search_4</td>\n",
       "      <td>d9b06b47-0f36-419b-bbb0-3533e582a6cb</td>\n",
       "      <td>other</td>\n",
       "      <td>8</td>\n",
       "      <td>41</td>\n",
       "      <td>2</td>\n",
       "      <td>2019-10-07</td>\n",
       "    </tr>\n",
       "    <tr>\n",
       "      <th>218</th>\n",
       "      <td>2019-10-07 00:05:23</td>\n",
       "      <td>search_5</td>\n",
       "      <td>d9b06b47-0f36-419b-bbb0-3533e582a6cb</td>\n",
       "      <td>other</td>\n",
       "      <td>8</td>\n",
       "      <td>41</td>\n",
       "      <td>2</td>\n",
       "      <td>2019-10-07</td>\n",
       "    </tr>\n",
       "    <tr>\n",
       "      <th>380</th>\n",
       "      <td>2019-10-30 21:37:16</td>\n",
       "      <td>search_4</td>\n",
       "      <td>57321726-5d66-4d51-84f4-c797c35dcf2b</td>\n",
       "      <td>google</td>\n",
       "      <td>6</td>\n",
       "      <td>44</td>\n",
       "      <td>8</td>\n",
       "      <td>2019-10-30</td>\n",
       "    </tr>\n",
       "  </tbody>\n",
       "</table>\n",
       "</div>"
      ],
      "text/plain": [
       "             event_time event_name                               user_id  \\\n",
       "217 2019-10-07 00:05:20   search_4  d9b06b47-0f36-419b-bbb0-3533e582a6cb   \n",
       "218 2019-10-07 00:05:23   search_5  d9b06b47-0f36-419b-bbb0-3533e582a6cb   \n",
       "380 2019-10-30 21:37:16   search_4  57321726-5d66-4d51-84f4-c797c35dcf2b   \n",
       "\n",
       "     source  number_events  event_week  session_id   date_time  \n",
       "217   other              8          41           2  2019-10-07  \n",
       "218   other              8          41           2  2019-10-07  \n",
       "380  google              6          44           8  2019-10-30  "
      ]
     },
     "execution_count": 99,
     "metadata": {},
     "output_type": "execute_result"
    }
   ],
   "source": [
    "# формирование среза со всеми событиями из списка событий search_1 — search_7\n",
    "# сегмент пользователей medium_events\n",
    "\n",
    "medium_events_ser = medium_events.query('event_name == \"search_1\" or event_name == \"search_2\"\\\n",
    "    or event_name == \"search_3\" or event_name == \"search_4\" or event_name == \"search_5\"\\\n",
    "    or event_name == \"search_6\" or event_name == \"search_7\"')                                                                                 \n",
    "                                                                                 \n",
    "medium_events_ser.head(3)"
   ]
  },
  {
   "cell_type": "code",
   "execution_count": 100,
   "metadata": {},
   "outputs": [
    {
     "data": {
      "text/html": [
       "<div>\n",
       "<style scoped>\n",
       "    .dataframe tbody tr th:only-of-type {\n",
       "        vertical-align: middle;\n",
       "    }\n",
       "\n",
       "    .dataframe tbody tr th {\n",
       "        vertical-align: top;\n",
       "    }\n",
       "\n",
       "    .dataframe thead th {\n",
       "        text-align: right;\n",
       "    }\n",
       "</style>\n",
       "<table border=\"1\" class=\"dataframe\">\n",
       "  <thead>\n",
       "    <tr style=\"text-align: right;\">\n",
       "      <th></th>\n",
       "      <th>session_id</th>\n",
       "      <th>start_search</th>\n",
       "    </tr>\n",
       "  </thead>\n",
       "  <tbody>\n",
       "    <tr>\n",
       "      <th>0</th>\n",
       "      <td>2</td>\n",
       "      <td>2019-10-07 00:05:20</td>\n",
       "    </tr>\n",
       "    <tr>\n",
       "      <th>1</th>\n",
       "      <td>8</td>\n",
       "      <td>2019-10-30 21:37:16</td>\n",
       "    </tr>\n",
       "    <tr>\n",
       "      <th>2</th>\n",
       "      <td>10</td>\n",
       "      <td>2019-10-07 08:10:01</td>\n",
       "    </tr>\n",
       "  </tbody>\n",
       "</table>\n",
       "</div>"
      ],
      "text/plain": [
       "   session_id        start_search\n",
       "0           2 2019-10-07 00:05:20\n",
       "1           8 2019-10-30 21:37:16\n",
       "2          10 2019-10-07 08:10:01"
      ]
     },
     "execution_count": 100,
     "metadata": {},
     "output_type": "execute_result"
    }
   ],
   "source": [
    "# вычисление времени начала использования поиска - самого раннего из списка событий search_1 — search_7\n",
    "\n",
    "e_medium_ser = medium_events_ser.groupby('session_id').agg({'event_time' : 'min'}).reset_index()\n",
    "e_medium_ser = e_medium_ser.rename(columns={'event_time': 'start_search'}) \n",
    "e_medium_ser.head(3)"
   ]
  },
  {
   "cell_type": "code",
   "execution_count": 101,
   "metadata": {},
   "outputs": [
    {
     "data": {
      "text/html": [
       "<div>\n",
       "<style scoped>\n",
       "    .dataframe tbody tr th:only-of-type {\n",
       "        vertical-align: middle;\n",
       "    }\n",
       "\n",
       "    .dataframe tbody tr th {\n",
       "        vertical-align: top;\n",
       "    }\n",
       "\n",
       "    .dataframe thead th {\n",
       "        text-align: right;\n",
       "    }\n",
       "</style>\n",
       "<table border=\"1\" class=\"dataframe\">\n",
       "  <thead>\n",
       "    <tr style=\"text-align: right;\">\n",
       "      <th></th>\n",
       "      <th>session_id</th>\n",
       "      <th>start_session</th>\n",
       "      <th>start_search</th>\n",
       "    </tr>\n",
       "  </thead>\n",
       "  <tbody>\n",
       "    <tr>\n",
       "      <th>0</th>\n",
       "      <td>2</td>\n",
       "      <td>2019-10-07 00:05:20</td>\n",
       "      <td>2019-10-07 00:05:20</td>\n",
       "    </tr>\n",
       "    <tr>\n",
       "      <th>1</th>\n",
       "      <td>8</td>\n",
       "      <td>2019-10-30 21:37:16</td>\n",
       "      <td>2019-10-30 21:37:16</td>\n",
       "    </tr>\n",
       "    <tr>\n",
       "      <th>2</th>\n",
       "      <td>10</td>\n",
       "      <td>2019-10-07 08:02:58</td>\n",
       "      <td>2019-10-07 08:10:01</td>\n",
       "    </tr>\n",
       "  </tbody>\n",
       "</table>\n",
       "</div>"
      ],
      "text/plain": [
       "   session_id       start_session        start_search\n",
       "0           2 2019-10-07 00:05:20 2019-10-07 00:05:20\n",
       "1           8 2019-10-30 21:37:16 2019-10-30 21:37:16\n",
       "2          10 2019-10-07 08:02:58 2019-10-07 08:10:01"
      ]
     },
     "execution_count": 101,
     "metadata": {},
     "output_type": "execute_result"
    }
   ],
   "source": [
    "# объединение датафреймов, содержащих даты начала сессий и начала использования поиска\n",
    "\n",
    "medium_sessions_ser = s_medium.merge(e_medium_ser, on = 'session_id')\n",
    "\n",
    "medium_sessions_ser.head(3)"
   ]
  },
  {
   "cell_type": "code",
   "execution_count": 104,
   "metadata": {},
   "outputs": [
    {
     "data": {
      "text/html": [
       "<div>\n",
       "<style scoped>\n",
       "    .dataframe tbody tr th:only-of-type {\n",
       "        vertical-align: middle;\n",
       "    }\n",
       "\n",
       "    .dataframe tbody tr th {\n",
       "        vertical-align: top;\n",
       "    }\n",
       "\n",
       "    .dataframe thead th {\n",
       "        text-align: right;\n",
       "    }\n",
       "</style>\n",
       "<table border=\"1\" class=\"dataframe\">\n",
       "  <thead>\n",
       "    <tr style=\"text-align: right;\">\n",
       "      <th></th>\n",
       "      <th>session_id</th>\n",
       "      <th>start_session</th>\n",
       "      <th>start_search</th>\n",
       "      <th>dur_gap</th>\n",
       "    </tr>\n",
       "  </thead>\n",
       "  <tbody>\n",
       "    <tr>\n",
       "      <th>0</th>\n",
       "      <td>2</td>\n",
       "      <td>2019-10-07 00:05:20</td>\n",
       "      <td>2019-10-07 00:05:20</td>\n",
       "      <td>0</td>\n",
       "    </tr>\n",
       "    <tr>\n",
       "      <th>1</th>\n",
       "      <td>8</td>\n",
       "      <td>2019-10-30 21:37:16</td>\n",
       "      <td>2019-10-30 21:37:16</td>\n",
       "      <td>0</td>\n",
       "    </tr>\n",
       "    <tr>\n",
       "      <th>2</th>\n",
       "      <td>10</td>\n",
       "      <td>2019-10-07 08:02:58</td>\n",
       "      <td>2019-10-07 08:10:01</td>\n",
       "      <td>423</td>\n",
       "    </tr>\n",
       "  </tbody>\n",
       "</table>\n",
       "</div>"
      ],
      "text/plain": [
       "   session_id       start_session        start_search  dur_gap\n",
       "0           2 2019-10-07 00:05:20 2019-10-07 00:05:20        0\n",
       "1           8 2019-10-30 21:37:16 2019-10-30 21:37:16        0\n",
       "2          10 2019-10-07 08:02:58 2019-10-07 08:10:01      423"
      ]
     },
     "execution_count": 104,
     "metadata": {},
     "output_type": "execute_result"
    }
   ],
   "source": [
    "# вычисление длительности временного промежутка между началом сессий и началом использования \n",
    "# поиска в секундах\n",
    "\n",
    "medium_sessions_ser['dur_gap'] = medium_sessions_ser['start_search'] - \\\n",
    "                                                            medium_sessions_ser['start_session']\n",
    "medium_sessions_ser['dur_gap'] = medium_sessions_ser['dur_gap'].dt.seconds\n",
    "\n",
    "medium_sessions_ser.head(3)"
   ]
  },
  {
   "cell_type": "code",
   "execution_count": 105,
   "metadata": {},
   "outputs": [
    {
     "data": {
      "text/plain": [
       "count    2136.000000\n",
       "mean       67.488296\n",
       "std       294.898933\n",
       "min         0.000000\n",
       "25%         0.000000\n",
       "50%         0.000000\n",
       "75%         0.000000\n",
       "max      5668.000000\n",
       "Name: dur_gap, dtype: float64"
      ]
     },
     "execution_count": 105,
     "metadata": {},
     "output_type": "execute_result"
    }
   ],
   "source": [
    "# просмотр агрегированных данных о длительности временного промежутка между началом сессий \n",
    "# и началом использования поиска\n",
    "\n",
    "medium_sessions_ser['dur_gap'].describe()"
   ]
  },
  {
   "cell_type": "markdown",
   "metadata": {},
   "source": [
    "Агрегированные данные о длительности временного промежутка между началом сессий и началом использования поиска (функции из списка search_1 - search_7) не дают представления о распределении величин. Средние значения 194 и 67 секунд значительно меньше величины стандартного отклонения для этих величин.Также видно, что подавляющая часть значений - это ноль секунд, и только малая часть, отличных от нуля значений, дают такие средние значения.\n",
    "\n",
    "\n",
    "Для просмотра более цельной картины выведу по две гистограммы для каждого сегмента пользователей:\n",
    "\n",
    "Временной промежуток между началом сессии и началом использования функции search (1) - для значений от 0 до 5 секунд, \n",
    "\n",
    "и \n",
    "\n",
    "Временной промежуток между началом сессии и началом использования функции search (2) - для значений от 1 до 1000 секунд.\n"
   ]
  },
  {
   "cell_type": "code",
   "execution_count": 127,
   "metadata": {},
   "outputs": [
    {
     "data": {
      "image/png": "[encoded data removed]",
      "text/plain": [
       "<Figure size 720x504 with 1 Axes>"
      ]
     },
     "metadata": {
      "needs_background": "light"
     },
     "output_type": "display_data"
    }
   ],
   "source": [
    "# визуализация распределения количества событий на каждого пользователя\n",
    "\n",
    "toomuch_sessions_ser['dur_gap'].hist(bins = 10, range = (0, 5))\n",
    "plt.rcParams[\"figure.figsize\"] = (10, 7)\n",
    "plt.title('Временной промежуток между началом сессии и началом использования функции search (1)',\n",
    "          fontsize=20)\n",
    "plt.xlabel('Длительность временного промежутка между началом сессии и поиском', fontsize=15)\n",
    "plt.ylabel('Количество пользователей / сессий', fontsize=15)\n",
    "plt.show()"
   ]
  },
  {
   "cell_type": "code",
   "execution_count": 131,
   "metadata": {},
   "outputs": [
    {
     "data": {
      "image/png": "[encoded data removed]",
      "text/plain": [
       "<Figure size 864x504 with 1 Axes>"
      ]
     },
     "metadata": {
      "needs_background": "light"
     },
     "output_type": "display_data"
    }
   ],
   "source": [
    "# визуализация распределения количества событий на каждого пользователя\n",
    "\n",
    "toomuch_sessions_ser['dur_gap'].hist(bins = 20, range = (1, 1000))\n",
    "plt.rcParams[\"figure.figsize\"] = (10, 7)\n",
    "plt.title('Временной промежуток между началом сессии и началом использования функции search (2)',\n",
    "          fontsize=20)\n",
    "plt.xlabel('Длительность временного промежутка между началом сессии и поиском', fontsize=15)\n",
    "plt.ylabel('Количество пользователей / сессий', fontsize=15)\n",
    "plt.show()"
   ]
  },
  {
   "cell_type": "code",
   "execution_count": 125,
   "metadata": {},
   "outputs": [
    {
     "data": {
      "image/png": "[encoded data removed]",
      "text/plain": [
       "<Figure size 720x504 with 1 Axes>"
      ]
     },
     "metadata": {
      "needs_background": "light"
     },
     "output_type": "display_data"
    }
   ],
   "source": [
    "# визуализация распределения количества событий на каждого пользователя\n",
    "\n",
    "medium_sessions_ser['dur_gap'].hist(bins = 10, range = (0, 5))\n",
    "plt.rcParams[\"figure.figsize\"] = (10, 7)\n",
    "plt.title('Временной промежуток между началом сессии и началом использования функции search (1)',\n",
    "          fontsize=20)\n",
    "plt.xlabel('Длительность временного промежутка между началом сессии и поиском', fontsize=15)\n",
    "plt.ylabel('Количество пользователей / сессий', fontsize=15)\n",
    "plt.show()"
   ]
  },
  {
   "cell_type": "code",
   "execution_count": 130,
   "metadata": {},
   "outputs": [
    {
     "data": {
      "image/png": "[encoded data removed]",
      "text/plain": [
       "<Figure size 720x504 with 1 Axes>"
      ]
     },
     "metadata": {
      "needs_background": "light"
     },
     "output_type": "display_data"
    }
   ],
   "source": [
    "# визуализация распределения количества событий на каждого пользователя\n",
    "\n",
    "medium_sessions_ser['dur_gap'].hist(bins = 20, range = (1, 1000))\n",
    "plt.rcParams[\"figure.figsize\"] = (12, 7)\n",
    "plt.title('Временной промежуток между началом сессии и началом использования функции search (2)',\n",
    "          fontsize=20)\n",
    "plt.xlabel('Длительность временного промежутка между началом сессии и поиском', fontsize=15)\n",
    "plt.ylabel('Количество пользователей / сессий', fontsize=15)\n",
    "plt.show()"
   ]
  },
  {
   "cell_type": "markdown",
   "metadata": {},
   "source": [
    "Как видно на гистограммах, количество сессий/рассматриваемых промежутков времени, длительность которых превышает ноль секунд составляет незначительное число от общего количества сессий/временных промежутков. \n",
    "\n",
    "\n",
    "Таким образом, делаю вывод: времена между первым действием пользователя в приложении до любого действия из списка событий search_1 — search_7 для пользователей выделенных сегментов не различаются.\n"
   ]
  },
  {
   "cell_type": "markdown",
   "metadata": {},
   "source": [
    "_______________________________________________________\n",
    "\n",
    "________________________________________________________"
   ]
  },
  {
   "cell_type": "markdown",
   "metadata": {},
   "source": [
    "ИТОГИ РАСЧЁТОВ\n",
    "\n",
    "\n",
    "Средние значения метрик пользователей, совершивших более 35-ти действий в приложении \n",
    "(сегмент toomuch_events):\n",
    "\n",
    "\n",
    "* Retention Rate (коэффициент удержания) - 59,7%;\n",
    "\n",
    "\n",
    "* CR (конверсия в целевое действие) - 35,75%;\n",
    "\n",
    "\n",
    "* Продолжительность сессии - 18 минут 49 секунд;\n",
    "\n",
    "\n",
    "* 10,6 действий за одну сессию;\n",
    "\n",
    "\n",
    "* Размер сегмента - 434 пользователя;\n",
    "\n",
    "\n",
    "* DAU (количество уникальных пользователей в день) - 67;\n",
    "\n",
    "\n",
    "* WAU (количество уникальных пользователей в неделю) - 206.\n",
    "\n",
    "\n",
    "Средние значения метрик пользователей, совершивших 35 и менее действий в приложении\n",
    "(сегмент medium_events):\n",
    "\n",
    "\n",
    "* Retention Rate (коэффициент удержания) - 18,3%;\n",
    "\n",
    "\n",
    "* CR (конверсия в целевое действие) - 18,5%;\n",
    "\n",
    "\n",
    "* Продолжительность сессии - 10 минут 15 секунд;\n",
    "\n",
    "\n",
    "* 5,6 действий за одну сессию;\n",
    "\n",
    "\n",
    "* Размер сегмента - 3859 пользователей;\n",
    "\n",
    "\n",
    "* DAU (количество уникальных пользователей в день) - 212;\n",
    "\n",
    "\n",
    "* WAU (количество уникальных пользователей в неделю) - 1176.\n",
    "\n",
    "\n",
    "Результаты расчётов явно показывают, что пользователи, которые совершают необычно много действий в приложении значительно лучше и дольше удерживаются, проводят больше времени в приложении, совершают больше действий  вприложении, чаще заходят в приложение, и значительно чаще совершают целевое действие - просматривают контакты в карточке объявления. По всей видимости, пользователи этого сегмента отличаются большей заинтересованностью и лояльностью к приложению, и увеличение количества действий в приложении явно свидетельствует о заинтересованности пользователя в приложении. \n",
    "\n",
    "\n",
    "Таким образом, можно сделать вывод: необычно много действий пользователей в приложении - это обычное поведение именно лояльного заинтересованного пользователя приложения. Расчитанное значение: 35 действий за исследуемый период, как граница аномальной активности пользователей имеет смысл только при расчёте активности всех пользователей, не исключая незаинтересованных пользователей. \n",
    "\n",
    "\n",
    "Времена между первым действием пользователя в приложении до любого действия из списка событий search_1 — search_7 для пользователей выделенных сегментов не различаются, и в основной массе составляют ноль секунд.\n",
    "\n"
   ]
  },
  {
   "cell_type": "markdown",
   "metadata": {},
   "source": [
    "Далее следует расчёт аномальных показателей активности сегмента toomuch_events."
   ]
  },
  {
   "cell_type": "code",
   "execution_count": null,
   "metadata": {},
   "outputs": [],
   "source": [
    "# расчёт верхней границы выбросов значений числа событий (действий) пользователя в приложении\n",
    "\n",
    "q1_t = toomuch_events['user_id'].value_counts().quantile(0.25)\n",
    "q3_t = toomuch_events['user_id'].value_counts().quantile(0.75)\n",
    "iqr_t = q3_t - q1_t  \n",
    "print('Верхняя граница количества событий, выше которой значения признаются выбросами:', \n",
    "      (q3_t + 1.5 * iqr_t))"
   ]
  },
  {
   "cell_type": "code",
   "execution_count": null,
   "metadata": {},
   "outputs": [],
   "source": [
    "# расчёт среднего числа событий (действий) пользователя в приложении\n",
    "\n",
    "toomuch_events['user_id'].value_counts().mean()"
   ]
  },
  {
   "cell_type": "code",
   "execution_count": null,
   "metadata": {},
   "outputs": [],
   "source": [
    "# расчёт среднего числа событий (действий) пользователя в приложении\n",
    "\n",
    "toomuch_events['user_id'].value_counts().median()"
   ]
  },
  {
   "cell_type": "code",
   "execution_count": null,
   "metadata": {},
   "outputs": [],
   "source": [
    "# визуализация распределения количества событий на каждого пользователя\n",
    "\n",
    "toomuch_events['user_id'].value_counts().hist(bins = 50, range = (35, 200))\n",
    "plt.rcParams[\"figure.figsize\"] = (10, 7)\n",
    "plt.title('Распределение количества событий на каждого пользователя', fontsize=20)\n",
    "plt.xlabel('Количество событий', fontsize=15)\n",
    "plt.ylabel('Количество пользователей', fontsize=15)\n",
    "plt.show()"
   ]
  },
  {
   "cell_type": "markdown",
   "metadata": {},
   "source": [
    "Верхняя граница количества событий, выше которой значения признаются выбросами для этого сегмента пользователей сильно отличается от аналогичного показателя для общего датасета:  148 действий против 35-ти. Также, сильно отличаются среднее число действий: 77 против 17-ти; медианное число действий: 58 против 9-ти.\n",
    "\n"
   ]
  },
  {
   "cell_type": "markdown",
   "metadata": {},
   "source": [
    "# 3 Формулирование и проверка статистических гипотез\n",
    "\n",
    "Проверка гипотезы №1: пользователи, установившие приложение по ссылке из yandex имеют конверсию в просмотры контактов отличную от конверсии пользователей, установивших приложение по ссылке из google.  \n",
    "\n",
    "Проверка гипотезы №2: пользователи, установившие приложение по ссылке из yandex проводят в приложении больше времени, чем пользователи, установившие приложение по ссылке из google. "
   ]
  },
  {
   "cell_type": "markdown",
   "metadata": {},
   "source": [
    "Для проверки первой гипотезы необходимо выделить пользователей, установивших приложение по ссылке из yandex, и google; выделить из каждой группы доли просмотревших контакты; сравнить доли с помощью z-теста."
   ]
  },
  {
   "cell_type": "code",
   "execution_count": null,
   "metadata": {},
   "outputs": [],
   "source": [
    "# формирование группы пользователей - пользователи, установившие приложение по ссылке из yandex\n",
    "\n",
    "yandex_users = dataset.query('source == \"yandex\"')\n",
    "\n",
    "yandex_users.head(40)"
   ]
  },
  {
   "cell_type": "code",
   "execution_count": null,
   "metadata": {},
   "outputs": [],
   "source": [
    "# выделение пользователей, совершивших целевое действие\n",
    "\n",
    "contacts_yandex = yandex_users.query('event_name == \"show_contacts\"')\n",
    "\n",
    "# подсчёт количества пользователей, совершивших целевое действие\n",
    "\n",
    "successes_y = contacts_yandex.groupby('user_id').agg({'user_id': 'unique'}).count()\n",
    "print('Пользователей, совершивших целевое действие:', successes_y)\n",
    "print()\n",
    "\n",
    "# подсчёт общего количества пользователей, установивших приложение по ссылке из yandex\n",
    "\n",
    "trials_y = yandex_users.groupby('user_id').agg({'user_id': 'unique'}).count()\n",
    "print('Пользователей, установивших приложение по ссылке из yandex:', trials_y)\n"
   ]
  },
  {
   "cell_type": "code",
   "execution_count": null,
   "metadata": {},
   "outputs": [],
   "source": [
    "# формирование группы пользователей - пользователи, установившие приложение по ссылке из google\n",
    "\n",
    "google_users = dataset.query('source == \"google\"')\n",
    "\n",
    "google_users.head()"
   ]
  },
  {
   "cell_type": "code",
   "execution_count": null,
   "metadata": {},
   "outputs": [],
   "source": [
    "# выделение пользователей, совершивших целевое действие\n",
    "\n",
    "contacts_google = google_users.query('event_name == \"show_contacts\"')\n",
    "\n",
    "# подсчёт количества пользователей, совершивших целевое действие\n",
    "\n",
    "successes_g = contacts_google.groupby('user_id').agg({'user_id': 'unique'}).count()\n",
    "print('Пользователей, совершивших целевое действие:', successes_g)\n",
    "print()\n",
    "\n",
    "# подсчёт общего количества пользователей, установивших приложение по ссылке из yandex\n",
    "\n",
    "trials_g = google_users.groupby('user_id').agg({'user_id': 'unique'}).count()\n",
    "print('Пользователей, установивших приложение по ссылке из google:', trials_g)\n"
   ]
  },
  {
   "cell_type": "markdown",
   "metadata": {},
   "source": [
    "Перед непосредственно проверкой гипотезы необходимо сформулировать нулевую и альтернативную гипотезы. \n",
    "\n",
    "\n",
    "Нулевая гипотеза, Н0: \n",
    "Пользователи, установившие приложение по ссылке из yandex имеют конверсию в просмотры контактов такую же, что и конверсии пользователей, установивших приложение по ссылке из google.\n",
    "\n",
    "Альтернативная гипотеза, Н1: \n",
    "Пользователи, установившие приложение по ссылке из yandex имеют конверсию в просмотры контактов отличную от конверсии пользователей, установивших приложение по ссылке из google.\n"
   ]
  },
  {
   "cell_type": "code",
   "execution_count": null,
   "metadata": {},
   "outputs": [],
   "source": [
    "# проверка гипотезы z-тестом\n",
    "\n",
    "alpha = 0.05\n",
    "p_y = successes_y/trials_y\n",
    "p_g = successes_g/trials_g\n",
    "p_combined = (successes_y + successes_g) / (trials_y + trials_g)\n",
    "difference = p_y - p_g \n",
    "\n",
    "z_value = difference / mth.sqrt(p_combined * (1 - p_combined) * (1/trials_y + 1/trials_g))\n",
    "distr = st.norm(0, 1)  \n",
    "\n",
    "p_value = (1 - distr.cdf(abs(z_value))) * 2\n",
    "    \n",
    "print('p-значение: ', p_value)\n",
    "\n",
    "if p_value < alpha:\n",
    "    print('Отвергаем нулевую гипотезу')\n",
    "else:\n",
    "    print('Не получилось отвергнуть нулевую гипотезу')\n"
   ]
  },
  {
   "cell_type": "markdown",
   "metadata": {},
   "source": [
    "    Проверка гипотезы об отличиях конверсии в просмотры пользователей, установивших приложение по ссылке из yandex или из google дала результат, что отличий в конверсии нет."
   ]
  },
  {
   "cell_type": "markdown",
   "metadata": {},
   "source": [
    "_____________________________________________"
   ]
  },
  {
   "cell_type": "markdown",
   "metadata": {},
   "source": [
    "Для проверки второй гипотезы о разнице в длительности сессий необходимо вычислить длительность сессий, очистить датасеты от выбросов, ..."
   ]
  },
  {
   "cell_type": "code",
   "execution_count": null,
   "metadata": {},
   "outputs": [],
   "source": [
    "# разделение сессий с учётом максимального перерыва между действиями в сессии не более 30 минут\n",
    "\n",
    "g_yandex = (yandex_users.groupby('user_id')['event_time'].diff() > pd.Timedelta('30Min')).cumsum()\n",
    "\n",
    "yandex_users['session_id'] = yandex_users.groupby(['user_id', g_yandex], sort=False).ngroup() + 1\n",
    "\n",
    "# вывод большого числа строк для визуального контроля отделения сессий \n",
    "\n",
    "yandex_users.head(50)"
   ]
  },
  {
   "cell_type": "code",
   "execution_count": null,
   "metadata": {},
   "outputs": [],
   "source": [
    "# вычисление времени начала сессий\n",
    "\n",
    "s_yandex = yandex_users.groupby('session_id').agg({'event_time' : 'min'}).reset_index()\n",
    "s_yandex = s_yandex.rename(columns={'event_time': 'start_session'}) \n",
    "s_yandex.head(3)"
   ]
  },
  {
   "cell_type": "code",
   "execution_count": null,
   "metadata": {},
   "outputs": [],
   "source": [
    "# вычисление времени окончания сессий\n",
    "\n",
    "e_yandex = yandex_users.groupby('session_id').agg({'event_time' : 'max'}).reset_index()\n",
    "e_yandex = e_yandex.rename(columns={'event_time': 'end_session'}) \n",
    "e_yandex.head(3)"
   ]
  },
  {
   "cell_type": "code",
   "execution_count": null,
   "metadata": {},
   "outputs": [],
   "source": [
    "# объединение датафреймов, содержащих даты начала и окончания сессий\n",
    "\n",
    "yandex_sessions = s_yandex.merge(e_yandex, on = 'session_id')\n",
    "\n",
    "yandex_sessions.head(3)"
   ]
  },
  {
   "cell_type": "code",
   "execution_count": null,
   "metadata": {},
   "outputs": [],
   "source": [
    "# вычисление длительности сессий в секундах\n",
    "\n",
    "yandex_sessions['dur_sess'] = yandex_sessions['end_session'] - yandex_sessions['start_session']\n",
    "yandex_sessions['dur_sess'] = yandex_sessions['dur_sess'].dt.seconds\n",
    "\n",
    "yandex_sessions.head(3)"
   ]
  },
  {
   "cell_type": "code",
   "execution_count": null,
   "metadata": {},
   "outputs": [],
   "source": [
    "# разделение сессий с учётом максимального перерыва между действиями в сессии не более 30 минут\n",
    "\n",
    "g_google = (google_users.groupby('user_id')['event_time'].diff() > pd.Timedelta('30Min')).cumsum()\n",
    "\n",
    "google_users['session_id'] = google_users.groupby(['user_id', g_google], sort=False).ngroup() + 1\n",
    "\n",
    "# вывод большого числа строк для визуального контроля отделения сессий \n",
    "\n",
    "google_users.head(50)"
   ]
  },
  {
   "cell_type": "code",
   "execution_count": null,
   "metadata": {},
   "outputs": [],
   "source": [
    "# вычисление времени начала сессий\n",
    "\n",
    "s_google = google_users.groupby('session_id').agg({'event_time' : 'min'}).reset_index()\n",
    "s_google = s_google.rename(columns={'event_time': 'start_session'}) \n",
    "s_google.head(3)"
   ]
  },
  {
   "cell_type": "code",
   "execution_count": null,
   "metadata": {},
   "outputs": [],
   "source": [
    "# вычисление времени окончания сессий\n",
    "\n",
    "e_google = google_users.groupby('session_id').agg({'event_time' : 'max'}).reset_index()\n",
    "e_google = e_google.rename(columns={'event_time': 'end_session'}) \n",
    "e_google.head(3)"
   ]
  },
  {
   "cell_type": "code",
   "execution_count": null,
   "metadata": {},
   "outputs": [],
   "source": [
    "# объединение датафреймов, содержащих даты начала и окончания сессий\n",
    "\n",
    "google_sessions = s_google.merge(e_google, on = 'session_id')\n",
    "\n",
    "google_sessions.head(3)"
   ]
  },
  {
   "cell_type": "code",
   "execution_count": null,
   "metadata": {},
   "outputs": [],
   "source": [
    "# вычисление длительности сессий в секундах\n",
    "\n",
    "google_sessions['dur_sess'] = google_sessions['end_session'] - google_sessions['start_session']\n",
    "google_sessions['dur_sess'] = google_sessions['dur_sess'].dt.seconds\n",
    "\n",
    "google_sessions.head(3)"
   ]
  },
  {
   "cell_type": "code",
   "execution_count": null,
   "metadata": {},
   "outputs": [],
   "source": [
    "# просмотр агрегтированных данных о времени сессий пользователей, \n",
    "# установивших приложение по ссылке из yandex\n",
    "\n",
    "yandex_sessions['dur_sess'].describe()"
   ]
  },
  {
   "cell_type": "code",
   "execution_count": null,
   "metadata": {},
   "outputs": [],
   "source": [
    "# определение 95 и 99 перцентилей среди значений длительности сессий пользователей, \n",
    "# установивших приложение по ссылке из yandex\n",
    "\n",
    "print(np.percentile(yandex_sessions['dur_sess'], [95, 99])) "
   ]
  },
  {
   "cell_type": "code",
   "execution_count": null,
   "metadata": {},
   "outputs": [],
   "source": [
    "# просмотр агрегированных данных о длительности сессий пользователей, \n",
    "# установивших приложение по ссылке из google\n",
    "\n",
    "google_sessions['dur_sess'].describe()"
   ]
  },
  {
   "cell_type": "code",
   "execution_count": null,
   "metadata": {},
   "outputs": [],
   "source": [
    "# определение 95 и 99 перцентилей среди значений длительности сессий пользователей, \n",
    "# установивших приложение по ссылке из google\n",
    "\n",
    "print(np.percentile(google_sessions['dur_sess'], [95, 99])) "
   ]
  },
  {
   "cell_type": "markdown",
   "metadata": {},
   "source": [
    "По результатам вычисления 95 и 99 перцентилей среди значений длительности сессий пользователей, решаю отсечь сессии, длительность которых превышает значение 95 перцентиля для каждой группы пользователей.\n",
    "\n",
    "\n",
    "В дальнейшем исследовании не рассматриваю сессии пользователей, установивших приложение по ссылке из yandex, длительностью более 1035 секунд.\n",
    "\n",
    "\n",
    "Также, в дальнейшем исследовании не рассматриваю сессии пользователей, установивших приложение по ссылке из google, длительностью более 1305.85 секунд.\n"
   ]
  },
  {
   "cell_type": "code",
   "execution_count": null,
   "metadata": {},
   "outputs": [],
   "source": [
    "yandex_sessions_n = yandex_sessions.query('dur_sess <= 1035')\n",
    "yandex_sessions_n['dur_sess'].describe()"
   ]
  },
  {
   "cell_type": "code",
   "execution_count": null,
   "metadata": {},
   "outputs": [],
   "source": [
    "google_sessions_n = google_sessions.query('dur_sess <= 1305.85')\n",
    "google_sessions_n['dur_sess'].describe()"
   ]
  },
  {
   "cell_type": "markdown",
   "metadata": {},
   "source": [
    "Оба датасета очищены от выбросов. Далее нужно сформулировать нулевую и альтернативную гипотезы и проверить гипотезу как  гипотезу о равенстве среднего двух генеральных совокупностей по взятым из них выборкам.\n",
    "\n",
    "\n",
    "Нулевая гипотеза, Н0: \n",
    "Пользователи, установившие приложение по ссылке из yandex и пользователи, установившие приложение по ссылке из google проводят в приложении равное количество времени.\n",
    "\n",
    "Альтернативная гипотеза, Н1: \n",
    "Пользователи, установившие приложение по ссылке из yandex и пользователи, установившие приложение по ссылке из google проводят в приложении разное количество времени.\n"
   ]
  },
  {
   "cell_type": "code",
   "execution_count": null,
   "metadata": {},
   "outputs": [],
   "source": [
    "# проверка гипотезы о равенстве среднего двух генеральных совокупностей по взятым из них выборкам\n",
    "\n",
    "sample_1 = yandex_sessions_n['dur_sess']\n",
    "sample_2 = google_sessions_n['dur_sess']\n",
    "\n",
    "alpha = 0.05\n",
    "\n",
    "results = st.ttest_ind(sample_1, sample_2)\n",
    "\n",
    "print('p-значение:', results.pvalue)\n",
    "\n",
    "if results.pvalue < alpha:\n",
    "    print('Отвергаем нулевую гипотезу')\n",
    "else:\n",
    "    print('Не получилось отвергнуть нулевую гипотезу') "
   ]
  },
  {
   "cell_type": "markdown",
   "metadata": {},
   "source": [
    "Полученное значение p-value говорит о том, что пользователи, установившие приложение по ссылке из yandex и пользователи, установившие приложение по ссылке из google проводят в приложении разное количество времени. \n",
    "\n",
    "\n",
    "Учитывая ранее расчитанные агрегированные данные о времени сессий пользователей, можно сделать вывод о том, что именно пользователи установившие приложение по ссылке из google проводят в приложении больше времени, чем пользователи установившие приложение по ссылке из yandex."
   ]
  },
  {
   "cell_type": "markdown",
   "metadata": {},
   "source": [
    "# 4 Выводы\n",
    "Формулировка выводов по результатам выделения групп пользователей и проверки статистических гипотез. Возможные рекомендации по взаимодействию с выделенными пользовательскими группами. Ссылка на презентацию и дашборд."
   ]
  },
  {
   "cell_type": "markdown",
   "metadata": {},
   "source": [
    "Выделение группы пользователей по количеству совершённых ими действий в приложении оказалось результативным. Как показали расчёты, большое число и частота действий пользователей в приложении свидетельствуют о заинтересованности пользователей, вовлечённости и высокой конверсии их действий в целевое действие. \n",
    "\n",
    "\n",
    "Для увеличения и стабильного удержания пользователей в приложении, возможно, имеет смысл поощрать пользователей чаще заходить в приложение, совершать больше активностей, тем самым вовлекая пользователей. Такое вовлечение пользователей, вероятно может сподвигнуть пользователя совершить целевые действия.\n",
    "\n",
    "\n",
    "Расчёты показали, что времена между первым действием пользователя в приложении до любого действия из списка событий search_1 — search_7 для пользователей выделенных сегментов не различаются, и в основной массе составляют ноль секунд.\n",
    "\n",
    "\n",
    "Были проверены две гипотезы.\n",
    "Выяснено, что отличий в конверсии в целевое действие, у пользователей установивших приложение по ссылке из yandex или из google нет.\n",
    "Однако, при этом, выяснено, что пользователи, установившие приложение по ссылке из google проводят в приложении больше времени, чем пользователи, установившие приложение по ссылке из yandex. \n",
    "\n",
    "\n",
    "С учётом результатов исследования с разделением пользователей на группы по количеству их действий в приложении, можно предположить, что само время проведённое в приложении не играет решающей роли на конверсию в целевое действие, а более весомым фактором, вероятно, является количество действий в приложении. \n",
    "\n",
    "\n"
   ]
  }
 ],
 "metadata": {
  "ExecuteTimeLog": [
   {
    "duration": 2685,
    "start_time": "2022-05-07T09:49:54.175Z"
   },
   {
    "duration": 198,
    "start_time": "2022-05-07T09:49:56.864Z"
   },
   {
    "duration": 49,
    "start_time": "2022-05-07T09:49:57.065Z"
   },
   {
    "duration": 213,
    "start_time": "2022-05-07T09:49:57.119Z"
   },
   {
    "duration": 63,
    "start_time": "2022-05-07T09:49:57.335Z"
   },
   {
    "duration": 15,
    "start_time": "2022-05-07T09:49:57.401Z"
   },
   {
    "duration": 37,
    "start_time": "2022-05-07T09:49:57.418Z"
   },
   {
    "duration": 19,
    "start_time": "2022-05-07T09:49:57.481Z"
   },
   {
    "duration": 13,
    "start_time": "2022-05-07T09:49:57.502Z"
   },
   {
    "duration": 31,
    "start_time": "2022-05-07T09:49:57.519Z"
   },
   {
    "duration": 35,
    "start_time": "2022-05-07T09:49:57.552Z"
   },
   {
    "duration": 23,
    "start_time": "2022-05-07T09:49:57.589Z"
   },
   {
    "duration": 7,
    "start_time": "2022-05-07T09:49:57.615Z"
   },
   {
    "duration": 10,
    "start_time": "2022-05-07T09:49:57.625Z"
   },
   {
    "duration": 52,
    "start_time": "2022-05-07T09:49:57.638Z"
   },
   {
    "duration": 12,
    "start_time": "2022-05-07T09:49:57.694Z"
   },
   {
    "duration": 8,
    "start_time": "2022-05-07T09:49:57.708Z"
   },
   {
    "duration": 517,
    "start_time": "2022-05-07T09:49:57.719Z"
   },
   {
    "duration": 17,
    "start_time": "2022-05-07T09:49:58.238Z"
   },
   {
    "duration": 43,
    "start_time": "2022-05-07T09:49:58.258Z"
   },
   {
    "duration": 16,
    "start_time": "2022-05-07T09:49:58.303Z"
   },
   {
    "duration": 18,
    "start_time": "2022-05-07T09:49:58.321Z"
   },
   {
    "duration": 378,
    "start_time": "2022-05-07T09:49:58.341Z"
   },
   {
    "duration": 73,
    "start_time": "2022-05-07T09:49:58.721Z"
   },
   {
    "duration": 87,
    "start_time": "2022-05-07T09:49:58.796Z"
   },
   {
    "duration": 36,
    "start_time": "2022-05-07T09:49:58.886Z"
   },
   {
    "duration": 33,
    "start_time": "2022-05-07T09:49:58.925Z"
   },
   {
    "duration": 36,
    "start_time": "2022-05-07T09:49:58.986Z"
   },
   {
    "duration": 88,
    "start_time": "2022-05-07T09:49:59.024Z"
   },
   {
    "duration": 29,
    "start_time": "2022-05-07T09:49:59.115Z"
   },
   {
    "duration": 41,
    "start_time": "2022-05-07T09:49:59.146Z"
   },
   {
    "duration": 44,
    "start_time": "2022-05-07T09:49:59.189Z"
   },
   {
    "duration": 12,
    "start_time": "2022-05-07T09:49:59.235Z"
   },
   {
    "duration": 502,
    "start_time": "2022-05-07T09:49:59.249Z"
   },
   {
    "duration": 90,
    "start_time": "2022-05-07T09:49:59.753Z"
   },
   {
    "duration": 45,
    "start_time": "2022-05-07T09:49:59.846Z"
   },
   {
    "duration": 19,
    "start_time": "2022-05-07T09:49:59.893Z"
   },
   {
    "duration": 44,
    "start_time": "2022-05-07T09:49:59.914Z"
   },
   {
    "duration": 14,
    "start_time": "2022-05-07T09:49:59.983Z"
   },
   {
    "duration": 475,
    "start_time": "2022-05-07T09:49:59.999Z"
   },
   {
    "duration": 32,
    "start_time": "2022-05-07T09:50:00.477Z"
   },
   {
    "duration": 30,
    "start_time": "2022-05-07T09:50:00.511Z"
   },
   {
    "duration": 47,
    "start_time": "2022-05-07T09:50:00.544Z"
   },
   {
    "duration": 46,
    "start_time": "2022-05-07T09:50:00.593Z"
   },
   {
    "duration": 16,
    "start_time": "2022-05-07T09:50:00.641Z"
   },
   {
    "duration": 24,
    "start_time": "2022-05-07T09:50:00.659Z"
   },
   {
    "duration": 17,
    "start_time": "2022-05-07T09:50:00.685Z"
   },
   {
    "duration": 490,
    "start_time": "2022-05-07T09:50:00.705Z"
   },
   {
    "duration": 37,
    "start_time": "2022-05-07T09:50:01.197Z"
   },
   {
    "duration": 59,
    "start_time": "2022-05-07T09:50:01.236Z"
   },
   {
    "duration": 19,
    "start_time": "2022-05-07T09:50:01.297Z"
   },
   {
    "duration": 42,
    "start_time": "2022-05-07T09:50:01.319Z"
   },
   {
    "duration": 25,
    "start_time": "2022-05-07T09:50:01.363Z"
   },
   {
    "duration": 27,
    "start_time": "2022-05-07T09:50:01.390Z"
   },
   {
    "duration": 28,
    "start_time": "2022-05-07T09:50:01.419Z"
   },
   {
    "duration": 423,
    "start_time": "2022-05-07T09:50:01.450Z"
   },
   {
    "duration": 201,
    "start_time": "2022-05-07T09:50:01.875Z"
   },
   {
    "duration": 16,
    "start_time": "2022-05-07T09:50:02.082Z"
   },
   {
    "duration": 17,
    "start_time": "2022-05-07T09:50:02.101Z"
   },
   {
    "duration": 16,
    "start_time": "2022-05-07T09:50:02.120Z"
   },
   {
    "duration": 54,
    "start_time": "2022-05-07T09:50:02.138Z"
   },
   {
    "duration": 11,
    "start_time": "2022-05-07T09:50:02.194Z"
   },
   {
    "duration": 16,
    "start_time": "2022-05-07T09:50:02.207Z"
   },
   {
    "duration": 1302,
    "start_time": "2022-05-07T09:50:02.225Z"
   },
   {
    "duration": 17,
    "start_time": "2022-05-07T09:50:03.529Z"
   },
   {
    "duration": 44,
    "start_time": "2022-05-07T09:50:03.548Z"
   },
   {
    "duration": 19,
    "start_time": "2022-05-07T09:50:03.595Z"
   },
   {
    "duration": 16,
    "start_time": "2022-05-07T09:50:03.616Z"
   },
   {
    "duration": 12,
    "start_time": "2022-05-07T09:50:03.634Z"
   },
   {
    "duration": 18,
    "start_time": "2022-05-07T09:50:03.683Z"
   },
   {
    "duration": 7,
    "start_time": "2022-05-07T09:50:03.704Z"
   },
   {
    "duration": 6,
    "start_time": "2022-05-07T09:50:03.714Z"
   },
   {
    "duration": 67,
    "start_time": "2022-05-07T09:50:03.723Z"
   },
   {
    "duration": 27,
    "start_time": "2022-05-07T09:50:03.793Z"
   },
   {
    "duration": 25,
    "start_time": "2022-05-07T09:50:03.822Z"
   },
   {
    "duration": 63,
    "start_time": "2022-05-07T09:50:03.849Z"
   },
   {
    "duration": 18,
    "start_time": "2022-05-07T10:04:55.634Z"
   },
   {
    "duration": 10,
    "start_time": "2022-05-07T10:05:01.610Z"
   },
   {
    "duration": 353,
    "start_time": "2022-05-07T10:05:07.433Z"
   },
   {
    "duration": 339,
    "start_time": "2022-05-07T10:05:25.206Z"
   },
   {
    "duration": 446,
    "start_time": "2022-05-07T10:05:37.985Z"
   },
   {
    "duration": 357,
    "start_time": "2022-05-07T10:06:24.452Z"
   },
   {
    "duration": 10,
    "start_time": "2022-05-07T10:07:22.663Z"
   },
   {
    "duration": 181,
    "start_time": "2022-05-07T10:37:22.065Z"
   },
   {
    "duration": 25,
    "start_time": "2022-05-07T10:37:37.647Z"
   },
   {
    "duration": 24,
    "start_time": "2022-05-07T10:38:19.054Z"
   },
   {
    "duration": 36,
    "start_time": "2022-05-07T10:40:04.469Z"
   },
   {
    "duration": 89,
    "start_time": "2022-05-07T10:43:58.021Z"
   },
   {
    "duration": 41,
    "start_time": "2022-05-07T10:44:12.231Z"
   },
   {
    "duration": 18,
    "start_time": "2022-05-07T10:45:32.058Z"
   },
   {
    "duration": 34,
    "start_time": "2022-05-07T10:46:52.018Z"
   },
   {
    "duration": 18,
    "start_time": "2022-05-07T10:48:43.930Z"
   },
   {
    "duration": 9,
    "start_time": "2022-05-07T10:49:35.273Z"
   },
   {
    "duration": 21,
    "start_time": "2022-05-07T10:50:14.109Z"
   },
   {
    "duration": 458,
    "start_time": "2022-05-07T10:50:57.070Z"
   },
   {
    "duration": 32,
    "start_time": "2022-05-07T10:52:07.645Z"
   },
   {
    "duration": 19,
    "start_time": "2022-05-07T10:52:14.786Z"
   },
   {
    "duration": 42,
    "start_time": "2022-05-07T10:52:17.193Z"
   },
   {
    "duration": 17,
    "start_time": "2022-05-07T10:52:20.038Z"
   },
   {
    "duration": 9,
    "start_time": "2022-05-07T10:52:22.917Z"
   },
   {
    "duration": 13,
    "start_time": "2022-05-07T10:52:25.473Z"
   },
   {
    "duration": 447,
    "start_time": "2022-05-07T10:52:27.493Z"
   },
   {
    "duration": 48,
    "start_time": "2022-05-07T10:54:47.743Z"
   },
   {
    "duration": 12,
    "start_time": "2022-05-07T10:56:40.908Z"
   },
   {
    "duration": 38,
    "start_time": "2022-05-07T10:56:49.974Z"
   },
   {
    "duration": 12,
    "start_time": "2022-05-07T10:57:27.324Z"
   },
   {
    "duration": 13,
    "start_time": "2022-05-07T10:57:38.698Z"
   },
   {
    "duration": 31,
    "start_time": "2022-05-07T10:58:25.758Z"
   },
   {
    "duration": 30,
    "start_time": "2022-05-07T10:58:29.410Z"
   },
   {
    "duration": 18,
    "start_time": "2022-05-07T11:00:52.800Z"
   },
   {
    "duration": 28,
    "start_time": "2022-05-07T11:01:42.810Z"
   },
   {
    "duration": 18,
    "start_time": "2022-05-07T11:02:24.818Z"
   },
   {
    "duration": 11,
    "start_time": "2022-05-07T11:03:01.995Z"
   },
   {
    "duration": 13,
    "start_time": "2022-05-07T11:03:41.581Z"
   },
   {
    "duration": 564,
    "start_time": "2022-05-07T11:04:13.346Z"
   },
   {
    "duration": 29,
    "start_time": "2022-05-07T11:29:57.468Z"
   },
   {
    "duration": 38,
    "start_time": "2022-05-07T11:31:41.188Z"
   },
   {
    "duration": 24,
    "start_time": "2022-05-07T11:43:04.487Z"
   },
   {
    "duration": 22,
    "start_time": "2022-05-07T11:48:10.802Z"
   },
   {
    "duration": 1698,
    "start_time": "2022-05-07T14:11:14.044Z"
   },
   {
    "duration": 866,
    "start_time": "2022-05-07T14:11:15.745Z"
   },
   {
    "duration": 27,
    "start_time": "2022-05-07T14:11:16.613Z"
   },
   {
    "duration": 79,
    "start_time": "2022-05-07T14:11:16.642Z"
   },
   {
    "duration": 30,
    "start_time": "2022-05-07T14:11:16.722Z"
   },
   {
    "duration": 9,
    "start_time": "2022-05-07T14:11:16.754Z"
   },
   {
    "duration": 41,
    "start_time": "2022-05-07T14:11:16.765Z"
   },
   {
    "duration": 13,
    "start_time": "2022-05-07T14:11:16.807Z"
   },
   {
    "duration": 9,
    "start_time": "2022-05-07T14:11:16.822Z"
   },
   {
    "duration": 77,
    "start_time": "2022-05-07T14:11:16.835Z"
   },
   {
    "duration": 10,
    "start_time": "2022-05-07T14:11:16.914Z"
   },
   {
    "duration": 16,
    "start_time": "2022-05-07T14:11:16.925Z"
   },
   {
    "duration": 5,
    "start_time": "2022-05-07T14:11:16.943Z"
   },
   {
    "duration": 6,
    "start_time": "2022-05-07T14:11:16.950Z"
   },
   {
    "duration": 9,
    "start_time": "2022-05-07T14:11:16.957Z"
   },
   {
    "duration": 36,
    "start_time": "2022-05-07T14:11:16.968Z"
   },
   {
    "duration": 6,
    "start_time": "2022-05-07T14:11:17.006Z"
   },
   {
    "duration": 604,
    "start_time": "2022-05-07T14:11:17.014Z"
   },
   {
    "duration": 23,
    "start_time": "2022-05-07T14:11:17.620Z"
   },
   {
    "duration": 23,
    "start_time": "2022-05-07T14:11:17.645Z"
   },
   {
    "duration": 35,
    "start_time": "2022-05-07T14:11:17.669Z"
   },
   {
    "duration": 12,
    "start_time": "2022-05-07T14:11:17.706Z"
   },
   {
    "duration": 215,
    "start_time": "2022-05-07T14:11:17.719Z"
   },
   {
    "duration": 36,
    "start_time": "2022-05-07T14:11:17.936Z"
   },
   {
    "duration": 62,
    "start_time": "2022-05-07T14:11:17.974Z"
   },
   {
    "duration": 21,
    "start_time": "2022-05-07T14:11:18.038Z"
   },
   {
    "duration": 20,
    "start_time": "2022-05-07T14:11:18.061Z"
   },
   {
    "duration": 42,
    "start_time": "2022-05-07T14:11:18.086Z"
   },
   {
    "duration": 50,
    "start_time": "2022-05-07T14:11:18.130Z"
   },
   {
    "duration": 40,
    "start_time": "2022-05-07T14:11:18.182Z"
   },
   {
    "duration": 15,
    "start_time": "2022-05-07T14:11:18.225Z"
   },
   {
    "duration": 37,
    "start_time": "2022-05-07T14:11:18.242Z"
   },
   {
    "duration": 27,
    "start_time": "2022-05-07T14:11:18.281Z"
   },
   {
    "duration": 429,
    "start_time": "2022-05-07T14:11:18.309Z"
   },
   {
    "duration": 72,
    "start_time": "2022-05-07T14:11:18.740Z"
   },
   {
    "duration": 26,
    "start_time": "2022-05-07T14:11:18.814Z"
   },
   {
    "duration": 15,
    "start_time": "2022-05-07T14:11:18.842Z"
   },
   {
    "duration": 63,
    "start_time": "2022-05-07T14:11:18.859Z"
   },
   {
    "duration": 11,
    "start_time": "2022-05-07T14:11:18.924Z"
   },
   {
    "duration": 385,
    "start_time": "2022-05-07T14:11:18.936Z"
   },
   {
    "duration": 29,
    "start_time": "2022-05-07T14:11:19.323Z"
   },
   {
    "duration": 22,
    "start_time": "2022-05-07T14:11:19.354Z"
   },
   {
    "duration": 35,
    "start_time": "2022-05-07T14:11:19.378Z"
   },
   {
    "duration": 24,
    "start_time": "2022-05-07T14:11:19.415Z"
   },
   {
    "duration": 13,
    "start_time": "2022-05-07T14:11:19.440Z"
   },
   {
    "duration": 8,
    "start_time": "2022-05-07T14:11:19.455Z"
   },
   {
    "duration": 36,
    "start_time": "2022-05-07T14:11:19.465Z"
   },
   {
    "duration": 306,
    "start_time": "2022-05-07T14:11:19.503Z"
   },
   {
    "duration": 30,
    "start_time": "2022-05-07T14:11:19.810Z"
   },
   {
    "duration": 23,
    "start_time": "2022-05-07T14:11:19.842Z"
   },
   {
    "duration": 34,
    "start_time": "2022-05-07T14:11:19.867Z"
   },
   {
    "duration": 16,
    "start_time": "2022-05-07T14:11:19.903Z"
   },
   {
    "duration": 8,
    "start_time": "2022-05-07T14:11:19.921Z"
   },
   {
    "duration": 10,
    "start_time": "2022-05-07T14:11:19.930Z"
   },
   {
    "duration": 7,
    "start_time": "2022-05-07T14:11:19.942Z"
   },
   {
    "duration": 350,
    "start_time": "2022-05-07T14:11:19.950Z"
   },
   {
    "duration": 166,
    "start_time": "2022-05-07T14:11:20.302Z"
   },
   {
    "duration": 9,
    "start_time": "2022-05-07T14:11:20.470Z"
   },
   {
    "duration": 31,
    "start_time": "2022-05-07T14:11:20.481Z"
   },
   {
    "duration": 12,
    "start_time": "2022-05-07T14:11:20.513Z"
   },
   {
    "duration": 12,
    "start_time": "2022-05-07T14:11:20.527Z"
   },
   {
    "duration": 13,
    "start_time": "2022-05-07T14:11:20.541Z"
   },
   {
    "duration": 25,
    "start_time": "2022-05-07T14:11:20.556Z"
   },
   {
    "duration": 587,
    "start_time": "2022-05-07T14:11:20.583Z"
   },
   {
    "duration": 11,
    "start_time": "2022-05-07T14:11:21.172Z"
   },
   {
    "duration": 20,
    "start_time": "2022-05-07T14:11:21.184Z"
   },
   {
    "duration": 21,
    "start_time": "2022-05-07T14:11:21.206Z"
   },
   {
    "duration": 11,
    "start_time": "2022-05-07T14:11:21.228Z"
   },
   {
    "duration": 13,
    "start_time": "2022-05-07T14:11:21.242Z"
   },
   {
    "duration": 14,
    "start_time": "2022-05-07T14:11:21.256Z"
   },
   {
    "duration": 5,
    "start_time": "2022-05-07T14:11:21.272Z"
   },
   {
    "duration": 23,
    "start_time": "2022-05-07T14:11:21.278Z"
   },
   {
    "duration": 24,
    "start_time": "2022-05-07T14:11:21.302Z"
   },
   {
    "duration": 24,
    "start_time": "2022-05-07T14:11:21.327Z"
   },
   {
    "duration": 15,
    "start_time": "2022-05-07T14:11:21.352Z"
   },
   {
    "duration": 33,
    "start_time": "2022-05-07T14:11:21.369Z"
   },
   {
    "duration": 18,
    "start_time": "2022-05-07T14:11:21.404Z"
   },
   {
    "duration": 22,
    "start_time": "2022-05-07T14:11:21.424Z"
   },
   {
    "duration": 21,
    "start_time": "2022-05-07T14:11:21.448Z"
   },
   {
    "duration": 291,
    "start_time": "2022-05-07T14:11:21.471Z"
   },
   {
    "duration": 16,
    "start_time": "2022-05-07T14:11:21.764Z"
   },
   {
    "duration": 14,
    "start_time": "2022-05-07T14:11:21.800Z"
   },
   {
    "duration": 39,
    "start_time": "2022-05-07T14:11:21.816Z"
   },
   {
    "duration": 44,
    "start_time": "2022-05-07T14:11:21.857Z"
   },
   {
    "duration": 19,
    "start_time": "2022-05-07T14:11:21.903Z"
   },
   {
    "duration": 87,
    "start_time": "2022-05-07T14:11:21.924Z"
   },
   {
    "duration": 25,
    "start_time": "2022-05-07T14:11:22.013Z"
   },
   {
    "duration": 9,
    "start_time": "2022-05-07T14:11:22.040Z"
   },
   {
    "duration": 8,
    "start_time": "2022-05-07T14:11:22.051Z"
   },
   {
    "duration": 11,
    "start_time": "2022-05-07T14:11:22.060Z"
   },
   {
    "duration": 328,
    "start_time": "2022-05-07T14:11:22.073Z"
   },
   {
    "duration": 29,
    "start_time": "2022-05-07T14:11:22.402Z"
   },
   {
    "duration": 18,
    "start_time": "2022-05-07T14:11:22.432Z"
   },
   {
    "duration": 16,
    "start_time": "2022-05-07T14:11:22.452Z"
   },
   {
    "duration": 35,
    "start_time": "2022-05-07T14:11:22.470Z"
   },
   {
    "duration": 20,
    "start_time": "2022-05-07T14:11:22.506Z"
   },
   {
    "duration": 9,
    "start_time": "2022-05-07T14:11:22.527Z"
   },
   {
    "duration": 9,
    "start_time": "2022-05-07T14:11:22.538Z"
   },
   {
    "duration": 13,
    "start_time": "2022-05-07T14:11:22.549Z"
   },
   {
    "duration": 408,
    "start_time": "2022-05-07T14:11:22.564Z"
   },
   {
    "duration": 31,
    "start_time": "2022-05-07T14:11:22.974Z"
   },
   {
    "duration": 18,
    "start_time": "2022-05-07T14:11:23.007Z"
   },
   {
    "duration": 99,
    "start_time": "2022-05-07T14:11:23.027Z"
   },
   {
    "duration": 5,
    "start_time": "2022-05-07T15:17:49.306Z"
   },
   {
    "duration": 6,
    "start_time": "2022-05-07T15:20:21.974Z"
   },
   {
    "duration": 10,
    "start_time": "2022-05-07T15:20:49.995Z"
   },
   {
    "duration": 13,
    "start_time": "2022-05-07T15:21:13.115Z"
   },
   {
    "duration": 6,
    "start_time": "2022-05-07T15:22:12.048Z"
   },
   {
    "duration": 185,
    "start_time": "2022-05-07T15:25:27.766Z"
   },
   {
    "duration": 159,
    "start_time": "2022-05-07T15:25:35.632Z"
   },
   {
    "duration": 19,
    "start_time": "2022-05-07T15:25:57.388Z"
   },
   {
    "duration": 14,
    "start_time": "2022-05-07T15:27:07.958Z"
   },
   {
    "duration": 9,
    "start_time": "2022-05-07T15:30:48.724Z"
   },
   {
    "duration": 9,
    "start_time": "2022-05-07T15:31:02.259Z"
   },
   {
    "duration": 106,
    "start_time": "2022-05-07T15:31:58.880Z"
   },
   {
    "duration": 9,
    "start_time": "2022-05-07T15:33:42.017Z"
   },
   {
    "duration": 1560,
    "start_time": "2022-05-07T15:33:51.899Z"
   },
   {
    "duration": 105,
    "start_time": "2022-05-07T15:34:15.049Z"
   },
   {
    "duration": 34,
    "start_time": "2022-05-07T15:34:25.109Z"
   },
   {
    "duration": 129,
    "start_time": "2022-05-07T15:38:30.130Z"
   },
   {
    "duration": 131,
    "start_time": "2022-05-07T15:39:01.178Z"
   },
   {
    "duration": 17,
    "start_time": "2022-05-07T15:39:44.191Z"
   },
   {
    "duration": 121,
    "start_time": "2022-05-07T15:40:56.527Z"
   },
   {
    "duration": 83,
    "start_time": "2022-05-07T15:41:15.555Z"
   },
   {
    "duration": 5,
    "start_time": "2022-05-07T15:42:26.358Z"
   },
   {
    "duration": 86,
    "start_time": "2022-05-07T15:43:17.425Z"
   },
   {
    "duration": 2,
    "start_time": "2022-05-07T15:47:04.888Z"
   },
   {
    "duration": 10,
    "start_time": "2022-05-07T15:47:06.914Z"
   },
   {
    "duration": 130,
    "start_time": "2022-05-07T15:47:39.857Z"
   },
   {
    "duration": 84,
    "start_time": "2022-05-07T15:47:45.078Z"
   },
   {
    "duration": 9,
    "start_time": "2022-05-07T15:47:48.551Z"
   },
   {
    "duration": 9,
    "start_time": "2022-05-07T16:36:23.534Z"
   },
   {
    "duration": 8,
    "start_time": "2022-05-07T16:38:24.680Z"
   },
   {
    "duration": 383,
    "start_time": "2022-05-07T17:08:35.247Z"
   },
   {
    "duration": 11,
    "start_time": "2022-05-07T17:11:55.282Z"
   },
   {
    "duration": 11,
    "start_time": "2022-05-07T17:11:59.132Z"
   },
   {
    "duration": 11,
    "start_time": "2022-05-07T17:12:01.986Z"
   },
   {
    "duration": 10,
    "start_time": "2022-05-07T17:12:09.553Z"
   },
   {
    "duration": 10,
    "start_time": "2022-05-07T17:12:55.949Z"
   },
   {
    "duration": 9,
    "start_time": "2022-05-07T17:13:48.563Z"
   },
   {
    "duration": 14,
    "start_time": "2022-05-07T17:13:52.079Z"
   },
   {
    "duration": 458,
    "start_time": "2022-05-07T17:17:14.806Z"
   },
   {
    "duration": 16,
    "start_time": "2022-05-07T17:19:09.969Z"
   },
   {
    "duration": 352,
    "start_time": "2022-05-07T17:20:16.924Z"
   },
   {
    "duration": 361,
    "start_time": "2022-05-07T17:20:41.577Z"
   },
   {
    "duration": 12,
    "start_time": "2022-05-07T17:21:25.547Z"
   },
   {
    "duration": 7,
    "start_time": "2022-05-07T17:21:38.684Z"
   },
   {
    "duration": 12,
    "start_time": "2022-05-07T17:26:47.974Z"
   },
   {
    "duration": 10,
    "start_time": "2022-05-07T17:26:51.589Z"
   },
   {
    "duration": 7,
    "start_time": "2022-05-07T17:26:55.213Z"
   },
   {
    "duration": 185,
    "start_time": "2022-05-07T17:28:00.942Z"
   },
   {
    "duration": 10,
    "start_time": "2022-05-07T17:28:25.537Z"
   },
   {
    "duration": 10,
    "start_time": "2022-05-07T17:28:28.233Z"
   },
   {
    "duration": 11,
    "start_time": "2022-05-07T17:28:30.467Z"
   },
   {
    "duration": 10,
    "start_time": "2022-05-07T17:28:44.192Z"
   },
   {
    "duration": 7,
    "start_time": "2022-05-07T17:28:51.982Z"
   },
   {
    "duration": 12,
    "start_time": "2022-05-07T17:30:59.912Z"
   },
   {
    "duration": 15,
    "start_time": "2022-05-07T17:31:31.521Z"
   },
   {
    "duration": 901,
    "start_time": "2022-05-07T17:31:56.528Z"
   },
   {
    "duration": 311,
    "start_time": "2022-05-07T17:35:26.465Z"
   },
   {
    "duration": 396,
    "start_time": "2022-05-07T17:36:33.864Z"
   },
   {
    "duration": 195,
    "start_time": "2022-05-07T17:37:23.035Z"
   },
   {
    "duration": 4,
    "start_time": "2022-05-07T17:38:19.856Z"
   },
   {
    "duration": 4,
    "start_time": "2022-05-07T17:38:45.182Z"
   },
   {
    "duration": 197,
    "start_time": "2022-05-07T17:45:57.379Z"
   },
   {
    "duration": 4,
    "start_time": "2022-05-07T17:46:23.478Z"
   },
   {
    "duration": 229,
    "start_time": "2022-05-07T17:47:01.959Z"
   },
   {
    "duration": 4,
    "start_time": "2022-05-07T17:47:14.831Z"
   },
   {
    "duration": 8,
    "start_time": "2022-05-07T17:51:32.174Z"
   },
   {
    "duration": 4,
    "start_time": "2022-05-07T17:51:55.211Z"
   },
   {
    "duration": 13,
    "start_time": "2022-05-07T17:57:42.989Z"
   },
   {
    "duration": 17,
    "start_time": "2022-05-07T17:57:58.290Z"
   },
   {
    "duration": 2524,
    "start_time": "2022-05-07T17:58:24.922Z"
   },
   {
    "duration": 11,
    "start_time": "2022-05-07T17:58:33.272Z"
   },
   {
    "duration": 10,
    "start_time": "2022-05-07T17:59:19.361Z"
   },
   {
    "duration": 6,
    "start_time": "2022-05-07T18:02:20.927Z"
   },
   {
    "duration": 1195,
    "start_time": "2022-05-07T18:31:27.179Z"
   },
   {
    "duration": 106,
    "start_time": "2022-05-07T18:31:28.376Z"
   },
   {
    "duration": 18,
    "start_time": "2022-05-07T18:31:28.483Z"
   },
   {
    "duration": 64,
    "start_time": "2022-05-07T18:31:28.503Z"
   },
   {
    "duration": 40,
    "start_time": "2022-05-07T18:31:28.568Z"
   },
   {
    "duration": 9,
    "start_time": "2022-05-07T18:31:28.610Z"
   },
   {
    "duration": 26,
    "start_time": "2022-05-07T18:31:28.620Z"
   },
   {
    "duration": 13,
    "start_time": "2022-05-07T18:31:28.647Z"
   },
   {
    "duration": 9,
    "start_time": "2022-05-07T18:31:28.661Z"
   },
   {
    "duration": 35,
    "start_time": "2022-05-07T18:31:28.674Z"
   },
   {
    "duration": 7,
    "start_time": "2022-05-07T18:31:28.711Z"
   },
   {
    "duration": 16,
    "start_time": "2022-05-07T18:31:28.720Z"
   },
   {
    "duration": 5,
    "start_time": "2022-05-07T18:31:28.737Z"
   },
   {
    "duration": 4,
    "start_time": "2022-05-07T18:31:28.744Z"
   },
   {
    "duration": 8,
    "start_time": "2022-05-07T18:31:28.750Z"
   },
   {
    "duration": 40,
    "start_time": "2022-05-07T18:31:28.760Z"
   },
   {
    "duration": 4,
    "start_time": "2022-05-07T18:31:28.802Z"
   },
   {
    "duration": 265,
    "start_time": "2022-05-07T18:31:28.808Z"
   },
   {
    "duration": 25,
    "start_time": "2022-05-07T18:31:29.075Z"
   },
   {
    "duration": 18,
    "start_time": "2022-05-07T18:31:29.102Z"
   },
   {
    "duration": 10,
    "start_time": "2022-05-07T18:31:29.122Z"
   },
   {
    "duration": 10,
    "start_time": "2022-05-07T18:31:29.133Z"
   },
   {
    "duration": 189,
    "start_time": "2022-05-07T18:31:29.145Z"
   },
   {
    "duration": 34,
    "start_time": "2022-05-07T18:31:29.336Z"
   },
   {
    "duration": 61,
    "start_time": "2022-05-07T18:31:29.372Z"
   },
   {
    "duration": 20,
    "start_time": "2022-05-07T18:31:29.434Z"
   },
   {
    "duration": 20,
    "start_time": "2022-05-07T18:31:29.456Z"
   },
   {
    "duration": 37,
    "start_time": "2022-05-07T18:31:29.480Z"
   },
   {
    "duration": 34,
    "start_time": "2022-05-07T18:31:29.519Z"
   },
   {
    "duration": 16,
    "start_time": "2022-05-07T18:31:29.554Z"
   },
   {
    "duration": 30,
    "start_time": "2022-05-07T18:31:29.571Z"
   },
   {
    "duration": 24,
    "start_time": "2022-05-07T18:31:29.603Z"
   },
   {
    "duration": 8,
    "start_time": "2022-05-07T18:31:29.629Z"
   },
   {
    "duration": 239,
    "start_time": "2022-05-07T18:31:29.638Z"
   },
   {
    "duration": 61,
    "start_time": "2022-05-07T18:31:29.879Z"
   },
   {
    "duration": 18,
    "start_time": "2022-05-07T18:31:29.941Z"
   },
   {
    "duration": 10,
    "start_time": "2022-05-07T18:31:29.961Z"
   },
   {
    "duration": 49,
    "start_time": "2022-05-07T18:31:29.972Z"
   },
   {
    "duration": 7,
    "start_time": "2022-05-07T18:31:30.023Z"
   },
   {
    "duration": 268,
    "start_time": "2022-05-07T18:31:30.032Z"
   },
   {
    "duration": 22,
    "start_time": "2022-05-07T18:31:30.302Z"
   },
   {
    "duration": 18,
    "start_time": "2022-05-07T18:31:30.326Z"
   },
   {
    "duration": 12,
    "start_time": "2022-05-07T18:31:30.346Z"
   },
   {
    "duration": 46,
    "start_time": "2022-05-07T18:31:30.360Z"
   },
   {
    "duration": 8,
    "start_time": "2022-05-07T18:31:30.409Z"
   },
   {
    "duration": 12,
    "start_time": "2022-05-07T18:31:30.419Z"
   },
   {
    "duration": 23,
    "start_time": "2022-05-07T18:31:30.433Z"
   },
   {
    "duration": 325,
    "start_time": "2022-05-07T18:31:30.458Z"
   },
   {
    "duration": 27,
    "start_time": "2022-05-07T18:31:30.785Z"
   },
   {
    "duration": 34,
    "start_time": "2022-05-07T18:31:30.814Z"
   },
   {
    "duration": 12,
    "start_time": "2022-05-07T18:31:30.849Z"
   },
   {
    "duration": 24,
    "start_time": "2022-05-07T18:31:30.863Z"
   },
   {
    "duration": 17,
    "start_time": "2022-05-07T18:31:30.889Z"
   },
   {
    "duration": 8,
    "start_time": "2022-05-07T18:31:30.908Z"
   },
   {
    "duration": 21,
    "start_time": "2022-05-07T18:31:30.918Z"
   },
   {
    "duration": 303,
    "start_time": "2022-05-07T18:31:30.941Z"
   },
   {
    "duration": 97,
    "start_time": "2022-05-07T18:31:31.246Z"
   },
   {
    "duration": 9,
    "start_time": "2022-05-07T18:31:31.345Z"
   },
   {
    "duration": 9,
    "start_time": "2022-05-07T18:31:31.356Z"
   },
   {
    "duration": 8,
    "start_time": "2022-05-07T18:31:31.367Z"
   },
   {
    "duration": 31,
    "start_time": "2022-05-07T18:31:31.377Z"
   },
   {
    "duration": 8,
    "start_time": "2022-05-07T18:31:31.409Z"
   },
   {
    "duration": 16,
    "start_time": "2022-05-07T18:31:31.419Z"
   },
   {
    "duration": 608,
    "start_time": "2022-05-07T18:31:31.437Z"
   },
   {
    "duration": 11,
    "start_time": "2022-05-07T18:31:32.047Z"
   },
   {
    "duration": 12,
    "start_time": "2022-05-07T18:31:32.059Z"
   },
   {
    "duration": 32,
    "start_time": "2022-05-07T18:31:32.073Z"
   },
   {
    "duration": 10,
    "start_time": "2022-05-07T18:31:32.107Z"
   },
   {
    "duration": 8,
    "start_time": "2022-05-07T18:31:32.118Z"
   },
   {
    "duration": 10,
    "start_time": "2022-05-07T18:31:32.127Z"
   },
   {
    "duration": 4,
    "start_time": "2022-05-07T18:31:32.139Z"
   },
   {
    "duration": 5,
    "start_time": "2022-05-07T18:31:32.145Z"
   },
   {
    "duration": 54,
    "start_time": "2022-05-07T18:31:32.152Z"
   },
   {
    "duration": 19,
    "start_time": "2022-05-07T18:31:32.208Z"
   },
   {
    "duration": 16,
    "start_time": "2022-05-07T18:31:32.229Z"
   },
   {
    "duration": 21,
    "start_time": "2022-05-07T18:31:32.247Z"
   },
   {
    "duration": 41,
    "start_time": "2022-05-07T18:31:32.269Z"
   },
   {
    "duration": 10,
    "start_time": "2022-05-07T18:31:32.312Z"
   },
   {
    "duration": 12,
    "start_time": "2022-05-07T18:31:32.323Z"
   },
   {
    "duration": 193,
    "start_time": "2022-05-07T18:31:32.336Z"
   },
   {
    "duration": 16,
    "start_time": "2022-05-07T18:31:32.530Z"
   },
   {
    "duration": 146,
    "start_time": "2022-05-07T18:31:32.550Z"
   },
   {
    "duration": 12,
    "start_time": "2022-05-07T18:31:32.699Z"
   },
   {
    "duration": 95,
    "start_time": "2022-05-07T18:31:32.712Z"
   },
   {
    "duration": 9,
    "start_time": "2022-05-07T18:31:32.808Z"
   },
   {
    "duration": 374,
    "start_time": "2022-05-07T18:31:32.818Z"
   },
   {
    "duration": 15,
    "start_time": "2022-05-07T18:31:33.194Z"
   },
   {
    "duration": 10,
    "start_time": "2022-05-07T18:31:33.211Z"
   },
   {
    "duration": 10,
    "start_time": "2022-05-07T18:31:33.223Z"
   },
   {
    "duration": 18,
    "start_time": "2022-05-07T18:31:33.234Z"
   },
   {
    "duration": 204,
    "start_time": "2022-05-07T18:31:33.253Z"
   },
   {
    "duration": 10,
    "start_time": "2022-05-07T18:31:33.458Z"
   },
   {
    "duration": 9,
    "start_time": "2022-05-07T18:31:33.469Z"
   },
   {
    "duration": 26,
    "start_time": "2022-05-07T18:31:33.480Z"
   },
   {
    "duration": 9,
    "start_time": "2022-05-07T18:31:33.508Z"
   },
   {
    "duration": 7,
    "start_time": "2022-05-07T18:31:33.519Z"
   },
   {
    "duration": 6,
    "start_time": "2022-05-07T18:31:33.527Z"
   },
   {
    "duration": 7,
    "start_time": "2022-05-07T18:31:33.534Z"
   },
   {
    "duration": 3,
    "start_time": "2022-05-07T18:31:33.543Z"
   },
   {
    "duration": 10,
    "start_time": "2022-05-07T18:31:33.547Z"
   },
   {
    "duration": 8,
    "start_time": "2022-05-07T18:31:33.558Z"
   },
   {
    "duration": 5,
    "start_time": "2022-05-07T18:31:33.600Z"
   },
   {
    "duration": 1306,
    "start_time": "2022-05-08T11:07:38.092Z"
   },
   {
    "duration": 103,
    "start_time": "2022-05-08T11:07:39.400Z"
   },
   {
    "duration": 22,
    "start_time": "2022-05-08T11:07:39.505Z"
   },
   {
    "duration": 81,
    "start_time": "2022-05-08T11:07:39.529Z"
   },
   {
    "duration": 35,
    "start_time": "2022-05-08T11:07:39.623Z"
   },
   {
    "duration": 12,
    "start_time": "2022-05-08T11:07:39.659Z"
   },
   {
    "duration": 49,
    "start_time": "2022-05-08T11:07:39.673Z"
   },
   {
    "duration": 16,
    "start_time": "2022-05-08T11:07:39.724Z"
   },
   {
    "duration": 10,
    "start_time": "2022-05-08T11:07:39.742Z"
   },
   {
    "duration": 24,
    "start_time": "2022-05-08T11:07:39.755Z"
   },
   {
    "duration": 11,
    "start_time": "2022-05-08T11:07:39.780Z"
   },
   {
    "duration": 40,
    "start_time": "2022-05-08T11:07:39.792Z"
   },
   {
    "duration": 6,
    "start_time": "2022-05-08T11:07:39.834Z"
   },
   {
    "duration": 7,
    "start_time": "2022-05-08T11:07:39.842Z"
   },
   {
    "duration": 8,
    "start_time": "2022-05-08T11:07:39.851Z"
   },
   {
    "duration": 5,
    "start_time": "2022-05-08T11:07:39.861Z"
   },
   {
    "duration": 4,
    "start_time": "2022-05-08T11:07:39.868Z"
   },
   {
    "duration": 348,
    "start_time": "2022-05-08T11:07:39.874Z"
   },
   {
    "duration": 14,
    "start_time": "2022-05-08T11:07:40.224Z"
   },
   {
    "duration": 27,
    "start_time": "2022-05-08T11:07:40.240Z"
   },
   {
    "duration": 13,
    "start_time": "2022-05-08T11:07:40.268Z"
   },
   {
    "duration": 43,
    "start_time": "2022-05-08T11:07:40.283Z"
   },
   {
    "duration": 226,
    "start_time": "2022-05-08T11:07:40.328Z"
   },
   {
    "duration": 41,
    "start_time": "2022-05-08T11:07:40.555Z"
   },
   {
    "duration": 73,
    "start_time": "2022-05-08T11:07:40.598Z"
   },
   {
    "duration": 26,
    "start_time": "2022-05-08T11:07:40.672Z"
   },
   {
    "duration": 44,
    "start_time": "2022-05-08T11:07:40.699Z"
   },
   {
    "duration": 24,
    "start_time": "2022-05-08T11:07:40.747Z"
   },
   {
    "duration": 70,
    "start_time": "2022-05-08T11:07:40.773Z"
   },
   {
    "duration": 19,
    "start_time": "2022-05-08T11:07:40.845Z"
   },
   {
    "duration": 13,
    "start_time": "2022-05-08T11:07:40.866Z"
   },
   {
    "duration": 58,
    "start_time": "2022-05-08T11:07:40.880Z"
   },
   {
    "duration": 9,
    "start_time": "2022-05-08T11:07:40.940Z"
   },
   {
    "duration": 325,
    "start_time": "2022-05-08T11:07:40.951Z"
   },
   {
    "duration": 78,
    "start_time": "2022-05-08T11:07:41.278Z"
   },
   {
    "duration": 29,
    "start_time": "2022-05-08T11:07:41.358Z"
   },
   {
    "duration": 15,
    "start_time": "2022-05-08T11:07:41.389Z"
   },
   {
    "duration": 39,
    "start_time": "2022-05-08T11:07:41.423Z"
   },
   {
    "duration": 11,
    "start_time": "2022-05-08T11:07:41.464Z"
   },
   {
    "duration": 337,
    "start_time": "2022-05-08T11:07:41.476Z"
   },
   {
    "duration": 28,
    "start_time": "2022-05-08T11:07:41.814Z"
   },
   {
    "duration": 19,
    "start_time": "2022-05-08T11:07:41.844Z"
   },
   {
    "duration": 14,
    "start_time": "2022-05-08T11:07:41.865Z"
   },
   {
    "duration": 48,
    "start_time": "2022-05-08T11:07:41.880Z"
   },
   {
    "duration": 12,
    "start_time": "2022-05-08T11:07:41.930Z"
   },
   {
    "duration": 7,
    "start_time": "2022-05-08T11:07:41.944Z"
   },
   {
    "duration": 10,
    "start_time": "2022-05-08T11:07:41.953Z"
   },
   {
    "duration": 360,
    "start_time": "2022-05-08T11:07:41.965Z"
   },
   {
    "duration": 25,
    "start_time": "2022-05-08T11:07:42.327Z"
   },
   {
    "duration": 21,
    "start_time": "2022-05-08T11:07:42.354Z"
   },
   {
    "duration": 13,
    "start_time": "2022-05-08T11:07:42.376Z"
   },
   {
    "duration": 44,
    "start_time": "2022-05-08T11:07:42.391Z"
   },
   {
    "duration": 11,
    "start_time": "2022-05-08T11:07:42.437Z"
   },
   {
    "duration": 11,
    "start_time": "2022-05-08T11:07:42.449Z"
   },
   {
    "duration": 13,
    "start_time": "2022-05-08T11:07:42.462Z"
   },
   {
    "duration": 430,
    "start_time": "2022-05-08T11:07:42.477Z"
   },
   {
    "duration": 164,
    "start_time": "2022-05-08T11:07:42.910Z"
   },
   {
    "duration": 15,
    "start_time": "2022-05-08T11:07:43.076Z"
   },
   {
    "duration": 31,
    "start_time": "2022-05-08T11:07:43.093Z"
   },
   {
    "duration": 14,
    "start_time": "2022-05-08T11:07:43.126Z"
   },
   {
    "duration": 12,
    "start_time": "2022-05-08T11:07:43.142Z"
   },
   {
    "duration": 10,
    "start_time": "2022-05-08T11:07:43.156Z"
   },
   {
    "duration": 12,
    "start_time": "2022-05-08T11:07:43.168Z"
   },
   {
    "duration": 728,
    "start_time": "2022-05-08T11:07:43.182Z"
   },
   {
    "duration": 20,
    "start_time": "2022-05-08T11:07:43.912Z"
   },
   {
    "duration": 13,
    "start_time": "2022-05-08T11:07:43.934Z"
   },
   {
    "duration": 12,
    "start_time": "2022-05-08T11:07:43.949Z"
   },
   {
    "duration": 10,
    "start_time": "2022-05-08T11:07:43.963Z"
   },
   {
    "duration": 7,
    "start_time": "2022-05-08T11:07:43.975Z"
   },
   {
    "duration": 49,
    "start_time": "2022-05-08T11:07:43.984Z"
   },
   {
    "duration": 5,
    "start_time": "2022-05-08T11:07:44.035Z"
   },
   {
    "duration": 7,
    "start_time": "2022-05-08T11:07:44.041Z"
   },
   {
    "duration": 20,
    "start_time": "2022-05-08T11:07:44.051Z"
   },
   {
    "duration": 56,
    "start_time": "2022-05-08T11:07:44.074Z"
   },
   {
    "duration": 19,
    "start_time": "2022-05-08T11:07:44.132Z"
   },
   {
    "duration": 24,
    "start_time": "2022-05-08T11:07:44.153Z"
   },
   {
    "duration": 14,
    "start_time": "2022-05-08T11:07:44.179Z"
   },
   {
    "duration": 9,
    "start_time": "2022-05-08T11:07:44.222Z"
   },
   {
    "duration": 12,
    "start_time": "2022-05-08T11:07:44.233Z"
   },
   {
    "duration": 230,
    "start_time": "2022-05-08T11:07:44.247Z"
   },
   {
    "duration": 18,
    "start_time": "2022-05-08T11:07:44.479Z"
   },
   {
    "duration": 172,
    "start_time": "2022-05-08T11:07:44.503Z"
   },
   {
    "duration": 13,
    "start_time": "2022-05-08T11:07:44.677Z"
   },
   {
    "duration": 117,
    "start_time": "2022-05-08T11:07:44.692Z"
   },
   {
    "duration": 14,
    "start_time": "2022-05-08T11:07:44.810Z"
   },
   {
    "duration": 488,
    "start_time": "2022-05-08T11:07:44.826Z"
   },
   {
    "duration": 16,
    "start_time": "2022-05-08T11:07:45.316Z"
   },
   {
    "duration": 12,
    "start_time": "2022-05-08T11:07:45.334Z"
   },
   {
    "duration": 11,
    "start_time": "2022-05-08T11:07:45.348Z"
   },
   {
    "duration": 11,
    "start_time": "2022-05-08T11:07:45.360Z"
   },
   {
    "duration": 230,
    "start_time": "2022-05-08T11:07:45.373Z"
   },
   {
    "duration": 26,
    "start_time": "2022-05-08T11:07:45.605Z"
   },
   {
    "duration": 15,
    "start_time": "2022-05-08T11:07:45.632Z"
   },
   {
    "duration": 14,
    "start_time": "2022-05-08T11:07:45.648Z"
   },
   {
    "duration": 13,
    "start_time": "2022-05-08T11:07:45.664Z"
   },
   {
    "duration": 8,
    "start_time": "2022-05-08T11:07:45.679Z"
   },
   {
    "duration": 34,
    "start_time": "2022-05-08T11:07:45.688Z"
   },
   {
    "duration": 7,
    "start_time": "2022-05-08T11:07:45.724Z"
   },
   {
    "duration": 5,
    "start_time": "2022-05-08T11:07:45.733Z"
   },
   {
    "duration": 11,
    "start_time": "2022-05-08T11:07:45.740Z"
   },
   {
    "duration": 9,
    "start_time": "2022-05-08T11:07:45.753Z"
   },
   {
    "duration": 6,
    "start_time": "2022-05-08T11:07:45.764Z"
   },
   {
    "duration": 73,
    "start_time": "2022-05-11T12:35:14.602Z"
   },
   {
    "duration": 2523,
    "start_time": "2022-05-11T12:35:22.789Z"
   },
   {
    "duration": 576,
    "start_time": "2022-05-11T12:35:25.316Z"
   },
   {
    "duration": 40,
    "start_time": "2022-05-11T12:35:25.895Z"
   },
   {
    "duration": 245,
    "start_time": "2022-05-11T12:35:25.941Z"
   },
   {
    "duration": 54,
    "start_time": "2022-05-11T12:35:26.188Z"
   },
   {
    "duration": 15,
    "start_time": "2022-05-11T12:35:26.245Z"
   },
   {
    "duration": 77,
    "start_time": "2022-05-11T12:35:26.263Z"
   },
   {
    "duration": 29,
    "start_time": "2022-05-11T12:35:26.343Z"
   },
   {
    "duration": 26,
    "start_time": "2022-05-11T12:35:26.375Z"
   },
   {
    "duration": 76,
    "start_time": "2022-05-11T12:35:26.406Z"
   },
   {
    "duration": 19,
    "start_time": "2022-05-11T12:35:26.485Z"
   },
   {
    "duration": 30,
    "start_time": "2022-05-11T12:35:26.507Z"
   },
   {
    "duration": 16,
    "start_time": "2022-05-11T12:35:26.540Z"
   },
   {
    "duration": 12,
    "start_time": "2022-05-11T12:35:26.559Z"
   },
   {
    "duration": 13,
    "start_time": "2022-05-11T12:35:26.574Z"
   },
   {
    "duration": 38,
    "start_time": "2022-05-11T12:35:26.589Z"
   },
   {
    "duration": 11,
    "start_time": "2022-05-11T12:35:26.630Z"
   },
   {
    "duration": 532,
    "start_time": "2022-05-11T12:35:26.644Z"
   },
   {
    "duration": 18,
    "start_time": "2022-05-11T12:35:27.178Z"
   },
   {
    "duration": 59,
    "start_time": "2022-05-11T12:35:27.199Z"
   },
   {
    "duration": 17,
    "start_time": "2022-05-11T12:35:27.261Z"
   },
   {
    "duration": 43,
    "start_time": "2022-05-11T12:35:27.281Z"
   },
   {
    "duration": 375,
    "start_time": "2022-05-11T12:35:27.327Z"
   },
   {
    "duration": 62,
    "start_time": "2022-05-11T12:35:27.704Z"
   },
   {
    "duration": 118,
    "start_time": "2022-05-11T12:35:27.769Z"
   },
   {
    "duration": 59,
    "start_time": "2022-05-11T12:35:27.889Z"
   },
   {
    "duration": 49,
    "start_time": "2022-05-11T12:35:27.950Z"
   },
   {
    "duration": 40,
    "start_time": "2022-05-11T12:35:28.025Z"
   },
   {
    "duration": 83,
    "start_time": "2022-05-11T12:35:28.068Z"
   },
   {
    "duration": 28,
    "start_time": "2022-05-11T12:35:28.155Z"
   },
   {
    "duration": 45,
    "start_time": "2022-05-11T12:35:28.185Z"
   },
   {
    "duration": 53,
    "start_time": "2022-05-11T12:35:28.233Z"
   },
   {
    "duration": 38,
    "start_time": "2022-05-11T12:35:28.289Z"
   },
   {
    "duration": 507,
    "start_time": "2022-05-11T12:35:28.329Z"
   },
   {
    "duration": 88,
    "start_time": "2022-05-11T12:35:28.838Z"
   },
   {
    "duration": 33,
    "start_time": "2022-05-11T12:35:28.928Z"
   },
   {
    "duration": 19,
    "start_time": "2022-05-11T12:35:28.963Z"
   },
   {
    "duration": 80,
    "start_time": "2022-05-11T12:35:28.984Z"
   },
   {
    "duration": 14,
    "start_time": "2022-05-11T12:35:29.066Z"
   },
   {
    "duration": 422,
    "start_time": "2022-05-11T12:35:29.082Z"
   },
   {
    "duration": 42,
    "start_time": "2022-05-11T12:35:29.506Z"
   },
   {
    "duration": 30,
    "start_time": "2022-05-11T12:35:29.551Z"
   },
   {
    "duration": 44,
    "start_time": "2022-05-11T12:35:29.584Z"
   },
   {
    "duration": 29,
    "start_time": "2022-05-11T12:35:29.630Z"
   },
   {
    "duration": 18,
    "start_time": "2022-05-11T12:35:29.662Z"
   },
   {
    "duration": 44,
    "start_time": "2022-05-11T12:35:29.683Z"
   },
   {
    "duration": 27,
    "start_time": "2022-05-11T12:35:29.730Z"
   },
   {
    "duration": 484,
    "start_time": "2022-05-11T12:35:29.760Z"
   },
   {
    "duration": 35,
    "start_time": "2022-05-11T12:35:30.246Z"
   },
   {
    "duration": 53,
    "start_time": "2022-05-11T12:35:30.283Z"
   },
   {
    "duration": 20,
    "start_time": "2022-05-11T12:35:30.339Z"
   },
   {
    "duration": 80,
    "start_time": "2022-05-11T12:35:30.362Z"
   },
   {
    "duration": 23,
    "start_time": "2022-05-11T12:35:30.445Z"
   },
   {
    "duration": 138,
    "start_time": "2022-05-11T12:35:30.470Z"
   },
   {
    "duration": 54,
    "start_time": "2022-05-11T12:35:30.610Z"
   },
   {
    "duration": 452,
    "start_time": "2022-05-11T12:35:30.666Z"
   },
   {
    "duration": 195,
    "start_time": "2022-05-11T12:35:31.124Z"
   },
   {
    "duration": 17,
    "start_time": "2022-05-11T12:35:31.321Z"
   },
   {
    "duration": 46,
    "start_time": "2022-05-11T12:35:31.340Z"
   },
   {
    "duration": 36,
    "start_time": "2022-05-11T12:35:31.388Z"
   },
   {
    "duration": 28,
    "start_time": "2022-05-11T12:35:31.427Z"
   },
   {
    "duration": 15,
    "start_time": "2022-05-11T12:35:31.457Z"
   },
   {
    "duration": 26,
    "start_time": "2022-05-11T12:35:31.474Z"
   },
   {
    "duration": 1213,
    "start_time": "2022-05-11T12:35:31.503Z"
   },
   {
    "duration": 23,
    "start_time": "2022-05-11T12:35:32.719Z"
   },
   {
    "duration": 62,
    "start_time": "2022-05-11T12:35:32.744Z"
   },
   {
    "duration": 24,
    "start_time": "2022-05-11T12:35:32.809Z"
   },
   {
    "duration": 33,
    "start_time": "2022-05-11T12:35:32.836Z"
   },
   {
    "duration": 33,
    "start_time": "2022-05-11T12:35:32.872Z"
   },
   {
    "duration": 22,
    "start_time": "2022-05-11T12:35:32.907Z"
   },
   {
    "duration": 26,
    "start_time": "2022-05-11T12:35:32.932Z"
   },
   {
    "duration": 31,
    "start_time": "2022-05-11T12:35:32.961Z"
   },
   {
    "duration": 45,
    "start_time": "2022-05-11T12:35:32.994Z"
   },
   {
    "duration": 63,
    "start_time": "2022-05-11T12:35:33.042Z"
   },
   {
    "duration": 28,
    "start_time": "2022-05-11T12:35:33.108Z"
   },
   {
    "duration": 45,
    "start_time": "2022-05-11T12:35:33.138Z"
   },
   {
    "duration": 193,
    "start_time": "2022-05-11T12:35:33.185Z"
   },
   {
    "duration": 0,
    "start_time": "2022-05-11T12:35:33.382Z"
   },
   {
    "duration": 0,
    "start_time": "2022-05-11T12:35:33.384Z"
   },
   {
    "duration": 0,
    "start_time": "2022-05-11T12:35:33.386Z"
   },
   {
    "duration": 0,
    "start_time": "2022-05-11T12:35:33.388Z"
   },
   {
    "duration": 0,
    "start_time": "2022-05-11T12:35:33.390Z"
   },
   {
    "duration": 0,
    "start_time": "2022-05-11T12:35:33.392Z"
   },
   {
    "duration": 0,
    "start_time": "2022-05-11T12:35:33.393Z"
   },
   {
    "duration": 0,
    "start_time": "2022-05-11T12:35:33.395Z"
   },
   {
    "duration": 0,
    "start_time": "2022-05-11T12:35:33.397Z"
   },
   {
    "duration": 0,
    "start_time": "2022-05-11T12:35:33.425Z"
   },
   {
    "duration": 0,
    "start_time": "2022-05-11T12:35:33.427Z"
   },
   {
    "duration": 0,
    "start_time": "2022-05-11T12:35:33.429Z"
   },
   {
    "duration": 0,
    "start_time": "2022-05-11T12:35:33.431Z"
   },
   {
    "duration": 0,
    "start_time": "2022-05-11T12:35:33.433Z"
   },
   {
    "duration": 0,
    "start_time": "2022-05-11T12:35:33.434Z"
   },
   {
    "duration": 0,
    "start_time": "2022-05-11T12:35:33.435Z"
   },
   {
    "duration": 0,
    "start_time": "2022-05-11T12:35:33.436Z"
   },
   {
    "duration": 0,
    "start_time": "2022-05-11T12:35:33.438Z"
   },
   {
    "duration": 0,
    "start_time": "2022-05-11T12:35:33.440Z"
   },
   {
    "duration": 0,
    "start_time": "2022-05-11T12:35:33.442Z"
   },
   {
    "duration": 0,
    "start_time": "2022-05-11T12:35:33.444Z"
   },
   {
    "duration": 0,
    "start_time": "2022-05-11T12:35:33.446Z"
   },
   {
    "duration": 0,
    "start_time": "2022-05-11T12:35:33.448Z"
   },
   {
    "duration": 0,
    "start_time": "2022-05-11T12:35:33.450Z"
   },
   {
    "duration": 0,
    "start_time": "2022-05-11T12:35:33.451Z"
   },
   {
    "duration": 0,
    "start_time": "2022-05-11T12:35:33.453Z"
   },
   {
    "duration": 0,
    "start_time": "2022-05-11T12:35:33.454Z"
   },
   {
    "duration": 0,
    "start_time": "2022-05-11T12:35:33.456Z"
   },
   {
    "duration": 0,
    "start_time": "2022-05-11T12:35:33.457Z"
   },
   {
    "duration": 306,
    "start_time": "2022-05-11T12:44:25.390Z"
   },
   {
    "duration": 146,
    "start_time": "2022-05-11T12:44:35.828Z"
   },
   {
    "duration": 144,
    "start_time": "2022-05-11T12:44:42.543Z"
   },
   {
    "duration": 27,
    "start_time": "2022-05-11T12:44:55.140Z"
   },
   {
    "duration": 14,
    "start_time": "2022-05-11T12:45:05.479Z"
   },
   {
    "duration": 14,
    "start_time": "2022-05-11T12:45:31.200Z"
   },
   {
    "duration": 37,
    "start_time": "2022-05-11T12:48:12.334Z"
   },
   {
    "duration": 41,
    "start_time": "2022-05-11T12:48:18.471Z"
   },
   {
    "duration": 52,
    "start_time": "2022-05-11T12:50:29.752Z"
   },
   {
    "duration": 30,
    "start_time": "2022-05-11T12:50:54.856Z"
   },
   {
    "duration": 19,
    "start_time": "2022-05-11T12:52:29.750Z"
   },
   {
    "duration": 20,
    "start_time": "2022-05-11T12:52:51.415Z"
   },
   {
    "duration": 21,
    "start_time": "2022-05-11T12:53:12.862Z"
   },
   {
    "duration": 22,
    "start_time": "2022-05-11T12:54:32.467Z"
   },
   {
    "duration": 16,
    "start_time": "2022-05-11T12:56:21.853Z"
   },
   {
    "duration": 31,
    "start_time": "2022-05-11T13:01:24.544Z"
   },
   {
    "duration": 11,
    "start_time": "2022-05-11T13:04:38.595Z"
   },
   {
    "duration": 49,
    "start_time": "2022-05-11T13:05:27.861Z"
   },
   {
    "duration": 27,
    "start_time": "2022-05-11T13:05:43.623Z"
   },
   {
    "duration": 21,
    "start_time": "2022-05-11T13:06:10.507Z"
   },
   {
    "duration": 30,
    "start_time": "2022-05-11T13:06:15.630Z"
   },
   {
    "duration": 37,
    "start_time": "2022-05-11T13:08:49.688Z"
   },
   {
    "duration": 15,
    "start_time": "2022-05-11T13:09:58.759Z"
   },
   {
    "duration": 17,
    "start_time": "2022-05-11T13:10:50.431Z"
   },
   {
    "duration": 23,
    "start_time": "2022-05-11T13:12:05.951Z"
   },
   {
    "duration": 16,
    "start_time": "2022-05-11T13:12:36.712Z"
   },
   {
    "duration": 15,
    "start_time": "2022-05-11T13:13:42.514Z"
   },
   {
    "duration": 11,
    "start_time": "2022-05-11T13:14:28.965Z"
   },
   {
    "duration": 338,
    "start_time": "2022-05-11T13:18:41.974Z"
   },
   {
    "duration": 428,
    "start_time": "2022-05-11T13:18:53.779Z"
   },
   {
    "duration": 352,
    "start_time": "2022-05-11T13:19:15.386Z"
   },
   {
    "duration": 492,
    "start_time": "2022-05-11T13:19:48.650Z"
   },
   {
    "duration": 419,
    "start_time": "2022-05-11T13:21:08.156Z"
   },
   {
    "duration": 415,
    "start_time": "2022-05-11T13:22:33.960Z"
   },
   {
    "duration": 287,
    "start_time": "2022-05-11T13:22:46.816Z"
   },
   {
    "duration": 449,
    "start_time": "2022-05-11T13:22:59.190Z"
   },
   {
    "duration": 469,
    "start_time": "2022-05-11T13:24:13.360Z"
   },
   {
    "duration": 122,
    "start_time": "2022-05-11T13:25:59.889Z"
   },
   {
    "duration": 401,
    "start_time": "2022-05-11T13:26:11.599Z"
   },
   {
    "duration": 458,
    "start_time": "2022-05-11T13:26:52.577Z"
   },
   {
    "duration": 460,
    "start_time": "2022-05-11T13:27:03.158Z"
   },
   {
    "duration": 609,
    "start_time": "2022-05-11T13:27:27.375Z"
   },
   {
    "duration": 461,
    "start_time": "2022-05-11T13:27:38.842Z"
   },
   {
    "duration": 480,
    "start_time": "2022-05-11T13:28:12.713Z"
   },
   {
    "duration": 335,
    "start_time": "2022-05-11T13:28:21.478Z"
   },
   {
    "duration": 366,
    "start_time": "2022-05-11T13:28:50.090Z"
   },
   {
    "duration": 350,
    "start_time": "2022-05-11T13:28:57.131Z"
   },
   {
    "duration": 346,
    "start_time": "2022-05-11T13:37:36.753Z"
   },
   {
    "duration": 462,
    "start_time": "2022-05-11T13:37:39.400Z"
   },
   {
    "duration": 363,
    "start_time": "2022-05-11T13:38:07.010Z"
   },
   {
    "duration": 484,
    "start_time": "2022-05-11T13:38:12.936Z"
   },
   {
    "duration": 352,
    "start_time": "2022-05-11T13:41:02.689Z"
   },
   {
    "duration": 500,
    "start_time": "2022-05-11T13:41:11.618Z"
   },
   {
    "duration": 387,
    "start_time": "2022-05-11T13:41:27.040Z"
   }
  ],
  "interpreter": {
   "hash": "de3eb0461655f855efa75c43f628cea699a278883512f4fc9dd0ed3fc2f9ba7c"
  },
  "kernelspec": {
   "display_name": "Python 3.10.2 64-bit",
   "language": "python",
   "name": "python3"
  },
  "language_info": {
   "codemirror_mode": {
    "name": "ipython",
    "version": 3
   },
   "file_extension": ".py",
   "mimetype": "text/x-python",
   "name": "python",
   "nbconvert_exporter": "python",
   "pygments_lexer": "ipython3",
   "version": "3.10.2"
  },
  "toc": {
   "base_numbering": 1,
   "nav_menu": {},
   "number_sections": false,
   "sideBar": true,
   "skip_h1_title": false,
   "title_cell": "Table of Contents",
   "title_sidebar": "Contents",
   "toc_cell": false,
   "toc_position": {},
   "toc_section_display": true,
   "toc_window_display": false
  }
 },
 "nbformat": 4,
 "nbformat_minor": 2
}
