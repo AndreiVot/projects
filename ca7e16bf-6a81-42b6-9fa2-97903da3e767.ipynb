{
 "cells": [
  {
   "cell_type": "markdown",
   "metadata": {},
   "source": [
    "<div style=\"border-radius: 15px; border: 3px solid indigo; padding: 15px;\">\n",
    "<b> Комментарий ревьюера</b>\n",
    "    \n",
    "Привет! Меня зовут Светлана Носова, я буду проверять твой проект. Если не против, давай общаться на «ты». Если тебе такой стиль общения не нравится, напиши об этом, будем на «вы».\n",
    "\n",
    "Сразу хочу обратить внимание на цветовую разметку.\n",
    "\n",
    "<div class=\"alert alert-success\" style=\"border-radius: 15px; box-shadow: 4px 4px 4px; border: 1px solid \">\n",
    "\n",
    "Зеленым отмечены отличные решения и идеи, которые можно и нужно использовать в будущем.\n",
    "</div>\n",
    "    \n",
    "<div class=\"alert alert-warning\" style=\"border-radius: 15px; box-shadow: 4px 4px 4px; border: 1px solid \">\n",
    "\n",
    "Желтым отмечено то, что можно или нужно оптимизировать, в зависимости от контекста.</div>    \n",
    "    \n",
    "<div class=\"alert alert-danger\" style=\"border-radius: 15px; box-shadow: 4px 4px 4px; border: 1px solid \">\n",
    "\n",
    "Красным  обозначены пропущенные пункты задания и ошибки, которые обязательно надо будет исправить, чтобы результаты были верные.</div> \n",
    "    \n",
    "**Ответы на мои комментарии или доработки по моим рекомендациям попрошу выделить каким-нибудь цветом, кроме  перечисленных.**\n",
    "Также я попрошу тебя **не менять, не передвигать и не удалять мои комментарии**, чтобы при последующей проверке мне было проще ориентироваться.\n",
    "    \n",
    "Кроме того, комментарии у меня обозначены как заголовки. Это сбивает содержание, но при последующей проверке я могу снять с них заголовок, если тебе так будет удобнее. При этом они удобны, поскольку ты сразу можешь перейти к ним.   \n",
    "        \n",
    "<hr>\n",
    "    \n",
    "**По проекту:** работа выполнена очень хорошо. Функции написаны верно, группировки и сортировки применены правильно. Код чистый, проверять приятно. У меня есть некоторые замечания, я все обозначила в комментариях. Там же я оставила рекомендации по улучшению проекта. Буду ждать работу на повторное ревью.\n",
    "    \n",
    "<hr style=\"border-top: 3px solid purple; \"></hr>\n",
    "Комментарии можешь оставлять с помощью такого кода в Markdown ячейке:\n",
    "    \n",
    "    \n",
    "    <div class=\"alert alert-info\">\n",
    "    <h2> Комментарий студента</h2>\n",
    "\n",
    "    Тут текст.\n",
    "    </div>\n",
    "    \n",
    "    \n",
    "    <font color='red'> Этот код позволяет менять цвет текста. </font>     \n",
    "\n",
    "<font color='red'> Выглядит это так. </font> \n",
    "  \n",
    "   \n",
    "Если не хочешь, чтобы твои комментарии отображались в содержании как заголовки, замени **h2** на **b** или добавь `<a class=\"tocSkip\">` после фразы *Комментарий студента*. \n",
    "\n",
    "\n",
    "\n",
    "О том, как **форматировать текст** в Markdown ячейке или как добавлять ссылки, ты можешь узнать [тут](https://sqlbak.com/blog/jupyter-notebook-markdown-cheatsheet) и [вот тут](https://medium.com/analytics-vidhya/the-ultimate-markdown-guide-for-jupyter-notebook-d5e5abf728fd).\n",
    "</div>\n",
    "\n",
    "<div class=\"alert alert-info\">\n",
    "    <h2> Комментарий студента</h2>\n",
    "\n",
    "Спасибо за вашу работу. В силу привычки мне удобнее и психологически комфортнее общаться на \"вы\", мне так легче.\n",
    "    \n",
    "О том, что нужно писать вывод, и комментарий о неправильном имени не понял. Исправил. Надеюсь, в нужном месте написал.\n",
    "    \n",
    "Метод to_frame: в курсе ещё не встречался. Спасибо! буду знать. \n",
    "    </div>"
   ]
  },
  {
   "cell_type": "markdown",
   "metadata": {},
   "source": [
    "<div style=\"border-radius: 15px; border: 3px solid indigo; padding: 15px;\">\n",
    "<b> Комментарий ревьюера 2</b>\n",
    "    \n",
    "Поняла. Тогда в следующих проектах можно оставлять для будущих ревьюеров сообщение о том, что общение на *вы* предпочтительнее. \n",
    "    \n",
    "\n",
    "Насчет общего вывода: то было лишь напоминание о том, что выводы важны и в следующих проектах не стоит о них забывать :) Именно поэтому тот комментарий оформлен зеленым цветом. Тем не менее, дополнение к выводу отличное, большое спасибо. \n",
    "    \n",
    "    \n",
    "Оставила новые комментарии с цифрой 2. Надеюсь, ревью было полезным. Работу я могу принять, поскольку вопросов больше нет. Поздравляю с первым решенным проектом и желаю успехов в дальнейшем обучении :)\n",
    "</div>"
   ]
  },
  {
   "cell_type": "markdown",
   "metadata": {
    "id": "E0vqbgi9ay0H"
   },
   "source": [
    "# Яндекс.Музыка"
   ]
  },
  {
   "cell_type": "markdown",
   "metadata": {
    "id": "VUC88oWjTJw2"
   },
   "source": [
    "Сравнение Москвы и Петербурга окружено мифами. Например:\n",
    " * Москва — мегаполис, подчинённый жёсткому ритму рабочей недели;\n",
    " * Петербург — культурная столица, со своими вкусами.\n",
    "\n",
    "На данных Яндекс.Музыки вы сравните поведение пользователей двух столиц.\n",
    "\n",
    "**Цель исследования** — проверьте три гипотезы:\n",
    "1. Активность пользователей зависит от дня недели. Причём в Москве и Петербурге это проявляется по-разному.\n",
    "2. В понедельник утром в Москве преобладают одни жанры, а в Петербурге — другие. Так же и вечером пятницы преобладают разные жанры — в зависимости от города. \n",
    "3. Москва и Петербург предпочитают разные жанры музыки. В Москве чаще слушают поп-музыку, в Петербурге — русский рэп.\n",
    "\n",
    "**Ход исследования**\n",
    "\n",
    "Данные о поведении пользователей вы получите из файла `yandex_music_project.csv`. О качестве данных ничего не известно. Поэтому перед проверкой гипотез понадобится обзор данных. \n",
    "\n",
    "Вы проверите данные на ошибки и оцените их влияние на исследование. Затем, на этапе предобработки вы поищете возможность исправить самые критичные ошибки данных.\n",
    " \n",
    "Таким образом, исследование пройдёт в три этапа:\n",
    " 1. Обзор данных.\n",
    " 2. Предобработка данных.\n",
    " 3. Проверка гипотез.\n",
    "\n"
   ]
  },
  {
   "cell_type": "markdown",
   "metadata": {},
   "source": [
    "<div class=\"alert alert-success\" style=\"border-radius: 15px; box-shadow: 4px 4px 4px; border: 1px solid \">\n",
    "<h2> Комментарий ревьюера</h2>\n",
    "    \n",
    "Наличие вводной части с описанием данных это хороший тон. Правильно делаешь, что не убираешь ее.</div>"
   ]
  },
  {
   "cell_type": "markdown",
   "metadata": {
    "id": "Ml1hmfXC_Zcs"
   },
   "source": [
    "## Обзор данных\n",
    "\n",
    "Составьте первое представление о данных Яндекс.Музыки.\n",
    "\n",
    "\n"
   ]
  },
  {
   "cell_type": "markdown",
   "metadata": {
    "id": "57eAOGIz_Zcs"
   },
   "source": [
    "Основной инструмент аналитика — `pandas`. Импортируйте эту библиотеку."
   ]
  },
  {
   "cell_type": "code",
   "execution_count": 3,
   "metadata": {
    "id": "AXN7PHPN_Zcs"
   },
   "outputs": [],
   "source": [
    "import pandas as pd # импорт библиотеки pandas"
   ]
  },
  {
   "cell_type": "markdown",
   "metadata": {},
   "source": [
    "<div class=\"alert alert-success\" style=\"border-radius: 15px; box-shadow: 4px 4px 4px; border: 1px solid \">\n",
    "<h2> Комментарий ревьюера</h2>\n",
    "    \n",
    "Хорошо, что используешь именно это сокращение для pandas. Оно является общепринятым сокращением, равно как np для numpy. Это удобно, поскольку ни один программист или аналитик не обходится без поиска информации, чтения документации и даже поиска уже готового или частично готового решения какой-то подзадачи. Также это упрощает работу с чужим кодом, что довольно часто происходит при работе в команде. Кроме того, это экономит время. Например, при копипасте.  \n",
    "</div>"
   ]
  },
  {
   "cell_type": "markdown",
   "metadata": {
    "id": "SG23P8tt_Zcs"
   },
   "source": [
    "Прочитайте файл `yandex_music_project.csv` из папки `/datasets` и сохраните его в переменной `df`:"
   ]
  },
  {
   "cell_type": "code",
   "execution_count": 4,
   "metadata": {
    "id": "fFVu7vqh_Zct"
   },
   "outputs": [],
   "source": [
    "df = pd.read_csv('/datasets/yandex_music_project.csv') \n",
    "\n",
    "# чтение файла с данными и сохранение в df"
   ]
  },
  {
   "cell_type": "markdown",
   "metadata": {
    "id": "rDoOMd3uTqnZ"
   },
   "source": [
    "Выведите на экран первые десять строк таблицы:"
   ]
  },
  {
   "cell_type": "code",
   "execution_count": 5,
   "metadata": {
    "id": "oWTVX3gW_Zct"
   },
   "outputs": [
    {
     "data": {
      "text/html": [
       "<div>\n",
       "<style scoped>\n",
       "    .dataframe tbody tr th:only-of-type {\n",
       "        vertical-align: middle;\n",
       "    }\n",
       "\n",
       "    .dataframe tbody tr th {\n",
       "        vertical-align: top;\n",
       "    }\n",
       "\n",
       "    .dataframe thead th {\n",
       "        text-align: right;\n",
       "    }\n",
       "</style>\n",
       "<table border=\"1\" class=\"dataframe\">\n",
       "  <thead>\n",
       "    <tr style=\"text-align: right;\">\n",
       "      <th></th>\n",
       "      <th>userID</th>\n",
       "      <th>Track</th>\n",
       "      <th>artist</th>\n",
       "      <th>genre</th>\n",
       "      <th>City</th>\n",
       "      <th>time</th>\n",
       "      <th>Day</th>\n",
       "    </tr>\n",
       "  </thead>\n",
       "  <tbody>\n",
       "    <tr>\n",
       "      <td>0</td>\n",
       "      <td>FFB692EC</td>\n",
       "      <td>Kamigata To Boots</td>\n",
       "      <td>The Mass Missile</td>\n",
       "      <td>rock</td>\n",
       "      <td>Saint-Petersburg</td>\n",
       "      <td>20:28:33</td>\n",
       "      <td>Wednesday</td>\n",
       "    </tr>\n",
       "    <tr>\n",
       "      <td>1</td>\n",
       "      <td>55204538</td>\n",
       "      <td>Delayed Because of Accident</td>\n",
       "      <td>Andreas Rönnberg</td>\n",
       "      <td>rock</td>\n",
       "      <td>Moscow</td>\n",
       "      <td>14:07:09</td>\n",
       "      <td>Friday</td>\n",
       "    </tr>\n",
       "    <tr>\n",
       "      <td>2</td>\n",
       "      <td>20EC38</td>\n",
       "      <td>Funiculì funiculà</td>\n",
       "      <td>Mario Lanza</td>\n",
       "      <td>pop</td>\n",
       "      <td>Saint-Petersburg</td>\n",
       "      <td>20:58:07</td>\n",
       "      <td>Wednesday</td>\n",
       "    </tr>\n",
       "    <tr>\n",
       "      <td>3</td>\n",
       "      <td>A3DD03C9</td>\n",
       "      <td>Dragons in the Sunset</td>\n",
       "      <td>Fire + Ice</td>\n",
       "      <td>folk</td>\n",
       "      <td>Saint-Petersburg</td>\n",
       "      <td>08:37:09</td>\n",
       "      <td>Monday</td>\n",
       "    </tr>\n",
       "    <tr>\n",
       "      <td>4</td>\n",
       "      <td>E2DC1FAE</td>\n",
       "      <td>Soul People</td>\n",
       "      <td>Space Echo</td>\n",
       "      <td>dance</td>\n",
       "      <td>Moscow</td>\n",
       "      <td>08:34:34</td>\n",
       "      <td>Monday</td>\n",
       "    </tr>\n",
       "    <tr>\n",
       "      <td>5</td>\n",
       "      <td>842029A1</td>\n",
       "      <td>Преданная</td>\n",
       "      <td>IMPERVTOR</td>\n",
       "      <td>rusrap</td>\n",
       "      <td>Saint-Petersburg</td>\n",
       "      <td>13:09:41</td>\n",
       "      <td>Friday</td>\n",
       "    </tr>\n",
       "    <tr>\n",
       "      <td>6</td>\n",
       "      <td>4CB90AA5</td>\n",
       "      <td>True</td>\n",
       "      <td>Roman Messer</td>\n",
       "      <td>dance</td>\n",
       "      <td>Moscow</td>\n",
       "      <td>13:00:07</td>\n",
       "      <td>Wednesday</td>\n",
       "    </tr>\n",
       "    <tr>\n",
       "      <td>7</td>\n",
       "      <td>F03E1C1F</td>\n",
       "      <td>Feeling This Way</td>\n",
       "      <td>Polina Griffith</td>\n",
       "      <td>dance</td>\n",
       "      <td>Moscow</td>\n",
       "      <td>20:47:49</td>\n",
       "      <td>Wednesday</td>\n",
       "    </tr>\n",
       "    <tr>\n",
       "      <td>8</td>\n",
       "      <td>8FA1D3BE</td>\n",
       "      <td>И вновь продолжается бой</td>\n",
       "      <td>NaN</td>\n",
       "      <td>ruspop</td>\n",
       "      <td>Moscow</td>\n",
       "      <td>09:17:40</td>\n",
       "      <td>Friday</td>\n",
       "    </tr>\n",
       "    <tr>\n",
       "      <td>9</td>\n",
       "      <td>E772D5C0</td>\n",
       "      <td>Pessimist</td>\n",
       "      <td>NaN</td>\n",
       "      <td>dance</td>\n",
       "      <td>Saint-Petersburg</td>\n",
       "      <td>21:20:49</td>\n",
       "      <td>Wednesday</td>\n",
       "    </tr>\n",
       "  </tbody>\n",
       "</table>\n",
       "</div>"
      ],
      "text/plain": [
       "     userID                        Track            artist   genre  \\\n",
       "0  FFB692EC            Kamigata To Boots  The Mass Missile    rock   \n",
       "1  55204538  Delayed Because of Accident  Andreas Rönnberg    rock   \n",
       "2    20EC38            Funiculì funiculà       Mario Lanza     pop   \n",
       "3  A3DD03C9        Dragons in the Sunset        Fire + Ice    folk   \n",
       "4  E2DC1FAE                  Soul People        Space Echo   dance   \n",
       "5  842029A1                    Преданная         IMPERVTOR  rusrap   \n",
       "6  4CB90AA5                         True      Roman Messer   dance   \n",
       "7  F03E1C1F             Feeling This Way   Polina Griffith   dance   \n",
       "8  8FA1D3BE     И вновь продолжается бой               NaN  ruspop   \n",
       "9  E772D5C0                    Pessimist               NaN   dance   \n",
       "\n",
       "             City        time        Day  \n",
       "0  Saint-Petersburg  20:28:33  Wednesday  \n",
       "1            Moscow  14:07:09     Friday  \n",
       "2  Saint-Petersburg  20:58:07  Wednesday  \n",
       "3  Saint-Petersburg  08:37:09     Monday  \n",
       "4            Moscow  08:34:34     Monday  \n",
       "5  Saint-Petersburg  13:09:41     Friday  \n",
       "6            Moscow  13:00:07  Wednesday  \n",
       "7            Moscow  20:47:49  Wednesday  \n",
       "8            Moscow  09:17:40     Friday  \n",
       "9  Saint-Petersburg  21:20:49  Wednesday  "
      ]
     },
     "metadata": {},
     "output_type": "display_data"
    }
   ],
   "source": [
    "display(df.head(10)) # получение первых 10 строк таблицы df"
   ]
  },
  {
   "cell_type": "markdown",
   "metadata": {},
   "source": [
    "<div class=\"alert alert-success\" style=\"border-radius: 15px; box-shadow: 4px 4px 4px; border: 1px solid \">\n",
    "<h2> Комментарий ревьюера</h2>\n",
    "    \n",
    "Правильно делаешь, что  используешь метод **display**. Обрати внимание на то, что команда на вывод в ячейке одна, поэтому можно сразу писать ```df.head(10)```. Другое дело, когда у нас несколько таблиц выводится в одной ячейке. Тут без **display** не обойтись, поскольку отработает только последний вывод:\n",
    "</div>"
   ]
  },
  {
   "cell_type": "code",
   "execution_count": 39,
   "metadata": {},
   "outputs": [
    {
     "data": {
      "text/html": [
       "<div>\n",
       "<style scoped>\n",
       "    .dataframe tbody tr th:only-of-type {\n",
       "        vertical-align: middle;\n",
       "    }\n",
       "\n",
       "    .dataframe tbody tr th {\n",
       "        vertical-align: top;\n",
       "    }\n",
       "\n",
       "    .dataframe thead th {\n",
       "        text-align: right;\n",
       "    }\n",
       "</style>\n",
       "<table border=\"1\" class=\"dataframe\">\n",
       "  <thead>\n",
       "    <tr style=\"text-align: right;\">\n",
       "      <th></th>\n",
       "      <th>user_id</th>\n",
       "      <th>track</th>\n",
       "      <th>artist</th>\n",
       "      <th>genre</th>\n",
       "      <th>city</th>\n",
       "      <th>time</th>\n",
       "      <th>day</th>\n",
       "    </tr>\n",
       "  </thead>\n",
       "  <tbody>\n",
       "    <tr>\n",
       "      <td>0</td>\n",
       "      <td>FFB692EC</td>\n",
       "      <td>Kamigata To Boots</td>\n",
       "      <td>The Mass Missile</td>\n",
       "      <td>rock</td>\n",
       "      <td>Saint-Petersburg</td>\n",
       "      <td>20:28:33</td>\n",
       "      <td>Wednesday</td>\n",
       "    </tr>\n",
       "    <tr>\n",
       "      <td>1</td>\n",
       "      <td>55204538</td>\n",
       "      <td>Delayed Because of Accident</td>\n",
       "      <td>Andreas Rönnberg</td>\n",
       "      <td>rock</td>\n",
       "      <td>Moscow</td>\n",
       "      <td>14:07:09</td>\n",
       "      <td>Friday</td>\n",
       "    </tr>\n",
       "  </tbody>\n",
       "</table>\n",
       "</div>"
      ],
      "text/plain": [
       "    user_id                        track            artist genre  \\\n",
       "0  FFB692EC            Kamigata To Boots  The Mass Missile  rock   \n",
       "1  55204538  Delayed Because of Accident  Andreas Rönnberg  rock   \n",
       "\n",
       "               city      time        day  \n",
       "0  Saint-Petersburg  20:28:33  Wednesday  \n",
       "1            Moscow  14:07:09     Friday  "
      ]
     },
     "execution_count": 39,
     "metadata": {},
     "output_type": "execute_result"
    }
   ],
   "source": [
    "# КОД РЕВЬЮЕРА\n",
    "\n",
    "df.head(10)\n",
    "df.head(6)\n",
    "df.head(2)"
   ]
  },
  {
   "cell_type": "markdown",
   "metadata": {
    "id": "EO73Kwic_Zct"
   },
   "source": [
    "Одной командой получить общую информацию о таблице:"
   ]
  },
  {
   "cell_type": "code",
   "execution_count": 4,
   "metadata": {
    "id": "DSf2kIb-_Zct"
   },
   "outputs": [
    {
     "name": "stdout",
     "output_type": "stream",
     "text": [
      "<class 'pandas.core.frame.DataFrame'>\n",
      "RangeIndex: 65079 entries, 0 to 65078\n",
      "Data columns (total 7 columns):\n",
      "  userID    65079 non-null object\n",
      "Track       63848 non-null object\n",
      "artist      57876 non-null object\n",
      "genre       63881 non-null object\n",
      "  City      65079 non-null object\n",
      "time        65079 non-null object\n",
      "Day         65079 non-null object\n",
      "dtypes: object(7)\n",
      "memory usage: 3.5+ MB\n"
     ]
    }
   ],
   "source": [
    "df.info() # получение общей информации о данных в таблице df"
   ]
  },
  {
   "cell_type": "markdown",
   "metadata": {
    "id": "TaQ2Iwbr_Zct"
   },
   "source": [
    "Итак, в таблице семь столбцов. Тип данных во всех столбцах — `object`.\n",
    "\n",
    "Согласно документации к данным:\n",
    "* `userID` — идентификатор пользователя;\n",
    "* `Track` — название трека;  \n",
    "* `artist` — имя исполнителя;\n",
    "* `genre` — название жанра;\n",
    "* `City` — город пользователя;\n",
    "* `time` — время начала прослушивания;\n",
    "* `Day` — день недели.\n",
    "\n",
    "В названиях колонок видны три нарушения стиля:\n",
    "1. Строчные буквы сочетаются с прописными.\n",
    "2. Встречаются пробелы.\n",
    "3. Найдите ещё одну проблему в названии колонок и опишите её в этом пункте.\n",
    "\n",
    "Количество значений в столбцах различается. Значит, в данных есть пропущенные значения.\n",
    "\n",
    "<div class=\"alert alert-info\">\n",
    "<h2> Комментарий студента</h2>\n",
    "Ещё одна проблема в названии колонок - слитное написание двух составляющих имени без использования знака нижнего подчёркивания. Некорректное название - `userID`. В коде я заменил его на \"user_id\".\n",
    "    \n",
    "    Ранее я так же не понял, что нужно что-то вписывать ещё, кроме кода и комментария в ячейках с кодом с симвовлом #. \n",
    "    \n",
    "    Сейчас я в нужное место вписал свой текст? Или мне нужно набрать п.3 заново, впечатать свой текст?\n",
    "   \n",
    "    Как менять цвет комментария я не понял. В коде вместо 'red' вписывал 'brown', 'purple'  - результат один, плашка и текст бледно голубой.\n",
    "</div>\n",
    "<font color='purple'>"
   ]
  },
  {
   "attachments": {
    "image.png": {
     "image/png": "[encoded data removed]"
    }
   },
   "cell_type": "markdown",
   "metadata": {},
   "source": [
    "<div class=\"alert alert-success\" style=\"border-radius: 15px; box-shadow: 4px 4px 4px; border: 1px solid \">\n",
    "<h2> Комментарий ревьюера 2</h2>\n",
    "    \n",
    "- Верно, лучше использовать нижние подчеркивания. Это сейчас может показаться ерундой, но когда читаешь на гитхабе чей-то код или исходный код какой-нибудь библиотеки, а там огромное число трудночитаемых переменных, устаешь просто моментально. Поэтому есть общепринятый стиль, который упрощает чтение кода. Всякий программист или аналитик вынужден читать чужой код. Либо чтобы подсмотреть реализацию той или иной идеи, либо чтобы разобраться в том, как методы работают в той или иной библиотеке, либо работая в команде. \n",
    "    \n",
    "    \n",
    "- Можно было ответить на вопрос прямо в том пункте, а можно в отдельном комментарии. Главное это обратить внимание на стилистику, вот и все. \n",
    "    \n",
    "    \n",
    "    \n",
    "- Чтобы изменить цвет текста, надо команду написать непосредственно перед текстом `<font color='purple'> какой-то текст. потом закрываем условие </font>`. Кликаю дважды по моему первому комментарию и вижу, что текст обернут в эту команду: \n",
    "    \n",
    "    \n",
    "![image.png](attachment:image.png)    \n",
    "    \n",
    "    \n",
    "    \n",
    "    \n",
    "- Чтобы не было белого поля, убираем табуляцию.     \n",
    "</div>\n",
    "<div class=\"alert alert-danger\" style=\"border-radius: 15px; box-shadow: 4px 4px 4px; border: 1px solid \">\n",
    "<b> Комментарий ревьюера</b>\n",
    "    \n",
    "Какое еще нарушение стиля можно заметить в данных?\n",
    "    \n",
    "> Найдите ещё одну проблему в названии колонок и опишите её в этом пункте.\n",
    "</div>"
   ]
  },
  {
   "cell_type": "markdown",
   "metadata": {
    "id": "MCB6-dXG_Zct"
   },
   "source": [
    "**Выводы**\n",
    "\n",
    "В каждой строке таблицы — данные о прослушанном треке. Часть колонок описывает саму композицию: название, исполнителя и жанр. Остальные данные рассказывают о пользователе: из какого он города, когда он слушал музыку. \n",
    "\n",
    "Предварительно можно утверждать, что, данных достаточно для проверки гипотез. Но встречаются пропуски в данных, а в названиях колонок — расхождения с хорошим стилем.\n",
    "\n",
    "Чтобы двигаться дальше, нужно устранить проблемы в данных."
   ]
  },
  {
   "cell_type": "markdown",
   "metadata": {
    "id": "SjYF6Ub9_Zct"
   },
   "source": [
    "## Предобработка данных\n",
    "Исправьте стиль в заголовках столбцов, исключите пропуски. Затем проверьте данные на дубликаты."
   ]
  },
  {
   "cell_type": "markdown",
   "metadata": {
    "id": "dIaKXr29_Zct"
   },
   "source": [
    "### Стиль заголовков\n",
    "Выведите на экран названия столбцов:"
   ]
  },
  {
   "cell_type": "code",
   "execution_count": 6,
   "metadata": {
    "id": "oKOTdF_Q_Zct"
   },
   "outputs": [
    {
     "data": {
      "text/plain": [
       "Index(['  userID', 'Track', 'artist', 'genre', '  City  ', 'time', 'Day'], dtype='object')"
      ]
     },
     "execution_count": 6,
     "metadata": {},
     "output_type": "execute_result"
    }
   ],
   "source": [
    "df.columns # перечень названий столбцов таблицы df"
   ]
  },
  {
   "cell_type": "markdown",
   "metadata": {
    "id": "FPZA3ki8xe7T"
   },
   "source": []
  },
  {
   "cell_type": "markdown",
   "metadata": {
    "id": "zj5534cv_Zct"
   },
   "source": [
    "Приведите названия в соответствие с хорошим стилем:\n",
    "* несколько слов в названии запишите в «змеином_регистре»,\n",
    "* все символы сделайте строчными,\n",
    "* устраните пробелы.\n",
    "\n",
    "Для этого переименуйте колонки так:\n",
    "* `'  userID'` → `'user_id'`;\n",
    "* `'Track'` → `'track'`;\n",
    "* `'  City  '` → `'city'`;\n",
    "* `'Day'` → `'day'`."
   ]
  },
  {
   "cell_type": "code",
   "execution_count": 7,
   "metadata": {
    "id": "ISlFqs5y_Zct"
   },
   "outputs": [],
   "source": [
    "df = df.rename(columns = {'  userID':'user_id', 'Track':'track', '  City  ':'city', 'Day':'day'})\n",
    "# переименование столбцов"
   ]
  },
  {
   "cell_type": "markdown",
   "metadata": {
    "id": "1dqbh00J_Zct"
   },
   "source": [
    "Проверьте результат. Для этого ещё раз выведите на экран названия столбцов:"
   ]
  },
  {
   "cell_type": "code",
   "execution_count": 7,
   "metadata": {
    "id": "d4NOAmTW_Zct"
   },
   "outputs": [
    {
     "data": {
      "text/plain": [
       "Index(['user_id', 'track', 'artist', 'genre', 'city', 'time', 'day'], dtype='object')"
      ]
     },
     "execution_count": 7,
     "metadata": {},
     "output_type": "execute_result"
    }
   ],
   "source": [
    "df.columns # проверка результатов - перечень названий столбцов"
   ]
  },
  {
   "cell_type": "markdown",
   "metadata": {
    "id": "5ISfbcfY_Zct"
   },
   "source": [
    "### Пропуски значений\n",
    "Сначала посчитайте, сколько в таблице пропущенных значений. Для этого достаточно двух методов `pandas`:"
   ]
  },
  {
   "cell_type": "code",
   "execution_count": 8,
   "metadata": {
    "id": "RskX29qr_Zct"
   },
   "outputs": [
    {
     "data": {
      "text/plain": [
       "user_id       0\n",
       "track      1231\n",
       "artist     7203\n",
       "genre      1198\n",
       "city          0\n",
       "time          0\n",
       "day           0\n",
       "dtype: int64"
      ]
     },
     "execution_count": 8,
     "metadata": {},
     "output_type": "execute_result"
    }
   ],
   "source": [
    "df.isna().sum() # подсчёт пропусков"
   ]
  },
  {
   "cell_type": "markdown",
   "metadata": {
    "id": "qubhgnlO_Zct"
   },
   "source": [
    "Не все пропущенные значения влияют на исследование. Так в `track` и `artist` пропуски не важны для вашей работы. Достаточно заменить их явными обозначениями.\n",
    "\n",
    "Но пропуски в `genre` могут помешать сравнению музыкальных вкусов в Москве и Санкт-Петербурге. На практике было бы правильно установить причину пропусков и восстановить данные. Такой возможности нет в учебном проекте. Придётся:\n",
    "* заполнить и эти пропуски явными обозначениями,\n",
    "* оценить, насколько они повредят расчётам. "
   ]
  },
  {
   "cell_type": "markdown",
   "metadata": {
    "id": "fSv2laPA_Zct"
   },
   "source": [
    "Замените пропущенные значения в столбцах `track`, `artist` и `genre` на строку `'unknown'`. Для этого создайте список `columns_to_replace`, переберите его элементы циклом `for` и для каждого столбца выполните замену пропущенных значений:"
   ]
  },
  {
   "cell_type": "code",
   "execution_count": 8,
   "metadata": {
    "id": "KplB5qWs_Zct"
   },
   "outputs": [],
   "source": [
    "columns_to_replace = ['track', 'artist', 'genre']\n",
    "for elem in columns_to_replace:\n",
    "    df[elem] = df[elem].fillna('unknown')\n",
    "         \n",
    "# перебор названий столбцов в цикле и замена пропущенных значений на 'unknown'"
   ]
  },
  {
   "cell_type": "markdown",
   "metadata": {
    "id": "Ilsm-MZo_Zct"
   },
   "source": [
    "Убедитесь, что в таблице не осталось пропусков. Для этого ещё раз посчитайте пропущенные значения."
   ]
  },
  {
   "cell_type": "code",
   "execution_count": 9,
   "metadata": {
    "id": "Tq4nYRX4_Zct"
   },
   "outputs": [
    {
     "data": {
      "text/plain": [
       "user_id    0\n",
       "track      0\n",
       "artist     0\n",
       "genre      0\n",
       "city       0\n",
       "time       0\n",
       "day        0\n",
       "dtype: int64"
      ]
     },
     "execution_count": 9,
     "metadata": {},
     "output_type": "execute_result"
    }
   ],
   "source": [
    "df.isna().sum() # подсчёт пропусков"
   ]
  },
  {
   "cell_type": "markdown",
   "metadata": {
    "id": "BWKRtBJ3_Zct"
   },
   "source": [
    "### Дубликаты\n",
    "Посчитайте явные дубликаты в таблице одной командой:"
   ]
  },
  {
   "cell_type": "code",
   "execution_count": 11,
   "metadata": {
    "id": "36eES_S0_Zct"
   },
   "outputs": [
    {
     "data": {
      "text/plain": [
       "3826"
      ]
     },
     "execution_count": 11,
     "metadata": {},
     "output_type": "execute_result"
    }
   ],
   "source": [
    "df.duplicated().sum() # подсчёт явных дубликатов"
   ]
  },
  {
   "cell_type": "markdown",
   "metadata": {
    "id": "Ot25h6XR_Zct"
   },
   "source": [
    "Вызовите специальный метод `pandas`, чтобы удалить явные дубликаты:"
   ]
  },
  {
   "cell_type": "code",
   "execution_count": 10,
   "metadata": {
    "id": "exFHq6tt_Zct"
   },
   "outputs": [],
   "source": [
    "df = df.drop_duplicates().reset_index(drop=True) \n",
    "# удаление явных дубликатов (с удалением старых индексов и формированием новых)"
   ]
  },
  {
   "cell_type": "markdown",
   "metadata": {
    "id": "Im2YwBEG_Zct"
   },
   "source": [
    "Ещё раз посчитайте явные дубликаты в таблице — убедитесь, что полностью от них избавились:"
   ]
  },
  {
   "cell_type": "code",
   "execution_count": 11,
   "metadata": {
    "id": "-8PuNWQ0_Zct"
   },
   "outputs": [
    {
     "data": {
      "text/plain": [
       "0"
      ]
     },
     "execution_count": 11,
     "metadata": {},
     "output_type": "execute_result"
    }
   ],
   "source": [
    "df.duplicated().sum() # проверка на отсутствие дубликатов"
   ]
  },
  {
   "cell_type": "markdown",
   "metadata": {
    "id": "QlFBsxAr_Zct"
   },
   "source": [
    "Теперь избавьтесь от неявных дубликатов в колонке `genre`. Например, название одного и того же жанра может быть записано немного по-разному. Такие ошибки тоже повлияют на результат исследования."
   ]
  },
  {
   "cell_type": "markdown",
   "metadata": {
    "id": "eSjWwsOh_Zct"
   },
   "source": [
    "Выведите на экран список уникальных названий жанров, отсортированный в алфавитном порядке. Для этого:\n",
    "* извлеките нужный столбец датафрейма, \n",
    "* примените к нему метод сортировки,\n",
    "* для отсортированного столбца вызовите метод, который вернёт уникальные значения из столбца."
   ]
  },
  {
   "cell_type": "code",
   "execution_count": 14,
   "metadata": {
    "id": "JIUcqzZN_Zct"
   },
   "outputs": [
    {
     "data": {
      "text/plain": [
       "array(['acid', 'acoustic', 'action', 'adult', 'africa', 'afrikaans',\n",
       "       'alternative', 'alternativepunk', 'ambient', 'americana',\n",
       "       'animated', 'anime', 'arabesk', 'arabic', 'arena',\n",
       "       'argentinetango', 'art', 'audiobook', 'author', 'avantgarde',\n",
       "       'axé', 'baile', 'balkan', 'beats', 'bigroom', 'black', 'bluegrass',\n",
       "       'blues', 'bollywood', 'bossa', 'brazilian', 'breakbeat', 'breaks',\n",
       "       'broadway', 'cantautori', 'cantopop', 'canzone', 'caribbean',\n",
       "       'caucasian', 'celtic', 'chamber', 'chanson', 'children', 'chill',\n",
       "       'chinese', 'choral', 'christian', 'christmas', 'classical',\n",
       "       'classicmetal', 'club', 'colombian', 'comedy', 'conjazz',\n",
       "       'contemporary', 'country', 'cuban', 'dance', 'dancehall',\n",
       "       'dancepop', 'dark', 'death', 'deep', 'deutschrock', 'deutschspr',\n",
       "       'dirty', 'disco', 'dnb', 'documentary', 'downbeat', 'downtempo',\n",
       "       'drum', 'dub', 'dubstep', 'eastern', 'easy', 'electronic',\n",
       "       'electropop', 'emo', 'entehno', 'epicmetal', 'estrada', 'ethnic',\n",
       "       'eurofolk', 'european', 'experimental', 'extrememetal', 'fado',\n",
       "       'fairytail', 'film', 'fitness', 'flamenco', 'folk', 'folklore',\n",
       "       'folkmetal', 'folkrock', 'folktronica', 'forró', 'frankreich',\n",
       "       'französisch', 'french', 'funk', 'future', 'gangsta', 'garage',\n",
       "       'german', 'ghazal', 'gitarre', 'glitch', 'gospel', 'gothic',\n",
       "       'grime', 'grunge', 'gypsy', 'handsup', \"hard'n'heavy\", 'hardcore',\n",
       "       'hardstyle', 'hardtechno', 'hip', 'hip-hop', 'hiphop',\n",
       "       'historisch', 'holiday', 'hop', 'horror', 'house', 'hymn', 'idm',\n",
       "       'independent', 'indian', 'indie', 'indipop', 'industrial',\n",
       "       'inspirational', 'instrumental', 'international', 'irish', 'jam',\n",
       "       'japanese', 'jazz', 'jewish', 'jpop', 'jungle', 'k-pop',\n",
       "       'karadeniz', 'karaoke', 'kayokyoku', 'korean', 'laiko', 'latin',\n",
       "       'latino', 'leftfield', 'local', 'lounge', 'loungeelectronic',\n",
       "       'lovers', 'malaysian', 'mandopop', 'marschmusik', 'meditative',\n",
       "       'mediterranean', 'melodic', 'metal', 'metalcore', 'mexican',\n",
       "       'middle', 'minimal', 'miscellaneous', 'modern', 'mood', 'mpb',\n",
       "       'muslim', 'native', 'neoklassik', 'neue', 'new', 'newage',\n",
       "       'newwave', 'nu', 'nujazz', 'numetal', 'oceania', 'old', 'opera',\n",
       "       'orchestral', 'other', 'piano', 'podcasts', 'pop', 'popdance',\n",
       "       'popelectronic', 'popeurodance', 'poprussian', 'post',\n",
       "       'posthardcore', 'postrock', 'power', 'progmetal', 'progressive',\n",
       "       'psychedelic', 'punjabi', 'punk', 'quebecois', 'ragga', 'ram',\n",
       "       'rancheras', 'rap', 'rave', 'reggae', 'reggaeton', 'regional',\n",
       "       'relax', 'religious', 'retro', 'rhythm', 'rnb', 'rnr', 'rock',\n",
       "       'rockabilly', 'rockalternative', 'rockindie', 'rockother',\n",
       "       'romance', 'roots', 'ruspop', 'rusrap', 'rusrock', 'russian',\n",
       "       'salsa', 'samba', 'scenic', 'schlager', 'self', 'sertanejo',\n",
       "       'shanson', 'shoegazing', 'showtunes', 'singer', 'ska', 'skarock',\n",
       "       'slow', 'smooth', 'soft', 'soul', 'soulful', 'sound', 'soundtrack',\n",
       "       'southern', 'specialty', 'speech', 'spiritual', 'sport',\n",
       "       'stonerrock', 'surf', 'swing', 'synthpop', 'synthrock',\n",
       "       'sängerportrait', 'tango', 'tanzorchester', 'taraftar', 'tatar',\n",
       "       'tech', 'techno', 'teen', 'thrash', 'top', 'traditional',\n",
       "       'tradjazz', 'trance', 'tribal', 'trip', 'triphop', 'tropical',\n",
       "       'türk', 'türkçe', 'ukrrock', 'unknown', 'urban', 'uzbek',\n",
       "       'variété', 'vi', 'videogame', 'vocal', 'western', 'world',\n",
       "       'worldbeat', 'ïîï', 'электроника'], dtype=object)"
      ]
     },
     "metadata": {},
     "output_type": "display_data"
    }
   ],
   "source": [
    "display(df['genre'].sort_values().unique()) # Просмотр уникальных названий жанров\n"
   ]
  },
  {
   "cell_type": "markdown",
   "metadata": {
    "id": "qej-Qmuo_Zct"
   },
   "source": [
    "Просмотрите список и найдите неявные дубликаты названия `hiphop`. Это могут быть названия с ошибками или альтернативные названия того же жанра.\n",
    "\n",
    "Вы увидите следующие неявные дубликаты:\n",
    "* *hip*,\n",
    "* *hop*,\n",
    "* *hip-hop*.\n",
    "\n",
    "Чтобы очистить от них таблицу, напишите функцию `replace_wrong_genres()` с двумя параметрами: \n",
    "* `wrong_genres` — список дубликатов,\n",
    "* `correct_genre` — строка с правильным значением.\n",
    "\n",
    "Функция должна исправить колонку `genre` в таблице `df`: заменить каждое значение из списка `wrong_genres` на значение из `correct_genre`."
   ]
  },
  {
   "cell_type": "code",
   "execution_count": 12,
   "metadata": {
    "id": "ErNDkmns_Zct"
   },
   "outputs": [],
   "source": [
    "def replace_wrong_genres(wrong_genres, correct_genre):\n",
    "    for elem in wrong_genres:\n",
    "        df['genre'] = df['genre'].replace(elem, correct_genre)\n",
    "            \n",
    "# Функция для замены неявных дубликатов"
   ]
  },
  {
   "cell_type": "markdown",
   "metadata": {
    "id": "aDoBJxbA_Zct"
   },
   "source": [
    "Вызовите `replace_wrong_genres()` и передайте ей такие аргументы, чтобы она устранила неявные дубликаты: вместо `hip`, `hop` и `hip-hop` в таблице должно быть значение `hiphop`:"
   ]
  },
  {
   "cell_type": "code",
   "execution_count": 13,
   "metadata": {
    "id": "YN5i2hpmSo09"
   },
   "outputs": [],
   "source": [
    "wrong_genres = ['hip', 'hop', 'hip-hop']\n",
    "correct_genre = 'hiphop'\n",
    "\n",
    "replace_wrong_genres(wrong_genres, correct_genre)\n",
    "\n",
    "# Устранение неявных дубликатов"
   ]
  },
  {
   "cell_type": "markdown",
   "metadata": {},
   "source": [
    "<div class=\"alert alert-success\" style=\"border-radius: 15px; box-shadow: 4px 4px 4px; border: 1px solid \">\n",
    "<h2> Комментарий ревьюера</h2>\n",
    "    \n",
    "Супер. Написали и вызвали функцию, которая верно отработала. \n",
    "\n",
    "Вообще, эти манипуяции можно произвести и без функции. Для этого нам понадобится список и все тот же метод **replace**.   Выглядеть это будет так:\n",
    "    \n",
    "    \n",
    "    wrong_genres = ['hip', 'hop', 'hip-hop']\n",
    "    correct_genre = 'hiphop'  \n",
    "\n",
    "    df['genre'] = df['genre'].replace(wrong_genres, correct_genre)\n",
    "    \n",
    "    \n",
    "Или, что то же самое:\n",
    "    \n",
    "    \n",
    "    df['genre'] = df['genre'].replace(['hip', 'hop', 'hip-hop'], 'hiphop')\n",
    "</div>"
   ]
  },
  {
   "cell_type": "markdown",
   "metadata": {
    "id": "zQKF16_RG15m"
   },
   "source": [
    "Проверьте, что заменили неправильные названия:\n",
    "\n",
    "*   hip\n",
    "*   hop\n",
    "*   hip-hop\n",
    "\n",
    "Выведите отсортированный список уникальных значений столбца `genre`:"
   ]
  },
  {
   "cell_type": "code",
   "execution_count": 17,
   "metadata": {
    "id": "wvixALnFG15m"
   },
   "outputs": [
    {
     "data": {
      "text/plain": [
       "array(['acid', 'acoustic', 'action', 'adult', 'africa', 'afrikaans',\n",
       "       'alternative', 'alternativepunk', 'ambient', 'americana',\n",
       "       'animated', 'anime', 'arabesk', 'arabic', 'arena',\n",
       "       'argentinetango', 'art', 'audiobook', 'author', 'avantgarde',\n",
       "       'axé', 'baile', 'balkan', 'beats', 'bigroom', 'black', 'bluegrass',\n",
       "       'blues', 'bollywood', 'bossa', 'brazilian', 'breakbeat', 'breaks',\n",
       "       'broadway', 'cantautori', 'cantopop', 'canzone', 'caribbean',\n",
       "       'caucasian', 'celtic', 'chamber', 'chanson', 'children', 'chill',\n",
       "       'chinese', 'choral', 'christian', 'christmas', 'classical',\n",
       "       'classicmetal', 'club', 'colombian', 'comedy', 'conjazz',\n",
       "       'contemporary', 'country', 'cuban', 'dance', 'dancehall',\n",
       "       'dancepop', 'dark', 'death', 'deep', 'deutschrock', 'deutschspr',\n",
       "       'dirty', 'disco', 'dnb', 'documentary', 'downbeat', 'downtempo',\n",
       "       'drum', 'dub', 'dubstep', 'eastern', 'easy', 'electronic',\n",
       "       'electropop', 'emo', 'entehno', 'epicmetal', 'estrada', 'ethnic',\n",
       "       'eurofolk', 'european', 'experimental', 'extrememetal', 'fado',\n",
       "       'fairytail', 'film', 'fitness', 'flamenco', 'folk', 'folklore',\n",
       "       'folkmetal', 'folkrock', 'folktronica', 'forró', 'frankreich',\n",
       "       'französisch', 'french', 'funk', 'future', 'gangsta', 'garage',\n",
       "       'german', 'ghazal', 'gitarre', 'glitch', 'gospel', 'gothic',\n",
       "       'grime', 'grunge', 'gypsy', 'handsup', \"hard'n'heavy\", 'hardcore',\n",
       "       'hardstyle', 'hardtechno', 'hiphop', 'historisch', 'holiday',\n",
       "       'horror', 'house', 'hymn', 'idm', 'independent', 'indian', 'indie',\n",
       "       'indipop', 'industrial', 'inspirational', 'instrumental',\n",
       "       'international', 'irish', 'jam', 'japanese', 'jazz', 'jewish',\n",
       "       'jpop', 'jungle', 'k-pop', 'karadeniz', 'karaoke', 'kayokyoku',\n",
       "       'korean', 'laiko', 'latin', 'latino', 'leftfield', 'local',\n",
       "       'lounge', 'loungeelectronic', 'lovers', 'malaysian', 'mandopop',\n",
       "       'marschmusik', 'meditative', 'mediterranean', 'melodic', 'metal',\n",
       "       'metalcore', 'mexican', 'middle', 'minimal', 'miscellaneous',\n",
       "       'modern', 'mood', 'mpb', 'muslim', 'native', 'neoklassik', 'neue',\n",
       "       'new', 'newage', 'newwave', 'nu', 'nujazz', 'numetal', 'oceania',\n",
       "       'old', 'opera', 'orchestral', 'other', 'piano', 'podcasts', 'pop',\n",
       "       'popdance', 'popelectronic', 'popeurodance', 'poprussian', 'post',\n",
       "       'posthardcore', 'postrock', 'power', 'progmetal', 'progressive',\n",
       "       'psychedelic', 'punjabi', 'punk', 'quebecois', 'ragga', 'ram',\n",
       "       'rancheras', 'rap', 'rave', 'reggae', 'reggaeton', 'regional',\n",
       "       'relax', 'religious', 'retro', 'rhythm', 'rnb', 'rnr', 'rock',\n",
       "       'rockabilly', 'rockalternative', 'rockindie', 'rockother',\n",
       "       'romance', 'roots', 'ruspop', 'rusrap', 'rusrock', 'russian',\n",
       "       'salsa', 'samba', 'scenic', 'schlager', 'self', 'sertanejo',\n",
       "       'shanson', 'shoegazing', 'showtunes', 'singer', 'ska', 'skarock',\n",
       "       'slow', 'smooth', 'soft', 'soul', 'soulful', 'sound', 'soundtrack',\n",
       "       'southern', 'specialty', 'speech', 'spiritual', 'sport',\n",
       "       'stonerrock', 'surf', 'swing', 'synthpop', 'synthrock',\n",
       "       'sängerportrait', 'tango', 'tanzorchester', 'taraftar', 'tatar',\n",
       "       'tech', 'techno', 'teen', 'thrash', 'top', 'traditional',\n",
       "       'tradjazz', 'trance', 'tribal', 'trip', 'triphop', 'tropical',\n",
       "       'türk', 'türkçe', 'ukrrock', 'unknown', 'urban', 'uzbek',\n",
       "       'variété', 'vi', 'videogame', 'vocal', 'western', 'world',\n",
       "       'worldbeat', 'ïîï', 'электроника'], dtype=object)"
      ]
     },
     "metadata": {},
     "output_type": "display_data"
    }
   ],
   "source": [
    "display(df['genre'].sort_values().unique()) # Проверка на неявные дубликаты"
   ]
  },
  {
   "cell_type": "markdown",
   "metadata": {
    "id": "jz6a9-7HQUDd"
   },
   "source": [
    "**Выводы**\n",
    "\n",
    "Предобработка обнаружила три проблемы в данных:\n",
    "\n",
    "- нарушения в стиле заголовков,\n",
    "- пропущенные значения,\n",
    "- дубликаты — явные и неявные.\n",
    "\n",
    "Вы исправили заголовки, чтобы упростить работу с таблицей. Без дубликатов исследование станет более точным.\n",
    "\n",
    "Пропущенные значения вы заменили на `'unknown'`. Ещё предстоит увидеть, не повредят ли исследованию пропуски в колонке `genre`.\n",
    "\n",
    "Теперь можно перейти к проверке гипотез. "
   ]
  },
  {
   "cell_type": "markdown",
   "metadata": {
    "id": "WttZHXH0SqKk"
   },
   "source": [
    "## Проверка гипотез"
   ]
  },
  {
   "cell_type": "markdown",
   "metadata": {
    "id": "Im936VVi_Zcu"
   },
   "source": [
    "### Сравнение поведения пользователей двух столиц"
   ]
  },
  {
   "cell_type": "markdown",
   "metadata": {
    "id": "nwt_MuaL_Zcu"
   },
   "source": [
    "Первая гипотеза утверждает, что пользователи по-разному слушают музыку в Москве и Санкт-Петербурге. Проверьте это предположение по данным о трёх днях недели — понедельнике, среде и пятнице. Для этого:\n",
    "\n",
    "* Разделите пользователей Москвы и Санкт-Петербурга\n",
    "* Сравните, сколько треков послушала каждая группа пользователей в понедельник, среду и пятницу.\n"
   ]
  },
  {
   "cell_type": "markdown",
   "metadata": {
    "id": "8Dw_YMmT_Zcu"
   },
   "source": [
    "Для тренировки сначала выполните каждый из расчётов по отдельности. \n",
    "\n",
    "Оцените активность пользователей в каждом городе. Сгруппируйте данные по городу и посчитайте прослушивания в каждой группе.\n",
    "\n",
    "<div class=\"alert alert-info\">\n",
    "<h2> Комментарий студента</h2>\n",
    "\n",
    "Здесь исправил код, для сокращения таблицы добавил ['user_id'].\n",
    "</div>\n",
    "\n"
   ]
  },
  {
   "cell_type": "code",
   "execution_count": 14,
   "metadata": {
    "id": "0_Qs96oh_Zcu"
   },
   "outputs": [
    {
     "data": {
      "text/plain": [
       "city\n",
       "Moscow              42741\n",
       "Saint-Petersburg    18512\n",
       "Name: user_id, dtype: int64"
      ]
     },
     "execution_count": 14,
     "metadata": {},
     "output_type": "execute_result"
    }
   ],
   "source": [
    "df.groupby('city')['user_id'].count()\n",
    "# Подсчёт прослушиваний в каждом городе"
   ]
  },
  {
   "cell_type": "markdown",
   "metadata": {},
   "source": [
    "<div class=\"alert alert-warning\" style=\"border-radius: 15px; box-shadow: 4px 4px 4px; border: 1px solid \">\n",
    "<h2> Комментарий ревьюера</h2>\n",
    "    \n",
    "Как ты можешь заметить, во всех столбцах числа одинаковые. Все потому, что у метода **count** логика одна: посчитать число строк. Так что можно взять просто один столбец:\n",
    "\n",
    "</div>"
   ]
  },
  {
   "cell_type": "code",
   "execution_count": 40,
   "metadata": {},
   "outputs": [
    {
     "data": {
      "text/plain": [
       "city\n",
       "Moscow              42741\n",
       "Saint-Petersburg    18512\n",
       "Name: user_id, dtype: int64"
      ]
     },
     "execution_count": 40,
     "metadata": {},
     "output_type": "execute_result"
    }
   ],
   "source": [
    "# КОД РЕВЬЮЕРА\n",
    "df.groupby('city')['user_id'].count()"
   ]
  },
  {
   "cell_type": "markdown",
   "metadata": {
    "id": "dzli3w8o_Zcu"
   },
   "source": [
    "В Москве прослушиваний больше, чем в Петербурге. Из этого не следует, что московские пользователи чаще слушают музыку. Просто самих пользователей в Москве больше.\n",
    "\n",
    "Теперь сгруппируйте данные по дню недели и подсчитайте прослушивания в понедельник, среду и пятницу. Учтите, что в данных есть информация только о прослушиваниях только за эти дни.\n",
    "\n",
    "<div class=\"alert alert-info\">\n",
    "<h2> Комментарий студента</h2>\n",
    "\n",
    "Здесь исправил код, аналогично предыдущему - для сокращения таблицы добавил ['user_id'].\n",
    "</div>\n"
   ]
  },
  {
   "cell_type": "code",
   "execution_count": 16,
   "metadata": {
    "id": "uZMKjiJz_Zcu"
   },
   "outputs": [
    {
     "data": {
      "text/plain": [
       "day\n",
       "Friday       21840\n",
       "Monday       21354\n",
       "Wednesday    18059\n",
       "Name: user_id, dtype: int64"
      ]
     },
     "execution_count": 16,
     "metadata": {},
     "output_type": "execute_result"
    }
   ],
   "source": [
    "df.groupby('day')['user_id'].count()\n",
    "# Подсчёт прослушиваний в каждый из трёх дней"
   ]
  },
  {
   "cell_type": "markdown",
   "metadata": {},
   "source": [
    "<div class=\"alert alert-warning\" style=\"border-radius: 15px; box-shadow: 4px 4px 4px; border: 1px solid \">\n",
    "<h2> Комментарий ревьюера</h2>\n",
    "    \n",
    "Здесь нам тоже достаточно взять только один столбец, чтобы не выводить дублированную информацию. Кстати, если тебе не нравится вывод через Series, как это сделано в моем предыдущем примере кода, то можно вывод сделать как таблицу, добавив еще одни скобки:\n",
    "</div>\n"
   ]
  },
  {
   "cell_type": "code",
   "execution_count": 41,
   "metadata": {},
   "outputs": [
    {
     "data": {
      "text/html": [
       "<div>\n",
       "<style scoped>\n",
       "    .dataframe tbody tr th:only-of-type {\n",
       "        vertical-align: middle;\n",
       "    }\n",
       "\n",
       "    .dataframe tbody tr th {\n",
       "        vertical-align: top;\n",
       "    }\n",
       "\n",
       "    .dataframe thead th {\n",
       "        text-align: right;\n",
       "    }\n",
       "</style>\n",
       "<table border=\"1\" class=\"dataframe\">\n",
       "  <thead>\n",
       "    <tr style=\"text-align: right;\">\n",
       "      <th></th>\n",
       "      <th>user_id</th>\n",
       "    </tr>\n",
       "    <tr>\n",
       "      <th>day</th>\n",
       "      <th></th>\n",
       "    </tr>\n",
       "  </thead>\n",
       "  <tbody>\n",
       "    <tr>\n",
       "      <td>Friday</td>\n",
       "      <td>21840</td>\n",
       "    </tr>\n",
       "    <tr>\n",
       "      <td>Monday</td>\n",
       "      <td>21354</td>\n",
       "    </tr>\n",
       "    <tr>\n",
       "      <td>Wednesday</td>\n",
       "      <td>18059</td>\n",
       "    </tr>\n",
       "  </tbody>\n",
       "</table>\n",
       "</div>"
      ],
      "text/plain": [
       "           user_id\n",
       "day               \n",
       "Friday       21840\n",
       "Monday       21354\n",
       "Wednesday    18059"
      ]
     },
     "execution_count": 41,
     "metadata": {},
     "output_type": "execute_result"
    }
   ],
   "source": [
    "# КОД РЕВЬЮЕРА\n",
    "\n",
    "df.groupby('day')[['user_id']].count()"
   ]
  },
  {
   "cell_type": "markdown",
   "metadata": {
    "id": "cC2tNrlL_Zcu"
   },
   "source": [
    "В среднем пользователи из двух городов менее активны по средам. Но картина может измениться, если рассмотреть каждый город в отдельности."
   ]
  },
  {
   "cell_type": "markdown",
   "metadata": {
    "id": "POzs8bGa_Zcu"
   },
   "source": [
    "Вы видели, как работает группировка по городу и по дням недели. Теперь напишите функцию, которая объединит два эти расчёта.\n",
    "\n",
    "Создайте функцию `number_tracks()`, которая посчитает прослушивания для заданного дня и города. Ей понадобятся два параметра:\n",
    "* день недели,\n",
    "* название города.\n",
    "\n",
    "В функции сохраните в переменную строки исходной таблицы, у которых значение:\n",
    "  * в колонке `day` равно параметру `day`,\n",
    "  * в колонке `city` равно параметру `city`.\n",
    "\n",
    "Для этого примените последовательную фильтрацию с логической индексацией.\n",
    "\n",
    "Затем посчитайте значения в столбце `user_id` получившейся таблицы. Результат сохраните в новую переменную. Верните эту переменную из функции."
   ]
  },
  {
   "cell_type": "code",
   "execution_count": 20,
   "metadata": {
    "id": "Nz3GdQB1_Zcu"
   },
   "outputs": [],
   "source": [
    "# <создание функции number_tracks()>\n",
    "# Объявляется функция с двумя параметрами: day, city.\n",
    "# В переменной track_list сохраняются те строки таблицы df, для которых \n",
    "# значение в столбце 'day' равно параметру day и одновременно значение\n",
    "# в столбце 'city' равно параметру city (используйте последовательную фильтрацию\n",
    "# с помощью логической индексации).\n",
    "# В переменной track_list_count сохраняется число значений столбца 'user_id',\n",
    "# рассчитанное методом count() для таблицы track_list.\n",
    "# Функция возвращает число - значение track_list_count.\n",
    "\n",
    "def number_tracks(day, city):\n",
    "    track_list = df[(df['day'] == day) & (df['city'] == city)]\n",
    "    track_list_count = track_list['user_id'].count()\n",
    "    return track_list_count\n",
    "    \n",
    "# Функция для подсчёта прослушиваний для конкретного города и дня.\n",
    "# С помощью последовательной фильтрации с логической индексацией она \n",
    "# сначала получит из исходной таблицы строки с нужным днём,\n",
    "# затем из результата отфильтрует строки с нужным городом,\n",
    "# методом count() посчитает количество значений в колонке user_id. \n",
    "# Это количество функция вернёт в качестве результата"
   ]
  },
  {
   "cell_type": "markdown",
   "metadata": {
    "id": "ytf7xFrFJQ2r"
   },
   "source": [
    "Вызовите `number_tracks()` шесть раз, меняя значение параметров — так, чтобы получить данные для каждого города в каждый из трёх дней."
   ]
  },
  {
   "cell_type": "code",
   "execution_count": 21,
   "metadata": {
    "id": "rJcRATNQ_Zcu"
   },
   "outputs": [
    {
     "data": {
      "text/plain": [
       "15740"
      ]
     },
     "execution_count": 21,
     "metadata": {},
     "output_type": "execute_result"
    }
   ],
   "source": [
    "number_tracks('Monday', 'Moscow') \n",
    "# количество прослушиваний в Москве по понедельникам"
   ]
  },
  {
   "cell_type": "code",
   "execution_count": 22,
   "metadata": {
    "id": "hq_ncZ5T_Zcu"
   },
   "outputs": [
    {
     "data": {
      "text/plain": [
       "5614"
      ]
     },
     "execution_count": 22,
     "metadata": {},
     "output_type": "execute_result"
    }
   ],
   "source": [
    "number_tracks('Monday', 'Saint-Petersburg') \n",
    "# количество прослушиваний в Санкт-Петербурге по понедельникам"
   ]
  },
  {
   "cell_type": "code",
   "execution_count": 23,
   "metadata": {
    "id": "_NTy2VPU_Zcu"
   },
   "outputs": [
    {
     "data": {
      "text/plain": [
       "11056"
      ]
     },
     "execution_count": 23,
     "metadata": {},
     "output_type": "execute_result"
    }
   ],
   "source": [
    "number_tracks('Wednesday', 'Moscow') \n",
    "# количество прослушиваний в Москве по средам"
   ]
  },
  {
   "cell_type": "code",
   "execution_count": 24,
   "metadata": {
    "id": "j2y3TAwo_Zcu"
   },
   "outputs": [
    {
     "data": {
      "text/plain": [
       "7003"
      ]
     },
     "execution_count": 24,
     "metadata": {},
     "output_type": "execute_result"
    }
   ],
   "source": [
    "number_tracks('Wednesday', 'Saint-Petersburg') \n",
    "# количество прослушиваний в Санкт-Петербурге по средам"
   ]
  },
  {
   "cell_type": "code",
   "execution_count": 25,
   "metadata": {
    "id": "vYDw5u_K_Zcu"
   },
   "outputs": [
    {
     "data": {
      "text/plain": [
       "15945"
      ]
     },
     "execution_count": 25,
     "metadata": {},
     "output_type": "execute_result"
    }
   ],
   "source": [
    "number_tracks('Friday', 'Moscow')\n",
    "# количество прослушиваний в Москве по пятницам"
   ]
  },
  {
   "cell_type": "code",
   "execution_count": 26,
   "metadata": {
    "id": "8_yzFtW3_Zcu"
   },
   "outputs": [
    {
     "data": {
      "text/plain": [
       "5895"
      ]
     },
     "execution_count": 26,
     "metadata": {},
     "output_type": "execute_result"
    }
   ],
   "source": [
    "number_tracks('Friday', 'Saint-Petersburg')\n",
    "# количество прослушиваний в Санкт-Петербурге по пятницам"
   ]
  },
  {
   "cell_type": "markdown",
   "metadata": {
    "id": "7QXffbO-_Zcu"
   },
   "source": [
    "Создайте c помощью конструктора `pd.DataFrame` таблицу, где\n",
    "* названия колонок — `['city', 'monday', 'wednesday', 'friday']`;\n",
    "* данные — результаты, которые вы получили с помощью `number_tracks`."
   ]
  },
  {
   "cell_type": "code",
   "execution_count": 27,
   "metadata": {
    "id": "APAcLpOr_Zcu"
   },
   "outputs": [
    {
     "data": {
      "text/html": [
       "<div>\n",
       "<style scoped>\n",
       "    .dataframe tbody tr th:only-of-type {\n",
       "        vertical-align: middle;\n",
       "    }\n",
       "\n",
       "    .dataframe tbody tr th {\n",
       "        vertical-align: top;\n",
       "    }\n",
       "\n",
       "    .dataframe thead th {\n",
       "        text-align: right;\n",
       "    }\n",
       "</style>\n",
       "<table border=\"1\" class=\"dataframe\">\n",
       "  <thead>\n",
       "    <tr style=\"text-align: right;\">\n",
       "      <th></th>\n",
       "      <th>city</th>\n",
       "      <th>monday</th>\n",
       "      <th>wednesday</th>\n",
       "      <th>friday</th>\n",
       "    </tr>\n",
       "  </thead>\n",
       "  <tbody>\n",
       "    <tr>\n",
       "      <td>0</td>\n",
       "      <td>Moscow</td>\n",
       "      <td>15740</td>\n",
       "      <td>11056</td>\n",
       "      <td>15945</td>\n",
       "    </tr>\n",
       "    <tr>\n",
       "      <td>1</td>\n",
       "      <td>Saint-Petersburg</td>\n",
       "      <td>5614</td>\n",
       "      <td>7003</td>\n",
       "      <td>5895</td>\n",
       "    </tr>\n",
       "  </tbody>\n",
       "</table>\n",
       "</div>"
      ],
      "text/plain": [
       "               city  monday  wednesday  friday\n",
       "0            Moscow   15740      11056   15945\n",
       "1  Saint-Petersburg    5614       7003    5895"
      ]
     },
     "metadata": {},
     "output_type": "display_data"
    }
   ],
   "source": [
    "number_tracks_data = [\n",
    "    ['Moscow', 15740, 11056, 15945],\n",
    "    ['Saint-Petersburg', 5614, 7003, 5895]\n",
    "]\n",
    "columns = ['city', 'monday', 'wednesday', 'friday']\n",
    "\n",
    "table_with_results = pd.DataFrame(data = number_tracks_data, columns = columns) \n",
    "\n",
    "# Таблица с результатами\n",
    "\n",
    "display(table_with_results)"
   ]
  },
  {
   "cell_type": "markdown",
   "metadata": {},
   "source": [
    "<div class=\"alert alert-success\" style=\"border-radius: 15px; box-shadow: 4px 4px 4px; border: 1px solid \">\n",
    "<h2> Комментарий ревьюера</h2>\n",
    "    \n",
    "Все значения верные.\n",
    "</div>"
   ]
  },
  {
   "cell_type": "markdown",
   "metadata": {
    "id": "-EgPIHYu_Zcu"
   },
   "source": [
    "**Выводы**\n",
    "\n",
    "Данные показывают разницу поведения пользователей:\n",
    "\n",
    "- В Москве пик прослушиваний приходится на понедельник и пятницу, а в среду заметен спад.\n",
    "- В Петербурге, наоборот, больше слушают музыку по средам. Активность в понедельник и пятницу здесь почти в равной мере уступает среде.\n",
    "\n",
    "Значит, данные говорят в пользу первой гипотезы."
   ]
  },
  {
   "cell_type": "markdown",
   "metadata": {
    "id": "atZAxtq4_Zcu"
   },
   "source": [
    "### Музыка в начале и в конце недели"
   ]
  },
  {
   "cell_type": "markdown",
   "metadata": {
    "id": "eXrQqXFH_Zcu"
   },
   "source": [
    "Согласно второй гипотезе, утром в понедельник в Москве преобладают одни жанры, а в Петербурге — другие. Так же и вечером пятницы преобладают разные жанры — в зависимости от города."
   ]
  },
  {
   "cell_type": "markdown",
   "metadata": {
    "id": "S8UcW6Hw_Zcu"
   },
   "source": [
    "Сохраните таблицы с данными в две переменные:\n",
    "* по Москве — в `moscow_general`;\n",
    "* по Санкт-Петербургу — в `spb_general`."
   ]
  },
  {
   "cell_type": "code",
   "execution_count": 28,
   "metadata": {
    "id": "qeaFfM_P_Zcu"
   },
   "outputs": [],
   "source": [
    "# получение таблицы moscow_general из тех строк таблицы df, \n",
    "# для которых значение в столбце 'city' равно 'Moscow'\n",
    "\n",
    "moscow_general = df[df['city'] == 'Moscow']"
   ]
  },
  {
   "cell_type": "code",
   "execution_count": 29,
   "metadata": {
    "id": "ORaVRKto_Zcu"
   },
   "outputs": [],
   "source": [
    "# получение таблицы spb_general из тех строк таблицы df,\n",
    "# для которых значение в столбце 'city' равно 'Saint-Petersburg'\n",
    "\n",
    "spb_general = df[df['city'] == 'Saint-Petersburg']"
   ]
  },
  {
   "cell_type": "markdown",
   "metadata": {
    "id": "MEJV-CX2_Zcu"
   },
   "source": [
    "Создайте функцию `genre_weekday()` с четырьмя параметрами:\n",
    "* таблица (датафрейм) с данными,\n",
    "* день недели,\n",
    "* начальная временная метка в формате 'hh:mm', \n",
    "* последняя временная метка в формате 'hh:mm'.\n",
    "\n",
    "Функция должна вернуть информацию о топ-10 жанров тех треков, которые прослушивали в указанный день, в промежутке между двумя отметками времени."
   ]
  },
  {
   "cell_type": "code",
   "execution_count": 30,
   "metadata": {
    "id": "laJT9BYl_Zcu"
   },
   "outputs": [],
   "source": [
    "# Объявление функции genre_weekday() с параметрами table, day, time1, time2,\n",
    "# которая возвращает информацию о самых популярных жанрах в указанный день в\n",
    "# заданное время:\n",
    "# 1) в переменную genre_df сохраняются те строки переданного датафрейма table, для\n",
    "#    которых одновременно:\n",
    "#    - значение в столбце day равно значению аргумента day\n",
    "#    - значение в столбце time больше значения аргумента time1\n",
    "#    - значение в столбце time меньше значения аргумента time2\n",
    "#    Используйте последовательную фильтрацию с помощью логической индексации.\n",
    "\n",
    "def genre_weekday(table, day, time1, time2):\n",
    "    genre_df = table[(table['day'] == day) & (table['time'] > time1) & (table['time'] < time2)]\n",
    "\n",
    "# 2) сгруппировать датафрейм genre_df по столбцу genre, взять один из его\n",
    "#    столбцов и посчитать методом count() количество записей для каждого из\n",
    "#    присутствующих жанров, получившийся Series записать в переменную\n",
    "#    genre_df_count\n",
    "\n",
    "    genre_df_count = genre_df.groupby('genre')['genre'].count()\n",
    "\n",
    "# 3) отсортировать genre_df_count по убыванию встречаемости и сохранить\n",
    "#    в переменную genre_df_sorted\n",
    "\n",
    "    genre_df_sorted = genre_df_count.sort_values(ascending=False)\n",
    "\n",
    "# 4) вернуть Series из 10 первых значений genre_df_sorted, это будут топ-10\n",
    "#    популярных жанров (в указанный день, в заданное время)\n",
    "   \n",
    "    return genre_df_sorted.head(10)"
   ]
  },
  {
   "cell_type": "markdown",
   "metadata": {
    "id": "la2s2_PF_Zcu"
   },
   "source": [
    "Cравните результаты функции `genre_weekday()` для Москвы и Санкт-Петербурга в понедельник утром (с 7:00 до 11:00) и в пятницу вечером (с 17:00 до 23:00):"
   ]
  },
  {
   "cell_type": "code",
   "execution_count": 31,
   "metadata": {
    "id": "yz7itPUQ_Zcu"
   },
   "outputs": [
    {
     "data": {
      "text/plain": [
       "genre\n",
       "pop            781\n",
       "dance          549\n",
       "electronic     480\n",
       "rock           474\n",
       "hiphop         286\n",
       "ruspop         186\n",
       "world          181\n",
       "rusrap         175\n",
       "alternative    164\n",
       "unknown        161\n",
       "Name: genre, dtype: int64"
      ]
     },
     "execution_count": 31,
     "metadata": {},
     "output_type": "execute_result"
    }
   ],
   "source": [
    "# вызов функции для утра понедельника в Москве (вместо df — таблица moscow_general)\n",
    "# объекты, хранящие время, являются строками и сравниваются как строки\n",
    "# пример вызова: genre_weekday(moscow_general, 'Monday', '07:00', '11:00')\n",
    "\n",
    "genre_weekday(moscow_general, 'Monday', '07:00', '11:00')\n"
   ]
  },
  {
   "cell_type": "code",
   "execution_count": 32,
   "metadata": {
    "id": "kwUcHPdy_Zcu"
   },
   "outputs": [
    {
     "data": {
      "text/plain": [
       "genre\n",
       "pop            218\n",
       "dance          182\n",
       "rock           162\n",
       "electronic     147\n",
       "hiphop          80\n",
       "ruspop          64\n",
       "alternative     58\n",
       "rusrap          55\n",
       "jazz            44\n",
       "classical       40\n",
       "Name: genre, dtype: int64"
      ]
     },
     "execution_count": 32,
     "metadata": {},
     "output_type": "execute_result"
    }
   ],
   "source": [
    "genre_weekday(spb_general, 'Monday', '07:00', '11:00')\n",
    "\n",
    "# вызов функции для утра понедельника в Петербурге (вместо df — таблица spb_general)"
   ]
  },
  {
   "cell_type": "code",
   "execution_count": 33,
   "metadata": {
    "id": "EzXVRE1o_Zcu"
   },
   "outputs": [
    {
     "data": {
      "text/plain": [
       "genre\n",
       "pop            713\n",
       "rock           517\n",
       "dance          495\n",
       "electronic     482\n",
       "hiphop         273\n",
       "world          208\n",
       "ruspop         170\n",
       "alternative    163\n",
       "classical      163\n",
       "rusrap         142\n",
       "Name: genre, dtype: int64"
      ]
     },
     "execution_count": 33,
     "metadata": {},
     "output_type": "execute_result"
    }
   ],
   "source": [
    "genre_weekday(moscow_general, 'Friday', '17:00', '23:00')\n",
    "\n",
    "# вызов функции для вечера пятницы в Москве"
   ]
  },
  {
   "cell_type": "code",
   "execution_count": 34,
   "metadata": {
    "id": "JZaEKu5v_Zcu"
   },
   "outputs": [
    {
     "data": {
      "text/plain": [
       "genre\n",
       "pop            256\n",
       "rock           216\n",
       "electronic     216\n",
       "dance          210\n",
       "hiphop          97\n",
       "alternative     63\n",
       "jazz            61\n",
       "classical       60\n",
       "rusrap          59\n",
       "world           54\n",
       "Name: genre, dtype: int64"
      ]
     },
     "execution_count": 34,
     "metadata": {},
     "output_type": "execute_result"
    }
   ],
   "source": [
    "genre_weekday(spb_general, 'Friday', '17:00', '23:00')\n",
    "\n",
    "# вызов функции для вечера пятницы в Петербурге"
   ]
  },
  {
   "cell_type": "markdown",
   "metadata": {
    "id": "wrCe4MNX_Zcu"
   },
   "source": [
    "**Выводы**\n",
    "\n",
    "Если сравнить топ-10 жанров в понедельник утром, можно сделать такие выводы:\n",
    "\n",
    "1. В Москве и Петербурге слушают похожую музыку. Единственное отличие — в московский рейтинг вошёл жанр “world”, а в петербургский — джаз и классика.\n",
    "\n",
    "2. В Москве пропущенных значений оказалось так много, что значение `'unknown'` заняло десятое место среди самых популярных жанров. Значит, пропущенные значения занимают существенную долю в данных и угрожают достоверности исследования.\n",
    "\n",
    "Вечер пятницы не меняет эту картину. Некоторые жанры поднимаются немного выше, другие спускаются, но в целом топ-10 остаётся тем же самым.\n",
    "\n",
    "Таким образом, вторая гипотеза подтвердилась лишь частично:\n",
    "* Пользователи слушают похожую музыку в начале недели и в конце.\n",
    "* Разница между Москвой и Петербургом не слишком выражена. В Москве чаще слушают русскую популярную музыку, в Петербурге — джаз.\n",
    "\n",
    "Однако пропуски в данных ставят под сомнение этот результат. В Москве их так много, что рейтинг топ-10 мог бы выглядеть иначе, если бы не утерянные  данные о жанрах."
   ]
  },
  {
   "cell_type": "markdown",
   "metadata": {
    "id": "JolODAqr_Zcu"
   },
   "source": [
    "### Жанровые предпочтения в Москве и Петербурге\n",
    "\n",
    "Гипотеза: Петербург — столица рэпа, музыку этого жанра там слушают чаще, чем в Москве.  А Москва — город контрастов, в котором, тем не менее, преобладает поп-музыка."
   ]
  },
  {
   "cell_type": "markdown",
   "metadata": {
    "id": "DlegSvaT_Zcu"
   },
   "source": [
    "Сгруппируйте таблицу `moscow_general` по жанру и посчитайте прослушивания треков каждого жанра методом `count()`. Затем отсортируйте результат в порядке убывания и сохраните его в таблице `moscow_genres`."
   ]
  },
  {
   "cell_type": "code",
   "execution_count": 35,
   "metadata": {
    "id": "r19lIPke_Zcu"
   },
   "outputs": [],
   "source": [
    "moscow_genres = moscow_general.groupby('genre')['genre'].count().sort_values(ascending=False)\n",
    "\n",
    "# одной строкой: группировка таблицы moscow_general по столбцу 'genre', \n",
    "# подсчёт числа значений 'genre' в этой группировке методом count(), \n",
    "# сортировка получившегося Series в порядке убывания и сохранение в moscow_genres"
   ]
  },
  {
   "cell_type": "markdown",
   "metadata": {
    "id": "6kMuomxTiIr8"
   },
   "source": [
    "Выведите на экран первые десять строк `moscow_genres`:"
   ]
  },
  {
   "cell_type": "code",
   "execution_count": 36,
   "metadata": {
    "id": "WhCSooF8_Zcv"
   },
   "outputs": [
    {
     "data": {
      "text/plain": [
       "genre\n",
       "pop            5892\n",
       "dance          4435\n",
       "rock           3965\n",
       "electronic     3786\n",
       "hiphop         2096\n",
       "classical      1616\n",
       "world          1432\n",
       "alternative    1379\n",
       "ruspop         1372\n",
       "rusrap         1161\n",
       "Name: genre, dtype: int64"
      ]
     },
     "metadata": {},
     "output_type": "display_data"
    }
   ],
   "source": [
    "display(moscow_genres.head(10))\n",
    "\n",
    "#просмотр первых 10 строк moscow_genres"
   ]
  },
  {
   "cell_type": "markdown",
   "metadata": {},
   "source": [
    "<div class=\"alert alert-success\" style=\"border-radius: 15px; box-shadow: 4px 4px 4px; border: 1px solid \">\n",
    "<h2> Комментарий ревьюера</h2>\n",
    "    \n",
    "Можно и это вывести как таблицу с помощью метода **to_frame**:\n",
    "\n",
    "</div>"
   ]
  },
  {
   "cell_type": "code",
   "execution_count": 42,
   "metadata": {},
   "outputs": [
    {
     "data": {
      "text/html": [
       "<div>\n",
       "<style scoped>\n",
       "    .dataframe tbody tr th:only-of-type {\n",
       "        vertical-align: middle;\n",
       "    }\n",
       "\n",
       "    .dataframe tbody tr th {\n",
       "        vertical-align: top;\n",
       "    }\n",
       "\n",
       "    .dataframe thead th {\n",
       "        text-align: right;\n",
       "    }\n",
       "</style>\n",
       "<table border=\"1\" class=\"dataframe\">\n",
       "  <thead>\n",
       "    <tr style=\"text-align: right;\">\n",
       "      <th></th>\n",
       "      <th>genre</th>\n",
       "    </tr>\n",
       "    <tr>\n",
       "      <th>genre</th>\n",
       "      <th></th>\n",
       "    </tr>\n",
       "  </thead>\n",
       "  <tbody>\n",
       "    <tr>\n",
       "      <td>pop</td>\n",
       "      <td>5892</td>\n",
       "    </tr>\n",
       "    <tr>\n",
       "      <td>dance</td>\n",
       "      <td>4435</td>\n",
       "    </tr>\n",
       "    <tr>\n",
       "      <td>rock</td>\n",
       "      <td>3965</td>\n",
       "    </tr>\n",
       "    <tr>\n",
       "      <td>electronic</td>\n",
       "      <td>3786</td>\n",
       "    </tr>\n",
       "    <tr>\n",
       "      <td>hiphop</td>\n",
       "      <td>2096</td>\n",
       "    </tr>\n",
       "    <tr>\n",
       "      <td>classical</td>\n",
       "      <td>1616</td>\n",
       "    </tr>\n",
       "    <tr>\n",
       "      <td>world</td>\n",
       "      <td>1432</td>\n",
       "    </tr>\n",
       "    <tr>\n",
       "      <td>alternative</td>\n",
       "      <td>1379</td>\n",
       "    </tr>\n",
       "    <tr>\n",
       "      <td>ruspop</td>\n",
       "      <td>1372</td>\n",
       "    </tr>\n",
       "    <tr>\n",
       "      <td>rusrap</td>\n",
       "      <td>1161</td>\n",
       "    </tr>\n",
       "  </tbody>\n",
       "</table>\n",
       "</div>"
      ],
      "text/plain": [
       "             genre\n",
       "genre             \n",
       "pop           5892\n",
       "dance         4435\n",
       "rock          3965\n",
       "electronic    3786\n",
       "hiphop        2096\n",
       "classical     1616\n",
       "world         1432\n",
       "alternative   1379\n",
       "ruspop        1372\n",
       "rusrap        1161"
      ]
     },
     "execution_count": 42,
     "metadata": {},
     "output_type": "execute_result"
    }
   ],
   "source": [
    "# КОД РЕВЬЮЕРА\n",
    "\n",
    "moscow_genres.to_frame().head(10)"
   ]
  },
  {
   "cell_type": "markdown",
   "metadata": {
    "id": "cnPG2vnN_Zcv"
   },
   "source": [
    "Теперь повторите то же и для Петербурга.\n",
    "\n",
    "Сгруппируйте таблицу `spb_general` по жанру. Посчитайте прослушивания треков каждого жанра. Результат отсортируйте в порядке убывания и сохраните в таблице `spb_genres`:\n"
   ]
  },
  {
   "cell_type": "code",
   "execution_count": 37,
   "metadata": {
    "id": "gluLIpE7_Zcv"
   },
   "outputs": [],
   "source": [
    "spb_genres = spb_general.groupby('genre')['genre'].count().sort_values(ascending=False)\n",
    "\n",
    "# одной строкой: группировка таблицы spb_general по столбцу 'genre', \n",
    "# подсчёт числа значений 'genre' в этой группировке методом count(), \n",
    "# сортировка получившегося Series в порядке убывания и сохранение в spb_genres"
   ]
  },
  {
   "cell_type": "markdown",
   "metadata": {
    "id": "5Doha_ODgyQ8"
   },
   "source": [
    "Выведите на экран первые десять строк `spb_genres`:"
   ]
  },
  {
   "cell_type": "code",
   "execution_count": 38,
   "metadata": {
    "id": "uaGJHjVU_Zcv"
   },
   "outputs": [
    {
     "data": {
      "text/plain": [
       "genre\n",
       "pop            2431\n",
       "dance          1932\n",
       "rock           1879\n",
       "electronic     1736\n",
       "hiphop          960\n",
       "alternative     649\n",
       "classical       646\n",
       "rusrap          564\n",
       "ruspop          538\n",
       "world           515\n",
       "Name: genre, dtype: int64"
      ]
     },
     "metadata": {},
     "output_type": "display_data"
    }
   ],
   "source": [
    "display(spb_genres.head(10))\n",
    "\n",
    "# просмотр первых 10 строк spb_genres"
   ]
  },
  {
   "cell_type": "markdown",
   "metadata": {
    "id": "RY51YJYu_Zcv"
   },
   "source": [
    "**Выводы**"
   ]
  },
  {
   "cell_type": "markdown",
   "metadata": {
    "id": "nVhnJEm__Zcv"
   },
   "source": [
    "Гипотеза частично подтвердилась:\n",
    "* Поп-музыка — самый популярный жанр в Москве, как и предполагала гипотеза. Более того, в топ-10 жанров встречается близкий жанр — русская популярная музыка.\n",
    "* Вопреки ожиданиям, рэп одинаково популярен в Москве и Петербурге. \n"
   ]
  },
  {
   "cell_type": "markdown",
   "metadata": {
    "id": "ykKQ0N65_Zcv"
   },
   "source": [
    "## Итоги исследования"
   ]
  },
  {
   "cell_type": "markdown",
   "metadata": {
    "id": "tjUwbHb3_Zcv"
   },
   "source": [
    "Вы проверили три гипотезы и установили:\n",
    "\n",
    "1. День недели по-разному влияет на активность пользователей в Москве и Петербурге. \n",
    "\n",
    "Первая гипотеза полностью подтвердилась.\n",
    "\n",
    "2. Музыкальные предпочтения не сильно меняются в течение недели — будь то Москва или Петербург. Небольшие различия заметны в начале недели, по понедельникам:\n",
    "* в Москве слушают музыку жанра “world”,\n",
    "* в Петербурге — джаз и классику.\n",
    "\n",
    "Таким образом, вторая гипотеза подтвердилась лишь отчасти. Этот результат мог оказаться иным, если бы не пропуски в данных.\n",
    "\n",
    "3. Во вкусах пользователей Москвы и Петербурга больше общего чем различий. Вопреки ожиданиям, предпочтения жанров в Петербурге напоминают московские.\n",
    "\n",
    "Третья гипотеза не подтвердилась. Если различия в предпочтениях и существуют, на основной массе пользователей они незаметны.\n",
    "\n",
    "**На практике исследования содержат проверки статистических гипотез.**\n",
    "Из данных одного сервиса не всегда можно сделать вывод о всех жителях города.\n",
    "Проверки статистических гипотез покажут, насколько они достоверны, исходя из имеющихся данных. \n",
    "С методами проверок гипотез вы ещё познакомитесь в следующих темах.\n",
    "\n",
    "<div class=\"alert alert-info\">\n",
    "<h2> Комментарий студента</h2>\n",
    "\n",
    "То, что нужно вписывать свой вывод, тоже не понял во время выполнения проекта.\n",
    "    \n",
    "Во время выполнения проекта данные меня смущали. Вот что я имею в виду:   \n",
    " \n",
    "В столбце музыкальных жанров есть и хип-хоп, и русский рэп, например, т.е. здесь тонкая градация жанров. А есть \"afrika\", например, т.е. вся музыка целого континента даже без привязки ко времени её создания и без учёта хоть какого-то признака. Тут же \"жанры\" 'top', 'old' и прочие. Где-то нарезано тонко, а где-то ну очень грубо. Это как, например, цвета: персиковый, охра, лиловый, пурпурный, фиолетовый, розовый, коралловый, сиреневый, синий, чёрный, зелёный, тёмный. - Часть списка - тонкая нарезка (пурпурный), часть грубая (зелёный), а часть вообще цветом не является (тёмный).\n",
    "В списках жанров в данных есть \"жанр\" Love Planet. Это же не жанр, а некая характеристика. Довольно давно были популярны музыкальные сборники Romantic Collection. Спектр жанров там был довольно широкий, были группы: R.E.M, Metallica, Enigma, Cris Rea, Elton John и пр., в основном что-нибудь типа Scorpions. Т.е., \"жанр\" Love Planet - это довольно грубая характеристика, очень мало что описывающая, и жанром вообще не являющаяся.\n",
    "\n",
    "Если взять только топовые жанры из итоговых таблиц.\n",
    "Существуют ли значимые различия в жанрах dance и ruspop; dance и electronic; ruspop и pop; alternative и rock; hiphop и rusrap? По какому принципу эти жанры разделены, и по какому принципу объединены в эти жанры? Классификация и градация неоднозначна, спорна, груба, допускает случайности и неоднозначности. \n",
    "Такая же картина по всем жанрам.\n",
    "    \n",
    "Неизвестен способ сбора информации по геоданным пользователя, таким образом, конечный вывод может сильно искажаться. Есть Москва, а есть большая Москва (или пишется Большая Москва?) - музыкальные вкусы Реутова и Китайгорода, мне кажется, могут сильно различаться. А ещё есть Московский вокзал в СПб и Ленинградский вокзал в Москве. Если данные собраны от пользователей в таких геоточках, то реальная итоговая картина может быть прямопротивоположной полученной в этом исследовании. Здесь та же проблема слишком неопределённого понятия, слишком широкие границы по геоданным.\n",
    "+    \n",
    "+     \n",
    "+\n",
    "+    \n",
    "ВЫВОД.\n",
    "    \n",
    "В условиях проекта сильно упощённые данные, не позволяющие делать какие бы то ни было серьёзные исследования и выводы для реального бизнеса. В том числе, нет данных по демографии пользователей, используемым устройствам для прослушивания музыки, длительности прослушивания каждого трека. Используются данные, способные кардинально исказить итоговый результат исследования: классификация жанров, геоданные.\n",
    "    \n",
    "Я осознаю, что это учебный проект с учебными данными. Если требуется вывод к проекту, то мой вывод таков.\n",
    "    \n",
    "По моему мнению, до работы с такими данными их нужно долго обрабатывать, или строить механизм получения более корректных данных, введение внутренних обозначений жанров, введение более чёткой классификации и пр.\n",
    "    \n",
    "</div>"
   ]
  },
  {
   "cell_type": "markdown",
   "metadata": {},
   "source": [
    "<div class=\"alert alert-success\" style=\"border-radius: 15px; box-shadow: 4px 4px 4px; border: 1px solid \">\n",
    "<h2> Комментарий ревьюера 2</h2>\n",
    "    \n",
    "Прекрасный вывод! Все верно сказано, согласна со всем.\n",
    "\n",
    "</div>\n",
    "<div class=\"alert alert-success\" style=\"border-radius: 15px; box-shadow: 4px 4px 4px; border: 1px solid \">\n",
    "<b> Комментарий ревьюера</b>\n",
    "    \n",
    "Общий вывод это очень важно. Зачастую подобные задачи заканчиваются составлением презентаций или отчетов для заказчика. Поэтому все результаты нужно описывать в общем выводе. В идеале надо подкреплять его полученными ранее значениями. Так что рекомендую  во всех следующих проектах не забывать о нем :) \n",
    "\n",
    "</div>"
   ]
  },
  {
   "cell_type": "code",
   "execution_count": null,
   "metadata": {},
   "outputs": [],
   "source": []
  }
 ],
 "metadata": {
  "ExecuteTimeLog": [
   {
    "duration": 766,
    "start_time": "2021-10-27T18:17:32.336Z"
   },
   {
    "duration": 4,
    "start_time": "2021-10-27T18:17:38.306Z"
   },
   {
    "duration": 121,
    "start_time": "2021-10-27T18:21:44.192Z"
   },
   {
    "duration": 194,
    "start_time": "2021-10-27T18:22:24.342Z"
   },
   {
    "duration": 528,
    "start_time": "2021-10-27T18:23:32.628Z"
   },
   {
    "duration": 27,
    "start_time": "2021-10-27T18:23:47.696Z"
   },
   {
    "duration": 33,
    "start_time": "2021-10-27T18:24:27.287Z"
   },
   {
    "duration": 6,
    "start_time": "2021-10-27T18:28:30.594Z"
   },
   {
    "duration": 34,
    "start_time": "2021-10-27T18:34:57.009Z"
   },
   {
    "duration": 6,
    "start_time": "2021-10-27T18:35:15.592Z"
   },
   {
    "duration": 30,
    "start_time": "2021-10-27T18:36:30.517Z"
   },
   {
    "duration": 5,
    "start_time": "2021-10-27T18:36:37.576Z"
   },
   {
    "duration": 50,
    "start_time": "2021-10-27T18:37:53.206Z"
   },
   {
    "duration": 8810,
    "start_time": "2021-10-27T18:43:44.270Z"
   },
   {
    "duration": 9034,
    "start_time": "2021-10-27T18:45:35.534Z"
   },
   {
    "duration": 8666,
    "start_time": "2021-10-27T18:53:21.333Z"
   },
   {
    "duration": 30,
    "start_time": "2021-10-27T18:53:50.439Z"
   },
   {
    "duration": 9251,
    "start_time": "2021-10-27T18:54:25.998Z"
   },
   {
    "duration": 9313,
    "start_time": "2021-10-27T18:56:19.271Z"
   },
   {
    "duration": 9062,
    "start_time": "2021-10-27T18:58:02.015Z"
   },
   {
    "duration": 9840,
    "start_time": "2021-10-27T19:07:23.554Z"
   },
   {
    "duration": 8824,
    "start_time": "2021-10-27T19:08:06.343Z"
   },
   {
    "duration": 9104,
    "start_time": "2021-10-27T19:08:24.485Z"
   },
   {
    "duration": 775,
    "start_time": "2021-10-27T19:11:52.014Z"
   },
   {
    "duration": 195,
    "start_time": "2021-10-27T19:11:52.792Z"
   },
   {
    "duration": 29,
    "start_time": "2021-10-27T19:11:52.990Z"
   },
   {
    "duration": 35,
    "start_time": "2021-10-27T19:11:53.022Z"
   },
   {
    "duration": 6,
    "start_time": "2021-10-27T19:11:53.060Z"
   },
   {
    "duration": 30,
    "start_time": "2021-10-27T19:11:53.101Z"
   },
   {
    "duration": 8,
    "start_time": "2021-10-27T19:11:53.134Z"
   },
   {
    "duration": 56,
    "start_time": "2021-10-27T19:11:53.146Z"
   },
   {
    "duration": 9527,
    "start_time": "2021-10-27T19:11:53.206Z"
   },
   {
    "duration": 3682,
    "start_time": "2021-10-27T19:11:59.056Z"
   },
   {
    "duration": 3678,
    "start_time": "2021-10-27T19:11:59.061Z"
   },
   {
    "duration": 3676,
    "start_time": "2021-10-27T19:11:59.065Z"
   },
   {
    "duration": 3669,
    "start_time": "2021-10-27T19:11:59.074Z"
   },
   {
    "duration": 3667,
    "start_time": "2021-10-27T19:11:59.077Z"
   },
   {
    "duration": 3664,
    "start_time": "2021-10-27T19:11:59.081Z"
   },
   {
    "duration": 3659,
    "start_time": "2021-10-27T19:11:59.088Z"
   },
   {
    "duration": 3657,
    "start_time": "2021-10-27T19:11:59.091Z"
   },
   {
    "duration": 3654,
    "start_time": "2021-10-27T19:11:59.095Z"
   },
   {
    "duration": 3648,
    "start_time": "2021-10-27T19:11:59.103Z"
   },
   {
    "duration": 3645,
    "start_time": "2021-10-27T19:11:59.107Z"
   },
   {
    "duration": 3645,
    "start_time": "2021-10-27T19:11:59.109Z"
   },
   {
    "duration": 3643,
    "start_time": "2021-10-27T19:11:59.112Z"
   },
   {
    "duration": 3636,
    "start_time": "2021-10-27T19:11:59.120Z"
   },
   {
    "duration": 3635,
    "start_time": "2021-10-27T19:11:59.123Z"
   },
   {
    "duration": 3634,
    "start_time": "2021-10-27T19:11:59.125Z"
   },
   {
    "duration": 3631,
    "start_time": "2021-10-27T19:11:59.129Z"
   },
   {
    "duration": 3626,
    "start_time": "2021-10-27T19:11:59.136Z"
   },
   {
    "duration": 3625,
    "start_time": "2021-10-27T19:11:59.139Z"
   },
   {
    "duration": 3625,
    "start_time": "2021-10-27T19:11:59.140Z"
   },
   {
    "duration": 3623,
    "start_time": "2021-10-27T19:11:59.143Z"
   },
   {
    "duration": 3618,
    "start_time": "2021-10-27T19:11:59.150Z"
   },
   {
    "duration": 3617,
    "start_time": "2021-10-27T19:11:59.153Z"
   },
   {
    "duration": 3643,
    "start_time": "2021-10-27T19:11:59.156Z"
   },
   {
    "duration": 3644,
    "start_time": "2021-10-27T19:11:59.158Z"
   },
   {
    "duration": 3643,
    "start_time": "2021-10-27T19:11:59.160Z"
   },
   {
    "duration": 3637,
    "start_time": "2021-10-27T19:11:59.167Z"
   },
   {
    "duration": 3636,
    "start_time": "2021-10-27T19:11:59.170Z"
   },
   {
    "duration": 3634,
    "start_time": "2021-10-27T19:11:59.173Z"
   },
   {
    "duration": 9788,
    "start_time": "2021-10-27T19:13:45.317Z"
   },
   {
    "duration": 11014,
    "start_time": "2021-10-27T19:15:06.205Z"
   },
   {
    "duration": 27,
    "start_time": "2021-10-27T19:15:31.370Z"
   },
   {
    "duration": 8944,
    "start_time": "2021-10-27T19:15:49.443Z"
   },
   {
    "duration": 8543,
    "start_time": "2021-10-27T19:24:08.435Z"
   },
   {
    "duration": 121,
    "start_time": "2021-10-27T19:24:32.348Z"
   },
   {
    "duration": 8848,
    "start_time": "2021-10-27T19:30:48.305Z"
   },
   {
    "duration": 760,
    "start_time": "2021-10-27T19:31:12.024Z"
   },
   {
    "duration": 205,
    "start_time": "2021-10-27T19:31:12.787Z"
   },
   {
    "duration": 29,
    "start_time": "2021-10-27T19:31:12.996Z"
   },
   {
    "duration": 43,
    "start_time": "2021-10-27T19:31:13.027Z"
   },
   {
    "duration": 30,
    "start_time": "2021-10-27T19:31:13.072Z"
   },
   {
    "duration": 41,
    "start_time": "2021-10-27T19:31:13.105Z"
   },
   {
    "duration": 9,
    "start_time": "2021-10-27T19:31:13.149Z"
   },
   {
    "duration": 55,
    "start_time": "2021-10-27T19:31:13.163Z"
   },
   {
    "duration": 10977,
    "start_time": "2021-10-27T19:31:13.221Z"
   },
   {
    "duration": 3657,
    "start_time": "2021-10-27T19:31:20.545Z"
   },
   {
    "duration": 3656,
    "start_time": "2021-10-27T19:31:20.548Z"
   },
   {
    "duration": 3651,
    "start_time": "2021-10-27T19:31:20.554Z"
   },
   {
    "duration": 3643,
    "start_time": "2021-10-27T19:31:20.563Z"
   },
   {
    "duration": 3641,
    "start_time": "2021-10-27T19:31:20.567Z"
   },
   {
    "duration": 3638,
    "start_time": "2021-10-27T19:31:20.571Z"
   },
   {
    "duration": 3632,
    "start_time": "2021-10-27T19:31:20.578Z"
   },
   {
    "duration": 3631,
    "start_time": "2021-10-27T19:31:20.581Z"
   },
   {
    "duration": 3628,
    "start_time": "2021-10-27T19:31:20.585Z"
   },
   {
    "duration": 3622,
    "start_time": "2021-10-27T19:31:20.593Z"
   },
   {
    "duration": 3621,
    "start_time": "2021-10-27T19:31:20.595Z"
   },
   {
    "duration": 3618,
    "start_time": "2021-10-27T19:31:20.599Z"
   },
   {
    "duration": 3617,
    "start_time": "2021-10-27T19:31:20.601Z"
   },
   {
    "duration": 3612,
    "start_time": "2021-10-27T19:31:20.608Z"
   },
   {
    "duration": 3611,
    "start_time": "2021-10-27T19:31:20.610Z"
   },
   {
    "duration": 3608,
    "start_time": "2021-10-27T19:31:20.614Z"
   },
   {
    "duration": 3607,
    "start_time": "2021-10-27T19:31:20.617Z"
   },
   {
    "duration": 3600,
    "start_time": "2021-10-27T19:31:20.625Z"
   },
   {
    "duration": 3599,
    "start_time": "2021-10-27T19:31:20.627Z"
   },
   {
    "duration": 3598,
    "start_time": "2021-10-27T19:31:20.630Z"
   },
   {
    "duration": 3596,
    "start_time": "2021-10-27T19:31:20.633Z"
   },
   {
    "duration": 3594,
    "start_time": "2021-10-27T19:31:20.637Z"
   },
   {
    "duration": 3588,
    "start_time": "2021-10-27T19:31:20.644Z"
   },
   {
    "duration": 3586,
    "start_time": "2021-10-27T19:31:20.647Z"
   },
   {
    "duration": 3585,
    "start_time": "2021-10-27T19:31:20.650Z"
   },
   {
    "duration": 3578,
    "start_time": "2021-10-27T19:31:20.658Z"
   },
   {
    "duration": 3577,
    "start_time": "2021-10-27T19:31:20.660Z"
   },
   {
    "duration": 3570,
    "start_time": "2021-10-27T19:31:20.669Z"
   },
   {
    "duration": 3564,
    "start_time": "2021-10-27T19:31:20.676Z"
   },
   {
    "duration": 10002,
    "start_time": "2021-10-27T19:33:39.458Z"
   },
   {
    "duration": 8615,
    "start_time": "2021-10-27T19:38:46.636Z"
   },
   {
    "duration": 9169,
    "start_time": "2021-10-27T19:40:35.282Z"
   },
   {
    "duration": 9777,
    "start_time": "2021-10-27T19:41:28.530Z"
   },
   {
    "duration": 8853,
    "start_time": "2021-10-27T19:44:56.424Z"
   },
   {
    "duration": 9270,
    "start_time": "2021-10-27T19:45:42.458Z"
   },
   {
    "duration": 11,
    "start_time": "2021-10-27T19:49:48.896Z"
   },
   {
    "duration": 34,
    "start_time": "2021-10-27T19:50:06.814Z"
   },
   {
    "duration": 12,
    "start_time": "2021-10-27T19:51:14.511Z"
   },
   {
    "duration": 23,
    "start_time": "2021-10-27T19:52:07.596Z"
   },
   {
    "duration": 362,
    "start_time": "2021-10-27T19:53:42.436Z"
   },
   {
    "duration": 371,
    "start_time": "2021-10-27T19:54:01.673Z"
   },
   {
    "duration": 414,
    "start_time": "2021-10-27T19:54:21.713Z"
   },
   {
    "duration": 343,
    "start_time": "2021-10-27T19:54:43.579Z"
   },
   {
    "duration": 23,
    "start_time": "2021-10-27T19:55:06.976Z"
   },
   {
    "duration": 31,
    "start_time": "2021-10-27T19:55:18.193Z"
   },
   {
    "duration": 88,
    "start_time": "2021-10-27T20:01:36.799Z"
   },
   {
    "duration": 359,
    "start_time": "2021-10-27T20:03:08.908Z"
   },
   {
    "duration": 115,
    "start_time": "2021-10-27T20:03:28.985Z"
   },
   {
    "duration": 117,
    "start_time": "2021-10-27T20:04:05.909Z"
   },
   {
    "duration": 83,
    "start_time": "2021-10-27T20:04:37.735Z"
   },
   {
    "duration": 118,
    "start_time": "2021-10-27T20:06:39.398Z"
   },
   {
    "duration": 81,
    "start_time": "2021-10-27T20:06:44.570Z"
   },
   {
    "duration": 110,
    "start_time": "2021-10-27T20:07:25.291Z"
   },
   {
    "duration": 85,
    "start_time": "2021-10-27T20:07:31.360Z"
   },
   {
    "duration": 103,
    "start_time": "2021-10-27T20:08:14.209Z"
   },
   {
    "duration": 85,
    "start_time": "2021-10-27T20:08:22.058Z"
   },
   {
    "duration": 116,
    "start_time": "2021-10-27T20:08:54.000Z"
   },
   {
    "duration": 85,
    "start_time": "2021-10-27T20:08:58.845Z"
   },
   {
    "duration": 103,
    "start_time": "2021-10-27T20:09:26.507Z"
   },
   {
    "duration": 79,
    "start_time": "2021-10-27T20:09:31.804Z"
   },
   {
    "duration": 3640,
    "start_time": "2021-10-27T20:11:34.975Z"
   },
   {
    "duration": 9422,
    "start_time": "2021-10-27T20:11:49.738Z"
   },
   {
    "duration": 8,
    "start_time": "2021-10-27T20:12:27.155Z"
   },
   {
    "duration": 10,
    "start_time": "2021-10-27T20:13:29.718Z"
   },
   {
    "duration": 359,
    "start_time": "2021-10-27T20:14:02.449Z"
   },
   {
    "duration": 331,
    "start_time": "2021-10-27T20:14:11.903Z"
   },
   {
    "duration": 61,
    "start_time": "2021-10-27T20:16:34.125Z"
   },
   {
    "duration": 4,
    "start_time": "2021-10-27T20:22:35.635Z"
   },
   {
    "duration": 674,
    "start_time": "2021-10-27T20:24:12.190Z"
   },
   {
    "duration": 4,
    "start_time": "2021-10-27T20:25:21.484Z"
   },
   {
    "duration": 9000,
    "start_time": "2021-10-27T20:25:24.781Z"
   },
   {
    "duration": 10496,
    "start_time": "2021-10-27T20:25:57.007Z"
   },
   {
    "duration": 4,
    "start_time": "2021-10-27T20:31:09.382Z"
   },
   {
    "duration": 9142,
    "start_time": "2021-10-27T20:31:36.205Z"
   },
   {
    "duration": 136,
    "start_time": "2021-10-27T20:33:03.345Z"
   },
   {
    "duration": 4,
    "start_time": "2021-10-27T20:36:17.748Z"
   },
   {
    "duration": 1682,
    "start_time": "2021-10-27T20:36:39.922Z"
   },
   {
    "duration": 351,
    "start_time": "2021-10-27T20:39:22.433Z"
   },
   {
    "duration": 738,
    "start_time": "2021-10-27T20:39:45.380Z"
   },
   {
    "duration": 4,
    "start_time": "2021-10-27T20:42:50.517Z"
   },
   {
    "duration": 718,
    "start_time": "2021-10-27T20:47:59.536Z"
   },
   {
    "duration": 5,
    "start_time": "2021-10-27T20:49:26.540Z"
   },
   {
    "duration": 783,
    "start_time": "2021-10-27T20:49:30.659Z"
   },
   {
    "duration": 5,
    "start_time": "2021-10-27T20:50:41.076Z"
   },
   {
    "duration": 4,
    "start_time": "2021-10-27T20:50:45.851Z"
   },
   {
    "duration": 57,
    "start_time": "2021-10-27T20:51:06.124Z"
   },
   {
    "duration": 5,
    "start_time": "2021-10-27T20:55:46.442Z"
   },
   {
    "duration": 3,
    "start_time": "2021-10-27T20:55:51.525Z"
   },
   {
    "duration": 59,
    "start_time": "2021-10-27T20:55:56.889Z"
   },
   {
    "duration": 5,
    "start_time": "2021-10-27T20:56:53.252Z"
   },
   {
    "duration": 731,
    "start_time": "2021-10-27T20:56:57.444Z"
   },
   {
    "duration": 4,
    "start_time": "2021-10-27T20:58:10.056Z"
   },
   {
    "duration": 702,
    "start_time": "2021-10-27T20:58:14.195Z"
   },
   {
    "duration": 5,
    "start_time": "2021-10-27T20:59:41.487Z"
   },
   {
    "duration": 863,
    "start_time": "2021-10-27T20:59:45.228Z"
   },
   {
    "duration": 5,
    "start_time": "2021-10-27T21:00:35.233Z"
   },
   {
    "duration": 715,
    "start_time": "2021-10-27T21:00:39.096Z"
   },
   {
    "duration": 5,
    "start_time": "2021-10-27T21:16:24.482Z"
   },
   {
    "duration": 14,
    "start_time": "2021-10-27T21:16:30.049Z"
   },
   {
    "duration": 59,
    "start_time": "2021-10-27T21:16:36.227Z"
   },
   {
    "duration": 5,
    "start_time": "2021-10-27T21:17:27.872Z"
   },
   {
    "duration": 13,
    "start_time": "2021-10-27T21:17:31.768Z"
   },
   {
    "duration": 57,
    "start_time": "2021-10-27T21:17:36.480Z"
   },
   {
    "duration": 376,
    "start_time": "2021-10-28T09:34:47.252Z"
   },
   {
    "duration": 729,
    "start_time": "2021-10-28T09:34:58.494Z"
   },
   {
    "duration": 185,
    "start_time": "2021-10-28T09:34:59.226Z"
   },
   {
    "duration": 26,
    "start_time": "2021-10-28T09:34:59.415Z"
   },
   {
    "duration": 50,
    "start_time": "2021-10-28T09:34:59.444Z"
   },
   {
    "duration": 7,
    "start_time": "2021-10-28T09:34:59.497Z"
   },
   {
    "duration": 30,
    "start_time": "2021-10-28T09:34:59.507Z"
   },
   {
    "duration": 5,
    "start_time": "2021-10-28T09:34:59.539Z"
   },
   {
    "duration": 35,
    "start_time": "2021-10-28T09:34:59.586Z"
   },
   {
    "duration": 57,
    "start_time": "2021-10-28T09:34:59.625Z"
   },
   {
    "duration": 29,
    "start_time": "2021-10-28T09:34:59.685Z"
   },
   {
    "duration": 104,
    "start_time": "2021-10-28T09:34:59.717Z"
   },
   {
    "duration": 112,
    "start_time": "2021-10-28T09:34:59.823Z"
   },
   {
    "duration": 87,
    "start_time": "2021-10-28T09:34:59.937Z"
   },
   {
    "duration": 62,
    "start_time": "2021-10-28T09:35:00.027Z"
   },
   {
    "duration": 4,
    "start_time": "2021-10-28T09:35:00.092Z"
   },
   {
    "duration": 381,
    "start_time": "2021-10-28T09:35:00.099Z"
   },
   {
    "duration": 4713,
    "start_time": "2021-10-28T09:34:55.770Z"
   },
   {
    "duration": 4708,
    "start_time": "2021-10-28T09:34:55.777Z"
   },
   {
    "duration": 4706,
    "start_time": "2021-10-28T09:34:55.780Z"
   },
   {
    "duration": 4704,
    "start_time": "2021-10-28T09:34:55.784Z"
   },
   {
    "duration": 4698,
    "start_time": "2021-10-28T09:34:55.791Z"
   },
   {
    "duration": 4695,
    "start_time": "2021-10-28T09:34:55.796Z"
   },
   {
    "duration": 4693,
    "start_time": "2021-10-28T09:34:55.799Z"
   },
   {
    "duration": 4692,
    "start_time": "2021-10-28T09:34:55.802Z"
   },
   {
    "duration": 4687,
    "start_time": "2021-10-28T09:34:55.808Z"
   },
   {
    "duration": 4685,
    "start_time": "2021-10-28T09:34:55.811Z"
   },
   {
    "duration": 4683,
    "start_time": "2021-10-28T09:34:55.814Z"
   },
   {
    "duration": 4681,
    "start_time": "2021-10-28T09:34:55.818Z"
   },
   {
    "duration": 4677,
    "start_time": "2021-10-28T09:34:55.823Z"
   },
   {
    "duration": 4673,
    "start_time": "2021-10-28T09:34:55.828Z"
   },
   {
    "duration": 4671,
    "start_time": "2021-10-28T09:34:55.831Z"
   },
   {
    "duration": 4670,
    "start_time": "2021-10-28T09:34:55.834Z"
   },
   {
    "duration": 4668,
    "start_time": "2021-10-28T09:34:55.837Z"
   },
   {
    "duration": 4663,
    "start_time": "2021-10-28T09:34:55.843Z"
   },
   {
    "duration": 4661,
    "start_time": "2021-10-28T09:34:55.846Z"
   },
   {
    "duration": 4660,
    "start_time": "2021-10-28T09:34:55.849Z"
   },
   {
    "duration": 4658,
    "start_time": "2021-10-28T09:34:55.852Z"
   },
   {
    "duration": 4652,
    "start_time": "2021-10-28T09:34:55.859Z"
   },
   {
    "duration": 43,
    "start_time": "2021-10-28T09:35:09.352Z"
   },
   {
    "duration": 59,
    "start_time": "2021-10-28T09:36:21.524Z"
   },
   {
    "duration": 4,
    "start_time": "2021-10-28T09:52:24.612Z"
   },
   {
    "duration": 716,
    "start_time": "2021-10-28T09:53:13.730Z"
   },
   {
    "duration": 5,
    "start_time": "2021-10-28T09:54:31.380Z"
   },
   {
    "duration": 591,
    "start_time": "2021-10-28T09:54:36.102Z"
   },
   {
    "duration": 5,
    "start_time": "2021-10-28T09:54:54.831Z"
   },
   {
    "duration": 622,
    "start_time": "2021-10-28T09:54:58.840Z"
   },
   {
    "duration": 4,
    "start_time": "2021-10-28T09:55:15.697Z"
   },
   {
    "duration": 51,
    "start_time": "2021-10-28T09:55:20.328Z"
   },
   {
    "duration": 5,
    "start_time": "2021-10-28T09:57:09.387Z"
   },
   {
    "duration": 39,
    "start_time": "2021-10-28T09:57:13.564Z"
   },
   {
    "duration": 5,
    "start_time": "2021-10-28T09:58:31.004Z"
   },
   {
    "duration": 21,
    "start_time": "2021-10-28T09:58:34.346Z"
   },
   {
    "duration": 19,
    "start_time": "2021-10-28T10:01:36.973Z"
   },
   {
    "duration": 19,
    "start_time": "2021-10-28T10:01:40.683Z"
   },
   {
    "duration": 17,
    "start_time": "2021-10-28T10:01:44.076Z"
   },
   {
    "duration": 20,
    "start_time": "2021-10-28T10:01:47.759Z"
   },
   {
    "duration": 18,
    "start_time": "2021-10-28T10:01:50.696Z"
   },
   {
    "duration": 920,
    "start_time": "2021-10-28T10:08:59.774Z"
   },
   {
    "duration": 7,
    "start_time": "2021-10-28T10:11:22.240Z"
   },
   {
    "duration": 12,
    "start_time": "2021-10-28T10:11:52.123Z"
   },
   {
    "duration": 14,
    "start_time": "2021-10-28T10:16:10.212Z"
   },
   {
    "duration": 12,
    "start_time": "2021-10-28T10:16:13.249Z"
   },
   {
    "duration": 27,
    "start_time": "2021-10-28T10:16:34.807Z"
   },
   {
    "duration": 13,
    "start_time": "2021-10-28T10:16:56.281Z"
   },
   {
    "duration": 95,
    "start_time": "2021-10-28T10:27:43.973Z"
   },
   {
    "duration": 112,
    "start_time": "2021-10-28T10:28:22.722Z"
   },
   {
    "duration": 88,
    "start_time": "2021-10-28T10:29:03.609Z"
   },
   {
    "duration": 6,
    "start_time": "2021-10-28T10:29:25.655Z"
   },
   {
    "duration": 7,
    "start_time": "2021-10-28T10:30:02.772Z"
   },
   {
    "duration": 8,
    "start_time": "2021-10-28T10:30:06.535Z"
   },
   {
    "duration": 6,
    "start_time": "2021-10-28T10:30:21.473Z"
   },
   {
    "duration": 592,
    "start_time": "2021-10-28T10:32:13.911Z"
   },
   {
    "duration": 6,
    "start_time": "2021-10-28T10:38:05.714Z"
   },
   {
    "duration": 549,
    "start_time": "2021-10-28T10:38:10.282Z"
   },
   {
    "duration": 6,
    "start_time": "2021-10-28T10:40:03.003Z"
   },
   {
    "duration": 549,
    "start_time": "2021-10-28T10:40:07.436Z"
   },
   {
    "duration": 5,
    "start_time": "2021-10-28T10:40:53.031Z"
   },
   {
    "duration": 563,
    "start_time": "2021-10-28T10:40:56.813Z"
   },
   {
    "duration": 5,
    "start_time": "2021-10-28T12:53:12.843Z"
   },
   {
    "duration": 593,
    "start_time": "2021-10-28T12:53:15.492Z"
   },
   {
    "duration": 5,
    "start_time": "2021-10-28T12:53:32.866Z"
   },
   {
    "duration": 19,
    "start_time": "2021-10-28T12:53:36.239Z"
   },
   {
    "duration": 20,
    "start_time": "2021-10-28T12:54:09.157Z"
   },
   {
    "duration": 15,
    "start_time": "2021-10-28T12:55:01.155Z"
   },
   {
    "duration": 20,
    "start_time": "2021-10-28T12:57:03.060Z"
   },
   {
    "duration": 15,
    "start_time": "2021-10-28T12:57:51.382Z"
   },
   {
    "duration": 32,
    "start_time": "2021-10-28T12:59:46.948Z"
   },
   {
    "duration": 33,
    "start_time": "2021-10-28T13:01:10.704Z"
   },
   {
    "duration": 20,
    "start_time": "2021-10-28T13:01:24.619Z"
   },
   {
    "duration": 19,
    "start_time": "2021-10-28T13:01:39.390Z"
   },
   {
    "duration": 422,
    "start_time": "2021-10-28T13:02:19.406Z"
   },
   {
    "duration": 5,
    "start_time": "2021-10-28T13:02:28.097Z"
   },
   {
    "duration": 311,
    "start_time": "2021-10-28T13:02:30.887Z"
   },
   {
    "duration": 737,
    "start_time": "2021-10-28T13:05:37.590Z"
   },
   {
    "duration": 179,
    "start_time": "2021-10-28T13:05:38.329Z"
   },
   {
    "duration": 24,
    "start_time": "2021-10-28T13:05:38.511Z"
   },
   {
    "duration": 53,
    "start_time": "2021-10-28T13:05:38.537Z"
   },
   {
    "duration": 5,
    "start_time": "2021-10-28T13:05:38.592Z"
   },
   {
    "duration": 28,
    "start_time": "2021-10-28T13:05:38.599Z"
   },
   {
    "duration": 5,
    "start_time": "2021-10-28T13:05:38.630Z"
   },
   {
    "duration": 59,
    "start_time": "2021-10-28T13:05:38.639Z"
   },
   {
    "duration": 23,
    "start_time": "2021-10-28T13:05:38.701Z"
   },
   {
    "duration": 55,
    "start_time": "2021-10-28T13:05:38.726Z"
   },
   {
    "duration": 81,
    "start_time": "2021-10-28T13:05:38.783Z"
   },
   {
    "duration": 120,
    "start_time": "2021-10-28T13:05:38.866Z"
   },
   {
    "duration": 82,
    "start_time": "2021-10-28T13:05:38.989Z"
   },
   {
    "duration": 57,
    "start_time": "2021-10-28T13:05:39.082Z"
   },
   {
    "duration": 4,
    "start_time": "2021-10-28T13:05:39.142Z"
   },
   {
    "duration": 368,
    "start_time": "2021-10-28T13:05:39.148Z"
   },
   {
    "duration": 4606,
    "start_time": "2021-10-28T13:05:34.914Z"
   },
   {
    "duration": 4600,
    "start_time": "2021-10-28T13:05:34.921Z"
   },
   {
    "duration": 4596,
    "start_time": "2021-10-28T13:05:34.926Z"
   },
   {
    "duration": 4592,
    "start_time": "2021-10-28T13:05:34.931Z"
   },
   {
    "duration": 4578,
    "start_time": "2021-10-28T13:05:34.947Z"
   },
   {
    "duration": 4573,
    "start_time": "2021-10-28T13:05:34.953Z"
   },
   {
    "duration": 4570,
    "start_time": "2021-10-28T13:05:34.957Z"
   },
   {
    "duration": 4568,
    "start_time": "2021-10-28T13:05:34.960Z"
   },
   {
    "duration": 4566,
    "start_time": "2021-10-28T13:05:34.964Z"
   },
   {
    "duration": 4560,
    "start_time": "2021-10-28T13:05:34.971Z"
   },
   {
    "duration": 4559,
    "start_time": "2021-10-28T13:05:34.973Z"
   },
   {
    "duration": 4556,
    "start_time": "2021-10-28T13:05:34.977Z"
   },
   {
    "duration": 4554,
    "start_time": "2021-10-28T13:05:34.980Z"
   },
   {
    "duration": 4550,
    "start_time": "2021-10-28T13:05:34.986Z"
   },
   {
    "duration": 4548,
    "start_time": "2021-10-28T13:05:34.989Z"
   },
   {
    "duration": 4546,
    "start_time": "2021-10-28T13:05:34.992Z"
   },
   {
    "duration": 4543,
    "start_time": "2021-10-28T13:05:34.996Z"
   },
   {
    "duration": 4538,
    "start_time": "2021-10-28T13:05:35.002Z"
   },
   {
    "duration": 4536,
    "start_time": "2021-10-28T13:05:35.005Z"
   },
   {
    "duration": 4535,
    "start_time": "2021-10-28T13:05:35.008Z"
   },
   {
    "duration": 4532,
    "start_time": "2021-10-28T13:05:35.012Z"
   },
   {
    "duration": 4527,
    "start_time": "2021-10-28T13:05:35.018Z"
   },
   {
    "duration": 307,
    "start_time": "2021-10-28T13:05:56.804Z"
   },
   {
    "duration": 741,
    "start_time": "2021-10-28T13:06:15.077Z"
   },
   {
    "duration": 182,
    "start_time": "2021-10-28T13:06:15.821Z"
   },
   {
    "duration": 26,
    "start_time": "2021-10-28T13:06:16.006Z"
   },
   {
    "duration": 52,
    "start_time": "2021-10-28T13:06:16.034Z"
   },
   {
    "duration": 5,
    "start_time": "2021-10-28T13:06:16.089Z"
   },
   {
    "duration": 27,
    "start_time": "2021-10-28T13:06:16.097Z"
   },
   {
    "duration": 5,
    "start_time": "2021-10-28T13:06:16.127Z"
   },
   {
    "duration": 68,
    "start_time": "2021-10-28T13:06:16.136Z"
   },
   {
    "duration": 22,
    "start_time": "2021-10-28T13:06:16.207Z"
   },
   {
    "duration": 53,
    "start_time": "2021-10-28T13:06:16.231Z"
   },
   {
    "duration": 85,
    "start_time": "2021-10-28T13:06:16.286Z"
   },
   {
    "duration": 107,
    "start_time": "2021-10-28T13:06:16.382Z"
   },
   {
    "duration": 74,
    "start_time": "2021-10-28T13:06:16.491Z"
   },
   {
    "duration": 69,
    "start_time": "2021-10-28T13:06:16.568Z"
   },
   {
    "duration": 5,
    "start_time": "2021-10-28T13:06:16.639Z"
   },
   {
    "duration": 718,
    "start_time": "2021-10-28T13:06:16.646Z"
   },
   {
    "duration": 4597,
    "start_time": "2021-10-28T13:06:12.770Z"
   },
   {
    "duration": 4588,
    "start_time": "2021-10-28T13:06:12.780Z"
   },
   {
    "duration": 4585,
    "start_time": "2021-10-28T13:06:12.784Z"
   },
   {
    "duration": 4582,
    "start_time": "2021-10-28T13:06:12.789Z"
   },
   {
    "duration": 4577,
    "start_time": "2021-10-28T13:06:12.796Z"
   },
   {
    "duration": 4574,
    "start_time": "2021-10-28T13:06:12.801Z"
   },
   {
    "duration": 4571,
    "start_time": "2021-10-28T13:06:12.805Z"
   },
   {
    "duration": 4564,
    "start_time": "2021-10-28T13:06:12.814Z"
   },
   {
    "duration": 4561,
    "start_time": "2021-10-28T13:06:12.818Z"
   },
   {
    "duration": 4558,
    "start_time": "2021-10-28T13:06:12.822Z"
   },
   {
    "duration": 4553,
    "start_time": "2021-10-28T13:06:12.829Z"
   },
   {
    "duration": 4550,
    "start_time": "2021-10-28T13:06:12.833Z"
   },
   {
    "duration": 4549,
    "start_time": "2021-10-28T13:06:12.836Z"
   },
   {
    "duration": 4544,
    "start_time": "2021-10-28T13:06:12.843Z"
   },
   {
    "duration": 4543,
    "start_time": "2021-10-28T13:06:12.846Z"
   },
   {
    "duration": 4541,
    "start_time": "2021-10-28T13:06:12.849Z"
   },
   {
    "duration": 4538,
    "start_time": "2021-10-28T13:06:12.853Z"
   },
   {
    "duration": 4532,
    "start_time": "2021-10-28T13:06:12.861Z"
   },
   {
    "duration": 4531,
    "start_time": "2021-10-28T13:06:12.863Z"
   },
   {
    "duration": 4530,
    "start_time": "2021-10-28T13:06:12.866Z"
   },
   {
    "duration": 4527,
    "start_time": "2021-10-28T13:06:12.870Z"
   },
   {
    "duration": 4522,
    "start_time": "2021-10-28T13:06:12.877Z"
   },
   {
    "duration": 347,
    "start_time": "2021-10-28T13:06:23.492Z"
   },
   {
    "duration": 5,
    "start_time": "2021-10-28T13:06:29.043Z"
   },
   {
    "duration": 278,
    "start_time": "2021-10-28T13:06:34.165Z"
   },
   {
    "duration": 15,
    "start_time": "2021-10-28T13:06:45.976Z"
   },
   {
    "duration": 12,
    "start_time": "2021-10-28T13:06:48.905Z"
   },
   {
    "duration": 5,
    "start_time": "2021-10-28T13:06:52.466Z"
   },
   {
    "duration": 20,
    "start_time": "2021-10-28T13:06:55.707Z"
   },
   {
    "duration": 33,
    "start_time": "2021-10-28T13:28:04.273Z"
   },
   {
    "duration": 33,
    "start_time": "2021-10-28T13:28:26.166Z"
   },
   {
    "duration": 306,
    "start_time": "2021-10-28T13:40:42.035Z"
   },
   {
    "duration": 11,
    "start_time": "2021-10-28T13:41:16.289Z"
   },
   {
    "duration": 6,
    "start_time": "2021-10-28T13:42:22.426Z"
   },
   {
    "duration": 8,
    "start_time": "2021-10-28T13:43:55.386Z"
   },
   {
    "duration": 7,
    "start_time": "2021-10-28T13:44:18.124Z"
   },
   {
    "duration": 1143,
    "start_time": "2021-10-28T14:26:48.969Z"
   },
   {
    "duration": 272,
    "start_time": "2021-10-28T14:26:50.116Z"
   },
   {
    "duration": 40,
    "start_time": "2021-10-28T14:26:50.392Z"
   },
   {
    "duration": 74,
    "start_time": "2021-10-28T14:26:50.436Z"
   },
   {
    "duration": 9,
    "start_time": "2021-10-28T14:26:50.513Z"
   },
   {
    "duration": 37,
    "start_time": "2021-10-28T14:26:50.525Z"
   },
   {
    "duration": 7,
    "start_time": "2021-10-28T14:26:50.583Z"
   },
   {
    "duration": 55,
    "start_time": "2021-10-28T14:26:50.596Z"
   },
   {
    "duration": 49,
    "start_time": "2021-10-28T14:26:50.655Z"
   },
   {
    "duration": 30,
    "start_time": "2021-10-28T14:26:50.706Z"
   },
   {
    "duration": 112,
    "start_time": "2021-10-28T14:26:50.738Z"
   },
   {
    "duration": 103,
    "start_time": "2021-10-28T14:26:50.852Z"
   },
   {
    "duration": 89,
    "start_time": "2021-10-28T14:26:50.957Z"
   },
   {
    "duration": 60,
    "start_time": "2021-10-28T14:26:51.048Z"
   },
   {
    "duration": 4,
    "start_time": "2021-10-28T14:26:51.111Z"
   },
   {
    "duration": 357,
    "start_time": "2021-10-28T14:26:51.117Z"
   },
   {
    "duration": 4951,
    "start_time": "2021-10-28T14:26:46.526Z"
   },
   {
    "duration": 4949,
    "start_time": "2021-10-28T14:26:46.529Z"
   },
   {
    "duration": 4946,
    "start_time": "2021-10-28T14:26:46.533Z"
   },
   {
    "duration": 4940,
    "start_time": "2021-10-28T14:26:46.541Z"
   },
   {
    "duration": 4938,
    "start_time": "2021-10-28T14:26:46.544Z"
   },
   {
    "duration": 4934,
    "start_time": "2021-10-28T14:26:46.549Z"
   },
   {
    "duration": 4924,
    "start_time": "2021-10-28T14:26:46.561Z"
   },
   {
    "duration": 4922,
    "start_time": "2021-10-28T14:26:46.564Z"
   },
   {
    "duration": 4918,
    "start_time": "2021-10-28T14:26:46.569Z"
   },
   {
    "duration": 4910,
    "start_time": "2021-10-28T14:26:46.579Z"
   },
   {
    "duration": 4907,
    "start_time": "2021-10-28T14:26:46.583Z"
   },
   {
    "duration": 4900,
    "start_time": "2021-10-28T14:26:46.591Z"
   },
   {
    "duration": 4898,
    "start_time": "2021-10-28T14:26:46.594Z"
   },
   {
    "duration": 4896,
    "start_time": "2021-10-28T14:26:46.598Z"
   },
   {
    "duration": 4894,
    "start_time": "2021-10-28T14:26:46.601Z"
   },
   {
    "duration": 4888,
    "start_time": "2021-10-28T14:26:46.608Z"
   },
   {
    "duration": 4888,
    "start_time": "2021-10-28T14:26:46.610Z"
   },
   {
    "duration": 4885,
    "start_time": "2021-10-28T14:26:46.614Z"
   },
   {
    "duration": 4882,
    "start_time": "2021-10-28T14:26:46.618Z"
   },
   {
    "duration": 4876,
    "start_time": "2021-10-28T14:26:46.625Z"
   },
   {
    "duration": 4874,
    "start_time": "2021-10-28T14:26:46.629Z"
   },
   {
    "duration": 4871,
    "start_time": "2021-10-28T14:26:46.633Z"
   },
   {
    "duration": 6,
    "start_time": "2021-10-28T14:27:37.122Z"
   },
   {
    "duration": 302,
    "start_time": "2021-10-28T14:27:42.372Z"
   },
   {
    "duration": 3,
    "start_time": "2021-10-28T14:27:56.704Z"
   },
   {
    "duration": 193,
    "start_time": "2021-10-28T14:28:00.212Z"
   },
   {
    "duration": 16,
    "start_time": "2021-10-28T14:28:10.278Z"
   },
   {
    "duration": 31,
    "start_time": "2021-10-28T14:28:17.676Z"
   },
   {
    "duration": 5,
    "start_time": "2021-10-28T14:28:22.996Z"
   },
   {
    "duration": 24,
    "start_time": "2021-10-28T14:28:28.187Z"
   },
   {
    "duration": 6,
    "start_time": "2021-10-28T14:28:31.482Z"
   },
   {
    "duration": 32,
    "start_time": "2021-10-28T14:28:35.862Z"
   },
   {
    "duration": 22,
    "start_time": "2021-10-28T14:28:41.505Z"
   },
   {
    "duration": 32,
    "start_time": "2021-10-28T14:28:44.795Z"
   },
   {
    "duration": 82,
    "start_time": "2021-10-28T14:28:49.208Z"
   },
   {
    "duration": 94,
    "start_time": "2021-10-28T14:28:54.091Z"
   },
   {
    "duration": 77,
    "start_time": "2021-10-28T14:28:56.978Z"
   },
   {
    "duration": 59,
    "start_time": "2021-10-28T14:29:01.969Z"
   },
   {
    "duration": 4,
    "start_time": "2021-10-28T14:29:13.789Z"
   },
   {
    "duration": 300,
    "start_time": "2021-10-28T14:29:18.040Z"
   },
   {
    "duration": 4,
    "start_time": "2021-10-28T14:30:14.633Z"
   },
   {
    "duration": 284,
    "start_time": "2021-10-28T14:30:18.436Z"
   },
   {
    "duration": 15,
    "start_time": "2021-10-28T14:30:39.172Z"
   },
   {
    "duration": 61,
    "start_time": "2021-10-28T14:30:44.871Z"
   },
   {
    "duration": 4,
    "start_time": "2021-10-28T14:31:08.202Z"
   },
   {
    "duration": 14,
    "start_time": "2021-10-28T14:31:11.206Z"
   },
   {
    "duration": 56,
    "start_time": "2021-10-28T14:31:16.309Z"
   },
   {
    "duration": 46,
    "start_time": "2021-10-28T14:31:27.620Z"
   },
   {
    "duration": 45,
    "start_time": "2021-10-28T14:31:32.799Z"
   },
   {
    "duration": 5,
    "start_time": "2021-10-28T14:31:41.222Z"
   },
   {
    "duration": 21,
    "start_time": "2021-10-28T14:31:45.964Z"
   },
   {
    "duration": 19,
    "start_time": "2021-10-28T14:31:49.316Z"
   },
   {
    "duration": 19,
    "start_time": "2021-10-28T14:31:52.567Z"
   },
   {
    "duration": 19,
    "start_time": "2021-10-28T14:31:55.545Z"
   },
   {
    "duration": 21,
    "start_time": "2021-10-28T14:31:57.967Z"
   },
   {
    "duration": 18,
    "start_time": "2021-10-28T14:32:01.155Z"
   },
   {
    "duration": 17,
    "start_time": "2021-10-28T14:32:06.526Z"
   },
   {
    "duration": 15,
    "start_time": "2021-10-28T14:32:12.307Z"
   },
   {
    "duration": 12,
    "start_time": "2021-10-28T14:32:16.006Z"
   },
   {
    "duration": 6,
    "start_time": "2021-10-28T14:32:23.011Z"
   },
   {
    "duration": 24,
    "start_time": "2021-10-28T14:32:27.340Z"
   },
   {
    "duration": 17,
    "start_time": "2021-10-28T14:32:41.564Z"
   },
   {
    "duration": 26,
    "start_time": "2021-10-28T14:32:45.293Z"
   },
   {
    "duration": 19,
    "start_time": "2021-10-28T14:32:49.212Z"
   },
   {
    "duration": 13,
    "start_time": "2021-10-28T14:34:59.943Z"
   },
   {
    "duration": 6,
    "start_time": "2021-10-28T14:35:03.073Z"
   },
   {
    "duration": 8,
    "start_time": "2021-10-28T14:35:17.383Z"
   },
   {
    "duration": 6,
    "start_time": "2021-10-28T14:35:24.778Z"
   },
   {
    "duration": 648,
    "start_time": "2021-10-29T06:31:05.724Z"
   },
   {
    "duration": 153,
    "start_time": "2021-10-29T06:31:06.374Z"
   },
   {
    "duration": 17,
    "start_time": "2021-10-29T06:31:06.529Z"
   },
   {
    "duration": 24,
    "start_time": "2021-10-29T06:31:06.549Z"
   },
   {
    "duration": 17,
    "start_time": "2021-10-29T06:31:06.575Z"
   },
   {
    "duration": 23,
    "start_time": "2021-10-29T06:31:06.594Z"
   },
   {
    "duration": 7,
    "start_time": "2021-10-29T06:31:06.618Z"
   },
   {
    "duration": 24,
    "start_time": "2021-10-29T06:31:06.628Z"
   },
   {
    "duration": 37,
    "start_time": "2021-10-29T06:31:06.654Z"
   },
   {
    "duration": 20,
    "start_time": "2021-10-29T06:31:06.693Z"
   },
   {
    "duration": 54,
    "start_time": "2021-10-29T06:31:06.714Z"
   },
   {
    "duration": 80,
    "start_time": "2021-10-29T06:31:06.769Z"
   },
   {
    "duration": 55,
    "start_time": "2021-10-29T06:31:06.851Z"
   },
   {
    "duration": 37,
    "start_time": "2021-10-29T06:31:06.908Z"
   },
   {
    "duration": 3,
    "start_time": "2021-10-29T06:31:06.946Z"
   },
   {
    "duration": 12,
    "start_time": "2021-10-29T06:31:06.950Z"
   },
   {
    "duration": 56,
    "start_time": "2021-10-29T06:31:06.963Z"
   },
   {
    "duration": 28,
    "start_time": "2021-10-29T06:31:07.021Z"
   },
   {
    "duration": 42,
    "start_time": "2021-10-29T06:31:07.050Z"
   },
   {
    "duration": 3,
    "start_time": "2021-10-29T06:31:07.093Z"
   },
   {
    "duration": 24,
    "start_time": "2021-10-29T06:31:07.098Z"
   },
   {
    "duration": 13,
    "start_time": "2021-10-29T06:31:07.123Z"
   },
   {
    "duration": 13,
    "start_time": "2021-10-29T06:31:07.139Z"
   },
   {
    "duration": 12,
    "start_time": "2021-10-29T06:31:07.154Z"
   },
   {
    "duration": 36,
    "start_time": "2021-10-29T06:31:07.168Z"
   },
   {
    "duration": 14,
    "start_time": "2021-10-29T06:31:07.205Z"
   },
   {
    "duration": 8,
    "start_time": "2021-10-29T06:31:07.220Z"
   },
   {
    "duration": 12,
    "start_time": "2021-10-29T06:31:07.229Z"
   },
   {
    "duration": 8,
    "start_time": "2021-10-29T06:31:07.243Z"
   },
   {
    "duration": 8,
    "start_time": "2021-10-29T06:31:07.252Z"
   },
   {
    "duration": 42,
    "start_time": "2021-10-29T06:31:07.261Z"
   },
   {
    "duration": 11,
    "start_time": "2021-10-29T06:31:07.304Z"
   },
   {
    "duration": 17,
    "start_time": "2021-10-29T06:31:07.317Z"
   },
   {
    "duration": 11,
    "start_time": "2021-10-29T06:31:07.335Z"
   },
   {
    "duration": 7,
    "start_time": "2021-10-29T06:31:07.348Z"
   },
   {
    "duration": 38,
    "start_time": "2021-10-29T06:31:07.356Z"
   },
   {
    "duration": 9,
    "start_time": "2021-10-29T06:31:07.396Z"
   },
   {
    "duration": 7,
    "start_time": "2021-10-29T06:31:07.406Z"
   },
   {
    "duration": 10,
    "start_time": "2021-10-29T06:32:03.339Z"
   },
   {
    "duration": 11,
    "start_time": "2021-10-29T06:33:43.200Z"
   },
   {
    "duration": 13,
    "start_time": "2021-10-29T06:33:59.558Z"
   },
   {
    "duration": 7,
    "start_time": "2021-10-29T06:34:46.063Z"
   },
   {
    "duration": 286,
    "start_time": "2021-10-29T12:59:11.213Z"
   },
   {
    "duration": 213,
    "start_time": "2021-10-29T12:59:43.298Z"
   },
   {
    "duration": 770,
    "start_time": "2021-10-29T12:59:49.600Z"
   },
   {
    "duration": 193,
    "start_time": "2021-10-29T12:59:53.405Z"
   },
   {
    "duration": 26,
    "start_time": "2021-10-29T12:59:56.897Z"
   },
   {
    "duration": 6,
    "start_time": "2021-10-29T13:00:10.804Z"
   },
   {
    "duration": 27,
    "start_time": "2021-10-29T13:00:18.106Z"
   },
   {
    "duration": 35,
    "start_time": "2021-10-29T13:00:28.895Z"
   },
   {
    "duration": 51,
    "start_time": "2021-10-29T13:00:32.055Z"
   },
   {
    "duration": 134,
    "start_time": "2021-10-29T13:00:38.661Z"
   },
   {
    "duration": 109,
    "start_time": "2021-10-29T13:00:41.665Z"
   },
   {
    "duration": 5,
    "start_time": "2021-10-29T13:00:50.348Z"
   },
   {
    "duration": 14,
    "start_time": "2021-10-29T13:00:53.066Z"
   },
   {
    "duration": 17,
    "start_time": "2021-10-29T13:01:07.546Z"
   },
   {
    "duration": 44,
    "start_time": "2021-10-29T13:02:57.740Z"
   },
   {
    "duration": 15,
    "start_time": "2021-10-29T13:03:17.902Z"
   }
  ],
  "colab": {
   "collapsed_sections": [
    "E0vqbgi9ay0H",
    "VUC88oWjTJw2"
   ],
   "name": "yandex_music_project_2021.2.ipynb",
   "provenance": []
  },
  "kernelspec": {
   "display_name": "Python 3",
   "language": "python",
   "name": "python3"
  },
  "language_info": {
   "codemirror_mode": {
    "name": "ipython",
    "version": 3
   },
   "file_extension": ".py",
   "mimetype": "text/x-python",
   "name": "python",
   "nbconvert_exporter": "python",
   "pygments_lexer": "ipython3",
   "version": "3.7.8"
  },
  "toc": {
   "base_numbering": 1,
   "nav_menu": {},
   "number_sections": true,
   "sideBar": true,
   "skip_h1_title": true,
   "title_cell": "Table of Contents",
   "title_sidebar": "Contents",
   "toc_cell": false,
   "toc_position": {
    "height": "470px",
    "left": "28px",
    "top": "140.19px",
    "width": "246px"
   },
   "toc_section_display": true,
   "toc_window_display": true
  }
 },
 "nbformat": 4,
 "nbformat_minor": 1
}
