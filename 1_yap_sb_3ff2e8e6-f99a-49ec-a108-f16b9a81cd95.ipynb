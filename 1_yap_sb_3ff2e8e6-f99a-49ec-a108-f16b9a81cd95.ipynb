{
 "cells": [
  {
   "cell_type": "markdown",
   "metadata": {},
   "source": [
    "# Описание проекта\n",
    "\n",
    " Рассматривается интернет-магазин по продаже компьютерные игры по всему миру. Из открытых источников доступны исторические данные о продажах игр, оценки пользователей и экспертов, жанры и платформы (например, Xbox или PlayStation). Нужно выявить определяющие успешность игры закономерности. Это позволит сделать ставку на потенциально популярный продукт и спланировать рекламные кампании.\n",
    "Представлены данные до 2016 года. Планируется кампания на 2017-й. Нужно отработать принцип работы с данными. \n",
    "\n",
    "В наборе данных попадается аббревиатура ESRB (Entertainment Software Rating Board) — это ассоциация, определяющая возрастной рейтинг компьютерных игр. ESRB оценивает игровой контент и присваивает ему подходящую возрастную категорию, например, «Для взрослых», «Для детей младшего возраста» или «Для подростков».\n"
   ]
  },
  {
   "cell_type": "code",
   "execution_count": 1,
   "metadata": {},
   "outputs": [
    {
     "data": {
      "text/html": [
       "<div>\n",
       "<style scoped>\n",
       "    .dataframe tbody tr th:only-of-type {\n",
       "        vertical-align: middle;\n",
       "    }\n",
       "\n",
       "    .dataframe tbody tr th {\n",
       "        vertical-align: top;\n",
       "    }\n",
       "\n",
       "    .dataframe thead th {\n",
       "        text-align: right;\n",
       "    }\n",
       "</style>\n",
       "<table border=\"1\" class=\"dataframe\">\n",
       "  <thead>\n",
       "    <tr style=\"text-align: right;\">\n",
       "      <th></th>\n",
       "      <th>Name</th>\n",
       "      <th>Platform</th>\n",
       "      <th>Year_of_Release</th>\n",
       "      <th>Genre</th>\n",
       "      <th>NA_sales</th>\n",
       "      <th>EU_sales</th>\n",
       "      <th>JP_sales</th>\n",
       "      <th>Other_sales</th>\n",
       "      <th>Critic_Score</th>\n",
       "      <th>User_Score</th>\n",
       "      <th>Rating</th>\n",
       "    </tr>\n",
       "  </thead>\n",
       "  <tbody>\n",
       "    <tr>\n",
       "      <td>0</td>\n",
       "      <td>Wii Sports</td>\n",
       "      <td>Wii</td>\n",
       "      <td>2006.0</td>\n",
       "      <td>Sports</td>\n",
       "      <td>41.36</td>\n",
       "      <td>28.96</td>\n",
       "      <td>3.77</td>\n",
       "      <td>8.45</td>\n",
       "      <td>76.0</td>\n",
       "      <td>8</td>\n",
       "      <td>E</td>\n",
       "    </tr>\n",
       "    <tr>\n",
       "      <td>1</td>\n",
       "      <td>Super Mario Bros.</td>\n",
       "      <td>NES</td>\n",
       "      <td>1985.0</td>\n",
       "      <td>Platform</td>\n",
       "      <td>29.08</td>\n",
       "      <td>3.58</td>\n",
       "      <td>6.81</td>\n",
       "      <td>0.77</td>\n",
       "      <td>NaN</td>\n",
       "      <td>NaN</td>\n",
       "      <td>NaN</td>\n",
       "    </tr>\n",
       "    <tr>\n",
       "      <td>2</td>\n",
       "      <td>Mario Kart Wii</td>\n",
       "      <td>Wii</td>\n",
       "      <td>2008.0</td>\n",
       "      <td>Racing</td>\n",
       "      <td>15.68</td>\n",
       "      <td>12.76</td>\n",
       "      <td>3.79</td>\n",
       "      <td>3.29</td>\n",
       "      <td>82.0</td>\n",
       "      <td>8.3</td>\n",
       "      <td>E</td>\n",
       "    </tr>\n",
       "    <tr>\n",
       "      <td>3</td>\n",
       "      <td>Wii Sports Resort</td>\n",
       "      <td>Wii</td>\n",
       "      <td>2009.0</td>\n",
       "      <td>Sports</td>\n",
       "      <td>15.61</td>\n",
       "      <td>10.93</td>\n",
       "      <td>3.28</td>\n",
       "      <td>2.95</td>\n",
       "      <td>80.0</td>\n",
       "      <td>8</td>\n",
       "      <td>E</td>\n",
       "    </tr>\n",
       "    <tr>\n",
       "      <td>4</td>\n",
       "      <td>Pokemon Red/Pokemon Blue</td>\n",
       "      <td>GB</td>\n",
       "      <td>1996.0</td>\n",
       "      <td>Role-Playing</td>\n",
       "      <td>11.27</td>\n",
       "      <td>8.89</td>\n",
       "      <td>10.22</td>\n",
       "      <td>1.00</td>\n",
       "      <td>NaN</td>\n",
       "      <td>NaN</td>\n",
       "      <td>NaN</td>\n",
       "    </tr>\n",
       "  </tbody>\n",
       "</table>\n",
       "</div>"
      ],
      "text/plain": [
       "                       Name Platform  Year_of_Release         Genre  NA_sales  \\\n",
       "0                Wii Sports      Wii           2006.0        Sports     41.36   \n",
       "1         Super Mario Bros.      NES           1985.0      Platform     29.08   \n",
       "2            Mario Kart Wii      Wii           2008.0        Racing     15.68   \n",
       "3         Wii Sports Resort      Wii           2009.0        Sports     15.61   \n",
       "4  Pokemon Red/Pokemon Blue       GB           1996.0  Role-Playing     11.27   \n",
       "\n",
       "   EU_sales  JP_sales  Other_sales  Critic_Score User_Score Rating  \n",
       "0     28.96      3.77         8.45          76.0          8      E  \n",
       "1      3.58      6.81         0.77           NaN        NaN    NaN  \n",
       "2     12.76      3.79         3.29          82.0        8.3      E  \n",
       "3     10.93      3.28         2.95          80.0          8      E  \n",
       "4      8.89     10.22         1.00           NaN        NaN    NaN  "
      ]
     },
     "metadata": {},
     "output_type": "display_data"
    },
    {
     "data": {
      "text/html": [
       "<div>\n",
       "<style scoped>\n",
       "    .dataframe tbody tr th:only-of-type {\n",
       "        vertical-align: middle;\n",
       "    }\n",
       "\n",
       "    .dataframe tbody tr th {\n",
       "        vertical-align: top;\n",
       "    }\n",
       "\n",
       "    .dataframe thead th {\n",
       "        text-align: right;\n",
       "    }\n",
       "</style>\n",
       "<table border=\"1\" class=\"dataframe\">\n",
       "  <thead>\n",
       "    <tr style=\"text-align: right;\">\n",
       "      <th></th>\n",
       "      <th>Name</th>\n",
       "      <th>Platform</th>\n",
       "      <th>Year_of_Release</th>\n",
       "      <th>Genre</th>\n",
       "      <th>NA_sales</th>\n",
       "      <th>EU_sales</th>\n",
       "      <th>JP_sales</th>\n",
       "      <th>Other_sales</th>\n",
       "      <th>Critic_Score</th>\n",
       "      <th>User_Score</th>\n",
       "      <th>Rating</th>\n",
       "    </tr>\n",
       "  </thead>\n",
       "  <tbody>\n",
       "    <tr>\n",
       "      <td>16710</td>\n",
       "      <td>Samurai Warriors: Sanada Maru</td>\n",
       "      <td>PS3</td>\n",
       "      <td>2016.0</td>\n",
       "      <td>Action</td>\n",
       "      <td>0.00</td>\n",
       "      <td>0.00</td>\n",
       "      <td>0.01</td>\n",
       "      <td>0.0</td>\n",
       "      <td>NaN</td>\n",
       "      <td>NaN</td>\n",
       "      <td>NaN</td>\n",
       "    </tr>\n",
       "    <tr>\n",
       "      <td>16711</td>\n",
       "      <td>LMA Manager 2007</td>\n",
       "      <td>X360</td>\n",
       "      <td>2006.0</td>\n",
       "      <td>Sports</td>\n",
       "      <td>0.00</td>\n",
       "      <td>0.01</td>\n",
       "      <td>0.00</td>\n",
       "      <td>0.0</td>\n",
       "      <td>NaN</td>\n",
       "      <td>NaN</td>\n",
       "      <td>NaN</td>\n",
       "    </tr>\n",
       "    <tr>\n",
       "      <td>16712</td>\n",
       "      <td>Haitaka no Psychedelica</td>\n",
       "      <td>PSV</td>\n",
       "      <td>2016.0</td>\n",
       "      <td>Adventure</td>\n",
       "      <td>0.00</td>\n",
       "      <td>0.00</td>\n",
       "      <td>0.01</td>\n",
       "      <td>0.0</td>\n",
       "      <td>NaN</td>\n",
       "      <td>NaN</td>\n",
       "      <td>NaN</td>\n",
       "    </tr>\n",
       "    <tr>\n",
       "      <td>16713</td>\n",
       "      <td>Spirits &amp; Spells</td>\n",
       "      <td>GBA</td>\n",
       "      <td>2003.0</td>\n",
       "      <td>Platform</td>\n",
       "      <td>0.01</td>\n",
       "      <td>0.00</td>\n",
       "      <td>0.00</td>\n",
       "      <td>0.0</td>\n",
       "      <td>NaN</td>\n",
       "      <td>NaN</td>\n",
       "      <td>NaN</td>\n",
       "    </tr>\n",
       "    <tr>\n",
       "      <td>16714</td>\n",
       "      <td>Winning Post 8 2016</td>\n",
       "      <td>PSV</td>\n",
       "      <td>2016.0</td>\n",
       "      <td>Simulation</td>\n",
       "      <td>0.00</td>\n",
       "      <td>0.00</td>\n",
       "      <td>0.01</td>\n",
       "      <td>0.0</td>\n",
       "      <td>NaN</td>\n",
       "      <td>NaN</td>\n",
       "      <td>NaN</td>\n",
       "    </tr>\n",
       "  </tbody>\n",
       "</table>\n",
       "</div>"
      ],
      "text/plain": [
       "                                Name Platform  Year_of_Release       Genre  \\\n",
       "16710  Samurai Warriors: Sanada Maru      PS3           2016.0      Action   \n",
       "16711               LMA Manager 2007     X360           2006.0      Sports   \n",
       "16712        Haitaka no Psychedelica      PSV           2016.0   Adventure   \n",
       "16713               Spirits & Spells      GBA           2003.0    Platform   \n",
       "16714            Winning Post 8 2016      PSV           2016.0  Simulation   \n",
       "\n",
       "       NA_sales  EU_sales  JP_sales  Other_sales  Critic_Score User_Score  \\\n",
       "16710      0.00      0.00      0.01          0.0           NaN        NaN   \n",
       "16711      0.00      0.01      0.00          0.0           NaN        NaN   \n",
       "16712      0.00      0.00      0.01          0.0           NaN        NaN   \n",
       "16713      0.01      0.00      0.00          0.0           NaN        NaN   \n",
       "16714      0.00      0.00      0.01          0.0           NaN        NaN   \n",
       "\n",
       "      Rating  \n",
       "16710    NaN  \n",
       "16711    NaN  \n",
       "16712    NaN  \n",
       "16713    NaN  \n",
       "16714    NaN  "
      ]
     },
     "metadata": {},
     "output_type": "display_data"
    }
   ],
   "source": [
    "# общая распаковка\n",
    "import pandas as pd\n",
    "\n",
    "data = pd.read_csv('/datasets/games.csv')\n",
    "\n",
    "# вывод первых и последних строк таблицы data, первые данные о содержимом таблицы\n",
    "display(data.head())\n",
    "display(data.tail())\n",
    "\n",
    "import warnings\n",
    "warnings.filterwarnings('ignore')"
   ]
  },
  {
   "cell_type": "code",
   "execution_count": 2,
   "metadata": {},
   "outputs": [
    {
     "name": "stdout",
     "output_type": "stream",
     "text": [
      "Общая информация о таблице\n",
      "\n",
      "<class 'pandas.core.frame.DataFrame'>\n",
      "RangeIndex: 16715 entries, 0 to 16714\n",
      "Data columns (total 11 columns):\n",
      "Name               16713 non-null object\n",
      "Platform           16715 non-null object\n",
      "Year_of_Release    16446 non-null float64\n",
      "Genre              16713 non-null object\n",
      "NA_sales           16715 non-null float64\n",
      "EU_sales           16715 non-null float64\n",
      "JP_sales           16715 non-null float64\n",
      "Other_sales        16715 non-null float64\n",
      "Critic_Score       8137 non-null float64\n",
      "User_Score         10014 non-null object\n",
      "Rating             9949 non-null object\n",
      "dtypes: float64(6), object(5)\n",
      "memory usage: 1.4+ MB\n"
     ]
    }
   ],
   "source": [
    "print('Общая информация о таблице')\n",
    "print()\n",
    "data.info()"
   ]
  },
  {
   "cell_type": "markdown",
   "metadata": {},
   "source": [
    "Информация о содержимом таблицы data. Описание данных\n",
    "\n",
    "•\tName — название игры\n",
    "\n",
    "•\tPlatform — платформа\n",
    "\n",
    "•\tYear_of_Release — год выпуска\n",
    "\n",
    "•\tGenre — жанр игры\n",
    "\n",
    "•\tNA_sales — продажи в Северной Америке (миллионы проданных копий)\n",
    "\n",
    "•\tEU_sales — продажи в Европе (миллионы проданных копий)\n",
    "\n",
    "•\tJP_sales — продажи в Японии (миллионы проданных копий)\n",
    "\n",
    "•\tOther_sales — продажи в других странах (миллионы проданных копий)\n",
    "\n",
    "•\tCritic_Score — оценка критиков (максимум 100)\n",
    "\n",
    "•\tUser_Score — оценка пользователей (максимум 10)\n",
    "\n",
    "•\tRating — рейтинг от организации ESRB (англ. Entertainment Software Rating Board). Эта ассоциация определяет рейтинг компьютерных игр и присваивает им подходящую возрастную категорию.\n",
    "\n",
    "Есть небольшое количество пропусков в столбце Year_of_Release (1,6%). Единичные пропуски в других столбцах не имеют значимой роли. \n",
    "\n",
    "Следующие столбцы имеют большое количество пропусков:\n",
    "\n",
    "Critic_Score       \n",
    "User_Score        \n",
    "Rating            \n",
    "\n",
    "Данные столбца User_Score имеют тип object вместо логичных float64 или int64."
   ]
  },
  {
   "cell_type": "markdown",
   "metadata": {},
   "source": [
    "ШАГ 2. ПОДГОТОВКА ДАННЫХ"
   ]
  },
  {
   "cell_type": "code",
   "execution_count": 3,
   "metadata": {},
   "outputs": [
    {
     "name": "stdout",
     "output_type": "stream",
     "text": [
      "Значения столбца Year_of_Release - годы реализации игры и количество выпущенных игр:\n",
      "2008.0    1427\n",
      "2009.0    1426\n",
      "2010.0    1255\n",
      "2007.0    1197\n",
      "2011.0    1136\n",
      "2006.0    1006\n",
      "2005.0     939\n",
      "2002.0     829\n",
      "2003.0     775\n",
      "2004.0     762\n",
      "2012.0     653\n",
      "2015.0     606\n",
      "2014.0     581\n",
      "2013.0     544\n",
      "2016.0     502\n",
      "2001.0     482\n",
      "1998.0     379\n",
      "2000.0     350\n",
      "1999.0     338\n",
      "1997.0     289\n",
      "1996.0     263\n",
      "1995.0     219\n",
      "1994.0     121\n",
      "1993.0      62\n",
      "1981.0      46\n",
      "1992.0      43\n",
      "1991.0      41\n",
      "1982.0      36\n",
      "1986.0      21\n",
      "1989.0      17\n",
      "1983.0      17\n",
      "1990.0      16\n",
      "1987.0      16\n",
      "1988.0      15\n",
      "1985.0      14\n",
      "1984.0      14\n",
      "1980.0       9\n",
      "Name: Year_of_Release, dtype: int64\n"
     ]
    }
   ],
   "source": [
    "print('Значения столбца Year_of_Release - годы реализации игры и количество выпущенных игр:')\n",
    "print(data['Year_of_Release'].value_counts())"
   ]
  },
  {
   "cell_type": "code",
   "execution_count": 4,
   "metadata": {},
   "outputs": [
    {
     "data": {
      "image/png": "[encoded data removed]",
      "text/plain": [
       "<Figure size 432x288 with 1 Axes>"
      ]
     },
     "metadata": {
      "needs_background": "light"
     },
     "output_type": "display_data"
    }
   ],
   "source": [
    "# график \"Количество проданных игр по годам\"\n",
    "data['Year_of_Release'].hist(bins = 20);"
   ]
  },
  {
   "cell_type": "markdown",
   "metadata": {},
   "source": [
    "Столбец Year_of_Release — год выпуска игры.\n",
    "\n",
    "Данные (номер года) столбца имеют тип float64. Вывод всех возможных значений столбца показывает, что дробная часть значения всегда равна нулю. Без потери информации можно перевести данные в тип int64.\n",
    "\n",
    "На этом этапе видно, что таблица содержит сильно устаревшие данные, не имеющие для этого исследования интереса. \n",
    "\n"
   ]
  },
  {
   "cell_type": "code",
   "execution_count": 5,
   "metadata": {},
   "outputs": [],
   "source": [
    "# переименование столбца в соответствии с этикетом\n",
    "\n",
    "data = data.rename(columns={'Name': 'name'}) \n",
    "data = data.rename(columns={'Platform': 'platform'}) \n",
    "data = data.rename(columns={'Year_of_Release': 'year_of_release'}) \n",
    "data = data.rename(columns={'Genre': 'genre'}) \n",
    "data = data.rename(columns={'NA_sales': 'na_sales'}) \n",
    "data = data.rename(columns={'EU_sales': 'eu_sales'}) \n",
    "data = data.rename(columns={'JP_sales': 'jp_sales'}) \n",
    "data = data.rename(columns={'Other_sales': 'other_sales'}) \n",
    "data = data.rename(columns={'Critic_Score': 'critic_score'}) \n",
    "data = data.rename(columns={'User_Score': 'user_score'}) \n",
    "data = data.rename(columns={'Rating': 'rating'}) \n",
    " "
   ]
  },
  {
   "cell_type": "markdown",
   "metadata": {},
   "source": [
    "В описании к проекту упоминается о наличии аббревиатуры 'tbd' в столбцах с рейтингом. \n",
    "\n",
    "Для понимания что это такое и как обрабатывать эти значения, необходимо найти местоположение этих значений, определить частоту появления таких значений, возможные признаки и причины таких значений."
   ]
  },
  {
   "cell_type": "code",
   "execution_count": 6,
   "metadata": {},
   "outputs": [
    {
     "data": {
      "text/plain": [
       "array([76., nan, 82., 80., 89., 58., 87., 91., 61., 97., 95., 77., 88.,\n",
       "       83., 94., 93., 85., 86., 98., 96., 90., 84., 73., 74., 78., 92.,\n",
       "       71., 72., 68., 62., 49., 67., 81., 66., 56., 79., 70., 59., 64.,\n",
       "       75., 60., 63., 69., 50., 25., 42., 44., 55., 48., 57., 29., 47.,\n",
       "       65., 54., 20., 53., 37., 38., 33., 52., 30., 32., 43., 45., 51.,\n",
       "       40., 46., 39., 34., 35., 41., 36., 28., 31., 27., 26., 19., 23.,\n",
       "       24., 21., 17., 22., 13.])"
      ]
     },
     "execution_count": 6,
     "metadata": {},
     "output_type": "execute_result"
    }
   ],
   "source": [
    "# поиск аббревиатуры 'tbd' в столбце с рейтингом critic_score\n",
    "\n",
    "data['critic_score'].unique()"
   ]
  },
  {
   "cell_type": "code",
   "execution_count": 7,
   "metadata": {},
   "outputs": [
    {
     "data": {
      "text/plain": [
       "array(['8', nan, '8.3', '8.5', '6.6', '8.4', '8.6', '7.7', '6.3', '7.4',\n",
       "       '8.2', '9', '7.9', '8.1', '8.7', '7.1', '3.4', '5.3', '4.8', '3.2',\n",
       "       '8.9', '6.4', '7.8', '7.5', '2.6', '7.2', '9.2', '7', '7.3', '4.3',\n",
       "       '7.6', '5.7', '5', '9.1', '6.5', 'tbd', '8.8', '6.9', '9.4', '6.8',\n",
       "       '6.1', '6.7', '5.4', '4', '4.9', '4.5', '9.3', '6.2', '4.2', '6',\n",
       "       '3.7', '4.1', '5.8', '5.6', '5.5', '4.4', '4.6', '5.9', '3.9',\n",
       "       '3.1', '2.9', '5.2', '3.3', '4.7', '5.1', '3.5', '2.5', '1.9', '3',\n",
       "       '2.7', '2.2', '2', '9.5', '2.1', '3.6', '2.8', '1.8', '3.8', '0',\n",
       "       '1.6', '9.6', '2.4', '1.7', '1.1', '0.3', '1.5', '0.7', '1.2',\n",
       "       '2.3', '0.5', '1.3', '0.2', '0.6', '1.4', '0.9', '1', '9.7'],\n",
       "      dtype=object)"
      ]
     },
     "execution_count": 7,
     "metadata": {},
     "output_type": "execute_result"
    }
   ],
   "source": [
    "# поиск аббревиатуры 'tbd' в столбце с рейтингом user_score\n",
    "\n",
    "data['user_score'].unique()"
   ]
  },
  {
   "cell_type": "code",
   "execution_count": 8,
   "metadata": {},
   "outputs": [
    {
     "data": {
      "text/plain": [
       "array(['E', nan, 'M', 'T', 'E10+', 'K-A', 'AO', 'EC', 'RP'], dtype=object)"
      ]
     },
     "execution_count": 8,
     "metadata": {},
     "output_type": "execute_result"
    }
   ],
   "source": [
    "# поиск аббревиатуры 'tbd' в столбце с рейтингом rating\n",
    "\n",
    "data['rating'].unique()"
   ]
  },
  {
   "cell_type": "code",
   "execution_count": 9,
   "metadata": {},
   "outputs": [
    {
     "name": "stdout",
     "output_type": "stream",
     "text": [
      "tbd    2424\n",
      "7.8     324\n",
      "8       290\n",
      "8.2     282\n",
      "8.3     254\n",
      "       ... \n",
      "1         2\n",
      "0.6       2\n",
      "0.7       2\n",
      "9.7       1\n",
      "0         1\n",
      "Name: user_score, Length: 96, dtype: int64\n"
     ]
    }
   ],
   "source": [
    "# выяснение частоты появления аббревиатуры 'tbd' в столбце с рейтингом user_score\n",
    "\n",
    "print(data['user_score'].value_counts())"
   ]
  },
  {
   "cell_type": "code",
   "execution_count": 10,
   "metadata": {},
   "outputs": [
    {
     "data": {
      "text/html": [
       "<div>\n",
       "<style scoped>\n",
       "    .dataframe tbody tr th:only-of-type {\n",
       "        vertical-align: middle;\n",
       "    }\n",
       "\n",
       "    .dataframe tbody tr th {\n",
       "        vertical-align: top;\n",
       "    }\n",
       "\n",
       "    .dataframe thead th {\n",
       "        text-align: right;\n",
       "    }\n",
       "</style>\n",
       "<table border=\"1\" class=\"dataframe\">\n",
       "  <thead>\n",
       "    <tr style=\"text-align: right;\">\n",
       "      <th></th>\n",
       "      <th>name</th>\n",
       "      <th>platform</th>\n",
       "      <th>year_of_release</th>\n",
       "      <th>genre</th>\n",
       "      <th>na_sales</th>\n",
       "      <th>eu_sales</th>\n",
       "      <th>jp_sales</th>\n",
       "      <th>other_sales</th>\n",
       "      <th>critic_score</th>\n",
       "      <th>user_score</th>\n",
       "      <th>rating</th>\n",
       "    </tr>\n",
       "  </thead>\n",
       "  <tbody>\n",
       "    <tr>\n",
       "      <td>119</td>\n",
       "      <td>Zumba Fitness</td>\n",
       "      <td>Wii</td>\n",
       "      <td>2010.0</td>\n",
       "      <td>Sports</td>\n",
       "      <td>3.45</td>\n",
       "      <td>2.59</td>\n",
       "      <td>0.0</td>\n",
       "      <td>0.66</td>\n",
       "      <td>NaN</td>\n",
       "      <td>tbd</td>\n",
       "      <td>E</td>\n",
       "    </tr>\n",
       "    <tr>\n",
       "      <td>301</td>\n",
       "      <td>Namco Museum: 50th Anniversary</td>\n",
       "      <td>PS2</td>\n",
       "      <td>2005.0</td>\n",
       "      <td>Misc</td>\n",
       "      <td>2.08</td>\n",
       "      <td>1.35</td>\n",
       "      <td>0.0</td>\n",
       "      <td>0.54</td>\n",
       "      <td>61.0</td>\n",
       "      <td>tbd</td>\n",
       "      <td>E10+</td>\n",
       "    </tr>\n",
       "    <tr>\n",
       "      <td>520</td>\n",
       "      <td>Zumba Fitness 2</td>\n",
       "      <td>Wii</td>\n",
       "      <td>2011.0</td>\n",
       "      <td>Sports</td>\n",
       "      <td>1.51</td>\n",
       "      <td>1.03</td>\n",
       "      <td>0.0</td>\n",
       "      <td>0.27</td>\n",
       "      <td>NaN</td>\n",
       "      <td>tbd</td>\n",
       "      <td>T</td>\n",
       "    </tr>\n",
       "    <tr>\n",
       "      <td>645</td>\n",
       "      <td>uDraw Studio</td>\n",
       "      <td>Wii</td>\n",
       "      <td>2010.0</td>\n",
       "      <td>Misc</td>\n",
       "      <td>1.65</td>\n",
       "      <td>0.57</td>\n",
       "      <td>0.0</td>\n",
       "      <td>0.20</td>\n",
       "      <td>71.0</td>\n",
       "      <td>tbd</td>\n",
       "      <td>E</td>\n",
       "    </tr>\n",
       "    <tr>\n",
       "      <td>657</td>\n",
       "      <td>Frogger's Adventures: Temple of the Frog</td>\n",
       "      <td>GBA</td>\n",
       "      <td>NaN</td>\n",
       "      <td>Adventure</td>\n",
       "      <td>2.15</td>\n",
       "      <td>0.18</td>\n",
       "      <td>0.0</td>\n",
       "      <td>0.07</td>\n",
       "      <td>73.0</td>\n",
       "      <td>tbd</td>\n",
       "      <td>E</td>\n",
       "    </tr>\n",
       "    <tr>\n",
       "      <td>...</td>\n",
       "      <td>...</td>\n",
       "      <td>...</td>\n",
       "      <td>...</td>\n",
       "      <td>...</td>\n",
       "      <td>...</td>\n",
       "      <td>...</td>\n",
       "      <td>...</td>\n",
       "      <td>...</td>\n",
       "      <td>...</td>\n",
       "      <td>...</td>\n",
       "      <td>...</td>\n",
       "    </tr>\n",
       "    <tr>\n",
       "      <td>16695</td>\n",
       "      <td>Planet Monsters</td>\n",
       "      <td>GBA</td>\n",
       "      <td>2001.0</td>\n",
       "      <td>Action</td>\n",
       "      <td>0.01</td>\n",
       "      <td>0.00</td>\n",
       "      <td>0.0</td>\n",
       "      <td>0.00</td>\n",
       "      <td>67.0</td>\n",
       "      <td>tbd</td>\n",
       "      <td>E</td>\n",
       "    </tr>\n",
       "    <tr>\n",
       "      <td>16697</td>\n",
       "      <td>Bust-A-Move 3000</td>\n",
       "      <td>GC</td>\n",
       "      <td>2003.0</td>\n",
       "      <td>Puzzle</td>\n",
       "      <td>0.01</td>\n",
       "      <td>0.00</td>\n",
       "      <td>0.0</td>\n",
       "      <td>0.00</td>\n",
       "      <td>53.0</td>\n",
       "      <td>tbd</td>\n",
       "      <td>E</td>\n",
       "    </tr>\n",
       "    <tr>\n",
       "      <td>16698</td>\n",
       "      <td>Mega Brain Boost</td>\n",
       "      <td>DS</td>\n",
       "      <td>2008.0</td>\n",
       "      <td>Puzzle</td>\n",
       "      <td>0.01</td>\n",
       "      <td>0.00</td>\n",
       "      <td>0.0</td>\n",
       "      <td>0.00</td>\n",
       "      <td>48.0</td>\n",
       "      <td>tbd</td>\n",
       "      <td>E</td>\n",
       "    </tr>\n",
       "    <tr>\n",
       "      <td>16704</td>\n",
       "      <td>Plushees</td>\n",
       "      <td>DS</td>\n",
       "      <td>2008.0</td>\n",
       "      <td>Simulation</td>\n",
       "      <td>0.01</td>\n",
       "      <td>0.00</td>\n",
       "      <td>0.0</td>\n",
       "      <td>0.00</td>\n",
       "      <td>NaN</td>\n",
       "      <td>tbd</td>\n",
       "      <td>E</td>\n",
       "    </tr>\n",
       "    <tr>\n",
       "      <td>16706</td>\n",
       "      <td>Men in Black II: Alien Escape</td>\n",
       "      <td>GC</td>\n",
       "      <td>2003.0</td>\n",
       "      <td>Shooter</td>\n",
       "      <td>0.01</td>\n",
       "      <td>0.00</td>\n",
       "      <td>0.0</td>\n",
       "      <td>0.00</td>\n",
       "      <td>NaN</td>\n",
       "      <td>tbd</td>\n",
       "      <td>T</td>\n",
       "    </tr>\n",
       "  </tbody>\n",
       "</table>\n",
       "<p>2424 rows × 11 columns</p>\n",
       "</div>"
      ],
      "text/plain": [
       "                                           name platform  year_of_release  \\\n",
       "119                               Zumba Fitness      Wii           2010.0   \n",
       "301              Namco Museum: 50th Anniversary      PS2           2005.0   \n",
       "520                             Zumba Fitness 2      Wii           2011.0   \n",
       "645                                uDraw Studio      Wii           2010.0   \n",
       "657    Frogger's Adventures: Temple of the Frog      GBA              NaN   \n",
       "...                                         ...      ...              ...   \n",
       "16695                           Planet Monsters      GBA           2001.0   \n",
       "16697                          Bust-A-Move 3000       GC           2003.0   \n",
       "16698                          Mega Brain Boost       DS           2008.0   \n",
       "16704                                  Plushees       DS           2008.0   \n",
       "16706             Men in Black II: Alien Escape       GC           2003.0   \n",
       "\n",
       "            genre  na_sales  eu_sales  jp_sales  other_sales  critic_score  \\\n",
       "119        Sports      3.45      2.59       0.0         0.66           NaN   \n",
       "301          Misc      2.08      1.35       0.0         0.54          61.0   \n",
       "520        Sports      1.51      1.03       0.0         0.27           NaN   \n",
       "645          Misc      1.65      0.57       0.0         0.20          71.0   \n",
       "657     Adventure      2.15      0.18       0.0         0.07          73.0   \n",
       "...           ...       ...       ...       ...          ...           ...   \n",
       "16695      Action      0.01      0.00       0.0         0.00          67.0   \n",
       "16697      Puzzle      0.01      0.00       0.0         0.00          53.0   \n",
       "16698      Puzzle      0.01      0.00       0.0         0.00          48.0   \n",
       "16704  Simulation      0.01      0.00       0.0         0.00           NaN   \n",
       "16706     Shooter      0.01      0.00       0.0         0.00           NaN   \n",
       "\n",
       "      user_score rating  \n",
       "119          tbd      E  \n",
       "301          tbd   E10+  \n",
       "520          tbd      T  \n",
       "645          tbd      E  \n",
       "657          tbd      E  \n",
       "...          ...    ...  \n",
       "16695        tbd      E  \n",
       "16697        tbd      E  \n",
       "16698        tbd      E  \n",
       "16704        tbd      E  \n",
       "16706        tbd      T  \n",
       "\n",
       "[2424 rows x 11 columns]"
      ]
     },
     "metadata": {},
     "output_type": "display_data"
    }
   ],
   "source": [
    "# вывод строк с аббревиатурой 'tbd' в столбце с рейтингом user_score\n",
    "\n",
    "display(data.loc[data['user_score'] == 'tbd'])"
   ]
  },
  {
   "cell_type": "code",
   "execution_count": 11,
   "metadata": {},
   "outputs": [
    {
     "name": "stdout",
     "output_type": "stream",
     "text": [
      "Максимальное число проданных копий игры с рейтингом tbd в Северной Америке 3.45\n",
      "Максимальное число проданных копий игры с рейтингом tbd в Европе 2.59\n",
      "Максимальное число проданных копий игры с рейтингом tbd в Японии 0.86\n"
     ]
    }
   ],
   "source": [
    "# попытка обнаружить зависимость рейтинга 'tbd' от продаж\n",
    "\n",
    "print('Максимальное число проданных копий игры с рейтингом tbd в Северной Америке',\n",
    "      data.loc[data['user_score'] == 'tbd','na_sales'].max())                                        \n",
    "print('Максимальное число проданных копий игры с рейтингом tbd в Европе',\n",
    "      data.loc[data['user_score'] == 'tbd', 'eu_sales'].max())\n",
    "print('Максимальное число проданных копий игры с рейтингом tbd в Японии',\n",
    "      data.loc[data['user_score'] == 'tbd', 'jp_sales'].max())"
   ]
  },
  {
   "cell_type": "code",
   "execution_count": 12,
   "metadata": {},
   "outputs": [
    {
     "data": {
      "image/png": "[encoded data removed]",
      "text/plain": [
       "<Figure size 432x288 with 1 Axes>"
      ]
     },
     "metadata": {
      "needs_background": "light"
     },
     "output_type": "display_data"
    }
   ],
   "source": [
    "# общая картина продаж игр на примере С.Америки\n",
    "data.hist('na_sales', bins=50, range=(0.2, 2));"
   ]
  },
  {
   "cell_type": "markdown",
   "metadata": {},
   "source": [
    "Аббревиатура 'tbd' обнаружилась в столбце user_score. Строк с таким значением довольно много - 2424.\n",
    "\n",
    "\n",
    "Вывод строк с аббревиатурой 'tbd' не выявляет заметных зависимостей и причин появления этого: годы выпуска, платформа, другие рейтинги и прочие параметры не объединены каким-то общим признаком с аббревиатурой 'tbd'. \n",
    "\n",
    "Была проведена проверка на зависимость между количеством проданных копий и таким рейтингом. Учитывая количество проданных копий игр в целом (распределение на гистограмме), делать вывод о невостребованности или наоборот свехпопулярности игр с таким рейтингом нельзя. \n",
    "\n",
    "Проведению анализа мешает тип данных таких ячеек, поэтому, во избежание искажения результатов исследования, аббревиатура 'tbd' будет заменена числовым значением, резко отличающимся от данных, предусмотренных документацией. Рейтинг пользователей имеет значение от 0 до 10, таким образом, значение минус 1.0 (тип данных float64) будет выделять ячейки с рейтингом 'tbd', и позволит провести дальнейший анализ таблицы.\n",
    "\n",
    "\n",
    "Кроме того, столбцы critic_score, user_score, rating содержат пропуски. Некоторое количество пропусков содержит и столбец year_of_release. Для единообразия и возможности вести вычисления и анализ, все пропуски в указанных столбцах заменяю значением минус 2.0. Такое значение не смешивается с другими значениями.\n",
    "\n",
    "В итоге, по всей таблице значения минус 1 и минус 2 хоть и будут иметь тип float64, но будут являться категориальными значениями:\n",
    "\n",
    "минус 1 - tbd\n",
    "\n",
    "минус 2 - нет данных"
   ]
  },
  {
   "cell_type": "code",
   "execution_count": 13,
   "metadata": {},
   "outputs": [],
   "source": [
    "# замена аббревиатуры 'tbd' на минус 1\n",
    "data.loc[data['user_score'] == 'tbd', 'user_score'] = -1.0\n",
    "# замена пропусков значением минус 2.0\n",
    "data['user_score'] = data['user_score'].fillna(-2) \n",
    "# перевод значений столбцы в тип float64\n",
    "data['user_score'] = data['user_score'].astype('float')"
   ]
  },
  {
   "cell_type": "code",
   "execution_count": 14,
   "metadata": {},
   "outputs": [],
   "source": [
    "# замена пропусков значением минус 2.0\n",
    "data['critic_score'] = data['critic_score'].fillna(-2) "
   ]
  },
  {
   "cell_type": "code",
   "execution_count": 15,
   "metadata": {},
   "outputs": [],
   "source": [
    "# замена пропусков значением минус 2.0\n",
    "data['rating'] = data['rating'].fillna(-2) "
   ]
  },
  {
   "cell_type": "code",
   "execution_count": 16,
   "metadata": {},
   "outputs": [],
   "source": [
    "# замена пропусков значением минус 2\n",
    "data['year_of_release'] = data['year_of_release'].fillna(-2) \n",
    "# перевод значений столбцы в тип int\n",
    "data['year_of_release'] = data['year_of_release'].astype('int')"
   ]
  },
  {
   "cell_type": "code",
   "execution_count": 17,
   "metadata": {},
   "outputs": [
    {
     "name": "stdout",
     "output_type": "stream",
     "text": [
      "<class 'pandas.core.frame.DataFrame'>\n",
      "RangeIndex: 16715 entries, 0 to 16714\n",
      "Data columns (total 12 columns):\n",
      "name               16713 non-null object\n",
      "platform           16715 non-null object\n",
      "year_of_release    16715 non-null int64\n",
      "genre              16713 non-null object\n",
      "na_sales           16715 non-null float64\n",
      "eu_sales           16715 non-null float64\n",
      "jp_sales           16715 non-null float64\n",
      "other_sales        16715 non-null float64\n",
      "critic_score       16715 non-null float64\n",
      "user_score         16715 non-null float64\n",
      "rating             16715 non-null object\n",
      "total_sales        16715 non-null float64\n",
      "dtypes: float64(7), int64(1), object(4)\n",
      "memory usage: 1.5+ MB\n"
     ]
    },
    {
     "data": {
      "text/html": [
       "<div>\n",
       "<style scoped>\n",
       "    .dataframe tbody tr th:only-of-type {\n",
       "        vertical-align: middle;\n",
       "    }\n",
       "\n",
       "    .dataframe tbody tr th {\n",
       "        vertical-align: top;\n",
       "    }\n",
       "\n",
       "    .dataframe thead th {\n",
       "        text-align: right;\n",
       "    }\n",
       "</style>\n",
       "<table border=\"1\" class=\"dataframe\">\n",
       "  <thead>\n",
       "    <tr style=\"text-align: right;\">\n",
       "      <th></th>\n",
       "      <th>name</th>\n",
       "      <th>platform</th>\n",
       "      <th>year_of_release</th>\n",
       "      <th>genre</th>\n",
       "      <th>na_sales</th>\n",
       "      <th>eu_sales</th>\n",
       "      <th>jp_sales</th>\n",
       "      <th>other_sales</th>\n",
       "      <th>critic_score</th>\n",
       "      <th>user_score</th>\n",
       "      <th>rating</th>\n",
       "      <th>total_sales</th>\n",
       "    </tr>\n",
       "  </thead>\n",
       "  <tbody>\n",
       "    <tr>\n",
       "      <td>0</td>\n",
       "      <td>Wii Sports</td>\n",
       "      <td>Wii</td>\n",
       "      <td>2006</td>\n",
       "      <td>Sports</td>\n",
       "      <td>41.36</td>\n",
       "      <td>28.96</td>\n",
       "      <td>3.77</td>\n",
       "      <td>8.45</td>\n",
       "      <td>76.0</td>\n",
       "      <td>8.0</td>\n",
       "      <td>E</td>\n",
       "      <td>82.54</td>\n",
       "    </tr>\n",
       "    <tr>\n",
       "      <td>1</td>\n",
       "      <td>Super Mario Bros.</td>\n",
       "      <td>NES</td>\n",
       "      <td>1985</td>\n",
       "      <td>Platform</td>\n",
       "      <td>29.08</td>\n",
       "      <td>3.58</td>\n",
       "      <td>6.81</td>\n",
       "      <td>0.77</td>\n",
       "      <td>-2.0</td>\n",
       "      <td>-2.0</td>\n",
       "      <td>-2</td>\n",
       "      <td>40.24</td>\n",
       "    </tr>\n",
       "    <tr>\n",
       "      <td>2</td>\n",
       "      <td>Mario Kart Wii</td>\n",
       "      <td>Wii</td>\n",
       "      <td>2008</td>\n",
       "      <td>Racing</td>\n",
       "      <td>15.68</td>\n",
       "      <td>12.76</td>\n",
       "      <td>3.79</td>\n",
       "      <td>3.29</td>\n",
       "      <td>82.0</td>\n",
       "      <td>8.3</td>\n",
       "      <td>E</td>\n",
       "      <td>35.52</td>\n",
       "    </tr>\n",
       "    <tr>\n",
       "      <td>3</td>\n",
       "      <td>Wii Sports Resort</td>\n",
       "      <td>Wii</td>\n",
       "      <td>2009</td>\n",
       "      <td>Sports</td>\n",
       "      <td>15.61</td>\n",
       "      <td>10.93</td>\n",
       "      <td>3.28</td>\n",
       "      <td>2.95</td>\n",
       "      <td>80.0</td>\n",
       "      <td>8.0</td>\n",
       "      <td>E</td>\n",
       "      <td>32.77</td>\n",
       "    </tr>\n",
       "    <tr>\n",
       "      <td>4</td>\n",
       "      <td>Pokemon Red/Pokemon Blue</td>\n",
       "      <td>GB</td>\n",
       "      <td>1996</td>\n",
       "      <td>Role-Playing</td>\n",
       "      <td>11.27</td>\n",
       "      <td>8.89</td>\n",
       "      <td>10.22</td>\n",
       "      <td>1.00</td>\n",
       "      <td>-2.0</td>\n",
       "      <td>-2.0</td>\n",
       "      <td>-2</td>\n",
       "      <td>31.38</td>\n",
       "    </tr>\n",
       "  </tbody>\n",
       "</table>\n",
       "</div>"
      ],
      "text/plain": [
       "                       name platform  year_of_release         genre  na_sales  \\\n",
       "0                Wii Sports      Wii             2006        Sports     41.36   \n",
       "1         Super Mario Bros.      NES             1985      Platform     29.08   \n",
       "2            Mario Kart Wii      Wii             2008        Racing     15.68   \n",
       "3         Wii Sports Resort      Wii             2009        Sports     15.61   \n",
       "4  Pokemon Red/Pokemon Blue       GB             1996  Role-Playing     11.27   \n",
       "\n",
       "   eu_sales  jp_sales  other_sales  critic_score  user_score rating  \\\n",
       "0     28.96      3.77         8.45          76.0         8.0      E   \n",
       "1      3.58      6.81         0.77          -2.0        -2.0     -2   \n",
       "2     12.76      3.79         3.29          82.0         8.3      E   \n",
       "3     10.93      3.28         2.95          80.0         8.0      E   \n",
       "4      8.89     10.22         1.00          -2.0        -2.0     -2   \n",
       "\n",
       "   total_sales  \n",
       "0        82.54  \n",
       "1        40.24  \n",
       "2        35.52  \n",
       "3        32.77  \n",
       "4        31.38  "
      ]
     },
     "metadata": {},
     "output_type": "display_data"
    }
   ],
   "source": [
    "# суммарные продажи во всех регионах\n",
    "data['total_sales'] = data['na_sales'] + data['eu_sales'] + data['jp_sales'] + data['other_sales']\n",
    "# проверка выполнения пердыдущих операций\n",
    "data.info()\n",
    "display(data.head())\n"
   ]
  },
  {
   "cell_type": "markdown",
   "metadata": {},
   "source": [
    "ШАГ 3. ИССЛЕДОВАТЕЛЬСКИЙ АНАЛИЗ ДАННЫХ"
   ]
  },
  {
   "cell_type": "code",
   "execution_count": 18,
   "metadata": {},
   "outputs": [
    {
     "name": "stdout",
     "output_type": "stream",
     "text": [
      "Названия платформ и суммарное количество проданных копий игр к этим платформам:\n"
     ]
    },
    {
     "data": {
      "text/plain": [
       "platform\n",
       "2600     133\n",
       "3DO        3\n",
       "3DS      520\n",
       "DC        52\n",
       "DS      2151\n",
       "GB        98\n",
       "GBA      822\n",
       "GC       556\n",
       "GEN       29\n",
       "GG         1\n",
       "N64      319\n",
       "NES       98\n",
       "NG        12\n",
       "PC       974\n",
       "PCFX       1\n",
       "PS      1197\n",
       "PS2     2161\n",
       "PS3     1331\n",
       "PS4      392\n",
       "PSP     1209\n",
       "PSV      430\n",
       "SAT      173\n",
       "SCD        6\n",
       "SNES     239\n",
       "TG16       2\n",
       "WS         6\n",
       "Wii     1320\n",
       "WiiU     147\n",
       "X360    1262\n",
       "XB       824\n",
       "XOne     247\n",
       "Name: total_sales, dtype: int64"
      ]
     },
     "execution_count": 18,
     "metadata": {},
     "output_type": "execute_result"
    }
   ],
   "source": [
    "# начало исследования по количеству реализованных игр по платформам\n",
    "# вывод всех платформ и их характеристик\n",
    "print('Названия платформ и суммарное количество проданных копий игр к этим платформам:')     \n",
    "data.groupby('platform')['total_sales'].count() "
   ]
  },
  {
   "cell_type": "code",
   "execution_count": 19,
   "metadata": {},
   "outputs": [
    {
     "data": {
      "image/png": "[encoded data removed]",
      "text/plain": [
       "<Figure size 720x720 with 1 Axes>"
      ]
     },
     "metadata": {},
     "output_type": "display_data"
    }
   ],
   "source": [
    "# график, иллюстрирующий предыдущий вывод \n",
    "# названия платформ и суммарное количество проданных копий игр к этим платформам\n",
    "data.groupby('platform')['total_sales'].count().plot(y = 'column', kind = 'pie', figsize=(10, 10));"
   ]
  },
  {
   "cell_type": "code",
   "execution_count": 20,
   "metadata": {},
   "outputs": [
    {
     "data": {
      "text/plain": [
       "Index(['XOne', 'GC', 'SNES', 'N64', 'NES', 'GB', 'XB', '3DS', 'PC', 'PSP',\n",
       "       'PS4', 'GBA', 'PS', 'DS', 'Wii', 'PS3', 'X360', 'PS2'],\n",
       "      dtype='object', name='platform')"
      ]
     },
     "metadata": {},
     "output_type": "display_data"
    },
    {
     "data": {
      "image/png": "[encoded data removed]",
      "text/plain": [
       "<Figure size 1440x864 with 1 Axes>"
      ]
     },
     "metadata": {
      "needs_background": "light"
     },
     "output_type": "display_data"
    }
   ],
   "source": [
    "# группировка таблицы по платформам, подсчёт суммарного количества реализованных игр,\n",
    "# вывод значений более 100 млн. копий\n",
    "\n",
    "data_1 = data.groupby('platform').agg({'total_sales': 'sum'}).sort_values(by = 'total_sales').\\\n",
    "tail(18).index\n",
    "\n",
    "display(data_1)\n",
    "\n",
    "# вывод в виде графика среза таблицы, удовлетворяющего условию предыдущей команды\n",
    "# ГРАФИК № 1\n",
    "\n",
    "data.query('platform in @data_1').pivot_table(index = 'year_of_release', columns = 'platform',\n",
    "    values = 'total_sales', aggfunc = 'sum').plot(xlim = (1982, 2017), figsize = (20, 12));"
   ]
  },
  {
   "cell_type": "code",
   "execution_count": 21,
   "metadata": {},
   "outputs": [
    {
     "data": {
      "image/png": "[encoded data removed]",
      "text/plain": [
       "<Figure size 1440x1080 with 1 Axes>"
      ]
     },
     "metadata": {
      "needs_background": "light"
     },
     "output_type": "display_data"
    }
   ],
   "source": [
    "# вывод того же графика - среза таблицы, за последнее десятилетие\n",
    "# ГРАФИК № 2\n",
    "\n",
    "data.query('platform in @data_1').pivot_table(index = 'year_of_release', columns = 'platform',\n",
    "    values = 'total_sales', aggfunc = 'sum').plot(xlim = (2010, 2017), figsize = (20, 15));"
   ]
  },
  {
   "cell_type": "code",
   "execution_count": 22,
   "metadata": {},
   "outputs": [
    {
     "data": {
      "image/png": "[encoded data removed]",
      "text/plain": [
       "<Figure size 720x504 with 1 Axes>"
      ]
     },
     "metadata": {
      "needs_background": "light"
     },
     "output_type": "display_data"
    }
   ],
   "source": [
    "# вывод графика реализации игр лидеров последних лет - платформ PS4 и XOne\n",
    "# ГРАФИК № 3\n",
    "\n",
    "data.query('platform == \"XOne\" or platform == \"PS4\"').pivot_table(index = 'year_of_release',\n",
    "    columns = 'platform',\n",
    "    values = 'total_sales', aggfunc = 'sum').plot(xlim = (2012, 2017), figsize = (10, 7));"
   ]
  },
  {
   "cell_type": "markdown",
   "metadata": {},
   "source": [
    "Вывод списком суммарного количества реализованных игр показывает, что часть платформ реализуют очень небольшое количество игр, и, по видимому, экономически нерентабельны. \n",
    "\n",
    "\n",
    "График № 1 показывает время жизни игровых платформ. Определяющим фактором здесь является динамика реализации игр. С некоторой вариативностью типичный график выглядит ломаной линией, имеющей характерные участки (стадии развития платформы) - рост, пиковое значение, спад. Возможны плато, два пика, близкие друг к другу по времени, замедление роста, замедление падения. Типичное время жизни платформы от 4 до 6 лет. \n",
    "\n",
    "График № 2 показывает динамику реализации игр с 2010 по 2016 годы. Видны спады - последние годы жизни одних платформ и начало жизни (старта) других платформ. На графике чётко выделяются две игровые платформы - PS4 и XOne. Учитывая, что данные за 2016 год неполные, и предполагая, что время жизни платформы от 4 до 6 лет, можно предполагать, что именно эти две платформы являются и будут являться лидерами рынка в ближайшие годы, и наиболее вероятно в интресующем 2017 году. \n",
    "\n",
    "График № 3 показывает динамику лидеолв рынка последних лет: платформ PS4 и XOne. Данные за 2016 год не полные. Отображённый спад - эффект недостатка данных.\n",
    "\n",
    "* Платформы PS4 и XOne.\n",
    "\n",
    "Старт платформ на рынке в один год - в 2013 году. Рост платформы PS4 быстрее, чем рост плтаформы XOne. Абсолютные показатели (число реализованных копий игр) платформы PS4 также выше, чем показатели платформы XOne. Предполагаемое время упадка обеих платформ не ранее 2018 года (при среднем сроке жизни платформы 5 лет). "
   ]
  },
  {
   "cell_type": "code",
   "execution_count": 23,
   "metadata": {},
   "outputs": [
    {
     "data": {
      "text/plain": [
       "(0, 1000)"
      ]
     },
     "execution_count": 23,
     "metadata": {},
     "output_type": "execute_result"
    },
    {
     "data": {
      "image/png": "[encoded data removed]",
      "text/plain": [
       "<Figure size 432x288 with 1 Axes>"
      ]
     },
     "metadata": {
      "needs_background": "light"
     },
     "output_type": "display_data"
    }
   ],
   "source": [
    "# диаграмма по глобальным продажам игр\n",
    "import matplotlib.pyplot as plt\n",
    "\n",
    "data.groupby('platform').sum().boxplot('total_sales')\n",
    "\n",
    "plt.ylim(0, 1000)"
   ]
  },
  {
   "cell_type": "code",
   "execution_count": 24,
   "metadata": {},
   "outputs": [
    {
     "data": {
      "text/plain": [
       "Index(['PSV', 'PC', 'WiiU', 'X360', 'PS3', '3DS', 'XOne', 'PS4'], dtype='object', name='platform')"
      ]
     },
     "metadata": {},
     "output_type": "display_data"
    }
   ],
   "source": [
    "# создание среза данных по глобальным продажам игр для игр, реализованных после 2013 года\n",
    "\n",
    "data_2 = data.query('year_of_release > 2013').groupby('platform').agg({'total_sales': 'sum'}).\\\n",
    "sort_values(by = 'total_sales').tail(8).index\n",
    "\n",
    "display(data_2)"
   ]
  },
  {
   "cell_type": "code",
   "execution_count": 25,
   "metadata": {},
   "outputs": [
    {
     "data": {
      "text/plain": [
       "(0, 4.2)"
      ]
     },
     "execution_count": 25,
     "metadata": {},
     "output_type": "execute_result"
    },
    {
     "data": {
      "image/png": "[encoded data removed]",
      "text/plain": [
       "<Figure size 432x288 with 1 Axes>"
      ]
     },
     "metadata": {
      "needs_background": "light"
     },
     "output_type": "display_data"
    }
   ],
   "source": [
    "# диаграммы по ряду платформ по глобальным продажам игр для игр\n",
    "\n",
    "data.query('platform in @data_1').boxplot('total_sales', by='platform')\n",
    "plt.ylim(0, 4.2)\n"
   ]
  },
  {
   "cell_type": "code",
   "execution_count": 26,
   "metadata": {},
   "outputs": [
    {
     "data": {
      "text/plain": [
       "(0, 2)"
      ]
     },
     "execution_count": 26,
     "metadata": {},
     "output_type": "execute_result"
    },
    {
     "data": {
      "image/png": "[encoded data removed]",
      "text/plain": [
       "<Figure size 432x288 with 1 Axes>"
      ]
     },
     "metadata": {
      "needs_background": "light"
     },
     "output_type": "display_data"
    }
   ],
   "source": [
    "# диаграммы по ряду платформ по глобальным продажам игр для игр, реализованных после 2013 года\n",
    "\n",
    "data.query('platform in @data_2').boxplot('total_sales', by='platform')\n",
    "\n",
    "plt.xlim(0, 9)\n",
    "plt.ylim(0, 2)"
   ]
  },
  {
   "cell_type": "code",
   "execution_count": 27,
   "metadata": {},
   "outputs": [
    {
     "data": {
      "text/plain": [
       "count      31.000000\n",
       "mean      287.603548\n",
       "std       348.160256\n",
       "min         0.030000\n",
       "25%        23.360000\n",
       "50%       200.040000\n",
       "75%       304.095000\n",
       "max      1255.770000\n",
       "Name: total_sales, dtype: float64"
      ]
     },
     "execution_count": 27,
     "metadata": {},
     "output_type": "execute_result"
    }
   ],
   "source": [
    "# характеристики данных total_sales по платформам\n",
    "data.groupby('platform')['total_sales'].sum().describe() "
   ]
  },
  {
   "cell_type": "code",
   "execution_count": 28,
   "metadata": {},
   "outputs": [
    {
     "data": {
      "text/plain": [
       "count     10.000000\n",
       "mean      72.945000\n",
       "std       86.355404\n",
       "min        0.360000\n",
       "25%       23.562500\n",
       "50%       45.600000\n",
       "75%       82.055000\n",
       "max      288.150000\n",
       "Name: total_sales, dtype: float64"
      ]
     },
     "execution_count": 28,
     "metadata": {},
     "output_type": "execute_result"
    }
   ],
   "source": [
    "# характеристики данных total_sales по платформам для игр, реализованных после 2013 года\n",
    "data.query('year_of_release > 2013').groupby('platform')['total_sales'].sum().describe() "
   ]
  },
  {
   "cell_type": "markdown",
   "metadata": {},
   "source": [
    "Построен ряд графиков типа \"ящик с усами\". \n",
    "\n",
    "\n",
    "* Общий график для всех платформ за всё время наблюдений. \n",
    "График \"ящик с усами\" демонстрирует распределение количества реализованных игр в разбивке по платформам. Видно, что основные значения количества реализованных игр меньше среднего количества, а высокие показатели явлются очень редкими, нетипичными. Таким образом, можно сделать вывод о том, что заметный коммерческий успех в реализации игр является скорее исключением, чем правилом, т.е. является выбросом.\n",
    "\n",
    "В дополнение к графикам \"ящик с усами\" метод describe() демострирует численно характеристики данных по суммарным продажам (total_sales) по платформам. \n",
    "\n",
    "\n",
    "count      31 - в исследовании 31 платформа \n",
    "\n",
    "mean       287.60 - среднее арифметическое значение по продажам\n",
    "\n",
    "std        348.16 - стандартное отклонение, т.е. характеристика разброса занчений продаж\n",
    "\n",
    "min        0.03 - минимальное значение по продажам\n",
    "\n",
    "25%        23.36 - первый квартиль значений по продажам\n",
    "\n",
    "50%        200.04 - медиана, или второй квартиль значений по продажам\n",
    "\n",
    "75%        304.10 - третий квартиль значений по продажам\n",
    "\n",
    "max        1255.77 - максимальное значение по продажам\n",
    "\n",
    "\n",
    "Стандартное отклонение значения по продажам столь велико, что почти в два раза превышает медианное значение по продажам, и ещё значительно выше среднего значения.\n",
    "\n",
    "\n",
    "* Графики для платформ-лидерови графики для платформ-лидеров после 2013 года демонстрируют другую картину: медианные значение и средние значения значительно ниже и ближе к первому квартилю, а разброс (среднее отклонение) в этом случае не так велик, и уже не превышает значения третьего квартиля.\n",
    "\n",
    "\n",
    "В дополнение к графикам \"ящик с усами\" метод describe() демострирует численно характеристики данных по суммарным продажам (total_sales) по платформам для платформ-лидеров после 2013 года. \n",
    "\n",
    "\n",
    "count     10 - в исследовании 10 платформ \n",
    "\n",
    "mean      72.95 - среднее арифметическое значение по продажам\n",
    "\n",
    "std       86.36 - стандартное отклонение, т.е. характеристика разброса занчений продаж\n",
    "\n",
    "min       0.36 - минимальное значение по продажам\n",
    "\n",
    "25%       23.56 - первый квартиль значений по продажам\n",
    "\n",
    "50%       45.60 - медиана, или второй квартиль значений по продажам\n",
    "\n",
    "75%       82.06 - третий квартиль значений по продажам\n",
    "\n",
    "max       288.15 - максимальное значение по продажам\n"
   ]
  },
  {
   "cell_type": "code",
   "execution_count": 29,
   "metadata": {},
   "outputs": [
    {
     "data": {
      "text/html": [
       "<div>\n",
       "<style scoped>\n",
       "    .dataframe tbody tr th:only-of-type {\n",
       "        vertical-align: middle;\n",
       "    }\n",
       "\n",
       "    .dataframe tbody tr th {\n",
       "        vertical-align: top;\n",
       "    }\n",
       "\n",
       "    .dataframe thead th {\n",
       "        text-align: right;\n",
       "    }\n",
       "</style>\n",
       "<table border=\"1\" class=\"dataframe\">\n",
       "  <thead>\n",
       "    <tr style=\"text-align: right;\">\n",
       "      <th></th>\n",
       "      <th>name</th>\n",
       "      <th>platform</th>\n",
       "      <th>year_of_release</th>\n",
       "      <th>genre</th>\n",
       "      <th>na_sales</th>\n",
       "      <th>eu_sales</th>\n",
       "      <th>jp_sales</th>\n",
       "      <th>other_sales</th>\n",
       "      <th>critic_score</th>\n",
       "      <th>user_score</th>\n",
       "      <th>rating</th>\n",
       "      <th>total_sales</th>\n",
       "    </tr>\n",
       "  </thead>\n",
       "  <tbody>\n",
       "    <tr>\n",
       "      <td>42</td>\n",
       "      <td>Grand Theft Auto V</td>\n",
       "      <td>PS4</td>\n",
       "      <td>2014</td>\n",
       "      <td>Action</td>\n",
       "      <td>3.96</td>\n",
       "      <td>6.31</td>\n",
       "      <td>0.38</td>\n",
       "      <td>1.97</td>\n",
       "      <td>97.0</td>\n",
       "      <td>8.3</td>\n",
       "      <td>M</td>\n",
       "      <td>12.62</td>\n",
       "    </tr>\n",
       "    <tr>\n",
       "      <td>77</td>\n",
       "      <td>FIFA 16</td>\n",
       "      <td>PS4</td>\n",
       "      <td>2015</td>\n",
       "      <td>Sports</td>\n",
       "      <td>1.12</td>\n",
       "      <td>6.12</td>\n",
       "      <td>0.06</td>\n",
       "      <td>1.28</td>\n",
       "      <td>82.0</td>\n",
       "      <td>4.3</td>\n",
       "      <td>E</td>\n",
       "      <td>8.58</td>\n",
       "    </tr>\n",
       "    <tr>\n",
       "      <td>92</td>\n",
       "      <td>Call of Duty: Advanced Warfare</td>\n",
       "      <td>PS4</td>\n",
       "      <td>2014</td>\n",
       "      <td>Shooter</td>\n",
       "      <td>2.81</td>\n",
       "      <td>3.48</td>\n",
       "      <td>0.14</td>\n",
       "      <td>1.23</td>\n",
       "      <td>83.0</td>\n",
       "      <td>5.7</td>\n",
       "      <td>M</td>\n",
       "      <td>7.66</td>\n",
       "    </tr>\n",
       "    <tr>\n",
       "      <td>94</td>\n",
       "      <td>FIFA 17</td>\n",
       "      <td>PS4</td>\n",
       "      <td>2016</td>\n",
       "      <td>Sports</td>\n",
       "      <td>0.66</td>\n",
       "      <td>5.75</td>\n",
       "      <td>0.08</td>\n",
       "      <td>1.11</td>\n",
       "      <td>85.0</td>\n",
       "      <td>5.0</td>\n",
       "      <td>E</td>\n",
       "      <td>7.60</td>\n",
       "    </tr>\n",
       "    <tr>\n",
       "      <td>105</td>\n",
       "      <td>Fallout 4</td>\n",
       "      <td>PS4</td>\n",
       "      <td>2015</td>\n",
       "      <td>Role-Playing</td>\n",
       "      <td>2.53</td>\n",
       "      <td>3.27</td>\n",
       "      <td>0.24</td>\n",
       "      <td>1.13</td>\n",
       "      <td>87.0</td>\n",
       "      <td>6.5</td>\n",
       "      <td>M</td>\n",
       "      <td>7.17</td>\n",
       "    </tr>\n",
       "  </tbody>\n",
       "</table>\n",
       "</div>"
      ],
      "text/plain": [
       "                               name platform  year_of_release         genre  \\\n",
       "42               Grand Theft Auto V      PS4             2014        Action   \n",
       "77                          FIFA 16      PS4             2015        Sports   \n",
       "92   Call of Duty: Advanced Warfare      PS4             2014       Shooter   \n",
       "94                          FIFA 17      PS4             2016        Sports   \n",
       "105                       Fallout 4      PS4             2015  Role-Playing   \n",
       "\n",
       "     na_sales  eu_sales  jp_sales  other_sales  critic_score  user_score  \\\n",
       "42       3.96      6.31      0.38         1.97          97.0         8.3   \n",
       "77       1.12      6.12      0.06         1.28          82.0         4.3   \n",
       "92       2.81      3.48      0.14         1.23          83.0         5.7   \n",
       "94       0.66      5.75      0.08         1.11          85.0         5.0   \n",
       "105      2.53      3.27      0.24         1.13          87.0         6.5   \n",
       "\n",
       "    rating  total_sales  \n",
       "42       M        12.62  \n",
       "77       E         8.58  \n",
       "92       M         7.66  \n",
       "94       E         7.60  \n",
       "105      M         7.17  "
      ]
     },
     "metadata": {},
     "output_type": "display_data"
    },
    {
     "name": "stdout",
     "output_type": "stream",
     "text": [
      "<class 'pandas.core.frame.DataFrame'>\n",
      "Int64Index: 249 entries, 42 to 16530\n",
      "Data columns (total 12 columns):\n",
      "name               249 non-null object\n",
      "platform           249 non-null object\n",
      "year_of_release    249 non-null int64\n",
      "genre              249 non-null object\n",
      "na_sales           249 non-null float64\n",
      "eu_sales           249 non-null float64\n",
      "jp_sales           249 non-null float64\n",
      "other_sales        249 non-null float64\n",
      "critic_score       249 non-null float64\n",
      "user_score         249 non-null float64\n",
      "rating             249 non-null object\n",
      "total_sales        249 non-null float64\n",
      "dtypes: float64(7), int64(1), object(4)\n",
      "memory usage: 25.3+ KB\n"
     ]
    }
   ],
   "source": [
    "# создание отдельной таблицы с играми на платформе PS4 и без отстутствующих значений рейтинга\n",
    "data_ps4 = data.query('platform == \"PS4\" and critic_score != -2 and user_score > 0')\n",
    "display(data_ps4.head())\n",
    "data_ps4.info()"
   ]
  },
  {
   "cell_type": "code",
   "execution_count": 30,
   "metadata": {},
   "outputs": [
    {
     "data": {
      "text/html": [
       "<div>\n",
       "<style scoped>\n",
       "    .dataframe tbody tr th:only-of-type {\n",
       "        vertical-align: middle;\n",
       "    }\n",
       "\n",
       "    .dataframe tbody tr th {\n",
       "        vertical-align: top;\n",
       "    }\n",
       "\n",
       "    .dataframe thead th {\n",
       "        text-align: right;\n",
       "    }\n",
       "</style>\n",
       "<table border=\"1\" class=\"dataframe\">\n",
       "  <thead>\n",
       "    <tr style=\"text-align: right;\">\n",
       "      <th></th>\n",
       "      <th>name</th>\n",
       "      <th>platform</th>\n",
       "      <th>year_of_release</th>\n",
       "      <th>genre</th>\n",
       "      <th>na_sales</th>\n",
       "      <th>eu_sales</th>\n",
       "      <th>jp_sales</th>\n",
       "      <th>other_sales</th>\n",
       "      <th>critic_score</th>\n",
       "      <th>user_score</th>\n",
       "      <th>rating</th>\n",
       "      <th>total_sales</th>\n",
       "    </tr>\n",
       "  </thead>\n",
       "  <tbody>\n",
       "    <tr>\n",
       "      <td>165</td>\n",
       "      <td>Grand Theft Auto V</td>\n",
       "      <td>XOne</td>\n",
       "      <td>2014</td>\n",
       "      <td>Action</td>\n",
       "      <td>2.81</td>\n",
       "      <td>2.19</td>\n",
       "      <td>0.00</td>\n",
       "      <td>0.47</td>\n",
       "      <td>97.0</td>\n",
       "      <td>7.9</td>\n",
       "      <td>M</td>\n",
       "      <td>5.47</td>\n",
       "    </tr>\n",
       "    <tr>\n",
       "      <td>179</td>\n",
       "      <td>Call of Duty: Advanced Warfare</td>\n",
       "      <td>XOne</td>\n",
       "      <td>2014</td>\n",
       "      <td>Shooter</td>\n",
       "      <td>3.22</td>\n",
       "      <td>1.55</td>\n",
       "      <td>0.01</td>\n",
       "      <td>0.48</td>\n",
       "      <td>81.0</td>\n",
       "      <td>5.4</td>\n",
       "      <td>M</td>\n",
       "      <td>5.26</td>\n",
       "    </tr>\n",
       "    <tr>\n",
       "      <td>242</td>\n",
       "      <td>Halo 5: Guardians</td>\n",
       "      <td>XOne</td>\n",
       "      <td>2015</td>\n",
       "      <td>Shooter</td>\n",
       "      <td>2.78</td>\n",
       "      <td>1.27</td>\n",
       "      <td>0.03</td>\n",
       "      <td>0.41</td>\n",
       "      <td>84.0</td>\n",
       "      <td>6.4</td>\n",
       "      <td>T</td>\n",
       "      <td>4.49</td>\n",
       "    </tr>\n",
       "    <tr>\n",
       "      <td>270</td>\n",
       "      <td>Fallout 4</td>\n",
       "      <td>XOne</td>\n",
       "      <td>2015</td>\n",
       "      <td>Role-Playing</td>\n",
       "      <td>2.51</td>\n",
       "      <td>1.32</td>\n",
       "      <td>0.01</td>\n",
       "      <td>0.38</td>\n",
       "      <td>88.0</td>\n",
       "      <td>6.2</td>\n",
       "      <td>M</td>\n",
       "      <td>4.22</td>\n",
       "    </tr>\n",
       "    <tr>\n",
       "      <td>373</td>\n",
       "      <td>Assassin's Creed: Unity</td>\n",
       "      <td>XOne</td>\n",
       "      <td>2014</td>\n",
       "      <td>Action</td>\n",
       "      <td>2.27</td>\n",
       "      <td>0.90</td>\n",
       "      <td>0.00</td>\n",
       "      <td>0.33</td>\n",
       "      <td>72.0</td>\n",
       "      <td>4.1</td>\n",
       "      <td>M</td>\n",
       "      <td>3.50</td>\n",
       "    </tr>\n",
       "  </tbody>\n",
       "</table>\n",
       "</div>"
      ],
      "text/plain": [
       "                               name platform  year_of_release         genre  \\\n",
       "165              Grand Theft Auto V     XOne             2014        Action   \n",
       "179  Call of Duty: Advanced Warfare     XOne             2014       Shooter   \n",
       "242               Halo 5: Guardians     XOne             2015       Shooter   \n",
       "270                       Fallout 4     XOne             2015  Role-Playing   \n",
       "373         Assassin's Creed: Unity     XOne             2014        Action   \n",
       "\n",
       "     na_sales  eu_sales  jp_sales  other_sales  critic_score  user_score  \\\n",
       "165      2.81      2.19      0.00         0.47          97.0         7.9   \n",
       "179      3.22      1.55      0.01         0.48          81.0         5.4   \n",
       "242      2.78      1.27      0.03         0.41          84.0         6.4   \n",
       "270      2.51      1.32      0.01         0.38          88.0         6.2   \n",
       "373      2.27      0.90      0.00         0.33          72.0         4.1   \n",
       "\n",
       "    rating  total_sales  \n",
       "165      M         5.47  \n",
       "179      M         5.26  \n",
       "242      T         4.49  \n",
       "270      M         4.22  \n",
       "373      M         3.50  "
      ]
     },
     "metadata": {},
     "output_type": "display_data"
    },
    {
     "name": "stdout",
     "output_type": "stream",
     "text": [
      "<class 'pandas.core.frame.DataFrame'>\n",
      "Int64Index: 165 entries, 165 to 16660\n",
      "Data columns (total 12 columns):\n",
      "name               165 non-null object\n",
      "platform           165 non-null object\n",
      "year_of_release    165 non-null int64\n",
      "genre              165 non-null object\n",
      "na_sales           165 non-null float64\n",
      "eu_sales           165 non-null float64\n",
      "jp_sales           165 non-null float64\n",
      "other_sales        165 non-null float64\n",
      "critic_score       165 non-null float64\n",
      "user_score         165 non-null float64\n",
      "rating             165 non-null object\n",
      "total_sales        165 non-null float64\n",
      "dtypes: float64(7), int64(1), object(4)\n",
      "memory usage: 16.8+ KB\n"
     ]
    }
   ],
   "source": [
    "# создание отдельной таблицы с играми на платформе XOne и без отстутствующих значений рейтинга\n",
    "data_xone1 = data.query('platform == \"XOne\" and critic_score != -2 and user_score > 0')\n",
    "display(data_xone1.head())\n",
    "data_xone1.info()"
   ]
  },
  {
   "cell_type": "code",
   "execution_count": 31,
   "metadata": {},
   "outputs": [
    {
     "data": {
      "text/html": [
       "<div>\n",
       "<style scoped>\n",
       "    .dataframe tbody tr th:only-of-type {\n",
       "        vertical-align: middle;\n",
       "    }\n",
       "\n",
       "    .dataframe tbody tr th {\n",
       "        vertical-align: top;\n",
       "    }\n",
       "\n",
       "    .dataframe thead th {\n",
       "        text-align: right;\n",
       "    }\n",
       "</style>\n",
       "<table border=\"1\" class=\"dataframe\">\n",
       "  <thead>\n",
       "    <tr style=\"text-align: right;\">\n",
       "      <th></th>\n",
       "      <th>name</th>\n",
       "      <th>platform</th>\n",
       "      <th>year_of_release</th>\n",
       "      <th>genre</th>\n",
       "      <th>na_sales</th>\n",
       "      <th>eu_sales</th>\n",
       "      <th>jp_sales</th>\n",
       "      <th>other_sales</th>\n",
       "      <th>critic_score</th>\n",
       "      <th>user_score</th>\n",
       "      <th>rating</th>\n",
       "      <th>total_sales</th>\n",
       "    </tr>\n",
       "  </thead>\n",
       "  <tbody>\n",
       "    <tr>\n",
       "      <td>42</td>\n",
       "      <td>Grand Theft Auto V</td>\n",
       "      <td>PS4</td>\n",
       "      <td>2014</td>\n",
       "      <td>Action</td>\n",
       "      <td>3.96</td>\n",
       "      <td>6.31</td>\n",
       "      <td>0.38</td>\n",
       "      <td>1.97</td>\n",
       "      <td>97.0</td>\n",
       "      <td>8.3</td>\n",
       "      <td>M</td>\n",
       "      <td>12.62</td>\n",
       "    </tr>\n",
       "    <tr>\n",
       "      <td>77</td>\n",
       "      <td>FIFA 16</td>\n",
       "      <td>PS4</td>\n",
       "      <td>2015</td>\n",
       "      <td>Sports</td>\n",
       "      <td>1.12</td>\n",
       "      <td>6.12</td>\n",
       "      <td>0.06</td>\n",
       "      <td>1.28</td>\n",
       "      <td>82.0</td>\n",
       "      <td>4.3</td>\n",
       "      <td>E</td>\n",
       "      <td>8.58</td>\n",
       "    </tr>\n",
       "    <tr>\n",
       "      <td>92</td>\n",
       "      <td>Call of Duty: Advanced Warfare</td>\n",
       "      <td>PS4</td>\n",
       "      <td>2014</td>\n",
       "      <td>Shooter</td>\n",
       "      <td>2.81</td>\n",
       "      <td>3.48</td>\n",
       "      <td>0.14</td>\n",
       "      <td>1.23</td>\n",
       "      <td>83.0</td>\n",
       "      <td>5.7</td>\n",
       "      <td>M</td>\n",
       "      <td>7.66</td>\n",
       "    </tr>\n",
       "    <tr>\n",
       "      <td>94</td>\n",
       "      <td>FIFA 17</td>\n",
       "      <td>PS4</td>\n",
       "      <td>2016</td>\n",
       "      <td>Sports</td>\n",
       "      <td>0.66</td>\n",
       "      <td>5.75</td>\n",
       "      <td>0.08</td>\n",
       "      <td>1.11</td>\n",
       "      <td>85.0</td>\n",
       "      <td>5.0</td>\n",
       "      <td>E</td>\n",
       "      <td>7.60</td>\n",
       "    </tr>\n",
       "    <tr>\n",
       "      <td>105</td>\n",
       "      <td>Fallout 4</td>\n",
       "      <td>PS4</td>\n",
       "      <td>2015</td>\n",
       "      <td>Role-Playing</td>\n",
       "      <td>2.53</td>\n",
       "      <td>3.27</td>\n",
       "      <td>0.24</td>\n",
       "      <td>1.13</td>\n",
       "      <td>87.0</td>\n",
       "      <td>6.5</td>\n",
       "      <td>M</td>\n",
       "      <td>7.17</td>\n",
       "    </tr>\n",
       "  </tbody>\n",
       "</table>\n",
       "</div>"
      ],
      "text/plain": [
       "                               name platform  year_of_release         genre  \\\n",
       "42               Grand Theft Auto V      PS4             2014        Action   \n",
       "77                          FIFA 16      PS4             2015        Sports   \n",
       "92   Call of Duty: Advanced Warfare      PS4             2014       Shooter   \n",
       "94                          FIFA 17      PS4             2016        Sports   \n",
       "105                       Fallout 4      PS4             2015  Role-Playing   \n",
       "\n",
       "     na_sales  eu_sales  jp_sales  other_sales  critic_score  user_score  \\\n",
       "42       3.96      6.31      0.38         1.97          97.0         8.3   \n",
       "77       1.12      6.12      0.06         1.28          82.0         4.3   \n",
       "92       2.81      3.48      0.14         1.23          83.0         5.7   \n",
       "94       0.66      5.75      0.08         1.11          85.0         5.0   \n",
       "105      2.53      3.27      0.24         1.13          87.0         6.5   \n",
       "\n",
       "    rating  total_sales  \n",
       "42       M        12.62  \n",
       "77       E         8.58  \n",
       "92       M         7.66  \n",
       "94       E         7.60  \n",
       "105      M         7.17  "
      ]
     },
     "metadata": {},
     "output_type": "display_data"
    },
    {
     "name": "stdout",
     "output_type": "stream",
     "text": [
      "<class 'pandas.core.frame.DataFrame'>\n",
      "Int64Index: 704 entries, 42 to 16692\n",
      "Data columns (total 12 columns):\n",
      "name               704 non-null object\n",
      "platform           704 non-null object\n",
      "year_of_release    704 non-null int64\n",
      "genre              704 non-null object\n",
      "na_sales           704 non-null float64\n",
      "eu_sales           704 non-null float64\n",
      "jp_sales           704 non-null float64\n",
      "other_sales        704 non-null float64\n",
      "critic_score       704 non-null float64\n",
      "user_score         704 non-null float64\n",
      "rating             704 non-null object\n",
      "total_sales        704 non-null float64\n",
      "dtypes: float64(7), int64(1), object(4)\n",
      "memory usage: 71.5+ KB\n"
     ]
    }
   ],
   "source": [
    "# создание отдельной таблицы без отстутствующих значений рейтинга и для периода после 2013 года\n",
    "data_nonorating = data.query('critic_score != -2 and user_score > 0 and year_of_release > 2013')\n",
    "display(data_nonorating.head())\n",
    "data_nonorating.info()"
   ]
  },
  {
   "cell_type": "code",
   "execution_count": 32,
   "metadata": {},
   "outputs": [
    {
     "name": "stdout",
     "output_type": "stream",
     "text": [
      "Коэффициент корреляции оценки критиков и суммарных продаж 0.32536261200758865\n",
      "\n",
      "Коэффициент корреляции оценки критиков и продаж в С.Америке 0.3304978484872334\n",
      "\n",
      "Коэффициент корреляции оценки критиков и продаж в Европе 0.2686239706590737\n",
      "\n",
      "Коэффициент корреляции оценки критиков и продаж в Японии 0.12822214077336605\n",
      "\n",
      "Коэффициент корреляции оценки критиков и продаж в остальном мире 0.28738082765784934\n"
     ]
    }
   ],
   "source": [
    "# оценка корреляции между отзывами критиков и продажами в мире и в разных частях мира\n",
    "print('Коэффициент корреляции оценки критиков и суммарных продаж',\n",
    "      data_nonorating['critic_score'].corr(data_nonorating['total_sales']))\n",
    "print()\n",
    "print('Коэффициент корреляции оценки критиков и продаж в С.Америке',\n",
    "      data_nonorating['critic_score'].corr(data_nonorating['na_sales']))\n",
    "print()\n",
    "print('Коэффициент корреляции оценки критиков и продаж в Европе',\n",
    "      data_nonorating['critic_score'].corr(data_nonorating['eu_sales']))\n",
    "print()\n",
    "print('Коэффициент корреляции оценки критиков и продаж в Японии',\n",
    "      data_nonorating['critic_score'].corr(data_nonorating['jp_sales']))\n",
    "print()\n",
    "print('Коэффициент корреляции оценки критиков и продаж в остальном мире',\n",
    "      data_nonorating['critic_score'].corr(data_nonorating['other_sales']))"
   ]
  },
  {
   "cell_type": "code",
   "execution_count": 33,
   "metadata": {},
   "outputs": [
    {
     "name": "stdout",
     "output_type": "stream",
     "text": [
      "Коэффициент корреляции оценки пользователей и суммарных продаж 0.005202258360087502\n",
      "\n",
      "Коэффициент корреляции оценки пользователей и продаж в С.Америке -0.0007490967445875624\n",
      "\n",
      "Коэффициент корреляции оценки пользователей и продаж в Европе -0.03499420527535191\n",
      "\n",
      "Коэффициент корреляции оценки пользователей и продаж в Японии 0.1910073571664158\n",
      "\n",
      "Коэффициент корреляции оценки пользователей и продаж в остальном мире -0.0134192711114096\n"
     ]
    }
   ],
   "source": [
    "# оценка корреляции между отзывами пользователей и продажами в мире и в разных частях мира\n",
    "print('Коэффициент корреляции оценки пользователей и суммарных продаж',\n",
    "      data_nonorating['user_score'].corr(data_nonorating['total_sales']))\n",
    "print()\n",
    "print('Коэффициент корреляции оценки пользователей и продаж в С.Америке',\n",
    "      data_nonorating['user_score'].corr(data_nonorating['na_sales']))\n",
    "print()\n",
    "print('Коэффициент корреляции оценки пользователей и продаж в Европе',\n",
    "      data_nonorating['user_score'].corr(data_nonorating['eu_sales']))\n",
    "print()\n",
    "print('Коэффициент корреляции оценки пользователей и продаж в Японии',\n",
    "      data_nonorating['user_score'].corr(data_nonorating['jp_sales']))\n",
    "print()\n",
    "print('Коэффициент корреляции оценки пользователей и продаж в остальном мире',\n",
    "      data_nonorating['user_score'].corr(data_nonorating['other_sales']))"
   ]
  },
  {
   "cell_type": "code",
   "execution_count": 34,
   "metadata": {},
   "outputs": [
    {
     "data": {
      "image/png": "[encoded data removed]",
      "text/plain": [
       "<Figure size 1080x1080 with 64 Axes>"
      ]
     },
     "metadata": {
      "needs_background": "light"
     },
     "output_type": "display_data"
    }
   ],
   "source": [
    "# построение матрицы диаграммы рассеяния для платформы PS4\n",
    "pd.plotting.scatter_matrix(data_ps4, figsize=(15, 15));"
   ]
  },
  {
   "cell_type": "code",
   "execution_count": 35,
   "metadata": {},
   "outputs": [
    {
     "name": "stdout",
     "output_type": "stream",
     "text": [
      "Коэффициент корреляции оценки критиков и суммарных продаж 0.40589480145836687\n",
      "\n",
      "Коэффициент корреляции оценки критиков и продаж в С.Америке 0.41424135714464183\n",
      "\n",
      "Коэффициент корреляции оценки критиков и продаж в Европе 0.3460438388431426\n",
      "\n",
      "Коэффициент корреляции оценки критиков и продаж в Японии 0.3220567887021331\n",
      "\n",
      "Коэффициент корреляции оценки критиков и продаж в остальном мире 0.40846485652797093\n"
     ]
    }
   ],
   "source": [
    "# оценка корреляции между отзывами критиков и продажами в мире и в разных частях мира \n",
    "# для платформы PS4\n",
    "print('Коэффициент корреляции оценки критиков и суммарных продаж',\n",
    "      data_ps4['critic_score'].corr(data_ps4['total_sales']))\n",
    "print()\n",
    "print('Коэффициент корреляции оценки критиков и продаж в С.Америке',\n",
    "      data_ps4['critic_score'].corr(data_ps4['na_sales']))\n",
    "print()\n",
    "print('Коэффициент корреляции оценки критиков и продаж в Европе',\n",
    "      data_ps4['critic_score'].corr(data_ps4['eu_sales']))\n",
    "print()\n",
    "print('Коэффициент корреляции оценки критиков и продаж в Японии',\n",
    "      data_ps4['critic_score'].corr(data_ps4['jp_sales']))\n",
    "print()\n",
    "print('Коэффициент корреляции оценки критиков и продаж в остальном мире',\n",
    "      data_ps4['critic_score'].corr(data_ps4['other_sales']))"
   ]
  },
  {
   "cell_type": "code",
   "execution_count": 36,
   "metadata": {},
   "outputs": [
    {
     "name": "stdout",
     "output_type": "stream",
     "text": [
      "Коэффициент корреляции оценки пользователей и суммарных продаж -0.03362497596528878\n",
      "\n",
      "Коэффициент корреляции оценки пользователей и продаж в С.Америке -0.022576553042172442\n",
      "\n",
      "Коэффициент корреляции оценки пользователей и продаж в Европе -0.05067095937387298\n",
      "\n",
      "Коэффициент корреляции оценки пользователей и продаж в Японии 0.17451221989207766\n",
      "\n",
      "Коэффициент корреляции оценки пользователей и продаж в остальном мире -0.03733210236553081\n"
     ]
    }
   ],
   "source": [
    "# оценка корреляции между отзывами пользователей и продажами в мире и в разных частях мира \n",
    "# для платформы PS4\n",
    "print('Коэффициент корреляции оценки пользователей и суммарных продаж',\n",
    "      data_ps4['user_score'].corr(data_ps4['total_sales']))\n",
    "print()\n",
    "print('Коэффициент корреляции оценки пользователей и продаж в С.Америке',\n",
    "      data_ps4['user_score'].corr(data_ps4['na_sales']))\n",
    "print()\n",
    "print('Коэффициент корреляции оценки пользователей и продаж в Европе',\n",
    "      data_ps4['user_score'].corr(data_ps4['eu_sales']))\n",
    "print()\n",
    "print('Коэффициент корреляции оценки пользователей и продаж в Японии',\n",
    "      data_ps4['user_score'].corr(data_ps4['jp_sales']))\n",
    "print()\n",
    "print('Коэффициент корреляции оценки пользователей и продаж в остальном мире',\n",
    "      data_ps4['user_score'].corr(data_ps4['other_sales']))"
   ]
  },
  {
   "cell_type": "code",
   "execution_count": 37,
   "metadata": {},
   "outputs": [
    {
     "name": "stdout",
     "output_type": "stream",
     "text": [
      "Коэффициент корреляции оценки критиков и суммарных продаж 0.41042203561296375\n",
      "\n",
      "Коэффициент корреляции оценки критиков и продаж в С.Америке 0.3818590242398094\n",
      "\n",
      "Коэффициент корреляции оценки критиков и продаж в Европе 0.3734540191976152\n",
      "\n",
      "Коэффициент корреляции оценки критиков и продаж в Японии 0.19997759323214237\n",
      "\n",
      "Коэффициент корреляции оценки критиков и продаж в остальном мире 0.4049956816211105\n"
     ]
    }
   ],
   "source": [
    "# оценка корреляции между отзывами критиков и продажами в мире и в разных частях мира\n",
    "# для платформы XOne\n",
    "print('Коэффициент корреляции оценки критиков и суммарных продаж',\n",
    "      data_xone1['critic_score'].corr(data_xone1['total_sales']))\n",
    "print()\n",
    "print('Коэффициент корреляции оценки критиков и продаж в С.Америке',\n",
    "      data_xone1['critic_score'].corr(data_xone1['na_sales']))\n",
    "print()\n",
    "print('Коэффициент корреляции оценки критиков и продаж в Европе',\n",
    "      data_xone1['critic_score'].corr(data_xone1['eu_sales']))\n",
    "print()\n",
    "print('Коэффициент корреляции оценки критиков и продаж в Японии',\n",
    "      data_xone1['critic_score'].corr(data_xone1['jp_sales']))\n",
    "print()\n",
    "print('Коэффициент корреляции оценки критиков и продаж в остальном мире',\n",
    "      data_xone1['critic_score'].corr(data_xone1['other_sales']))"
   ]
  },
  {
   "cell_type": "code",
   "execution_count": 38,
   "metadata": {},
   "outputs": [
    {
     "name": "stdout",
     "output_type": "stream",
     "text": [
      "Коэффициент корреляции оценки пользователей и суммарных продаж -0.09400318326920852\n",
      "\n",
      "Коэффициент корреляции оценки пользователей и продаж в С.Америке -0.09404716103867439\n",
      "\n",
      "Коэффициент корреляции оценки пользователей и продаж в Европе -0.07582162075586689\n",
      "\n",
      "Коэффициент корреляции оценки пользователей и продаж в Японии 0.07191470875655807\n",
      "\n",
      "Коэффициент корреляции оценки пользователей и продаж в остальном мире -0.09596305443612489\n"
     ]
    }
   ],
   "source": [
    "# оценка корреляции между отзывами пользователей и продажами в мире и в разных частях мира\n",
    "# для платформы XOne\n",
    "print('Коэффициент корреляции оценки пользователей и суммарных продаж',\n",
    "      data_xone1['user_score'].corr(data_xone1['total_sales']))\n",
    "print()\n",
    "print('Коэффициент корреляции оценки пользователей и продаж в С.Америке',\n",
    "      data_xone1['user_score'].corr(data_xone1['na_sales']))\n",
    "print()\n",
    "print('Коэффициент корреляции оценки пользователей и продаж в Европе',\n",
    "      data_xone1['user_score'].corr(data_xone1['eu_sales']))\n",
    "print()\n",
    "print('Коэффициент корреляции оценки пользователей и продаж в Японии',\n",
    "      data_xone1['user_score'].corr(data_xone1['jp_sales']))\n",
    "print()\n",
    "print('Коэффициент корреляции оценки пользователей и продаж в остальном мире',\n",
    "      data_xone1['user_score'].corr(data_xone1['other_sales']))"
   ]
  },
  {
   "cell_type": "markdown",
   "metadata": {},
   "source": [
    "* Выводы о зависимостях объёмов продаж игр от отзывов\n",
    "\n",
    "Полученные коэффициенты корреляции между оценками критиков и пользователей на продажи игр в целом, для платформы PS4 и для платформы XOne в мире или в отдельных частях мира имеют невысокие величины. \n",
    "\n",
    "Коэффициенты корреляции между оценками критиков и продажами для ведущих на 2016 год платформ - PS4 и XOne заметно выше аналогичных коэффициентов для всех платформ в целом.\n",
    "\n",
    "Коэффициенты корреляции между оценками критиков и продажами в целом заметно выше коэффициентов корреляции между оценками пользователей и продажами.\n",
    "\n",
    "В сумме, оценки критиков влияют на продажи значительно сильнее, чем оценки пользователей. Однако, это влияение остаётся несильным.\n",
    "  \n",
    "Коэффициенты корреляции между оценками и продажами имеют свои региональные особенности. Коэффициенты корреляции этих зависимостей имеют заметно отличающиеся значения для Японии.\n",
    "\n",
    "Можно утверждать, что:\n",
    "* зависимости между рейтингом от пользователей и объёмами продаж игр нет;\n",
    "* зависимость между рейтингом от критиков и объёмами продаж игр потенциально возможна, в настоящее время для анализируемых платформ зависимость очень слаба."
   ]
  },
  {
   "cell_type": "code",
   "execution_count": 39,
   "metadata": {},
   "outputs": [
    {
     "name": "stdout",
     "output_type": "stream",
     "text": [
      "Список жанров игр в порядке убывания их числа (популярности)\n"
     ]
    },
    {
     "data": {
      "text/plain": [
       "Action          227\n",
       "Role-Playing     97\n",
       "Shooter          87\n",
       "Sports           83\n",
       "Racing           45\n",
       "Adventure        34\n",
       "Misc             32\n",
       "Fighting         31\n",
       "Platform         26\n",
       "Simulation       20\n",
       "Strategy         18\n",
       "Puzzle            4\n",
       "Name: genre, dtype: int64"
      ]
     },
     "execution_count": 39,
     "metadata": {},
     "output_type": "execute_result"
    }
   ],
   "source": [
    "# список жанров по частоте для периода после 2013 года\n",
    "print('Список жанров игр в порядке убывания их числа (популярности)')\n",
    "data_nonorating['genre'].value_counts()"
   ]
  },
  {
   "cell_type": "code",
   "execution_count": 40,
   "metadata": {},
   "outputs": [
    {
     "name": "stdout",
     "output_type": "stream",
     "text": [
      "Список жанров игр в алфавитном порядке с указанием суммарных продаж игр этого жанра\n"
     ]
    },
    {
     "data": {
      "text/plain": [
       "genre\n",
       "Action          126.39\n",
       "Adventure         5.74\n",
       "Fighting         12.37\n",
       "Misc             12.04\n",
       "Platform         15.00\n",
       "Puzzle            1.28\n",
       "Racing           22.00\n",
       "Role-Playing     49.14\n",
       "Shooter         111.09\n",
       "Simulation        9.73\n",
       "Sports           78.27\n",
       "Strategy          2.67\n",
       "Name: total_sales, dtype: float64"
      ]
     },
     "execution_count": 40,
     "metadata": {},
     "output_type": "execute_result"
    }
   ],
   "source": [
    "# список жанров в алфавитном порядке с показателями продаж для периода после 2013 года\n",
    "print('Список жанров игр в алфавитном порядке с указанием суммарных продаж игр этого жанра')\n",
    "data_nonorating.groupby('genre')['total_sales'].sum()"
   ]
  },
  {
   "cell_type": "code",
   "execution_count": 41,
   "metadata": {},
   "outputs": [
    {
     "name": "stdout",
     "output_type": "stream",
     "text": [
      "Список жанров игр в алфавитном порядке с указанием медианных продаж игр этого жанра\n"
     ]
    },
    {
     "data": {
      "text/plain": [
       "genre\n",
       "Action          0.160\n",
       "Adventure       0.065\n",
       "Fighting        0.150\n",
       "Misc            0.320\n",
       "Platform        0.155\n",
       "Puzzle          0.040\n",
       "Racing          0.130\n",
       "Role-Playing    0.160\n",
       "Shooter         0.620\n",
       "Simulation      0.150\n",
       "Sports          0.430\n",
       "Strategy        0.105\n",
       "Name: total_sales, dtype: float64"
      ]
     },
     "execution_count": 41,
     "metadata": {},
     "output_type": "execute_result"
    }
   ],
   "source": [
    "# список жанров в алфавитном порядке с показателями продаж для периода после 2013 года\n",
    "print('Список жанров игр в алфавитном порядке с указанием медианных продаж игр этого жанра')\n",
    "data_nonorating.groupby('genre')['total_sales'].median()"
   ]
  },
  {
   "cell_type": "markdown",
   "metadata": {},
   "source": [
    "С большим отрывом по частоте и по суммарным продажам самым популярным жанром игр является Action. Однако, показатели медианных продаж показывают явное лидерство игр жанра Shooter. Далее, по медианным продажам следуют игры жанров: Sports, Misc и только за ними Action и Role-Playing с одинаковыми показателями.\n",
    "\n",
    "\n",
    "На последних местах по популярности жанры Strategy и Puzzle, по объёмам продаж жанры Strategy, Adventure, Puzzle."
   ]
  },
  {
   "cell_type": "markdown",
   "metadata": {},
   "source": [
    "ШАГ 4. СОСТАВЛЕНИЕ ПОРТРЕТА ПОЛЬЗОВАТЕЛЯ КАЖДОГО РЕГИОНА"
   ]
  },
  {
   "cell_type": "code",
   "execution_count": 42,
   "metadata": {},
   "outputs": [
    {
     "data": {
      "text/plain": [
       "platform\n",
       "PS4     74.79\n",
       "XOne    66.71\n",
       "WiiU    14.94\n",
       "3DS      7.80\n",
       "PC       6.89\n",
       "Name: na_sales, dtype: float64"
      ]
     },
     "execution_count": 42,
     "metadata": {},
     "output_type": "execute_result"
    }
   ],
   "source": [
    "# группировка по платформам, суммарные продажи для соответствующих платформ, вывод топ-5 из них\n",
    "# Северная Америка для периода после 2013 года\n",
    "data_nonorating.groupby('platform')['na_sales'].sum().sort_values(ascending = False).head()"
   ]
  },
  {
   "cell_type": "code",
   "execution_count": 43,
   "metadata": {},
   "outputs": [
    {
     "data": {
      "text/plain": [
       "platform\n",
       "PS4     101.69\n",
       "XOne     38.03\n",
       "PC       15.24\n",
       "WiiU     10.64\n",
       "3DS       5.25\n",
       "Name: eu_sales, dtype: float64"
      ]
     },
     "execution_count": 43,
     "metadata": {},
     "output_type": "execute_result"
    }
   ],
   "source": [
    "# группировка по платформам, суммарные продажи для соответствующих платформ, вывод топ-5 из них\n",
    "# Европа для периода после 2013 года\n",
    "data_nonorating.groupby('platform')['eu_sales'].sum().sort_values(ascending = False).head()"
   ]
  },
  {
   "cell_type": "code",
   "execution_count": 44,
   "metadata": {},
   "outputs": [
    {
     "data": {
      "text/plain": [
       "platform\n",
       "3DS     9.94\n",
       "PS4     8.49\n",
       "WiiU    5.78\n",
       "PSV     4.06\n",
       "PS3     1.77\n",
       "Name: jp_sales, dtype: float64"
      ]
     },
     "execution_count": 44,
     "metadata": {},
     "output_type": "execute_result"
    }
   ],
   "source": [
    "# группировка по платформам, суммарные продажи для соответствующих платформ, вывод топ-5 из них\n",
    "# Япония для периода после 2013 года\n",
    "data_nonorating.groupby('platform')['jp_sales'].sum().sort_values(ascending = False).head() "
   ]
  },
  {
   "cell_type": "markdown",
   "metadata": {},
   "source": [
    "* Топ-5 игровых платформ по популярности с точки зрения объёмов продаж для периода после 2013 года\n",
    "_______________________________________________________________\n",
    "\n",
    "Топ-5 Северной Америки\n",
    "\n",
    "PS4     74.79\n",
    "\n",
    "XOne    66.71\n",
    "\n",
    "WiiU    14.94\n",
    "\n",
    "3DS      7.80\n",
    "\n",
    "PC       6.89\n",
    "\n",
    "_________________\n",
    "\n",
    "\n",
    "\n",
    "Топ-5 Европы\n",
    "\n",
    "PS4     101.69\n",
    "\n",
    "XOne     38.03\n",
    "\n",
    "PC       15.24\n",
    "\n",
    "WiiU     10.64\n",
    "\n",
    "3DS       5.25\n",
    "\n",
    "__________________\n",
    "\n",
    "\n",
    "Топ-5 Японии\n",
    "\n",
    "3DS     9.94\n",
    "\n",
    "PS4     8.49\n",
    "\n",
    "WiiU    5.78\n",
    "\n",
    "PSV     4.06\n",
    "\n",
    "PS3     1.77\n",
    "\n",
    "________________\n",
    "\n",
    "Лидерами продаж для периода после 2013 года в Северной Америке и Европе являются платформы PS4 и XOne, другие игрровые платформы заметно отстатют от лидеров. На первом месте игровая платформа PS4.\n",
    "\n",
    "\n",
    "В топ-5 Японии не входит платформа XOne, а PS4 только на втором месте. На первом же месте платформа 3DS, находящаяся в топ-5 Северной Америки и Европы на четвёртом и пятом местах соответственно."
   ]
  },
  {
   "cell_type": "code",
   "execution_count": 45,
   "metadata": {},
   "outputs": [
    {
     "data": {
      "text/plain": [
       "genre\n",
       "Shooter         51.18\n",
       "Action          50.35\n",
       "Sports          33.05\n",
       "Role-Playing    18.43\n",
       "Racing           7.30\n",
       "Name: na_sales, dtype: float64"
      ]
     },
     "execution_count": 45,
     "metadata": {},
     "output_type": "execute_result"
    }
   ],
   "source": [
    "# группировка по жанрам, суммарные продажи для соответствующих жанров, вывод топ-5 из них\n",
    "# Северная Америка для периода после 2013 года\n",
    "data_nonorating.groupby('genre')['na_sales'].sum().sort_values(ascending = False).head()"
   ]
  },
  {
   "cell_type": "code",
   "execution_count": 46,
   "metadata": {},
   "outputs": [
    {
     "data": {
      "text/plain": [
       "genre\n",
       "Action          52.86\n",
       "Shooter         42.64\n",
       "Sports          33.52\n",
       "Role-Playing    16.78\n",
       "Racing          10.97\n",
       "Name: eu_sales, dtype: float64"
      ]
     },
     "execution_count": 46,
     "metadata": {},
     "output_type": "execute_result"
    }
   ],
   "source": [
    "# группировка по жанрам, суммарные продажи для соответствующих жанров, вывод топ-5 из них\n",
    "# Европа для периода после 2013 года\n",
    "data_nonorating.groupby('genre')['eu_sales'].sum().sort_values(ascending = False).head()"
   ]
  },
  {
   "cell_type": "code",
   "execution_count": 47,
   "metadata": {},
   "outputs": [
    {
     "data": {
      "text/plain": [
       "genre\n",
       "Role-Playing    8.82\n",
       "Action          7.28\n",
       "Shooter         3.66\n",
       "Platform        2.54\n",
       "Simulation      1.83\n",
       "Name: jp_sales, dtype: float64"
      ]
     },
     "execution_count": 47,
     "metadata": {},
     "output_type": "execute_result"
    }
   ],
   "source": [
    "# группировка по жанрам, суммарные продажи для соответствующих жанров, вывод топ-5 из них\n",
    "# Япония для периода после 2013 года\n",
    "data_nonorating.groupby('genre')['jp_sales'].sum().sort_values(ascending = False).head()"
   ]
  },
  {
   "cell_type": "markdown",
   "metadata": {},
   "source": [
    "* Топ-5 жанров игр по популярности с точки зрения объёмов продаж для периода после 2013 года\n",
    "________________________________________________________________________\n",
    "\n",
    "Топ-5 Северной Америки\n",
    "\n",
    "\n",
    "\n",
    "\n",
    "\n",
    "Shooter         51.18\n",
    "\n",
    "Action          50.35\n",
    "\n",
    "Sports          33.05\n",
    "\n",
    "Role-Playing    18.43\n",
    "\n",
    "Racing           7.30\n",
    "\n",
    "_________________________\n",
    "\n",
    "\n",
    "\n",
    "\n",
    "Топ-5 Европы\n",
    "\n",
    "\n",
    "\n",
    "\n",
    "\n",
    "Action          52.86\n",
    "\n",
    "Shooter         42.64\n",
    "\n",
    "Sports          33.52\n",
    "\n",
    "Role-Playing    16.78\n",
    "\n",
    "Racing          10.97\n",
    "\n",
    "________________________\n",
    "\n",
    "\n",
    "Топ-5 Японии\n",
    "\n",
    "\n",
    "\n",
    "\n",
    "\n",
    "Role-Playing    8.82\n",
    "\n",
    "Action          7.28\n",
    "\n",
    "Shooter         3.66\n",
    "\n",
    "Platform        2.54\n",
    "\n",
    "Simulation      1.83\n",
    "\n",
    "\n",
    "_______________________________\n",
    "\n",
    "Топ-5 жанров игр в Северной Америке и в Европе почти совпадают. В Северной Америке жанр Shooter на первом месте с небольшим отрывом от жанра Action, тогда, как в Европе Action на первом месте с большим отрывом от жанра Shooter.\n",
    "\n",
    "Топ-5 жанров в Японии отличается тем, что в нём лидирует жанр Role-Playing, находящийся в топ-5 жанров в Европе и Северной Америке на четвёртом месте. Жанры-лидеры в Северной Америке и Европе на втором и третьем местах. Кроме того, в топ-5 Японии присутствуют жанры Platform и Simulation, не входящие в топ-5 Европы и Северной Америки.\n"
   ]
  },
  {
   "cell_type": "code",
   "execution_count": 48,
   "metadata": {},
   "outputs": [
    {
     "data": {
      "text/plain": [
       "rating\n",
       "M       85.62\n",
       "E       38.25\n",
       "T       34.56\n",
       "E10+    23.32\n",
       "-2       0.75\n",
       "Name: na_sales, dtype: float64"
      ]
     },
     "execution_count": 48,
     "metadata": {},
     "output_type": "execute_result"
    }
   ],
   "source": [
    "# группировка игр по рейтингу ESRB, суммарные продажи для соответствующих рейтингов\n",
    "# Северная Америка для периода после 2013 года\n",
    "data_nonorating.groupby('rating')['na_sales'].sum().sort_values(ascending = False)"
   ]
  },
  {
   "cell_type": "code",
   "execution_count": 49,
   "metadata": {},
   "outputs": [
    {
     "data": {
      "text/plain": [
       "rating\n",
       "M       84.18\n",
       "E       45.87\n",
       "T       31.16\n",
       "E10+    16.75\n",
       "-2       1.61\n",
       "Name: eu_sales, dtype: float64"
      ]
     },
     "execution_count": 49,
     "metadata": {},
     "output_type": "execute_result"
    }
   ],
   "source": [
    "# группировка игр по рейтингу ESRB, суммарные продажи для соответствующих рейтингов\n",
    "# Европа для периода после 2013 года\n",
    "data_nonorating.groupby('rating')['eu_sales'].sum().sort_values(ascending = False)"
   ]
  },
  {
   "cell_type": "code",
   "execution_count": 50,
   "metadata": {},
   "outputs": [
    {
     "data": {
      "text/plain": [
       "rating\n",
       "T       10.87\n",
       "E        8.28\n",
       "M        6.84\n",
       "E10+     4.22\n",
       "-2       0.14\n",
       "Name: jp_sales, dtype: float64"
      ]
     },
     "execution_count": 50,
     "metadata": {},
     "output_type": "execute_result"
    }
   ],
   "source": [
    "# группировка игр по рейтингу ESRB, суммарные продажи для соответствующих рейтингов\n",
    "# Япония для периода после 2013 года\n",
    "data_nonorating.groupby('rating')['jp_sales'].sum().sort_values(ascending = False)"
   ]
  },
  {
   "cell_type": "markdown",
   "metadata": {},
   "source": [
    "* Влияение рейтинга ESRB на продажи в отдельных регионах\n",
    "\n",
    "Игры, с рейтингом M имеют самые высокие объёмы продаж в Северной Америке и Европе. Далее следуют игры с рейтингом: E, T, E10+. \n",
    "Игры без рейтинга или с неизвестным рейтингом имеют невысокие продажи.\n",
    "\n",
    "На Японском рынке лидером по продажам явлются игры с рейтингом Т. Далее следуют игры с рейтингом: E, М (только на третьем месте), E10+. \n",
    "Игры без рейтинга или с неизвестным рейтингом также имеют невысокие продажи."
   ]
  },
  {
   "cell_type": "markdown",
   "metadata": {},
   "source": [
    "ШАГ 5. ПРОВЕРКА ГИПОТЕЗ"
   ]
  },
  {
   "cell_type": "code",
   "execution_count": 51,
   "metadata": {},
   "outputs": [
    {
     "data": {
      "text/plain": [
       "165      7.9\n",
       "179      5.4\n",
       "242      6.4\n",
       "270      6.2\n",
       "373      4.1\n",
       "        ... \n",
       "16544    6.8\n",
       "16597    6.0\n",
       "16630    8.2\n",
       "16643    6.6\n",
       "16660    6.7\n",
       "Name: user_score, Length: 182, dtype: float64"
      ]
     },
     "metadata": {},
     "output_type": "display_data"
    },
    {
     "name": "stdout",
     "output_type": "stream",
     "text": [
      "Среднее значение пользовательского рейтинга платформы XOne равно:\n",
      "4.323481781376518\n"
     ]
    }
   ],
   "source": [
    "# формирование списка значений пользовательских рейтингов для последующего статистического анализа\n",
    "data_xone = data.query('platform == \"XOne\" and user_score > 0')['user_score']\n",
    "display(data_xone)\n",
    "# рассчёт среднего значения среднего пользовательского рейтинга платформы для контроля \n",
    "# последующих расчётов\n",
    "print('Среднее значение пользовательского рейтинга платформы XOne равно:')\n",
    "print(data.loc[data['platform'] == 'XOne', 'user_score'].mean())"
   ]
  },
  {
   "cell_type": "code",
   "execution_count": 52,
   "metadata": {},
   "outputs": [
    {
     "data": {
      "text/plain": [
       "85       7.6\n",
       "138      7.3\n",
       "192      4.0\n",
       "218      8.2\n",
       "284      9.1\n",
       "        ... \n",
       "16681    8.1\n",
       "16692    7.6\n",
       "16696    5.8\n",
       "16702    7.2\n",
       "16705    5.8\n",
       "Name: user_score, Length: 770, dtype: float64"
      ]
     },
     "metadata": {},
     "output_type": "display_data"
    },
    {
     "name": "stdout",
     "output_type": "stream",
     "text": [
      "Среднее значение пользовательского рейтинга платформы РС равно:\n",
      "5.214681724845996\n"
     ]
    }
   ],
   "source": [
    "# формирование списка значений пользовательских рейтингов для последующего статистического анализа\n",
    "data_pc = data.query('platform == \"PC\" and user_score > 0')['user_score']\n",
    "display(data_pc)\n",
    "# рассчёт среднего значения среднего пользовательского рейтинга платформы для контроля \n",
    "# последующих расчётов\n",
    "print('Среднее значение пользовательского рейтинга платформы РС равно:')\n",
    "print(data.loc[data['platform'] == 'PC', 'user_score'].mean())"
   ]
  },
  {
   "cell_type": "markdown",
   "metadata": {},
   "source": [
    "* Формулирование гипотезы.\n",
    "\n",
    "Нулевая гипотеза\n",
    "\n",
    "Н0: Средние пользовательские рейтинги платформ Xbox One и PC одинаковые\n",
    "\n",
    "Альтернативная гипотеза\n",
    "\n",
    "Н1: Средние пользовательские рейтинги платформ Xbox One и PC не одинаковы"
   ]
  },
  {
   "cell_type": "markdown",
   "metadata": {},
   "source": [
    "Проверка гипотезы осуществляется методом st.ttest_ind(), как проверка гипотезы о равенстве средних двух генеральных совокупностей. Совокупности являются независимыми, т.к. оценка (рейтинг) ставится пользователями платформ независимо друг от друга по единой шкале оценок. Единая шкала оценок (от нуля до десяти) для обеих платформ является условием схожести параметров совокупностей, что даёт основание указать параметр equal_var = True, но, т.к. дисперсия этих оценко не рассчитывалась, параметр equal_var = False."
   ]
  },
  {
   "cell_type": "code",
   "execution_count": 53,
   "metadata": {},
   "outputs": [
    {
     "name": "stdout",
     "output_type": "stream",
     "text": [
      "p-значение: 4.935072360183565e-06\n",
      "Отвергаем нулевую гипотезу\n"
     ]
    }
   ],
   "source": [
    "# проверка гипотезы о равенстве средних двух генеральных совокупностей\n",
    "\n",
    "from scipy import stats as st\n",
    "import numpy as np\n",
    "\n",
    "alpha = 0.05  \n",
    "\n",
    "results = st.ttest_ind(data_xone, data_pc, equal_var = False)\n",
    "\n",
    "print('p-значение:', results.pvalue)\n",
    "\n",
    "if results.pvalue < alpha:\n",
    "    print('Отвергаем нулевую гипотезу')\n",
    "else:\n",
    "    print('Не получилось отвергнуть нулевую гипотезу') \n"
   ]
  },
  {
   "cell_type": "markdown",
   "metadata": {},
   "source": [
    "Результат проверки гипотезы следующий: нулевая гипотеза отвергнута.\n",
    "\n",
    "Это означает, что верна альтернативная гипотеза: \n",
    "\n",
    "Средние пользовательские рейтинги платформ Xbox One и PC не одинаковы."
   ]
  },
  {
   "cell_type": "code",
   "execution_count": 54,
   "metadata": {},
   "outputs": [
    {
     "data": {
      "text/plain": [
       "16       8.2\n",
       "17       9.0\n",
       "23       8.1\n",
       "24       8.7\n",
       "38       8.5\n",
       "        ... \n",
       "16652    8.5\n",
       "16654    5.1\n",
       "16660    6.7\n",
       "16663    2.4\n",
       "16692    7.6\n",
       "Name: user_score, Length: 1830, dtype: float64"
      ]
     },
     "metadata": {},
     "output_type": "display_data"
    },
    {
     "name": "stdout",
     "output_type": "stream",
     "text": [
      "Среднее значение пользовательского рейтинга игр жанра Action равно:\n",
      "3.029652715939448\n"
     ]
    }
   ],
   "source": [
    "# формирование списка значений пользовательских рейтингов для последующего статистического анализа\n",
    "data_act = data.query('genre == \"Action\" and user_score > 0')['user_score']\n",
    "display(data_act)\n",
    "# рассчёт среднего значения среднего пользовательского рейтинга жанра для контроля \n",
    "# последующих расчётов\n",
    "print('Среднее значение пользовательского рейтинга игр жанра Action равно:')\n",
    "print(data.loc[data['genre'] == 'Action', 'user_score'].mean())"
   ]
  },
  {
   "cell_type": "code",
   "execution_count": 55,
   "metadata": {},
   "outputs": [
    {
     "data": {
      "text/plain": [
       "0        8.0\n",
       "3        8.0\n",
       "13       7.7\n",
       "15       7.4\n",
       "77       4.3\n",
       "        ... \n",
       "16450    4.5\n",
       "16518    1.4\n",
       "16528    6.9\n",
       "16546    9.5\n",
       "16643    6.6\n",
       "Name: user_score, Length: 1103, dtype: float64"
      ]
     },
     "metadata": {},
     "output_type": "display_data"
    },
    {
     "name": "stdout",
     "output_type": "stream",
     "text": [
      "Среднее значение пользовательского рейтинга игр жанра Sports равно:\n",
      "2.3855195911413967\n"
     ]
    }
   ],
   "source": [
    "# формирование списка значений пользовательских рейтингов для последующего статистического анализа\n",
    "data_sport = data.query('genre == \"Sports\" and user_score > 0')['user_score']\n",
    "display(data_sport)\n",
    "# рассчёт среднего значения среднего пользовательского рейтинга жанра для контроля \n",
    "# последующих расчётов\n",
    "print('Среднее значение пользовательского рейтинга игр жанра Sports равно:')\n",
    "print(data.loc[data['genre'] == 'Sports', 'user_score'].mean())"
   ]
  },
  {
   "cell_type": "markdown",
   "metadata": {},
   "source": [
    "* Формулирование гипотезы.\n",
    "\n",
    "Нулевая гипотеза\n",
    "\n",
    "Н0: Средние пользовательские рейтинги жанров Action и Sports разные.\n",
    "\n",
    "Альтернативная гипотеза\n",
    "\n",
    "Н1: Средние пользовательские рейтинги жанров Action и Sports одинаковы.\n",
    "\n",
    "Проверка гипотезы осуществляется методом st.ttest_ind(), как проверка гипотезы о равенстве средних двух генеральных совокупностей. Совокупности являются независимыми, т.к. оценка (рейтинг) ставится пользователями платформ независимо друг от друга по единой шкале оценок. Единая шкала оценок (от нуля до десяти) для обеих платформ является условием схожести параметров совокупностей, что даёт основание указать параметр equal_var = True, но, т.к. дисперсия этих оценко не рассчитывалась, параметр equal_var = False.\n",
    "\n",
    "Проверка этой гипотезы аналогична проверке предыдущей гипотезы."
   ]
  },
  {
   "cell_type": "code",
   "execution_count": 56,
   "metadata": {},
   "outputs": [
    {
     "name": "stdout",
     "output_type": "stream",
     "text": [
      "p-значение: 0.11483818791498286\n",
      "Не получилось отвергнуть нулевую гипотезу\n"
     ]
    }
   ],
   "source": [
    "# проверка гипотезы о равенстве средних двух генеральных совокупностей\n",
    "\n",
    "alpha = 0.05  \n",
    "\n",
    "results = st.ttest_ind(data_act, data_sport, equal_var = False)\n",
    "\n",
    "print('p-значение:', results.pvalue)\n",
    "\n",
    "if results.pvalue < alpha:\n",
    "    print('Отвергаем нулевую гипотезу')\n",
    "else:\n",
    "    print('Не получилось отвергнуть нулевую гипотезу') \n"
   ]
  },
  {
   "cell_type": "markdown",
   "metadata": {},
   "source": [
    "Результат проверки гипотезы следующий: нулевая гипотеза не отвергнута.\n",
    "\n",
    "Это означает, что нулевая гипотеза в силе: \n",
    "\n",
    "Средние пользовательские рейтинги жанров Action и Sports разные."
   ]
  },
  {
   "cell_type": "markdown",
   "metadata": {},
   "source": [
    "# ОБЩИЙ ВЫВОД.\n",
    "\n",
    "1. Общее количество игровых платформ и игр растёт с каждым годом.\n",
    "\n",
    "\n",
    "2. Средний срок жизни игровой платформы 4-6 лет.\n",
    "\n",
    "\n",
    "3. Не все игровые платформы имеют коммерческий успех.\n",
    "\n",
    "\n",
    "4. Заметный коммерческий успех игровых платформ редок.\n",
    "\n",
    "\n",
    "5. В интересующий 2017 год наиболее перспективными являются платформы PS4 (в превую очередь) и XOne.\n",
    "\n",
    "\n",
    "6. Наибольший рынок по объёмам продаж игр - Северная Америка.\n",
    "\n",
    "\n",
    "7. Оценки пользователей не влияют на объёмы продаж игр.\n",
    "\n",
    "\n",
    "8. Оценки пользователей на объёмы продаж игр имеют очень слабое влияние.\n",
    "\n",
    "\n",
    "9. Наиболее популярным жанром игр является жанр Action. С точки зрения объёмов продаж при расчёте медианных значений объёмов продаж лидируют игры жанров Shooter, Sports, Misc и только за ними Action и Role-Playing с одинаковыми показателями. На последних местах по популярности жанры Strategy и Puzzle, по объёмам продаж жанры Strategy, Adventure, Puzzle.\n",
    "\n",
    "\n",
    "10. При ориентации на японский рынок следует учитывать, что наиболее популярными с точки зрения объёмов продаж являются игры жанра Role-Playing, а уже затем игры жанров Action, Sports.\n",
    "\n",
    "\n",
    "11. Очень большое влияние на продажи имеет рейтинг ESRB. Игры, с рейтингом M имеют самые высокие объёмы продаж в Северной Америке и Европе. Далее следуют игры с рейтингом: E, T, E10+. Игры без рейтинга или с неизвестным рейтингом имеют невысокие продажи.\n",
    "\n",
    "\n",
    "12. На Японском рынке лидером по продажам явлются игры с рейтингом Т. Далее следуют игры с рейтингом: E, М (только на третьем месте), E10+. Игры без рейтинга или с неизвестным рейтингом также имеют невысокие продажи.\n",
    "\n",
    "\n",
    "13. С точки зрения пользовательских рейтингов, платформа PC предпочтительней платформы Xbox One. Однако, проведённый анализ показал, что рейтинги пользователей не влияют на продажи. В дополнение к этому, объёмы продаж игр платформы Xbox One находятся в зоне роста, тогда, как платформа PC на момент исследования является аутсайдером рынка игр. Таким образом, на текущий момент с коммерческой точки зрения платформа Xbox One значительно более коммерчески привлекательна, чем платформа РС.\n",
    "\n",
    "\n",
    "14. С точки зрения пользовательских рейтингов игры жанра Action более востребованы, чем игры жанра Sports. Исследованя показывают, что жанр Action является наиболее коммерчески успешным жанром игр в Северной Америке и Европе. Не смотря на отстутсвие влияния пользовательских рейтингов на продажи, факт наиболее высоких рейтингов игр жанра Action можно использовать в рекламных целях.\n"
   ]
  }
 ],
 "metadata": {
  "ExecuteTimeLog": [
   {
    "duration": 711,
    "start_time": "2021-12-15T09:36:40.846Z"
   },
   {
    "duration": 11,
    "start_time": "2021-12-15T09:36:47.248Z"
   },
   {
    "duration": 6,
    "start_time": "2021-12-15T09:55:52.050Z"
   },
   {
    "duration": 6,
    "start_time": "2021-12-15T09:56:55.883Z"
   },
   {
    "duration": 6,
    "start_time": "2021-12-15T09:57:11.246Z"
   },
   {
    "duration": 456,
    "start_time": "2021-12-15T10:10:06.967Z"
   },
   {
    "duration": 611,
    "start_time": "2021-12-15T10:10:50.805Z"
   },
   {
    "duration": 2408,
    "start_time": "2021-12-15T10:20:54.805Z"
   },
   {
    "duration": 23,
    "start_time": "2021-12-15T10:32:13.066Z"
   },
   {
    "duration": 5,
    "start_time": "2021-12-15T10:33:30.748Z"
   },
   {
    "duration": 6,
    "start_time": "2021-12-15T10:33:54.054Z"
   },
   {
    "duration": 6,
    "start_time": "2021-12-15T10:34:38.564Z"
   },
   {
    "duration": 7,
    "start_time": "2021-12-15T10:34:46.044Z"
   },
   {
    "duration": 7,
    "start_time": "2021-12-15T10:35:15.260Z"
   },
   {
    "duration": 11,
    "start_time": "2021-12-15T10:38:34.810Z"
   },
   {
    "duration": 21,
    "start_time": "2021-12-15T10:51:16.492Z"
   },
   {
    "duration": 7,
    "start_time": "2021-12-15T10:54:41.003Z"
   },
   {
    "duration": 371,
    "start_time": "2021-12-15T10:55:09.774Z"
   },
   {
    "duration": 359,
    "start_time": "2021-12-15T10:55:33.165Z"
   },
   {
    "duration": 8,
    "start_time": "2021-12-15T10:55:44.358Z"
   },
   {
    "duration": 10,
    "start_time": "2021-12-15T10:58:17.766Z"
   },
   {
    "duration": 12,
    "start_time": "2021-12-15T10:59:34.081Z"
   },
   {
    "duration": 11,
    "start_time": "2021-12-15T11:00:03.861Z"
   },
   {
    "duration": 10,
    "start_time": "2021-12-15T11:00:28.149Z"
   },
   {
    "duration": 365,
    "start_time": "2021-12-15T11:01:48.039Z"
   },
   {
    "duration": 14,
    "start_time": "2021-12-15T11:02:38.507Z"
   },
   {
    "duration": 14,
    "start_time": "2021-12-15T11:05:32.818Z"
   },
   {
    "duration": 1462,
    "start_time": "2021-12-15T11:10:43.855Z"
   },
   {
    "duration": 264,
    "start_time": "2021-12-15T11:11:30.910Z"
   },
   {
    "duration": 252,
    "start_time": "2021-12-15T11:11:40.366Z"
   },
   {
    "duration": 268,
    "start_time": "2021-12-15T11:12:38.375Z"
   },
   {
    "duration": 249,
    "start_time": "2021-12-15T11:13:51.156Z"
   },
   {
    "duration": 262,
    "start_time": "2021-12-15T11:14:06.990Z"
   },
   {
    "duration": 11,
    "start_time": "2021-12-15T11:15:51.941Z"
   },
   {
    "duration": 11,
    "start_time": "2021-12-15T11:16:09.335Z"
   },
   {
    "duration": 10,
    "start_time": "2021-12-15T11:16:28.598Z"
   },
   {
    "duration": 1518,
    "start_time": "2021-12-15T11:19:33.295Z"
   },
   {
    "duration": 5,
    "start_time": "2021-12-15T11:20:08.202Z"
   },
   {
    "duration": 7,
    "start_time": "2021-12-15T11:20:47.431Z"
   },
   {
    "duration": 7,
    "start_time": "2021-12-15T11:20:58.153Z"
   },
   {
    "duration": 342,
    "start_time": "2021-12-15T11:22:02.959Z"
   },
   {
    "duration": 7,
    "start_time": "2021-12-15T11:22:12.491Z"
   },
   {
    "duration": 6,
    "start_time": "2021-12-15T11:22:26.342Z"
   },
   {
    "duration": 1582,
    "start_time": "2021-12-15T11:23:13.978Z"
   },
   {
    "duration": 6,
    "start_time": "2021-12-15T11:23:56.719Z"
   },
   {
    "duration": 389,
    "start_time": "2021-12-15T11:26:53.143Z"
   },
   {
    "duration": 1058,
    "start_time": "2021-12-15T11:27:14.589Z"
   },
   {
    "duration": 4480,
    "start_time": "2021-12-15T13:25:37.546Z"
   },
   {
    "duration": 111,
    "start_time": "2021-12-15T13:26:17.929Z"
   },
   {
    "duration": 3541,
    "start_time": "2021-12-15T13:26:26.549Z"
   },
   {
    "duration": 2513,
    "start_time": "2021-12-15T13:27:19.724Z"
   },
   {
    "duration": 2854,
    "start_time": "2021-12-15T13:36:43.805Z"
   },
   {
    "duration": 8,
    "start_time": "2021-12-15T13:48:44.661Z"
   },
   {
    "duration": 2638,
    "start_time": "2021-12-15T13:49:06.680Z"
   },
   {
    "duration": 6,
    "start_time": "2021-12-15T13:50:44.793Z"
   },
   {
    "duration": 7,
    "start_time": "2021-12-15T13:55:24.623Z"
   },
   {
    "duration": 7,
    "start_time": "2021-12-15T13:59:16.907Z"
   },
   {
    "duration": 7,
    "start_time": "2021-12-15T14:00:21.012Z"
   },
   {
    "duration": 381,
    "start_time": "2021-12-15T14:00:46.411Z"
   },
   {
    "duration": 389,
    "start_time": "2021-12-15T14:02:18.616Z"
   },
   {
    "duration": 6,
    "start_time": "2021-12-15T14:03:14.411Z"
   },
   {
    "duration": 10,
    "start_time": "2021-12-15T14:03:25.067Z"
   },
   {
    "duration": 884,
    "start_time": "2021-12-15T14:05:43.311Z"
   },
   {
    "duration": 344,
    "start_time": "2021-12-15T14:06:11.191Z"
   },
   {
    "duration": 13,
    "start_time": "2021-12-15T14:06:21.559Z"
   },
   {
    "duration": 670,
    "start_time": "2021-12-15T14:07:31.741Z"
   },
   {
    "duration": 11,
    "start_time": "2021-12-15T14:07:32.413Z"
   },
   {
    "duration": 6,
    "start_time": "2021-12-15T14:07:32.426Z"
   },
   {
    "duration": 24,
    "start_time": "2021-12-15T14:07:32.433Z"
   },
   {
    "duration": 5,
    "start_time": "2021-12-15T14:07:32.458Z"
   },
   {
    "duration": 41,
    "start_time": "2021-12-15T14:07:32.465Z"
   },
   {
    "duration": 5,
    "start_time": "2021-12-15T14:07:32.508Z"
   },
   {
    "duration": 7,
    "start_time": "2021-12-15T14:07:32.515Z"
   },
   {
    "duration": 23,
    "start_time": "2021-12-15T14:07:32.524Z"
   },
   {
    "duration": 10,
    "start_time": "2021-12-15T14:07:32.548Z"
   },
   {
    "duration": 375,
    "start_time": "2021-12-15T14:07:32.560Z"
   },
   {
    "duration": 11,
    "start_time": "2021-12-15T14:07:32.936Z"
   },
   {
    "duration": 10,
    "start_time": "2021-12-15T14:07:32.949Z"
   },
   {
    "duration": 112,
    "start_time": "2021-12-15T14:07:32.961Z"
   },
   {
    "duration": 3304,
    "start_time": "2021-12-15T14:07:29.771Z"
   },
   {
    "duration": 13,
    "start_time": "2021-12-15T14:10:38.166Z"
   },
   {
    "duration": 7,
    "start_time": "2021-12-15T14:11:04.291Z"
   },
   {
    "duration": 13,
    "start_time": "2021-12-15T14:11:07.695Z"
   },
   {
    "duration": 9,
    "start_time": "2021-12-15T14:14:06.303Z"
   },
   {
    "duration": 17,
    "start_time": "2021-12-15T14:14:11.272Z"
   },
   {
    "duration": 12,
    "start_time": "2021-12-15T14:15:11.161Z"
   },
   {
    "duration": 15,
    "start_time": "2021-12-15T14:16:05.487Z"
   },
   {
    "duration": 18,
    "start_time": "2021-12-15T14:16:08.889Z"
   },
   {
    "duration": 4,
    "start_time": "2021-12-15T14:17:01.802Z"
   },
   {
    "duration": 12,
    "start_time": "2021-12-15T14:17:12.558Z"
   },
   {
    "duration": 10003,
    "start_time": "2021-12-15T14:21:04.754Z"
   },
   {
    "duration": 3284,
    "start_time": "2021-12-15T14:21:11.475Z"
   },
   {
    "duration": 5,
    "start_time": "2021-12-15T14:21:41.477Z"
   },
   {
    "duration": 11,
    "start_time": "2021-12-15T14:21:44.785Z"
   },
   {
    "duration": 9,
    "start_time": "2021-12-15T14:28:21.694Z"
   },
   {
    "duration": 9,
    "start_time": "2021-12-15T14:28:25.977Z"
   },
   {
    "duration": 11,
    "start_time": "2021-12-15T14:28:37.433Z"
   },
   {
    "duration": 446,
    "start_time": "2021-12-15T14:30:10.553Z"
   },
   {
    "duration": 5,
    "start_time": "2021-12-15T14:31:08.372Z"
   },
   {
    "duration": 10,
    "start_time": "2021-12-15T14:31:12.433Z"
   },
   {
    "duration": 4,
    "start_time": "2021-12-15T14:31:57.483Z"
   },
   {
    "duration": 11,
    "start_time": "2021-12-15T14:32:02.917Z"
   },
   {
    "duration": 4,
    "start_time": "2021-12-15T14:32:30.270Z"
   },
   {
    "duration": 10,
    "start_time": "2021-12-15T16:04:52.640Z"
   },
   {
    "duration": 12,
    "start_time": "2021-12-15T16:05:46.245Z"
   },
   {
    "duration": 9683,
    "start_time": "2021-12-15T16:08:06.623Z"
   },
   {
    "duration": 6,
    "start_time": "2021-12-15T16:09:49.645Z"
   },
   {
    "duration": 8,
    "start_time": "2021-12-15T16:13:25.425Z"
   },
   {
    "duration": 9,
    "start_time": "2021-12-15T16:15:04.130Z"
   },
   {
    "duration": 109,
    "start_time": "2021-12-15T16:19:25.697Z"
   },
   {
    "duration": 293,
    "start_time": "2021-12-15T16:19:32.404Z"
   },
   {
    "duration": 246,
    "start_time": "2021-12-15T16:19:56.726Z"
   },
   {
    "duration": 8,
    "start_time": "2021-12-15T16:23:20.731Z"
   },
   {
    "duration": 20,
    "start_time": "2021-12-15T16:29:34.594Z"
   },
   {
    "duration": 8,
    "start_time": "2021-12-15T16:30:31.842Z"
   },
   {
    "duration": 4,
    "start_time": "2021-12-15T16:30:34.673Z"
   },
   {
    "duration": 4,
    "start_time": "2021-12-15T16:30:37.941Z"
   },
   {
    "duration": 4,
    "start_time": "2021-12-15T16:30:40.663Z"
   },
   {
    "duration": 396,
    "start_time": "2021-12-15T16:59:11.332Z"
   },
   {
    "duration": 11,
    "start_time": "2021-12-15T17:02:49.241Z"
   },
   {
    "duration": 16,
    "start_time": "2021-12-15T17:03:08.008Z"
   },
   {
    "duration": 12,
    "start_time": "2021-12-15T17:12:19.640Z"
   },
   {
    "duration": 14,
    "start_time": "2021-12-15T17:12:24.948Z"
   },
   {
    "duration": 22,
    "start_time": "2021-12-15T17:12:44.724Z"
   },
   {
    "duration": 9,
    "start_time": "2021-12-15T17:12:58.809Z"
   },
   {
    "duration": 14,
    "start_time": "2021-12-15T17:13:06.261Z"
   },
   {
    "duration": 6646,
    "start_time": "2021-12-15T17:21:55.701Z"
   },
   {
    "duration": 7,
    "start_time": "2021-12-15T17:30:39.723Z"
   },
   {
    "duration": 8,
    "start_time": "2021-12-15T17:30:59.571Z"
   },
   {
    "duration": 7,
    "start_time": "2021-12-15T17:31:42.979Z"
   },
   {
    "duration": 8,
    "start_time": "2021-12-15T17:32:43.583Z"
   },
   {
    "duration": 7,
    "start_time": "2021-12-15T17:33:11.490Z"
   },
   {
    "duration": 120,
    "start_time": "2021-12-15T17:34:02.221Z"
   },
   {
    "duration": 8,
    "start_time": "2021-12-15T17:34:08.461Z"
   },
   {
    "duration": 296,
    "start_time": "2021-12-15T19:46:13.269Z"
   },
   {
    "duration": 119,
    "start_time": "2021-12-15T19:47:21.449Z"
   },
   {
    "duration": 1298,
    "start_time": "2021-12-15T19:47:27.673Z"
   },
   {
    "duration": 861,
    "start_time": "2021-12-15T19:47:38.528Z"
   },
   {
    "duration": 407,
    "start_time": "2021-12-15T19:47:54.307Z"
   },
   {
    "duration": 407,
    "start_time": "2021-12-15T19:48:19.024Z"
   },
   {
    "duration": 386,
    "start_time": "2021-12-15T19:48:24.393Z"
   },
   {
    "duration": 391,
    "start_time": "2021-12-15T19:48:28.293Z"
   },
   {
    "duration": 370,
    "start_time": "2021-12-15T19:48:32.077Z"
   },
   {
    "duration": 370,
    "start_time": "2021-12-15T19:48:36.305Z"
   },
   {
    "duration": 445,
    "start_time": "2021-12-15T19:48:40.461Z"
   },
   {
    "duration": 359,
    "start_time": "2021-12-15T19:48:44.518Z"
   },
   {
    "duration": 370,
    "start_time": "2021-12-15T19:48:48.506Z"
   },
   {
    "duration": 351,
    "start_time": "2021-12-15T19:48:52.396Z"
   },
   {
    "duration": 362,
    "start_time": "2021-12-15T19:48:58.270Z"
   },
   {
    "duration": 387,
    "start_time": "2021-12-15T19:49:28.441Z"
   },
   {
    "duration": 631,
    "start_time": "2021-12-15T19:50:12.768Z"
   },
   {
    "duration": 2492,
    "start_time": "2021-12-15T19:51:22.434Z"
   },
   {
    "duration": 621,
    "start_time": "2021-12-15T19:51:37.227Z"
   },
   {
    "duration": 393,
    "start_time": "2021-12-15T19:54:31.988Z"
   },
   {
    "duration": 438,
    "start_time": "2021-12-15T19:56:23.595Z"
   },
   {
    "duration": 838,
    "start_time": "2021-12-16T08:56:38.360Z"
   },
   {
    "duration": 21,
    "start_time": "2021-12-16T08:56:39.202Z"
   },
   {
    "duration": 8,
    "start_time": "2021-12-16T08:56:39.226Z"
   },
   {
    "duration": 35,
    "start_time": "2021-12-16T08:56:39.236Z"
   },
   {
    "duration": 7,
    "start_time": "2021-12-16T08:56:39.273Z"
   },
   {
    "duration": 42,
    "start_time": "2021-12-16T08:56:39.283Z"
   },
   {
    "duration": 9,
    "start_time": "2021-12-16T08:56:39.328Z"
   },
   {
    "duration": 11,
    "start_time": "2021-12-16T08:56:39.339Z"
   },
   {
    "duration": 67,
    "start_time": "2021-12-16T08:56:39.352Z"
   },
   {
    "duration": 13,
    "start_time": "2021-12-16T08:56:39.421Z"
   },
   {
    "duration": 544,
    "start_time": "2021-12-16T08:56:39.436Z"
   },
   {
    "duration": 15,
    "start_time": "2021-12-16T08:56:39.983Z"
   },
   {
    "duration": 4,
    "start_time": "2021-12-16T08:56:40.018Z"
   },
   {
    "duration": 7,
    "start_time": "2021-12-16T08:56:40.025Z"
   },
   {
    "duration": 16,
    "start_time": "2021-12-16T08:56:40.034Z"
   },
   {
    "duration": 35,
    "start_time": "2021-12-16T08:56:40.052Z"
   },
   {
    "duration": 12,
    "start_time": "2021-12-16T08:56:40.118Z"
   },
   {
    "duration": 833,
    "start_time": "2021-12-16T08:56:40.135Z"
   },
   {
    "duration": 635,
    "start_time": "2021-12-16T09:08:47.428Z"
   },
   {
    "duration": 677,
    "start_time": "2021-12-16T09:08:58.622Z"
   },
   {
    "duration": 756,
    "start_time": "2021-12-16T09:09:20.203Z"
   },
   {
    "duration": 980,
    "start_time": "2021-12-16T09:09:26.843Z"
   },
   {
    "duration": 1026,
    "start_time": "2021-12-16T09:11:08.570Z"
   },
   {
    "duration": 11,
    "start_time": "2021-12-16T09:13:27.306Z"
   },
   {
    "duration": 834,
    "start_time": "2021-12-16T09:13:31.779Z"
   },
   {
    "duration": 11,
    "start_time": "2021-12-16T09:14:38.295Z"
   },
   {
    "duration": 837,
    "start_time": "2021-12-16T09:14:46.153Z"
   },
   {
    "duration": 10,
    "start_time": "2021-12-16T09:15:32.455Z"
   },
   {
    "duration": 895,
    "start_time": "2021-12-16T09:15:34.878Z"
   },
   {
    "duration": 378,
    "start_time": "2021-12-16T09:16:28.085Z"
   },
   {
    "duration": 799,
    "start_time": "2021-12-16T09:16:49.378Z"
   },
   {
    "duration": 273,
    "start_time": "2021-12-16T09:17:24.294Z"
   },
   {
    "duration": 303,
    "start_time": "2021-12-16T09:17:35.967Z"
   },
   {
    "duration": 751,
    "start_time": "2021-12-16T09:18:08.873Z"
   },
   {
    "duration": 764,
    "start_time": "2021-12-16T09:20:03.304Z"
   },
   {
    "duration": 379,
    "start_time": "2021-12-16T09:20:19.463Z"
   },
   {
    "duration": 390,
    "start_time": "2021-12-16T09:20:31.109Z"
   },
   {
    "duration": 879,
    "start_time": "2021-12-16T09:21:05.319Z"
   },
   {
    "duration": 871,
    "start_time": "2021-12-16T09:21:28.453Z"
   },
   {
    "duration": 11,
    "start_time": "2021-12-16T09:22:16.672Z"
   },
   {
    "duration": 935,
    "start_time": "2021-12-16T09:22:19.828Z"
   },
   {
    "duration": 990,
    "start_time": "2021-12-16T09:24:27.706Z"
   },
   {
    "duration": 845,
    "start_time": "2021-12-16T09:52:03.900Z"
   },
   {
    "duration": 15,
    "start_time": "2021-12-16T09:52:04.747Z"
   },
   {
    "duration": 6,
    "start_time": "2021-12-16T09:52:04.765Z"
   },
   {
    "duration": 59,
    "start_time": "2021-12-16T09:52:04.774Z"
   },
   {
    "duration": 6,
    "start_time": "2021-12-16T09:52:04.835Z"
   },
   {
    "duration": 7,
    "start_time": "2021-12-16T09:52:04.844Z"
   },
   {
    "duration": 9,
    "start_time": "2021-12-16T09:52:04.854Z"
   },
   {
    "duration": 9,
    "start_time": "2021-12-16T09:52:04.866Z"
   },
   {
    "duration": 34,
    "start_time": "2021-12-16T09:52:04.917Z"
   },
   {
    "duration": 14,
    "start_time": "2021-12-16T09:52:04.953Z"
   },
   {
    "duration": 546,
    "start_time": "2021-12-16T09:52:04.970Z"
   },
   {
    "duration": 13,
    "start_time": "2021-12-16T09:52:05.519Z"
   },
   {
    "duration": 16,
    "start_time": "2021-12-16T09:52:05.535Z"
   },
   {
    "duration": 6,
    "start_time": "2021-12-16T09:52:05.554Z"
   },
   {
    "duration": 8,
    "start_time": "2021-12-16T09:52:05.562Z"
   },
   {
    "duration": 54,
    "start_time": "2021-12-16T09:52:05.572Z"
   },
   {
    "duration": 9,
    "start_time": "2021-12-16T09:52:05.629Z"
   },
   {
    "duration": 1064,
    "start_time": "2021-12-16T09:52:05.640Z"
   },
   {
    "duration": 948,
    "start_time": "2021-12-16T09:52:06.706Z"
   },
   {
    "duration": 394,
    "start_time": "2021-12-16T09:52:07.656Z"
   },
   {
    "duration": 235,
    "start_time": "2021-12-16T09:59:33.919Z"
   },
   {
    "duration": 211,
    "start_time": "2021-12-16T09:59:47.757Z"
   },
   {
    "duration": 209,
    "start_time": "2021-12-16T10:01:34.534Z"
   },
   {
    "duration": 720,
    "start_time": "2021-12-16T10:02:03.979Z"
   },
   {
    "duration": 315,
    "start_time": "2021-12-16T10:02:31.468Z"
   },
   {
    "duration": 272,
    "start_time": "2021-12-16T10:05:10.423Z"
   },
   {
    "duration": 203,
    "start_time": "2021-12-16T10:05:33.769Z"
   },
   {
    "duration": 218,
    "start_time": "2021-12-16T10:05:41.723Z"
   },
   {
    "duration": 51,
    "start_time": "2021-12-16T10:06:56.087Z"
   },
   {
    "duration": 224,
    "start_time": "2021-12-16T10:08:02.542Z"
   },
   {
    "duration": 13,
    "start_time": "2021-12-16T10:08:44.447Z"
   },
   {
    "duration": 284,
    "start_time": "2021-12-16T10:10:16.395Z"
   },
   {
    "duration": 214,
    "start_time": "2021-12-16T10:10:22.642Z"
   },
   {
    "duration": 122,
    "start_time": "2021-12-16T15:05:12.511Z"
   },
   {
    "duration": 428,
    "start_time": "2021-12-16T15:05:19.613Z"
   },
   {
    "duration": 844,
    "start_time": "2021-12-16T15:05:27.577Z"
   },
   {
    "duration": 14,
    "start_time": "2021-12-16T15:05:28.424Z"
   },
   {
    "duration": 24,
    "start_time": "2021-12-16T15:05:28.441Z"
   },
   {
    "duration": 33,
    "start_time": "2021-12-16T15:05:28.468Z"
   },
   {
    "duration": 7,
    "start_time": "2021-12-16T15:05:28.503Z"
   },
   {
    "duration": 8,
    "start_time": "2021-12-16T15:05:28.513Z"
   },
   {
    "duration": 7,
    "start_time": "2021-12-16T15:05:28.559Z"
   },
   {
    "duration": 8,
    "start_time": "2021-12-16T15:05:28.570Z"
   },
   {
    "duration": 41,
    "start_time": "2021-12-16T15:05:28.581Z"
   },
   {
    "duration": 40,
    "start_time": "2021-12-16T15:05:28.625Z"
   },
   {
    "duration": 525,
    "start_time": "2021-12-16T15:05:28.667Z"
   },
   {
    "duration": 15,
    "start_time": "2021-12-16T15:05:29.196Z"
   },
   {
    "duration": 7,
    "start_time": "2021-12-16T15:05:29.213Z"
   },
   {
    "duration": 7,
    "start_time": "2021-12-16T15:05:29.222Z"
   },
   {
    "duration": 33,
    "start_time": "2021-12-16T15:05:29.231Z"
   },
   {
    "duration": 34,
    "start_time": "2021-12-16T15:05:29.266Z"
   },
   {
    "duration": 10,
    "start_time": "2021-12-16T15:05:29.303Z"
   },
   {
    "duration": 1179,
    "start_time": "2021-12-16T15:05:29.315Z"
   },
   {
    "duration": 958,
    "start_time": "2021-12-16T15:05:30.497Z"
   },
   {
    "duration": 399,
    "start_time": "2021-12-16T15:05:31.460Z"
   },
   {
    "duration": 239,
    "start_time": "2021-12-16T15:05:31.861Z"
   },
   {
    "duration": 12,
    "start_time": "2021-12-16T15:05:32.102Z"
   },
   {
    "duration": 546,
    "start_time": "2021-12-16T15:05:32.118Z"
   },
   {
    "duration": 414,
    "start_time": "2021-12-16T15:07:08.027Z"
   },
   {
    "duration": 507,
    "start_time": "2021-12-16T15:07:26.629Z"
   },
   {
    "duration": 445,
    "start_time": "2021-12-16T15:07:38.964Z"
   },
   {
    "duration": 48879,
    "start_time": "2021-12-16T15:08:37.396Z"
   },
   {
    "duration": 9,
    "start_time": "2021-12-16T15:12:23.416Z"
   },
   {
    "duration": 28,
    "start_time": "2021-12-16T15:12:45.301Z"
   },
   {
    "duration": 28,
    "start_time": "2021-12-16T15:13:36.135Z"
   },
   {
    "duration": 35,
    "start_time": "2021-12-16T15:14:05.440Z"
   },
   {
    "duration": 32,
    "start_time": "2021-12-16T15:14:28.112Z"
   },
   {
    "duration": 33,
    "start_time": "2021-12-16T15:14:40.789Z"
   },
   {
    "duration": 33,
    "start_time": "2021-12-16T15:15:14.763Z"
   },
   {
    "duration": 6,
    "start_time": "2021-12-16T15:18:18.351Z"
   },
   {
    "duration": 6,
    "start_time": "2021-12-16T15:18:55.806Z"
   },
   {
    "duration": 6,
    "start_time": "2021-12-16T15:19:08.040Z"
   },
   {
    "duration": 6,
    "start_time": "2021-12-16T15:19:14.163Z"
   },
   {
    "duration": 6,
    "start_time": "2021-12-16T15:19:20.254Z"
   },
   {
    "duration": 6,
    "start_time": "2021-12-16T15:19:34.062Z"
   },
   {
    "duration": 13,
    "start_time": "2021-12-16T15:22:41.472Z"
   },
   {
    "duration": 15,
    "start_time": "2021-12-16T15:24:49.543Z"
   },
   {
    "duration": 6241,
    "start_time": "2021-12-16T15:25:52.666Z"
   },
   {
    "duration": 6374,
    "start_time": "2021-12-16T15:26:14.590Z"
   },
   {
    "duration": 6724,
    "start_time": "2021-12-16T15:26:42.098Z"
   },
   {
    "duration": 14,
    "start_time": "2021-12-16T15:28:34.531Z"
   },
   {
    "duration": 14,
    "start_time": "2021-12-16T15:29:29.165Z"
   },
   {
    "duration": 16,
    "start_time": "2021-12-16T15:31:17.356Z"
   },
   {
    "duration": 9,
    "start_time": "2021-12-16T16:04:28.675Z"
   },
   {
    "duration": 10,
    "start_time": "2021-12-16T16:05:25.792Z"
   },
   {
    "duration": 7,
    "start_time": "2021-12-16T16:08:48.360Z"
   },
   {
    "duration": 13,
    "start_time": "2021-12-16T16:09:42.004Z"
   },
   {
    "duration": 12,
    "start_time": "2021-12-16T16:13:24.450Z"
   },
   {
    "duration": 14,
    "start_time": "2021-12-16T16:13:58.723Z"
   },
   {
    "duration": 11,
    "start_time": "2021-12-16T16:17:17.956Z"
   },
   {
    "duration": 10,
    "start_time": "2021-12-16T16:36:19.845Z"
   },
   {
    "duration": 245,
    "start_time": "2021-12-16T16:37:08.503Z"
   },
   {
    "duration": 10,
    "start_time": "2021-12-16T16:37:17.219Z"
   },
   {
    "duration": 12,
    "start_time": "2021-12-16T16:38:39.331Z"
   },
   {
    "duration": 13,
    "start_time": "2021-12-16T16:38:41.432Z"
   },
   {
    "duration": 12,
    "start_time": "2021-12-16T18:42:10.615Z"
   },
   {
    "duration": 13,
    "start_time": "2021-12-16T18:42:16.071Z"
   },
   {
    "duration": 389,
    "start_time": "2021-12-16T18:43:06.913Z"
   },
   {
    "duration": 566,
    "start_time": "2021-12-16T18:43:43.460Z"
   },
   {
    "duration": 380,
    "start_time": "2021-12-16T18:44:18.489Z"
   },
   {
    "duration": 13,
    "start_time": "2021-12-16T18:44:26.437Z"
   },
   {
    "duration": 9,
    "start_time": "2021-12-16T18:44:57.975Z"
   },
   {
    "duration": 168,
    "start_time": "2021-12-16T18:47:03.665Z"
   },
   {
    "duration": 449,
    "start_time": "2021-12-16T18:47:10.052Z"
   },
   {
    "duration": 10,
    "start_time": "2021-12-16T18:47:59.317Z"
   },
   {
    "duration": 10,
    "start_time": "2021-12-16T18:48:08.613Z"
   },
   {
    "duration": 10,
    "start_time": "2021-12-16T18:48:32.075Z"
   },
   {
    "duration": 10,
    "start_time": "2021-12-16T18:48:40.168Z"
   },
   {
    "duration": 14,
    "start_time": "2021-12-16T18:49:27.175Z"
   },
   {
    "duration": 11,
    "start_time": "2021-12-16T18:49:30.451Z"
   },
   {
    "duration": 330,
    "start_time": "2021-12-16T19:17:27.332Z"
   },
   {
    "duration": 12,
    "start_time": "2021-12-16T19:18:41.098Z"
   },
   {
    "duration": 11,
    "start_time": "2021-12-16T19:19:21.725Z"
   },
   {
    "duration": 12,
    "start_time": "2021-12-16T19:19:24.951Z"
   },
   {
    "duration": 636,
    "start_time": "2021-12-17T09:36:12.957Z"
   },
   {
    "duration": 16,
    "start_time": "2021-12-17T09:36:13.596Z"
   },
   {
    "duration": 5,
    "start_time": "2021-12-17T09:36:13.614Z"
   },
   {
    "duration": 21,
    "start_time": "2021-12-17T09:36:13.620Z"
   },
   {
    "duration": 5,
    "start_time": "2021-12-17T09:36:13.643Z"
   },
   {
    "duration": 8,
    "start_time": "2021-12-17T09:36:13.649Z"
   },
   {
    "duration": 33,
    "start_time": "2021-12-17T09:36:13.659Z"
   },
   {
    "duration": 12,
    "start_time": "2021-12-17T09:36:13.695Z"
   },
   {
    "duration": 23,
    "start_time": "2021-12-17T09:36:13.710Z"
   },
   {
    "duration": 9,
    "start_time": "2021-12-17T09:36:13.735Z"
   },
   {
    "duration": 334,
    "start_time": "2021-12-17T09:36:13.746Z"
   },
   {
    "duration": 15,
    "start_time": "2021-12-17T09:36:14.082Z"
   },
   {
    "duration": 8,
    "start_time": "2021-12-17T09:36:14.101Z"
   },
   {
    "duration": 12,
    "start_time": "2021-12-17T09:36:14.111Z"
   },
   {
    "duration": 12,
    "start_time": "2021-12-17T09:36:14.125Z"
   },
   {
    "duration": 25,
    "start_time": "2021-12-17T09:36:14.138Z"
   },
   {
    "duration": 7,
    "start_time": "2021-12-17T09:36:14.165Z"
   },
   {
    "duration": 631,
    "start_time": "2021-12-17T09:36:14.187Z"
   },
   {
    "duration": 552,
    "start_time": "2021-12-17T09:36:14.819Z"
   },
   {
    "duration": 250,
    "start_time": "2021-12-17T09:36:15.372Z"
   },
   {
    "duration": 139,
    "start_time": "2021-12-17T09:36:15.623Z"
   },
   {
    "duration": 7,
    "start_time": "2021-12-17T09:36:15.764Z"
   },
   {
    "duration": 52,
    "start_time": "2021-12-17T09:36:15.774Z"
   },
   {
    "duration": 15,
    "start_time": "2021-12-17T09:36:15.828Z"
   },
   {
    "duration": 22,
    "start_time": "2021-12-17T09:36:15.845Z"
   },
   {
    "duration": 4776,
    "start_time": "2021-12-17T09:36:15.869Z"
   },
   {
    "duration": 7,
    "start_time": "2021-12-17T09:36:20.646Z"
   },
   {
    "duration": 9,
    "start_time": "2021-12-17T09:36:20.654Z"
   },
   {
    "duration": 11,
    "start_time": "2021-12-17T09:36:20.689Z"
   },
   {
    "duration": 10,
    "start_time": "2021-12-17T09:36:20.702Z"
   },
   {
    "duration": 13,
    "start_time": "2021-12-17T09:36:20.714Z"
   },
   {
    "duration": 7,
    "start_time": "2021-12-17T09:36:20.729Z"
   },
   {
    "duration": 14,
    "start_time": "2021-12-17T09:36:20.737Z"
   },
   {
    "duration": 10,
    "start_time": "2021-12-17T09:36:20.752Z"
   },
   {
    "duration": 89,
    "start_time": "2021-12-17T09:36:20.763Z"
   },
   {
    "duration": 6799,
    "start_time": "2021-12-17T09:36:14.055Z"
   },
   {
    "duration": 637,
    "start_time": "2021-12-17T09:58:55.667Z"
   },
   {
    "duration": 10,
    "start_time": "2021-12-17T09:58:56.305Z"
   },
   {
    "duration": 5,
    "start_time": "2021-12-17T09:58:56.317Z"
   },
   {
    "duration": 23,
    "start_time": "2021-12-17T09:58:56.323Z"
   },
   {
    "duration": 5,
    "start_time": "2021-12-17T09:58:56.348Z"
   },
   {
    "duration": 35,
    "start_time": "2021-12-17T09:58:56.355Z"
   },
   {
    "duration": 5,
    "start_time": "2021-12-17T09:58:56.392Z"
   },
   {
    "duration": 19,
    "start_time": "2021-12-17T09:58:56.400Z"
   },
   {
    "duration": 21,
    "start_time": "2021-12-17T09:58:56.422Z"
   },
   {
    "duration": 9,
    "start_time": "2021-12-17T09:58:56.445Z"
   },
   {
    "duration": 329,
    "start_time": "2021-12-17T09:58:56.455Z"
   },
   {
    "duration": 10,
    "start_time": "2021-12-17T09:58:56.785Z"
   },
   {
    "duration": 15,
    "start_time": "2021-12-17T09:58:56.796Z"
   },
   {
    "duration": 8,
    "start_time": "2021-12-17T09:58:56.813Z"
   },
   {
    "duration": 10,
    "start_time": "2021-12-17T09:58:56.822Z"
   },
   {
    "duration": 33,
    "start_time": "2021-12-17T09:58:56.833Z"
   },
   {
    "duration": 8,
    "start_time": "2021-12-17T09:58:56.868Z"
   },
   {
    "duration": 557,
    "start_time": "2021-12-17T09:58:56.887Z"
   },
   {
    "duration": 629,
    "start_time": "2021-12-17T09:58:57.446Z"
   },
   {
    "duration": 330,
    "start_time": "2021-12-17T09:58:58.076Z"
   },
   {
    "duration": 148,
    "start_time": "2021-12-17T09:58:58.408Z"
   },
   {
    "duration": 8,
    "start_time": "2021-12-17T09:58:58.558Z"
   },
   {
    "duration": 33,
    "start_time": "2021-12-17T09:58:58.570Z"
   },
   {
    "duration": 9,
    "start_time": "2021-12-17T09:58:58.605Z"
   },
   {
    "duration": 37,
    "start_time": "2021-12-17T09:58:58.616Z"
   },
   {
    "duration": 3793,
    "start_time": "2021-12-17T09:58:58.655Z"
   },
   {
    "duration": 7,
    "start_time": "2021-12-17T09:59:02.450Z"
   },
   {
    "duration": 32,
    "start_time": "2021-12-17T09:59:02.459Z"
   },
   {
    "duration": 14,
    "start_time": "2021-12-17T09:59:02.493Z"
   },
   {
    "duration": 8,
    "start_time": "2021-12-17T09:59:02.508Z"
   },
   {
    "duration": 8,
    "start_time": "2021-12-17T09:59:02.517Z"
   },
   {
    "duration": 8,
    "start_time": "2021-12-17T09:59:02.526Z"
   },
   {
    "duration": 7,
    "start_time": "2021-12-17T09:59:02.535Z"
   },
   {
    "duration": 9,
    "start_time": "2021-12-17T09:59:02.543Z"
   },
   {
    "duration": 74,
    "start_time": "2021-12-17T09:59:02.554Z"
   },
   {
    "duration": 6779,
    "start_time": "2021-12-17T09:58:55.851Z"
   },
   {
    "duration": 8,
    "start_time": "2021-12-17T10:05:39.898Z"
   },
   {
    "duration": 8,
    "start_time": "2021-12-17T10:07:53.260Z"
   },
   {
    "duration": 8,
    "start_time": "2021-12-17T10:07:56.143Z"
   },
   {
    "duration": 7,
    "start_time": "2021-12-17T10:07:59.301Z"
   },
   {
    "duration": 8,
    "start_time": "2021-12-17T10:08:43.809Z"
   },
   {
    "duration": 7,
    "start_time": "2021-12-17T10:08:56.255Z"
   },
   {
    "duration": 8,
    "start_time": "2021-12-17T10:08:59.395Z"
   },
   {
    "duration": 698,
    "start_time": "2021-12-17T10:10:59.266Z"
   },
   {
    "duration": 214,
    "start_time": "2021-12-17T10:12:00.461Z"
   },
   {
    "duration": 870,
    "start_time": "2021-12-17T14:02:41.682Z"
   },
   {
    "duration": 18,
    "start_time": "2021-12-17T14:02:42.556Z"
   },
   {
    "duration": 11,
    "start_time": "2021-12-17T14:02:42.577Z"
   },
   {
    "duration": 39,
    "start_time": "2021-12-17T14:02:42.591Z"
   },
   {
    "duration": 31,
    "start_time": "2021-12-17T14:02:42.632Z"
   },
   {
    "duration": 7,
    "start_time": "2021-12-17T14:02:42.665Z"
   },
   {
    "duration": 8,
    "start_time": "2021-12-17T14:02:42.674Z"
   },
   {
    "duration": 10,
    "start_time": "2021-12-17T14:02:42.684Z"
   },
   {
    "duration": 78,
    "start_time": "2021-12-17T14:02:42.697Z"
   },
   {
    "duration": 14,
    "start_time": "2021-12-17T14:02:42.778Z"
   },
   {
    "duration": 643,
    "start_time": "2021-12-17T14:02:42.794Z"
   },
   {
    "duration": 26,
    "start_time": "2021-12-17T14:02:43.440Z"
   },
   {
    "duration": 7,
    "start_time": "2021-12-17T14:02:43.469Z"
   },
   {
    "duration": 8,
    "start_time": "2021-12-17T14:02:43.479Z"
   },
   {
    "duration": 7,
    "start_time": "2021-12-17T14:02:43.490Z"
   },
   {
    "duration": 65,
    "start_time": "2021-12-17T14:02:43.499Z"
   },
   {
    "duration": 10,
    "start_time": "2021-12-17T14:02:43.567Z"
   },
   {
    "duration": 986,
    "start_time": "2021-12-17T14:02:43.579Z"
   },
   {
    "duration": 949,
    "start_time": "2021-12-17T14:02:44.567Z"
   },
   {
    "duration": 401,
    "start_time": "2021-12-17T14:02:45.518Z"
   },
   {
    "duration": 233,
    "start_time": "2021-12-17T14:02:45.922Z"
   },
   {
    "duration": 12,
    "start_time": "2021-12-17T14:02:46.157Z"
   },
   {
    "duration": 34,
    "start_time": "2021-12-17T14:02:46.172Z"
   },
   {
    "duration": 56,
    "start_time": "2021-12-17T14:02:46.210Z"
   },
   {
    "duration": 13,
    "start_time": "2021-12-17T14:02:46.268Z"
   },
   {
    "duration": 6781,
    "start_time": "2021-12-17T14:02:46.283Z"
   },
   {
    "duration": 11,
    "start_time": "2021-12-17T14:02:53.069Z"
   },
   {
    "duration": 10,
    "start_time": "2021-12-17T14:02:53.083Z"
   },
   {
    "duration": 12,
    "start_time": "2021-12-17T14:02:53.096Z"
   },
   {
    "duration": 59,
    "start_time": "2021-12-17T14:02:53.110Z"
   },
   {
    "duration": 10,
    "start_time": "2021-12-17T14:02:53.171Z"
   },
   {
    "duration": 10,
    "start_time": "2021-12-17T14:02:53.183Z"
   },
   {
    "duration": 10,
    "start_time": "2021-12-17T14:02:53.195Z"
   },
   {
    "duration": 58,
    "start_time": "2021-12-17T14:02:53.208Z"
   },
   {
    "duration": 10,
    "start_time": "2021-12-17T14:02:53.268Z"
   },
   {
    "duration": 17,
    "start_time": "2021-12-17T14:02:53.281Z"
   },
   {
    "duration": 20,
    "start_time": "2021-12-17T14:02:53.300Z"
   },
   {
    "duration": 449,
    "start_time": "2021-12-17T14:02:53.322Z"
   },
   {
    "duration": 7400,
    "start_time": "2021-12-17T14:02:46.373Z"
   },
   {
    "duration": 8,
    "start_time": "2021-12-17T14:14:59.570Z"
   },
   {
    "duration": 10,
    "start_time": "2021-12-17T14:15:49.220Z"
   },
   {
    "duration": 8769,
    "start_time": "2021-12-17T14:16:05.103Z"
   },
   {
    "duration": 341,
    "start_time": "2021-12-17T14:16:41.724Z"
   },
   {
    "duration": 408,
    "start_time": "2021-12-17T14:16:51.437Z"
   },
   {
    "duration": 333,
    "start_time": "2021-12-17T14:18:10.086Z"
   },
   {
    "duration": 10,
    "start_time": "2021-12-17T14:18:26.937Z"
   },
   {
    "duration": 381,
    "start_time": "2021-12-17T14:22:33.225Z"
   },
   {
    "duration": 37,
    "start_time": "2021-12-17T14:22:50.368Z"
   },
   {
    "duration": 12,
    "start_time": "2021-12-17T14:23:26.105Z"
   },
   {
    "duration": 13,
    "start_time": "2021-12-17T14:23:58.840Z"
   },
   {
    "duration": 13,
    "start_time": "2021-12-17T14:24:28.994Z"
   },
   {
    "duration": 15,
    "start_time": "2021-12-17T14:25:06.681Z"
   },
   {
    "duration": 494,
    "start_time": "2021-12-17T14:28:31.583Z"
   },
   {
    "duration": 9323,
    "start_time": "2021-12-17T14:32:10.862Z"
   },
   {
    "duration": 19,
    "start_time": "2021-12-17T14:32:30.479Z"
   },
   {
    "duration": 16,
    "start_time": "2021-12-17T14:33:07.059Z"
   },
   {
    "duration": 118,
    "start_time": "2021-12-17T14:40:32.420Z"
   },
   {
    "duration": 7,
    "start_time": "2021-12-17T14:40:44.753Z"
   },
   {
    "duration": 23,
    "start_time": "2021-12-17T14:52:21.415Z"
   },
   {
    "duration": 18,
    "start_time": "2021-12-17T14:53:38.567Z"
   },
   {
    "duration": 18,
    "start_time": "2021-12-17T14:55:26.318Z"
   },
   {
    "duration": 9,
    "start_time": "2021-12-17T14:57:53.909Z"
   },
   {
    "duration": 7,
    "start_time": "2021-12-17T14:59:42.259Z"
   },
   {
    "duration": 7,
    "start_time": "2021-12-17T15:00:05.662Z"
   },
   {
    "duration": 107,
    "start_time": "2021-12-17T15:00:11.692Z"
   },
   {
    "duration": 896,
    "start_time": "2021-12-18T09:08:39.813Z"
   },
   {
    "duration": 16,
    "start_time": "2021-12-18T09:08:40.712Z"
   },
   {
    "duration": 8,
    "start_time": "2021-12-18T09:08:40.730Z"
   },
   {
    "duration": 47,
    "start_time": "2021-12-18T09:08:40.741Z"
   },
   {
    "duration": 7,
    "start_time": "2021-12-18T09:08:40.791Z"
   },
   {
    "duration": 6,
    "start_time": "2021-12-18T09:08:40.800Z"
   },
   {
    "duration": 7,
    "start_time": "2021-12-18T09:08:40.808Z"
   },
   {
    "duration": 9,
    "start_time": "2021-12-18T09:08:40.819Z"
   },
   {
    "duration": 64,
    "start_time": "2021-12-18T09:08:40.831Z"
   },
   {
    "duration": 12,
    "start_time": "2021-12-18T09:08:40.898Z"
   },
   {
    "duration": 595,
    "start_time": "2021-12-18T09:08:40.913Z"
   },
   {
    "duration": 15,
    "start_time": "2021-12-18T09:08:41.511Z"
   },
   {
    "duration": 4,
    "start_time": "2021-12-18T09:08:41.529Z"
   },
   {
    "duration": 6,
    "start_time": "2021-12-18T09:08:41.535Z"
   },
   {
    "duration": 6,
    "start_time": "2021-12-18T09:08:41.544Z"
   },
   {
    "duration": 62,
    "start_time": "2021-12-18T09:08:41.552Z"
   },
   {
    "duration": 7,
    "start_time": "2021-12-18T09:08:41.616Z"
   },
   {
    "duration": 548,
    "start_time": "2021-12-18T09:08:41.625Z"
   },
   {
    "duration": 519,
    "start_time": "2021-12-18T09:08:42.175Z"
   },
   {
    "duration": 228,
    "start_time": "2021-12-18T09:08:42.696Z"
   },
   {
    "duration": 130,
    "start_time": "2021-12-18T09:08:42.925Z"
   },
   {
    "duration": 7,
    "start_time": "2021-12-18T09:08:43.057Z"
   },
   {
    "duration": 19,
    "start_time": "2021-12-18T09:08:43.088Z"
   },
   {
    "duration": 9,
    "start_time": "2021-12-18T09:08:43.110Z"
   },
   {
    "duration": 8,
    "start_time": "2021-12-18T09:08:43.121Z"
   },
   {
    "duration": 3652,
    "start_time": "2021-12-18T09:08:43.131Z"
   },
   {
    "duration": 8,
    "start_time": "2021-12-18T09:08:46.787Z"
   },
   {
    "duration": 13,
    "start_time": "2021-12-18T09:08:46.797Z"
   },
   {
    "duration": 6,
    "start_time": "2021-12-18T09:08:46.812Z"
   },
   {
    "duration": 10,
    "start_time": "2021-12-18T09:08:46.820Z"
   },
   {
    "duration": 11,
    "start_time": "2021-12-18T09:08:46.832Z"
   },
   {
    "duration": 7,
    "start_time": "2021-12-18T09:08:46.844Z"
   },
   {
    "duration": 36,
    "start_time": "2021-12-18T09:08:46.852Z"
   },
   {
    "duration": 6,
    "start_time": "2021-12-18T09:08:46.890Z"
   },
   {
    "duration": 8,
    "start_time": "2021-12-18T09:08:46.898Z"
   },
   {
    "duration": 6,
    "start_time": "2021-12-18T09:08:46.907Z"
   },
   {
    "duration": 10,
    "start_time": "2021-12-18T09:08:46.915Z"
   },
   {
    "duration": 11,
    "start_time": "2021-12-18T09:08:46.926Z"
   },
   {
    "duration": 11,
    "start_time": "2021-12-18T09:08:46.939Z"
   },
   {
    "duration": 404,
    "start_time": "2021-12-18T09:08:46.951Z"
   },
   {
    "duration": 11,
    "start_time": "2021-12-18T09:08:47.356Z"
   },
   {
    "duration": 25,
    "start_time": "2021-12-18T09:08:47.368Z"
   },
   {
    "duration": 5,
    "start_time": "2021-12-18T09:08:47.394Z"
   },
   {
    "duration": 844,
    "start_time": "2021-12-18T10:26:48.593Z"
   },
   {
    "duration": 11,
    "start_time": "2021-12-18T10:26:49.439Z"
   },
   {
    "duration": 12,
    "start_time": "2021-12-18T10:26:49.453Z"
   },
   {
    "duration": 39,
    "start_time": "2021-12-18T10:26:49.467Z"
   },
   {
    "duration": 6,
    "start_time": "2021-12-18T10:26:49.508Z"
   },
   {
    "duration": 9,
    "start_time": "2021-12-18T10:26:49.516Z"
   },
   {
    "duration": 14,
    "start_time": "2021-12-18T10:26:49.526Z"
   },
   {
    "duration": 15,
    "start_time": "2021-12-18T10:26:49.542Z"
   },
   {
    "duration": 30,
    "start_time": "2021-12-18T10:26:49.560Z"
   },
   {
    "duration": 14,
    "start_time": "2021-12-18T10:26:49.593Z"
   },
   {
    "duration": 291,
    "start_time": "2021-12-18T10:26:49.609Z"
   },
   {
    "duration": 10,
    "start_time": "2021-12-18T10:26:49.901Z"
   },
   {
    "duration": 6,
    "start_time": "2021-12-18T10:26:49.912Z"
   },
   {
    "duration": 5,
    "start_time": "2021-12-18T10:26:49.920Z"
   },
   {
    "duration": 7,
    "start_time": "2021-12-18T10:26:49.927Z"
   },
   {
    "duration": 22,
    "start_time": "2021-12-18T10:26:49.936Z"
   },
   {
    "duration": 28,
    "start_time": "2021-12-18T10:26:49.960Z"
   },
   {
    "duration": 544,
    "start_time": "2021-12-18T10:26:49.990Z"
   },
   {
    "duration": 532,
    "start_time": "2021-12-18T10:26:50.536Z"
   },
   {
    "duration": 226,
    "start_time": "2021-12-18T10:26:51.070Z"
   },
   {
    "duration": 131,
    "start_time": "2021-12-18T10:26:51.298Z"
   },
   {
    "duration": 9,
    "start_time": "2021-12-18T10:26:51.431Z"
   },
   {
    "duration": 20,
    "start_time": "2021-12-18T10:26:51.441Z"
   },
   {
    "duration": 32,
    "start_time": "2021-12-18T10:26:51.463Z"
   },
   {
    "duration": 9,
    "start_time": "2021-12-18T10:26:51.496Z"
   },
   {
    "duration": 4255,
    "start_time": "2021-12-18T10:26:51.507Z"
   },
   {
    "duration": 7,
    "start_time": "2021-12-18T10:26:55.766Z"
   },
   {
    "duration": 19,
    "start_time": "2021-12-18T10:26:55.775Z"
   },
   {
    "duration": 8,
    "start_time": "2021-12-18T10:26:55.796Z"
   },
   {
    "duration": 8,
    "start_time": "2021-12-18T10:26:55.806Z"
   },
   {
    "duration": 8,
    "start_time": "2021-12-18T10:26:55.816Z"
   },
   {
    "duration": 10,
    "start_time": "2021-12-18T10:26:55.827Z"
   },
   {
    "duration": 10,
    "start_time": "2021-12-18T10:26:55.839Z"
   },
   {
    "duration": 41,
    "start_time": "2021-12-18T10:26:55.851Z"
   },
   {
    "duration": 10,
    "start_time": "2021-12-18T10:26:55.894Z"
   },
   {
    "duration": 8,
    "start_time": "2021-12-18T10:26:55.906Z"
   },
   {
    "duration": 8,
    "start_time": "2021-12-18T10:26:55.916Z"
   },
   {
    "duration": 12,
    "start_time": "2021-12-18T10:26:55.926Z"
   },
   {
    "duration": 11,
    "start_time": "2021-12-18T10:26:55.940Z"
   },
   {
    "duration": 326,
    "start_time": "2021-12-18T10:26:55.988Z"
   },
   {
    "duration": 12,
    "start_time": "2021-12-18T10:26:56.316Z"
   },
   {
    "duration": 12,
    "start_time": "2021-12-18T10:26:56.330Z"
   },
   {
    "duration": 5,
    "start_time": "2021-12-18T10:26:56.344Z"
   },
   {
    "duration": 283,
    "start_time": "2021-12-20T09:58:27.319Z"
   },
   {
    "duration": 639,
    "start_time": "2021-12-20T09:58:34.398Z"
   },
   {
    "duration": 11,
    "start_time": "2021-12-20T09:58:35.040Z"
   },
   {
    "duration": 10,
    "start_time": "2021-12-20T09:58:35.054Z"
   },
   {
    "duration": 26,
    "start_time": "2021-12-20T09:58:35.066Z"
   },
   {
    "duration": 6,
    "start_time": "2021-12-20T09:58:35.094Z"
   },
   {
    "duration": 9,
    "start_time": "2021-12-20T09:58:35.102Z"
   },
   {
    "duration": 7,
    "start_time": "2021-12-20T09:58:35.113Z"
   },
   {
    "duration": 10,
    "start_time": "2021-12-20T09:58:35.123Z"
   },
   {
    "duration": 21,
    "start_time": "2021-12-20T09:58:35.165Z"
   },
   {
    "duration": 10,
    "start_time": "2021-12-20T09:58:35.188Z"
   },
   {
    "duration": 475,
    "start_time": "2021-12-20T09:58:35.200Z"
   },
   {
    "duration": 15,
    "start_time": "2021-12-20T09:58:35.677Z"
   },
   {
    "duration": 4,
    "start_time": "2021-12-20T09:58:35.695Z"
   },
   {
    "duration": 14,
    "start_time": "2021-12-20T09:58:35.701Z"
   },
   {
    "duration": 7,
    "start_time": "2021-12-20T09:58:35.717Z"
   },
   {
    "duration": 50,
    "start_time": "2021-12-20T09:58:35.726Z"
   },
   {
    "duration": 11,
    "start_time": "2021-12-20T09:58:35.777Z"
   },
   {
    "duration": 925,
    "start_time": "2021-12-20T09:58:35.790Z"
   },
   {
    "duration": 879,
    "start_time": "2021-12-20T09:58:36.717Z"
   },
   {
    "duration": 262,
    "start_time": "2021-12-20T09:58:37.599Z"
   },
   {
    "duration": 153,
    "start_time": "2021-12-20T09:58:37.863Z"
   },
   {
    "duration": 10,
    "start_time": "2021-12-20T09:58:38.018Z"
   },
   {
    "duration": 39,
    "start_time": "2021-12-20T09:58:38.031Z"
   },
   {
    "duration": 12,
    "start_time": "2021-12-20T09:58:38.073Z"
   },
   {
    "duration": 10,
    "start_time": "2021-12-20T09:58:38.087Z"
   },
   {
    "duration": 4274,
    "start_time": "2021-12-20T09:58:38.098Z"
   },
   {
    "duration": 9,
    "start_time": "2021-12-20T09:58:42.374Z"
   },
   {
    "duration": 11,
    "start_time": "2021-12-20T09:58:42.384Z"
   },
   {
    "duration": 11,
    "start_time": "2021-12-20T09:58:42.397Z"
   },
   {
    "duration": 8,
    "start_time": "2021-12-20T09:58:42.410Z"
   },
   {
    "duration": 50,
    "start_time": "2021-12-20T09:58:42.420Z"
   },
   {
    "duration": 11,
    "start_time": "2021-12-20T09:58:42.472Z"
   },
   {
    "duration": 11,
    "start_time": "2021-12-20T09:58:42.485Z"
   },
   {
    "duration": 11,
    "start_time": "2021-12-20T09:58:42.499Z"
   },
   {
    "duration": 10,
    "start_time": "2021-12-20T09:58:42.512Z"
   },
   {
    "duration": 44,
    "start_time": "2021-12-20T09:58:42.524Z"
   },
   {
    "duration": 8,
    "start_time": "2021-12-20T09:58:42.571Z"
   },
   {
    "duration": 14,
    "start_time": "2021-12-20T09:58:42.581Z"
   },
   {
    "duration": 14,
    "start_time": "2021-12-20T09:58:42.597Z"
   },
   {
    "duration": 458,
    "start_time": "2021-12-20T09:58:42.613Z"
   },
   {
    "duration": 13,
    "start_time": "2021-12-20T09:58:43.073Z"
   },
   {
    "duration": 13,
    "start_time": "2021-12-20T09:58:43.088Z"
   },
   {
    "duration": 5,
    "start_time": "2021-12-20T09:58:43.103Z"
   },
   {
    "duration": 9,
    "start_time": "2021-12-20T09:59:09.646Z"
   },
   {
    "duration": 814,
    "start_time": "2021-12-20T10:00:41.063Z"
   },
   {
    "duration": 1714,
    "start_time": "2021-12-20T10:00:55.161Z"
   },
   {
    "duration": 932,
    "start_time": "2021-12-20T10:01:32.239Z"
   },
   {
    "duration": 61541,
    "start_time": "2021-12-20T10:05:56.996Z"
   },
   {
    "duration": 138,
    "start_time": "2021-12-20T10:07:57.126Z"
   },
   {
    "duration": 361,
    "start_time": "2021-12-20T10:09:19.236Z"
   },
   {
    "duration": 325,
    "start_time": "2021-12-20T10:09:31.521Z"
   },
   {
    "duration": 8,
    "start_time": "2021-12-20T10:10:20.304Z"
   },
   {
    "duration": 2141,
    "start_time": "2021-12-20T10:11:19.552Z"
   },
   {
    "duration": 135,
    "start_time": "2021-12-20T10:14:59.805Z"
   },
   {
    "duration": 631,
    "start_time": "2021-12-20T10:37:25.697Z"
   },
   {
    "duration": 612,
    "start_time": "2021-12-20T10:37:54.041Z"
   },
   {
    "duration": 60,
    "start_time": "2021-12-20T10:38:54.951Z"
   },
   {
    "duration": 697,
    "start_time": "2021-12-20T10:39:06.636Z"
   },
   {
    "duration": 13,
    "start_time": "2021-12-20T10:39:07.335Z"
   },
   {
    "duration": 13,
    "start_time": "2021-12-20T10:39:07.350Z"
   },
   {
    "duration": 42,
    "start_time": "2021-12-20T10:39:07.365Z"
   },
   {
    "duration": 5,
    "start_time": "2021-12-20T10:39:07.410Z"
   },
   {
    "duration": 9,
    "start_time": "2021-12-20T10:39:07.417Z"
   },
   {
    "duration": 13,
    "start_time": "2021-12-20T10:39:07.428Z"
   },
   {
    "duration": 23,
    "start_time": "2021-12-20T10:39:07.445Z"
   },
   {
    "duration": 36,
    "start_time": "2021-12-20T10:39:07.470Z"
   },
   {
    "duration": 14,
    "start_time": "2021-12-20T10:39:07.509Z"
   },
   {
    "duration": 438,
    "start_time": "2021-12-20T10:39:07.525Z"
   },
   {
    "duration": 14,
    "start_time": "2021-12-20T10:39:07.965Z"
   },
   {
    "duration": 8,
    "start_time": "2021-12-20T10:39:07.981Z"
   },
   {
    "duration": 7,
    "start_time": "2021-12-20T10:39:07.991Z"
   },
   {
    "duration": 8,
    "start_time": "2021-12-20T10:39:08.000Z"
   },
   {
    "duration": 57,
    "start_time": "2021-12-20T10:39:08.011Z"
   },
   {
    "duration": 11,
    "start_time": "2021-12-20T10:39:08.073Z"
   },
   {
    "duration": 343,
    "start_time": "2021-12-20T10:39:08.086Z"
   },
   {
    "duration": 654,
    "start_time": "2021-12-20T10:39:08.431Z"
   },
   {
    "duration": 590,
    "start_time": "2021-12-20T10:39:09.087Z"
   },
   {
    "duration": 251,
    "start_time": "2021-12-20T10:39:09.679Z"
   },
   {
    "duration": 201,
    "start_time": "2021-12-20T10:39:09.932Z"
   },
   {
    "duration": 697,
    "start_time": "2021-12-20T10:39:10.138Z"
   },
   {
    "duration": 10,
    "start_time": "2021-12-20T10:39:10.838Z"
   },
   {
    "duration": 42,
    "start_time": "2021-12-20T10:39:10.850Z"
   },
   {
    "duration": 11,
    "start_time": "2021-12-20T10:39:10.895Z"
   },
   {
    "duration": 10,
    "start_time": "2021-12-20T10:39:10.908Z"
   },
   {
    "duration": 5285,
    "start_time": "2021-12-20T10:39:10.920Z"
   },
   {
    "duration": 14,
    "start_time": "2021-12-20T10:39:16.208Z"
   },
   {
    "duration": 9,
    "start_time": "2021-12-20T10:39:16.224Z"
   },
   {
    "duration": 41,
    "start_time": "2021-12-20T10:39:16.235Z"
   },
   {
    "duration": 23,
    "start_time": "2021-12-20T10:39:16.279Z"
   },
   {
    "duration": 10,
    "start_time": "2021-12-20T10:39:16.304Z"
   },
   {
    "duration": 10,
    "start_time": "2021-12-20T10:39:16.316Z"
   },
   {
    "duration": 10,
    "start_time": "2021-12-20T10:39:16.328Z"
   },
   {
    "duration": 33,
    "start_time": "2021-12-20T10:39:16.339Z"
   },
   {
    "duration": 10,
    "start_time": "2021-12-20T10:39:16.374Z"
   },
   {
    "duration": 13,
    "start_time": "2021-12-20T10:39:16.386Z"
   },
   {
    "duration": 17,
    "start_time": "2021-12-20T10:39:16.401Z"
   },
   {
    "duration": 21,
    "start_time": "2021-12-20T10:39:16.420Z"
   },
   {
    "duration": 35,
    "start_time": "2021-12-20T10:39:16.443Z"
   },
   {
    "duration": 391,
    "start_time": "2021-12-20T10:39:16.480Z"
   },
   {
    "duration": 17,
    "start_time": "2021-12-20T10:39:16.873Z"
   },
   {
    "duration": 19,
    "start_time": "2021-12-20T10:39:16.892Z"
   },
   {
    "duration": 5,
    "start_time": "2021-12-20T10:39:16.912Z"
   },
   {
    "duration": 558,
    "start_time": "2021-12-20T10:40:12.170Z"
   },
   {
    "duration": 461,
    "start_time": "2021-12-20T10:40:25.230Z"
   },
   {
    "duration": 556,
    "start_time": "2021-12-20T10:40:48.443Z"
   },
   {
    "duration": 101,
    "start_time": "2021-12-20T10:41:20.057Z"
   },
   {
    "duration": 389,
    "start_time": "2021-12-20T10:41:27.051Z"
   },
   {
    "duration": 419,
    "start_time": "2021-12-20T10:41:40.313Z"
   },
   {
    "duration": 767,
    "start_time": "2021-12-20T10:42:15.955Z"
   },
   {
    "duration": 659,
    "start_time": "2021-12-20T10:42:30.782Z"
   },
   {
    "duration": 381,
    "start_time": "2021-12-20T10:49:14.552Z"
   },
   {
    "duration": 11,
    "start_time": "2021-12-20T10:49:30.813Z"
   },
   {
    "duration": 282,
    "start_time": "2021-12-20T10:49:49.754Z"
   },
   {
    "duration": 273,
    "start_time": "2021-12-20T10:50:17.505Z"
   },
   {
    "duration": 297,
    "start_time": "2021-12-20T10:50:25.332Z"
   },
   {
    "duration": 11,
    "start_time": "2021-12-20T10:51:57.337Z"
   },
   {
    "duration": 391,
    "start_time": "2021-12-20T10:52:17.226Z"
   },
   {
    "duration": 368,
    "start_time": "2021-12-20T10:52:26.440Z"
   },
   {
    "duration": 409,
    "start_time": "2021-12-20T10:52:33.489Z"
   },
   {
    "duration": 435,
    "start_time": "2021-12-20T10:52:41.897Z"
   },
   {
    "duration": 78,
    "start_time": "2021-12-20T10:55:30.080Z"
   },
   {
    "duration": 13,
    "start_time": "2021-12-20T10:55:44.095Z"
   },
   {
    "duration": 26,
    "start_time": "2021-12-20T11:07:12.062Z"
   },
   {
    "duration": 12,
    "start_time": "2021-12-20T11:07:24.537Z"
   },
   {
    "duration": 9,
    "start_time": "2021-12-20T11:07:28.097Z"
   },
   {
    "duration": 23,
    "start_time": "2021-12-20T11:15:35.335Z"
   },
   {
    "duration": 25,
    "start_time": "2021-12-20T11:16:09.849Z"
   },
   {
    "duration": 198,
    "start_time": "2021-12-20T11:19:44.258Z"
   },
   {
    "duration": 22,
    "start_time": "2021-12-20T11:19:51.423Z"
   },
   {
    "duration": 11,
    "start_time": "2021-12-20T11:19:55.617Z"
   },
   {
    "duration": 10,
    "start_time": "2021-12-20T11:20:33.859Z"
   },
   {
    "duration": 26,
    "start_time": "2021-12-20T11:21:52.653Z"
   },
   {
    "duration": 22,
    "start_time": "2021-12-20T11:23:29.427Z"
   },
   {
    "duration": 5,
    "start_time": "2021-12-20T11:25:22.829Z"
   },
   {
    "duration": 12,
    "start_time": "2021-12-20T11:27:04.110Z"
   },
   {
    "duration": 12,
    "start_time": "2021-12-20T11:29:15.786Z"
   },
   {
    "duration": 10,
    "start_time": "2021-12-20T11:31:54.322Z"
   },
   {
    "duration": 9,
    "start_time": "2021-12-20T11:32:13.421Z"
   },
   {
    "duration": 9,
    "start_time": "2021-12-20T11:51:57.108Z"
   },
   {
    "duration": 10,
    "start_time": "2021-12-20T11:52:18.856Z"
   },
   {
    "duration": 9,
    "start_time": "2021-12-20T11:52:50.731Z"
   },
   {
    "duration": 8,
    "start_time": "2021-12-20T11:53:34.030Z"
   },
   {
    "duration": 6,
    "start_time": "2021-12-20T12:09:37.400Z"
   },
   {
    "duration": 7,
    "start_time": "2021-12-20T12:11:18.995Z"
   },
   {
    "duration": 5197,
    "start_time": "2021-12-20T12:18:01.533Z"
   },
   {
    "duration": 215,
    "start_time": "2021-12-20T12:18:23.315Z"
   },
   {
    "duration": 212,
    "start_time": "2021-12-20T12:18:47.445Z"
   },
   {
    "duration": 209,
    "start_time": "2021-12-20T12:21:23.944Z"
   },
   {
    "duration": 217,
    "start_time": "2021-12-20T12:22:19.787Z"
   },
   {
    "duration": 753,
    "start_time": "2021-12-20T12:22:30.248Z"
   },
   {
    "duration": 12,
    "start_time": "2021-12-20T12:22:31.004Z"
   },
   {
    "duration": 13,
    "start_time": "2021-12-20T12:22:31.018Z"
   },
   {
    "duration": 5767,
    "start_time": "2021-12-20T12:22:31.033Z"
   },
   {
    "duration": 10698,
    "start_time": "2021-12-20T12:22:26.106Z"
   },
   {
    "duration": 10695,
    "start_time": "2021-12-20T12:22:26.110Z"
   },
   {
    "duration": 10684,
    "start_time": "2021-12-20T12:22:26.122Z"
   },
   {
    "duration": 10682,
    "start_time": "2021-12-20T12:22:26.125Z"
   },
   {
    "duration": 10672,
    "start_time": "2021-12-20T12:22:26.136Z"
   },
   {
    "duration": 10670,
    "start_time": "2021-12-20T12:22:26.139Z"
   },
   {
    "duration": 10667,
    "start_time": "2021-12-20T12:22:26.143Z"
   },
   {
    "duration": 10665,
    "start_time": "2021-12-20T12:22:26.146Z"
   },
   {
    "duration": 10664,
    "start_time": "2021-12-20T12:22:26.148Z"
   },
   {
    "duration": 10662,
    "start_time": "2021-12-20T12:22:26.151Z"
   },
   {
    "duration": 10662,
    "start_time": "2021-12-20T12:22:26.153Z"
   },
   {
    "duration": 10661,
    "start_time": "2021-12-20T12:22:26.155Z"
   },
   {
    "duration": 10659,
    "start_time": "2021-12-20T12:22:26.158Z"
   },
   {
    "duration": 10657,
    "start_time": "2021-12-20T12:22:26.161Z"
   },
   {
    "duration": 10655,
    "start_time": "2021-12-20T12:22:26.164Z"
   },
   {
    "duration": 10647,
    "start_time": "2021-12-20T12:22:26.173Z"
   },
   {
    "duration": 10646,
    "start_time": "2021-12-20T12:22:26.175Z"
   },
   {
    "duration": 10643,
    "start_time": "2021-12-20T12:22:26.179Z"
   },
   {
    "duration": 10642,
    "start_time": "2021-12-20T12:22:26.181Z"
   },
   {
    "duration": 10641,
    "start_time": "2021-12-20T12:22:26.183Z"
   },
   {
    "duration": 10630,
    "start_time": "2021-12-20T12:22:26.195Z"
   },
   {
    "duration": 10626,
    "start_time": "2021-12-20T12:22:26.200Z"
   },
   {
    "duration": 10622,
    "start_time": "2021-12-20T12:22:26.205Z"
   },
   {
    "duration": 10621,
    "start_time": "2021-12-20T12:22:26.207Z"
   },
   {
    "duration": 10619,
    "start_time": "2021-12-20T12:22:26.210Z"
   },
   {
    "duration": 10619,
    "start_time": "2021-12-20T12:22:26.212Z"
   },
   {
    "duration": 10618,
    "start_time": "2021-12-20T12:22:26.214Z"
   },
   {
    "duration": 10616,
    "start_time": "2021-12-20T12:22:26.217Z"
   },
   {
    "duration": 10615,
    "start_time": "2021-12-20T12:22:26.218Z"
   },
   {
    "duration": 10613,
    "start_time": "2021-12-20T12:22:26.221Z"
   },
   {
    "duration": 10612,
    "start_time": "2021-12-20T12:22:26.223Z"
   },
   {
    "duration": 10609,
    "start_time": "2021-12-20T12:22:26.226Z"
   },
   {
    "duration": 10608,
    "start_time": "2021-12-20T12:22:26.228Z"
   },
   {
    "duration": 10606,
    "start_time": "2021-12-20T12:22:26.231Z"
   },
   {
    "duration": 10604,
    "start_time": "2021-12-20T12:22:26.233Z"
   },
   {
    "duration": 10603,
    "start_time": "2021-12-20T12:22:26.235Z"
   },
   {
    "duration": 10601,
    "start_time": "2021-12-20T12:22:26.238Z"
   },
   {
    "duration": 10601,
    "start_time": "2021-12-20T12:22:26.240Z"
   },
   {
    "duration": 10598,
    "start_time": "2021-12-20T12:22:26.243Z"
   },
   {
    "duration": 10603,
    "start_time": "2021-12-20T12:22:26.260Z"
   },
   {
    "duration": 10601,
    "start_time": "2021-12-20T12:22:26.264Z"
   },
   {
    "duration": 10601,
    "start_time": "2021-12-20T12:22:26.267Z"
   },
   {
    "duration": 10601,
    "start_time": "2021-12-20T12:22:26.270Z"
   },
   {
    "duration": 10602,
    "start_time": "2021-12-20T12:22:26.272Z"
   },
   {
    "duration": 10602,
    "start_time": "2021-12-20T12:22:26.274Z"
   },
   {
    "duration": 10601,
    "start_time": "2021-12-20T12:22:26.277Z"
   },
   {
    "duration": 10601,
    "start_time": "2021-12-20T12:22:26.280Z"
   },
   {
    "duration": 10593,
    "start_time": "2021-12-20T12:22:26.290Z"
   },
   {
    "duration": 10567,
    "start_time": "2021-12-20T12:22:26.319Z"
   },
   {
    "duration": 10564,
    "start_time": "2021-12-20T12:22:26.323Z"
   },
   {
    "duration": 10563,
    "start_time": "2021-12-20T12:22:26.326Z"
   },
   {
    "duration": 10561,
    "start_time": "2021-12-20T12:22:26.330Z"
   },
   {
    "duration": 269,
    "start_time": "2021-12-20T12:23:15.331Z"
   },
   {
    "duration": 712,
    "start_time": "2021-12-20T12:23:24.591Z"
   },
   {
    "duration": 12,
    "start_time": "2021-12-20T12:23:25.305Z"
   },
   {
    "duration": 8,
    "start_time": "2021-12-20T12:23:25.320Z"
   },
   {
    "duration": 310,
    "start_time": "2021-12-20T12:23:25.330Z"
   },
   {
    "duration": 10692,
    "start_time": "2021-12-20T12:23:14.953Z"
   },
   {
    "duration": 10691,
    "start_time": "2021-12-20T12:23:14.956Z"
   },
   {
    "duration": 10690,
    "start_time": "2021-12-20T12:23:14.958Z"
   },
   {
    "duration": 10689,
    "start_time": "2021-12-20T12:23:14.960Z"
   },
   {
    "duration": 10688,
    "start_time": "2021-12-20T12:23:14.963Z"
   },
   {
    "duration": 10687,
    "start_time": "2021-12-20T12:23:14.965Z"
   },
   {
    "duration": 10686,
    "start_time": "2021-12-20T12:23:14.968Z"
   },
   {
    "duration": 10684,
    "start_time": "2021-12-20T12:23:14.971Z"
   },
   {
    "duration": 10683,
    "start_time": "2021-12-20T12:23:14.973Z"
   },
   {
    "duration": 10683,
    "start_time": "2021-12-20T12:23:14.975Z"
   },
   {
    "duration": 10681,
    "start_time": "2021-12-20T12:23:14.978Z"
   },
   {
    "duration": 10680,
    "start_time": "2021-12-20T12:23:14.980Z"
   },
   {
    "duration": 10680,
    "start_time": "2021-12-20T12:23:14.982Z"
   },
   {
    "duration": 10679,
    "start_time": "2021-12-20T12:23:14.984Z"
   },
   {
    "duration": 10678,
    "start_time": "2021-12-20T12:23:14.986Z"
   },
   {
    "duration": 10678,
    "start_time": "2021-12-20T12:23:14.988Z"
   },
   {
    "duration": 10678,
    "start_time": "2021-12-20T12:23:14.990Z"
   },
   {
    "duration": 10671,
    "start_time": "2021-12-20T12:23:14.999Z"
   },
   {
    "duration": 10670,
    "start_time": "2021-12-20T12:23:15.001Z"
   },
   {
    "duration": 10670,
    "start_time": "2021-12-20T12:23:15.003Z"
   },
   {
    "duration": 10669,
    "start_time": "2021-12-20T12:23:15.006Z"
   },
   {
    "duration": 10668,
    "start_time": "2021-12-20T12:23:15.009Z"
   },
   {
    "duration": 10667,
    "start_time": "2021-12-20T12:23:15.011Z"
   },
   {
    "duration": 10667,
    "start_time": "2021-12-20T12:23:15.013Z"
   },
   {
    "duration": 10667,
    "start_time": "2021-12-20T12:23:15.015Z"
   },
   {
    "duration": 10667,
    "start_time": "2021-12-20T12:23:15.017Z"
   },
   {
    "duration": 10665,
    "start_time": "2021-12-20T12:23:15.020Z"
   },
   {
    "duration": 10665,
    "start_time": "2021-12-20T12:23:15.022Z"
   },
   {
    "duration": 10665,
    "start_time": "2021-12-20T12:23:15.024Z"
   },
   {
    "duration": 10664,
    "start_time": "2021-12-20T12:23:15.026Z"
   },
   {
    "duration": 10664,
    "start_time": "2021-12-20T12:23:15.028Z"
   },
   {
    "duration": 10662,
    "start_time": "2021-12-20T12:23:15.031Z"
   },
   {
    "duration": 10661,
    "start_time": "2021-12-20T12:23:15.033Z"
   },
   {
    "duration": 10660,
    "start_time": "2021-12-20T12:23:15.036Z"
   },
   {
    "duration": 10659,
    "start_time": "2021-12-20T12:23:15.038Z"
   },
   {
    "duration": 10658,
    "start_time": "2021-12-20T12:23:15.040Z"
   },
   {
    "duration": 10645,
    "start_time": "2021-12-20T12:23:15.054Z"
   },
   {
    "duration": 10644,
    "start_time": "2021-12-20T12:23:15.057Z"
   },
   {
    "duration": 10643,
    "start_time": "2021-12-20T12:23:15.059Z"
   },
   {
    "duration": 10643,
    "start_time": "2021-12-20T12:23:15.061Z"
   },
   {
    "duration": 10642,
    "start_time": "2021-12-20T12:23:15.063Z"
   },
   {
    "duration": 10689,
    "start_time": "2021-12-20T12:23:15.075Z"
   },
   {
    "duration": 10688,
    "start_time": "2021-12-20T12:23:15.077Z"
   },
   {
    "duration": 10687,
    "start_time": "2021-12-20T12:23:15.079Z"
   },
   {
    "duration": 10680,
    "start_time": "2021-12-20T12:23:15.088Z"
   },
   {
    "duration": 10677,
    "start_time": "2021-12-20T12:23:15.093Z"
   },
   {
    "duration": 10676,
    "start_time": "2021-12-20T12:23:15.095Z"
   },
   {
    "duration": 10673,
    "start_time": "2021-12-20T12:23:15.099Z"
   },
   {
    "duration": 10665,
    "start_time": "2021-12-20T12:23:15.108Z"
   },
   {
    "duration": 10665,
    "start_time": "2021-12-20T12:23:15.110Z"
   },
   {
    "duration": 10664,
    "start_time": "2021-12-20T12:23:15.112Z"
   },
   {
    "duration": 10663,
    "start_time": "2021-12-20T12:23:15.114Z"
   },
   {
    "duration": 195,
    "start_time": "2021-12-20T12:24:36.310Z"
   },
   {
    "duration": 651,
    "start_time": "2021-12-20T12:24:55.534Z"
   },
   {
    "duration": 15,
    "start_time": "2021-12-20T12:24:56.188Z"
   },
   {
    "duration": 6,
    "start_time": "2021-12-20T12:24:56.205Z"
   },
   {
    "duration": 279,
    "start_time": "2021-12-20T12:24:56.213Z"
   },
   {
    "duration": 10714,
    "start_time": "2021-12-20T12:24:45.783Z"
   },
   {
    "duration": 10711,
    "start_time": "2021-12-20T12:24:45.787Z"
   },
   {
    "duration": 10709,
    "start_time": "2021-12-20T12:24:45.791Z"
   },
   {
    "duration": 10708,
    "start_time": "2021-12-20T12:24:45.793Z"
   },
   {
    "duration": 10692,
    "start_time": "2021-12-20T12:24:45.810Z"
   },
   {
    "duration": 10690,
    "start_time": "2021-12-20T12:24:45.813Z"
   },
   {
    "duration": 10688,
    "start_time": "2021-12-20T12:24:45.817Z"
   },
   {
    "duration": 10687,
    "start_time": "2021-12-20T12:24:45.819Z"
   },
   {
    "duration": 10686,
    "start_time": "2021-12-20T12:24:45.821Z"
   },
   {
    "duration": 10685,
    "start_time": "2021-12-20T12:24:45.823Z"
   },
   {
    "duration": 10683,
    "start_time": "2021-12-20T12:24:45.826Z"
   },
   {
    "duration": 10682,
    "start_time": "2021-12-20T12:24:45.828Z"
   },
   {
    "duration": 10680,
    "start_time": "2021-12-20T12:24:45.831Z"
   },
   {
    "duration": 10677,
    "start_time": "2021-12-20T12:24:45.835Z"
   },
   {
    "duration": 10676,
    "start_time": "2021-12-20T12:24:45.837Z"
   },
   {
    "duration": 10675,
    "start_time": "2021-12-20T12:24:45.839Z"
   },
   {
    "duration": 10673,
    "start_time": "2021-12-20T12:24:45.842Z"
   },
   {
    "duration": 10666,
    "start_time": "2021-12-20T12:24:45.850Z"
   },
   {
    "duration": 10664,
    "start_time": "2021-12-20T12:24:45.853Z"
   },
   {
    "duration": 10663,
    "start_time": "2021-12-20T12:24:45.855Z"
   },
   {
    "duration": 10661,
    "start_time": "2021-12-20T12:24:45.857Z"
   },
   {
    "duration": 10659,
    "start_time": "2021-12-20T12:24:45.860Z"
   },
   {
    "duration": 10658,
    "start_time": "2021-12-20T12:24:45.862Z"
   },
   {
    "duration": 10656,
    "start_time": "2021-12-20T12:24:45.865Z"
   },
   {
    "duration": 10655,
    "start_time": "2021-12-20T12:24:45.867Z"
   },
   {
    "duration": 10654,
    "start_time": "2021-12-20T12:24:45.869Z"
   },
   {
    "duration": 10652,
    "start_time": "2021-12-20T12:24:45.872Z"
   },
   {
    "duration": 10652,
    "start_time": "2021-12-20T12:24:45.874Z"
   },
   {
    "duration": 10650,
    "start_time": "2021-12-20T12:24:45.877Z"
   },
   {
    "duration": 10649,
    "start_time": "2021-12-20T12:24:45.879Z"
   },
   {
    "duration": 10647,
    "start_time": "2021-12-20T12:24:45.882Z"
   },
   {
    "duration": 10646,
    "start_time": "2021-12-20T12:24:45.884Z"
   },
   {
    "duration": 10644,
    "start_time": "2021-12-20T12:24:45.887Z"
   },
   {
    "duration": 10637,
    "start_time": "2021-12-20T12:24:45.895Z"
   },
   {
    "duration": 10635,
    "start_time": "2021-12-20T12:24:45.898Z"
   },
   {
    "duration": 10634,
    "start_time": "2021-12-20T12:24:45.900Z"
   },
   {
    "duration": 10632,
    "start_time": "2021-12-20T12:24:45.903Z"
   },
   {
    "duration": 10630,
    "start_time": "2021-12-20T12:24:45.905Z"
   },
   {
    "duration": 10629,
    "start_time": "2021-12-20T12:24:45.907Z"
   },
   {
    "duration": 10627,
    "start_time": "2021-12-20T12:24:45.909Z"
   },
   {
    "duration": 10625,
    "start_time": "2021-12-20T12:24:45.912Z"
   },
   {
    "duration": 10624,
    "start_time": "2021-12-20T12:24:45.914Z"
   },
   {
    "duration": 10647,
    "start_time": "2021-12-20T12:24:45.916Z"
   },
   {
    "duration": 10648,
    "start_time": "2021-12-20T12:24:45.918Z"
   },
   {
    "duration": 10646,
    "start_time": "2021-12-20T12:24:45.921Z"
   },
   {
    "duration": 10645,
    "start_time": "2021-12-20T12:24:45.923Z"
   },
   {
    "duration": 10646,
    "start_time": "2021-12-20T12:24:45.925Z"
   },
   {
    "duration": 10648,
    "start_time": "2021-12-20T12:24:45.927Z"
   },
   {
    "duration": 10650,
    "start_time": "2021-12-20T12:24:45.929Z"
   },
   {
    "duration": 10647,
    "start_time": "2021-12-20T12:24:45.933Z"
   },
   {
    "duration": 10647,
    "start_time": "2021-12-20T12:24:45.935Z"
   },
   {
    "duration": 10646,
    "start_time": "2021-12-20T12:24:45.938Z"
   },
   {
    "duration": 565,
    "start_time": "2021-12-20T12:26:45.821Z"
   },
   {
    "duration": 376,
    "start_time": "2021-12-20T12:27:48.460Z"
   },
   {
    "duration": 422,
    "start_time": "2021-12-20T12:28:05.189Z"
   },
   {
    "duration": 582,
    "start_time": "2021-12-20T12:30:02.677Z"
   },
   {
    "duration": 422,
    "start_time": "2021-12-20T12:30:29.481Z"
   },
   {
    "duration": 500,
    "start_time": "2021-12-20T12:31:28.080Z"
   },
   {
    "duration": 327,
    "start_time": "2021-12-20T12:31:39.644Z"
   },
   {
    "duration": 267,
    "start_time": "2021-12-20T12:33:08.386Z"
   },
   {
    "duration": 314,
    "start_time": "2021-12-20T12:33:13.681Z"
   },
   {
    "duration": 290,
    "start_time": "2021-12-20T12:33:36.402Z"
   },
   {
    "duration": 833,
    "start_time": "2021-12-20T12:55:32.985Z"
   },
   {
    "duration": 17,
    "start_time": "2021-12-20T12:55:33.820Z"
   },
   {
    "duration": 8,
    "start_time": "2021-12-20T12:55:33.840Z"
   },
   {
    "duration": 356,
    "start_time": "2021-12-20T12:55:33.867Z"
   },
   {
    "duration": 46,
    "start_time": "2021-12-20T12:55:34.225Z"
   },
   {
    "duration": 464,
    "start_time": "2021-12-20T12:55:34.274Z"
   },
   {
    "duration": 10706,
    "start_time": "2021-12-20T12:55:24.037Z"
   },
   {
    "duration": 10680,
    "start_time": "2021-12-20T12:55:24.064Z"
   },
   {
    "duration": 10679,
    "start_time": "2021-12-20T12:55:24.067Z"
   },
   {
    "duration": 10668,
    "start_time": "2021-12-20T12:55:24.079Z"
   },
   {
    "duration": 10666,
    "start_time": "2021-12-20T12:55:24.082Z"
   },
   {
    "duration": 10664,
    "start_time": "2021-12-20T12:55:24.085Z"
   },
   {
    "duration": 10660,
    "start_time": "2021-12-20T12:55:24.090Z"
   },
   {
    "duration": 10658,
    "start_time": "2021-12-20T12:55:24.093Z"
   },
   {
    "duration": 10657,
    "start_time": "2021-12-20T12:55:24.095Z"
   },
   {
    "duration": 10655,
    "start_time": "2021-12-20T12:55:24.097Z"
   },
   {
    "duration": 10653,
    "start_time": "2021-12-20T12:55:24.100Z"
   },
   {
    "duration": 10651,
    "start_time": "2021-12-20T12:55:24.103Z"
   },
   {
    "duration": 10651,
    "start_time": "2021-12-20T12:55:24.105Z"
   },
   {
    "duration": 10650,
    "start_time": "2021-12-20T12:55:24.107Z"
   },
   {
    "duration": 10649,
    "start_time": "2021-12-20T12:55:24.109Z"
   },
   {
    "duration": 10648,
    "start_time": "2021-12-20T12:55:24.111Z"
   },
   {
    "duration": 10646,
    "start_time": "2021-12-20T12:55:24.114Z"
   },
   {
    "duration": 10646,
    "start_time": "2021-12-20T12:55:24.116Z"
   },
   {
    "duration": 10643,
    "start_time": "2021-12-20T12:55:24.120Z"
   },
   {
    "duration": 10644,
    "start_time": "2021-12-20T12:55:24.122Z"
   },
   {
    "duration": 10634,
    "start_time": "2021-12-20T12:55:24.133Z"
   },
   {
    "duration": 10632,
    "start_time": "2021-12-20T12:55:24.136Z"
   },
   {
    "duration": 10630,
    "start_time": "2021-12-20T12:55:24.139Z"
   },
   {
    "duration": 10629,
    "start_time": "2021-12-20T12:55:24.141Z"
   },
   {
    "duration": 10627,
    "start_time": "2021-12-20T12:55:24.144Z"
   },
   {
    "duration": 10626,
    "start_time": "2021-12-20T12:55:24.146Z"
   },
   {
    "duration": 10626,
    "start_time": "2021-12-20T12:55:24.148Z"
   },
   {
    "duration": 10629,
    "start_time": "2021-12-20T12:55:24.150Z"
   },
   {
    "duration": 10627,
    "start_time": "2021-12-20T12:55:24.153Z"
   },
   {
    "duration": 10625,
    "start_time": "2021-12-20T12:55:24.156Z"
   },
   {
    "duration": 10625,
    "start_time": "2021-12-20T12:55:24.158Z"
   },
   {
    "duration": 10624,
    "start_time": "2021-12-20T12:55:24.160Z"
   },
   {
    "duration": 10624,
    "start_time": "2021-12-20T12:55:24.162Z"
   },
   {
    "duration": 10623,
    "start_time": "2021-12-20T12:55:24.164Z"
   },
   {
    "duration": 10606,
    "start_time": "2021-12-20T12:55:24.182Z"
   },
   {
    "duration": 10604,
    "start_time": "2021-12-20T12:55:24.185Z"
   },
   {
    "duration": 10604,
    "start_time": "2021-12-20T12:55:24.189Z"
   },
   {
    "duration": 10602,
    "start_time": "2021-12-20T12:55:24.192Z"
   },
   {
    "duration": 10601,
    "start_time": "2021-12-20T12:55:24.194Z"
   },
   {
    "duration": 10601,
    "start_time": "2021-12-20T12:55:24.196Z"
   },
   {
    "duration": 10599,
    "start_time": "2021-12-20T12:55:24.199Z"
   },
   {
    "duration": 10598,
    "start_time": "2021-12-20T12:55:24.201Z"
   },
   {
    "duration": 10594,
    "start_time": "2021-12-20T12:55:24.206Z"
   },
   {
    "duration": 10593,
    "start_time": "2021-12-20T12:55:24.208Z"
   },
   {
    "duration": 10592,
    "start_time": "2021-12-20T12:55:24.210Z"
   },
   {
    "duration": 10592,
    "start_time": "2021-12-20T12:55:24.212Z"
   },
   {
    "duration": 10590,
    "start_time": "2021-12-20T12:55:24.215Z"
   },
   {
    "duration": 10590,
    "start_time": "2021-12-20T12:55:24.218Z"
   },
   {
    "duration": 10581,
    "start_time": "2021-12-20T12:55:24.228Z"
   },
   {
    "duration": 10580,
    "start_time": "2021-12-20T12:55:24.230Z"
   },
   {
    "duration": 764,
    "start_time": "2021-12-20T12:56:05.522Z"
   },
   {
    "duration": 19,
    "start_time": "2021-12-20T12:56:06.292Z"
   },
   {
    "duration": 18,
    "start_time": "2021-12-20T12:56:06.318Z"
   },
   {
    "duration": 361,
    "start_time": "2021-12-20T12:56:06.338Z"
   },
   {
    "duration": 47,
    "start_time": "2021-12-20T12:56:06.702Z"
   },
   {
    "duration": 22,
    "start_time": "2021-12-20T12:56:06.751Z"
   },
   {
    "duration": 30,
    "start_time": "2021-12-20T12:56:06.776Z"
   },
   {
    "duration": 23,
    "start_time": "2021-12-20T12:56:06.810Z"
   },
   {
    "duration": 34,
    "start_time": "2021-12-20T12:56:06.836Z"
   },
   {
    "duration": 55,
    "start_time": "2021-12-20T12:56:06.872Z"
   },
   {
    "duration": 19,
    "start_time": "2021-12-20T12:56:06.929Z"
   },
   {
    "duration": 325,
    "start_time": "2021-12-20T12:56:06.950Z"
   },
   {
    "duration": 15,
    "start_time": "2021-12-20T12:56:07.277Z"
   },
   {
    "duration": 20,
    "start_time": "2021-12-20T12:56:07.294Z"
   },
   {
    "duration": 37,
    "start_time": "2021-12-20T12:56:07.316Z"
   },
   {
    "duration": 27,
    "start_time": "2021-12-20T12:56:07.356Z"
   },
   {
    "duration": 111,
    "start_time": "2021-12-20T12:56:07.385Z"
   },
   {
    "duration": 10,
    "start_time": "2021-12-20T12:56:07.501Z"
   },
   {
    "duration": 263,
    "start_time": "2021-12-20T12:56:07.512Z"
   },
   {
    "duration": 659,
    "start_time": "2021-12-20T12:56:07.778Z"
   },
   {
    "duration": 720,
    "start_time": "2021-12-20T12:56:08.439Z"
   },
   {
    "duration": 281,
    "start_time": "2021-12-20T12:56:09.166Z"
   },
   {
    "duration": 169,
    "start_time": "2021-12-20T12:56:09.451Z"
   },
   {
    "duration": 10,
    "start_time": "2021-12-20T12:56:09.623Z"
   },
   {
    "duration": 558,
    "start_time": "2021-12-20T12:56:09.634Z"
   },
   {
    "duration": 330,
    "start_time": "2021-12-20T12:56:10.194Z"
   },
   {
    "duration": 10,
    "start_time": "2021-12-20T12:56:10.526Z"
   },
   {
    "duration": 55,
    "start_time": "2021-12-20T12:56:10.538Z"
   },
   {
    "duration": 30,
    "start_time": "2021-12-20T12:56:10.596Z"
   },
   {
    "duration": 113,
    "start_time": "2021-12-20T12:56:10.627Z"
   },
   {
    "duration": 9,
    "start_time": "2021-12-20T12:56:10.742Z"
   },
   {
    "duration": 35,
    "start_time": "2021-12-20T12:56:10.753Z"
   },
   {
    "duration": 6626,
    "start_time": "2021-12-20T12:56:10.792Z"
   },
   {
    "duration": 11,
    "start_time": "2021-12-20T12:56:17.422Z"
   },
   {
    "duration": 12,
    "start_time": "2021-12-20T12:56:17.435Z"
   },
   {
    "duration": 25,
    "start_time": "2021-12-20T12:56:17.449Z"
   },
   {
    "duration": 23,
    "start_time": "2021-12-20T12:56:17.478Z"
   },
   {
    "duration": 13,
    "start_time": "2021-12-20T12:56:17.503Z"
   },
   {
    "duration": 11,
    "start_time": "2021-12-20T12:56:17.518Z"
   },
   {
    "duration": 8,
    "start_time": "2021-12-20T12:56:17.532Z"
   },
   {
    "duration": 23,
    "start_time": "2021-12-20T12:56:17.563Z"
   },
   {
    "duration": 26,
    "start_time": "2021-12-20T12:56:17.588Z"
   },
   {
    "duration": 8,
    "start_time": "2021-12-20T12:56:17.618Z"
   },
   {
    "duration": 8,
    "start_time": "2021-12-20T12:56:17.628Z"
   },
   {
    "duration": 11,
    "start_time": "2021-12-20T12:56:17.638Z"
   },
   {
    "duration": 31,
    "start_time": "2021-12-20T12:56:17.651Z"
   },
   {
    "duration": 15,
    "start_time": "2021-12-20T12:56:17.684Z"
   },
   {
    "duration": 16,
    "start_time": "2021-12-20T12:56:17.701Z"
   },
   {
    "duration": 9,
    "start_time": "2021-12-20T12:56:17.719Z"
   },
   {
    "duration": 18,
    "start_time": "2021-12-20T12:56:17.730Z"
   },
   {
    "duration": 14,
    "start_time": "2021-12-20T12:56:17.750Z"
   },
   {
    "duration": 574,
    "start_time": "2021-12-20T12:56:17.766Z"
   },
   {
    "duration": 48,
    "start_time": "2021-12-20T12:56:18.342Z"
   },
   {
    "duration": 23,
    "start_time": "2021-12-20T12:56:18.393Z"
   },
   {
    "duration": 11,
    "start_time": "2021-12-20T12:56:18.420Z"
   },
   {
    "duration": 695,
    "start_time": "2021-12-20T16:57:12.532Z"
   },
   {
    "duration": 11,
    "start_time": "2021-12-20T16:57:13.229Z"
   },
   {
    "duration": 5,
    "start_time": "2021-12-20T16:57:13.242Z"
   },
   {
    "duration": 272,
    "start_time": "2021-12-20T16:57:13.249Z"
   },
   {
    "duration": 25,
    "start_time": "2021-12-20T16:57:13.523Z"
   },
   {
    "duration": 13,
    "start_time": "2021-12-20T16:57:13.550Z"
   },
   {
    "duration": 7,
    "start_time": "2021-12-20T16:57:13.564Z"
   },
   {
    "duration": 6,
    "start_time": "2021-12-20T16:57:13.573Z"
   },
   {
    "duration": 14,
    "start_time": "2021-12-20T16:57:13.582Z"
   },
   {
    "duration": 24,
    "start_time": "2021-12-20T16:57:13.598Z"
   },
   {
    "duration": 12,
    "start_time": "2021-12-20T16:57:13.624Z"
   },
   {
    "duration": 273,
    "start_time": "2021-12-20T16:57:13.638Z"
   },
   {
    "duration": 10,
    "start_time": "2021-12-20T16:57:13.913Z"
   },
   {
    "duration": 16,
    "start_time": "2021-12-20T16:57:13.925Z"
   },
   {
    "duration": 25,
    "start_time": "2021-12-20T16:57:13.943Z"
   },
   {
    "duration": 14,
    "start_time": "2021-12-20T16:57:13.970Z"
   },
   {
    "duration": 98,
    "start_time": "2021-12-20T16:57:13.986Z"
   },
   {
    "duration": 6,
    "start_time": "2021-12-20T16:57:14.086Z"
   },
   {
    "duration": 234,
    "start_time": "2021-12-20T16:57:14.094Z"
   },
   {
    "duration": 586,
    "start_time": "2021-12-20T16:57:14.330Z"
   },
   {
    "duration": 609,
    "start_time": "2021-12-20T16:57:14.918Z"
   },
   {
    "duration": 245,
    "start_time": "2021-12-20T16:57:15.528Z"
   },
   {
    "duration": 138,
    "start_time": "2021-12-20T16:57:15.775Z"
   },
   {
    "duration": 11,
    "start_time": "2021-12-20T16:57:15.915Z"
   },
   {
    "duration": 450,
    "start_time": "2021-12-20T16:57:15.927Z"
   },
   {
    "duration": 296,
    "start_time": "2021-12-20T16:57:16.379Z"
   },
   {
    "duration": 9,
    "start_time": "2021-12-20T16:57:16.680Z"
   },
   {
    "duration": 21,
    "start_time": "2021-12-20T16:57:16.692Z"
   },
   {
    "duration": 52,
    "start_time": "2021-12-20T16:57:16.714Z"
   },
   {
    "duration": 24,
    "start_time": "2021-12-20T16:57:16.768Z"
   },
   {
    "duration": 97,
    "start_time": "2021-12-20T16:57:16.794Z"
   },
   {
    "duration": 9,
    "start_time": "2021-12-20T16:57:16.893Z"
   },
   {
    "duration": 4070,
    "start_time": "2021-12-20T16:57:16.904Z"
   },
   {
    "duration": 9,
    "start_time": "2021-12-20T16:57:20.976Z"
   },
   {
    "duration": 14,
    "start_time": "2021-12-20T16:57:20.986Z"
   },
   {
    "duration": 14,
    "start_time": "2021-12-20T16:57:21.002Z"
   },
   {
    "duration": 12,
    "start_time": "2021-12-20T16:57:21.018Z"
   },
   {
    "duration": 39,
    "start_time": "2021-12-20T16:57:21.032Z"
   },
   {
    "duration": 15,
    "start_time": "2021-12-20T16:57:21.073Z"
   },
   {
    "duration": 9,
    "start_time": "2021-12-20T16:57:21.090Z"
   },
   {
    "duration": 13,
    "start_time": "2021-12-20T16:57:21.101Z"
   },
   {
    "duration": 12,
    "start_time": "2021-12-20T16:57:21.116Z"
   },
   {
    "duration": 7,
    "start_time": "2021-12-20T16:57:21.130Z"
   },
   {
    "duration": 26,
    "start_time": "2021-12-20T16:57:21.139Z"
   },
   {
    "duration": 7,
    "start_time": "2021-12-20T16:57:21.167Z"
   },
   {
    "duration": 11,
    "start_time": "2021-12-20T16:57:21.176Z"
   },
   {
    "duration": 10,
    "start_time": "2021-12-20T16:57:21.189Z"
   },
   {
    "duration": 8,
    "start_time": "2021-12-20T16:57:21.201Z"
   },
   {
    "duration": 12,
    "start_time": "2021-12-20T16:57:21.211Z"
   },
   {
    "duration": 43,
    "start_time": "2021-12-20T16:57:21.225Z"
   },
   {
    "duration": 14,
    "start_time": "2021-12-20T16:57:21.270Z"
   },
   {
    "duration": 550,
    "start_time": "2021-12-20T16:57:21.286Z"
   },
   {
    "duration": 24,
    "start_time": "2021-12-20T16:57:21.838Z"
   },
   {
    "duration": 14,
    "start_time": "2021-12-20T16:57:21.865Z"
   },
   {
    "duration": 16,
    "start_time": "2021-12-20T16:57:21.881Z"
   },
   {
    "duration": 14,
    "start_time": "2021-12-20T17:23:42.095Z"
   },
   {
    "duration": 343,
    "start_time": "2021-12-20T17:23:52.653Z"
   },
   {
    "duration": 1269,
    "start_time": "2021-12-20T17:24:04.186Z"
   },
   {
    "duration": 14,
    "start_time": "2021-12-20T18:06:57.701Z"
   },
   {
    "duration": 5,
    "start_time": "2021-12-20T18:07:14.473Z"
   },
   {
    "duration": 5,
    "start_time": "2021-12-20T18:07:22.202Z"
   },
   {
    "duration": 732,
    "start_time": "2021-12-20T18:12:36.750Z"
   },
   {
    "duration": 10,
    "start_time": "2021-12-20T18:12:37.484Z"
   },
   {
    "duration": 137,
    "start_time": "2021-12-20T18:12:37.496Z"
   },
   {
    "duration": 276,
    "start_time": "2021-12-20T18:12:37.635Z"
   },
   {
    "duration": 27,
    "start_time": "2021-12-20T18:12:37.913Z"
   },
   {
    "duration": 5,
    "start_time": "2021-12-20T18:12:37.942Z"
   },
   {
    "duration": 8,
    "start_time": "2021-12-20T18:12:37.961Z"
   },
   {
    "duration": 14,
    "start_time": "2021-12-20T18:12:37.971Z"
   },
   {
    "duration": 7,
    "start_time": "2021-12-20T18:12:37.988Z"
   },
   {
    "duration": 21,
    "start_time": "2021-12-20T18:12:37.997Z"
   },
   {
    "duration": 9,
    "start_time": "2021-12-20T18:12:38.020Z"
   },
   {
    "duration": 288,
    "start_time": "2021-12-20T18:12:38.030Z"
   },
   {
    "duration": 10,
    "start_time": "2021-12-20T18:12:38.320Z"
   },
   {
    "duration": 6,
    "start_time": "2021-12-20T18:12:38.331Z"
   },
   {
    "duration": 21,
    "start_time": "2021-12-20T18:12:38.339Z"
   },
   {
    "duration": 8,
    "start_time": "2021-12-20T18:12:38.363Z"
   },
   {
    "duration": 89,
    "start_time": "2021-12-20T18:12:38.373Z"
   },
   {
    "duration": 12,
    "start_time": "2021-12-20T18:12:38.464Z"
   },
   {
    "duration": 349,
    "start_time": "2021-12-20T18:12:38.478Z"
   },
   {
    "duration": 537,
    "start_time": "2021-12-20T18:12:38.829Z"
   },
   {
    "duration": 557,
    "start_time": "2021-12-20T18:12:39.368Z"
   },
   {
    "duration": 241,
    "start_time": "2021-12-20T18:12:39.927Z"
   },
   {
    "duration": 134,
    "start_time": "2021-12-20T18:12:40.170Z"
   },
   {
    "duration": 9,
    "start_time": "2021-12-20T18:12:40.305Z"
   },
   {
    "duration": 435,
    "start_time": "2021-12-20T18:12:40.316Z"
   },
   {
    "duration": 265,
    "start_time": "2021-12-20T18:12:40.753Z"
   },
   {
    "duration": 9,
    "start_time": "2021-12-20T18:12:41.022Z"
   },
   {
    "duration": 39,
    "start_time": "2021-12-20T18:12:41.033Z"
   },
   {
    "duration": 22,
    "start_time": "2021-12-20T18:12:41.073Z"
   },
   {
    "duration": 23,
    "start_time": "2021-12-20T18:12:41.097Z"
   },
   {
    "duration": 92,
    "start_time": "2021-12-20T18:12:41.122Z"
   },
   {
    "duration": 11,
    "start_time": "2021-12-20T18:12:41.216Z"
   },
   {
    "duration": 3841,
    "start_time": "2021-12-20T18:12:41.229Z"
   },
   {
    "duration": 9,
    "start_time": "2021-12-20T18:12:45.071Z"
   },
   {
    "duration": 12,
    "start_time": "2021-12-20T18:12:45.081Z"
   },
   {
    "duration": 11,
    "start_time": "2021-12-20T18:12:45.094Z"
   },
   {
    "duration": 8,
    "start_time": "2021-12-20T18:12:45.107Z"
   },
   {
    "duration": 16,
    "start_time": "2021-12-20T18:12:45.117Z"
   },
   {
    "duration": 8,
    "start_time": "2021-12-20T18:12:45.161Z"
   },
   {
    "duration": 11,
    "start_time": "2021-12-20T18:12:45.171Z"
   },
   {
    "duration": 7,
    "start_time": "2021-12-20T18:12:45.183Z"
   },
   {
    "duration": 7,
    "start_time": "2021-12-20T18:12:45.192Z"
   },
   {
    "duration": 7,
    "start_time": "2021-12-20T18:12:45.201Z"
   },
   {
    "duration": 11,
    "start_time": "2021-12-20T18:12:45.210Z"
   },
   {
    "duration": 42,
    "start_time": "2021-12-20T18:12:45.223Z"
   },
   {
    "duration": 8,
    "start_time": "2021-12-20T18:12:45.267Z"
   },
   {
    "duration": 9,
    "start_time": "2021-12-20T18:12:45.277Z"
   },
   {
    "duration": 8,
    "start_time": "2021-12-20T18:12:45.288Z"
   },
   {
    "duration": 11,
    "start_time": "2021-12-20T18:12:45.297Z"
   },
   {
    "duration": 16,
    "start_time": "2021-12-20T18:12:45.310Z"
   },
   {
    "duration": 42,
    "start_time": "2021-12-20T18:12:45.327Z"
   },
   {
    "duration": 467,
    "start_time": "2021-12-20T18:12:45.371Z"
   },
   {
    "duration": 21,
    "start_time": "2021-12-20T18:12:45.840Z"
   },
   {
    "duration": 12,
    "start_time": "2021-12-20T18:12:45.863Z"
   },
   {
    "duration": 4,
    "start_time": "2021-12-20T18:12:45.877Z"
   },
   {
    "duration": 357,
    "start_time": "2021-12-21T08:18:10.943Z"
   },
   {
    "duration": 866,
    "start_time": "2021-12-21T08:18:19.970Z"
   },
   {
    "duration": 16,
    "start_time": "2021-12-21T08:18:20.838Z"
   },
   {
    "duration": 8,
    "start_time": "2021-12-21T08:18:20.858Z"
   },
   {
    "duration": 471,
    "start_time": "2021-12-21T08:18:20.869Z"
   },
   {
    "duration": 36,
    "start_time": "2021-12-21T08:18:21.342Z"
   },
   {
    "duration": 11,
    "start_time": "2021-12-21T08:18:21.380Z"
   },
   {
    "duration": 14,
    "start_time": "2021-12-21T08:18:21.416Z"
   },
   {
    "duration": 26,
    "start_time": "2021-12-21T08:18:21.434Z"
   },
   {
    "duration": 16,
    "start_time": "2021-12-21T08:18:21.463Z"
   },
   {
    "duration": 54,
    "start_time": "2021-12-21T08:18:21.481Z"
   },
   {
    "duration": 13,
    "start_time": "2021-12-21T08:18:21.537Z"
   },
   {
    "duration": 455,
    "start_time": "2021-12-21T08:18:21.553Z"
   },
   {
    "duration": 19,
    "start_time": "2021-12-21T08:18:22.010Z"
   },
   {
    "duration": 8,
    "start_time": "2021-12-21T08:18:22.032Z"
   },
   {
    "duration": 8,
    "start_time": "2021-12-21T08:18:22.044Z"
   },
   {
    "duration": 13,
    "start_time": "2021-12-21T08:18:22.054Z"
   },
   {
    "duration": 122,
    "start_time": "2021-12-21T08:18:22.070Z"
   },
   {
    "duration": 23,
    "start_time": "2021-12-21T08:18:22.194Z"
   },
   {
    "duration": 373,
    "start_time": "2021-12-21T08:18:22.219Z"
   },
   {
    "duration": 909,
    "start_time": "2021-12-21T08:18:22.594Z"
   },
   {
    "duration": 948,
    "start_time": "2021-12-21T08:18:23.505Z"
   },
   {
    "duration": 393,
    "start_time": "2021-12-21T08:18:24.455Z"
   },
   {
    "duration": 226,
    "start_time": "2021-12-21T08:18:24.853Z"
   },
   {
    "duration": 14,
    "start_time": "2021-12-21T08:18:25.082Z"
   },
   {
    "duration": 742,
    "start_time": "2021-12-21T08:18:25.098Z"
   },
   {
    "duration": 453,
    "start_time": "2021-12-21T08:18:25.842Z"
   },
   {
    "duration": 24,
    "start_time": "2021-12-21T08:18:26.297Z"
   },
   {
    "duration": 31,
    "start_time": "2021-12-21T08:18:26.323Z"
   },
   {
    "duration": 30,
    "start_time": "2021-12-21T08:18:26.357Z"
   },
   {
    "duration": 111,
    "start_time": "2021-12-21T08:18:26.418Z"
   },
   {
    "duration": 12,
    "start_time": "2021-12-21T08:18:26.532Z"
   },
   {
    "duration": 15,
    "start_time": "2021-12-21T08:18:26.547Z"
   },
   {
    "duration": 7475,
    "start_time": "2021-12-21T08:18:26.565Z"
   },
   {
    "duration": 17,
    "start_time": "2021-12-21T08:18:34.043Z"
   },
   {
    "duration": 14,
    "start_time": "2021-12-21T08:18:34.063Z"
   },
   {
    "duration": 13,
    "start_time": "2021-12-21T08:18:34.118Z"
   },
   {
    "duration": 15,
    "start_time": "2021-12-21T08:18:34.134Z"
   },
   {
    "duration": 17,
    "start_time": "2021-12-21T08:18:34.151Z"
   },
   {
    "duration": 54,
    "start_time": "2021-12-21T08:18:34.171Z"
   },
   {
    "duration": 17,
    "start_time": "2021-12-21T08:18:34.228Z"
   },
   {
    "duration": 13,
    "start_time": "2021-12-21T08:18:34.248Z"
   },
   {
    "duration": 58,
    "start_time": "2021-12-21T08:18:34.264Z"
   },
   {
    "duration": 10,
    "start_time": "2021-12-21T08:18:34.325Z"
   },
   {
    "duration": 12,
    "start_time": "2021-12-21T08:18:34.338Z"
   },
   {
    "duration": 10,
    "start_time": "2021-12-21T08:18:34.352Z"
   },
   {
    "duration": 11,
    "start_time": "2021-12-21T08:18:34.364Z"
   },
   {
    "duration": 10,
    "start_time": "2021-12-21T08:18:34.419Z"
   },
   {
    "duration": 23,
    "start_time": "2021-12-21T08:18:34.432Z"
   },
   {
    "duration": 24,
    "start_time": "2021-12-21T08:18:34.457Z"
   },
   {
    "duration": 23,
    "start_time": "2021-12-21T08:18:34.484Z"
   },
   {
    "duration": 21,
    "start_time": "2021-12-21T08:18:34.518Z"
   },
   {
    "duration": 641,
    "start_time": "2021-12-21T08:18:34.542Z"
   },
   {
    "duration": 36,
    "start_time": "2021-12-21T08:18:35.186Z"
   },
   {
    "duration": 26,
    "start_time": "2021-12-21T08:18:35.225Z"
   },
   {
    "duration": 9,
    "start_time": "2021-12-21T08:18:35.254Z"
   },
   {
    "duration": 17,
    "start_time": "2021-12-21T08:22:55.259Z"
   },
   {
    "duration": 34,
    "start_time": "2021-12-21T08:44:03.401Z"
   },
   {
    "duration": 32,
    "start_time": "2021-12-21T08:44:36.290Z"
   },
   {
    "duration": 13,
    "start_time": "2021-12-21T08:44:43.000Z"
   },
   {
    "duration": 12,
    "start_time": "2021-12-21T08:44:48.511Z"
   },
   {
    "duration": 9,
    "start_time": "2021-12-21T08:48:32.717Z"
   },
   {
    "duration": 10,
    "start_time": "2021-12-21T08:49:45.066Z"
   },
   {
    "duration": 12,
    "start_time": "2021-12-21T08:50:01.206Z"
   },
   {
    "duration": 10,
    "start_time": "2021-12-21T08:51:08.490Z"
   },
   {
    "duration": 11,
    "start_time": "2021-12-21T08:59:24.733Z"
   },
   {
    "duration": 9,
    "start_time": "2021-12-21T08:59:32.757Z"
   },
   {
    "duration": 10,
    "start_time": "2021-12-21T08:59:43.657Z"
   },
   {
    "duration": 11,
    "start_time": "2021-12-21T09:08:35.637Z"
   },
   {
    "duration": 10,
    "start_time": "2021-12-21T09:08:38.977Z"
   },
   {
    "duration": 11,
    "start_time": "2021-12-21T09:08:41.695Z"
   },
   {
    "duration": 10,
    "start_time": "2021-12-21T09:22:20.711Z"
   },
   {
    "duration": 11,
    "start_time": "2021-12-21T09:22:23.903Z"
   },
   {
    "duration": 10,
    "start_time": "2021-12-21T09:22:27.228Z"
   },
   {
    "duration": 975,
    "start_time": "2021-12-21T09:47:02.976Z"
   },
   {
    "duration": 23,
    "start_time": "2021-12-21T09:47:03.954Z"
   },
   {
    "duration": 40,
    "start_time": "2021-12-21T09:47:03.981Z"
   },
   {
    "duration": 496,
    "start_time": "2021-12-21T09:47:04.025Z"
   },
   {
    "duration": 42,
    "start_time": "2021-12-21T09:47:04.524Z"
   },
   {
    "duration": 7,
    "start_time": "2021-12-21T09:47:04.569Z"
   },
   {
    "duration": 39,
    "start_time": "2021-12-21T09:47:04.578Z"
   },
   {
    "duration": 7,
    "start_time": "2021-12-21T09:47:04.623Z"
   },
   {
    "duration": 10,
    "start_time": "2021-12-21T09:47:04.635Z"
   },
   {
    "duration": 72,
    "start_time": "2021-12-21T09:47:04.647Z"
   },
   {
    "duration": 14,
    "start_time": "2021-12-21T09:47:04.721Z"
   },
   {
    "duration": 460,
    "start_time": "2021-12-21T09:47:04.738Z"
   },
   {
    "duration": 22,
    "start_time": "2021-12-21T09:47:05.201Z"
   },
   {
    "duration": 7,
    "start_time": "2021-12-21T09:47:05.226Z"
   },
   {
    "duration": 8,
    "start_time": "2021-12-21T09:47:05.236Z"
   },
   {
    "duration": 7,
    "start_time": "2021-12-21T09:47:05.247Z"
   },
   {
    "duration": 109,
    "start_time": "2021-12-21T09:47:05.257Z"
   },
   {
    "duration": 10,
    "start_time": "2021-12-21T09:47:05.369Z"
   },
   {
    "duration": 390,
    "start_time": "2021-12-21T09:47:05.382Z"
   },
   {
    "duration": 943,
    "start_time": "2021-12-21T09:47:05.775Z"
   },
   {
    "duration": 962,
    "start_time": "2021-12-21T09:47:06.722Z"
   },
   {
    "duration": 400,
    "start_time": "2021-12-21T09:47:07.686Z"
   },
   {
    "duration": 231,
    "start_time": "2021-12-21T09:47:08.093Z"
   },
   {
    "duration": 14,
    "start_time": "2021-12-21T09:47:08.327Z"
   },
   {
    "duration": 851,
    "start_time": "2021-12-21T09:47:08.344Z"
   },
   {
    "duration": 454,
    "start_time": "2021-12-21T09:47:09.197Z"
   },
   {
    "duration": 12,
    "start_time": "2021-12-21T09:47:09.654Z"
   },
   {
    "duration": 14,
    "start_time": "2021-12-21T09:47:09.669Z"
   },
   {
    "duration": 58,
    "start_time": "2021-12-21T09:47:09.685Z"
   },
   {
    "duration": 125,
    "start_time": "2021-12-21T09:47:09.745Z"
   },
   {
    "duration": 55,
    "start_time": "2021-12-21T09:47:09.872Z"
   },
   {
    "duration": 13,
    "start_time": "2021-12-21T09:47:09.930Z"
   },
   {
    "duration": 12,
    "start_time": "2021-12-21T09:47:09.945Z"
   },
   {
    "duration": 7142,
    "start_time": "2021-12-21T09:47:09.960Z"
   },
   {
    "duration": 11,
    "start_time": "2021-12-21T09:47:17.117Z"
   },
   {
    "duration": 14,
    "start_time": "2021-12-21T09:47:17.131Z"
   },
   {
    "duration": 12,
    "start_time": "2021-12-21T09:47:17.148Z"
   },
   {
    "duration": 17,
    "start_time": "2021-12-21T09:47:17.162Z"
   },
   {
    "duration": 9,
    "start_time": "2021-12-21T09:47:17.218Z"
   },
   {
    "duration": 11,
    "start_time": "2021-12-21T09:47:17.230Z"
   },
   {
    "duration": 13,
    "start_time": "2021-12-21T09:47:17.243Z"
   },
   {
    "duration": 10,
    "start_time": "2021-12-21T09:47:17.258Z"
   },
   {
    "duration": 10,
    "start_time": "2021-12-21T09:47:17.318Z"
   },
   {
    "duration": 10,
    "start_time": "2021-12-21T09:47:17.330Z"
   },
   {
    "duration": 8,
    "start_time": "2021-12-21T09:47:17.343Z"
   },
   {
    "duration": 9,
    "start_time": "2021-12-21T09:47:17.354Z"
   },
   {
    "duration": 57,
    "start_time": "2021-12-21T09:47:17.366Z"
   },
   {
    "duration": 9,
    "start_time": "2021-12-21T09:47:17.426Z"
   },
   {
    "duration": 12,
    "start_time": "2021-12-21T09:47:17.438Z"
   },
   {
    "duration": 10,
    "start_time": "2021-12-21T09:47:17.452Z"
   },
   {
    "duration": 53,
    "start_time": "2021-12-21T09:47:17.464Z"
   },
   {
    "duration": 16,
    "start_time": "2021-12-21T09:47:17.520Z"
   },
   {
    "duration": 766,
    "start_time": "2021-12-21T09:47:17.539Z"
   },
   {
    "duration": 21,
    "start_time": "2021-12-21T09:47:18.307Z"
   },
   {
    "duration": 17,
    "start_time": "2021-12-21T09:47:18.331Z"
   },
   {
    "duration": 6,
    "start_time": "2021-12-21T09:47:18.350Z"
   }
  ],
  "kernelspec": {
   "display_name": "Python 3",
   "language": "python",
   "name": "python3"
  },
  "language_info": {
   "codemirror_mode": {
    "name": "ipython",
    "version": 3
   },
   "file_extension": ".py",
   "mimetype": "text/x-python",
   "name": "python",
   "nbconvert_exporter": "python",
   "pygments_lexer": "ipython3",
   "version": "3.7.8"
  },
  "toc": {
   "base_numbering": 1,
   "nav_menu": {},
   "number_sections": true,
   "sideBar": true,
   "skip_h1_title": true,
   "title_cell": "Table of Contents",
   "title_sidebar": "Contents",
   "toc_cell": false,
   "toc_position": {
    "height": "calc(100% - 180px)",
    "left": "10px",
    "top": "150px",
    "width": "165px"
   },
   "toc_section_display": true,
   "toc_window_display": false
  }
 },
 "nbformat": 4,
 "nbformat_minor": 2
}
