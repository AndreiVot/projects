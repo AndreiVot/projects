{
 "cells": [
  {
   "cell_type": "markdown",
   "metadata": {},
   "source": [
    "# Описание проекта\n",
    "\n",
    "Аналитика интернет-магазина. Существует список гипотез для увеличения выручки. \n",
    "\n",
    "Необходимо приоритизировать гипотезы, запустить A/B-тест и проанализировать результаты.\n"
   ]
  },
  {
   "cell_type": "markdown",
   "metadata": {},
   "source": [
    "ЧАСТЬ 1. \n",
    "\n",
    "Приоритизация гипотез.\n",
    "\n",
    "Существует 9 гипотез по увеличению выручки интернет-магазина с указанными параметрами Reach, Impact, Confidence, Effort.\n",
    "\n",
    "•\tHypothesis — краткое описание гипотезы;\n",
    "\n",
    "\n",
    "•\tReach — охват пользователей по 10-балльной шкале;\n",
    "\n",
    "\n",
    "•\tImpact — влияние на пользователей по 10-балльной шкале;\n",
    "\n",
    "\n",
    "•\tConfidence — уверенность в гипотезе по 10-балльной шкале;\n",
    "\n",
    "\n",
    "•\tEfforts — затраты ресурсов на проверку гипотезы по 10-балльной шкале. Чем больше значение Efforts, тем дороже проверка гипотезы.\n"
   ]
  },
  {
   "cell_type": "code",
   "execution_count": 1,
   "metadata": {},
   "outputs": [
    {
     "data": {
      "text/html": [
       "<div>\n",
       "<style scoped>\n",
       "    .dataframe tbody tr th:only-of-type {\n",
       "        vertical-align: middle;\n",
       "    }\n",
       "\n",
       "    .dataframe tbody tr th {\n",
       "        vertical-align: top;\n",
       "    }\n",
       "\n",
       "    .dataframe thead th {\n",
       "        text-align: right;\n",
       "    }\n",
       "</style>\n",
       "<table border=\"1\" class=\"dataframe\">\n",
       "  <thead>\n",
       "    <tr style=\"text-align: right;\">\n",
       "      <th></th>\n",
       "      <th>Hypothesis</th>\n",
       "      <th>Reach</th>\n",
       "      <th>Impact</th>\n",
       "      <th>Confidence</th>\n",
       "      <th>Efforts</th>\n",
       "    </tr>\n",
       "  </thead>\n",
       "  <tbody>\n",
       "    <tr>\n",
       "      <td>0</td>\n",
       "      <td>Добавить два новых канала привлечения трафика, что позволит привлекать на 30% больше пользователей</td>\n",
       "      <td>3</td>\n",
       "      <td>10</td>\n",
       "      <td>8</td>\n",
       "      <td>6</td>\n",
       "    </tr>\n",
       "    <tr>\n",
       "      <td>1</td>\n",
       "      <td>Запустить собственную службу доставки, что сократит срок доставки заказов</td>\n",
       "      <td>2</td>\n",
       "      <td>5</td>\n",
       "      <td>4</td>\n",
       "      <td>10</td>\n",
       "    </tr>\n",
       "    <tr>\n",
       "      <td>2</td>\n",
       "      <td>Добавить блоки рекомендаций товаров на сайт интернет магазина, чтобы повысить конверсию и средний чек заказа</td>\n",
       "      <td>8</td>\n",
       "      <td>3</td>\n",
       "      <td>7</td>\n",
       "      <td>3</td>\n",
       "    </tr>\n",
       "    <tr>\n",
       "      <td>3</td>\n",
       "      <td>Изменить структура категорий, что увеличит конверсию, т.к. пользователи быстрее найдут нужный товар</td>\n",
       "      <td>8</td>\n",
       "      <td>3</td>\n",
       "      <td>3</td>\n",
       "      <td>8</td>\n",
       "    </tr>\n",
       "    <tr>\n",
       "      <td>4</td>\n",
       "      <td>Изменить цвет фона главной страницы, чтобы увеличить вовлеченность пользователей</td>\n",
       "      <td>3</td>\n",
       "      <td>1</td>\n",
       "      <td>1</td>\n",
       "      <td>1</td>\n",
       "    </tr>\n",
       "    <tr>\n",
       "      <td>5</td>\n",
       "      <td>Добавить страницу отзывов клиентов о магазине, что позволит увеличить количество заказов</td>\n",
       "      <td>3</td>\n",
       "      <td>2</td>\n",
       "      <td>2</td>\n",
       "      <td>3</td>\n",
       "    </tr>\n",
       "    <tr>\n",
       "      <td>6</td>\n",
       "      <td>Показать на главной странице баннеры с актуальными акциями и распродажами, чтобы увеличить конверсию</td>\n",
       "      <td>5</td>\n",
       "      <td>3</td>\n",
       "      <td>8</td>\n",
       "      <td>3</td>\n",
       "    </tr>\n",
       "    <tr>\n",
       "      <td>7</td>\n",
       "      <td>Добавить форму подписки на все основные страницы, чтобы собрать базу клиентов для email-рассылок</td>\n",
       "      <td>10</td>\n",
       "      <td>7</td>\n",
       "      <td>8</td>\n",
       "      <td>5</td>\n",
       "    </tr>\n",
       "    <tr>\n",
       "      <td>8</td>\n",
       "      <td>Запустить акцию, дающую скидку на товар в день рождения</td>\n",
       "      <td>1</td>\n",
       "      <td>9</td>\n",
       "      <td>9</td>\n",
       "      <td>5</td>\n",
       "    </tr>\n",
       "  </tbody>\n",
       "</table>\n",
       "</div>"
      ],
      "text/plain": [
       "                                                                                                     Hypothesis  \\\n",
       "0            Добавить два новых канала привлечения трафика, что позволит привлекать на 30% больше пользователей   \n",
       "1                                     Запустить собственную службу доставки, что сократит срок доставки заказов   \n",
       "2  Добавить блоки рекомендаций товаров на сайт интернет магазина, чтобы повысить конверсию и средний чек заказа   \n",
       "3           Изменить структура категорий, что увеличит конверсию, т.к. пользователи быстрее найдут нужный товар   \n",
       "4                              Изменить цвет фона главной страницы, чтобы увеличить вовлеченность пользователей   \n",
       "5                      Добавить страницу отзывов клиентов о магазине, что позволит увеличить количество заказов   \n",
       "6          Показать на главной странице баннеры с актуальными акциями и распродажами, чтобы увеличить конверсию   \n",
       "7              Добавить форму подписки на все основные страницы, чтобы собрать базу клиентов для email-рассылок   \n",
       "8                                                       Запустить акцию, дающую скидку на товар в день рождения   \n",
       "\n",
       "   Reach  Impact  Confidence  Efforts  \n",
       "0      3      10           8        6  \n",
       "1      2       5           4       10  \n",
       "2      8       3           7        3  \n",
       "3      8       3           3        8  \n",
       "4      3       1           1        1  \n",
       "5      3       2           2        3  \n",
       "6      5       3           8        3  \n",
       "7     10       7           8        5  \n",
       "8      1       9           9        5  "
      ]
     },
     "metadata": {},
     "output_type": "display_data"
    }
   ],
   "source": [
    "# распаковка и вывод на экран таблицы с гипотезами\n",
    "\n",
    "import pandas as pd\n",
    "\n",
    "data_h = pd.read_csv('/datasets/hypothesis.csv', sep=',')\n",
    "pd.set_option('display.max_colwidth', 1000)\n",
    "\n",
    "display(data_h)"
   ]
  },
  {
   "cell_type": "markdown",
   "metadata": {},
   "source": [
    "Приоритизация гипотез проводится методами ICE и RICE. Расчёт по соответствующим формулам:\n",
    "\n",
    "\n",
    "\n",
    "# $$ICE = \\frac{Impact * Confidence}{Efforts}$$\n",
    "\n",
    "# $$RICE = \\frac{Rearch * Impact * Confidence}{Efforts}$$"
   ]
  },
  {
   "cell_type": "code",
   "execution_count": 30,
   "metadata": {},
   "outputs": [
    {
     "name": "stdout",
     "output_type": "stream",
     "text": [
      "  Hypothesis   ICE\n",
      "8  Запуст...  16.0\n",
      "0  Добави...  13.0\n",
      "7  Добави...  11.0\n",
      "6  Показа...   8.0\n",
      "2  Добави...   7.0\n",
      "1  Запуст...   2.0\n",
      "3  Измени...   1.0\n",
      "4  Измени...   1.0\n",
      "5  Добави...   1.0\n"
     ]
    }
   ],
   "source": [
    "# приоритизация гипотез методом ICE\n",
    "\n",
    "data_h['ICE'] = round((data_h['Impact'] * data_h['Confidence'])/data_h['Efforts'])\n",
    "\n",
    "print(data_h[['Hypothesis', 'ICE']].sort_values(by='ICE', ascending=False))"
   ]
  },
  {
   "cell_type": "code",
   "execution_count": 29,
   "metadata": {},
   "outputs": [
    {
     "name": "stdout",
     "output_type": "stream",
     "text": [
      "  Hypothesis   RICE\n",
      "7  Добави...  112.0\n",
      "2  Добави...   56.0\n",
      "0  Добави...   40.0\n",
      "6  Показа...   40.0\n",
      "8  Запуст...   16.2\n",
      "3  Измени...    9.0\n",
      "1  Запуст...    4.0\n",
      "5  Добави...    4.0\n",
      "4  Измени...    3.0\n"
     ]
    }
   ],
   "source": [
    "# приоритизация гипотез методом RICE\n",
    "\n",
    "data_h['RICE'] = (data_h['Reach'] * data_h['Impact'] * data_h['Confidence'])/data_h['Efforts']\n",
    "\n",
    "print(data_h[['Hypothesis', 'RICE']].sort_values(by='RICE', ascending=False))\n"
   ]
  },
  {
   "cell_type": "markdown",
   "metadata": {},
   "source": [
    "Приоритетные гипотезы по методу ICE: \n",
    "\n",
    "8. Запустить акцию, дающую скидку на товар в день\n",
    "0.  Добавить два новых канала привлечения трафика\n",
    "7.  Добавить форму подписки на все основные страницы \n",
    "\n",
    "Приоритетные гипотезы по методу RICE:\n",
    "\n",
    "7.  Добавить форму подписки на все основные страницы\n",
    "2.  Добавить блоки рекомендаций товаров на сайт\n",
    "0.  Добавить два новых канала привлечения трафика\n",
    "\n",
    "КОММЕНТАРИИ к расчётам приоритизации гипотез методами ICE и RICE.\n",
    "\n",
    "Результаты расчётов разные для  разных методов. При примемнении метода ICE самой важной задачей (наиболее значимой гипотезой) является гипотеза номер 8, далее гипотеза номер 0 и номер 7.\n",
    "При примемнении метода RICE гипотеза номер 8 оказывается лищь на пятом месте по значимости, апервые три по значимости гипотезы это - номер 7, номер 2, номер 0.\n",
    "\n",
    "Разница результатов объясняется тем, что при расчёте (приоритизации) методом ICE не учитывается параметр Reach - охват пользователей, т.е., при оценке гипотезы не учитывается число пользователей, на которых потенциально рассчитано изменение, описаное в гипотезе.\n"
   ]
  },
  {
   "cell_type": "markdown",
   "metadata": {},
   "source": [
    "ЧАСТЬ 2. \n",
    "\n",
    "Анализ результатов проведённого A/B-теста. Описание исходных данных.\n",
    "\n",
    "\n",
    "Таблица orders содержит столбцы: \n",
    "\n",
    "\n",
    "•\ttransactionId — идентификатор заказа;\n",
    "\n",
    "\n",
    "•\tvisitorId — идентификатор пользователя, совершившего заказ;\n",
    "\n",
    "\n",
    "•\tdate — дата, когда был совершён заказ;\n",
    "\n",
    "\n",
    "•\trevenue — выручка заказа;\n",
    "\n",
    "\n",
    "•\tgroup — группа A/B-теста, в которую попал заказ.\n",
    "\n",
    "\n",
    "\n",
    "Таблица visitors содержит столбцы: \n",
    "\n",
    "\n",
    "•\tdate — дата;\n",
    "\n",
    "\n",
    "•\tgroup — группа A/B-теста;\n",
    "\n",
    "\n",
    "•\tvisitors — количество пользователей в указанную дату в указанной группе A/B-теста.\n",
    "\n"
   ]
  },
  {
   "cell_type": "code",
   "execution_count": 4,
   "metadata": {},
   "outputs": [
    {
     "data": {
      "text/html": [
       "<div>\n",
       "<style scoped>\n",
       "    .dataframe tbody tr th:only-of-type {\n",
       "        vertical-align: middle;\n",
       "    }\n",
       "\n",
       "    .dataframe tbody tr th {\n",
       "        vertical-align: top;\n",
       "    }\n",
       "\n",
       "    .dataframe thead th {\n",
       "        text-align: right;\n",
       "    }\n",
       "</style>\n",
       "<table border=\"1\" class=\"dataframe\">\n",
       "  <thead>\n",
       "    <tr style=\"text-align: right;\">\n",
       "      <th></th>\n",
       "      <th>transactionId</th>\n",
       "      <th>visitorId</th>\n",
       "      <th>date</th>\n",
       "      <th>revenue</th>\n",
       "      <th>group</th>\n",
       "    </tr>\n",
       "  </thead>\n",
       "  <tbody>\n",
       "    <tr>\n",
       "      <td>0</td>\n",
       "      <td>3667963787</td>\n",
       "      <td>3312258926</td>\n",
       "      <td>2019-08-15</td>\n",
       "      <td>1650</td>\n",
       "      <td>B</td>\n",
       "    </tr>\n",
       "    <tr>\n",
       "      <td>1</td>\n",
       "      <td>2804400009</td>\n",
       "      <td>3642806036</td>\n",
       "      <td>2019-08-15</td>\n",
       "      <td>730</td>\n",
       "      <td>B</td>\n",
       "    </tr>\n",
       "    <tr>\n",
       "      <td>2</td>\n",
       "      <td>2961555356</td>\n",
       "      <td>4069496402</td>\n",
       "      <td>2019-08-15</td>\n",
       "      <td>400</td>\n",
       "      <td>A</td>\n",
       "    </tr>\n",
       "    <tr>\n",
       "      <td>3</td>\n",
       "      <td>3797467345</td>\n",
       "      <td>1196621759</td>\n",
       "      <td>2019-08-15</td>\n",
       "      <td>9759</td>\n",
       "      <td>B</td>\n",
       "    </tr>\n",
       "    <tr>\n",
       "      <td>4</td>\n",
       "      <td>2282983706</td>\n",
       "      <td>2322279887</td>\n",
       "      <td>2019-08-15</td>\n",
       "      <td>2308</td>\n",
       "      <td>B</td>\n",
       "    </tr>\n",
       "    <tr>\n",
       "      <td>...</td>\n",
       "      <td>...</td>\n",
       "      <td>...</td>\n",
       "      <td>...</td>\n",
       "      <td>...</td>\n",
       "      <td>...</td>\n",
       "    </tr>\n",
       "    <tr>\n",
       "      <td>1192</td>\n",
       "      <td>2662137336</td>\n",
       "      <td>3733762160</td>\n",
       "      <td>2019-08-14</td>\n",
       "      <td>6490</td>\n",
       "      <td>B</td>\n",
       "    </tr>\n",
       "    <tr>\n",
       "      <td>1193</td>\n",
       "      <td>2203539145</td>\n",
       "      <td>370388673</td>\n",
       "      <td>2019-08-14</td>\n",
       "      <td>3190</td>\n",
       "      <td>A</td>\n",
       "    </tr>\n",
       "    <tr>\n",
       "      <td>1194</td>\n",
       "      <td>1807773912</td>\n",
       "      <td>573423106</td>\n",
       "      <td>2019-08-14</td>\n",
       "      <td>10550</td>\n",
       "      <td>A</td>\n",
       "    </tr>\n",
       "    <tr>\n",
       "      <td>1195</td>\n",
       "      <td>1947021204</td>\n",
       "      <td>1614305549</td>\n",
       "      <td>2019-08-14</td>\n",
       "      <td>100</td>\n",
       "      <td>A</td>\n",
       "    </tr>\n",
       "    <tr>\n",
       "      <td>1196</td>\n",
       "      <td>3936777065</td>\n",
       "      <td>2108080724</td>\n",
       "      <td>2019-08-15</td>\n",
       "      <td>202740</td>\n",
       "      <td>B</td>\n",
       "    </tr>\n",
       "  </tbody>\n",
       "</table>\n",
       "<p>1197 rows × 5 columns</p>\n",
       "</div>"
      ],
      "text/plain": [
       "      transactionId   visitorId       date  revenue group\n",
       "0        3667963787  3312258926 2019-08-15     1650     B\n",
       "1        2804400009  3642806036 2019-08-15      730     B\n",
       "2        2961555356  4069496402 2019-08-15      400     A\n",
       "3        3797467345  1196621759 2019-08-15     9759     B\n",
       "4        2282983706  2322279887 2019-08-15     2308     B\n",
       "...             ...         ...        ...      ...   ...\n",
       "1192     2662137336  3733762160 2019-08-14     6490     B\n",
       "1193     2203539145   370388673 2019-08-14     3190     A\n",
       "1194     1807773912   573423106 2019-08-14    10550     A\n",
       "1195     1947021204  1614305549 2019-08-14      100     A\n",
       "1196     3936777065  2108080724 2019-08-15   202740     B\n",
       "\n",
       "[1197 rows x 5 columns]"
      ]
     },
     "metadata": {},
     "output_type": "display_data"
    },
    {
     "name": "stdout",
     "output_type": "stream",
     "text": [
      "<class 'pandas.core.frame.DataFrame'>\n",
      "RangeIndex: 1197 entries, 0 to 1196\n",
      "Data columns (total 5 columns):\n",
      "transactionId    1197 non-null int64\n",
      "visitorId        1197 non-null int64\n",
      "date             1197 non-null datetime64[ns]\n",
      "revenue          1197 non-null int64\n",
      "group            1197 non-null object\n",
      "dtypes: datetime64[ns](1), int64(3), object(1)\n",
      "memory usage: 46.9+ KB\n"
     ]
    }
   ],
   "source": [
    "# распаковка и вывод на экран таблицы orders\n",
    "\n",
    "import scipy.stats as stats\n",
    "import datetime as dt\n",
    "import numpy as np\n",
    "\n",
    "orders = pd.read_csv('/datasets/orders.csv', sep=',')\n",
    "orders['date'] = orders['date'].map(\n",
    "    lambda x: dt.datetime.strptime(x, '%Y-%m-%d')\n",
    ")\n",
    "\n",
    "display(orders)\n",
    "orders.info()"
   ]
  },
  {
   "cell_type": "code",
   "execution_count": 5,
   "metadata": {},
   "outputs": [
    {
     "data": {
      "text/html": [
       "<div>\n",
       "<style scoped>\n",
       "    .dataframe tbody tr th:only-of-type {\n",
       "        vertical-align: middle;\n",
       "    }\n",
       "\n",
       "    .dataframe tbody tr th {\n",
       "        vertical-align: top;\n",
       "    }\n",
       "\n",
       "    .dataframe thead th {\n",
       "        text-align: right;\n",
       "    }\n",
       "</style>\n",
       "<table border=\"1\" class=\"dataframe\">\n",
       "  <thead>\n",
       "    <tr style=\"text-align: right;\">\n",
       "      <th></th>\n",
       "      <th>date</th>\n",
       "      <th>group</th>\n",
       "      <th>visitors</th>\n",
       "    </tr>\n",
       "  </thead>\n",
       "  <tbody>\n",
       "    <tr>\n",
       "      <td>0</td>\n",
       "      <td>2019-08-01</td>\n",
       "      <td>A</td>\n",
       "      <td>719</td>\n",
       "    </tr>\n",
       "    <tr>\n",
       "      <td>1</td>\n",
       "      <td>2019-08-02</td>\n",
       "      <td>A</td>\n",
       "      <td>619</td>\n",
       "    </tr>\n",
       "    <tr>\n",
       "      <td>2</td>\n",
       "      <td>2019-08-03</td>\n",
       "      <td>A</td>\n",
       "      <td>507</td>\n",
       "    </tr>\n",
       "    <tr>\n",
       "      <td>3</td>\n",
       "      <td>2019-08-04</td>\n",
       "      <td>A</td>\n",
       "      <td>717</td>\n",
       "    </tr>\n",
       "    <tr>\n",
       "      <td>4</td>\n",
       "      <td>2019-08-05</td>\n",
       "      <td>A</td>\n",
       "      <td>756</td>\n",
       "    </tr>\n",
       "    <tr>\n",
       "      <td>...</td>\n",
       "      <td>...</td>\n",
       "      <td>...</td>\n",
       "      <td>...</td>\n",
       "    </tr>\n",
       "    <tr>\n",
       "      <td>57</td>\n",
       "      <td>2019-08-27</td>\n",
       "      <td>B</td>\n",
       "      <td>720</td>\n",
       "    </tr>\n",
       "    <tr>\n",
       "      <td>58</td>\n",
       "      <td>2019-08-28</td>\n",
       "      <td>B</td>\n",
       "      <td>654</td>\n",
       "    </tr>\n",
       "    <tr>\n",
       "      <td>59</td>\n",
       "      <td>2019-08-29</td>\n",
       "      <td>B</td>\n",
       "      <td>531</td>\n",
       "    </tr>\n",
       "    <tr>\n",
       "      <td>60</td>\n",
       "      <td>2019-08-30</td>\n",
       "      <td>B</td>\n",
       "      <td>490</td>\n",
       "    </tr>\n",
       "    <tr>\n",
       "      <td>61</td>\n",
       "      <td>2019-08-31</td>\n",
       "      <td>B</td>\n",
       "      <td>718</td>\n",
       "    </tr>\n",
       "  </tbody>\n",
       "</table>\n",
       "<p>62 rows × 3 columns</p>\n",
       "</div>"
      ],
      "text/plain": [
       "         date group  visitors\n",
       "0  2019-08-01     A       719\n",
       "1  2019-08-02     A       619\n",
       "2  2019-08-03     A       507\n",
       "3  2019-08-04     A       717\n",
       "4  2019-08-05     A       756\n",
       "..        ...   ...       ...\n",
       "57 2019-08-27     B       720\n",
       "58 2019-08-28     B       654\n",
       "59 2019-08-29     B       531\n",
       "60 2019-08-30     B       490\n",
       "61 2019-08-31     B       718\n",
       "\n",
       "[62 rows x 3 columns]"
      ]
     },
     "metadata": {},
     "output_type": "display_data"
    },
    {
     "name": "stdout",
     "output_type": "stream",
     "text": [
      "<class 'pandas.core.frame.DataFrame'>\n",
      "RangeIndex: 62 entries, 0 to 61\n",
      "Data columns (total 3 columns):\n",
      "date        62 non-null datetime64[ns]\n",
      "group       62 non-null object\n",
      "visitors    62 non-null int64\n",
      "dtypes: datetime64[ns](1), int64(1), object(1)\n",
      "memory usage: 1.6+ KB\n"
     ]
    }
   ],
   "source": [
    "# распаковка и вывод на экран таблицы visitors\n",
    "\n",
    "visitors = pd.read_csv('/datasets/visitors.csv', sep=',')\n",
    "visitors['date'] = visitors['date'].map(\n",
    "    lambda x: dt.datetime.strptime(x, '%Y-%m-%d')\n",
    ")\n",
    "\n",
    "display(visitors)\n",
    "visitors.info()"
   ]
  },
  {
   "cell_type": "markdown",
   "metadata": {},
   "source": [
    "В выведенных исходных таблицах видно:\n",
    "\n",
    "- тест проводился с 1 по 31 августа 2019 года;\n",
    "- аудитория теста делилась на группы теста А и В;\n",
    "- даты в обеих таблицах записаны единообразным форматом;\n",
    "- в столбце revenue таблицы orders есть выбросы;\n",
    "- данные представлены в корректных форматах;\n",
    "- пропусков в данных нет.\n",
    "\n"
   ]
  },
  {
   "cell_type": "code",
   "execution_count": 6,
   "metadata": {},
   "outputs": [
    {
     "name": "stdout",
     "output_type": "stream",
     "text": [
      "Пользователей, попавших в группы теста А и В одновременно: 58\n"
     ]
    },
    {
     "data": {
      "text/html": [
       "<div>\n",
       "<style scoped>\n",
       "    .dataframe tbody tr th:only-of-type {\n",
       "        vertical-align: middle;\n",
       "    }\n",
       "\n",
       "    .dataframe tbody tr th {\n",
       "        vertical-align: top;\n",
       "    }\n",
       "\n",
       "    .dataframe thead th {\n",
       "        text-align: right;\n",
       "    }\n",
       "</style>\n",
       "<table border=\"1\" class=\"dataframe\">\n",
       "  <thead>\n",
       "    <tr style=\"text-align: right;\">\n",
       "      <th></th>\n",
       "      <th>group</th>\n",
       "    </tr>\n",
       "    <tr>\n",
       "      <th>visitorId</th>\n",
       "      <th></th>\n",
       "    </tr>\n",
       "  </thead>\n",
       "  <tbody>\n",
       "    <tr>\n",
       "      <td>8300375</td>\n",
       "      <td>2</td>\n",
       "    </tr>\n",
       "    <tr>\n",
       "      <td>199603092</td>\n",
       "      <td>2</td>\n",
       "    </tr>\n",
       "    <tr>\n",
       "      <td>232979603</td>\n",
       "      <td>2</td>\n",
       "    </tr>\n",
       "    <tr>\n",
       "      <td>237748145</td>\n",
       "      <td>2</td>\n",
       "    </tr>\n",
       "    <tr>\n",
       "      <td>276558944</td>\n",
       "      <td>2</td>\n",
       "    </tr>\n",
       "  </tbody>\n",
       "</table>\n",
       "</div>"
      ],
      "text/plain": [
       "           group\n",
       "visitorId       \n",
       "8300375        2\n",
       "199603092      2\n",
       "232979603      2\n",
       "237748145      2\n",
       "276558944      2"
      ]
     },
     "metadata": {},
     "output_type": "display_data"
    }
   ],
   "source": [
    "# подсчёт количества пользователей, попавших в группы теста А и В одновременно\n",
    "\n",
    "users_2 = orders.groupby('visitorId').agg({'group':'nunique'})\n",
    "users_2 = users_2.query('group > 1')\n",
    "\n",
    "print('Пользователей, попавших в группы теста А и В одновременно:', users_2['group'].count())\n",
    "\n",
    "display(users_2.head())"
   ]
  },
  {
   "cell_type": "markdown",
   "metadata": {},
   "source": [
    "В группах теста присутствуют пользователи, попавшие одновременно в обе группы, т.е. и в А, и в В одновременно.\n",
    "\n",
    "Таких пользователей 58 человек. "
   ]
  },
  {
   "cell_type": "code",
   "execution_count": 7,
   "metadata": {},
   "outputs": [
    {
     "data": {
      "text/html": [
       "<div>\n",
       "<style scoped>\n",
       "    .dataframe tbody tr th:only-of-type {\n",
       "        vertical-align: middle;\n",
       "    }\n",
       "\n",
       "    .dataframe tbody tr th {\n",
       "        vertical-align: top;\n",
       "    }\n",
       "\n",
       "    .dataframe thead th {\n",
       "        text-align: right;\n",
       "    }\n",
       "</style>\n",
       "<table border=\"1\" class=\"dataframe\">\n",
       "  <thead>\n",
       "    <tr style=\"text-align: right;\">\n",
       "      <th></th>\n",
       "      <th>date</th>\n",
       "      <th>group</th>\n",
       "      <th>orders</th>\n",
       "      <th>buyers</th>\n",
       "      <th>revenue</th>\n",
       "      <th>visitors</th>\n",
       "    </tr>\n",
       "  </thead>\n",
       "  <tbody>\n",
       "    <tr>\n",
       "      <td>0</td>\n",
       "      <td>2019-08-01</td>\n",
       "      <td>A</td>\n",
       "      <td>24</td>\n",
       "      <td>20</td>\n",
       "      <td>148579</td>\n",
       "      <td>719</td>\n",
       "    </tr>\n",
       "    <tr>\n",
       "      <td>1</td>\n",
       "      <td>2019-08-01</td>\n",
       "      <td>B</td>\n",
       "      <td>21</td>\n",
       "      <td>20</td>\n",
       "      <td>101217</td>\n",
       "      <td>713</td>\n",
       "    </tr>\n",
       "    <tr>\n",
       "      <td>2</td>\n",
       "      <td>2019-08-02</td>\n",
       "      <td>A</td>\n",
       "      <td>44</td>\n",
       "      <td>38</td>\n",
       "      <td>242401</td>\n",
       "      <td>1338</td>\n",
       "    </tr>\n",
       "    <tr>\n",
       "      <td>3</td>\n",
       "      <td>2019-08-02</td>\n",
       "      <td>B</td>\n",
       "      <td>45</td>\n",
       "      <td>43</td>\n",
       "      <td>266748</td>\n",
       "      <td>1294</td>\n",
       "    </tr>\n",
       "    <tr>\n",
       "      <td>4</td>\n",
       "      <td>2019-08-03</td>\n",
       "      <td>A</td>\n",
       "      <td>68</td>\n",
       "      <td>62</td>\n",
       "      <td>354874</td>\n",
       "      <td>1845</td>\n",
       "    </tr>\n",
       "  </tbody>\n",
       "</table>\n",
       "</div>"
      ],
      "text/plain": [
       "        date group  orders  buyers  revenue  visitors\n",
       "0 2019-08-01     A      24      20   148579       719\n",
       "1 2019-08-01     B      21      20   101217       713\n",
       "2 2019-08-02     A      44      38   242401      1338\n",
       "3 2019-08-02     B      45      43   266748      1294\n",
       "4 2019-08-03     A      68      62   354874      1845"
      ]
     },
     "metadata": {},
     "output_type": "display_data"
    }
   ],
   "source": [
    "# создание датафрейма datesGroups с уникальными парами значений 'date' и 'group', таблицы orders \n",
    "# исключение дубликатов\n",
    "\n",
    "datesGroups = orders[['date','group']].drop_duplicates() \n",
    "\n",
    "ordersAggregated = datesGroups.apply(\n",
    "    lambda x: orders[np.logical_and(orders['date'] <= x['date'],\n",
    "                                    orders['group'] == x['group'])].agg({\n",
    "                                    'date' : 'max',\n",
    "                                    'group' : 'max',\n",
    "                                    'transactionId' : pd.Series.nunique,\n",
    "                                    'visitorId' : pd.Series.nunique,\n",
    "                                    'revenue' : 'sum'}), axis=1).sort_values(by=['date','group']) \n",
    "\n",
    "visitorsAggregated = datesGroups.apply(\n",
    "    lambda x: visitors[np.logical_and(visitors['date'] <= x['date'],\n",
    "                                    visitors['group'] == x['group'])].agg({\n",
    "                                    'date' : 'max',\n",
    "                                    'group' : 'max',\n",
    "                                    'visitors' : 'sum'}), axis=1).sort_values(by=['date','group'])\n",
    "                                      \n",
    "cumulativeData = ordersAggregated.merge(visitorsAggregated, left_on=['date', 'group'],\n",
    "                                        right_on=['date', 'group'])\n",
    "\n",
    "cumulativeData.columns = ['date', 'group', 'orders', 'buyers', 'revenue', 'visitors']\n",
    "\n",
    "# вывод таблицы, содержащей данные, разбитые по группам А и В на каждое число месяца\n",
    "display(cumulativeData.head())"
   ]
  },
  {
   "cell_type": "code",
   "execution_count": 39,
   "metadata": {},
   "outputs": [
    {
     "data": {
      "image/png": "[encoded data removed]",
      "text/plain": [
       "<Figure size 1080x720 with 1 Axes>"
      ]
     },
     "metadata": {
      "needs_background": "light"
     },
     "output_type": "display_data"
    }
   ],
   "source": [
    "# построение графиков кумулятивной выручки по группам\n",
    "\n",
    "import matplotlib.pyplot as plt\n",
    "from pandas.plotting import register_matplotlib_converters\n",
    "\n",
    "# датафрейм с кумулятивным количеством заказов и кумулятивной выручкой по дням в группе А\n",
    "cumulativeRevenueA = cumulativeData[cumulativeData['group']=='A'][['date','revenue', 'orders']]\n",
    "\n",
    "# датафрейм с кумулятивным количеством заказов и кумулятивной выручкой по дням в группе B\n",
    "cumulativeRevenueB = cumulativeData[cumulativeData['group']=='B'][['date','revenue', 'orders']]\n",
    "\n",
    "# построение графика выручки группы А\n",
    "plt.plot(cumulativeRevenueA['date'], cumulativeRevenueA['revenue'], label='A')\n",
    "\n",
    "# построение графика выручки группы B\n",
    "plt.plot(cumulativeRevenueB['date'], cumulativeRevenueB['revenue'], label='B')\n",
    "plt.xticks(rotation=40)\n",
    "plt.rcParams[\"figure.figsize\"] = (15, 10)\n",
    "plt.legend()\n",
    "plt.title('График кумулятивной выручки по группам A/B-тестирования', fontsize=15)\n",
    "plt.xlabel('Даты', fontsize=12)\n",
    "plt.ylabel('Выручка', fontsize=12)\n",
    "plt.show()\n",
    "\n",
    "\n"
   ]
  },
  {
   "cell_type": "markdown",
   "metadata": {},
   "source": [
    "Примерно первую треть выручка группы В растёт примерно с той же скоростью, что и выручка группы А. Сильный отрыв в пользу группы В произошёл единоразовым скачком - свидетельство крупной покупки, исказившей результат. \n",
    "\n"
   ]
  },
  {
   "cell_type": "code",
   "execution_count": 38,
   "metadata": {},
   "outputs": [
    {
     "data": {
      "image/png": "[encoded data removed]",
      "text/plain": [
       "<Figure size 1080x720 with 1 Axes>"
      ]
     },
     "metadata": {
      "needs_background": "light"
     },
     "output_type": "display_data"
    }
   ],
   "source": [
    "# график кумулятивного среднего чека по группам\n",
    "\n",
    "plt.plot(cumulativeRevenueA['date'], cumulativeRevenueA['revenue']/cumulativeRevenueA['orders'],\n",
    "         label='A')\n",
    "\n",
    "plt.plot(cumulativeRevenueB['date'], cumulativeRevenueB['revenue']/cumulativeRevenueB['orders'],\n",
    "         label='B')\n",
    "plt.xticks(rotation=40)\n",
    "plt.legend()\n",
    "plt.rcParams[\"figure.figsize\"] = (15, 10)\n",
    "plt.title('График кумулятивного среднего чека по группам A/B-тестирования', fontsize=15)\n",
    "plt.xlabel('Даты', fontsize=12)\n",
    "plt.ylabel('Сумма среднего чека', fontsize=12)\n",
    "plt.show()"
   ]
  },
  {
   "cell_type": "markdown",
   "metadata": {},
   "source": [
    "Графики кумулятивного среднего чека по группам разнились, но принципиально не отличались до единоразового скачка, упомянутого выше. Вероятно, единоразовая крупная покупка пользователя из группы В резко повысила кумулятивный средний чек, что исказило результат."
   ]
  },
  {
   "cell_type": "code",
   "execution_count": 37,
   "metadata": {},
   "outputs": [
    {
     "data": {
      "image/png": "[encoded data removed]",
      "text/plain": [
       "<Figure size 1080x720 with 1 Axes>"
      ]
     },
     "metadata": {
      "needs_background": "light"
     },
     "output_type": "display_data"
    }
   ],
   "source": [
    "# график относительного изменения кумулятивного среднего чека группы B к группе A\n",
    "\n",
    "mergedCumulativeRevenue = cumulativeRevenueA.merge(cumulativeRevenueB, left_on='date',\n",
    "                                                   right_on='date', how='left', suffixes=['A', 'B'])\n",
    "\n",
    "plt.plot(mergedCumulativeRevenue['date'],\n",
    "         (mergedCumulativeRevenue['revenueB']/mergedCumulativeRevenue['ordersB'])/(mergedCumulativeRevenue['revenueA']/mergedCumulativeRevenue['ordersA'])-1)\n",
    "\n",
    "plt.axhline(y=0, color='black', linestyle='--')\n",
    "plt.xticks(rotation=40)\n",
    "plt.rcParams[\"figure.figsize\"] = (15, 10)\n",
    "plt.title('График относительного изменения кумулятивного среднего чека группы B к группе A',\n",
    "          fontsize=15)\n",
    "plt.xlabel('Даты', fontsize=12)\n",
    "plt.ylabel('Относительное изменение', fontsize=12)\n",
    "plt.show()"
   ]
  },
  {
   "cell_type": "markdown",
   "metadata": {},
   "source": [
    "На графике относительного изменения кумулятивного среднего чека группы B к группе A две точки (даты) резкого изменения направления. Резкое падение, что не сильно отразилось на предыдущих графиках, и резкий рост, что отмечено выше, и по-видимому, является свидетельством разовой крупной покупки."
   ]
  },
  {
   "cell_type": "code",
   "execution_count": 36,
   "metadata": {},
   "outputs": [
    {
     "data": {
      "image/png": "[encoded data removed]",
      "text/plain": [
       "<Figure size 1080x720 with 1 Axes>"
      ]
     },
     "metadata": {
      "needs_background": "light"
     },
     "output_type": "display_data"
    }
   ],
   "source": [
    "# график кумулятивной конверсии по группам\n",
    "\n",
    "cumulativeData['conversion'] = cumulativeData['orders']/cumulativeData['visitors']\n",
    "cumulativeDataA = cumulativeData[cumulativeData['group']=='A']\n",
    "cumulativeDataB = cumulativeData[cumulativeData['group']=='B']\n",
    "\n",
    "\n",
    "plt.plot(cumulativeDataA['date'], cumulativeDataA['conversion'], label='A')\n",
    "plt.plot(cumulativeDataB['date'], cumulativeDataB['conversion'], label='B')\n",
    "plt.legend()\n",
    "plt.rcParams[\"figure.figsize\"] = (15, 10)\n",
    "plt.title('График кумулятивной конверсии по группам', fontsize=15)\n",
    "plt.xlabel('Даты', fontsize=12)\n",
    "plt.ylabel('Доля конверсии', fontsize=12)\n",
    "plt.xticks(rotation=40)\n",
    "plt.show()"
   ]
  },
  {
   "cell_type": "markdown",
   "metadata": {},
   "source": [
    "После колебаний первых дней наблюдения, графики кумулятивных конверсий групп А и В стабилизировались.\n",
    "\n",
    "\n",
    "К концу теста кумулятивная конверсия группы В выше кумулятивной конверсии группы А примерно на 0,4-0,5%"
   ]
  },
  {
   "cell_type": "code",
   "execution_count": 35,
   "metadata": {},
   "outputs": [
    {
     "name": "stderr",
     "output_type": "stream",
     "text": [
      "No handles with labels found to put in legend.\n"
     ]
    },
    {
     "data": {
      "image/png": "[encoded data removed]",
      "text/plain": [
       "<Figure size 1080x720 with 1 Axes>"
      ]
     },
     "metadata": {
      "needs_background": "light"
     },
     "output_type": "display_data"
    }
   ],
   "source": [
    "# график относительного изменения кумулятивной конверсии группы B к группе A\n",
    "\n",
    "mergedCumulativeConversions = cumulativeDataA[['date', 'conversion']].merge(\n",
    "    cumulativeDataB[['date', 'conversion']],\n",
    "    left_on='date', right_on='date', how='left', suffixes=['A', 'B'])\n",
    "\n",
    "plt.plot(mergedCumulativeConversions['date'],\n",
    "         mergedCumulativeConversions['conversionB']/mergedCumulativeConversions['conversionA']-1)\n",
    "plt.legend()\n",
    "\n",
    "plt.axhline(y=0, color='black', linestyle='--')\n",
    "plt.axhline(y=0.2, color='grey', linestyle='--')\n",
    "plt.xticks(rotation=40)\n",
    "plt.rcParams[\"figure.figsize\"] = (15, 10)\n",
    "plt.title('График относительного изменения кумулятивной конверсии группы B к группе A',\n",
    "          fontsize=15)\n",
    "plt.xlabel('Даты', fontsize=12)\n",
    "plt.ylabel('Относительное изменение', fontsize=12)\n",
    "plt.show()"
   ]
  },
  {
   "cell_type": "markdown",
   "metadata": {},
   "source": [
    "График относительного изменения кумулятивной конверсии группы B к группе A также свидетельствует об установившемся отличии кумулятивной конверсии группы B к группе A.\n",
    "\n",
    "Относительное изменение кумулятивной конверсии группы B к группе A составляет около 15%."
   ]
  },
  {
   "cell_type": "code",
   "execution_count": 13,
   "metadata": {},
   "outputs": [
    {
     "data": {
      "text/html": [
       "<div>\n",
       "<style scoped>\n",
       "    .dataframe tbody tr th:only-of-type {\n",
       "        vertical-align: middle;\n",
       "    }\n",
       "\n",
       "    .dataframe tbody tr th {\n",
       "        vertical-align: top;\n",
       "    }\n",
       "\n",
       "    .dataframe thead th {\n",
       "        text-align: right;\n",
       "    }\n",
       "</style>\n",
       "<table border=\"1\" class=\"dataframe\">\n",
       "  <thead>\n",
       "    <tr style=\"text-align: right;\">\n",
       "      <th></th>\n",
       "      <th>visitorId</th>\n",
       "      <th>transactionId</th>\n",
       "    </tr>\n",
       "  </thead>\n",
       "  <tbody>\n",
       "    <tr>\n",
       "      <td>1023</td>\n",
       "      <td>4256040402</td>\n",
       "      <td>11</td>\n",
       "    </tr>\n",
       "    <tr>\n",
       "      <td>591</td>\n",
       "      <td>2458001652</td>\n",
       "      <td>11</td>\n",
       "    </tr>\n",
       "    <tr>\n",
       "      <td>569</td>\n",
       "      <td>2378935119</td>\n",
       "      <td>9</td>\n",
       "    </tr>\n",
       "    <tr>\n",
       "      <td>487</td>\n",
       "      <td>2038680547</td>\n",
       "      <td>8</td>\n",
       "    </tr>\n",
       "    <tr>\n",
       "      <td>44</td>\n",
       "      <td>199603092</td>\n",
       "      <td>5</td>\n",
       "    </tr>\n",
       "    <tr>\n",
       "      <td>744</td>\n",
       "      <td>3062433592</td>\n",
       "      <td>5</td>\n",
       "    </tr>\n",
       "    <tr>\n",
       "      <td>55</td>\n",
       "      <td>237748145</td>\n",
       "      <td>5</td>\n",
       "    </tr>\n",
       "    <tr>\n",
       "      <td>917</td>\n",
       "      <td>3803269165</td>\n",
       "      <td>5</td>\n",
       "    </tr>\n",
       "    <tr>\n",
       "      <td>299</td>\n",
       "      <td>1230306981</td>\n",
       "      <td>5</td>\n",
       "    </tr>\n",
       "    <tr>\n",
       "      <td>897</td>\n",
       "      <td>3717692402</td>\n",
       "      <td>5</td>\n",
       "    </tr>\n",
       "  </tbody>\n",
       "</table>\n",
       "</div>"
      ],
      "text/plain": [
       "       visitorId  transactionId\n",
       "1023  4256040402             11\n",
       "591   2458001652             11\n",
       "569   2378935119              9\n",
       "487   2038680547              8\n",
       "44     199603092              5\n",
       "744   3062433592              5\n",
       "55     237748145              5\n",
       "917   3803269165              5\n",
       "299   1230306981              5\n",
       "897   3717692402              5"
      ]
     },
     "metadata": {},
     "output_type": "display_data"
    }
   ],
   "source": [
    "# для оценки выбросов по количеству заказов на одного посетителя сайта считаю число заказов\n",
    "# на каждого посетителя, определяю максимальное количество заказов\n",
    "\n",
    "ordersByUsers = (\n",
    "    orders.groupby('visitorId', as_index=False)\n",
    "    .agg({'transactionId': pd.Series.nunique})\n",
    ")\n",
    "\n",
    "display(ordersByUsers.sort_values(by='transactionId', ascending=False).head(10))"
   ]
  },
  {
   "cell_type": "markdown",
   "metadata": {},
   "source": [
    "В течение одного месяца двое посетителей совершили по 11 заказов - это максимальное \n",
    "количество заказов в имеющихся данных.\n",
    "\n",
    "Далее определяю, насколько это типично."
   ]
  },
  {
   "cell_type": "code",
   "execution_count": 41,
   "metadata": {},
   "outputs": [
    {
     "data": {
      "image/png": "[encoded data removed]",
      "text/plain": [
       "<Figure size 720x432 with 1 Axes>"
      ]
     },
     "metadata": {
      "needs_background": "light"
     },
     "output_type": "display_data"
    }
   ],
   "source": [
    "# построение точечного графика количества заказов по пользователям\n",
    "\n",
    "x_values = pd.Series(range(0,len(ordersByUsers['transactionId'])))\n",
    "\n",
    "plt.scatter(x_values, ordersByUsers['transactionId'])\n",
    "plt.rcParams[\"figure.figsize\"] = (8, 5)\n",
    "plt.title('Точечный график количества заказов по пользователям',\n",
    "          fontsize=15)\n",
    "plt.xlabel('Условный номер пользователя', fontsize=12)\n",
    "plt.ylabel('Число заказов', fontsize=12)\n",
    "plt.show()"
   ]
  },
  {
   "cell_type": "markdown",
   "metadata": {},
   "source": [
    "Точечный график количества заказов по пользователям показывает, что граница выбросов лежит между значениями 3 и 5. Большее количество заказов встречается значительно реже."
   ]
  },
  {
   "cell_type": "code",
   "execution_count": 15,
   "metadata": {},
   "outputs": [
    {
     "name": "stdout",
     "output_type": "stream",
     "text": [
      "[3.87010466e+09 4.18972491e+09]\n"
     ]
    }
   ],
   "source": [
    "print(np.percentile(ordersByUsers, [95, 99])) "
   ]
  },
  {
   "cell_type": "markdown",
   "metadata": {},
   "source": [
    "Определение 95 и 99 перцентилей количества заказов на одного посетителя сайта дало такие результаты:\n",
    "\n",
    "\n",
    "не более 5% посетителей совершило более 3,87 заказа;\n",
    "\n",
    "\n",
    "не более 1% посетителей совершило более 4,19 заказа. \n",
    "\n",
    "\n",
    "Т.е. граница аномального количества заказов - 4. Количество заказов более 4-ёх - аномально, и признаётся выбросом."
   ]
  },
  {
   "cell_type": "code",
   "execution_count": 42,
   "metadata": {},
   "outputs": [
    {
     "data": {
      "image/png": "[encoded data removed]",
      "text/plain": [
       "<Figure size 576x360 with 1 Axes>"
      ]
     },
     "metadata": {
      "needs_background": "light"
     },
     "output_type": "display_data"
    }
   ],
   "source": [
    "# построение точечного графика сумм среднего чека\n",
    "\n",
    "x_values = pd.Series(range(0,len(orders['revenue'])))\n",
    "plt.scatter(x_values, orders['revenue']) \n",
    "plt.rcParams[\"figure.figsize\"] = (8, 5)\n",
    "plt.title('Точечный график сумм среднего чека',\n",
    "          fontsize=15)\n",
    "plt.xlabel('Условный номер пользователя', fontsize=12)\n",
    "plt.ylabel('Сумма среднего чека', fontsize=12)\n",
    "plt.show()"
   ]
  },
  {
   "cell_type": "markdown",
   "metadata": {},
   "source": [
    "Точечный график стоимостей заказов демонстрирует два ярко выделяющихся выброса - покупка примерно 200 000 ед., и покупка более, чем 1 200 000 ед. Это второе значение в столбце revenue очень сильно искажает результаты анализа данных. Вероятно, это событие вызывает скачкообразное изменение графиков:\n",
    "графика кумулятивной выручки по группам, графика кумулятивного среднего чека по группам, графика относительного изменения кумулятивного среднего чека группы B к группе A. Также, эта покупка изменяет масштаб и точечного графика, из-за чего наглядность графика сильно страдает."
   ]
  },
  {
   "cell_type": "code",
   "execution_count": 17,
   "metadata": {},
   "outputs": [
    {
     "name": "stdout",
     "output_type": "stream",
     "text": [
      "[28000.  58233.2]\n"
     ]
    }
   ],
   "source": [
    "# оценка выбросов в столбце revenue таблицы orders - выбросы по среднему чеку\n",
    "\n",
    "print(np.percentile(orders['revenue'], [95, 99])) "
   ]
  },
  {
   "cell_type": "markdown",
   "metadata": {},
   "source": [
    "Определение 95 и 99 перцентилей среднего чека (revenue таблицы orders) дало такие результаты:\n",
    "\n",
    "Не более 5% заказов дороже 28 000 ед. и не более 1% дороже 58 233 ед.\n",
    "\n",
    "За границу аномальных заказов принимаю 28 000 ед."
   ]
  },
  {
   "cell_type": "markdown",
   "metadata": {},
   "source": [
    "Для исключения искажений результатов анализа А/В теста необходимо исключить из дальнейших расчётов аномальные значения - выбросы. Принимаю за границу выбросов:\n",
    "\n",
    "* средний чек - не более 28 000;\n",
    "* количество совершённых заказов - не более 4-ёх"
   ]
  },
  {
   "cell_type": "code",
   "execution_count": 18,
   "metadata": {},
   "outputs": [
    {
     "data": {
      "text/html": [
       "<div>\n",
       "<style scoped>\n",
       "    .dataframe tbody tr th:only-of-type {\n",
       "        vertical-align: middle;\n",
       "    }\n",
       "\n",
       "    .dataframe tbody tr th {\n",
       "        vertical-align: top;\n",
       "    }\n",
       "\n",
       "    .dataframe thead th {\n",
       "        text-align: right;\n",
       "    }\n",
       "</style>\n",
       "<table border=\"1\" class=\"dataframe\">\n",
       "  <thead>\n",
       "    <tr style=\"text-align: right;\">\n",
       "      <th></th>\n",
       "      <th>date</th>\n",
       "      <th>ordersPerDateA</th>\n",
       "      <th>revenuePerDateA</th>\n",
       "      <th>ordersPerDateB</th>\n",
       "      <th>revenuePerDateB</th>\n",
       "      <th>ordersCummulativeA</th>\n",
       "      <th>revenueCummulativeA</th>\n",
       "      <th>ordersCummulativeB</th>\n",
       "      <th>revenueCummulativeB</th>\n",
       "      <th>visitorsPerDateA</th>\n",
       "      <th>visitorsPerDateB</th>\n",
       "      <th>visitorsCummulativeA</th>\n",
       "      <th>visitorsCummulativeB</th>\n",
       "    </tr>\n",
       "  </thead>\n",
       "  <tbody>\n",
       "    <tr>\n",
       "      <td>0</td>\n",
       "      <td>2019-08-01</td>\n",
       "      <td>24</td>\n",
       "      <td>148579</td>\n",
       "      <td>21</td>\n",
       "      <td>101217</td>\n",
       "      <td>24</td>\n",
       "      <td>148579</td>\n",
       "      <td>21</td>\n",
       "      <td>101217</td>\n",
       "      <td>719</td>\n",
       "      <td>713</td>\n",
       "      <td>719</td>\n",
       "      <td>713</td>\n",
       "    </tr>\n",
       "    <tr>\n",
       "      <td>1</td>\n",
       "      <td>2019-08-02</td>\n",
       "      <td>20</td>\n",
       "      <td>93822</td>\n",
       "      <td>24</td>\n",
       "      <td>165531</td>\n",
       "      <td>44</td>\n",
       "      <td>242401</td>\n",
       "      <td>45</td>\n",
       "      <td>266748</td>\n",
       "      <td>619</td>\n",
       "      <td>581</td>\n",
       "      <td>1338</td>\n",
       "      <td>1294</td>\n",
       "    </tr>\n",
       "    <tr>\n",
       "      <td>2</td>\n",
       "      <td>2019-08-03</td>\n",
       "      <td>24</td>\n",
       "      <td>112473</td>\n",
       "      <td>16</td>\n",
       "      <td>114248</td>\n",
       "      <td>68</td>\n",
       "      <td>354874</td>\n",
       "      <td>61</td>\n",
       "      <td>380996</td>\n",
       "      <td>507</td>\n",
       "      <td>509</td>\n",
       "      <td>1845</td>\n",
       "      <td>1803</td>\n",
       "    </tr>\n",
       "    <tr>\n",
       "      <td>3</td>\n",
       "      <td>2019-08-04</td>\n",
       "      <td>16</td>\n",
       "      <td>70825</td>\n",
       "      <td>17</td>\n",
       "      <td>108571</td>\n",
       "      <td>84</td>\n",
       "      <td>425699</td>\n",
       "      <td>78</td>\n",
       "      <td>489567</td>\n",
       "      <td>717</td>\n",
       "      <td>770</td>\n",
       "      <td>2562</td>\n",
       "      <td>2573</td>\n",
       "    </tr>\n",
       "    <tr>\n",
       "      <td>4</td>\n",
       "      <td>2019-08-05</td>\n",
       "      <td>25</td>\n",
       "      <td>124218</td>\n",
       "      <td>23</td>\n",
       "      <td>92428</td>\n",
       "      <td>109</td>\n",
       "      <td>549917</td>\n",
       "      <td>101</td>\n",
       "      <td>581995</td>\n",
       "      <td>756</td>\n",
       "      <td>707</td>\n",
       "      <td>3318</td>\n",
       "      <td>3280</td>\n",
       "    </tr>\n",
       "  </tbody>\n",
       "</table>\n",
       "</div>"
      ],
      "text/plain": [
       "        date  ordersPerDateA  revenuePerDateA  ordersPerDateB  \\\n",
       "0 2019-08-01              24           148579              21   \n",
       "1 2019-08-02              20            93822              24   \n",
       "2 2019-08-03              24           112473              16   \n",
       "3 2019-08-04              16            70825              17   \n",
       "4 2019-08-05              25           124218              23   \n",
       "\n",
       "   revenuePerDateB  ordersCummulativeA  revenueCummulativeA  \\\n",
       "0           101217                  24               148579   \n",
       "1           165531                  44               242401   \n",
       "2           114248                  68               354874   \n",
       "3           108571                  84               425699   \n",
       "4            92428                 109               549917   \n",
       "\n",
       "   ordersCummulativeB  revenueCummulativeB  visitorsPerDateA  \\\n",
       "0                  21               101217               719   \n",
       "1                  45               266748               619   \n",
       "2                  61               380996               507   \n",
       "3                  78               489567               717   \n",
       "4                 101               581995               756   \n",
       "\n",
       "   visitorsPerDateB  visitorsCummulativeA  visitorsCummulativeB  \n",
       "0               713                   719                   713  \n",
       "1               581                  1338                  1294  \n",
       "2               509                  1845                  1803  \n",
       "3               770                  2562                  2573  \n",
       "4               707                  3318                  3280  "
      ]
     },
     "metadata": {},
     "output_type": "display_data"
    }
   ],
   "source": [
    "# составление таблицы со всеми данными на каждый день для обеих групп\n",
    "\n",
    "visitorsADaily = visitors[visitors['group'] == 'A'][['date', 'visitors']]\n",
    "visitorsADaily.columns = ['date', 'visitorsPerDateA']\n",
    "\n",
    "visitorsACummulative = visitorsADaily.apply(\n",
    "    lambda x: visitorsADaily[visitorsADaily['date'] <= x['date']].agg(\n",
    "        {'date': 'max', 'visitorsPerDateA': 'sum'}\n",
    "    ),\n",
    "    axis=1,\n",
    ")\n",
    "\n",
    "visitorsACummulative.columns = ['date', 'visitorsCummulativeA']\n",
    "visitorsBDaily = visitors[visitors['group'] == 'B'][['date', 'visitors']]\n",
    "visitorsBDaily.columns = ['date', 'visitorsPerDateB']\n",
    "\n",
    "visitorsBCummulative = visitorsBDaily.apply(\n",
    "    lambda x: visitorsBDaily[visitorsBDaily['date'] <= x['date']].agg(\n",
    "        {'date': 'max', 'visitorsPerDateB': 'sum'}\n",
    "    ),\n",
    "    axis=1,\n",
    ")\n",
    "\n",
    "visitorsBCummulative.columns = ['date', 'visitorsCummulativeB']\n",
    "\n",
    "ordersADaily = (\n",
    "    orders[orders['group'] == 'A'][['date', 'transactionId', 'visitorId', 'revenue']]\n",
    "    .groupby('date', as_index=False)\n",
    "    .agg({'transactionId': pd.Series.nunique, 'revenue': 'sum'})\n",
    ")\n",
    "\n",
    "ordersADaily.columns = ['date', 'ordersPerDateA', 'revenuePerDateA']\n",
    "\n",
    "ordersACummulative = ordersADaily.apply(\n",
    "    lambda x: ordersADaily[ordersADaily['date'] <= x['date']].agg(\n",
    "        {'date': 'max', 'ordersPerDateA': 'sum', 'revenuePerDateA': 'sum'}\n",
    "    ),\n",
    "    axis=1,\n",
    ").sort_values(by=['date'])\n",
    "ordersACummulative.columns = [\n",
    "    'date',\n",
    "    'ordersCummulativeA',\n",
    "    'revenueCummulativeA',\n",
    "]\n",
    "\n",
    "ordersBDaily = (\n",
    "    orders[orders['group'] == 'B'][['date', 'transactionId', 'visitorId', 'revenue']]\n",
    "    .groupby('date', as_index=False)\n",
    "    .agg({'transactionId': pd.Series.nunique, 'revenue': 'sum'})\n",
    ")\n",
    "\n",
    "ordersBDaily.columns = ['date', 'ordersPerDateB', 'revenuePerDateB']\n",
    "\n",
    "ordersBCummulative = ordersBDaily.apply(\n",
    "    lambda x: ordersBDaily[ordersBDaily['date'] <= x['date']].agg(\n",
    "        {'date': 'max', 'ordersPerDateB': 'sum', 'revenuePerDateB': 'sum'}\n",
    "    ),\n",
    "    axis=1,\n",
    ").sort_values(by=['date'])\n",
    "ordersBCummulative.columns = [\n",
    "\n",
    "    'date',\n",
    "    'ordersCummulativeB',\n",
    "    'revenueCummulativeB',\n",
    "]\n",
    "\n",
    "data = (\n",
    "    ordersADaily.merge(\n",
    "        ordersBDaily, left_on='date', right_on='date', how='left'\n",
    "    )\n",
    "    .merge(ordersACummulative, left_on='date', right_on='date', how='left')\n",
    "    .merge(ordersBCummulative, left_on='date', right_on='date', how='left')\n",
    "    .merge(visitorsADaily, left_on='date', right_on='date', how='left')\n",
    "    .merge(visitorsBDaily, left_on='date', right_on='date', how='left')\n",
    "    .merge(visitorsACummulative, left_on='date', right_on='date', how='left')\n",
    "    .merge(visitorsBCummulative, left_on='date', right_on='date', how='left')\n",
    ")\n",
    "\n",
    "# вывод таблицы со всеми данными на каждый день для обеих групп\n",
    "\n",
    "display(data.head())\n"
   ]
  },
  {
   "cell_type": "markdown",
   "metadata": {},
   "source": [
    "Далее проведён расчёт статистических значимостей различий метрик между группами А и В. Результатами расчётов выступают полученные значения p-value и рассчитанное значение относительного изменения метрики одной группы по отношению к другой.\n",
    "\n",
    "Для верной интерпретации результатов необходимо задать уровень p-value и сформулировать проверяемые гипотезы.\n",
    "\n",
    "Задаю p-value = 0,05\n",
    "\n",
    "\n",
    "Формулирую гипотезы\n",
    "\n",
    "\n",
    "* Нулевая гипотеза \n",
    "\n",
    "\n",
    "H0: данные в выборках (группах А и В) взяты из одной и той же генеральной совокупности, т.е., различий между группами А и В нет.\n",
    "\n",
    "* Альтернативная гипотеза\n",
    "\n",
    "\n",
    "H1: данные в выборках (группах А и В) взяты из разных генеральных совокупностей, т.е., есть значимые различия между группами А и В.\n",
    "\n"
   ]
  },
  {
   "cell_type": "code",
   "execution_count": 19,
   "metadata": {},
   "outputs": [
    {
     "name": "stdout",
     "output_type": "stream",
     "text": [
      "Значение p-value: 0.008\n",
      "Относительное различие конверсий в долях составляет: 0.138\n"
     ]
    }
   ],
   "source": [
    "# подсчёт статистической значимости различий в конверсии между группами А и В по «сырым» данным\n",
    "\n",
    "ordersByUsersA = (\n",
    "    orders[orders['group'] == 'A']\n",
    "    .groupby('visitorId', as_index=False)\n",
    "    .agg({'transactionId': pd.Series.nunique})\n",
    ")\n",
    "ordersByUsersA.columns = ['visitorId', 'orders']\n",
    "\n",
    "ordersByUsersB = (\n",
    "    orders[orders['group'] == 'B']\n",
    "    .groupby('visitorId', as_index=False)\n",
    "    .agg({'transactionId': pd.Series.nunique})\n",
    ")\n",
    "\n",
    "ordersByUsersB.columns = ['visitorId', 'orders']\n",
    "\n",
    "sampleA = pd.concat(\n",
    "    [\n",
    "        ordersByUsersA['orders'],\n",
    "        pd.Series(\n",
    "            0,\n",
    "            index=np.arange(\n",
    "                data['visitorsPerDateA'].sum() - len(ordersByUsersA['orders'])\n",
    "            ),\n",
    "            name='orders',\n",
    "        ),\n",
    "    ],\n",
    "    axis=0,\n",
    ")\n",
    "\n",
    "sampleB = pd.concat(\n",
    "    [\n",
    "        ordersByUsersB['orders'],\n",
    "        pd.Series(\n",
    "            0,\n",
    "            index=np.arange(\n",
    "                data['visitorsPerDateB'].sum() - len(ordersByUsersB['orders'])\n",
    "            ),\n",
    "            name='orders',\n",
    "        ),\n",
    "    ],\n",
    "    axis=0,\n",
    ")\n",
    "\n",
    "print('Значение p-value:', \"{0:.3f}\".format(stats.mannwhitneyu(sampleA, sampleB)[1]))\n",
    "\n",
    "print('Относительное различие конверсий в долях составляет:',\n",
    "      \"{0:.3f}\".format(sampleB.mean() / sampleA.mean() - 1))\n"
   ]
  },
  {
   "cell_type": "markdown",
   "metadata": {},
   "source": [
    "Если вести подсчёт по \"сырым\" данным , при задании р-value = 0.05, полученный результат означает то, что нулевая гипотеза отвергнута, т.е., статистически значимые различия в конверсиях между групп существуют. В пользу этого вывода говорит полученное значение относительного различия конверсий - 13,8%."
   ]
  },
  {
   "cell_type": "code",
   "execution_count": 20,
   "metadata": {},
   "outputs": [
    {
     "name": "stdout",
     "output_type": "stream",
     "text": [
      "Значение p-value: 0.365\n",
      "Относительное различие в среднем чеке заказа между группами в долях составляет: 0.259\n"
     ]
    }
   ],
   "source": [
    "# расчёт статистической значимости различий в среднем чеке заказа между группами по «сырым» данным\n",
    "\n",
    "print('Значение p-value:','{0:.3f}'.format(stats.mannwhitneyu(orders[orders['group']=='A']['revenue'],\n",
    "                                          orders[orders['group']=='B']['revenue'])[1]))\n",
    "print('Относительное различие в среднем чеке заказа между группами в долях составляет:',\n",
    "      '{0:.3f}'.format(orders[orders['group']=='B']['revenue'].mean()/orders[orders['group']=='A']['revenue'].mean()-1)) \n"
   ]
  },
  {
   "cell_type": "markdown",
   "metadata": {},
   "source": [
    "Результаты расчёта статистической значимости различий в среднем чеке заказа между группами по «сырым» данным парадоксальны.\n",
    "\n",
    "P-value значительно больше 0.05. Значит, причин отвергать нулевую гипотезу и считать, что в среднем чеке есть различия, нет. \n",
    "При этом, относительное различие в среднем чеке заказа между группами составляет почти 26%.\n",
    "\n",
    "Вероятно, характер результатов объясняется искажениями вследствие наличия единоразовых крупных заказов, отмеченных выше."
   ]
  },
  {
   "cell_type": "code",
   "execution_count": 21,
   "metadata": {},
   "outputs": [],
   "source": [
    "# расчёт статистической значимости различий в конверсии между группами по «очищенным» данным\n",
    "\n",
    "# фильтрация данных: исключение пользователей, совершивших более 4 заказов за время теста (1 месяц),\n",
    "# и исключение заказов, стоимостью более 28 000 ед.\n",
    "\n",
    "usersWithManyOrders = pd.concat(\n",
    "    [\n",
    "        ordersByUsersA[ordersByUsersA['orders'] > 4]['visitorId'],\n",
    "        ordersByUsersB[ordersByUsersB['orders'] > 4]['visitorId'],\n",
    "    ],\n",
    "    axis=0,\n",
    ")\n",
    "\n",
    "usersWithExpensiveOrders = orders[orders['revenue'] > 28000]['visitorId']\n",
    "abnormalUsers = (\n",
    "    pd.concat([usersWithManyOrders, usersWithExpensiveOrders], axis=0)\n",
    "    .drop_duplicates()\n",
    "    .sort_values()\n",
    ")\n"
   ]
  },
  {
   "cell_type": "code",
   "execution_count": 22,
   "metadata": {},
   "outputs": [
    {
     "name": "stdout",
     "output_type": "stream",
     "text": [
      "Значение p-value: 0.009\n",
      "Относительное различие конверсий в долях составляет: 0.145\n"
     ]
    }
   ],
   "source": [
    "# расчёт статистической значимости различий в конверсии между группами по «очищенным» данным\n",
    "\n",
    "sampleAFiltered = pd.concat(\n",
    "    [\n",
    "        ordersByUsersA[\n",
    "            np.logical_not(ordersByUsersA['visitorId'].isin(abnormalUsers))\n",
    "        ]['orders'],\n",
    "        pd.Series(\n",
    "            0,\n",
    "            index=np.arange(\n",
    "                data['visitorsPerDateA'].sum() - len(ordersByUsersA['orders'])\n",
    "            ),\n",
    "            name='orders',\n",
    "        ),\n",
    "    ],\n",
    "    axis=0,\n",
    ")\n",
    "\n",
    "sampleBFiltered = pd.concat(\n",
    "    [\n",
    "        ordersByUsersB[\n",
    "            np.logical_not(ordersByUsersB['visitorId'].isin(abnormalUsers))\n",
    "        ]['orders'],\n",
    "        pd.Series(\n",
    "            0,\n",
    "            index=np.arange(\n",
    "                data['visitorsPerDateB'].sum() - len(ordersByUsersB['orders'])\n",
    "            ),\n",
    "            name='orders',\n",
    "        ),\n",
    "    ],\n",
    "    axis=0,\n",
    ") \n",
    "\n",
    "\n",
    "print('Значение p-value:','{0:.3f}'.format(stats.mannwhitneyu(sampleAFiltered, sampleBFiltered)[1]))\n",
    "print('Относительное различие конверсий в долях составляет:',\n",
    "      '{0:.3f}'.format(sampleBFiltered.mean()/sampleAFiltered.mean()-1)) "
   ]
  },
  {
   "cell_type": "markdown",
   "metadata": {},
   "source": [
    "Подсчёт по \"очищенным\" данным , при задании р-value = 0.05, также отвергает нулевую гипотезу, т.е., статистически значимые различия в конверсиях между групп существуют. Также, это снова подтверждает полученное значение относительного различия конверсий - 14,5%.\n"
   ]
  },
  {
   "cell_type": "code",
   "execution_count": 23,
   "metadata": {},
   "outputs": [
    {
     "name": "stdout",
     "output_type": "stream",
     "text": [
      "Значение p-value: 0.481\n",
      "Относительное различие в среднем чеке заказа между группами в долях составляет: -0.014\n"
     ]
    }
   ],
   "source": [
    "# расчёт и вывод статистической значимости различий в среднем чеке заказа \n",
    "# между группами по «очищенным» данным\n",
    "\n",
    "print('Значение p-value:',\n",
    "    '{0:.3f}'.format(\n",
    "        stats.mannwhitneyu(\n",
    "            orders[\n",
    "                np.logical_and(\n",
    "                    orders['group'] == 'A',\n",
    "                    np.logical_not(orders['visitorId'].isin(abnormalUsers)),\n",
    "                )\n",
    "            ]['revenue'],\n",
    "            orders[\n",
    "                np.logical_and(\n",
    "                    orders['group'] == 'B',\n",
    "                    np.logical_not(orders['visitorId'].isin(abnormalUsers)),\n",
    "                )\n",
    "            ]['revenue'],\n",
    "        )[1]\n",
    "    )\n",
    ")\n",
    "\n",
    "print('Относительное различие в среднем чеке заказа между группами в долях составляет:',\n",
    "    \"{0:.3f}\".format(\n",
    "        orders[\n",
    "            np.logical_and(\n",
    "                orders['group'] == 'B',\n",
    "                np.logical_not(orders['visitorId'].isin(abnormalUsers)),\n",
    "            )\n",
    "        ]['revenue'].mean()\n",
    "        / orders[\n",
    "            np.logical_and(\n",
    "                orders['group'] == 'A',\n",
    "                np.logical_not(orders['visitorId'].isin(abnormalUsers)),\n",
    "            )\n",
    "        ]['revenue'].mean()\n",
    "        - 1\n",
    "    )\n",
    ") \n"
   ]
  },
  {
   "cell_type": "markdown",
   "metadata": {},
   "source": [
    "Результаты расчёта статистической значимости различий в среднем чеке заказа между группами по «очищенным» данным сильно отличаются от результата расчётов по \"сырым\" данным.\n",
    "\n",
    "P-value значительно больше 0.05. Значит, причин отвергать нулевую гипотезу и считать, что в среднем чеке есть различия, нет. \n",
    "Относительное же различие в среднем чеке заказа между группами составляет всего 1,4% (меньше значения P-value), что хорошо согласуется с полученным значением P-value, и подтверждает предположение о том, что результаты расчётов сильно искажали единоразовые крупные покупки.\n"
   ]
  },
  {
   "cell_type": "markdown",
   "metadata": {},
   "source": [
    "# Решение по результатам теста\n",
    "\n",
    "Расчёт изменения конверсии по группам дал такие результаты (расчёт по \"сырым\" данным/расчёт по \"очищенным\" данным): \n",
    "\n",
    "Значение p-value: 0.008 / 0.009\n",
    "Относительное различие конверсий в долях составляет: 0.138 / 0.145\n",
    "\n",
    "* Результаты расчётов свидетельствуют о значимом расхождении в величине конверсии в пользу группы В. В пользу такого вывода говорят графики расчёта кумулятивной конверсии по группам. Наличие выбросов в данных на результаты расчётов влияет незначительно.\n",
    "\n",
    "Расчёт изменения суммы среднего чека по группам дал такие результаты (расчёт по \"сырым\" данным/расчёт по \"очищенным\" данным): \n",
    "\n",
    "Значение p-value: 0.365 / 0.481\n",
    "Относительное различие в среднем чеке заказа между группами в долях составляет: 0.259 / -0.014\n",
    "\n",
    "* Результаты расчётов свидетельствуют о незначимом расхождении в сумме среднего чека по группам. На результаты расчётов сильно влияют выбросы. Исключение выбросов из данных нивелирует различия в сумме среднего чека.\n",
    "\n",
    "___________\n",
    "\n",
    "* Таким образом, принимается решение остановить тест, зафиксировать победу группы В.\n"
   ]
  }
 ],
 "metadata": {
  "ExecuteTimeLog": [
   {
    "duration": 2235,
    "start_time": "2022-02-07T09:14:41.003Z"
   },
   {
    "duration": 31,
    "start_time": "2022-02-07T09:15:19.320Z"
   },
   {
    "duration": 23,
    "start_time": "2022-02-07T09:18:23.575Z"
   },
   {
    "duration": 248,
    "start_time": "2022-02-07T09:18:57.066Z"
   },
   {
    "duration": 9,
    "start_time": "2022-02-07T09:19:16.522Z"
   },
   {
    "duration": 9,
    "start_time": "2022-02-07T09:20:22.383Z"
   },
   {
    "duration": 24,
    "start_time": "2022-02-07T09:31:53.005Z"
   },
   {
    "duration": 8,
    "start_time": "2022-02-07T09:33:27.304Z"
   },
   {
    "duration": 10,
    "start_time": "2022-02-07T09:33:30.855Z"
   },
   {
    "duration": 1678,
    "start_time": "2022-02-07T10:02:37.890Z"
   },
   {
    "duration": 10,
    "start_time": "2022-02-07T10:02:45.203Z"
   },
   {
    "duration": 60,
    "start_time": "2022-02-07T10:03:17.262Z"
   },
   {
    "duration": 1042,
    "start_time": "2022-02-07T10:03:20.395Z"
   },
   {
    "duration": 10,
    "start_time": "2022-02-07T10:04:30.373Z"
   },
   {
    "duration": 27,
    "start_time": "2022-02-07T10:06:20.097Z"
   },
   {
    "duration": 65,
    "start_time": "2022-02-07T10:17:04.257Z"
   },
   {
    "duration": 263,
    "start_time": "2022-02-07T10:17:26.269Z"
   },
   {
    "duration": 31,
    "start_time": "2022-02-07T10:17:33.020Z"
   },
   {
    "duration": 5,
    "start_time": "2022-02-07T10:22:27.728Z"
   },
   {
    "duration": 134,
    "start_time": "2022-02-07T10:31:09.078Z"
   },
   {
    "duration": 5,
    "start_time": "2022-02-07T10:32:30.830Z"
   },
   {
    "duration": 122,
    "start_time": "2022-02-07T10:34:58.365Z"
   },
   {
    "duration": 5,
    "start_time": "2022-02-07T10:39:04.932Z"
   },
   {
    "duration": 124,
    "start_time": "2022-02-07T11:00:09.867Z"
   },
   {
    "duration": 9,
    "start_time": "2022-02-07T11:02:51.053Z"
   },
   {
    "duration": 642,
    "start_time": "2022-02-07T14:18:04.095Z"
   },
   {
    "duration": 10,
    "start_time": "2022-02-07T14:18:04.738Z"
   },
   {
    "duration": 9,
    "start_time": "2022-02-07T14:18:04.750Z"
   },
   {
    "duration": 461,
    "start_time": "2022-02-07T14:18:04.761Z"
   },
   {
    "duration": 32,
    "start_time": "2022-02-07T14:18:05.223Z"
   },
   {
    "duration": 31,
    "start_time": "2022-02-07T14:18:05.257Z"
   },
   {
    "duration": 142,
    "start_time": "2022-02-07T14:18:05.289Z"
   },
   {
    "duration": 4,
    "start_time": "2022-02-07T14:18:05.434Z"
   },
   {
    "duration": 142,
    "start_time": "2022-02-07T14:18:05.439Z"
   },
   {
    "duration": 17,
    "start_time": "2022-02-07T14:18:05.583Z"
   },
   {
    "duration": 4,
    "start_time": "2022-02-07T14:27:13.988Z"
   },
   {
    "duration": 6,
    "start_time": "2022-02-07T14:27:40.363Z"
   },
   {
    "duration": 21900,
    "start_time": "2022-02-07T14:35:00.682Z"
   },
   {
    "duration": 249,
    "start_time": "2022-02-07T14:36:16.525Z"
   },
   {
    "duration": 5,
    "start_time": "2022-02-07T14:42:03.213Z"
   },
   {
    "duration": 5,
    "start_time": "2022-02-07T14:42:05.742Z"
   },
   {
    "duration": 70,
    "start_time": "2022-02-07T15:50:30.805Z"
   },
   {
    "duration": 65,
    "start_time": "2022-02-07T15:50:33.920Z"
   },
   {
    "duration": 238,
    "start_time": "2022-02-07T15:50:57.790Z"
   },
   {
    "duration": 5734,
    "start_time": "2022-02-07T15:52:02.037Z"
   },
   {
    "duration": 89,
    "start_time": "2022-02-07T15:53:22.672Z"
   },
   {
    "duration": 73,
    "start_time": "2022-02-07T15:54:56.088Z"
   },
   {
    "duration": 31,
    "start_time": "2022-02-07T15:55:40.218Z"
   },
   {
    "duration": 32,
    "start_time": "2022-02-07T15:55:51.807Z"
   },
   {
    "duration": 34,
    "start_time": "2022-02-07T15:56:46.089Z"
   },
   {
    "duration": 363,
    "start_time": "2022-02-07T16:16:51.013Z"
   },
   {
    "duration": 3,
    "start_time": "2022-02-07T16:19:30.013Z"
   },
   {
    "duration": 5716,
    "start_time": "2022-02-07T16:25:22.971Z"
   },
   {
    "duration": 374,
    "start_time": "2022-02-07T16:26:51.520Z"
   },
   {
    "duration": 398,
    "start_time": "2022-02-07T16:27:05.657Z"
   },
   {
    "duration": 239,
    "start_time": "2022-02-07T16:29:53.639Z"
   },
   {
    "duration": 236,
    "start_time": "2022-02-07T16:30:52.509Z"
   },
   {
    "duration": 235,
    "start_time": "2022-02-07T16:41:38.370Z"
   },
   {
    "duration": 234,
    "start_time": "2022-02-07T16:49:46.452Z"
   },
   {
    "duration": 312,
    "start_time": "2022-02-07T16:54:18.628Z"
   },
   {
    "duration": 225,
    "start_time": "2022-02-07T17:03:12.597Z"
   },
   {
    "duration": 201,
    "start_time": "2022-02-07T17:03:53.214Z"
   },
   {
    "duration": 244,
    "start_time": "2022-02-07T17:04:07.437Z"
   },
   {
    "duration": 371,
    "start_time": "2022-02-07T17:10:08.284Z"
   },
   {
    "duration": 5529,
    "start_time": "2022-02-07T18:53:39.558Z"
   },
   {
    "duration": 413,
    "start_time": "2022-02-07T18:54:33.114Z"
   },
   {
    "duration": 290,
    "start_time": "2022-02-07T18:57:07.956Z"
   },
   {
    "duration": 390,
    "start_time": "2022-02-07T18:57:27.023Z"
   },
   {
    "duration": 287,
    "start_time": "2022-02-07T18:57:42.545Z"
   },
   {
    "duration": 131,
    "start_time": "2022-02-07T19:05:02.103Z"
   },
   {
    "duration": 392,
    "start_time": "2022-02-07T19:05:49.158Z"
   },
   {
    "duration": 427,
    "start_time": "2022-02-07T19:12:02.610Z"
   },
   {
    "duration": 392,
    "start_time": "2022-02-07T19:15:16.938Z"
   },
   {
    "duration": 3,
    "start_time": "2022-02-07T19:17:11.734Z"
   },
   {
    "duration": 361,
    "start_time": "2022-02-07T19:17:19.999Z"
   },
   {
    "duration": 5,
    "start_time": "2022-02-07T19:17:58.277Z"
   },
   {
    "duration": 5242,
    "start_time": "2022-02-07T19:24:09.220Z"
   },
   {
    "duration": 315,
    "start_time": "2022-02-07T19:24:56.940Z"
   },
   {
    "duration": 301,
    "start_time": "2022-02-07T19:25:29.246Z"
   },
   {
    "duration": 5,
    "start_time": "2022-02-07T19:33:56.387Z"
   },
   {
    "duration": 233,
    "start_time": "2022-02-07T19:43:54.919Z"
   },
   {
    "duration": 132,
    "start_time": "2022-02-07T19:45:15.340Z"
   },
   {
    "duration": 88,
    "start_time": "2022-02-07T19:48:23.913Z"
   },
   {
    "duration": 155,
    "start_time": "2022-02-07T19:48:36.867Z"
   },
   {
    "duration": 393,
    "start_time": "2022-02-08T08:34:37.155Z"
   },
   {
    "duration": 596,
    "start_time": "2022-02-08T08:34:47.333Z"
   },
   {
    "duration": 7,
    "start_time": "2022-02-08T08:34:47.931Z"
   },
   {
    "duration": 6,
    "start_time": "2022-02-08T08:34:47.942Z"
   },
   {
    "duration": 406,
    "start_time": "2022-02-08T08:34:47.950Z"
   },
   {
    "duration": 41,
    "start_time": "2022-02-08T08:34:48.358Z"
   },
   {
    "duration": 329,
    "start_time": "2022-02-08T08:34:48.401Z"
   },
   {
    "duration": 292,
    "start_time": "2022-02-08T08:34:48.732Z"
   },
   {
    "duration": 181,
    "start_time": "2022-02-08T08:34:49.025Z"
   },
   {
    "duration": 258,
    "start_time": "2022-02-08T08:34:49.207Z"
   },
   {
    "duration": 197,
    "start_time": "2022-02-08T08:34:49.466Z"
   },
   {
    "duration": 295,
    "start_time": "2022-02-08T08:34:49.665Z"
   },
   {
    "duration": 139,
    "start_time": "2022-02-08T08:34:49.962Z"
   },
   {
    "duration": 1,
    "start_time": "2022-02-08T08:34:50.103Z"
   },
   {
    "duration": 494,
    "start_time": "2022-02-08T08:34:50.106Z"
   },
   {
    "duration": 1419,
    "start_time": "2022-02-08T08:34:49.182Z"
   },
   {
    "duration": 1415,
    "start_time": "2022-02-08T08:34:49.187Z"
   },
   {
    "duration": 1410,
    "start_time": "2022-02-08T08:34:49.193Z"
   },
   {
    "duration": 1405,
    "start_time": "2022-02-08T08:34:49.199Z"
   },
   {
    "duration": 275,
    "start_time": "2022-02-08T08:39:40.444Z"
   },
   {
    "duration": 3,
    "start_time": "2022-02-08T08:39:44.267Z"
   },
   {
    "duration": 4,
    "start_time": "2022-02-08T08:40:10.660Z"
   },
   {
    "duration": 314,
    "start_time": "2022-02-08T08:40:12.859Z"
   },
   {
    "duration": 4,
    "start_time": "2022-02-08T08:40:16.630Z"
   },
   {
    "duration": 1370,
    "start_time": "2022-02-08T08:40:19.053Z"
   },
   {
    "duration": 612,
    "start_time": "2022-02-08T08:40:44.440Z"
   },
   {
    "duration": 7,
    "start_time": "2022-02-08T08:40:45.054Z"
   },
   {
    "duration": 9,
    "start_time": "2022-02-08T08:40:45.065Z"
   },
   {
    "duration": 374,
    "start_time": "2022-02-08T08:40:45.075Z"
   },
   {
    "duration": 26,
    "start_time": "2022-02-08T08:40:45.451Z"
   },
   {
    "duration": 439,
    "start_time": "2022-02-08T08:40:45.478Z"
   },
   {
    "duration": 288,
    "start_time": "2022-02-08T08:40:45.920Z"
   },
   {
    "duration": 180,
    "start_time": "2022-02-08T08:40:46.210Z"
   },
   {
    "duration": 263,
    "start_time": "2022-02-08T08:40:46.392Z"
   },
   {
    "duration": 193,
    "start_time": "2022-02-08T08:40:46.657Z"
   },
   {
    "duration": 303,
    "start_time": "2022-02-08T08:40:46.851Z"
   },
   {
    "duration": 97,
    "start_time": "2022-02-08T08:40:47.156Z"
   },
   {
    "duration": 291,
    "start_time": "2022-02-08T08:40:47.255Z"
   },
   {
    "duration": 3,
    "start_time": "2022-02-08T08:40:47.548Z"
   },
   {
    "duration": 7,
    "start_time": "2022-02-08T08:40:47.552Z"
   },
   {
    "duration": 313,
    "start_time": "2022-02-08T08:40:47.560Z"
   },
   {
    "duration": 4,
    "start_time": "2022-02-08T08:40:47.875Z"
   },
   {
    "duration": 461,
    "start_time": "2022-02-08T08:40:47.880Z"
   },
   {
    "duration": 413,
    "start_time": "2022-02-08T08:57:09.081Z"
   },
   {
    "duration": 7285,
    "start_time": "2022-02-08T08:59:28.376Z"
   },
   {
    "duration": 6669,
    "start_time": "2022-02-08T09:00:10.032Z"
   },
   {
    "duration": 237,
    "start_time": "2022-02-08T09:01:01.235Z"
   },
   {
    "duration": 244,
    "start_time": "2022-02-08T09:01:18.450Z"
   },
   {
    "duration": 115,
    "start_time": "2022-02-08T09:01:58.151Z"
   },
   {
    "duration": 11,
    "start_time": "2022-02-08T09:05:49.188Z"
   },
   {
    "duration": 10,
    "start_time": "2022-02-08T09:07:35.286Z"
   },
   {
    "duration": 9,
    "start_time": "2022-02-08T09:08:57.837Z"
   },
   {
    "duration": 6708,
    "start_time": "2022-02-08T09:21:42.112Z"
   },
   {
    "duration": 8513,
    "start_time": "2022-02-08T09:22:23.691Z"
   },
   {
    "duration": 120,
    "start_time": "2022-02-08T09:23:33.572Z"
   },
   {
    "duration": 10,
    "start_time": "2022-02-08T09:23:42.655Z"
   },
   {
    "duration": 7,
    "start_time": "2022-02-08T09:23:49.506Z"
   },
   {
    "duration": 8,
    "start_time": "2022-02-08T09:24:10.711Z"
   },
   {
    "duration": 7,
    "start_time": "2022-02-08T09:24:17.946Z"
   },
   {
    "duration": 11,
    "start_time": "2022-02-08T09:26:22.468Z"
   },
   {
    "duration": 6579,
    "start_time": "2022-02-08T09:32:10.531Z"
   },
   {
    "duration": 6924,
    "start_time": "2022-02-08T09:32:50.861Z"
   },
   {
    "duration": 11320,
    "start_time": "2022-02-08T09:36:30.472Z"
   },
   {
    "duration": 8,
    "start_time": "2022-02-08T09:37:20.705Z"
   },
   {
    "duration": 7620,
    "start_time": "2022-02-08T09:37:27.969Z"
   },
   {
    "duration": 8,
    "start_time": "2022-02-08T09:37:46.864Z"
   },
   {
    "duration": 13,
    "start_time": "2022-02-08T09:37:57.665Z"
   },
   {
    "duration": 2,
    "start_time": "2022-02-08T10:02:04.932Z"
   },
   {
    "duration": 6360,
    "start_time": "2022-02-08T10:02:07.451Z"
   },
   {
    "duration": 7554,
    "start_time": "2022-02-08T10:02:59.969Z"
   },
   {
    "duration": 462,
    "start_time": "2022-02-08T10:25:03.191Z"
   },
   {
    "duration": 304,
    "start_time": "2022-02-08T10:26:38.735Z"
   },
   {
    "duration": 111,
    "start_time": "2022-02-08T10:35:56.415Z"
   },
   {
    "duration": 92,
    "start_time": "2022-02-08T10:51:27.677Z"
   },
   {
    "duration": 83,
    "start_time": "2022-02-08T10:51:41.161Z"
   },
   {
    "duration": 104,
    "start_time": "2022-02-08T10:51:59.319Z"
   },
   {
    "duration": 9,
    "start_time": "2022-02-08T10:52:17.105Z"
   },
   {
    "duration": 12,
    "start_time": "2022-02-08T10:52:47.193Z"
   },
   {
    "duration": 10,
    "start_time": "2022-02-08T10:53:04.917Z"
   },
   {
    "duration": 14,
    "start_time": "2022-02-08T10:53:53.116Z"
   },
   {
    "duration": 11,
    "start_time": "2022-02-08T10:54:48.265Z"
   },
   {
    "duration": 315,
    "start_time": "2022-02-08T10:55:56.493Z"
   },
   {
    "duration": 434,
    "start_time": "2022-02-08T11:12:01.956Z"
   },
   {
    "duration": 178,
    "start_time": "2022-02-08T11:12:20.239Z"
   },
   {
    "duration": 850,
    "start_time": "2022-02-08T17:21:50.441Z"
   },
   {
    "duration": 18,
    "start_time": "2022-02-08T17:21:51.294Z"
   },
   {
    "duration": 15,
    "start_time": "2022-02-08T17:21:51.315Z"
   },
   {
    "duration": 452,
    "start_time": "2022-02-08T17:21:51.333Z"
   },
   {
    "duration": 33,
    "start_time": "2022-02-08T17:21:51.788Z"
   },
   {
    "duration": 20,
    "start_time": "2022-02-08T17:21:51.824Z"
   },
   {
    "duration": 652,
    "start_time": "2022-02-08T17:21:51.847Z"
   },
   {
    "duration": 506,
    "start_time": "2022-02-08T17:21:52.501Z"
   },
   {
    "duration": 447,
    "start_time": "2022-02-08T17:21:53.011Z"
   },
   {
    "duration": 429,
    "start_time": "2022-02-08T17:21:53.461Z"
   },
   {
    "duration": 387,
    "start_time": "2022-02-08T17:21:53.893Z"
   },
   {
    "duration": 508,
    "start_time": "2022-02-08T17:21:54.284Z"
   },
   {
    "duration": 200,
    "start_time": "2022-02-08T17:21:54.795Z"
   },
   {
    "duration": 416,
    "start_time": "2022-02-08T17:21:54.998Z"
   },
   {
    "duration": 10,
    "start_time": "2022-02-08T17:21:55.416Z"
   },
   {
    "duration": 417,
    "start_time": "2022-02-08T17:21:55.429Z"
   },
   {
    "duration": 5,
    "start_time": "2022-02-08T17:21:55.849Z"
   },
   {
    "duration": 489,
    "start_time": "2022-02-08T17:21:55.857Z"
   },
   {
    "duration": 256,
    "start_time": "2022-02-08T17:21:56.349Z"
   },
   {
    "duration": 28,
    "start_time": "2022-02-08T17:21:56.607Z"
   },
   {
    "duration": 11,
    "start_time": "2022-02-08T17:21:56.638Z"
   },
   {
    "duration": 19,
    "start_time": "2022-02-08T17:21:56.651Z"
   },
   {
    "duration": 59,
    "start_time": "2022-02-08T17:21:56.673Z"
   },
   {
    "duration": 100,
    "start_time": "2022-02-09T09:36:41.504Z"
   },
   {
    "duration": 3,
    "start_time": "2022-02-09T09:37:52.740Z"
   },
   {
    "duration": 785,
    "start_time": "2022-02-09T09:38:04.110Z"
   },
   {
    "duration": 2,
    "start_time": "2022-02-09T09:38:04.898Z"
   },
   {
    "duration": 29,
    "start_time": "2022-02-09T09:38:04.906Z"
   },
   {
    "duration": 12,
    "start_time": "2022-02-09T09:38:04.937Z"
   },
   {
    "duration": 494,
    "start_time": "2022-02-09T09:38:04.951Z"
   },
   {
    "duration": 31,
    "start_time": "2022-02-09T09:38:05.447Z"
   },
   {
    "duration": 17,
    "start_time": "2022-02-09T09:38:05.482Z"
   },
   {
    "duration": 631,
    "start_time": "2022-02-09T09:38:05.501Z"
   },
   {
    "duration": 474,
    "start_time": "2022-02-09T09:38:06.134Z"
   },
   {
    "duration": 324,
    "start_time": "2022-02-09T09:38:06.611Z"
   },
   {
    "duration": 400,
    "start_time": "2022-02-09T09:38:06.938Z"
   },
   {
    "duration": 347,
    "start_time": "2022-02-09T09:38:07.340Z"
   },
   {
    "duration": 448,
    "start_time": "2022-02-09T09:38:07.690Z"
   },
   {
    "duration": 186,
    "start_time": "2022-02-09T09:38:08.140Z"
   },
   {
    "duration": 385,
    "start_time": "2022-02-09T09:38:08.329Z"
   },
   {
    "duration": 15,
    "start_time": "2022-02-09T09:38:08.717Z"
   },
   {
    "duration": 411,
    "start_time": "2022-02-09T09:38:08.735Z"
   },
   {
    "duration": 6,
    "start_time": "2022-02-09T09:38:09.148Z"
   },
   {
    "duration": 569,
    "start_time": "2022-02-09T09:38:09.157Z"
   },
   {
    "duration": 240,
    "start_time": "2022-02-09T09:38:09.733Z"
   },
   {
    "duration": 16,
    "start_time": "2022-02-09T09:38:09.976Z"
   },
   {
    "duration": 11,
    "start_time": "2022-02-09T09:38:09.998Z"
   },
   {
    "duration": 21,
    "start_time": "2022-02-09T09:38:10.033Z"
   },
   {
    "duration": 22,
    "start_time": "2022-02-09T09:38:10.057Z"
   },
   {
    "duration": 85,
    "start_time": "2022-02-09T09:38:34.444Z"
   },
   {
    "duration": 3,
    "start_time": "2022-02-09T09:50:23.449Z"
   },
   {
    "duration": 725,
    "start_time": "2022-02-09T09:52:06.146Z"
   },
   {
    "duration": 606,
    "start_time": "2022-02-09T09:52:31.058Z"
   },
   {
    "duration": 683,
    "start_time": "2022-02-09T09:52:51.851Z"
   },
   {
    "duration": 315,
    "start_time": "2022-02-09T09:53:18.772Z"
   },
   {
    "duration": 320,
    "start_time": "2022-02-09T09:53:28.176Z"
   },
   {
    "duration": 322,
    "start_time": "2022-02-09T09:53:48.283Z"
   },
   {
    "duration": 465,
    "start_time": "2022-02-09T09:53:57.170Z"
   },
   {
    "duration": 367,
    "start_time": "2022-02-09T09:54:37.937Z"
   },
   {
    "duration": 421,
    "start_time": "2022-02-09T09:54:46.061Z"
   },
   {
    "duration": 106,
    "start_time": "2022-02-09T09:58:16.297Z"
   },
   {
    "duration": 317,
    "start_time": "2022-02-09T10:00:34.687Z"
   },
   {
    "duration": 314,
    "start_time": "2022-02-09T10:00:41.513Z"
   },
   {
    "duration": 439,
    "start_time": "2022-02-09T10:00:49.703Z"
   },
   {
    "duration": 339,
    "start_time": "2022-02-09T10:00:56.525Z"
   },
   {
    "duration": 524,
    "start_time": "2022-02-09T10:01:08.233Z"
   },
   {
    "duration": 97,
    "start_time": "2022-02-09T10:03:12.565Z"
   },
   {
    "duration": 599,
    "start_time": "2022-02-09T10:03:29.635Z"
   },
   {
    "duration": 315,
    "start_time": "2022-02-09T10:06:03.612Z"
   },
   {
    "duration": 368,
    "start_time": "2022-02-09T10:07:22.697Z"
   },
   {
    "duration": 361,
    "start_time": "2022-02-09T10:07:29.077Z"
   },
   {
    "duration": 328,
    "start_time": "2022-02-09T10:29:07.166Z"
   },
   {
    "duration": 330,
    "start_time": "2022-02-09T10:29:19.997Z"
   },
   {
    "duration": 346,
    "start_time": "2022-02-09T10:29:50.566Z"
   },
   {
    "duration": 768,
    "start_time": "2022-02-09T10:31:39.769Z"
   },
   {
    "duration": 115,
    "start_time": "2022-02-09T10:32:09.953Z"
   },
   {
    "duration": 617,
    "start_time": "2022-02-09T10:38:21.500Z"
   },
   {
    "duration": 359,
    "start_time": "2022-02-09T10:39:39.400Z"
   },
   {
    "duration": 633,
    "start_time": "2022-02-09T10:40:17.741Z"
   },
   {
    "duration": 457,
    "start_time": "2022-02-09T10:40:53.279Z"
   },
   {
    "duration": 109,
    "start_time": "2022-02-09T10:42:44.445Z"
   },
   {
    "duration": 361,
    "start_time": "2022-02-09T10:43:00.271Z"
   },
   {
    "duration": 354,
    "start_time": "2022-02-09T10:46:06.545Z"
   },
   {
    "duration": 446,
    "start_time": "2022-02-09T10:47:06.052Z"
   },
   {
    "duration": 352,
    "start_time": "2022-02-09T10:48:19.074Z"
   },
   {
    "duration": 472,
    "start_time": "2022-02-09T10:48:47.133Z"
   },
   {
    "duration": 439,
    "start_time": "2022-02-09T10:49:11.563Z"
   },
   {
    "duration": 408,
    "start_time": "2022-02-09T10:51:24.648Z"
   },
   {
    "duration": 396,
    "start_time": "2022-02-09T10:51:36.153Z"
   },
   {
    "duration": 423,
    "start_time": "2022-02-09T10:53:18.644Z"
   },
   {
    "duration": 454,
    "start_time": "2022-02-09T10:53:32.309Z"
   },
   {
    "duration": 382,
    "start_time": "2022-02-09T10:54:28.251Z"
   },
   {
    "duration": 428,
    "start_time": "2022-02-09T10:55:10.614Z"
   },
   {
    "duration": 402,
    "start_time": "2022-02-09T10:55:24.780Z"
   },
   {
    "duration": 445,
    "start_time": "2022-02-09T10:59:03.019Z"
   },
   {
    "duration": 826,
    "start_time": "2022-02-09T10:59:12.848Z"
   },
   {
    "duration": 3,
    "start_time": "2022-02-09T10:59:13.677Z"
   },
   {
    "duration": 17,
    "start_time": "2022-02-09T10:59:13.683Z"
   },
   {
    "duration": 30,
    "start_time": "2022-02-09T10:59:13.703Z"
   },
   {
    "duration": 484,
    "start_time": "2022-02-09T10:59:13.736Z"
   },
   {
    "duration": 37,
    "start_time": "2022-02-09T10:59:14.223Z"
   },
   {
    "duration": 15,
    "start_time": "2022-02-09T10:59:14.263Z"
   },
   {
    "duration": 636,
    "start_time": "2022-02-09T10:59:14.281Z"
   },
   {
    "duration": 532,
    "start_time": "2022-02-09T10:59:14.920Z"
   },
   {
    "duration": 377,
    "start_time": "2022-02-09T10:59:15.455Z"
   },
   {
    "duration": 489,
    "start_time": "2022-02-09T10:59:15.834Z"
   },
   {
    "duration": 370,
    "start_time": "2022-02-09T10:59:16.333Z"
   },
   {
    "duration": 482,
    "start_time": "2022-02-09T10:59:16.706Z"
   },
   {
    "duration": 200,
    "start_time": "2022-02-09T10:59:17.191Z"
   },
   {
    "duration": 450,
    "start_time": "2022-02-09T10:59:17.393Z"
   },
   {
    "duration": 5,
    "start_time": "2022-02-09T10:59:17.846Z"
   },
   {
    "duration": 545,
    "start_time": "2022-02-09T10:59:17.853Z"
   },
   {
    "duration": 5,
    "start_time": "2022-02-09T10:59:18.401Z"
   },
   {
    "duration": 469,
    "start_time": "2022-02-09T10:59:18.408Z"
   },
   {
    "duration": 238,
    "start_time": "2022-02-09T10:59:18.880Z"
   },
   {
    "duration": 20,
    "start_time": "2022-02-09T10:59:19.121Z"
   },
   {
    "duration": 13,
    "start_time": "2022-02-09T10:59:19.143Z"
   },
   {
    "duration": 19,
    "start_time": "2022-02-09T10:59:19.160Z"
   },
   {
    "duration": 52,
    "start_time": "2022-02-09T10:59:19.181Z"
   },
   {
    "duration": 807,
    "start_time": "2022-02-09T16:59:27.947Z"
   },
   {
    "duration": 2,
    "start_time": "2022-02-09T16:59:28.757Z"
   },
   {
    "duration": 33,
    "start_time": "2022-02-09T16:59:28.762Z"
   },
   {
    "duration": 20,
    "start_time": "2022-02-09T16:59:28.798Z"
   },
   {
    "duration": 491,
    "start_time": "2022-02-09T16:59:28.820Z"
   },
   {
    "duration": 32,
    "start_time": "2022-02-09T16:59:29.314Z"
   },
   {
    "duration": 19,
    "start_time": "2022-02-09T16:59:29.350Z"
   },
   {
    "duration": 716,
    "start_time": "2022-02-09T16:59:29.374Z"
   },
   {
    "duration": 544,
    "start_time": "2022-02-09T16:59:30.094Z"
   },
   {
    "duration": 355,
    "start_time": "2022-02-09T16:59:30.641Z"
   },
   {
    "duration": 490,
    "start_time": "2022-02-09T16:59:30.999Z"
   },
   {
    "duration": 389,
    "start_time": "2022-02-09T16:59:31.492Z"
   },
   {
    "duration": 545,
    "start_time": "2022-02-09T16:59:31.885Z"
   },
   {
    "duration": 235,
    "start_time": "2022-02-09T16:59:32.434Z"
   },
   {
    "duration": 389,
    "start_time": "2022-02-09T16:59:32.671Z"
   },
   {
    "duration": 7,
    "start_time": "2022-02-09T16:59:33.063Z"
   },
   {
    "duration": 404,
    "start_time": "2022-02-09T16:59:33.073Z"
   },
   {
    "duration": 7,
    "start_time": "2022-02-09T16:59:33.480Z"
   },
   {
    "duration": 551,
    "start_time": "2022-02-09T16:59:33.490Z"
   },
   {
    "duration": 271,
    "start_time": "2022-02-09T16:59:34.048Z"
   },
   {
    "duration": 30,
    "start_time": "2022-02-09T16:59:34.322Z"
   },
   {
    "duration": 11,
    "start_time": "2022-02-09T16:59:34.355Z"
   },
   {
    "duration": 18,
    "start_time": "2022-02-09T16:59:34.372Z"
   },
   {
    "duration": 64,
    "start_time": "2022-02-09T16:59:34.394Z"
   },
   {
    "duration": 621,
    "start_time": "2022-02-10T07:43:50.135Z"
   },
   {
    "duration": 49,
    "start_time": "2022-02-10T07:46:34.387Z"
   },
   {
    "duration": 8,
    "start_time": "2022-02-10T07:46:42.165Z"
   },
   {
    "duration": 8,
    "start_time": "2022-02-10T07:46:46.455Z"
   },
   {
    "duration": 568,
    "start_time": "2022-02-10T07:47:26.789Z"
   },
   {
    "duration": 7,
    "start_time": "2022-02-10T07:47:27.359Z"
   },
   {
    "duration": 7,
    "start_time": "2022-02-10T07:47:27.370Z"
   },
   {
    "duration": 464,
    "start_time": "2022-02-10T07:47:27.379Z"
   },
   {
    "duration": 50,
    "start_time": "2022-02-10T07:47:27.845Z"
   },
   {
    "duration": 11,
    "start_time": "2022-02-10T07:47:27.896Z"
   },
   {
    "duration": 330,
    "start_time": "2022-02-10T07:47:27.909Z"
   },
   {
    "duration": 301,
    "start_time": "2022-02-10T07:47:28.241Z"
   },
   {
    "duration": 195,
    "start_time": "2022-02-10T07:47:28.544Z"
   },
   {
    "duration": 342,
    "start_time": "2022-02-10T07:47:28.741Z"
   },
   {
    "duration": 201,
    "start_time": "2022-02-10T07:47:29.084Z"
   },
   {
    "duration": 323,
    "start_time": "2022-02-10T07:47:29.286Z"
   },
   {
    "duration": 104,
    "start_time": "2022-02-10T07:47:29.610Z"
   },
   {
    "duration": 270,
    "start_time": "2022-02-10T07:47:29.716Z"
   },
   {
    "duration": 4,
    "start_time": "2022-02-10T07:47:29.987Z"
   },
   {
    "duration": 284,
    "start_time": "2022-02-10T07:47:29.993Z"
   },
   {
    "duration": 4,
    "start_time": "2022-02-10T07:47:30.278Z"
   },
   {
    "duration": 256,
    "start_time": "2022-02-10T07:47:30.284Z"
   },
   {
    "duration": 124,
    "start_time": "2022-02-10T07:47:30.541Z"
   },
   {
    "duration": 9,
    "start_time": "2022-02-10T07:47:30.671Z"
   },
   {
    "duration": 24,
    "start_time": "2022-02-10T07:47:30.682Z"
   },
   {
    "duration": 12,
    "start_time": "2022-02-10T07:47:30.709Z"
   },
   {
    "duration": 12,
    "start_time": "2022-02-10T07:47:30.722Z"
   },
   {
    "duration": 8,
    "start_time": "2022-02-10T07:48:00.885Z"
   },
   {
    "duration": 7,
    "start_time": "2022-02-10T07:48:09.024Z"
   },
   {
    "duration": 8,
    "start_time": "2022-02-10T07:48:22.168Z"
   },
   {
    "duration": 8,
    "start_time": "2022-02-10T07:48:29.731Z"
   },
   {
    "duration": 7,
    "start_time": "2022-02-10T07:48:41.397Z"
   },
   {
    "duration": 8,
    "start_time": "2022-02-10T07:48:47.292Z"
   },
   {
    "duration": 7,
    "start_time": "2022-02-10T07:50:57.946Z"
   },
   {
    "duration": 294,
    "start_time": "2022-02-10T07:55:55.807Z"
   },
   {
    "duration": 647,
    "start_time": "2022-02-10T07:56:30.328Z"
   },
   {
    "duration": 481,
    "start_time": "2022-02-10T07:56:42.414Z"
   },
   {
    "duration": 686,
    "start_time": "2022-02-10T07:56:52.543Z"
   },
   {
    "duration": 413,
    "start_time": "2022-02-10T07:57:04.504Z"
   },
   {
    "duration": 313,
    "start_time": "2022-02-10T07:57:29.026Z"
   },
   {
    "duration": 393,
    "start_time": "2022-02-10T07:57:39.400Z"
   },
   {
    "duration": 308,
    "start_time": "2022-02-10T07:57:49.776Z"
   },
   {
    "duration": 320,
    "start_time": "2022-02-10T07:58:01.598Z"
   },
   {
    "duration": 396,
    "start_time": "2022-02-10T07:58:32.866Z"
   },
   {
    "duration": 311,
    "start_time": "2022-02-10T07:58:42.535Z"
   },
   {
    "duration": 329,
    "start_time": "2022-02-10T07:59:01.480Z"
   }
  ],
  "kernelspec": {
   "display_name": "Python 3",
   "language": "python",
   "name": "python3"
  },
  "language_info": {
   "codemirror_mode": {
    "name": "ipython",
    "version": 3
   },
   "file_extension": ".py",
   "mimetype": "text/x-python",
   "name": "python",
   "nbconvert_exporter": "python",
   "pygments_lexer": "ipython3",
   "version": "3.7.8"
  },
  "toc": {
   "base_numbering": 1,
   "nav_menu": {},
   "number_sections": true,
   "sideBar": true,
   "skip_h1_title": true,
   "title_cell": "Table of Contents",
   "title_sidebar": "Contents",
   "toc_cell": false,
   "toc_position": {},
   "toc_section_display": true,
   "toc_window_display": false
  }
 },
 "nbformat": 4,
 "nbformat_minor": 2
}
