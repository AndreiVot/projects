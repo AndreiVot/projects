{
 "cells": [
  {
   "cell_type": "markdown",
   "metadata": {},
   "source": [
    "# Описание проекта\n",
    "\n",
    "Аналитика компании «Мегалайн» — федерального оператора сотовой связи. Клиентам предлагают два тарифных плана: «Смарт» и «Ультра». Чтобы скорректировать рекламный бюджет, коммерческий департамент хочет понять, какой тариф приносит больше денег.\n",
    "Необходимо сделать предварительный анализ тарифов на небольшой выборке клиентов. В распоряжении данные 500 пользователей «Мегалайна»: кто они, откуда, каким тарифом пользуются, сколько звонков и сообщений каждый отправил за 2018 год. Нужно проанализировать поведение клиентов и сделать вывод — какой тариф лучше."
   ]
  },
  {
   "cell_type": "markdown",
   "metadata": {},
   "source": [
    "Описание тарифов\n",
    "\n",
    "\n",
    "Тариф «Смарт»\n",
    "\n",
    " 1. Ежемесячная плата: 550 рублей\n",
    " 2. Включено 500 минут разговора, 50 сообщений и 15 Гб интернет-трафика\n",
    " 3. Стоимость услуг сверх тарифного пакета: 1. минута разговора: 3 рубля («Мегалайн» всегда округляет вверх значения минут и мегабайтов. Если пользователь проговорил всего 1 секунду, в тарифе засчитывается целая минута); 2. сообщение: 3 рубля; 3. 1 Гб интернет-трафика: 200 рублей.\n",
    "\n",
    "\n",
    "Тариф «Ультра»\n",
    "\n",
    "1. Ежемесячная плата: 1950 рублей\n",
    "2. Включено 3000 минут разговора, 1000 сообщений и 30 Гб интернет-трафика\n",
    "3. Стоимость услуг сверх тарифного пакета: 1. минута разговора: 1 рубль; 2. сообщение: 1 рубль; 3. 1 Гб интернет-трафика: 150 рублей.\n",
    "\n",
    "\n",
    "Примечание:\n",
    "\n",
    "«Мегалайн» всегда округляет секунды до минут, а мегабайты — до гигабайт. Каждый звонок округляется отдельно: даже если он длился всего 1 секунду, будет засчитан как 1 минута.\n",
    "Для веб-трафика отдельные сессии не считаются. Вместо этого общая сумма за месяц округляется в бо́льшую сторону. Если абонент использует 1025 мегабайт в этом месяце, с него возьмут плату за 2 гигабайта."
   ]
  },
  {
   "cell_type": "markdown",
   "metadata": {},
   "source": [
    "Шаг 1. Открытие файла с данными и изучение общей информации"
   ]
  },
  {
   "cell_type": "code",
   "execution_count": null,
   "metadata": {},
   "outputs": [],
   "source": [
    "# общая распаковка всех датасетов\n",
    "import pandas as pd\n",
    "\n",
    "calls = pd.read_csv('/datasets/calls.csv')\n",
    "internet = pd.read_csv('/datasets/internet.csv')\n",
    "messages = pd.read_csv('/datasets/messages.csv')\n",
    "tariffs = pd.read_csv('/datasets/tariffs.csv')\n",
    "users = pd.read_csv('/datasets/users.csv')"
   ]
  },
  {
   "cell_type": "code",
   "execution_count": 2,
   "metadata": {},
   "outputs": [
    {
     "data": {
      "text/html": [
       "<div>\n",
       "<style scoped>\n",
       "    .dataframe tbody tr th:only-of-type {\n",
       "        vertical-align: middle;\n",
       "    }\n",
       "\n",
       "    .dataframe tbody tr th {\n",
       "        vertical-align: top;\n",
       "    }\n",
       "\n",
       "    .dataframe thead th {\n",
       "        text-align: right;\n",
       "    }\n",
       "</style>\n",
       "<table border=\"1\" class=\"dataframe\">\n",
       "  <thead>\n",
       "    <tr style=\"text-align: right;\">\n",
       "      <th></th>\n",
       "      <th>id</th>\n",
       "      <th>call_date</th>\n",
       "      <th>duration</th>\n",
       "      <th>user_id</th>\n",
       "    </tr>\n",
       "  </thead>\n",
       "  <tbody>\n",
       "    <tr>\n",
       "      <td>0</td>\n",
       "      <td>1000_0</td>\n",
       "      <td>2018-07-25</td>\n",
       "      <td>0.00</td>\n",
       "      <td>1000</td>\n",
       "    </tr>\n",
       "    <tr>\n",
       "      <td>1</td>\n",
       "      <td>1000_1</td>\n",
       "      <td>2018-08-17</td>\n",
       "      <td>0.00</td>\n",
       "      <td>1000</td>\n",
       "    </tr>\n",
       "    <tr>\n",
       "      <td>2</td>\n",
       "      <td>1000_2</td>\n",
       "      <td>2018-06-11</td>\n",
       "      <td>2.85</td>\n",
       "      <td>1000</td>\n",
       "    </tr>\n",
       "    <tr>\n",
       "      <td>3</td>\n",
       "      <td>1000_3</td>\n",
       "      <td>2018-09-21</td>\n",
       "      <td>13.80</td>\n",
       "      <td>1000</td>\n",
       "    </tr>\n",
       "    <tr>\n",
       "      <td>4</td>\n",
       "      <td>1000_4</td>\n",
       "      <td>2018-12-15</td>\n",
       "      <td>5.18</td>\n",
       "      <td>1000</td>\n",
       "    </tr>\n",
       "  </tbody>\n",
       "</table>\n",
       "</div>"
      ],
      "text/plain": [
       "       id   call_date  duration  user_id\n",
       "0  1000_0  2018-07-25      0.00     1000\n",
       "1  1000_1  2018-08-17      0.00     1000\n",
       "2  1000_2  2018-06-11      2.85     1000\n",
       "3  1000_3  2018-09-21     13.80     1000\n",
       "4  1000_4  2018-12-15      5.18     1000"
      ]
     },
     "metadata": {},
     "output_type": "display_data"
    },
    {
     "data": {
      "text/html": [
       "<div>\n",
       "<style scoped>\n",
       "    .dataframe tbody tr th:only-of-type {\n",
       "        vertical-align: middle;\n",
       "    }\n",
       "\n",
       "    .dataframe tbody tr th {\n",
       "        vertical-align: top;\n",
       "    }\n",
       "\n",
       "    .dataframe thead th {\n",
       "        text-align: right;\n",
       "    }\n",
       "</style>\n",
       "<table border=\"1\" class=\"dataframe\">\n",
       "  <thead>\n",
       "    <tr style=\"text-align: right;\">\n",
       "      <th></th>\n",
       "      <th>id</th>\n",
       "      <th>call_date</th>\n",
       "      <th>duration</th>\n",
       "      <th>user_id</th>\n",
       "    </tr>\n",
       "  </thead>\n",
       "  <tbody>\n",
       "    <tr>\n",
       "      <td>202602</td>\n",
       "      <td>1499_215</td>\n",
       "      <td>2018-12-26</td>\n",
       "      <td>0.76</td>\n",
       "      <td>1499</td>\n",
       "    </tr>\n",
       "    <tr>\n",
       "      <td>202603</td>\n",
       "      <td>1499_216</td>\n",
       "      <td>2018-10-18</td>\n",
       "      <td>18.83</td>\n",
       "      <td>1499</td>\n",
       "    </tr>\n",
       "    <tr>\n",
       "      <td>202604</td>\n",
       "      <td>1499_217</td>\n",
       "      <td>2018-11-10</td>\n",
       "      <td>10.81</td>\n",
       "      <td>1499</td>\n",
       "    </tr>\n",
       "    <tr>\n",
       "      <td>202605</td>\n",
       "      <td>1499_218</td>\n",
       "      <td>2018-10-06</td>\n",
       "      <td>4.27</td>\n",
       "      <td>1499</td>\n",
       "    </tr>\n",
       "    <tr>\n",
       "      <td>202606</td>\n",
       "      <td>1499_219</td>\n",
       "      <td>2018-12-14</td>\n",
       "      <td>19.62</td>\n",
       "      <td>1499</td>\n",
       "    </tr>\n",
       "  </tbody>\n",
       "</table>\n",
       "</div>"
      ],
      "text/plain": [
       "              id   call_date  duration  user_id\n",
       "202602  1499_215  2018-12-26      0.76     1499\n",
       "202603  1499_216  2018-10-18     18.83     1499\n",
       "202604  1499_217  2018-11-10     10.81     1499\n",
       "202605  1499_218  2018-10-06      4.27     1499\n",
       "202606  1499_219  2018-12-14     19.62     1499"
      ]
     },
     "metadata": {},
     "output_type": "display_data"
    },
    {
     "name": "stdout",
     "output_type": "stream",
     "text": [
      "Пропуски в таблице calls:\n",
      "id           0\n",
      "call_date    0\n",
      "duration     0\n",
      "user_id      0\n",
      "dtype: int64\n",
      "\n",
      "Всего уникальных пользователей (user_id): 492\n",
      "\n",
      "Самые активные пользователи, user_id - количество звонков(записей)\n",
      "1377    1760\n",
      "1168    1692\n",
      "1375    1560\n",
      "1453    1440\n",
      "1196    1240\n",
      "        ... \n",
      "1397      33\n",
      "1442      28\n",
      "1373      24\n",
      "1016      20\n",
      "1257      14\n",
      "Name: user_id, Length: 492, dtype: int64\n",
      "\n",
      "\n",
      "Общая информация о таблице\n",
      "\n",
      "<class 'pandas.core.frame.DataFrame'>\n",
      "RangeIndex: 202607 entries, 0 to 202606\n",
      "Data columns (total 4 columns):\n",
      "id           202607 non-null object\n",
      "call_date    202607 non-null object\n",
      "duration     202607 non-null float64\n",
      "user_id      202607 non-null int64\n",
      "dtypes: float64(1), int64(1), object(2)\n",
      "memory usage: 6.2+ MB\n"
     ]
    }
   ],
   "source": [
    "# вывод первых и последних строк таблицы calls, первые данные о содержимом таблицы\n",
    "display(calls.head())\n",
    "display(calls.tail())\n",
    "print('Пропуски в таблице calls:') \n",
    "print(calls.isna().sum())\n",
    "print()\n",
    "print('Всего уникальных пользователей (user_id):', len(calls['user_id'].unique()))\n",
    "print()\n",
    "print('Самые активные пользователи, user_id - количество звонков(записей)')\n",
    "print(calls['user_id'].value_counts())\n",
    "print()\n",
    "print()\n",
    "print('Общая информация о таблице')\n",
    "print()\n",
    "calls.info()"
   ]
  },
  {
   "cell_type": "markdown",
   "metadata": {},
   "source": [
    "Датасет calls (информация о звонках):\n",
    "\n",
    "Датасет содержит 202607 строк, 4 столбца.\n",
    "\n",
    "•\tid — уникальный номер звонка; тип данных - object\n",
    "\n",
    "•\tcall_date — дата звонка; тип данных - object, \n",
    "формат записи даты: год-месяц-день\n",
    "\n",
    "•\tduration — длительность звонка в минутах; тип данных - float64\n",
    "\n",
    "•\tuser_id — идентификатор пользователя, сделавшего звонок; тип данных - int64.\n",
    "\n",
    "   Всего 492 уникальных пользователя.\n",
    "   \n",
    "   Исходя из вывода верха и низа таблицы, видно, что нумерация не сплошная, есть пропуски, т.е., из 500 пользователей звонки совершали 492 клиента (492 уникальных id), 8 клиентов не пользовались звонками. \n",
    "   При этом, часть клиентов пользовалась звонками значительно (на два порядка) чаще других. Например, пользователь № 1377 совершил 1760 звонков, тогда, как пользователь № 1257 совершил только  14 звонков.\n",
    "\n",
    "Пропусков в таблице на этом этапе не обнаружено. "
   ]
  },
  {
   "cell_type": "code",
   "execution_count": 3,
   "metadata": {},
   "outputs": [
    {
     "name": "stdout",
     "output_type": "stream",
     "text": [
      "Максимальная длительность звонка в минутах: 38.0\n",
      "\n",
      "Минимальная длительность звонка в минутах: 0.0\n",
      "\n",
      "Средняя длительность звонка в минутах: 6.755887210214849\n"
     ]
    },
    {
     "data": {
      "text/plain": [
       "<matplotlib.axes._subplots.AxesSubplot at 0x7fbd2a535810>"
      ]
     },
     "execution_count": 3,
     "metadata": {},
     "output_type": "execute_result"
    },
    {
     "data": {
      "image/png": "[encoded data removed]",
      "text/plain": [
       "<Figure size 432x288 with 1 Axes>"
      ]
     },
     "metadata": {
      "needs_background": "light"
     },
     "output_type": "display_data"
    }
   ],
   "source": [
    "# данные о длительности звонков\n",
    "print('Максимальная длительность звонка в минутах:', calls['duration'].max())\n",
    "print()\n",
    "print('Минимальная длительность звонка в минутах:', calls['duration'].min())\n",
    "print()\n",
    "print('Средняя длительность звонка в минутах:', calls['duration'].mean())\n",
    "calls['duration'].hist(bins = 100, range = (0, 30))"
   ]
  },
  {
   "cell_type": "code",
   "execution_count": 4,
   "metadata": {},
   "outputs": [
    {
     "name": "stdout",
     "output_type": "stream",
     "text": [
      "Верхняя граница значений в минутах, выше которой значения признаются выбросами: 24.799999999999997\n"
     ]
    },
    {
     "data": {
      "image/png": "[encoded data removed]",
      "text/plain": [
       "<Figure size 432x288 with 1 Axes>"
      ]
     },
     "metadata": {
      "needs_background": "light"
     },
     "output_type": "display_data"
    }
   ],
   "source": [
    "# определение границы выбросов\n",
    "import matplotlib.pyplot as plt \n",
    "\n",
    "calls.boxplot('duration')\n",
    "plt.ylim(0, 30)\n",
    "\n",
    "# рассчёт верхней границы выбросов значений столбца duration\n",
    "q1 = calls['duration'].quantile(0.25)\n",
    "q3 = calls['duration'].quantile(0.75)\n",
    "iqr = q3 - q1  \n",
    "print('Верхняя граница значений в минутах, выше которой значения признаются выбросами:', (q3 + 1.5 * iqr))"
   ]
  },
  {
   "cell_type": "code",
   "execution_count": 5,
   "metadata": {},
   "outputs": [
    {
     "name": "stdout",
     "output_type": "stream",
     "text": [
      "Количество звонков длительностью 0 минут: 39613\n",
      "Количество звонков, длительность которых более 24,8 минуты: 743\n"
     ]
    },
    {
     "data": {
      "image/png": "[encoded data removed]",
      "text/plain": [
       "<Figure size 432x288 with 1 Axes>"
      ]
     },
     "metadata": {
      "needs_background": "light"
     },
     "output_type": "display_data"
    }
   ],
   "source": [
    "# сверхкороткие звонки не дают увидеть картину в целом\n",
    "# рассмотрим крайние значения подробнее и гистограмму без звонков, длительностью 0 минут\n",
    "calls['duration'].hist(bins = 100, range = (0.1, 25))\n",
    "print('Количество звонков длительностью 0 минут:', \n",
    "      len(calls.loc[calls['duration']== 0]))\n",
    "print('Количество звонков, длительность которых более 24,8 минуты:', \n",
    "      len(calls.loc[calls['duration'] > 24.8]))"
   ]
  },
  {
   "cell_type": "markdown",
   "metadata": {},
   "source": [
    "************* Данные таблицы CALLS\n",
    "\n",
    "Таблица содержит данные о звонках, длительностью 0 минут. Таких звонков значительное количество - 39613 звонков, что составляет 19,6% всех звонков.\n",
    "\n",
    "Также, таблица содержит данные о необычно длительных звонках, более 24,8 минут, максимальная длительность звонка составляет 38 минут. С точки зрения диаграммы распределения, такие значения длительности звонков являются выбросами. Необычно длинных звонков - 743, что составляет 0,37% всех звонков.\n",
    "\n",
    "Распределение промежуточных значений длительности звонков (более нуля минут до 25 минут) нормальное, гистограмма имеет колоколообразный вид с хвостом справа. Средняя длительность звонка составляет 6,8 минуты (медианное значение отличается от среднего незначительно), что соответствует максимуму на гистограмме. Гистограмма имеет сплошной равномерный вид, выпадающих значений и выделяющихся пиков нет."
   ]
  },
  {
   "cell_type": "code",
   "execution_count": 6,
   "metadata": {},
   "outputs": [
    {
     "data": {
      "text/html": [
       "<div>\n",
       "<style scoped>\n",
       "    .dataframe tbody tr th:only-of-type {\n",
       "        vertical-align: middle;\n",
       "    }\n",
       "\n",
       "    .dataframe tbody tr th {\n",
       "        vertical-align: top;\n",
       "    }\n",
       "\n",
       "    .dataframe thead th {\n",
       "        text-align: right;\n",
       "    }\n",
       "</style>\n",
       "<table border=\"1\" class=\"dataframe\">\n",
       "  <thead>\n",
       "    <tr style=\"text-align: right;\">\n",
       "      <th></th>\n",
       "      <th>Unnamed: 0</th>\n",
       "      <th>id</th>\n",
       "      <th>mb_used</th>\n",
       "      <th>session_date</th>\n",
       "      <th>user_id</th>\n",
       "    </tr>\n",
       "  </thead>\n",
       "  <tbody>\n",
       "    <tr>\n",
       "      <td>0</td>\n",
       "      <td>0</td>\n",
       "      <td>1000_0</td>\n",
       "      <td>112.95</td>\n",
       "      <td>2018-11-25</td>\n",
       "      <td>1000</td>\n",
       "    </tr>\n",
       "    <tr>\n",
       "      <td>1</td>\n",
       "      <td>1</td>\n",
       "      <td>1000_1</td>\n",
       "      <td>1052.81</td>\n",
       "      <td>2018-09-07</td>\n",
       "      <td>1000</td>\n",
       "    </tr>\n",
       "    <tr>\n",
       "      <td>2</td>\n",
       "      <td>2</td>\n",
       "      <td>1000_2</td>\n",
       "      <td>1197.26</td>\n",
       "      <td>2018-06-25</td>\n",
       "      <td>1000</td>\n",
       "    </tr>\n",
       "    <tr>\n",
       "      <td>3</td>\n",
       "      <td>3</td>\n",
       "      <td>1000_3</td>\n",
       "      <td>550.27</td>\n",
       "      <td>2018-08-22</td>\n",
       "      <td>1000</td>\n",
       "    </tr>\n",
       "    <tr>\n",
       "      <td>4</td>\n",
       "      <td>4</td>\n",
       "      <td>1000_4</td>\n",
       "      <td>302.56</td>\n",
       "      <td>2018-09-24</td>\n",
       "      <td>1000</td>\n",
       "    </tr>\n",
       "  </tbody>\n",
       "</table>\n",
       "</div>"
      ],
      "text/plain": [
       "   Unnamed: 0      id  mb_used session_date  user_id\n",
       "0           0  1000_0   112.95   2018-11-25     1000\n",
       "1           1  1000_1  1052.81   2018-09-07     1000\n",
       "2           2  1000_2  1197.26   2018-06-25     1000\n",
       "3           3  1000_3   550.27   2018-08-22     1000\n",
       "4           4  1000_4   302.56   2018-09-24     1000"
      ]
     },
     "metadata": {},
     "output_type": "display_data"
    },
    {
     "data": {
      "text/html": [
       "<div>\n",
       "<style scoped>\n",
       "    .dataframe tbody tr th:only-of-type {\n",
       "        vertical-align: middle;\n",
       "    }\n",
       "\n",
       "    .dataframe tbody tr th {\n",
       "        vertical-align: top;\n",
       "    }\n",
       "\n",
       "    .dataframe thead th {\n",
       "        text-align: right;\n",
       "    }\n",
       "</style>\n",
       "<table border=\"1\" class=\"dataframe\">\n",
       "  <thead>\n",
       "    <tr style=\"text-align: right;\">\n",
       "      <th></th>\n",
       "      <th>Unnamed: 0</th>\n",
       "      <th>id</th>\n",
       "      <th>mb_used</th>\n",
       "      <th>session_date</th>\n",
       "      <th>user_id</th>\n",
       "    </tr>\n",
       "  </thead>\n",
       "  <tbody>\n",
       "    <tr>\n",
       "      <td>149391</td>\n",
       "      <td>149391</td>\n",
       "      <td>1499_152</td>\n",
       "      <td>318.90</td>\n",
       "      <td>2018-10-03</td>\n",
       "      <td>1499</td>\n",
       "    </tr>\n",
       "    <tr>\n",
       "      <td>149392</td>\n",
       "      <td>149392</td>\n",
       "      <td>1499_153</td>\n",
       "      <td>490.13</td>\n",
       "      <td>2018-12-14</td>\n",
       "      <td>1499</td>\n",
       "    </tr>\n",
       "    <tr>\n",
       "      <td>149393</td>\n",
       "      <td>149393</td>\n",
       "      <td>1499_154</td>\n",
       "      <td>0.00</td>\n",
       "      <td>2018-10-27</td>\n",
       "      <td>1499</td>\n",
       "    </tr>\n",
       "    <tr>\n",
       "      <td>149394</td>\n",
       "      <td>149394</td>\n",
       "      <td>1499_155</td>\n",
       "      <td>1246.32</td>\n",
       "      <td>2018-11-26</td>\n",
       "      <td>1499</td>\n",
       "    </tr>\n",
       "    <tr>\n",
       "      <td>149395</td>\n",
       "      <td>149395</td>\n",
       "      <td>1499_156</td>\n",
       "      <td>544.37</td>\n",
       "      <td>2018-10-26</td>\n",
       "      <td>1499</td>\n",
       "    </tr>\n",
       "  </tbody>\n",
       "</table>\n",
       "</div>"
      ],
      "text/plain": [
       "        Unnamed: 0        id  mb_used session_date  user_id\n",
       "149391      149391  1499_152   318.90   2018-10-03     1499\n",
       "149392      149392  1499_153   490.13   2018-12-14     1499\n",
       "149393      149393  1499_154     0.00   2018-10-27     1499\n",
       "149394      149394  1499_155  1246.32   2018-11-26     1499\n",
       "149395      149395  1499_156   544.37   2018-10-26     1499"
      ]
     },
     "metadata": {},
     "output_type": "display_data"
    },
    {
     "name": "stdout",
     "output_type": "stream",
     "text": [
      "Пропуски в таблице internet:\n",
      "Unnamed: 0      0\n",
      "id              0\n",
      "mb_used         0\n",
      "session_date    0\n",
      "user_id         0\n",
      "dtype: int64\n",
      "\n",
      "Всего уникальных пользователей (user_id): 497\n",
      "\n",
      "Самые активные пользователи, user_id - количество интернет-сессий(записей)\n",
      "1496    834\n",
      "1227    812\n",
      "1204    789\n",
      "1240    764\n",
      "1251    759\n",
      "       ... \n",
      "1151     35\n",
      "1467     27\n",
      "1343     26\n",
      "1192     22\n",
      "1399      8\n",
      "Name: user_id, Length: 497, dtype: int64\n",
      "\n",
      "\n",
      "Общая информация о таблице\n",
      "\n",
      "<class 'pandas.core.frame.DataFrame'>\n",
      "RangeIndex: 149396 entries, 0 to 149395\n",
      "Data columns (total 5 columns):\n",
      "Unnamed: 0      149396 non-null int64\n",
      "id              149396 non-null object\n",
      "mb_used         149396 non-null float64\n",
      "session_date    149396 non-null object\n",
      "user_id         149396 non-null int64\n",
      "dtypes: float64(1), int64(2), object(2)\n",
      "memory usage: 5.7+ MB\n"
     ]
    }
   ],
   "source": [
    "# вывод первых и последних строк таблицы internet, первые данные о содержимом таблицы\n",
    "display(internet.head())\n",
    "display(internet.tail())\n",
    "print('Пропуски в таблице internet:') \n",
    "print(internet.isna().sum())\n",
    "print()\n",
    "print('Всего уникальных пользователей (user_id):', len(internet['user_id'].unique()))\n",
    "print()\n",
    "print('Самые активные пользователи, user_id - количество интернет-сессий(записей)')\n",
    "print(internet['user_id'].value_counts())\n",
    "print()\n",
    "print()\n",
    "print('Общая информация о таблице')\n",
    "print()\n",
    "internet.info()"
   ]
  },
  {
   "cell_type": "markdown",
   "metadata": {},
   "source": [
    "Датасет internet (информация об интернет-сессиях):\n",
    "\n",
    "Датасет содержит 149396 строк, 5 столбцов.\n",
    "\n",
    "•\tid — уникальный номер сессии; тип данных - object\n",
    "\n",
    "•\tmb_used — объём потраченного за сессию интернет-трафика (в мегабайтах);  тип данных - float64\n",
    "\n",
    "•\tsession_date — дата интернет-сессии;  тип данных - object, формат записи даты: год-месяц-день\n",
    "\n",
    "•\tuser_id — идентификатор пользователя;  тип данных - int64\n",
    "\n",
    "Всего 497 уникальных пользователей.\n",
    "\n",
    "Исходя из вывода верха и низа таблицы, видно, что нумерация не сплошная, есть пропуски, т.е., из 500 пользователей интернет-сессии были у 497 клиентов (497 уникальных id), 3 клиента не пользовались интернетом. При этом, часть клиентов пользовалась интернетом значительно (на два порядка) чаще других. Например, пользователь №1496 совершил 834 интернет-сессии, тогда, как пользователь № 1399 совершил только 8 интернет-сессий.\n",
    "\n",
    "Таблица содержит столбец \"Unnamed: 0\" содержащий данные, не обозначенные в спецификации к проекту, содержащий объекты типа int64, и дублирующий значения индекса строки. Вероятно, столбец не имеет смысла, и подлежит удалению.\n",
    "\n",
    "Пропусков в таблице на этом этапе не обнаружено."
   ]
  },
  {
   "cell_type": "code",
   "execution_count": 7,
   "metadata": {},
   "outputs": [
    {
     "name": "stdout",
     "output_type": "stream",
     "text": [
      "Максимальное количество потреблённого трафика в мегабайтах: 1724.83\n",
      "\n",
      "Минимальное количество потреблённого трафика в мегабайтах: 0.0\n",
      "\n",
      "Среднее количество потреблённого трафика в мегабайтах: 370.1924263701839\n"
     ]
    },
    {
     "data": {
      "text/plain": [
       "<matplotlib.axes._subplots.AxesSubplot at 0x7fbd28b44050>"
      ]
     },
     "execution_count": 7,
     "metadata": {},
     "output_type": "execute_result"
    },
    {
     "data": {
      "image/png": "[encoded data removed]",
      "text/plain": [
       "<Figure size 432x288 with 1 Axes>"
      ]
     },
     "metadata": {
      "needs_background": "light"
     },
     "output_type": "display_data"
    }
   ],
   "source": [
    "# данные об интернет-сессиях с точки зрения потреблённого трафика\n",
    "print('Максимальное количество потреблённого трафика в мегабайтах:', internet['mb_used'].max())\n",
    "print()\n",
    "print('Минимальное количество потреблённого трафика в мегабайтах:', internet['mb_used'].min())\n",
    "print()\n",
    "print('Среднее количество потреблённого трафика в мегабайтах:', internet['mb_used'].mean())\n",
    "internet['mb_used'].hist(bins = 100, range = (0, 1000))"
   ]
  },
  {
   "cell_type": "code",
   "execution_count": 8,
   "metadata": {},
   "outputs": [
    {
     "name": "stdout",
     "output_type": "stream",
     "text": [
      "Верхняя граница значений в мегабайтах, выше которой значения признаются выбросами: 1191.6\n"
     ]
    },
    {
     "data": {
      "image/png": "[encoded data removed]",
      "text/plain": [
       "<Figure size 432x288 with 1 Axes>"
      ]
     },
     "metadata": {
      "needs_background": "light"
     },
     "output_type": "display_data"
    }
   ],
   "source": [
    "# определение границы выбросов\n",
    "\n",
    "internet.boxplot('mb_used')\n",
    "plt.ylim(0, 1300)\n",
    "\n",
    "# рассчёт верхней границы выбросов значений столбца mb_used\n",
    "q1 = internet['mb_used'].quantile(0.25)\n",
    "q3 = internet['mb_used'].quantile(0.75)\n",
    "iqr = q3 - q1  \n",
    "print('Верхняя граница значений в мегабайтах, выше которой значения признаются выбросами:', \n",
    "      (q3 + 1.5 * iqr))"
   ]
  },
  {
   "cell_type": "code",
   "execution_count": 9,
   "metadata": {},
   "outputs": [
    {
     "name": "stdout",
     "output_type": "stream",
     "text": [
      "Количество интернет-сессий с потреблением трафика 0 мегабайт: 19598\n",
      "Количество интернет-сессий с потреблением трафика более 1191.6 мегабайт: 543\n"
     ]
    },
    {
     "data": {
      "image/png": "[encoded data removed]",
      "text/plain": [
       "<Figure size 432x288 with 1 Axes>"
      ]
     },
     "metadata": {
      "needs_background": "light"
     },
     "output_type": "display_data"
    }
   ],
   "source": [
    "# визуализация данных без крайних значений\n",
    "# данные о крайних значениях\n",
    "internet['mb_used'].hist(bins = 100, range = (0.1, 1200))\n",
    "print('Количество интернет-сессий с потреблением трафика 0 мегабайт:',\n",
    "      len(internet.loc[internet['mb_used']== 0]))\n",
    "print('Количество интернет-сессий с потреблением трафика более 1191.6 мегабайт:',\n",
    "      len(internet.loc[internet['mb_used'] > 1191.6]))"
   ]
  },
  {
   "cell_type": "markdown",
   "metadata": {},
   "source": [
    "***** Данные таблицы INTERNET\n",
    "\n",
    "Таблица содержит данные об интернет-сессиях без потреблениях трафика (потреблённый трафик составляет ноль мегабайт). Таких интернет-сессий значительное количество - 19598, что составляет более 13,1% всех интернет-сессий.\n",
    "\n",
    "Также, таблица содержит данные об интернет-сессиях с необычно большим потреблёнием трафика, более 1191.6 мегабайт, максимальное потребление трафика за одну интернет-сессию составляет 1724.83 мегабайт. С точки зрения диаграммы распределения, такие значения потреблённого трафика являются выбросами. Число интернет-сессий с необычно большим потреблённым трафиком - 543, что составляет 0,36% всех интернет-сессий.\n",
    "\n",
    "Распределение промежуточных значений потреблённого трафика в интернет-сессиях (более нуля мегабайт до 1200 мегабайт) нормальное, гистограмма имеет колоколообразный вид с хвостом справа. Среднее потребление трафика составляет 370,2 мегабайта, что немного правее максимума на гистограмме (максимум соответствует медианному значению, около 350 мегабайт). Гистограмма имеет сплошной равномерный вид, выпадающих значений и выделяющихся пиков нет."
   ]
  },
  {
   "cell_type": "code",
   "execution_count": 10,
   "metadata": {},
   "outputs": [
    {
     "data": {
      "text/html": [
       "<div>\n",
       "<style scoped>\n",
       "    .dataframe tbody tr th:only-of-type {\n",
       "        vertical-align: middle;\n",
       "    }\n",
       "\n",
       "    .dataframe tbody tr th {\n",
       "        vertical-align: top;\n",
       "    }\n",
       "\n",
       "    .dataframe thead th {\n",
       "        text-align: right;\n",
       "    }\n",
       "</style>\n",
       "<table border=\"1\" class=\"dataframe\">\n",
       "  <thead>\n",
       "    <tr style=\"text-align: right;\">\n",
       "      <th></th>\n",
       "      <th>id</th>\n",
       "      <th>message_date</th>\n",
       "      <th>user_id</th>\n",
       "    </tr>\n",
       "  </thead>\n",
       "  <tbody>\n",
       "    <tr>\n",
       "      <td>0</td>\n",
       "      <td>1000_0</td>\n",
       "      <td>2018-06-27</td>\n",
       "      <td>1000</td>\n",
       "    </tr>\n",
       "    <tr>\n",
       "      <td>1</td>\n",
       "      <td>1000_1</td>\n",
       "      <td>2018-10-08</td>\n",
       "      <td>1000</td>\n",
       "    </tr>\n",
       "    <tr>\n",
       "      <td>2</td>\n",
       "      <td>1000_2</td>\n",
       "      <td>2018-08-04</td>\n",
       "      <td>1000</td>\n",
       "    </tr>\n",
       "    <tr>\n",
       "      <td>3</td>\n",
       "      <td>1000_3</td>\n",
       "      <td>2018-06-16</td>\n",
       "      <td>1000</td>\n",
       "    </tr>\n",
       "    <tr>\n",
       "      <td>4</td>\n",
       "      <td>1000_4</td>\n",
       "      <td>2018-12-05</td>\n",
       "      <td>1000</td>\n",
       "    </tr>\n",
       "  </tbody>\n",
       "</table>\n",
       "</div>"
      ],
      "text/plain": [
       "       id message_date  user_id\n",
       "0  1000_0   2018-06-27     1000\n",
       "1  1000_1   2018-10-08     1000\n",
       "2  1000_2   2018-08-04     1000\n",
       "3  1000_3   2018-06-16     1000\n",
       "4  1000_4   2018-12-05     1000"
      ]
     },
     "metadata": {},
     "output_type": "display_data"
    },
    {
     "data": {
      "text/html": [
       "<div>\n",
       "<style scoped>\n",
       "    .dataframe tbody tr th:only-of-type {\n",
       "        vertical-align: middle;\n",
       "    }\n",
       "\n",
       "    .dataframe tbody tr th {\n",
       "        vertical-align: top;\n",
       "    }\n",
       "\n",
       "    .dataframe thead th {\n",
       "        text-align: right;\n",
       "    }\n",
       "</style>\n",
       "<table border=\"1\" class=\"dataframe\">\n",
       "  <thead>\n",
       "    <tr style=\"text-align: right;\">\n",
       "      <th></th>\n",
       "      <th>id</th>\n",
       "      <th>message_date</th>\n",
       "      <th>user_id</th>\n",
       "    </tr>\n",
       "  </thead>\n",
       "  <tbody>\n",
       "    <tr>\n",
       "      <td>123031</td>\n",
       "      <td>1499_179</td>\n",
       "      <td>2018-12-12</td>\n",
       "      <td>1499</td>\n",
       "    </tr>\n",
       "    <tr>\n",
       "      <td>123032</td>\n",
       "      <td>1499_180</td>\n",
       "      <td>2018-09-28</td>\n",
       "      <td>1499</td>\n",
       "    </tr>\n",
       "    <tr>\n",
       "      <td>123033</td>\n",
       "      <td>1499_181</td>\n",
       "      <td>2018-09-27</td>\n",
       "      <td>1499</td>\n",
       "    </tr>\n",
       "    <tr>\n",
       "      <td>123034</td>\n",
       "      <td>1499_182</td>\n",
       "      <td>2018-11-15</td>\n",
       "      <td>1499</td>\n",
       "    </tr>\n",
       "    <tr>\n",
       "      <td>123035</td>\n",
       "      <td>1499_183</td>\n",
       "      <td>2018-11-16</td>\n",
       "      <td>1499</td>\n",
       "    </tr>\n",
       "  </tbody>\n",
       "</table>\n",
       "</div>"
      ],
      "text/plain": [
       "              id message_date  user_id\n",
       "123031  1499_179   2018-12-12     1499\n",
       "123032  1499_180   2018-09-28     1499\n",
       "123033  1499_181   2018-09-27     1499\n",
       "123034  1499_182   2018-11-15     1499\n",
       "123035  1499_183   2018-11-16     1499"
      ]
     },
     "metadata": {},
     "output_type": "display_data"
    },
    {
     "name": "stdout",
     "output_type": "stream",
     "text": [
      "Пропуски в таблице messages:\n",
      "id              0\n",
      "message_date    0\n",
      "user_id         0\n",
      "dtype: int64\n",
      "\n",
      "Всего уникальных пользователей (user_id): 426\n",
      "\n",
      "Самые активные пользователи, user_id - количество отправленных сообщений(записей)\n",
      "1277    1463\n",
      "1089    1408\n",
      "1231    1384\n",
      "1385    1380\n",
      "1356    1224\n",
      "        ... \n",
      "1389       6\n",
      "1279       5\n",
      "1074       3\n",
      "1159       2\n",
      "1141       1\n",
      "Name: user_id, Length: 426, dtype: int64\n",
      "\n",
      "\n",
      "Общая информация о таблице\n",
      "\n",
      "<class 'pandas.core.frame.DataFrame'>\n",
      "RangeIndex: 123036 entries, 0 to 123035\n",
      "Data columns (total 3 columns):\n",
      "id              123036 non-null object\n",
      "message_date    123036 non-null object\n",
      "user_id         123036 non-null int64\n",
      "dtypes: int64(1), object(2)\n",
      "memory usage: 2.8+ MB\n"
     ]
    }
   ],
   "source": [
    "# вывод первых и последних строк таблицы calls, первые данные о содержимом таблицы\n",
    "display(messages.head())\n",
    "display(messages.tail())\n",
    "print('Пропуски в таблице messages:') \n",
    "print(messages.isna().sum())\n",
    "print()\n",
    "print('Всего уникальных пользователей (user_id):', len(messages['user_id'].unique()))\n",
    "print()\n",
    "print('Самые активные пользователи, user_id - количество отправленных сообщений(записей)')\n",
    "print(messages['user_id'].value_counts())\n",
    "print()\n",
    "print()\n",
    "print('Общая информация о таблице')\n",
    "print()\n",
    "messages.info()"
   ]
  },
  {
   "cell_type": "markdown",
   "metadata": {},
   "source": [
    "Датасет messages (информация о сообщениях):\n",
    "\n",
    "Датасет содержит 123036 строк, 3 столбца.\n",
    "\n",
    "•\tid — уникальный номер сообщения; тип данных - object\n",
    "\n",
    "•\tmessage_date — дата сообщения; тип данных - object, формат записи даты: год-месяц-день\n",
    "\n",
    "•\tuser_id — идентификатор пользователя, отправившего сообщение; тип данных - int64.\n",
    "\n",
    "Всего 426 уникальных пользователя.\n",
    "\n",
    "Исходя из вывода верха и низа таблицы, видно, что нумерация не сплошная, есть довольно много пропусков, т.е., из 500 пользователей отправляли сообщения 426 клиентов (426 уникальных id), 74 клиента не пользовались отправкой сообщений. При этом, часть клиентов пользовалась отправкой сообщений значительно (на три с половиной порядка) чаще других. Например, пользователь №1277 отправил   1463  сообщения, тогда, как пользователь №1141 отправил всего 1 сообщение.\n",
    "\n",
    "Пропусков в таблице на этом этапе не обнаружено.\n"
   ]
  },
  {
   "cell_type": "code",
   "execution_count": 11,
   "metadata": {},
   "outputs": [
    {
     "name": "stdout",
     "output_type": "stream",
     "text": [
      "Максимальное количество отправленных сообщений: 1463\n",
      "\n",
      "Минимальное количество отправленных сообщений: 1\n",
      "\n",
      "Среднее количество отправленных сообщений: 288.8169014084507\n"
     ]
    },
    {
     "data": {
      "text/plain": [
       "<matplotlib.axes._subplots.AxesSubplot at 0x7fbd2024a690>"
      ]
     },
     "execution_count": 11,
     "metadata": {},
     "output_type": "execute_result"
    },
    {
     "data": {
      "image/png": "[encoded data removed]",
      "text/plain": [
       "<Figure size 432x288 with 1 Axes>"
      ]
     },
     "metadata": {
      "needs_background": "light"
     },
     "output_type": "display_data"
    }
   ],
   "source": [
    "# данные о сообщениях\n",
    "print('Максимальное количество отправленных сообщений:', messages['user_id'].value_counts().max())\n",
    "print()\n",
    "print('Минимальное количество отправленных сообщений:', messages['user_id'].value_counts().min())\n",
    "print()\n",
    "print('Среднее количество отправленных сообщений:', messages['user_id'].value_counts().mean())\n",
    "messages['user_id'].value_counts().hist(bins = 100, range = (0, 1500))"
   ]
  },
  {
   "cell_type": "code",
   "execution_count": 12,
   "metadata": {},
   "outputs": [
    {
     "name": "stdout",
     "output_type": "stream",
     "text": [
      "Верхняя граница количества отправленных сообщений, выше которой значения признаются выбросами: 906.375\n"
     ]
    },
    {
     "data": {
      "image/png": "[encoded data removed]",
      "text/plain": [
       "<Figure size 432x288 with 1 Axes>"
      ]
     },
     "metadata": {
      "needs_background": "light"
     },
     "output_type": "display_data"
    }
   ],
   "source": [
    "# определение границы выбросов\n",
    "\n",
    "messages['user_id'].value_counts().plot.box()\n",
    "plt.ylim(0, 1500)\n",
    "\n",
    "# рассчёт верхней границы выбросов значений столбца mb_used\n",
    "q1 = messages['user_id'].value_counts().quantile(0.25)\n",
    "q3 = messages['user_id'].value_counts().quantile(0.75)\n",
    "iqr = q3 - q1  \n",
    "print('Верхняя граница количества отправленных сообщений, выше которой значения признаются выбросами:', \n",
    "      (q3 + 1.5 * iqr))"
   ]
  },
  {
   "cell_type": "code",
   "execution_count": 13,
   "metadata": {},
   "outputs": [
    {
     "data": {
      "text/plain": [
       "<matplotlib.axes._subplots.AxesSubplot at 0x7fbd20045f10>"
      ]
     },
     "execution_count": 13,
     "metadata": {},
     "output_type": "execute_result"
    },
    {
     "data": {
      "image/png": "[encoded data removed]",
      "text/plain": [
       "<Figure size 432x288 with 1 Axes>"
      ]
     },
     "metadata": {
      "needs_background": "light"
     },
     "output_type": "display_data"
    }
   ],
   "source": [
    "# визуализация данных без крайних значений\n",
    "# данные о крайних значениях\n",
    "\n",
    "messages['user_id'].value_counts().hist(bins = 100, range = (0, 910))"
   ]
  },
  {
   "cell_type": "markdown",
   "metadata": {},
   "source": [
    "***** Данные таблицы MESSAGES\n",
    "\n",
    "Таблица не содержит данных с нулевым количеством отправленных сообщений, т.е. малые значения адекватны. \n",
    "\n",
    "Судя по диаграмме \"ящик с усами\" таблица содержит данные о небольшом количестве пользователей, отправивших необычно много сообщений (более 907-ми сообщений), с точки зрения диаграммы распределения такие большие числа отправленных сообщений является выбросами. Максимальное число отправленных сообщений составляет 1463.\n",
    "\n",
    "Распределение числа отправленных сообщений неровное, гистограмма имеет множество пиков и провалов, пилообразный вид, неравномерно убывающий с ростом значений. "
   ]
  },
  {
   "cell_type": "markdown",
   "metadata": {},
   "source": [
    "ПРОМЕЖУТОЧНЫЙ КОММЕНТАРИЙ ПО ТАБЛИЦАМ CALLS, INTERNET, MESSAGES\n",
    "\n",
    "Все три таблицы составлены единообразным образом, не содержат пропусков, данные отвечают здравому смыслу.\n",
    "\n",
    "Часть данных в таблицах неопределённой информативности: интернет-сессии с потреблённым трафиком 0 мегабайт; звонки, длительностью 0 минут; столбец Unnamed: 0 не имеющий информационной ценности.\n",
    "\n",
    "Во всех трёх таблицах даты записаны в едином формате.\n",
    "\n",
    "Кроме таблицы с сообщениями, данные по величинам распределены нормально.\n",
    "\n",
    "Таблицы содержат данные, которые можно считать выбросами, но в задаче текущего проекта нет задачи избавляться от выбросов.\n"
   ]
  },
  {
   "cell_type": "code",
   "execution_count": 14,
   "metadata": {},
   "outputs": [
    {
     "data": {
      "text/html": [
       "<div>\n",
       "<style scoped>\n",
       "    .dataframe tbody tr th:only-of-type {\n",
       "        vertical-align: middle;\n",
       "    }\n",
       "\n",
       "    .dataframe tbody tr th {\n",
       "        vertical-align: top;\n",
       "    }\n",
       "\n",
       "    .dataframe thead th {\n",
       "        text-align: right;\n",
       "    }\n",
       "</style>\n",
       "<table border=\"1\" class=\"dataframe\">\n",
       "  <thead>\n",
       "    <tr style=\"text-align: right;\">\n",
       "      <th></th>\n",
       "      <th>user_id</th>\n",
       "      <th>age</th>\n",
       "      <th>churn_date</th>\n",
       "      <th>city</th>\n",
       "      <th>first_name</th>\n",
       "      <th>last_name</th>\n",
       "      <th>reg_date</th>\n",
       "      <th>tariff</th>\n",
       "    </tr>\n",
       "  </thead>\n",
       "  <tbody>\n",
       "    <tr>\n",
       "      <td>0</td>\n",
       "      <td>1000</td>\n",
       "      <td>52</td>\n",
       "      <td>NaN</td>\n",
       "      <td>Краснодар</td>\n",
       "      <td>Рафаил</td>\n",
       "      <td>Верещагин</td>\n",
       "      <td>2018-05-25</td>\n",
       "      <td>ultra</td>\n",
       "    </tr>\n",
       "    <tr>\n",
       "      <td>1</td>\n",
       "      <td>1001</td>\n",
       "      <td>41</td>\n",
       "      <td>NaN</td>\n",
       "      <td>Москва</td>\n",
       "      <td>Иван</td>\n",
       "      <td>Ежов</td>\n",
       "      <td>2018-11-01</td>\n",
       "      <td>smart</td>\n",
       "    </tr>\n",
       "    <tr>\n",
       "      <td>2</td>\n",
       "      <td>1002</td>\n",
       "      <td>59</td>\n",
       "      <td>NaN</td>\n",
       "      <td>Стерлитамак</td>\n",
       "      <td>Евгений</td>\n",
       "      <td>Абрамович</td>\n",
       "      <td>2018-06-17</td>\n",
       "      <td>smart</td>\n",
       "    </tr>\n",
       "    <tr>\n",
       "      <td>3</td>\n",
       "      <td>1003</td>\n",
       "      <td>23</td>\n",
       "      <td>NaN</td>\n",
       "      <td>Москва</td>\n",
       "      <td>Белла</td>\n",
       "      <td>Белякова</td>\n",
       "      <td>2018-08-17</td>\n",
       "      <td>ultra</td>\n",
       "    </tr>\n",
       "    <tr>\n",
       "      <td>4</td>\n",
       "      <td>1004</td>\n",
       "      <td>68</td>\n",
       "      <td>NaN</td>\n",
       "      <td>Новокузнецк</td>\n",
       "      <td>Татьяна</td>\n",
       "      <td>Авдеенко</td>\n",
       "      <td>2018-05-14</td>\n",
       "      <td>ultra</td>\n",
       "    </tr>\n",
       "  </tbody>\n",
       "</table>\n",
       "</div>"
      ],
      "text/plain": [
       "   user_id  age churn_date         city first_name  last_name    reg_date  \\\n",
       "0     1000   52        NaN    Краснодар     Рафаил  Верещагин  2018-05-25   \n",
       "1     1001   41        NaN       Москва       Иван       Ежов  2018-11-01   \n",
       "2     1002   59        NaN  Стерлитамак    Евгений  Абрамович  2018-06-17   \n",
       "3     1003   23        NaN       Москва      Белла   Белякова  2018-08-17   \n",
       "4     1004   68        NaN  Новокузнецк    Татьяна   Авдеенко  2018-05-14   \n",
       "\n",
       "  tariff  \n",
       "0  ultra  \n",
       "1  smart  \n",
       "2  smart  \n",
       "3  ultra  \n",
       "4  ultra  "
      ]
     },
     "metadata": {},
     "output_type": "display_data"
    },
    {
     "data": {
      "text/html": [
       "<div>\n",
       "<style scoped>\n",
       "    .dataframe tbody tr th:only-of-type {\n",
       "        vertical-align: middle;\n",
       "    }\n",
       "\n",
       "    .dataframe tbody tr th {\n",
       "        vertical-align: top;\n",
       "    }\n",
       "\n",
       "    .dataframe thead th {\n",
       "        text-align: right;\n",
       "    }\n",
       "</style>\n",
       "<table border=\"1\" class=\"dataframe\">\n",
       "  <thead>\n",
       "    <tr style=\"text-align: right;\">\n",
       "      <th></th>\n",
       "      <th>user_id</th>\n",
       "      <th>age</th>\n",
       "      <th>churn_date</th>\n",
       "      <th>city</th>\n",
       "      <th>first_name</th>\n",
       "      <th>last_name</th>\n",
       "      <th>reg_date</th>\n",
       "      <th>tariff</th>\n",
       "    </tr>\n",
       "  </thead>\n",
       "  <tbody>\n",
       "    <tr>\n",
       "      <td>495</td>\n",
       "      <td>1495</td>\n",
       "      <td>65</td>\n",
       "      <td>NaN</td>\n",
       "      <td>Иркутск</td>\n",
       "      <td>Авксентий</td>\n",
       "      <td>Фокин</td>\n",
       "      <td>2018-08-28</td>\n",
       "      <td>ultra</td>\n",
       "    </tr>\n",
       "    <tr>\n",
       "      <td>496</td>\n",
       "      <td>1496</td>\n",
       "      <td>36</td>\n",
       "      <td>NaN</td>\n",
       "      <td>Вологда</td>\n",
       "      <td>Трифон</td>\n",
       "      <td>Блохин</td>\n",
       "      <td>2018-01-27</td>\n",
       "      <td>smart</td>\n",
       "    </tr>\n",
       "    <tr>\n",
       "      <td>497</td>\n",
       "      <td>1497</td>\n",
       "      <td>32</td>\n",
       "      <td>NaN</td>\n",
       "      <td>Челябинск</td>\n",
       "      <td>Каролина</td>\n",
       "      <td>Агеева</td>\n",
       "      <td>2018-10-09</td>\n",
       "      <td>smart</td>\n",
       "    </tr>\n",
       "    <tr>\n",
       "      <td>498</td>\n",
       "      <td>1498</td>\n",
       "      <td>68</td>\n",
       "      <td>2018-10-25</td>\n",
       "      <td>Владикавказ</td>\n",
       "      <td>Всеволод</td>\n",
       "      <td>Акимчин</td>\n",
       "      <td>2018-07-19</td>\n",
       "      <td>smart</td>\n",
       "    </tr>\n",
       "    <tr>\n",
       "      <td>499</td>\n",
       "      <td>1499</td>\n",
       "      <td>35</td>\n",
       "      <td>NaN</td>\n",
       "      <td>Пермь</td>\n",
       "      <td>Гектор</td>\n",
       "      <td>Корнилов</td>\n",
       "      <td>2018-09-27</td>\n",
       "      <td>smart</td>\n",
       "    </tr>\n",
       "  </tbody>\n",
       "</table>\n",
       "</div>"
      ],
      "text/plain": [
       "     user_id  age  churn_date         city first_name last_name    reg_date  \\\n",
       "495     1495   65         NaN      Иркутск  Авксентий     Фокин  2018-08-28   \n",
       "496     1496   36         NaN      Вологда     Трифон    Блохин  2018-01-27   \n",
       "497     1497   32         NaN    Челябинск   Каролина    Агеева  2018-10-09   \n",
       "498     1498   68  2018-10-25  Владикавказ   Всеволод   Акимчин  2018-07-19   \n",
       "499     1499   35         NaN        Пермь     Гектор  Корнилов  2018-09-27   \n",
       "\n",
       "    tariff  \n",
       "495  ultra  \n",
       "496  smart  \n",
       "497  smart  \n",
       "498  smart  \n",
       "499  smart  "
      ]
     },
     "metadata": {},
     "output_type": "display_data"
    },
    {
     "name": "stdout",
     "output_type": "stream",
     "text": [
      "Пропуски в таблице users:\n",
      "user_id         0\n",
      "age             0\n",
      "churn_date    462\n",
      "city            0\n",
      "first_name      0\n",
      "last_name       0\n",
      "reg_date        0\n",
      "tariff          0\n",
      "dtype: int64\n",
      "\n",
      "Всего уникальных пользователей (user_id): 500\n",
      "\n",
      "\n",
      "\n",
      "Общая информация о таблице\n",
      "\n",
      "<class 'pandas.core.frame.DataFrame'>\n",
      "RangeIndex: 500 entries, 0 to 499\n",
      "Data columns (total 8 columns):\n",
      "user_id       500 non-null int64\n",
      "age           500 non-null int64\n",
      "churn_date    38 non-null object\n",
      "city          500 non-null object\n",
      "first_name    500 non-null object\n",
      "last_name     500 non-null object\n",
      "reg_date      500 non-null object\n",
      "tariff        500 non-null object\n",
      "dtypes: int64(2), object(6)\n",
      "memory usage: 31.4+ KB\n"
     ]
    }
   ],
   "source": [
    "# вывод первых и последних строк таблицы users, первые данные о содержимом таблицы\n",
    "display(users.head())\n",
    "display(users.tail())\n",
    "print('Пропуски в таблице users:') \n",
    "print(users.isna().sum())\n",
    "print()\n",
    "print('Всего уникальных пользователей (user_id):', len(users['user_id'].unique()))\n",
    "print()\n",
    "print()\n",
    "print()\n",
    "print('Общая информация о таблице')\n",
    "print()\n",
    "users.info()\n"
   ]
  },
  {
   "cell_type": "markdown",
   "metadata": {},
   "source": [
    "Датасет users (информация о пользователях):\n",
    "\n",
    "Датасет содержит 500 строк, 8 столбцов.\n",
    "\n",
    "•\tuser_id — уникальный идентификатор пользователя; тип данных - int64\n",
    "\n",
    "•\tfirst_name — имя пользователя; тип данных - object\n",
    "\n",
    "•\tlast_name — фамилия пользователя; тип данных - object\n",
    "\n",
    "•\tage — возраст пользователя (годы); тип данных - int64\n",
    "\n",
    "•\treg_date — дата подключения тарифа; тип данных - object, формат записи даты: год-месяц-день\n",
    "\n",
    "•\tchurn_date — дата прекращения пользования тарифом (если значение пропущено, то тариф ещё действовал на момент выгрузки данных); тип данных - object\n",
    "\n",
    "•\tcity — город проживания пользователя; тип данных - object\n",
    "\n",
    "•\ttariff — название тарифного плана; тип данных - object\n",
    "\n",
    "\n",
    "Всего 500 уникальных пользователей.\n",
    "\n",
    "В столбце churn_date обнаружено 462 пропуска. Исходя из описания данных в спецификации, каким-либо образом обрабатывать эти пропуски нет смысла."
   ]
  },
  {
   "cell_type": "code",
   "execution_count": 15,
   "metadata": {},
   "outputs": [
    {
     "data": {
      "text/html": [
       "<div>\n",
       "<style scoped>\n",
       "    .dataframe tbody tr th:only-of-type {\n",
       "        vertical-align: middle;\n",
       "    }\n",
       "\n",
       "    .dataframe tbody tr th {\n",
       "        vertical-align: top;\n",
       "    }\n",
       "\n",
       "    .dataframe thead th {\n",
       "        text-align: right;\n",
       "    }\n",
       "</style>\n",
       "<table border=\"1\" class=\"dataframe\">\n",
       "  <thead>\n",
       "    <tr style=\"text-align: right;\">\n",
       "      <th></th>\n",
       "      <th>messages_included</th>\n",
       "      <th>mb_per_month_included</th>\n",
       "      <th>minutes_included</th>\n",
       "      <th>rub_monthly_fee</th>\n",
       "      <th>rub_per_gb</th>\n",
       "      <th>rub_per_message</th>\n",
       "      <th>rub_per_minute</th>\n",
       "      <th>tariff_name</th>\n",
       "    </tr>\n",
       "  </thead>\n",
       "  <tbody>\n",
       "    <tr>\n",
       "      <td>0</td>\n",
       "      <td>50</td>\n",
       "      <td>15360</td>\n",
       "      <td>500</td>\n",
       "      <td>550</td>\n",
       "      <td>200</td>\n",
       "      <td>3</td>\n",
       "      <td>3</td>\n",
       "      <td>smart</td>\n",
       "    </tr>\n",
       "    <tr>\n",
       "      <td>1</td>\n",
       "      <td>1000</td>\n",
       "      <td>30720</td>\n",
       "      <td>3000</td>\n",
       "      <td>1950</td>\n",
       "      <td>150</td>\n",
       "      <td>1</td>\n",
       "      <td>1</td>\n",
       "      <td>ultra</td>\n",
       "    </tr>\n",
       "  </tbody>\n",
       "</table>\n",
       "</div>"
      ],
      "text/plain": [
       "   messages_included  mb_per_month_included  minutes_included  \\\n",
       "0                 50                  15360               500   \n",
       "1               1000                  30720              3000   \n",
       "\n",
       "   rub_monthly_fee  rub_per_gb  rub_per_message  rub_per_minute tariff_name  \n",
       "0              550         200                3               3       smart  \n",
       "1             1950         150                1               1       ultra  "
      ]
     },
     "metadata": {},
     "output_type": "display_data"
    }
   ],
   "source": [
    "# вывод таблицы tariffs\n",
    "display(tariffs)"
   ]
  },
  {
   "cell_type": "markdown",
   "metadata": {},
   "source": [
    "Датасет tariffs (информация о тарифах):\n",
    "\n",
    "•\ttariff_name — название тарифа\n",
    "\n",
    "•\trub_monthly_fee — ежемесячная абонентская плата в рублях\n",
    "\n",
    "•\tminutes_included — количество минут разговора в месяц, включённых в абонентскую плату\n",
    "\n",
    "•\tmessages_included — количество сообщений в месяц, включённых в абонентскую плату\n",
    "\n",
    "•\tmb_per_month_included — объём интернет-трафика, включённого в абонентскую плату (в мегабайтах)\n",
    "\n",
    "•\trub_per_minute — стоимость минуты разговора сверх тарифного пакета (например, если в тарифе 100 минут разговора в месяц, то со 101 минуты будет взиматься плата)\n",
    "\n",
    "•\trub_per_message — стоимость отправки сообщения сверх тарифного пакета\n",
    "\n",
    "•\trub_per_gb — стоимость дополнительного гигабайта интернет-трафика сверх тарифного пакета (1 гигабайт = 1024 мегабайта)\n",
    "\n",
    "\n",
    "Описание тарифов\n",
    "\n",
    "Тариф «Смарт»\n",
    "1.\tЕжемесячная плата: 550 рублей\n",
    "2.\tВключено 500 минут разговора, 50 сообщений и 15 Гб интернет-трафика\n",
    "3.\tСтоимость услуг сверх тарифного пакета: 1. минута разговора: 3 рубля («Мегалайн» всегда округляет вверх значения минут и мегабайтов. Если пользователь проговорил всего 1 секунду, в тарифе засчитывается целая минута); 2. сообщение: 3 рубля; 3. 1 Гб интернет-трафика: 200 рублей.\n",
    "\n",
    "Тариф «Ультра»\n",
    "1.\tЕжемесячная плата: 1950 рублей\n",
    "2.\tВключено 3000 минут разговора, 1000 сообщений и 30 Гб интернет-трафика\n",
    "3.\tСтоимость услуг сверх тарифного пакета: 1. минута разговора: 1 рубль; 2. сообщение: 1 рубль; 3. 1 Гб интернет-трафика: 150 рублей.\n",
    "\n",
    "Примечание:\n",
    "«Мегалайн» всегда округляет секунды до минут, а мегабайты — до гигабайт. Каждый звонок округляется отдельно: даже если он длился всего 1 секунду, будет засчитан как 1 минута.\n",
    "Для веб-трафика отдельные сессии не считаются. Вместо этого общая сумма за месяц округляется в бо́льшую сторону. Если абонент использует 1025 мегабайт в этом месяце, с него возьмут плату за 2 гигабайта.\n",
    "\n",
    "\n"
   ]
  },
  {
   "cell_type": "markdown",
   "metadata": {},
   "source": [
    "ШАГ 2. ПОДГОТОВКА ДАННЫХ\n",
    "\n",
    "В соответствии с политикой «Мегалайн» округляю длительность телефонных звонков до целых минут, перевожу формат в целочисленный.\n",
    "\n",
    "Таким же образом поступаю со значениями потреблённого интернет-трафика с последующим переводом в гигабайты.\n",
    "\n",
    "Звонки, длительностью 0 минут - это пропущенные звонки, поэтому их не нужно удалять.\n",
    "\n",
    "Интернет-сессии с потреблённым трафиком 0 мегабайт в таком случае не несут информации, величины не могут быть округлены, а значит, строки с этими данными будут удалены."
   ]
  },
  {
   "cell_type": "code",
   "execution_count": 16,
   "metadata": {},
   "outputs": [
    {
     "data": {
      "text/html": [
       "<div>\n",
       "<style scoped>\n",
       "    .dataframe tbody tr th:only-of-type {\n",
       "        vertical-align: middle;\n",
       "    }\n",
       "\n",
       "    .dataframe tbody tr th {\n",
       "        vertical-align: top;\n",
       "    }\n",
       "\n",
       "    .dataframe thead th {\n",
       "        text-align: right;\n",
       "    }\n",
       "</style>\n",
       "<table border=\"1\" class=\"dataframe\">\n",
       "  <thead>\n",
       "    <tr style=\"text-align: right;\">\n",
       "      <th></th>\n",
       "      <th>id</th>\n",
       "      <th>call_date</th>\n",
       "      <th>duration</th>\n",
       "      <th>user_id</th>\n",
       "      <th>month</th>\n",
       "    </tr>\n",
       "  </thead>\n",
       "  <tbody>\n",
       "    <tr>\n",
       "      <td>0</td>\n",
       "      <td>1000_0</td>\n",
       "      <td>2018-07-25</td>\n",
       "      <td>0.00</td>\n",
       "      <td>1000</td>\n",
       "      <td>7</td>\n",
       "    </tr>\n",
       "    <tr>\n",
       "      <td>1</td>\n",
       "      <td>1000_1</td>\n",
       "      <td>2018-08-17</td>\n",
       "      <td>0.00</td>\n",
       "      <td>1000</td>\n",
       "      <td>8</td>\n",
       "    </tr>\n",
       "    <tr>\n",
       "      <td>2</td>\n",
       "      <td>1000_2</td>\n",
       "      <td>2018-06-11</td>\n",
       "      <td>2.85</td>\n",
       "      <td>1000</td>\n",
       "      <td>6</td>\n",
       "    </tr>\n",
       "    <tr>\n",
       "      <td>3</td>\n",
       "      <td>1000_3</td>\n",
       "      <td>2018-09-21</td>\n",
       "      <td>13.80</td>\n",
       "      <td>1000</td>\n",
       "      <td>9</td>\n",
       "    </tr>\n",
       "    <tr>\n",
       "      <td>4</td>\n",
       "      <td>1000_4</td>\n",
       "      <td>2018-12-15</td>\n",
       "      <td>5.18</td>\n",
       "      <td>1000</td>\n",
       "      <td>12</td>\n",
       "    </tr>\n",
       "  </tbody>\n",
       "</table>\n",
       "</div>"
      ],
      "text/plain": [
       "       id   call_date  duration  user_id  month\n",
       "0  1000_0  2018-07-25      0.00     1000      7\n",
       "1  1000_1  2018-08-17      0.00     1000      8\n",
       "2  1000_2  2018-06-11      2.85     1000      6\n",
       "3  1000_3  2018-09-21     13.80     1000      9\n",
       "4  1000_4  2018-12-15      5.18     1000     12"
      ]
     },
     "metadata": {},
     "output_type": "display_data"
    },
    {
     "data": {
      "text/html": [
       "<div>\n",
       "<style scoped>\n",
       "    .dataframe tbody tr th:only-of-type {\n",
       "        vertical-align: middle;\n",
       "    }\n",
       "\n",
       "    .dataframe tbody tr th {\n",
       "        vertical-align: top;\n",
       "    }\n",
       "\n",
       "    .dataframe thead th {\n",
       "        text-align: right;\n",
       "    }\n",
       "</style>\n",
       "<table border=\"1\" class=\"dataframe\">\n",
       "  <thead>\n",
       "    <tr style=\"text-align: right;\">\n",
       "      <th></th>\n",
       "      <th>Unnamed: 0</th>\n",
       "      <th>id</th>\n",
       "      <th>mb_used</th>\n",
       "      <th>session_date</th>\n",
       "      <th>user_id</th>\n",
       "      <th>month</th>\n",
       "    </tr>\n",
       "  </thead>\n",
       "  <tbody>\n",
       "    <tr>\n",
       "      <td>0</td>\n",
       "      <td>0</td>\n",
       "      <td>1000_0</td>\n",
       "      <td>112.95</td>\n",
       "      <td>2018-11-25</td>\n",
       "      <td>1000</td>\n",
       "      <td>11</td>\n",
       "    </tr>\n",
       "    <tr>\n",
       "      <td>1</td>\n",
       "      <td>1</td>\n",
       "      <td>1000_1</td>\n",
       "      <td>1052.81</td>\n",
       "      <td>2018-09-07</td>\n",
       "      <td>1000</td>\n",
       "      <td>9</td>\n",
       "    </tr>\n",
       "    <tr>\n",
       "      <td>2</td>\n",
       "      <td>2</td>\n",
       "      <td>1000_2</td>\n",
       "      <td>1197.26</td>\n",
       "      <td>2018-06-25</td>\n",
       "      <td>1000</td>\n",
       "      <td>6</td>\n",
       "    </tr>\n",
       "    <tr>\n",
       "      <td>3</td>\n",
       "      <td>3</td>\n",
       "      <td>1000_3</td>\n",
       "      <td>550.27</td>\n",
       "      <td>2018-08-22</td>\n",
       "      <td>1000</td>\n",
       "      <td>8</td>\n",
       "    </tr>\n",
       "    <tr>\n",
       "      <td>4</td>\n",
       "      <td>4</td>\n",
       "      <td>1000_4</td>\n",
       "      <td>302.56</td>\n",
       "      <td>2018-09-24</td>\n",
       "      <td>1000</td>\n",
       "      <td>9</td>\n",
       "    </tr>\n",
       "  </tbody>\n",
       "</table>\n",
       "</div>"
      ],
      "text/plain": [
       "   Unnamed: 0      id  mb_used session_date  user_id  month\n",
       "0           0  1000_0   112.95   2018-11-25     1000     11\n",
       "1           1  1000_1  1052.81   2018-09-07     1000      9\n",
       "2           2  1000_2  1197.26   2018-06-25     1000      6\n",
       "3           3  1000_3   550.27   2018-08-22     1000      8\n",
       "4           4  1000_4   302.56   2018-09-24     1000      9"
      ]
     },
     "metadata": {},
     "output_type": "display_data"
    },
    {
     "data": {
      "text/html": [
       "<div>\n",
       "<style scoped>\n",
       "    .dataframe tbody tr th:only-of-type {\n",
       "        vertical-align: middle;\n",
       "    }\n",
       "\n",
       "    .dataframe tbody tr th {\n",
       "        vertical-align: top;\n",
       "    }\n",
       "\n",
       "    .dataframe thead th {\n",
       "        text-align: right;\n",
       "    }\n",
       "</style>\n",
       "<table border=\"1\" class=\"dataframe\">\n",
       "  <thead>\n",
       "    <tr style=\"text-align: right;\">\n",
       "      <th></th>\n",
       "      <th>id</th>\n",
       "      <th>message_date</th>\n",
       "      <th>user_id</th>\n",
       "      <th>month</th>\n",
       "    </tr>\n",
       "  </thead>\n",
       "  <tbody>\n",
       "    <tr>\n",
       "      <td>0</td>\n",
       "      <td>1000_0</td>\n",
       "      <td>2018-06-27</td>\n",
       "      <td>1000</td>\n",
       "      <td>6</td>\n",
       "    </tr>\n",
       "    <tr>\n",
       "      <td>1</td>\n",
       "      <td>1000_1</td>\n",
       "      <td>2018-10-08</td>\n",
       "      <td>1000</td>\n",
       "      <td>10</td>\n",
       "    </tr>\n",
       "    <tr>\n",
       "      <td>2</td>\n",
       "      <td>1000_2</td>\n",
       "      <td>2018-08-04</td>\n",
       "      <td>1000</td>\n",
       "      <td>8</td>\n",
       "    </tr>\n",
       "    <tr>\n",
       "      <td>3</td>\n",
       "      <td>1000_3</td>\n",
       "      <td>2018-06-16</td>\n",
       "      <td>1000</td>\n",
       "      <td>6</td>\n",
       "    </tr>\n",
       "    <tr>\n",
       "      <td>4</td>\n",
       "      <td>1000_4</td>\n",
       "      <td>2018-12-05</td>\n",
       "      <td>1000</td>\n",
       "      <td>12</td>\n",
       "    </tr>\n",
       "  </tbody>\n",
       "</table>\n",
       "</div>"
      ],
      "text/plain": [
       "       id message_date  user_id  month\n",
       "0  1000_0   2018-06-27     1000      6\n",
       "1  1000_1   2018-10-08     1000     10\n",
       "2  1000_2   2018-08-04     1000      8\n",
       "3  1000_3   2018-06-16     1000      6\n",
       "4  1000_4   2018-12-05     1000     12"
      ]
     },
     "metadata": {},
     "output_type": "display_data"
    }
   ],
   "source": [
    "# создание столбца month - месяца в трёх таблицах\n",
    "calls['month'] = pd.to_datetime(calls['call_date']).dt.month\n",
    "display(calls.head())\n",
    "\n",
    "internet['month'] = pd.to_datetime(internet['session_date']).dt.month\n",
    "display(internet.head())\n",
    "\n",
    "messages['month'] = pd.to_datetime(messages['message_date']).dt.month\n",
    "display(messages.head())\n"
   ]
  },
  {
   "cell_type": "code",
   "execution_count": 17,
   "metadata": {},
   "outputs": [
    {
     "data": {
      "text/html": [
       "<div>\n",
       "<style scoped>\n",
       "    .dataframe tbody tr th:only-of-type {\n",
       "        vertical-align: middle;\n",
       "    }\n",
       "\n",
       "    .dataframe tbody tr th {\n",
       "        vertical-align: top;\n",
       "    }\n",
       "\n",
       "    .dataframe thead th {\n",
       "        text-align: right;\n",
       "    }\n",
       "</style>\n",
       "<table border=\"1\" class=\"dataframe\">\n",
       "  <thead>\n",
       "    <tr style=\"text-align: right;\">\n",
       "      <th></th>\n",
       "      <th>user_id</th>\n",
       "      <th>month</th>\n",
       "      <th>duration</th>\n",
       "    </tr>\n",
       "  </thead>\n",
       "  <tbody>\n",
       "    <tr>\n",
       "      <td>0</td>\n",
       "      <td>1000</td>\n",
       "      <td>5</td>\n",
       "      <td>150.06</td>\n",
       "    </tr>\n",
       "    <tr>\n",
       "      <td>1</td>\n",
       "      <td>1000</td>\n",
       "      <td>6</td>\n",
       "      <td>158.90</td>\n",
       "    </tr>\n",
       "    <tr>\n",
       "      <td>2</td>\n",
       "      <td>1000</td>\n",
       "      <td>7</td>\n",
       "      <td>318.80</td>\n",
       "    </tr>\n",
       "    <tr>\n",
       "      <td>3</td>\n",
       "      <td>1000</td>\n",
       "      <td>8</td>\n",
       "      <td>389.87</td>\n",
       "    </tr>\n",
       "    <tr>\n",
       "      <td>4</td>\n",
       "      <td>1000</td>\n",
       "      <td>9</td>\n",
       "      <td>440.14</td>\n",
       "    </tr>\n",
       "  </tbody>\n",
       "</table>\n",
       "</div>"
      ],
      "text/plain": [
       "   user_id  month  duration\n",
       "0     1000      5    150.06\n",
       "1     1000      6    158.90\n",
       "2     1000      7    318.80\n",
       "3     1000      8    389.87\n",
       "4     1000      9    440.14"
      ]
     },
     "metadata": {},
     "output_type": "display_data"
    },
    {
     "data": {
      "text/html": [
       "<div>\n",
       "<style scoped>\n",
       "    .dataframe tbody tr th:only-of-type {\n",
       "        vertical-align: middle;\n",
       "    }\n",
       "\n",
       "    .dataframe tbody tr th {\n",
       "        vertical-align: top;\n",
       "    }\n",
       "\n",
       "    .dataframe thead th {\n",
       "        text-align: right;\n",
       "    }\n",
       "</style>\n",
       "<table border=\"1\" class=\"dataframe\">\n",
       "  <thead>\n",
       "    <tr style=\"text-align: right;\">\n",
       "      <th></th>\n",
       "      <th>user_id</th>\n",
       "      <th>month</th>\n",
       "      <th>mb_used</th>\n",
       "    </tr>\n",
       "  </thead>\n",
       "  <tbody>\n",
       "    <tr>\n",
       "      <td>0</td>\n",
       "      <td>1000</td>\n",
       "      <td>5</td>\n",
       "      <td>2253.49</td>\n",
       "    </tr>\n",
       "    <tr>\n",
       "      <td>1</td>\n",
       "      <td>1000</td>\n",
       "      <td>6</td>\n",
       "      <td>23233.77</td>\n",
       "    </tr>\n",
       "    <tr>\n",
       "      <td>2</td>\n",
       "      <td>1000</td>\n",
       "      <td>7</td>\n",
       "      <td>14003.64</td>\n",
       "    </tr>\n",
       "    <tr>\n",
       "      <td>3</td>\n",
       "      <td>1000</td>\n",
       "      <td>8</td>\n",
       "      <td>14055.93</td>\n",
       "    </tr>\n",
       "    <tr>\n",
       "      <td>4</td>\n",
       "      <td>1000</td>\n",
       "      <td>9</td>\n",
       "      <td>14568.91</td>\n",
       "    </tr>\n",
       "  </tbody>\n",
       "</table>\n",
       "</div>"
      ],
      "text/plain": [
       "   user_id  month   mb_used\n",
       "0     1000      5   2253.49\n",
       "1     1000      6  23233.77\n",
       "2     1000      7  14003.64\n",
       "3     1000      8  14055.93\n",
       "4     1000      9  14568.91"
      ]
     },
     "metadata": {},
     "output_type": "display_data"
    },
    {
     "data": {
      "text/html": [
       "<div>\n",
       "<style scoped>\n",
       "    .dataframe tbody tr th:only-of-type {\n",
       "        vertical-align: middle;\n",
       "    }\n",
       "\n",
       "    .dataframe tbody tr th {\n",
       "        vertical-align: top;\n",
       "    }\n",
       "\n",
       "    .dataframe thead th {\n",
       "        text-align: right;\n",
       "    }\n",
       "</style>\n",
       "<table border=\"1\" class=\"dataframe\">\n",
       "  <thead>\n",
       "    <tr style=\"text-align: right;\">\n",
       "      <th></th>\n",
       "      <th>user_id</th>\n",
       "      <th>month</th>\n",
       "      <th>messages</th>\n",
       "    </tr>\n",
       "  </thead>\n",
       "  <tbody>\n",
       "    <tr>\n",
       "      <td>0</td>\n",
       "      <td>1000</td>\n",
       "      <td>5</td>\n",
       "      <td>22</td>\n",
       "    </tr>\n",
       "    <tr>\n",
       "      <td>1</td>\n",
       "      <td>1000</td>\n",
       "      <td>6</td>\n",
       "      <td>60</td>\n",
       "    </tr>\n",
       "    <tr>\n",
       "      <td>2</td>\n",
       "      <td>1000</td>\n",
       "      <td>7</td>\n",
       "      <td>75</td>\n",
       "    </tr>\n",
       "    <tr>\n",
       "      <td>3</td>\n",
       "      <td>1000</td>\n",
       "      <td>8</td>\n",
       "      <td>81</td>\n",
       "    </tr>\n",
       "    <tr>\n",
       "      <td>4</td>\n",
       "      <td>1000</td>\n",
       "      <td>9</td>\n",
       "      <td>57</td>\n",
       "    </tr>\n",
       "  </tbody>\n",
       "</table>\n",
       "</div>"
      ],
      "text/plain": [
       "   user_id  month  messages\n",
       "0     1000      5        22\n",
       "1     1000      6        60\n",
       "2     1000      7        75\n",
       "3     1000      8        81\n",
       "4     1000      9        57"
      ]
     },
     "metadata": {},
     "output_type": "display_data"
    }
   ],
   "source": [
    "# группировка данных таблиц по user_id и month и подсчёт суммарной искомой величины для каждого месяца\n",
    "# для каждого клиента\n",
    "calls = calls.groupby(['user_id', 'month']).agg({'duration': 'sum'}).reset_index()\n",
    "\n",
    "internet = internet.groupby(['user_id', 'month']).agg({'mb_used': 'sum'}).reset_index()\n",
    "\n",
    "messages = messages.groupby(['user_id', 'month']).agg({'id': 'count'})\\\n",
    ".rename(columns = {'id': 'messages'}).reset_index()\n",
    "\n",
    "display(calls.head())\n",
    "display(internet.head())\n",
    "display(messages.head())"
   ]
  },
  {
   "cell_type": "code",
   "execution_count": 18,
   "metadata": {},
   "outputs": [
    {
     "name": "stdout",
     "output_type": "stream",
     "text": [
      "<class 'pandas.core.frame.DataFrame'>\n",
      "Int64Index: 3216 entries, 0 to 3215\n",
      "Data columns (total 20 columns):\n",
      "user_id                  3216 non-null int64\n",
      "month                    3214 non-null float64\n",
      "duration                 3174 non-null float64\n",
      "mb_used                  3203 non-null float64\n",
      "messages                 2717 non-null float64\n",
      "age                      3216 non-null int64\n",
      "churn_date               189 non-null object\n",
      "city                     3216 non-null object\n",
      "first_name               3216 non-null object\n",
      "last_name                3216 non-null object\n",
      "reg_date                 3216 non-null object\n",
      "tariff                   3216 non-null object\n",
      "messages_included        3216 non-null int64\n",
      "mb_per_month_included    3216 non-null int64\n",
      "minutes_included         3216 non-null int64\n",
      "rub_monthly_fee          3216 non-null int64\n",
      "rub_per_gb               3216 non-null int64\n",
      "rub_per_message          3216 non-null int64\n",
      "rub_per_minute           3216 non-null int64\n",
      "tariff_name              3216 non-null object\n",
      "dtypes: float64(4), int64(9), object(7)\n",
      "memory usage: 527.6+ KB\n"
     ]
    },
    {
     "data": {
      "text/html": [
       "<div>\n",
       "<style scoped>\n",
       "    .dataframe tbody tr th:only-of-type {\n",
       "        vertical-align: middle;\n",
       "    }\n",
       "\n",
       "    .dataframe tbody tr th {\n",
       "        vertical-align: top;\n",
       "    }\n",
       "\n",
       "    .dataframe thead th {\n",
       "        text-align: right;\n",
       "    }\n",
       "</style>\n",
       "<table border=\"1\" class=\"dataframe\">\n",
       "  <thead>\n",
       "    <tr style=\"text-align: right;\">\n",
       "      <th></th>\n",
       "      <th>user_id</th>\n",
       "      <th>month</th>\n",
       "      <th>duration</th>\n",
       "      <th>mb_used</th>\n",
       "      <th>messages</th>\n",
       "      <th>age</th>\n",
       "      <th>churn_date</th>\n",
       "      <th>city</th>\n",
       "      <th>first_name</th>\n",
       "      <th>last_name</th>\n",
       "      <th>reg_date</th>\n",
       "      <th>tariff</th>\n",
       "      <th>messages_included</th>\n",
       "      <th>mb_per_month_included</th>\n",
       "      <th>minutes_included</th>\n",
       "      <th>rub_monthly_fee</th>\n",
       "      <th>rub_per_gb</th>\n",
       "      <th>rub_per_message</th>\n",
       "      <th>rub_per_minute</th>\n",
       "      <th>tariff_name</th>\n",
       "    </tr>\n",
       "  </thead>\n",
       "  <tbody>\n",
       "    <tr>\n",
       "      <td>0</td>\n",
       "      <td>1000</td>\n",
       "      <td>5.0</td>\n",
       "      <td>150.06</td>\n",
       "      <td>2253.49</td>\n",
       "      <td>22.0</td>\n",
       "      <td>52</td>\n",
       "      <td>NaN</td>\n",
       "      <td>Краснодар</td>\n",
       "      <td>Рафаил</td>\n",
       "      <td>Верещагин</td>\n",
       "      <td>2018-05-25</td>\n",
       "      <td>ultra</td>\n",
       "      <td>1000</td>\n",
       "      <td>30720</td>\n",
       "      <td>3000</td>\n",
       "      <td>1950</td>\n",
       "      <td>150</td>\n",
       "      <td>1</td>\n",
       "      <td>1</td>\n",
       "      <td>ultra</td>\n",
       "    </tr>\n",
       "    <tr>\n",
       "      <td>1</td>\n",
       "      <td>1000</td>\n",
       "      <td>6.0</td>\n",
       "      <td>158.90</td>\n",
       "      <td>23233.77</td>\n",
       "      <td>60.0</td>\n",
       "      <td>52</td>\n",
       "      <td>NaN</td>\n",
       "      <td>Краснодар</td>\n",
       "      <td>Рафаил</td>\n",
       "      <td>Верещагин</td>\n",
       "      <td>2018-05-25</td>\n",
       "      <td>ultra</td>\n",
       "      <td>1000</td>\n",
       "      <td>30720</td>\n",
       "      <td>3000</td>\n",
       "      <td>1950</td>\n",
       "      <td>150</td>\n",
       "      <td>1</td>\n",
       "      <td>1</td>\n",
       "      <td>ultra</td>\n",
       "    </tr>\n",
       "    <tr>\n",
       "      <td>2</td>\n",
       "      <td>1000</td>\n",
       "      <td>7.0</td>\n",
       "      <td>318.80</td>\n",
       "      <td>14003.64</td>\n",
       "      <td>75.0</td>\n",
       "      <td>52</td>\n",
       "      <td>NaN</td>\n",
       "      <td>Краснодар</td>\n",
       "      <td>Рафаил</td>\n",
       "      <td>Верещагин</td>\n",
       "      <td>2018-05-25</td>\n",
       "      <td>ultra</td>\n",
       "      <td>1000</td>\n",
       "      <td>30720</td>\n",
       "      <td>3000</td>\n",
       "      <td>1950</td>\n",
       "      <td>150</td>\n",
       "      <td>1</td>\n",
       "      <td>1</td>\n",
       "      <td>ultra</td>\n",
       "    </tr>\n",
       "    <tr>\n",
       "      <td>3</td>\n",
       "      <td>1000</td>\n",
       "      <td>8.0</td>\n",
       "      <td>389.87</td>\n",
       "      <td>14055.93</td>\n",
       "      <td>81.0</td>\n",
       "      <td>52</td>\n",
       "      <td>NaN</td>\n",
       "      <td>Краснодар</td>\n",
       "      <td>Рафаил</td>\n",
       "      <td>Верещагин</td>\n",
       "      <td>2018-05-25</td>\n",
       "      <td>ultra</td>\n",
       "      <td>1000</td>\n",
       "      <td>30720</td>\n",
       "      <td>3000</td>\n",
       "      <td>1950</td>\n",
       "      <td>150</td>\n",
       "      <td>1</td>\n",
       "      <td>1</td>\n",
       "      <td>ultra</td>\n",
       "    </tr>\n",
       "    <tr>\n",
       "      <td>4</td>\n",
       "      <td>1000</td>\n",
       "      <td>9.0</td>\n",
       "      <td>440.14</td>\n",
       "      <td>14568.91</td>\n",
       "      <td>57.0</td>\n",
       "      <td>52</td>\n",
       "      <td>NaN</td>\n",
       "      <td>Краснодар</td>\n",
       "      <td>Рафаил</td>\n",
       "      <td>Верещагин</td>\n",
       "      <td>2018-05-25</td>\n",
       "      <td>ultra</td>\n",
       "      <td>1000</td>\n",
       "      <td>30720</td>\n",
       "      <td>3000</td>\n",
       "      <td>1950</td>\n",
       "      <td>150</td>\n",
       "      <td>1</td>\n",
       "      <td>1</td>\n",
       "      <td>ultra</td>\n",
       "    </tr>\n",
       "    <tr>\n",
       "      <td>5</td>\n",
       "      <td>1000</td>\n",
       "      <td>10.0</td>\n",
       "      <td>328.45</td>\n",
       "      <td>14702.49</td>\n",
       "      <td>73.0</td>\n",
       "      <td>52</td>\n",
       "      <td>NaN</td>\n",
       "      <td>Краснодар</td>\n",
       "      <td>Рафаил</td>\n",
       "      <td>Верещагин</td>\n",
       "      <td>2018-05-25</td>\n",
       "      <td>ultra</td>\n",
       "      <td>1000</td>\n",
       "      <td>30720</td>\n",
       "      <td>3000</td>\n",
       "      <td>1950</td>\n",
       "      <td>150</td>\n",
       "      <td>1</td>\n",
       "      <td>1</td>\n",
       "      <td>ultra</td>\n",
       "    </tr>\n",
       "    <tr>\n",
       "      <td>6</td>\n",
       "      <td>1000</td>\n",
       "      <td>11.0</td>\n",
       "      <td>319.04</td>\n",
       "      <td>14756.47</td>\n",
       "      <td>58.0</td>\n",
       "      <td>52</td>\n",
       "      <td>NaN</td>\n",
       "      <td>Краснодар</td>\n",
       "      <td>Рафаил</td>\n",
       "      <td>Верещагин</td>\n",
       "      <td>2018-05-25</td>\n",
       "      <td>ultra</td>\n",
       "      <td>1000</td>\n",
       "      <td>30720</td>\n",
       "      <td>3000</td>\n",
       "      <td>1950</td>\n",
       "      <td>150</td>\n",
       "      <td>1</td>\n",
       "      <td>1</td>\n",
       "      <td>ultra</td>\n",
       "    </tr>\n",
       "    <tr>\n",
       "      <td>7</td>\n",
       "      <td>1000</td>\n",
       "      <td>12.0</td>\n",
       "      <td>312.98</td>\n",
       "      <td>9817.61</td>\n",
       "      <td>70.0</td>\n",
       "      <td>52</td>\n",
       "      <td>NaN</td>\n",
       "      <td>Краснодар</td>\n",
       "      <td>Рафаил</td>\n",
       "      <td>Верещагин</td>\n",
       "      <td>2018-05-25</td>\n",
       "      <td>ultra</td>\n",
       "      <td>1000</td>\n",
       "      <td>30720</td>\n",
       "      <td>3000</td>\n",
       "      <td>1950</td>\n",
       "      <td>150</td>\n",
       "      <td>1</td>\n",
       "      <td>1</td>\n",
       "      <td>ultra</td>\n",
       "    </tr>\n",
       "    <tr>\n",
       "      <td>8</td>\n",
       "      <td>1003</td>\n",
       "      <td>8.0</td>\n",
       "      <td>355.67</td>\n",
       "      <td>8565.21</td>\n",
       "      <td>37.0</td>\n",
       "      <td>23</td>\n",
       "      <td>NaN</td>\n",
       "      <td>Москва</td>\n",
       "      <td>Белла</td>\n",
       "      <td>Белякова</td>\n",
       "      <td>2018-08-17</td>\n",
       "      <td>ultra</td>\n",
       "      <td>1000</td>\n",
       "      <td>30720</td>\n",
       "      <td>3000</td>\n",
       "      <td>1950</td>\n",
       "      <td>150</td>\n",
       "      <td>1</td>\n",
       "      <td>1</td>\n",
       "      <td>ultra</td>\n",
       "    </tr>\n",
       "    <tr>\n",
       "      <td>9</td>\n",
       "      <td>1003</td>\n",
       "      <td>9.0</td>\n",
       "      <td>904.89</td>\n",
       "      <td>12468.87</td>\n",
       "      <td>91.0</td>\n",
       "      <td>23</td>\n",
       "      <td>NaN</td>\n",
       "      <td>Москва</td>\n",
       "      <td>Белла</td>\n",
       "      <td>Белякова</td>\n",
       "      <td>2018-08-17</td>\n",
       "      <td>ultra</td>\n",
       "      <td>1000</td>\n",
       "      <td>30720</td>\n",
       "      <td>3000</td>\n",
       "      <td>1950</td>\n",
       "      <td>150</td>\n",
       "      <td>1</td>\n",
       "      <td>1</td>\n",
       "      <td>ultra</td>\n",
       "    </tr>\n",
       "  </tbody>\n",
       "</table>\n",
       "</div>"
      ],
      "text/plain": [
       "   user_id  month  duration   mb_used  messages  age churn_date       city  \\\n",
       "0     1000    5.0    150.06   2253.49      22.0   52        NaN  Краснодар   \n",
       "1     1000    6.0    158.90  23233.77      60.0   52        NaN  Краснодар   \n",
       "2     1000    7.0    318.80  14003.64      75.0   52        NaN  Краснодар   \n",
       "3     1000    8.0    389.87  14055.93      81.0   52        NaN  Краснодар   \n",
       "4     1000    9.0    440.14  14568.91      57.0   52        NaN  Краснодар   \n",
       "5     1000   10.0    328.45  14702.49      73.0   52        NaN  Краснодар   \n",
       "6     1000   11.0    319.04  14756.47      58.0   52        NaN  Краснодар   \n",
       "7     1000   12.0    312.98   9817.61      70.0   52        NaN  Краснодар   \n",
       "8     1003    8.0    355.67   8565.21      37.0   23        NaN     Москва   \n",
       "9     1003    9.0    904.89  12468.87      91.0   23        NaN     Москва   \n",
       "\n",
       "  first_name  last_name    reg_date tariff  messages_included  \\\n",
       "0     Рафаил  Верещагин  2018-05-25  ultra               1000   \n",
       "1     Рафаил  Верещагин  2018-05-25  ultra               1000   \n",
       "2     Рафаил  Верещагин  2018-05-25  ultra               1000   \n",
       "3     Рафаил  Верещагин  2018-05-25  ultra               1000   \n",
       "4     Рафаил  Верещагин  2018-05-25  ultra               1000   \n",
       "5     Рафаил  Верещагин  2018-05-25  ultra               1000   \n",
       "6     Рафаил  Верещагин  2018-05-25  ultra               1000   \n",
       "7     Рафаил  Верещагин  2018-05-25  ultra               1000   \n",
       "8      Белла   Белякова  2018-08-17  ultra               1000   \n",
       "9      Белла   Белякова  2018-08-17  ultra               1000   \n",
       "\n",
       "   mb_per_month_included  minutes_included  rub_monthly_fee  rub_per_gb  \\\n",
       "0                  30720              3000             1950         150   \n",
       "1                  30720              3000             1950         150   \n",
       "2                  30720              3000             1950         150   \n",
       "3                  30720              3000             1950         150   \n",
       "4                  30720              3000             1950         150   \n",
       "5                  30720              3000             1950         150   \n",
       "6                  30720              3000             1950         150   \n",
       "7                  30720              3000             1950         150   \n",
       "8                  30720              3000             1950         150   \n",
       "9                  30720              3000             1950         150   \n",
       "\n",
       "   rub_per_message  rub_per_minute tariff_name  \n",
       "0                1               1       ultra  \n",
       "1                1               1       ultra  \n",
       "2                1               1       ultra  \n",
       "3                1               1       ultra  \n",
       "4                1               1       ultra  \n",
       "5                1               1       ultra  \n",
       "6                1               1       ultra  \n",
       "7                1               1       ultra  \n",
       "8                1               1       ultra  \n",
       "9                1               1       ultra  "
      ]
     },
     "metadata": {},
     "output_type": "display_data"
    }
   ],
   "source": [
    "# последовательное объединение четырёх таблиц\n",
    "data = calls.merge(internet, on = ['user_id', 'month'], how = 'outer')\n",
    "data = data.merge(messages, on = ['user_id', 'month'], how = 'outer')\n",
    "data = data.merge(users, on = ['user_id'], how = 'outer')\n",
    "\n",
    "data = data.merge(tariffs, left_on = ['tariff'], right_on = ['tariff_name'], how = 'outer')\n",
    "\n",
    "data.info()\n",
    "display(data.head(10))\n"
   ]
  },
  {
   "cell_type": "code",
   "execution_count": 19,
   "metadata": {},
   "outputs": [
    {
     "name": "stdout",
     "output_type": "stream",
     "text": [
      "<class 'pandas.core.frame.DataFrame'>\n",
      "Int64Index: 3216 entries, 0 to 3215\n",
      "Data columns (total 20 columns):\n",
      "user_id                  3216 non-null int64\n",
      "month                    3216 non-null float64\n",
      "duration                 3216 non-null float64\n",
      "mb_used                  3216 non-null float64\n",
      "messages                 3216 non-null float64\n",
      "age                      3216 non-null int64\n",
      "churn_date               189 non-null object\n",
      "city                     3216 non-null object\n",
      "first_name               3216 non-null object\n",
      "last_name                3216 non-null object\n",
      "reg_date                 3216 non-null object\n",
      "tariff                   3216 non-null object\n",
      "messages_included        3216 non-null int64\n",
      "mb_per_month_included    3216 non-null int64\n",
      "minutes_included         3216 non-null int64\n",
      "rub_monthly_fee          3216 non-null int64\n",
      "rub_per_gb               3216 non-null int64\n",
      "rub_per_message          3216 non-null int64\n",
      "rub_per_minute           3216 non-null int64\n",
      "tariff_name              3216 non-null object\n",
      "dtypes: float64(4), int64(9), object(7)\n",
      "memory usage: 527.6+ KB\n"
     ]
    }
   ],
   "source": [
    "# для возможности дальнейшей обработки данных заменяю пропуски в значимых столбцах нулями\n",
    "# замена нулями в этом случае не исказит результатов обработки данных\n",
    "data['month'] = data['month'].fillna(0)\n",
    "data['duration'] = data['duration'].fillna(0)\n",
    "data['mb_used'] = data['mb_used'].fillna(0)\n",
    "data['messages'] = data['messages'].fillna(0)\n",
    "\n",
    "data.info()"
   ]
  },
  {
   "cell_type": "code",
   "execution_count": 20,
   "metadata": {
    "scrolled": false
   },
   "outputs": [
    {
     "data": {
      "text/html": [
       "<div>\n",
       "<style scoped>\n",
       "    .dataframe tbody tr th:only-of-type {\n",
       "        vertical-align: middle;\n",
       "    }\n",
       "\n",
       "    .dataframe tbody tr th {\n",
       "        vertical-align: top;\n",
       "    }\n",
       "\n",
       "    .dataframe thead th {\n",
       "        text-align: right;\n",
       "    }\n",
       "</style>\n",
       "<table border=\"1\" class=\"dataframe\">\n",
       "  <thead>\n",
       "    <tr style=\"text-align: right;\">\n",
       "      <th></th>\n",
       "      <th>user_id</th>\n",
       "      <th>month</th>\n",
       "      <th>duration</th>\n",
       "      <th>mb_used</th>\n",
       "      <th>messages</th>\n",
       "      <th>age</th>\n",
       "      <th>churn_date</th>\n",
       "      <th>city</th>\n",
       "      <th>first_name</th>\n",
       "      <th>last_name</th>\n",
       "      <th>...</th>\n",
       "      <th>minutes_included</th>\n",
       "      <th>rub_monthly_fee</th>\n",
       "      <th>rub_per_gb</th>\n",
       "      <th>rub_per_message</th>\n",
       "      <th>rub_per_minute</th>\n",
       "      <th>tariff_name</th>\n",
       "      <th>vyruchka_calls</th>\n",
       "      <th>vyruchka_gb</th>\n",
       "      <th>vyruchka_sms</th>\n",
       "      <th>vyruchka</th>\n",
       "    </tr>\n",
       "  </thead>\n",
       "  <tbody>\n",
       "    <tr>\n",
       "      <td>0</td>\n",
       "      <td>1000</td>\n",
       "      <td>5.0</td>\n",
       "      <td>150.06</td>\n",
       "      <td>2253.49</td>\n",
       "      <td>22.0</td>\n",
       "      <td>52</td>\n",
       "      <td>NaN</td>\n",
       "      <td>Краснодар</td>\n",
       "      <td>Рафаил</td>\n",
       "      <td>Верещагин</td>\n",
       "      <td>...</td>\n",
       "      <td>3000</td>\n",
       "      <td>1950</td>\n",
       "      <td>150</td>\n",
       "      <td>1</td>\n",
       "      <td>1</td>\n",
       "      <td>ultra</td>\n",
       "      <td>0</td>\n",
       "      <td>0</td>\n",
       "      <td>0.0</td>\n",
       "      <td>1950.0</td>\n",
       "    </tr>\n",
       "    <tr>\n",
       "      <td>1</td>\n",
       "      <td>1000</td>\n",
       "      <td>6.0</td>\n",
       "      <td>158.90</td>\n",
       "      <td>23233.77</td>\n",
       "      <td>60.0</td>\n",
       "      <td>52</td>\n",
       "      <td>NaN</td>\n",
       "      <td>Краснодар</td>\n",
       "      <td>Рафаил</td>\n",
       "      <td>Верещагин</td>\n",
       "      <td>...</td>\n",
       "      <td>3000</td>\n",
       "      <td>1950</td>\n",
       "      <td>150</td>\n",
       "      <td>1</td>\n",
       "      <td>1</td>\n",
       "      <td>ultra</td>\n",
       "      <td>0</td>\n",
       "      <td>0</td>\n",
       "      <td>0.0</td>\n",
       "      <td>1950.0</td>\n",
       "    </tr>\n",
       "    <tr>\n",
       "      <td>2</td>\n",
       "      <td>1000</td>\n",
       "      <td>7.0</td>\n",
       "      <td>318.80</td>\n",
       "      <td>14003.64</td>\n",
       "      <td>75.0</td>\n",
       "      <td>52</td>\n",
       "      <td>NaN</td>\n",
       "      <td>Краснодар</td>\n",
       "      <td>Рафаил</td>\n",
       "      <td>Верещагин</td>\n",
       "      <td>...</td>\n",
       "      <td>3000</td>\n",
       "      <td>1950</td>\n",
       "      <td>150</td>\n",
       "      <td>1</td>\n",
       "      <td>1</td>\n",
       "      <td>ultra</td>\n",
       "      <td>0</td>\n",
       "      <td>0</td>\n",
       "      <td>0.0</td>\n",
       "      <td>1950.0</td>\n",
       "    </tr>\n",
       "    <tr>\n",
       "      <td>3</td>\n",
       "      <td>1000</td>\n",
       "      <td>8.0</td>\n",
       "      <td>389.87</td>\n",
       "      <td>14055.93</td>\n",
       "      <td>81.0</td>\n",
       "      <td>52</td>\n",
       "      <td>NaN</td>\n",
       "      <td>Краснодар</td>\n",
       "      <td>Рафаил</td>\n",
       "      <td>Верещагин</td>\n",
       "      <td>...</td>\n",
       "      <td>3000</td>\n",
       "      <td>1950</td>\n",
       "      <td>150</td>\n",
       "      <td>1</td>\n",
       "      <td>1</td>\n",
       "      <td>ultra</td>\n",
       "      <td>0</td>\n",
       "      <td>0</td>\n",
       "      <td>0.0</td>\n",
       "      <td>1950.0</td>\n",
       "    </tr>\n",
       "    <tr>\n",
       "      <td>4</td>\n",
       "      <td>1000</td>\n",
       "      <td>9.0</td>\n",
       "      <td>440.14</td>\n",
       "      <td>14568.91</td>\n",
       "      <td>57.0</td>\n",
       "      <td>52</td>\n",
       "      <td>NaN</td>\n",
       "      <td>Краснодар</td>\n",
       "      <td>Рафаил</td>\n",
       "      <td>Верещагин</td>\n",
       "      <td>...</td>\n",
       "      <td>3000</td>\n",
       "      <td>1950</td>\n",
       "      <td>150</td>\n",
       "      <td>1</td>\n",
       "      <td>1</td>\n",
       "      <td>ultra</td>\n",
       "      <td>0</td>\n",
       "      <td>0</td>\n",
       "      <td>0.0</td>\n",
       "      <td>1950.0</td>\n",
       "    </tr>\n",
       "  </tbody>\n",
       "</table>\n",
       "<p>5 rows × 24 columns</p>\n",
       "</div>"
      ],
      "text/plain": [
       "   user_id  month  duration   mb_used  messages  age churn_date       city  \\\n",
       "0     1000    5.0    150.06   2253.49      22.0   52        NaN  Краснодар   \n",
       "1     1000    6.0    158.90  23233.77      60.0   52        NaN  Краснодар   \n",
       "2     1000    7.0    318.80  14003.64      75.0   52        NaN  Краснодар   \n",
       "3     1000    8.0    389.87  14055.93      81.0   52        NaN  Краснодар   \n",
       "4     1000    9.0    440.14  14568.91      57.0   52        NaN  Краснодар   \n",
       "\n",
       "  first_name  last_name  ... minutes_included rub_monthly_fee  rub_per_gb  \\\n",
       "0     Рафаил  Верещагин  ...             3000            1950         150   \n",
       "1     Рафаил  Верещагин  ...             3000            1950         150   \n",
       "2     Рафаил  Верещагин  ...             3000            1950         150   \n",
       "3     Рафаил  Верещагин  ...             3000            1950         150   \n",
       "4     Рафаил  Верещагин  ...             3000            1950         150   \n",
       "\n",
       "   rub_per_message  rub_per_minute  tariff_name  vyruchka_calls  vyruchka_gb  \\\n",
       "0                1               1        ultra               0            0   \n",
       "1                1               1        ultra               0            0   \n",
       "2                1               1        ultra               0            0   \n",
       "3                1               1        ultra               0            0   \n",
       "4                1               1        ultra               0            0   \n",
       "\n",
       "   vyruchka_sms vyruchka  \n",
       "0           0.0   1950.0  \n",
       "1           0.0   1950.0  \n",
       "2           0.0   1950.0  \n",
       "3           0.0   1950.0  \n",
       "4           0.0   1950.0  \n",
       "\n",
       "[5 rows x 24 columns]"
      ]
     },
     "metadata": {},
     "output_type": "display_data"
    },
    {
     "data": {
      "text/html": [
       "<div>\n",
       "<style scoped>\n",
       "    .dataframe tbody tr th:only-of-type {\n",
       "        vertical-align: middle;\n",
       "    }\n",
       "\n",
       "    .dataframe tbody tr th {\n",
       "        vertical-align: top;\n",
       "    }\n",
       "\n",
       "    .dataframe thead th {\n",
       "        text-align: right;\n",
       "    }\n",
       "</style>\n",
       "<table border=\"1\" class=\"dataframe\">\n",
       "  <thead>\n",
       "    <tr style=\"text-align: right;\">\n",
       "      <th></th>\n",
       "      <th>user_id</th>\n",
       "      <th>month</th>\n",
       "      <th>duration</th>\n",
       "      <th>mb_used</th>\n",
       "      <th>messages</th>\n",
       "      <th>age</th>\n",
       "      <th>churn_date</th>\n",
       "      <th>city</th>\n",
       "      <th>first_name</th>\n",
       "      <th>last_name</th>\n",
       "      <th>...</th>\n",
       "      <th>minutes_included</th>\n",
       "      <th>rub_monthly_fee</th>\n",
       "      <th>rub_per_gb</th>\n",
       "      <th>rub_per_message</th>\n",
       "      <th>rub_per_minute</th>\n",
       "      <th>tariff_name</th>\n",
       "      <th>vyruchka_calls</th>\n",
       "      <th>vyruchka_gb</th>\n",
       "      <th>vyruchka_sms</th>\n",
       "      <th>vyruchka</th>\n",
       "    </tr>\n",
       "  </thead>\n",
       "  <tbody>\n",
       "    <tr>\n",
       "      <td>3206</td>\n",
       "      <td>1499</td>\n",
       "      <td>9.0</td>\n",
       "      <td>64.65</td>\n",
       "      <td>1845.75</td>\n",
       "      <td>11.0</td>\n",
       "      <td>35</td>\n",
       "      <td>NaN</td>\n",
       "      <td>Пермь</td>\n",
       "      <td>Гектор</td>\n",
       "      <td>Корнилов</td>\n",
       "      <td>...</td>\n",
       "      <td>500</td>\n",
       "      <td>550</td>\n",
       "      <td>200</td>\n",
       "      <td>3</td>\n",
       "      <td>3</td>\n",
       "      <td>smart</td>\n",
       "      <td>0</td>\n",
       "      <td>0</td>\n",
       "      <td>0.0</td>\n",
       "      <td>550.0</td>\n",
       "    </tr>\n",
       "    <tr>\n",
       "      <td>3207</td>\n",
       "      <td>1499</td>\n",
       "      <td>10.0</td>\n",
       "      <td>429.91</td>\n",
       "      <td>17788.51</td>\n",
       "      <td>48.0</td>\n",
       "      <td>35</td>\n",
       "      <td>NaN</td>\n",
       "      <td>Пермь</td>\n",
       "      <td>Гектор</td>\n",
       "      <td>Корнилов</td>\n",
       "      <td>...</td>\n",
       "      <td>500</td>\n",
       "      <td>550</td>\n",
       "      <td>200</td>\n",
       "      <td>3</td>\n",
       "      <td>3</td>\n",
       "      <td>smart</td>\n",
       "      <td>0</td>\n",
       "      <td>600</td>\n",
       "      <td>0.0</td>\n",
       "      <td>1150.0</td>\n",
       "    </tr>\n",
       "    <tr>\n",
       "      <td>3208</td>\n",
       "      <td>1499</td>\n",
       "      <td>11.0</td>\n",
       "      <td>576.50</td>\n",
       "      <td>17963.31</td>\n",
       "      <td>59.0</td>\n",
       "      <td>35</td>\n",
       "      <td>NaN</td>\n",
       "      <td>Пермь</td>\n",
       "      <td>Гектор</td>\n",
       "      <td>Корнилов</td>\n",
       "      <td>...</td>\n",
       "      <td>500</td>\n",
       "      <td>550</td>\n",
       "      <td>200</td>\n",
       "      <td>3</td>\n",
       "      <td>3</td>\n",
       "      <td>smart</td>\n",
       "      <td>231</td>\n",
       "      <td>600</td>\n",
       "      <td>27.0</td>\n",
       "      <td>1408.0</td>\n",
       "    </tr>\n",
       "    <tr>\n",
       "      <td>3209</td>\n",
       "      <td>1499</td>\n",
       "      <td>12.0</td>\n",
       "      <td>465.16</td>\n",
       "      <td>13055.58</td>\n",
       "      <td>66.0</td>\n",
       "      <td>35</td>\n",
       "      <td>NaN</td>\n",
       "      <td>Пермь</td>\n",
       "      <td>Гектор</td>\n",
       "      <td>Корнилов</td>\n",
       "      <td>...</td>\n",
       "      <td>500</td>\n",
       "      <td>550</td>\n",
       "      <td>200</td>\n",
       "      <td>3</td>\n",
       "      <td>3</td>\n",
       "      <td>smart</td>\n",
       "      <td>0</td>\n",
       "      <td>0</td>\n",
       "      <td>48.0</td>\n",
       "      <td>598.0</td>\n",
       "    </tr>\n",
       "    <tr>\n",
       "      <td>3210</td>\n",
       "      <td>1489</td>\n",
       "      <td>8.0</td>\n",
       "      <td>0.00</td>\n",
       "      <td>11050.56</td>\n",
       "      <td>17.0</td>\n",
       "      <td>35</td>\n",
       "      <td>NaN</td>\n",
       "      <td>Санкт-Петербург</td>\n",
       "      <td>Павел</td>\n",
       "      <td>Гончаров</td>\n",
       "      <td>...</td>\n",
       "      <td>500</td>\n",
       "      <td>550</td>\n",
       "      <td>200</td>\n",
       "      <td>3</td>\n",
       "      <td>3</td>\n",
       "      <td>smart</td>\n",
       "      <td>0</td>\n",
       "      <td>0</td>\n",
       "      <td>0.0</td>\n",
       "      <td>550.0</td>\n",
       "    </tr>\n",
       "    <tr>\n",
       "      <td>3211</td>\n",
       "      <td>1489</td>\n",
       "      <td>9.0</td>\n",
       "      <td>0.00</td>\n",
       "      <td>17206.30</td>\n",
       "      <td>32.0</td>\n",
       "      <td>35</td>\n",
       "      <td>NaN</td>\n",
       "      <td>Санкт-Петербург</td>\n",
       "      <td>Павел</td>\n",
       "      <td>Гончаров</td>\n",
       "      <td>...</td>\n",
       "      <td>500</td>\n",
       "      <td>550</td>\n",
       "      <td>200</td>\n",
       "      <td>3</td>\n",
       "      <td>3</td>\n",
       "      <td>smart</td>\n",
       "      <td>0</td>\n",
       "      <td>400</td>\n",
       "      <td>0.0</td>\n",
       "      <td>950.0</td>\n",
       "    </tr>\n",
       "    <tr>\n",
       "      <td>3212</td>\n",
       "      <td>1489</td>\n",
       "      <td>10.0</td>\n",
       "      <td>0.00</td>\n",
       "      <td>19559.44</td>\n",
       "      <td>21.0</td>\n",
       "      <td>35</td>\n",
       "      <td>NaN</td>\n",
       "      <td>Санкт-Петербург</td>\n",
       "      <td>Павел</td>\n",
       "      <td>Гончаров</td>\n",
       "      <td>...</td>\n",
       "      <td>500</td>\n",
       "      <td>550</td>\n",
       "      <td>200</td>\n",
       "      <td>3</td>\n",
       "      <td>3</td>\n",
       "      <td>smart</td>\n",
       "      <td>0</td>\n",
       "      <td>1000</td>\n",
       "      <td>0.0</td>\n",
       "      <td>1550.0</td>\n",
       "    </tr>\n",
       "    <tr>\n",
       "      <td>3213</td>\n",
       "      <td>1489</td>\n",
       "      <td>11.0</td>\n",
       "      <td>0.00</td>\n",
       "      <td>17491.56</td>\n",
       "      <td>20.0</td>\n",
       "      <td>35</td>\n",
       "      <td>NaN</td>\n",
       "      <td>Санкт-Петербург</td>\n",
       "      <td>Павел</td>\n",
       "      <td>Гончаров</td>\n",
       "      <td>...</td>\n",
       "      <td>500</td>\n",
       "      <td>550</td>\n",
       "      <td>200</td>\n",
       "      <td>3</td>\n",
       "      <td>3</td>\n",
       "      <td>smart</td>\n",
       "      <td>0</td>\n",
       "      <td>600</td>\n",
       "      <td>0.0</td>\n",
       "      <td>1150.0</td>\n",
       "    </tr>\n",
       "    <tr>\n",
       "      <td>3214</td>\n",
       "      <td>1489</td>\n",
       "      <td>12.0</td>\n",
       "      <td>0.00</td>\n",
       "      <td>17322.51</td>\n",
       "      <td>35.0</td>\n",
       "      <td>35</td>\n",
       "      <td>NaN</td>\n",
       "      <td>Санкт-Петербург</td>\n",
       "      <td>Павел</td>\n",
       "      <td>Гончаров</td>\n",
       "      <td>...</td>\n",
       "      <td>500</td>\n",
       "      <td>550</td>\n",
       "      <td>200</td>\n",
       "      <td>3</td>\n",
       "      <td>3</td>\n",
       "      <td>smart</td>\n",
       "      <td>0</td>\n",
       "      <td>400</td>\n",
       "      <td>0.0</td>\n",
       "      <td>950.0</td>\n",
       "    </tr>\n",
       "    <tr>\n",
       "      <td>3215</td>\n",
       "      <td>1371</td>\n",
       "      <td>0.0</td>\n",
       "      <td>0.00</td>\n",
       "      <td>0.00</td>\n",
       "      <td>0.0</td>\n",
       "      <td>50</td>\n",
       "      <td>2018-12-30</td>\n",
       "      <td>Омск</td>\n",
       "      <td>Ириней</td>\n",
       "      <td>Трофимов</td>\n",
       "      <td>...</td>\n",
       "      <td>500</td>\n",
       "      <td>550</td>\n",
       "      <td>200</td>\n",
       "      <td>3</td>\n",
       "      <td>3</td>\n",
       "      <td>smart</td>\n",
       "      <td>0</td>\n",
       "      <td>0</td>\n",
       "      <td>0.0</td>\n",
       "      <td>550.0</td>\n",
       "    </tr>\n",
       "  </tbody>\n",
       "</table>\n",
       "<p>10 rows × 24 columns</p>\n",
       "</div>"
      ],
      "text/plain": [
       "      user_id  month  duration   mb_used  messages  age  churn_date  \\\n",
       "3206     1499    9.0     64.65   1845.75      11.0   35         NaN   \n",
       "3207     1499   10.0    429.91  17788.51      48.0   35         NaN   \n",
       "3208     1499   11.0    576.50  17963.31      59.0   35         NaN   \n",
       "3209     1499   12.0    465.16  13055.58      66.0   35         NaN   \n",
       "3210     1489    8.0      0.00  11050.56      17.0   35         NaN   \n",
       "3211     1489    9.0      0.00  17206.30      32.0   35         NaN   \n",
       "3212     1489   10.0      0.00  19559.44      21.0   35         NaN   \n",
       "3213     1489   11.0      0.00  17491.56      20.0   35         NaN   \n",
       "3214     1489   12.0      0.00  17322.51      35.0   35         NaN   \n",
       "3215     1371    0.0      0.00      0.00       0.0   50  2018-12-30   \n",
       "\n",
       "                 city first_name last_name  ... minutes_included  \\\n",
       "3206            Пермь     Гектор  Корнилов  ...              500   \n",
       "3207            Пермь     Гектор  Корнилов  ...              500   \n",
       "3208            Пермь     Гектор  Корнилов  ...              500   \n",
       "3209            Пермь     Гектор  Корнилов  ...              500   \n",
       "3210  Санкт-Петербург      Павел  Гончаров  ...              500   \n",
       "3211  Санкт-Петербург      Павел  Гончаров  ...              500   \n",
       "3212  Санкт-Петербург      Павел  Гончаров  ...              500   \n",
       "3213  Санкт-Петербург      Павел  Гончаров  ...              500   \n",
       "3214  Санкт-Петербург      Павел  Гончаров  ...              500   \n",
       "3215             Омск     Ириней  Трофимов  ...              500   \n",
       "\n",
       "     rub_monthly_fee  rub_per_gb  rub_per_message  rub_per_minute  \\\n",
       "3206             550         200                3               3   \n",
       "3207             550         200                3               3   \n",
       "3208             550         200                3               3   \n",
       "3209             550         200                3               3   \n",
       "3210             550         200                3               3   \n",
       "3211             550         200                3               3   \n",
       "3212             550         200                3               3   \n",
       "3213             550         200                3               3   \n",
       "3214             550         200                3               3   \n",
       "3215             550         200                3               3   \n",
       "\n",
       "      tariff_name  vyruchka_calls  vyruchka_gb  vyruchka_sms vyruchka  \n",
       "3206        smart               0            0           0.0    550.0  \n",
       "3207        smart               0          600           0.0   1150.0  \n",
       "3208        smart             231          600          27.0   1408.0  \n",
       "3209        smart               0            0          48.0    598.0  \n",
       "3210        smart               0            0           0.0    550.0  \n",
       "3211        smart               0          400           0.0    950.0  \n",
       "3212        smart               0         1000           0.0   1550.0  \n",
       "3213        smart               0          600           0.0   1150.0  \n",
       "3214        smart               0          400           0.0    950.0  \n",
       "3215        smart               0            0           0.0    550.0  \n",
       "\n",
       "[10 rows x 24 columns]"
      ]
     },
     "metadata": {},
     "output_type": "display_data"
    }
   ],
   "source": [
    "# функци по рассчёту перерасхода (недорасхода) основных ресуросов тарифных пакетов с последующим \n",
    "# округлением, в соответствии с примечаением Мегалайна, или обнулением \n",
    "# (в случае недорасхода ресурсов), и последующим расчётом стоимости оказанных услуг за каждую \n",
    "# услугу - выручка за звонки, трафик, смс + абонентская плата\n",
    "\n",
    "import math \n",
    "\n",
    "def v_calls(row):\n",
    "    extra_calls = math.ceil(row['duration'] - row['minutes_included'])\n",
    "    vyruchka_calls = extra_calls * row['rub_per_minute']\n",
    "    if vyruchka_calls < 0: vyruchka_calls = 0\n",
    "    return vyruchka_calls\n",
    "\n",
    "def v_internet(row):\n",
    "    extra_gb_1 = ((row['mb_used'] - row['mb_per_month_included'])/1024)\n",
    "    extra_gb = math.ceil(extra_gb_1)\n",
    "    vyruchka_gb = extra_gb * row['rub_per_gb']\n",
    "    if vyruchka_gb < 0: vyruchka_gb = 0\n",
    "    return vyruchka_gb\n",
    "\n",
    "def v_sms(row):\n",
    "    vyruchka_sms = (row['messages'] - row['messages_included']) * row['rub_per_message']\n",
    "    if vyruchka_sms < 0: vyruchka_sms = 0\n",
    "    return vyruchka_sms\n",
    "\n",
    "# внесение полученных данных (выручки) для каждого клиента в каждый месяц в единую таблицу\n",
    "data['vyruchka_calls'] = data.apply(v_calls, axis = 1)\n",
    "data['vyruchka_gb'] = data.apply(v_internet, axis = 1)\n",
    "data['vyruchka_sms'] = data.apply(v_sms, axis = 1)\n",
    "\n",
    "# расчёт общей выручки с каждого клиента в сумме\n",
    "data['vyruchka'] = data['vyruchka_calls'] + data['vyruchka_gb'] + data['vyruchka_sms'] + data['rub_monthly_fee']\n",
    "\n",
    "display(data.head())\n",
    "display(data.tail(10))\n"
   ]
  },
  {
   "cell_type": "markdown",
   "metadata": {},
   "source": [
    "Шаг 3. АНАЛИЗ ДАННЫХ"
   ]
  },
  {
   "cell_type": "markdown",
   "metadata": {},
   "source": [
    " Интернет-трафик"
   ]
  },
  {
   "cell_type": "code",
   "execution_count": 21,
   "metadata": {},
   "outputs": [
    {
     "name": "stdout",
     "output_type": "stream",
     "text": [
      "Среднее количество потреблённого интернет-трафика в мегабайтах пользователями тарифа \"smart\": 16201.118654708522\n"
     ]
    },
    {
     "data": {
      "text/plain": [
       "<matplotlib.axes._subplots.AxesSubplot at 0x7fbd288c22d0>"
      ]
     },
     "execution_count": 21,
     "metadata": {},
     "output_type": "execute_result"
    },
    {
     "data": {
      "image/png": "[encoded data removed]",
      "text/plain": [
       "<Figure size 432x288 with 1 Axes>"
      ]
     },
     "metadata": {
      "needs_background": "light"
     },
     "output_type": "display_data"
    }
   ],
   "source": [
    "# данные об интернет-сессиях с точки зрения потреблённого трафика \n",
    "# тариф smart\n",
    "print('Среднее количество потреблённого интернет-трафика в мегабайтах пользователями тарифа \"smart\":', \n",
    "      data.loc[data['tariff_name'] == 'smart', 'mb_used'].mean())\n",
    "data.loc[data['tariff_name'] == 'smart', 'mb_used'].hist(bins = 100, range = (0, 40000))\n",
    "      "
   ]
  },
  {
   "cell_type": "code",
   "execution_count": 22,
   "metadata": {},
   "outputs": [
    {
     "name": "stdout",
     "output_type": "stream",
     "text": [
      "Дисперсия величины потреблённого интернет-трафика потребителем тарифа \"smart\" составляет:\n",
      "34549343.55148492\n",
      "\n",
      "Стандартное отклонение величины потреблённого интернет-трафика потребителем тарифа \"smart\" составляет:\n",
      "5877.868963449672\n"
     ]
    }
   ],
   "source": [
    "# подсчёт дисперсии и стандартного отклонения\n",
    "# тариф smart\n",
    "import numpy as np\n",
    "\n",
    "var_smart_mb = np.var(data.loc[data['tariff_name'] == 'smart', 'mb_used'])\n",
    "std_smart_mb = var_smart_mb**0.5\n",
    "print('Дисперсия величины потреблённого интернет-трафика потребителем \\\n",
    "тарифа \"smart\" составляет:') \n",
    "print(var_smart_mb)\n",
    "print()\n",
    "print('Стандартное отклонение величины потреблённого интернет-трафика потребителем \\\n",
    "тарифа \"smart\" составляет:')\n",
    "print(std_smart_mb)\n"
   ]
  },
  {
   "cell_type": "code",
   "execution_count": 23,
   "metadata": {},
   "outputs": [
    {
     "name": "stdout",
     "output_type": "stream",
     "text": [
      "Среднее количество потреблённого интернет-трафика в мегабайтах пользователями тарифа \"ultra\": 19449.059969574035\n",
      "\n"
     ]
    },
    {
     "data": {
      "text/plain": [
       "<matplotlib.axes._subplots.AxesSubplot at 0x7fbd29382a10>"
      ]
     },
     "execution_count": 23,
     "metadata": {},
     "output_type": "execute_result"
    },
    {
     "data": {
      "image/png": "[encoded data removed]",
      "text/plain": [
       "<Figure size 432x288 with 1 Axes>"
      ]
     },
     "metadata": {
      "needs_background": "light"
     },
     "output_type": "display_data"
    }
   ],
   "source": [
    "# данные об интернет-сессиях с точки зрения потреблённого трафика \n",
    "# тариф ultra\n",
    "print('Среднее количество потреблённого интернет-трафика в мегабайтах пользователями тарифа \"ultra\":', \n",
    "      data.loc[data['tariff_name'] == 'ultra', 'mb_used'].mean())\n",
    "print()\n",
    "data.loc[data['tariff'] == 'ultra', 'mb_used'].hist(bins = 100, range = (0, 50000))\n"
   ]
  },
  {
   "cell_type": "code",
   "execution_count": 24,
   "metadata": {},
   "outputs": [
    {
     "name": "stdout",
     "output_type": "stream",
     "text": [
      "Дисперсия величины потреблённого интернет-трафика потребителем тарифа \"ultra\" составляет:\n",
      "101928648.60329504\n",
      "\n",
      "Стандартное отклонение величины потреблённого интернет-трафика потребителем тарифа \"ultra\" составляет:\n",
      "10095.971899886363\n"
     ]
    }
   ],
   "source": [
    "# подсчёт дисперсии и стандартного отклонения\n",
    "# тариф ultra\n",
    "var_ultra_mb = np.var(data.loc[data['tariff_name'] == 'ultra', 'mb_used'])\n",
    "std_ultra_mb = var_ultra_mb**0.5\n",
    "print('Дисперсия величины потреблённого интернет-трафика потребителем \\\n",
    "тарифа \"ultra\" составляет:') \n",
    "print(var_ultra_mb)\n",
    "print()\n",
    "print('Стандартное отклонение величины потреблённого интернет-трафика потребителем \\\n",
    "тарифа \"ultra\" составляет:')\n",
    "print(std_ultra_mb)"
   ]
  },
  {
   "cell_type": "markdown",
   "metadata": {},
   "source": [
    "Анализ количества потреблённого интернет-трафика\n",
    "\n",
    "   Пользователи тарифа smart в стреднем потребляли 16201 мегабайт трафика в месяц\n",
    "\n",
    "   Дисперсия величины потреблённого интернет-трафика потребителем тарифа smart составляет:\n",
    "34549343.\n",
    "   Стандартное отклонение величины потреблённого интернет-трафика потребителем тарифа smart составляет: 5877 мегабайт\n",
    "\n",
    "\n",
    "   Пользователи тарифа ultra в стреднем потребляли 19449 мегабайт трафика в месяц.\n",
    "   Дисперсия величины потреблённого интернет-трафика потребителем тарифа ultra составляет:\n",
    "101928648.\n",
    "    Стандартное отклонение величины потреблённого интернет-трафика потребителем тарифа ultra составляет: 10096 мегабайт.\n",
    "\n",
    "\n",
    "Гистограмма, отображающая количество потреблённого интернет-трафика пользователями тарифа smart выглядит более скученно, пик максимума более выражен по сравнению с гистораммой тарифа ultra. \n",
    "\n",
    "Стандартное отклонение величины потреблённого интернет-трафика потребителем тарифа ultra значительно больше аналогичной величины для тарифа smart. \n",
    "Такие результаты могут говорить о более свободном отношении клиента тарифа ultra к имеющимся в запасе ресурсе трафика, покупке им трафика \"про запас\". В подтверждение этой гипотезы говорит небольшая разница в средних показателях потреблённого трафика.\n"
   ]
  },
  {
   "cell_type": "markdown",
   "metadata": {},
   "source": [
    "Телефонные звонки"
   ]
  },
  {
   "cell_type": "code",
   "execution_count": 25,
   "metadata": {},
   "outputs": [
    {
     "name": "stdout",
     "output_type": "stream",
     "text": [
      "Среднее количество минут телефонных разговоров, совершённых пользователями тарифа \"smart\": 394.2501524663677\n"
     ]
    },
    {
     "data": {
      "text/plain": [
       "<matplotlib.axes._subplots.AxesSubplot at 0x7fbd28c15c10>"
      ]
     },
     "execution_count": 25,
     "metadata": {},
     "output_type": "execute_result"
    },
    {
     "data": {
      "image/png": "[encoded data removed]",
      "text/plain": [
       "<Figure size 432x288 with 1 Axes>"
      ]
     },
     "metadata": {
      "needs_background": "light"
     },
     "output_type": "display_data"
    }
   ],
   "source": [
    "# данные о телефонных звонках\n",
    "# тариф smart\n",
    "print('Среднее количество минут телефонных разговоров, совершённых пользователями тарифа \"smart\":', \n",
    "      data.loc[data['tariff_name'] == 'smart', 'duration'].mean())\n",
    "data.loc[data['tariff'] == 'smart', 'duration'].hist(bins = 100, range = (0, 900))"
   ]
  },
  {
   "cell_type": "code",
   "execution_count": 26,
   "metadata": {},
   "outputs": [
    {
     "name": "stdout",
     "output_type": "stream",
     "text": [
      "Дисперсия количества потраченных минут телефонных разговоров потребителем тарифа \"smart\" составляет:\n",
      "32427.082132532803\n",
      "\n",
      "Стандартное отклонение количества потраченных минут телефонных разговоров потребителем тарифа \"smart\" составляет:\n",
      "180.07521243228564\n"
     ]
    }
   ],
   "source": [
    "# подсчёт дисперсии и стандартного отклонения\n",
    "# тариф smart\n",
    "var_smart_calls = np.var(data.loc[data['tariff_name'] == 'smart', 'duration'])\n",
    "std_smart_calls = var_smart_calls**0.5\n",
    "print('Дисперсия количества потраченных минут телефонных разговоров потребителем \\\n",
    "тарифа \"smart\" составляет:') \n",
    "print(var_smart_calls)\n",
    "print()\n",
    "print('Стандартное отклонение количества потраченных минут телефонных разговоров потребителем \\\n",
    "тарифа \"smart\" составляет:')\n",
    "print(std_smart_calls)"
   ]
  },
  {
   "cell_type": "code",
   "execution_count": 27,
   "metadata": {},
   "outputs": [
    {
     "name": "stdout",
     "output_type": "stream",
     "text": [
      "Среднее количество минут телефонных разговоров, совершённых пользователями тарифа \"ultra\": 496.5640973630832\n"
     ]
    },
    {
     "data": {
      "text/plain": [
       "<matplotlib.axes._subplots.AxesSubplot at 0x7fbd2be07890>"
      ]
     },
     "execution_count": 27,
     "metadata": {},
     "output_type": "execute_result"
    },
    {
     "data": {
      "image/png": "[encoded data removed]",
      "text/plain": [
       "<Figure size 432x288 with 1 Axes>"
      ]
     },
     "metadata": {
      "needs_background": "light"
     },
     "output_type": "display_data"
    }
   ],
   "source": [
    "# данные о телефонных звонках\n",
    "# тариф ultra\n",
    "print('Среднее количество минут телефонных разговоров, совершённых пользователями тарифа \"ultra\":', \n",
    "      data.loc[data['tariff_name'] == 'ultra', 'duration'].mean())\n",
    "data.loc[data['tariff'] == 'ultra', 'duration'].hist(bins = 100, range = (1, 1400))"
   ]
  },
  {
   "cell_type": "code",
   "execution_count": 28,
   "metadata": {},
   "outputs": [
    {
     "name": "stdout",
     "output_type": "stream",
     "text": [
      "Дисперсия количества потраченных минут телефонных разговоров потребителем тарифа \"ultra\" составляет:\n",
      "90010.39208645704\n",
      "\n",
      "Стандартное отклонение количества потраченных минут телефонных разговоров потребителем тарифа \"ultra\" составляет:\n",
      "300.01731964414495\n"
     ]
    }
   ],
   "source": [
    "# подсчёт дисперсии и стандартного отклонения\n",
    "# тариф ultra\n",
    "var_ultra_calls = np.var(data.loc[data['tariff_name'] == 'ultra', 'duration'])\n",
    "std_ultra_calls = var_ultra_calls**0.5\n",
    "print('Дисперсия количества потраченных минут телефонных разговоров потребителем \\\n",
    "тарифа \"ultra\" составляет:') \n",
    "print(var_ultra_calls)\n",
    "print()\n",
    "print('Стандартное отклонение количества потраченных минут телефонных разговоров потребителем \\\n",
    "тарифа \"ultra\" составляет:')\n",
    "print(std_ultra_calls)"
   ]
  },
  {
   "cell_type": "markdown",
   "metadata": {},
   "source": [
    "Анализ количества потраченных минут телефонных звонков\n",
    "\n",
    "   Пользователи тарифа smart в стреднем потратили 394 минуты телефонных переговоров в месяц\n",
    "   \n",
    "   Дисперсия количества потраченных минут телефонных разговоров потребителем тарифа smart составляет: 32427\n",
    "\n",
    "   Стандартное отклонение количества потраченных минут телефонных разговоров потребителем тарифа smart составляет: 180 минут\n",
    "\n",
    "\n",
    "\n",
    "   Пользователи тарифа ultra в стреднем потратили 497 минут телефонных переговоров в месяц\n",
    "\n",
    "   Дисперсия количества потраченных минут телефонных разговоров потребителем тарифа ultra составляет: 90010\n",
    "\n",
    "   Стандартное отклонение количества потраченных минут телефонных разговоров потребителем тарифа ultra составляет: 300 минут\n",
    "\n",
    "\n",
    "\n",
    "Гистограмма, отображающая количество  потраченных минут телефонных звонков пользователями тарифа smart выглядит немного более скученно, хвост справа менее выражен по сравнению с гистораммой тарифа ultra.\n",
    "Стандартное отклонение величины потраченных минут телефонных разговоров потребителем тарифа ultra значительно больше аналогичной величины для тарифа smart, и больше разницы в средних величинах. Результаты аналогичны данным по интернет-трафику: возможно более свободное отношение клиента тарифа ultra к имеющимся в запасе ресурсе доступных минут телефонных разговоров, покупке им телефонных минут \"про запас\". "
   ]
  },
  {
   "cell_type": "markdown",
   "metadata": {},
   "source": [
    "Текстовые сообщения"
   ]
  },
  {
   "cell_type": "code",
   "execution_count": 29,
   "metadata": {},
   "outputs": [
    {
     "name": "stdout",
     "output_type": "stream",
     "text": [
      "Среднее количество сообщений, отправленных пользователями тарифа \"smart\": 33.36905829596412\n"
     ]
    },
    {
     "data": {
      "text/plain": [
       "<matplotlib.axes._subplots.AxesSubplot at 0x7fbd2bca9910>"
      ]
     },
     "execution_count": 29,
     "metadata": {},
     "output_type": "execute_result"
    },
    {
     "data": {
      "image/png": "[encoded data removed]",
      "text/plain": [
       "<Figure size 432x288 with 1 Axes>"
      ]
     },
     "metadata": {
      "needs_background": "light"
     },
     "output_type": "display_data"
    }
   ],
   "source": [
    "# данные о текстовых сообщениях\n",
    "# тариф smart\n",
    "print('Среднее количество сообщений, отправленных пользователями тарифа \"smart\":', \n",
    "      data.loc[data['tariff_name'] == 'smart', 'messages'].mean())\n",
    "data.loc[data['tariff'] == 'smart', 'messages'].hist(bins = 100, range = (1, 140))"
   ]
  },
  {
   "cell_type": "code",
   "execution_count": 30,
   "metadata": {},
   "outputs": [
    {
     "name": "stdout",
     "output_type": "stream",
     "text": [
      "Дисперсия количества отправленных сообщений потребителем тарифа \"smart\" составляет:\n",
      "796.5978766916688\n",
      "\n",
      "Стандартное отклонение количества отправленных сообщений потребителем тарифа \"smart\" составляет:\n",
      "28.224065559229217\n"
     ]
    }
   ],
   "source": [
    "# подсчёт дисперсии и стандартного отклонения\n",
    "# тариф smart\n",
    "var_smart_sms = np.var(data.loc[data['tariff_name'] == 'smart', 'messages'])\n",
    "std_smart_sms = var_smart_sms**0.5\n",
    "print('Дисперсия количества отправленных сообщений потребителем \\\n",
    "тарифа \"smart\" составляет:') \n",
    "print(var_smart_sms)\n",
    "print()\n",
    "print('Стандартное отклонение количества отправленных сообщений потребителем \\\n",
    "тарифа \"smart\" составляет:')\n",
    "print(std_smart_sms)"
   ]
  },
  {
   "cell_type": "code",
   "execution_count": 31,
   "metadata": {},
   "outputs": [
    {
     "name": "stdout",
     "output_type": "stream",
     "text": [
      "Среднее количество сообщений, отправленных пользователями тарифа \"ultra\": 49.31338742393509\n"
     ]
    },
    {
     "data": {
      "text/plain": [
       "<matplotlib.axes._subplots.AxesSubplot at 0x7fbd2bb1fa10>"
      ]
     },
     "execution_count": 31,
     "metadata": {},
     "output_type": "execute_result"
    },
    {
     "data": {
      "image/png": "[encoded data removed]",
      "text/plain": [
       "<Figure size 432x288 with 1 Axes>"
      ]
     },
     "metadata": {
      "needs_background": "light"
     },
     "output_type": "display_data"
    }
   ],
   "source": [
    "# данные о текстовых сообщениях\n",
    "# тариф ultra\n",
    "print('Среднее количество сообщений, отправленных пользователями тарифа \"ultra\":', \n",
    "      data.loc[data['tariff_name'] == 'ultra', 'messages'].mean())\n",
    "data.loc[data['tariff'] == 'ultra', 'messages'].hist(bins = 100, range = (1, 200))"
   ]
  },
  {
   "cell_type": "code",
   "execution_count": 32,
   "metadata": {},
   "outputs": [
    {
     "name": "stdout",
     "output_type": "stream",
     "text": [
      "Дисперсия количества отправленных сообщений потребителем тарифа \"ultra\" составляет:\n",
      "2283.0995570851965\n",
      "\n",
      "Стандартное отклонение количества отправленных сообщений потребителем тарифа \"ultra\" составляет:\n",
      "47.781791061922284\n"
     ]
    }
   ],
   "source": [
    "# подсчёт дисперсии и стандартного отклонения\n",
    "# тариф ultra\n",
    "var_ultra_sms = np.var(data.loc[data['tariff_name'] == 'ultra', 'messages'])\n",
    "std_ultra_sms = var_ultra_sms**0.5\n",
    "print('Дисперсия количества отправленных сообщений потребителем \\\n",
    "тарифа \"ultra\" составляет:') \n",
    "print(var_ultra_sms)\n",
    "print()\n",
    "print('Стандартное отклонение количества отправленных сообщений потребителем \\\n",
    "тарифа \"ultra\" составляет:')\n",
    "print(std_ultra_sms)"
   ]
  },
  {
   "cell_type": "markdown",
   "metadata": {},
   "source": [
    "Анализ количества отправленных текстовых сообщений\n",
    "\n",
    "\n",
    "   Пользователи тарифа smart в среднем отправляли 33 сообщения в месяц\n",
    "   \n",
    "   Дисперсия количества отправленных сообщений потребителем тарифа smart составляет:\n",
    "797\n",
    "\n",
    "   Стандартное отклонение количества отправленных сообщений потребителем тарифа smart составляет:\n",
    "28 сообщений\n",
    "\n",
    "\n",
    "\n",
    "   Пользователи тарифа ultra в стреднем отправляли 49 сообщения в месяц\n",
    "   \n",
    "   Дисперсия количества отправленных сообщений потребителем тарифа ultra составляет:\n",
    "2283\n",
    "\n",
    "   Стандартное отклонение количества отправленных сообщений потребителем тарифа ultra составляет:\n",
    "48 сообщений\n",
    "\n",
    "\n",
    "Гистограммы для обоих тарифов имеют схожий вид - ниспадающий пилообразный график без явного максимума с большой амплитудой значений (множеством пиков и провалов).\n",
    "\n",
    "Данные по отправленным сообщениям аналогичны данным для интернет-трафика и потраченных минут телефонных разговоров. Стандартное отклонение количества отправленных сообщений потребителем тарифа ultra практически равно средней величине отправленных сообщений клиентами того же тарифа, что является очень большим разбросом. \n",
    "\n",
    "На основе этих данных и данных по интернет-трафику и телефонным звонкам можно сделать предположение  о покупке тарифа ultra \"на всякий случай\", \"про запас\".\n"
   ]
  },
  {
   "cell_type": "markdown",
   "metadata": {},
   "source": [
    "ШАГ 4. ПРОВЕРКА ГИПОТЕЗ\n",
    "\n",
    "\n",
    "•\tСредняя выручка пользователей тарифов «Ультра» и «Смарт» равна.\n",
    "\n",
    "•\tСредняя выручка пользователей из Москвы равна средней выручке от пользователей из других городов.\n"
   ]
  },
  {
   "cell_type": "markdown",
   "metadata": {},
   "source": [
    "Проверка гипотез будет осуществлена статистическим способом, методом scipy.stats.ttest_ind (array1, array2, equal_var).\n",
    "\n",
    "Выбор проверки гипотез обусловлен тем, что в исследовании участвуют две генеральных совокупности, совокупности независимы, количественно близки (количество строк каждой совокупности одного порядка).\n",
    "\n",
    "Плюс к указанному, будет проведён прямой расчёт средних величин для наглядности и контроля автоматического (скрытого) рассчёта. "
   ]
  },
  {
   "cell_type": "code",
   "execution_count": 33,
   "metadata": {},
   "outputs": [
    {
     "name": "stdout",
     "output_type": "stream",
     "text": [
      "Средняя выручка с клиента тарифа \"smart\": 1257.2713004484306\n",
      "Средняя выручка с клиента тарифа \"ultra\": 2070.030425963489\n"
     ]
    }
   ],
   "source": [
    "# расчёт средней выручки для обоих тарифов\n",
    "\n",
    "print('Средняя выручка с клиента тарифа \"smart\":', \n",
    "      data.loc[data['tariff_name'] == 'smart', 'vyruchka'].mean())\n",
    "\n",
    "print('Средняя выручка с клиента тарифа \"ultra\":', \n",
    "      data.loc[data['tariff_name'] == 'ultra', 'vyruchka'].mean())"
   ]
  },
  {
   "cell_type": "code",
   "execution_count": 34,
   "metadata": {},
   "outputs": [
    {
     "name": "stdout",
     "output_type": "stream",
     "text": [
      "p-значение:  8.22236342276661e-179\n",
      "Отвергаем нулевую гипотезу\n"
     ]
    }
   ],
   "source": [
    "# проверка гипотезы о равенстве средней выручки пользователей тарифов «Ультра» и «Смарт»\n",
    "from scipy import stats as st\n",
    "\n",
    "alpha = 0.05\n",
    "\n",
    "smart_vyr =  data.loc[data['tariff_name'] == 'smart', 'vyruchka']\n",
    "\n",
    "ultra_vyr = data.loc[data['tariff_name'] == 'ultra', 'vyruchka']\n",
    "\n",
    "results = st.ttest_ind(smart_vyr, ultra_vyr)\n",
    "\n",
    "print('p-значение: ', results.pvalue)\n",
    "\n",
    "if results.pvalue < alpha:\n",
    "    print(\"Отвергаем нулевую гипотезу\")\n",
    "else:\n",
    "    print(\"Не получилось отвергнуть нулевую гипотезу\") \n"
   ]
  },
  {
   "cell_type": "markdown",
   "metadata": {},
   "source": [
    "Расчёт средних значений выручек пользователей тарифов «Ультра» и «Смарт» очевидно говорит, что средняя выручка различается.\n",
    "\n",
    "К такому же выводу можно прийти путём проведения статистического теста.\n",
    "\n",
    "Гипотеза о равенстве выручек пользователей тарифов «Ультра» и «Смарт» отвергнута."
   ]
  },
  {
   "cell_type": "code",
   "execution_count": 35,
   "metadata": {},
   "outputs": [
    {
     "name": "stdout",
     "output_type": "stream",
     "text": [
      "Средняя выручка с клиентов из Москвы: 1526.8379705400982\n",
      "Средняя выручка с клиентов не из Москвы / из других городов: 1501.6763915547026\n"
     ]
    }
   ],
   "source": [
    "# расчёт средней выручки для обоих тарифов\n",
    "\n",
    "print('Средняя выручка с клиентов из Москвы:', \n",
    "      data.loc[data['city'] == 'Москва', 'vyruchka'].mean())\n",
    "\n",
    "print('Средняя выручка с клиентов не из Москвы / из других городов:', \n",
    "      data.loc[data['city'] != 'Москва', 'vyruchka'].mean()) \n",
    "   "
   ]
  },
  {
   "cell_type": "code",
   "execution_count": 36,
   "metadata": {},
   "outputs": [
    {
     "name": "stdout",
     "output_type": "stream",
     "text": [
      "p-значение:  0.4802219795713344\n",
      "Не получилось отвергнуть нулевую гипотезу\n"
     ]
    }
   ],
   "source": [
    "# проверка гипотезы о равенстве средней выручки пользователей из Москвы и других городов\n",
    "\n",
    "alpha = 0.05\n",
    "\n",
    "moscow_vyr =  data.loc[data['city'] == 'Москва', 'vyruchka']\n",
    "\n",
    "nomoscow_vyr = data.loc[data['city'] != 'Москва', 'vyruchka']\n",
    "\n",
    "results = st.ttest_ind(moscow_vyr, nomoscow_vyr)\n",
    "\n",
    "print('p-значение: ', results.pvalue)\n",
    "\n",
    "if results.pvalue < alpha:\n",
    "    print(\"Отвергаем нулевую гипотезу\")\n",
    "else:\n",
    "    print(\"Не получилось отвергнуть нулевую гипотезу\") \n"
   ]
  },
  {
   "cell_type": "markdown",
   "metadata": {},
   "source": [
    "Расчёт средних значений выручек пользователей из Москвы и других городов не даёт однозначного ответа.\n",
    "\n",
    "Статистический тест даёт ответ, что средние значения выручек пользователей из Москвы и других городов не отличаются.\n",
    "\n",
    "Гипотезу о равенстве выручек пользователей из Москвы и выручки от пользователей из других регионов отвергнуть не получилось.\n"
   ]
  },
  {
   "cell_type": "markdown",
   "metadata": {},
   "source": [
    "ОБЩИЙ ВЫВОД\n",
    "\n",
    "•\tИсходные таблицы содержат данные о полученных пользователями услугах компании \"Мегалайн\": потраченные минуты телефонных разговоров, интернет-трафике, отправленных сообщениях. Таблицы содержат информацию о пользователях двух тарифных планах \"Smart\" и \"Ultra\", различающихся объёмом предоставляемых услуг. \n",
    "\n",
    "•\tДанные в таблицы собраны за различные временные промежутки времени, что может объяснять большие отличия в объёмах потреблённых услуг (разница до трёх с половиной порядков). Получающиеся значения можно было бы считать выбросами, если бы данные были нормированы по определённому отрезку времени. Судя по построенным гистограммам для исходных данных необъединённых таблиц, данных, собранных за резко отличающийся промежуток времни, не большое количество, т.к. гистограммы имеют колоколообразный вид, а хвост справа имеет небольшую величину по частоте.\n",
    "\n",
    "•\tДля обработки данных было необходимо объединить все исходные таблицы в единую таблицу. При объединении образовалось некоторое количество пропусков в столбцах, с обрабатываемыми данными. Эти пропуски были заполнены нулями, т.к. такое заполнение не могло исказить результат обработки. Данные столбца churn_date в текущем проекте не рассматриваются, поэтому пропуски этого столбца не заполнялись.\n",
    "\n",
    "•\tИсходя из результатов анализа данных можно сделать следующие выводы:\n",
    "- пользователи тарифа \"Smart\" покупают телеком-услуги для их целевого использования, т.е. предполагая ежемесячный объём потребляемых услуг;\n",
    "- пользователи тарифа \"Ultra\" используют телеком-услуги нецелевым способом, часто  потребляя меньше возможного, т.е. плохо расчитывая ежемесячный объём потребляемых услуг; вероятно, тариф покупается \"на всякий случай\" для избежания переплат в случае перерасхода;\n",
    "- путь избегания переплат из-за перерасхода услуг покупкой тарифа \"Ultra\" с целью сокращения финансовых затрат ошибочен.\n",
    "\n",
    "•\tЗадачей проекта была проверка двух гипотез о величине средней выручки в зависимости от тарифного плана и от места регистрации пользователя (тарифного плана).\n",
    "\n",
    "Гипотеза 1. Средняя выручка пользователей тарифов «Ультра» и «Смарт» равна.\n",
    "\n",
    "Гипотеза отвергнута.\n",
    "\n",
    "Гипотеза 2. Средняя выручка пользователей из Москвы равна средней выручке от пользователей из других городов.\n",
    "\n",
    "Гипотеза не отвергнута."
   ]
  }
 ],
 "metadata": {
  "ExecuteTimeLog": [
   {
    "duration": 3075,
    "start_time": "2021-12-07T16:59:21.283Z"
   },
   {
    "duration": 2016,
    "start_time": "2021-12-07T16:59:51.470Z"
   },
   {
    "duration": 529,
    "start_time": "2021-12-07T17:00:14.403Z"
   },
   {
    "duration": 450,
    "start_time": "2021-12-07T17:01:13.836Z"
   },
   {
    "duration": 447,
    "start_time": "2021-12-07T17:02:48.657Z"
   },
   {
    "duration": 433,
    "start_time": "2021-12-07T17:04:22.872Z"
   },
   {
    "duration": 452,
    "start_time": "2021-12-07T17:04:44.943Z"
   },
   {
    "duration": 463,
    "start_time": "2021-12-07T17:13:09.522Z"
   },
   {
    "duration": 477,
    "start_time": "2021-12-07T17:13:49.225Z"
   },
   {
    "duration": 465,
    "start_time": "2021-12-07T17:14:10.295Z"
   },
   {
    "duration": 6594,
    "start_time": "2021-12-07T17:15:48.534Z"
   },
   {
    "duration": 482,
    "start_time": "2021-12-07T17:16:12.508Z"
   },
   {
    "duration": 468,
    "start_time": "2021-12-07T17:16:31.976Z"
   },
   {
    "duration": 716,
    "start_time": "2021-12-07T17:17:01.321Z"
   },
   {
    "duration": 484,
    "start_time": "2021-12-07T17:17:14.977Z"
   },
   {
    "duration": 82,
    "start_time": "2021-12-07T17:20:23.232Z"
   },
   {
    "duration": 445,
    "start_time": "2021-12-07T17:20:39.043Z"
   },
   {
    "duration": 440,
    "start_time": "2021-12-07T17:22:25.714Z"
   },
   {
    "duration": 677,
    "start_time": "2021-12-07T17:35:49.182Z"
   },
   {
    "duration": 470,
    "start_time": "2021-12-07T17:36:09.221Z"
   },
   {
    "duration": 463,
    "start_time": "2021-12-07T17:38:25.773Z"
   },
   {
    "duration": 455,
    "start_time": "2021-12-07T17:39:23.640Z"
   },
   {
    "duration": 460,
    "start_time": "2021-12-07T17:40:09.087Z"
   },
   {
    "duration": 470,
    "start_time": "2021-12-07T17:40:52.213Z"
   },
   {
    "duration": 507,
    "start_time": "2021-12-07T17:41:25.045Z"
   },
   {
    "duration": 399,
    "start_time": "2021-12-07T17:42:38.845Z"
   },
   {
    "duration": 47,
    "start_time": "2021-12-07T17:42:41.586Z"
   },
   {
    "duration": 52,
    "start_time": "2021-12-07T17:46:00.763Z"
   },
   {
    "duration": 52,
    "start_time": "2021-12-07T17:47:01.526Z"
   },
   {
    "duration": 53,
    "start_time": "2021-12-07T17:49:03.953Z"
   },
   {
    "duration": 62,
    "start_time": "2021-12-07T17:50:38.298Z"
   },
   {
    "duration": 264,
    "start_time": "2021-12-07T18:03:01.644Z"
   },
   {
    "duration": 323,
    "start_time": "2021-12-07T18:03:30.686Z"
   },
   {
    "duration": 354,
    "start_time": "2021-12-07T18:03:49.139Z"
   },
   {
    "duration": 431,
    "start_time": "2021-12-07T18:04:20.764Z"
   },
   {
    "duration": 371,
    "start_time": "2021-12-07T18:06:00.413Z"
   },
   {
    "duration": 355,
    "start_time": "2021-12-07T18:08:57.007Z"
   },
   {
    "duration": 519,
    "start_time": "2021-12-07T18:10:13.203Z"
   },
   {
    "duration": 359,
    "start_time": "2021-12-07T18:10:31.504Z"
   },
   {
    "duration": 454,
    "start_time": "2021-12-07T18:10:53.810Z"
   },
   {
    "duration": 367,
    "start_time": "2021-12-07T18:11:13.076Z"
   },
   {
    "duration": 351,
    "start_time": "2021-12-07T18:11:35.957Z"
   },
   {
    "duration": 359,
    "start_time": "2021-12-07T18:14:45.010Z"
   },
   {
    "duration": 362,
    "start_time": "2021-12-07T18:15:21.836Z"
   },
   {
    "duration": 356,
    "start_time": "2021-12-07T18:16:10.955Z"
   },
   {
    "duration": 462,
    "start_time": "2021-12-07T18:16:25.778Z"
   },
   {
    "duration": 380,
    "start_time": "2021-12-07T18:17:31.303Z"
   },
   {
    "duration": 348,
    "start_time": "2021-12-07T18:20:09.990Z"
   },
   {
    "duration": 365,
    "start_time": "2021-12-07T18:20:37.219Z"
   },
   {
    "duration": 358,
    "start_time": "2021-12-07T18:21:29.285Z"
   },
   {
    "duration": 178,
    "start_time": "2021-12-07T18:23:32.003Z"
   },
   {
    "duration": 278,
    "start_time": "2021-12-07T18:23:54.192Z"
   },
   {
    "duration": 170,
    "start_time": "2021-12-07T18:24:11.081Z"
   },
   {
    "duration": 155,
    "start_time": "2021-12-07T18:24:18.422Z"
   },
   {
    "duration": 142,
    "start_time": "2021-12-07T18:24:26.575Z"
   },
   {
    "duration": 167,
    "start_time": "2021-12-07T18:24:33.385Z"
   },
   {
    "duration": 154,
    "start_time": "2021-12-07T18:24:47.125Z"
   },
   {
    "duration": 163,
    "start_time": "2021-12-07T18:35:55.887Z"
   },
   {
    "duration": 147,
    "start_time": "2021-12-07T18:37:55.240Z"
   },
   {
    "duration": 347,
    "start_time": "2021-12-07T18:45:15.099Z"
   },
   {
    "duration": 365,
    "start_time": "2021-12-07T18:45:27.834Z"
   },
   {
    "duration": 488,
    "start_time": "2021-12-07T18:46:49.517Z"
   },
   {
    "duration": 17,
    "start_time": "2021-12-07T19:02:14.658Z"
   },
   {
    "duration": 18,
    "start_time": "2021-12-07T19:03:52.169Z"
   },
   {
    "duration": 55,
    "start_time": "2021-12-07T19:06:04.718Z"
   },
   {
    "duration": 1072,
    "start_time": "2021-12-07T19:12:18.467Z"
   },
   {
    "duration": 75,
    "start_time": "2021-12-07T19:12:19.541Z"
   },
   {
    "duration": 479,
    "start_time": "2021-12-07T19:12:19.618Z"
   },
   {
    "duration": 171,
    "start_time": "2021-12-07T19:12:20.099Z"
   },
   {
    "duration": 444,
    "start_time": "2021-12-07T19:12:20.273Z"
   },
   {
    "duration": 76,
    "start_time": "2021-12-07T19:12:20.718Z"
   },
   {
    "duration": 23,
    "start_time": "2021-12-07T19:12:20.796Z"
   },
   {
    "duration": 1040,
    "start_time": "2021-12-07T19:32:00.128Z"
   },
   {
    "duration": 66,
    "start_time": "2021-12-07T19:32:01.170Z"
   },
   {
    "duration": 444,
    "start_time": "2021-12-07T19:32:01.238Z"
   },
   {
    "duration": 163,
    "start_time": "2021-12-07T19:32:01.684Z"
   },
   {
    "duration": 392,
    "start_time": "2021-12-07T19:32:01.848Z"
   },
   {
    "duration": 59,
    "start_time": "2021-12-07T19:32:02.242Z"
   },
   {
    "duration": 6480,
    "start_time": "2021-12-07T19:32:02.303Z"
   },
   {
    "duration": 2090,
    "start_time": "2021-12-07T19:32:06.696Z"
   },
   {
    "duration": 361,
    "start_time": "2021-12-07T19:34:42.089Z"
   },
   {
    "duration": 158,
    "start_time": "2021-12-07T19:38:07.684Z"
   },
   {
    "duration": 146,
    "start_time": "2021-12-07T19:38:23.151Z"
   },
   {
    "duration": 89,
    "start_time": "2021-12-07T19:44:12.778Z"
   },
   {
    "duration": 390,
    "start_time": "2021-12-07T19:44:24.039Z"
   },
   {
    "duration": 380,
    "start_time": "2021-12-07T19:44:46.548Z"
   },
   {
    "duration": 74,
    "start_time": "2021-12-07T19:49:33.818Z"
   },
   {
    "duration": 423,
    "start_time": "2021-12-07T20:10:16.858Z"
   },
   {
    "duration": 424,
    "start_time": "2021-12-07T20:10:25.973Z"
   },
   {
    "duration": 64,
    "start_time": "2021-12-07T20:13:32.623Z"
   },
   {
    "duration": 356,
    "start_time": "2021-12-07T20:18:28.492Z"
   },
   {
    "duration": 395,
    "start_time": "2021-12-07T20:18:40.192Z"
   },
   {
    "duration": 373,
    "start_time": "2021-12-07T20:20:17.041Z"
   },
   {
    "duration": 355,
    "start_time": "2021-12-07T20:25:07.590Z"
   },
   {
    "duration": 484,
    "start_time": "2021-12-07T20:25:13.323Z"
   },
   {
    "duration": 1038,
    "start_time": "2021-12-08T08:42:24.383Z"
   },
   {
    "duration": 82,
    "start_time": "2021-12-08T08:42:25.423Z"
   },
   {
    "duration": 419,
    "start_time": "2021-12-08T08:42:25.507Z"
   },
   {
    "duration": 170,
    "start_time": "2021-12-08T08:42:25.928Z"
   },
   {
    "duration": 389,
    "start_time": "2021-12-08T08:42:26.100Z"
   },
   {
    "duration": 48,
    "start_time": "2021-12-08T08:42:26.492Z"
   },
   {
    "duration": 357,
    "start_time": "2021-12-08T08:42:26.542Z"
   },
   {
    "duration": 159,
    "start_time": "2021-12-08T08:42:26.902Z"
   },
   {
    "duration": 339,
    "start_time": "2021-12-08T08:42:27.063Z"
   },
   {
    "duration": 9,
    "start_time": "2021-12-08T08:42:27.404Z"
   },
   {
    "duration": 27,
    "start_time": "2021-12-08T08:42:27.414Z"
   },
   {
    "duration": 41,
    "start_time": "2021-12-08T08:44:42.249Z"
   },
   {
    "duration": 39,
    "start_time": "2021-12-08T08:48:29.410Z"
   },
   {
    "duration": 357,
    "start_time": "2021-12-08T08:57:44.785Z"
   },
   {
    "duration": 338,
    "start_time": "2021-12-08T09:01:52.466Z"
   },
   {
    "duration": 438,
    "start_time": "2021-12-08T09:03:08.751Z"
   },
   {
    "duration": 326,
    "start_time": "2021-12-08T09:03:46.879Z"
   },
   {
    "duration": 320,
    "start_time": "2021-12-08T09:04:32.546Z"
   },
   {
    "duration": 317,
    "start_time": "2021-12-08T09:04:46.287Z"
   },
   {
    "duration": 519,
    "start_time": "2021-12-08T09:08:18.003Z"
   },
   {
    "duration": 245,
    "start_time": "2021-12-08T09:09:53.469Z"
   },
   {
    "duration": 10,
    "start_time": "2021-12-08T09:11:19.916Z"
   },
   {
    "duration": 9,
    "start_time": "2021-12-08T09:12:09.686Z"
   },
   {
    "duration": 401,
    "start_time": "2021-12-08T09:32:33.713Z"
   },
   {
    "duration": 24,
    "start_time": "2021-12-08T09:37:18.455Z"
   },
   {
    "duration": 8,
    "start_time": "2021-12-08T09:55:40.739Z"
   },
   {
    "duration": 136,
    "start_time": "2021-12-08T10:08:45.744Z"
   },
   {
    "duration": 751,
    "start_time": "2021-12-08T10:13:56.120Z"
   },
   {
    "duration": 312,
    "start_time": "2021-12-08T10:14:35.718Z"
   },
   {
    "duration": 94,
    "start_time": "2021-12-08T10:15:28.441Z"
   },
   {
    "duration": 353,
    "start_time": "2021-12-08T10:15:31.918Z"
   },
   {
    "duration": 297,
    "start_time": "2021-12-08T15:33:35.741Z"
   },
   {
    "duration": 1104,
    "start_time": "2021-12-08T15:33:47.026Z"
   },
   {
    "duration": 69,
    "start_time": "2021-12-08T15:33:48.132Z"
   },
   {
    "duration": 547,
    "start_time": "2021-12-08T15:33:48.205Z"
   },
   {
    "duration": 171,
    "start_time": "2021-12-08T15:33:48.754Z"
   },
   {
    "duration": 525,
    "start_time": "2021-12-08T15:33:48.927Z"
   },
   {
    "duration": 60,
    "start_time": "2021-12-08T15:33:49.455Z"
   },
   {
    "duration": 398,
    "start_time": "2021-12-08T15:33:49.518Z"
   },
   {
    "duration": 170,
    "start_time": "2021-12-08T15:33:49.919Z"
   },
   {
    "duration": 519,
    "start_time": "2021-12-08T15:33:50.091Z"
   },
   {
    "duration": 78,
    "start_time": "2021-12-08T15:33:50.612Z"
   },
   {
    "duration": 368,
    "start_time": "2021-12-08T15:33:50.692Z"
   },
   {
    "duration": 162,
    "start_time": "2021-12-08T15:33:51.064Z"
   },
   {
    "duration": 426,
    "start_time": "2021-12-08T15:33:51.229Z"
   },
   {
    "duration": 26,
    "start_time": "2021-12-08T15:33:51.663Z"
   },
   {
    "duration": 8,
    "start_time": "2021-12-08T15:33:51.691Z"
   },
   {
    "duration": 13,
    "start_time": "2021-12-08T15:33:51.701Z"
   },
   {
    "duration": 317,
    "start_time": "2021-12-08T15:47:49.826Z"
   },
   {
    "duration": 432,
    "start_time": "2021-12-08T15:51:00.544Z"
   },
   {
    "duration": 242,
    "start_time": "2021-12-08T15:51:24.306Z"
   },
   {
    "duration": 6258,
    "start_time": "2021-12-08T15:51:44.362Z"
   },
   {
    "duration": 5984,
    "start_time": "2021-12-08T15:51:53.780Z"
   },
   {
    "duration": 12,
    "start_time": "2021-12-08T15:55:15.541Z"
   },
   {
    "duration": 10,
    "start_time": "2021-12-08T15:55:27.292Z"
   },
   {
    "duration": 100,
    "start_time": "2021-12-08T16:10:22.547Z"
   },
   {
    "duration": 53,
    "start_time": "2021-12-08T16:13:49.236Z"
   },
   {
    "duration": 1105,
    "start_time": "2021-12-08T16:14:27.849Z"
   },
   {
    "duration": 71,
    "start_time": "2021-12-08T16:14:28.957Z"
   },
   {
    "duration": 490,
    "start_time": "2021-12-08T16:14:29.030Z"
   },
   {
    "duration": 172,
    "start_time": "2021-12-08T16:14:29.522Z"
   },
   {
    "duration": 430,
    "start_time": "2021-12-08T16:14:29.696Z"
   },
   {
    "duration": 72,
    "start_time": "2021-12-08T16:14:30.128Z"
   },
   {
    "duration": 378,
    "start_time": "2021-12-08T16:14:30.202Z"
   },
   {
    "duration": 173,
    "start_time": "2021-12-08T16:14:30.583Z"
   },
   {
    "duration": 375,
    "start_time": "2021-12-08T16:14:30.762Z"
   },
   {
    "duration": 61,
    "start_time": "2021-12-08T16:14:31.139Z"
   },
   {
    "duration": 384,
    "start_time": "2021-12-08T16:14:31.202Z"
   },
   {
    "duration": 180,
    "start_time": "2021-12-08T16:14:31.588Z"
   },
   {
    "duration": 446,
    "start_time": "2021-12-08T16:14:31.770Z"
   },
   {
    "duration": 44,
    "start_time": "2021-12-08T16:14:32.219Z"
   },
   {
    "duration": 8,
    "start_time": "2021-12-08T16:14:32.266Z"
   },
   {
    "duration": 36,
    "start_time": "2021-12-08T16:14:32.277Z"
   },
   {
    "duration": 311,
    "start_time": "2021-12-08T16:14:32.315Z"
   },
   {
    "duration": 3252,
    "start_time": "2021-12-08T16:14:29.376Z"
   },
   {
    "duration": 43,
    "start_time": "2021-12-08T16:14:53.000Z"
   },
   {
    "duration": 17,
    "start_time": "2021-12-08T16:15:48.251Z"
   },
   {
    "duration": 25,
    "start_time": "2021-12-08T16:18:49.270Z"
   },
   {
    "duration": 5,
    "start_time": "2021-12-08T16:22:36.877Z"
   },
   {
    "duration": 19,
    "start_time": "2021-12-08T16:30:23.397Z"
   },
   {
    "duration": 17,
    "start_time": "2021-12-08T16:30:49.933Z"
   },
   {
    "duration": 17,
    "start_time": "2021-12-08T16:30:58.630Z"
   },
   {
    "duration": 1006,
    "start_time": "2021-12-08T16:34:25.201Z"
   },
   {
    "duration": 63,
    "start_time": "2021-12-08T16:34:26.209Z"
   },
   {
    "duration": 447,
    "start_time": "2021-12-08T16:34:26.273Z"
   },
   {
    "duration": 173,
    "start_time": "2021-12-08T16:34:26.722Z"
   },
   {
    "duration": 424,
    "start_time": "2021-12-08T16:34:26.897Z"
   },
   {
    "duration": 61,
    "start_time": "2021-12-08T16:34:27.323Z"
   },
   {
    "duration": 358,
    "start_time": "2021-12-08T16:34:27.386Z"
   },
   {
    "duration": 206,
    "start_time": "2021-12-08T16:34:27.747Z"
   },
   {
    "duration": 467,
    "start_time": "2021-12-08T16:34:27.956Z"
   },
   {
    "duration": 56,
    "start_time": "2021-12-08T16:34:28.425Z"
   },
   {
    "duration": 359,
    "start_time": "2021-12-08T16:34:28.482Z"
   },
   {
    "duration": 151,
    "start_time": "2021-12-08T16:34:28.843Z"
   },
   {
    "duration": 443,
    "start_time": "2021-12-08T16:34:28.995Z"
   },
   {
    "duration": 33,
    "start_time": "2021-12-08T16:34:29.440Z"
   },
   {
    "duration": 8,
    "start_time": "2021-12-08T16:34:29.475Z"
   },
   {
    "duration": 20,
    "start_time": "2021-12-08T16:34:29.485Z"
   },
   {
    "duration": 42,
    "start_time": "2021-12-08T16:34:29.507Z"
   },
   {
    "duration": 297,
    "start_time": "2021-12-08T16:34:29.551Z"
   },
   {
    "duration": 1091,
    "start_time": "2021-12-08T16:36:01.698Z"
   },
   {
    "duration": 86,
    "start_time": "2021-12-08T16:36:02.792Z"
   },
   {
    "duration": 539,
    "start_time": "2021-12-08T16:36:02.880Z"
   },
   {
    "duration": 178,
    "start_time": "2021-12-08T16:36:03.422Z"
   },
   {
    "duration": 427,
    "start_time": "2021-12-08T16:36:03.602Z"
   },
   {
    "duration": 64,
    "start_time": "2021-12-08T16:36:04.031Z"
   },
   {
    "duration": 369,
    "start_time": "2021-12-08T16:36:04.097Z"
   },
   {
    "duration": 173,
    "start_time": "2021-12-08T16:36:04.469Z"
   },
   {
    "duration": 406,
    "start_time": "2021-12-08T16:36:04.646Z"
   },
   {
    "duration": 48,
    "start_time": "2021-12-08T16:36:05.054Z"
   },
   {
    "duration": 372,
    "start_time": "2021-12-08T16:36:05.104Z"
   },
   {
    "duration": 155,
    "start_time": "2021-12-08T16:36:05.478Z"
   },
   {
    "duration": 427,
    "start_time": "2021-12-08T16:36:05.636Z"
   },
   {
    "duration": 25,
    "start_time": "2021-12-08T16:36:06.065Z"
   },
   {
    "duration": 8,
    "start_time": "2021-12-08T16:36:06.092Z"
   },
   {
    "duration": 10,
    "start_time": "2021-12-08T16:36:06.102Z"
   },
   {
    "duration": 87,
    "start_time": "2021-12-08T16:36:06.113Z"
   },
   {
    "duration": 3224,
    "start_time": "2021-12-08T16:36:02.978Z"
   },
   {
    "duration": 16,
    "start_time": "2021-12-08T16:36:44.364Z"
   },
   {
    "duration": 329,
    "start_time": "2021-12-08T16:41:01.031Z"
   },
   {
    "duration": 94,
    "start_time": "2021-12-08T16:47:23.788Z"
   },
   {
    "duration": 6095,
    "start_time": "2021-12-08T16:50:30.882Z"
   },
   {
    "duration": 6210,
    "start_time": "2021-12-08T16:51:20.993Z"
   },
   {
    "duration": 139,
    "start_time": "2021-12-08T16:51:44.653Z"
   },
   {
    "duration": 33,
    "start_time": "2021-12-08T16:52:54.621Z"
   },
   {
    "duration": 14,
    "start_time": "2021-12-08T16:53:08.288Z"
   },
   {
    "duration": 53,
    "start_time": "2021-12-08T16:59:01.683Z"
   },
   {
    "duration": 36,
    "start_time": "2021-12-08T16:59:37.399Z"
   },
   {
    "duration": 37,
    "start_time": "2021-12-08T17:00:01.875Z"
   },
   {
    "duration": 32,
    "start_time": "2021-12-08T17:00:17.814Z"
   },
   {
    "duration": 250,
    "start_time": "2021-12-08T17:02:58.329Z"
   },
   {
    "duration": 31,
    "start_time": "2021-12-08T17:04:33.131Z"
   },
   {
    "duration": 76,
    "start_time": "2021-12-08T17:06:23.803Z"
   },
   {
    "duration": 8028,
    "start_time": "2021-12-08T17:06:53.933Z"
   },
   {
    "duration": 263,
    "start_time": "2021-12-08T17:23:51.015Z"
   },
   {
    "duration": 256,
    "start_time": "2021-12-08T17:24:50.944Z"
   },
   {
    "duration": 28,
    "start_time": "2021-12-08T17:26:44.832Z"
   },
   {
    "duration": 91,
    "start_time": "2021-12-08T18:01:36.710Z"
   },
   {
    "duration": 46,
    "start_time": "2021-12-08T18:01:42.781Z"
   },
   {
    "duration": 3190,
    "start_time": "2021-12-08T18:04:28.386Z"
   },
   {
    "duration": 6376,
    "start_time": "2021-12-08T18:04:40.570Z"
   },
   {
    "duration": 6945,
    "start_time": "2021-12-08T18:05:10.516Z"
   },
   {
    "duration": 7107,
    "start_time": "2021-12-08T18:06:44.809Z"
   },
   {
    "duration": 1026,
    "start_time": "2021-12-08T18:07:05.175Z"
   },
   {
    "duration": 64,
    "start_time": "2021-12-08T18:07:06.204Z"
   },
   {
    "duration": 431,
    "start_time": "2021-12-08T18:07:06.271Z"
   },
   {
    "duration": 164,
    "start_time": "2021-12-08T18:07:06.705Z"
   },
   {
    "duration": 405,
    "start_time": "2021-12-08T18:07:06.870Z"
   },
   {
    "duration": 47,
    "start_time": "2021-12-08T18:07:07.277Z"
   },
   {
    "duration": 360,
    "start_time": "2021-12-08T18:07:07.326Z"
   },
   {
    "duration": 157,
    "start_time": "2021-12-08T18:07:07.689Z"
   },
   {
    "duration": 347,
    "start_time": "2021-12-08T18:07:07.848Z"
   },
   {
    "duration": 42,
    "start_time": "2021-12-08T18:07:08.196Z"
   },
   {
    "duration": 362,
    "start_time": "2021-12-08T18:07:08.240Z"
   },
   {
    "duration": 149,
    "start_time": "2021-12-08T18:07:08.604Z"
   },
   {
    "duration": 422,
    "start_time": "2021-12-08T18:07:08.763Z"
   },
   {
    "duration": 25,
    "start_time": "2021-12-08T18:07:09.187Z"
   },
   {
    "duration": 8,
    "start_time": "2021-12-08T18:07:09.214Z"
   },
   {
    "duration": 9,
    "start_time": "2021-12-08T18:07:09.224Z"
   },
   {
    "duration": 166,
    "start_time": "2021-12-08T18:07:09.234Z"
   },
   {
    "duration": 85,
    "start_time": "2021-12-08T18:07:09.402Z"
   },
   {
    "duration": 140,
    "start_time": "2021-12-08T18:07:09.489Z"
   },
   {
    "duration": 6406,
    "start_time": "2021-12-08T18:20:57.211Z"
   },
   {
    "duration": 1137,
    "start_time": "2021-12-08T18:21:14.344Z"
   },
   {
    "duration": 62,
    "start_time": "2021-12-08T18:21:15.483Z"
   },
   {
    "duration": 428,
    "start_time": "2021-12-08T18:21:15.547Z"
   },
   {
    "duration": 169,
    "start_time": "2021-12-08T18:21:15.977Z"
   },
   {
    "duration": 434,
    "start_time": "2021-12-08T18:21:16.148Z"
   },
   {
    "duration": 76,
    "start_time": "2021-12-08T18:21:16.587Z"
   },
   {
    "duration": 367,
    "start_time": "2021-12-08T18:21:16.667Z"
   },
   {
    "duration": 153,
    "start_time": "2021-12-08T18:21:17.036Z"
   },
   {
    "duration": 358,
    "start_time": "2021-12-08T18:21:17.191Z"
   },
   {
    "duration": 45,
    "start_time": "2021-12-08T18:21:17.551Z"
   },
   {
    "duration": 349,
    "start_time": "2021-12-08T18:21:17.598Z"
   },
   {
    "duration": 151,
    "start_time": "2021-12-08T18:21:17.949Z"
   },
   {
    "duration": 432,
    "start_time": "2021-12-08T18:21:18.102Z"
   },
   {
    "duration": 35,
    "start_time": "2021-12-08T18:21:18.535Z"
   },
   {
    "duration": 8,
    "start_time": "2021-12-08T18:21:18.572Z"
   },
   {
    "duration": 8,
    "start_time": "2021-12-08T18:21:18.582Z"
   },
   {
    "duration": 156,
    "start_time": "2021-12-08T18:21:18.591Z"
   },
   {
    "duration": 90,
    "start_time": "2021-12-08T18:21:18.751Z"
   },
   {
    "duration": 15,
    "start_time": "2021-12-08T18:30:55.927Z"
   },
   {
    "duration": 18,
    "start_time": "2021-12-08T18:31:54.536Z"
   },
   {
    "duration": 350,
    "start_time": "2021-12-08T20:58:26.363Z"
   },
   {
    "duration": 27,
    "start_time": "2021-12-08T20:58:48.523Z"
   },
   {
    "duration": 31,
    "start_time": "2021-12-08T20:58:55.266Z"
   },
   {
    "duration": 30,
    "start_time": "2021-12-08T20:59:37.012Z"
   },
   {
    "duration": 249,
    "start_time": "2021-12-08T21:09:57.439Z"
   },
   {
    "duration": 242,
    "start_time": "2021-12-08T21:23:25.329Z"
   },
   {
    "duration": 1074,
    "start_time": "2021-12-08T21:23:49.334Z"
   },
   {
    "duration": 69,
    "start_time": "2021-12-08T21:23:50.410Z"
   },
   {
    "duration": 419,
    "start_time": "2021-12-08T21:23:50.482Z"
   },
   {
    "duration": 168,
    "start_time": "2021-12-08T21:23:50.903Z"
   },
   {
    "duration": 397,
    "start_time": "2021-12-08T21:23:51.073Z"
   },
   {
    "duration": 48,
    "start_time": "2021-12-08T21:23:51.472Z"
   },
   {
    "duration": 352,
    "start_time": "2021-12-08T21:23:51.522Z"
   },
   {
    "duration": 161,
    "start_time": "2021-12-08T21:23:51.877Z"
   },
   {
    "duration": 358,
    "start_time": "2021-12-08T21:23:52.040Z"
   },
   {
    "duration": 40,
    "start_time": "2021-12-08T21:23:52.400Z"
   },
   {
    "duration": 344,
    "start_time": "2021-12-08T21:23:52.442Z"
   },
   {
    "duration": 147,
    "start_time": "2021-12-08T21:23:52.788Z"
   },
   {
    "duration": 413,
    "start_time": "2021-12-08T21:23:52.936Z"
   },
   {
    "duration": 32,
    "start_time": "2021-12-08T21:23:53.351Z"
   },
   {
    "duration": 8,
    "start_time": "2021-12-08T21:23:53.384Z"
   },
   {
    "duration": 192,
    "start_time": "2021-12-08T21:23:53.394Z"
   },
   {
    "duration": 97,
    "start_time": "2021-12-08T21:23:53.588Z"
   },
   {
    "duration": 26,
    "start_time": "2021-12-08T21:23:53.686Z"
   },
   {
    "duration": 343,
    "start_time": "2021-12-08T21:23:53.714Z"
   },
   {
    "duration": 265,
    "start_time": "2021-12-08T21:24:17.889Z"
   },
   {
    "duration": 1038,
    "start_time": "2021-12-08T21:27:44.536Z"
   },
   {
    "duration": 61,
    "start_time": "2021-12-08T21:27:45.577Z"
   },
   {
    "duration": 398,
    "start_time": "2021-12-08T21:27:45.640Z"
   },
   {
    "duration": 155,
    "start_time": "2021-12-08T21:27:46.040Z"
   },
   {
    "duration": 395,
    "start_time": "2021-12-08T21:27:46.197Z"
   },
   {
    "duration": 49,
    "start_time": "2021-12-08T21:27:46.593Z"
   },
   {
    "duration": 347,
    "start_time": "2021-12-08T21:27:46.644Z"
   },
   {
    "duration": 153,
    "start_time": "2021-12-08T21:27:46.993Z"
   },
   {
    "duration": 336,
    "start_time": "2021-12-08T21:27:47.148Z"
   },
   {
    "duration": 38,
    "start_time": "2021-12-08T21:27:47.486Z"
   },
   {
    "duration": 327,
    "start_time": "2021-12-08T21:27:47.525Z"
   },
   {
    "duration": 151,
    "start_time": "2021-12-08T21:27:47.854Z"
   },
   {
    "duration": 391,
    "start_time": "2021-12-08T21:27:48.007Z"
   },
   {
    "duration": 27,
    "start_time": "2021-12-08T21:27:48.400Z"
   },
   {
    "duration": 9,
    "start_time": "2021-12-08T21:27:48.429Z"
   },
   {
    "duration": 149,
    "start_time": "2021-12-08T21:27:48.463Z"
   },
   {
    "duration": 94,
    "start_time": "2021-12-08T21:27:48.614Z"
   },
   {
    "duration": 26,
    "start_time": "2021-12-08T21:27:48.709Z"
   },
   {
    "duration": 298,
    "start_time": "2021-12-08T21:27:48.737Z"
   },
   {
    "duration": 1136,
    "start_time": "2021-12-09T10:18:22.769Z"
   },
   {
    "duration": 78,
    "start_time": "2021-12-09T10:18:23.908Z"
   },
   {
    "duration": 763,
    "start_time": "2021-12-09T10:18:23.989Z"
   },
   {
    "duration": 234,
    "start_time": "2021-12-09T10:18:24.755Z"
   },
   {
    "duration": 581,
    "start_time": "2021-12-09T10:18:24.991Z"
   },
   {
    "duration": 78,
    "start_time": "2021-12-09T10:18:25.575Z"
   },
   {
    "duration": 571,
    "start_time": "2021-12-09T10:18:25.655Z"
   },
   {
    "duration": 241,
    "start_time": "2021-12-09T10:18:26.231Z"
   },
   {
    "duration": 576,
    "start_time": "2021-12-09T10:18:26.476Z"
   },
   {
    "duration": 74,
    "start_time": "2021-12-09T10:18:27.055Z"
   },
   {
    "duration": 565,
    "start_time": "2021-12-09T10:18:27.132Z"
   },
   {
    "duration": 226,
    "start_time": "2021-12-09T10:18:27.699Z"
   },
   {
    "duration": 640,
    "start_time": "2021-12-09T10:18:27.928Z"
   },
   {
    "duration": 52,
    "start_time": "2021-12-09T10:18:28.571Z"
   },
   {
    "duration": 11,
    "start_time": "2021-12-09T10:18:28.625Z"
   },
   {
    "duration": 214,
    "start_time": "2021-12-09T10:18:28.638Z"
   },
   {
    "duration": 115,
    "start_time": "2021-12-09T10:18:28.855Z"
   },
   {
    "duration": 60,
    "start_time": "2021-12-09T10:18:28.973Z"
   },
   {
    "duration": 674,
    "start_time": "2021-12-09T11:13:55.072Z"
   },
   {
    "duration": 110,
    "start_time": "2021-12-09T11:15:43.894Z"
   },
   {
    "duration": 1578,
    "start_time": "2021-12-09T11:16:16.997Z"
   },
   {
    "duration": 83,
    "start_time": "2021-12-09T11:16:18.577Z"
   },
   {
    "duration": 1051,
    "start_time": "2021-12-09T11:16:18.663Z"
   },
   {
    "duration": 251,
    "start_time": "2021-12-09T11:16:19.725Z"
   },
   {
    "duration": 644,
    "start_time": "2021-12-09T11:16:19.979Z"
   },
   {
    "duration": 66,
    "start_time": "2021-12-09T11:16:20.625Z"
   },
   {
    "duration": 607,
    "start_time": "2021-12-09T11:16:20.694Z"
   },
   {
    "duration": 254,
    "start_time": "2021-12-09T11:16:21.304Z"
   },
   {
    "duration": 585,
    "start_time": "2021-12-09T11:16:21.561Z"
   },
   {
    "duration": 83,
    "start_time": "2021-12-09T11:16:22.148Z"
   },
   {
    "duration": 583,
    "start_time": "2021-12-09T11:16:22.234Z"
   },
   {
    "duration": 236,
    "start_time": "2021-12-09T11:16:22.823Z"
   },
   {
    "duration": 722,
    "start_time": "2021-12-09T11:16:23.062Z"
   },
   {
    "duration": 48,
    "start_time": "2021-12-09T11:16:23.787Z"
   },
   {
    "duration": 11,
    "start_time": "2021-12-09T11:16:23.837Z"
   },
   {
    "duration": 214,
    "start_time": "2021-12-09T11:16:23.850Z"
   },
   {
    "duration": 112,
    "start_time": "2021-12-09T11:16:24.067Z"
   },
   {
    "duration": 59,
    "start_time": "2021-12-09T11:16:24.181Z"
   },
   {
    "duration": 102,
    "start_time": "2021-12-09T11:16:24.243Z"
   },
   {
    "duration": 4915,
    "start_time": "2021-12-09T11:16:19.432Z"
   },
   {
    "duration": 640,
    "start_time": "2021-12-09T11:17:38.163Z"
   },
   {
    "duration": 90,
    "start_time": "2021-12-09T11:19:28.764Z"
   },
   {
    "duration": 484,
    "start_time": "2021-12-09T11:19:43.574Z"
   },
   {
    "duration": 8074,
    "start_time": "2021-12-09T13:55:19.534Z"
   },
   {
    "duration": 1230,
    "start_time": "2021-12-09T13:55:48.618Z"
   },
   {
    "duration": 85,
    "start_time": "2021-12-09T13:55:49.852Z"
   },
   {
    "duration": 750,
    "start_time": "2021-12-09T13:55:49.941Z"
   },
   {
    "duration": 233,
    "start_time": "2021-12-09T13:55:50.694Z"
   },
   {
    "duration": 619,
    "start_time": "2021-12-09T13:55:50.929Z"
   },
   {
    "duration": 95,
    "start_time": "2021-12-09T13:55:51.551Z"
   },
   {
    "duration": 926,
    "start_time": "2021-12-09T13:55:51.648Z"
   },
   {
    "duration": 253,
    "start_time": "2021-12-09T13:55:52.578Z"
   },
   {
    "duration": 584,
    "start_time": "2021-12-09T13:55:52.835Z"
   },
   {
    "duration": 55,
    "start_time": "2021-12-09T13:55:53.423Z"
   },
   {
    "duration": 582,
    "start_time": "2021-12-09T13:55:53.481Z"
   },
   {
    "duration": 229,
    "start_time": "2021-12-09T13:55:54.066Z"
   },
   {
    "duration": 585,
    "start_time": "2021-12-09T13:55:54.297Z"
   },
   {
    "duration": 48,
    "start_time": "2021-12-09T13:55:54.885Z"
   },
   {
    "duration": 10,
    "start_time": "2021-12-09T13:55:54.935Z"
   },
   {
    "duration": 201,
    "start_time": "2021-12-09T13:55:54.948Z"
   },
   {
    "duration": 118,
    "start_time": "2021-12-09T13:55:55.151Z"
   },
   {
    "duration": 64,
    "start_time": "2021-12-09T13:55:55.271Z"
   },
   {
    "duration": 111,
    "start_time": "2021-12-09T13:55:55.338Z"
   },
   {
    "duration": 5333,
    "start_time": "2021-12-09T13:55:50.120Z"
   },
   {
    "duration": 63,
    "start_time": "2021-12-09T13:56:43.363Z"
   },
   {
    "duration": 48,
    "start_time": "2021-12-09T13:57:43.327Z"
   },
   {
    "duration": 57,
    "start_time": "2021-12-09T13:58:03.350Z"
   },
   {
    "duration": 156,
    "start_time": "2021-12-09T14:05:30.141Z"
   },
   {
    "duration": 164,
    "start_time": "2021-12-09T14:06:06.348Z"
   },
   {
    "duration": 152,
    "start_time": "2021-12-09T14:06:22.577Z"
   },
   {
    "duration": 166,
    "start_time": "2021-12-09T14:06:43.713Z"
   },
   {
    "duration": 155,
    "start_time": "2021-12-09T14:07:02.992Z"
   },
   {
    "duration": 170,
    "start_time": "2021-12-09T14:07:31.902Z"
   },
   {
    "duration": 178,
    "start_time": "2021-12-09T14:07:54.911Z"
   },
   {
    "duration": 173,
    "start_time": "2021-12-09T14:08:30.955Z"
   },
   {
    "duration": 166,
    "start_time": "2021-12-09T14:09:31.699Z"
   },
   {
    "duration": 151,
    "start_time": "2021-12-09T14:09:51.274Z"
   },
   {
    "duration": 149,
    "start_time": "2021-12-09T14:10:29.296Z"
   },
   {
    "duration": 157,
    "start_time": "2021-12-09T14:11:26.645Z"
   },
   {
    "duration": 156,
    "start_time": "2021-12-09T14:12:43.150Z"
   },
   {
    "duration": 4,
    "start_time": "2021-12-09T14:17:04.371Z"
   },
   {
    "duration": 35,
    "start_time": "2021-12-09T14:17:20.954Z"
   },
   {
    "duration": 545,
    "start_time": "2021-12-09T14:21:26.425Z"
   },
   {
    "duration": 654,
    "start_time": "2021-12-09T14:22:17.135Z"
   },
   {
    "duration": 1157,
    "start_time": "2021-12-09T14:22:35.754Z"
   },
   {
    "duration": 80,
    "start_time": "2021-12-09T14:22:36.914Z"
   },
   {
    "duration": 674,
    "start_time": "2021-12-09T14:22:36.997Z"
   },
   {
    "duration": 233,
    "start_time": "2021-12-09T14:22:37.673Z"
   },
   {
    "duration": 594,
    "start_time": "2021-12-09T14:22:37.908Z"
   },
   {
    "duration": 74,
    "start_time": "2021-12-09T14:22:38.504Z"
   },
   {
    "duration": 563,
    "start_time": "2021-12-09T14:22:38.581Z"
   },
   {
    "duration": 232,
    "start_time": "2021-12-09T14:22:39.147Z"
   },
   {
    "duration": 551,
    "start_time": "2021-12-09T14:22:39.382Z"
   },
   {
    "duration": 53,
    "start_time": "2021-12-09T14:22:39.935Z"
   },
   {
    "duration": 551,
    "start_time": "2021-12-09T14:22:39.990Z"
   },
   {
    "duration": 228,
    "start_time": "2021-12-09T14:22:40.544Z"
   },
   {
    "duration": 605,
    "start_time": "2021-12-09T14:22:40.775Z"
   },
   {
    "duration": 51,
    "start_time": "2021-12-09T14:22:41.383Z"
   },
   {
    "duration": 11,
    "start_time": "2021-12-09T14:22:41.436Z"
   },
   {
    "duration": 194,
    "start_time": "2021-12-09T14:22:41.449Z"
   },
   {
    "duration": 106,
    "start_time": "2021-12-09T14:22:41.645Z"
   },
   {
    "duration": 83,
    "start_time": "2021-12-09T14:22:41.753Z"
   },
   {
    "duration": 511,
    "start_time": "2021-12-09T14:22:41.838Z"
   },
   {
    "duration": 5302,
    "start_time": "2021-12-09T14:22:37.050Z"
   },
   {
    "duration": 315,
    "start_time": "2021-12-09T14:23:25.938Z"
   },
   {
    "duration": 1137,
    "start_time": "2021-12-09T14:24:07.266Z"
   },
   {
    "duration": 80,
    "start_time": "2021-12-09T14:24:08.406Z"
   },
   {
    "duration": 688,
    "start_time": "2021-12-09T14:24:08.488Z"
   },
   {
    "duration": 244,
    "start_time": "2021-12-09T14:24:09.179Z"
   },
   {
    "duration": 628,
    "start_time": "2021-12-09T14:24:09.426Z"
   },
   {
    "duration": 84,
    "start_time": "2021-12-09T14:24:10.057Z"
   },
   {
    "duration": 564,
    "start_time": "2021-12-09T14:24:10.144Z"
   },
   {
    "duration": 242,
    "start_time": "2021-12-09T14:24:10.712Z"
   },
   {
    "duration": 605,
    "start_time": "2021-12-09T14:24:10.956Z"
   },
   {
    "duration": 74,
    "start_time": "2021-12-09T14:24:11.564Z"
   },
   {
    "duration": 569,
    "start_time": "2021-12-09T14:24:11.641Z"
   },
   {
    "duration": 254,
    "start_time": "2021-12-09T14:24:12.212Z"
   },
   {
    "duration": 595,
    "start_time": "2021-12-09T14:24:12.469Z"
   },
   {
    "duration": 35,
    "start_time": "2021-12-09T14:24:13.067Z"
   },
   {
    "duration": 11,
    "start_time": "2021-12-09T14:24:13.123Z"
   },
   {
    "duration": 191,
    "start_time": "2021-12-09T14:24:13.137Z"
   },
   {
    "duration": 112,
    "start_time": "2021-12-09T14:24:13.331Z"
   },
   {
    "duration": 92,
    "start_time": "2021-12-09T14:24:13.445Z"
   },
   {
    "duration": 555,
    "start_time": "2021-12-09T14:24:13.540Z"
   },
   {
    "duration": 5296,
    "start_time": "2021-12-09T14:24:08.802Z"
   },
   {
    "duration": 5295,
    "start_time": "2021-12-09T14:24:08.805Z"
   },
   {
    "duration": 323,
    "start_time": "2021-12-09T14:24:31.872Z"
   },
   {
    "duration": 130,
    "start_time": "2021-12-09T14:24:51.521Z"
   },
   {
    "duration": 147,
    "start_time": "2021-12-09T14:25:13.883Z"
   },
   {
    "duration": 160,
    "start_time": "2021-12-09T14:26:21.583Z"
   },
   {
    "duration": 269,
    "start_time": "2021-12-09T14:27:51.509Z"
   },
   {
    "duration": 272,
    "start_time": "2021-12-09T14:28:06.981Z"
   },
   {
    "duration": 1024,
    "start_time": "2021-12-09T14:32:49.134Z"
   },
   {
    "duration": 134,
    "start_time": "2021-12-09T14:33:01.674Z"
   },
   {
    "duration": 94,
    "start_time": "2021-12-09T14:41:55.453Z"
   },
   {
    "duration": 586,
    "start_time": "2021-12-09T14:42:51.725Z"
   },
   {
    "duration": 146,
    "start_time": "2021-12-09T14:47:43.676Z"
   },
   {
    "duration": 495,
    "start_time": "2021-12-09T14:48:29.718Z"
   },
   {
    "duration": 455,
    "start_time": "2021-12-09T14:50:33.224Z"
   },
   {
    "duration": 1208,
    "start_time": "2021-12-09T14:51:01.731Z"
   },
   {
    "duration": 84,
    "start_time": "2021-12-09T14:51:02.941Z"
   },
   {
    "duration": 664,
    "start_time": "2021-12-09T14:51:03.030Z"
   },
   {
    "duration": 246,
    "start_time": "2021-12-09T14:51:03.698Z"
   },
   {
    "duration": 616,
    "start_time": "2021-12-09T14:51:03.947Z"
   },
   {
    "duration": 84,
    "start_time": "2021-12-09T14:51:04.566Z"
   },
   {
    "duration": 706,
    "start_time": "2021-12-09T14:51:04.652Z"
   },
   {
    "duration": 247,
    "start_time": "2021-12-09T14:51:05.361Z"
   },
   {
    "duration": 597,
    "start_time": "2021-12-09T14:51:05.611Z"
   },
   {
    "duration": 58,
    "start_time": "2021-12-09T14:51:06.210Z"
   },
   {
    "duration": 577,
    "start_time": "2021-12-09T14:51:06.271Z"
   },
   {
    "duration": 227,
    "start_time": "2021-12-09T14:51:06.851Z"
   },
   {
    "duration": 586,
    "start_time": "2021-12-09T14:51:07.080Z"
   },
   {
    "duration": 60,
    "start_time": "2021-12-09T14:51:07.669Z"
   },
   {
    "duration": 13,
    "start_time": "2021-12-09T14:51:07.732Z"
   },
   {
    "duration": 206,
    "start_time": "2021-12-09T14:51:07.748Z"
   },
   {
    "duration": 112,
    "start_time": "2021-12-09T14:51:07.957Z"
   },
   {
    "duration": 84,
    "start_time": "2021-12-09T14:51:08.072Z"
   },
   {
    "duration": 601,
    "start_time": "2021-12-09T14:51:08.158Z"
   },
   {
    "duration": 5270,
    "start_time": "2021-12-09T14:51:03.491Z"
   },
   {
    "duration": 5270,
    "start_time": "2021-12-09T14:51:03.493Z"
   },
   {
    "duration": 470,
    "start_time": "2021-12-09T14:52:21.527Z"
   },
   {
    "duration": 447,
    "start_time": "2021-12-09T15:04:21.028Z"
   },
   {
    "duration": 453,
    "start_time": "2021-12-09T15:04:38.711Z"
   },
   {
    "duration": 1260,
    "start_time": "2021-12-09T15:05:20.024Z"
   },
   {
    "duration": 80,
    "start_time": "2021-12-09T15:05:21.287Z"
   },
   {
    "duration": 655,
    "start_time": "2021-12-09T15:05:21.371Z"
   },
   {
    "duration": 246,
    "start_time": "2021-12-09T15:05:22.029Z"
   },
   {
    "duration": 576,
    "start_time": "2021-12-09T15:05:22.278Z"
   },
   {
    "duration": 83,
    "start_time": "2021-12-09T15:05:22.857Z"
   },
   {
    "duration": 559,
    "start_time": "2021-12-09T15:05:22.943Z"
   },
   {
    "duration": 238,
    "start_time": "2021-12-09T15:05:23.505Z"
   },
   {
    "duration": 554,
    "start_time": "2021-12-09T15:05:23.746Z"
   },
   {
    "duration": 63,
    "start_time": "2021-12-09T15:05:24.303Z"
   },
   {
    "duration": 531,
    "start_time": "2021-12-09T15:05:24.368Z"
   },
   {
    "duration": 224,
    "start_time": "2021-12-09T15:05:24.902Z"
   },
   {
    "duration": 618,
    "start_time": "2021-12-09T15:05:25.128Z"
   },
   {
    "duration": 36,
    "start_time": "2021-12-09T15:05:25.748Z"
   },
   {
    "duration": 11,
    "start_time": "2021-12-09T15:05:25.787Z"
   },
   {
    "duration": 179,
    "start_time": "2021-12-09T15:05:25.824Z"
   },
   {
    "duration": 118,
    "start_time": "2021-12-09T15:05:26.005Z"
   },
   {
    "duration": 63,
    "start_time": "2021-12-09T15:05:26.125Z"
   },
   {
    "duration": 568,
    "start_time": "2021-12-09T15:05:26.191Z"
   },
   {
    "duration": 5265,
    "start_time": "2021-12-09T15:05:21.497Z"
   },
   {
    "duration": 571,
    "start_time": "2021-12-09T15:06:29.467Z"
   },
   {
    "duration": 870,
    "start_time": "2021-12-09T15:07:32.351Z"
   },
   {
    "duration": 520,
    "start_time": "2021-12-09T15:07:38.463Z"
   },
   {
    "duration": 1210,
    "start_time": "2021-12-09T15:22:29.784Z"
   },
   {
    "duration": 82,
    "start_time": "2021-12-09T15:22:30.996Z"
   },
   {
    "duration": 706,
    "start_time": "2021-12-09T15:22:31.082Z"
   },
   {
    "duration": 239,
    "start_time": "2021-12-09T15:22:31.790Z"
   },
   {
    "duration": 594,
    "start_time": "2021-12-09T15:22:32.031Z"
   },
   {
    "duration": 65,
    "start_time": "2021-12-09T15:22:32.628Z"
   },
   {
    "duration": 583,
    "start_time": "2021-12-09T15:22:32.696Z"
   },
   {
    "duration": 227,
    "start_time": "2021-12-09T15:22:33.283Z"
   },
   {
    "duration": 635,
    "start_time": "2021-12-09T15:22:33.514Z"
   },
   {
    "duration": 73,
    "start_time": "2021-12-09T15:22:34.151Z"
   },
   {
    "duration": 529,
    "start_time": "2021-12-09T15:22:34.227Z"
   },
   {
    "duration": 218,
    "start_time": "2021-12-09T15:22:34.759Z"
   },
   {
    "duration": 646,
    "start_time": "2021-12-09T15:22:34.980Z"
   },
   {
    "duration": 37,
    "start_time": "2021-12-09T15:22:35.629Z"
   },
   {
    "duration": 12,
    "start_time": "2021-12-09T15:22:35.669Z"
   },
   {
    "duration": 170,
    "start_time": "2021-12-09T15:22:35.723Z"
   },
   {
    "duration": 128,
    "start_time": "2021-12-09T15:22:35.895Z"
   },
   {
    "duration": 64,
    "start_time": "2021-12-09T15:22:36.025Z"
   },
   {
    "duration": 736,
    "start_time": "2021-12-09T15:22:36.092Z"
   },
   {
    "duration": 5263,
    "start_time": "2021-12-09T15:22:31.568Z"
   },
   {
    "duration": 1299,
    "start_time": "2021-12-09T15:23:38.691Z"
   },
   {
    "duration": 81,
    "start_time": "2021-12-09T15:23:39.993Z"
   },
   {
    "duration": 672,
    "start_time": "2021-12-09T15:23:40.077Z"
   },
   {
    "duration": 233,
    "start_time": "2021-12-09T15:23:40.752Z"
   },
   {
    "duration": 564,
    "start_time": "2021-12-09T15:23:40.988Z"
   },
   {
    "duration": 85,
    "start_time": "2021-12-09T15:23:41.554Z"
   },
   {
    "duration": 585,
    "start_time": "2021-12-09T15:23:41.641Z"
   },
   {
    "duration": 260,
    "start_time": "2021-12-09T15:23:42.229Z"
   },
   {
    "duration": 545,
    "start_time": "2021-12-09T15:23:42.492Z"
   },
   {
    "duration": 54,
    "start_time": "2021-12-09T15:23:43.040Z"
   },
   {
    "duration": 591,
    "start_time": "2021-12-09T15:23:43.097Z"
   },
   {
    "duration": 234,
    "start_time": "2021-12-09T15:23:43.691Z"
   },
   {
    "duration": 585,
    "start_time": "2021-12-09T15:23:43.928Z"
   },
   {
    "duration": 38,
    "start_time": "2021-12-09T15:23:44.516Z"
   },
   {
    "duration": 11,
    "start_time": "2021-12-09T15:23:44.556Z"
   },
   {
    "duration": 205,
    "start_time": "2021-12-09T15:23:44.570Z"
   },
   {
    "duration": 118,
    "start_time": "2021-12-09T15:23:44.779Z"
   },
   {
    "duration": 77,
    "start_time": "2021-12-09T15:23:44.900Z"
   },
   {
    "duration": 1354,
    "start_time": "2021-12-09T15:23:44.981Z"
   },
   {
    "duration": 5249,
    "start_time": "2021-12-09T15:23:41.089Z"
   },
   {
    "duration": 497,
    "start_time": "2021-12-09T15:24:04.501Z"
   },
   {
    "duration": 466,
    "start_time": "2021-12-09T15:24:24.819Z"
   },
   {
    "duration": 5,
    "start_time": "2021-12-09T15:25:31.076Z"
   },
   {
    "duration": 477,
    "start_time": "2021-12-09T15:26:00.747Z"
   },
   {
    "duration": 444,
    "start_time": "2021-12-09T15:26:14.474Z"
   },
   {
    "duration": 26,
    "start_time": "2021-12-09T15:27:21.711Z"
   },
   {
    "duration": 509,
    "start_time": "2021-12-09T15:27:45.586Z"
   },
   {
    "duration": 1190,
    "start_time": "2021-12-09T15:29:05.143Z"
   },
   {
    "duration": 90,
    "start_time": "2021-12-09T15:29:06.335Z"
   },
   {
    "duration": 678,
    "start_time": "2021-12-09T15:29:06.428Z"
   },
   {
    "duration": 254,
    "start_time": "2021-12-09T15:29:07.109Z"
   },
   {
    "duration": 610,
    "start_time": "2021-12-09T15:29:07.366Z"
   },
   {
    "duration": 81,
    "start_time": "2021-12-09T15:29:07.979Z"
   },
   {
    "duration": 615,
    "start_time": "2021-12-09T15:29:08.063Z"
   },
   {
    "duration": 243,
    "start_time": "2021-12-09T15:29:08.682Z"
   },
   {
    "duration": 568,
    "start_time": "2021-12-09T15:29:08.928Z"
   },
   {
    "duration": 60,
    "start_time": "2021-12-09T15:29:09.499Z"
   },
   {
    "duration": 562,
    "start_time": "2021-12-09T15:29:09.561Z"
   },
   {
    "duration": 222,
    "start_time": "2021-12-09T15:29:10.125Z"
   },
   {
    "duration": 612,
    "start_time": "2021-12-09T15:29:10.350Z"
   },
   {
    "duration": 58,
    "start_time": "2021-12-09T15:29:10.965Z"
   },
   {
    "duration": 12,
    "start_time": "2021-12-09T15:29:11.026Z"
   },
   {
    "duration": 198,
    "start_time": "2021-12-09T15:29:11.041Z"
   },
   {
    "duration": 108,
    "start_time": "2021-12-09T15:29:11.242Z"
   },
   {
    "duration": 75,
    "start_time": "2021-12-09T15:29:11.352Z"
   },
   {
    "duration": 538,
    "start_time": "2021-12-09T15:29:11.429Z"
   },
   {
    "duration": 5244,
    "start_time": "2021-12-09T15:29:06.725Z"
   },
   {
    "duration": 668,
    "start_time": "2021-12-09T15:29:32.816Z"
   },
   {
    "duration": 476,
    "start_time": "2021-12-09T15:31:38.432Z"
   },
   {
    "duration": 1020,
    "start_time": "2021-12-09T16:41:22.977Z"
   },
   {
    "duration": 16,
    "start_time": "2021-12-09T16:46:04.432Z"
   },
   {
    "duration": 617,
    "start_time": "2021-12-09T16:46:12.993Z"
   },
   {
    "duration": 397,
    "start_time": "2021-12-09T16:47:26.609Z"
   },
   {
    "duration": 391,
    "start_time": "2021-12-09T17:21:20.505Z"
   },
   {
    "duration": 515,
    "start_time": "2021-12-09T17:21:44.448Z"
   },
   {
    "duration": 403,
    "start_time": "2021-12-09T17:21:59.922Z"
   },
   {
    "duration": 547,
    "start_time": "2021-12-09T17:38:14.379Z"
   },
   {
    "duration": 542,
    "start_time": "2021-12-09T17:38:44.718Z"
   },
   {
    "duration": 517,
    "start_time": "2021-12-09T17:38:52.408Z"
   },
   {
    "duration": 553,
    "start_time": "2021-12-09T17:39:51.981Z"
   },
   {
    "duration": 566,
    "start_time": "2021-12-09T17:40:49.531Z"
   },
   {
    "duration": 601,
    "start_time": "2021-12-09T17:41:09.994Z"
   },
   {
    "duration": 639,
    "start_time": "2021-12-09T17:46:12.902Z"
   },
   {
    "duration": 568,
    "start_time": "2021-12-09T17:46:26.704Z"
   },
   {
    "duration": 546,
    "start_time": "2021-12-09T17:47:04.083Z"
   },
   {
    "duration": 664,
    "start_time": "2021-12-09T17:47:39.843Z"
   },
   {
    "duration": 541,
    "start_time": "2021-12-09T17:47:47.934Z"
   },
   {
    "duration": 654,
    "start_time": "2021-12-09T17:53:17.269Z"
   },
   {
    "duration": 538,
    "start_time": "2021-12-09T17:53:35.426Z"
   },
   {
    "duration": 546,
    "start_time": "2021-12-09T17:53:40.390Z"
   },
   {
    "duration": 545,
    "start_time": "2021-12-09T17:53:44.684Z"
   },
   {
    "duration": 562,
    "start_time": "2021-12-09T17:53:54.302Z"
   },
   {
    "duration": 511,
    "start_time": "2021-12-09T17:54:26.297Z"
   },
   {
    "duration": 657,
    "start_time": "2021-12-09T17:54:37.630Z"
   },
   {
    "duration": 523,
    "start_time": "2021-12-09T17:54:45.900Z"
   },
   {
    "duration": 514,
    "start_time": "2021-12-09T17:56:13.512Z"
   },
   {
    "duration": 589,
    "start_time": "2021-12-09T17:56:23.000Z"
   },
   {
    "duration": 568,
    "start_time": "2021-12-09T17:56:30.857Z"
   },
   {
    "duration": 552,
    "start_time": "2021-12-09T17:56:36.951Z"
   },
   {
    "duration": 746,
    "start_time": "2021-12-09T17:59:13.245Z"
   },
   {
    "duration": 527,
    "start_time": "2021-12-09T17:59:36.394Z"
   },
   {
    "duration": 511,
    "start_time": "2021-12-09T17:59:48.268Z"
   },
   {
    "duration": 549,
    "start_time": "2021-12-09T18:00:00.685Z"
   },
   {
    "duration": 539,
    "start_time": "2021-12-09T18:00:09.863Z"
   },
   {
    "duration": 6,
    "start_time": "2021-12-09T18:03:46.024Z"
   },
   {
    "duration": 8,
    "start_time": "2021-12-09T18:05:45.647Z"
   },
   {
    "duration": 144,
    "start_time": "2021-12-09T18:10:21.984Z"
   },
   {
    "duration": 9,
    "start_time": "2021-12-09T18:10:40.433Z"
   },
   {
    "duration": 9,
    "start_time": "2021-12-09T18:10:50.133Z"
   },
   {
    "duration": 1382,
    "start_time": "2021-12-09T18:12:04.272Z"
   },
   {
    "duration": 97,
    "start_time": "2021-12-09T18:12:05.657Z"
   },
   {
    "duration": 761,
    "start_time": "2021-12-09T18:12:05.758Z"
   },
   {
    "duration": 278,
    "start_time": "2021-12-09T18:12:06.525Z"
   },
   {
    "duration": 657,
    "start_time": "2021-12-09T18:12:06.806Z"
   },
   {
    "duration": 86,
    "start_time": "2021-12-09T18:12:07.466Z"
   },
   {
    "duration": 575,
    "start_time": "2021-12-09T18:12:07.554Z"
   },
   {
    "duration": 255,
    "start_time": "2021-12-09T18:12:08.133Z"
   },
   {
    "duration": 693,
    "start_time": "2021-12-09T18:12:08.391Z"
   },
   {
    "duration": 70,
    "start_time": "2021-12-09T18:12:09.087Z"
   },
   {
    "duration": 982,
    "start_time": "2021-12-09T18:12:09.161Z"
   },
   {
    "duration": 267,
    "start_time": "2021-12-09T18:12:10.146Z"
   },
   {
    "duration": 1070,
    "start_time": "2021-12-09T18:12:10.423Z"
   },
   {
    "duration": 54,
    "start_time": "2021-12-09T18:12:11.495Z"
   },
   {
    "duration": 12,
    "start_time": "2021-12-09T18:12:11.553Z"
   },
   {
    "duration": 208,
    "start_time": "2021-12-09T18:12:11.567Z"
   },
   {
    "duration": 120,
    "start_time": "2021-12-09T18:12:11.778Z"
   },
   {
    "duration": 77,
    "start_time": "2021-12-09T18:12:11.901Z"
   },
   {
    "duration": 43,
    "start_time": "2021-12-09T18:12:11.981Z"
   },
   {
    "duration": 455,
    "start_time": "2021-12-09T18:12:12.027Z"
   },
   {
    "duration": 949,
    "start_time": "2021-12-09T18:12:12.485Z"
   },
   {
    "duration": 542,
    "start_time": "2021-12-09T18:12:13.436Z"
   },
   {
    "duration": 640,
    "start_time": "2021-12-09T18:12:13.983Z"
   },
   {
    "duration": 554,
    "start_time": "2021-12-09T18:12:14.625Z"
   },
   {
    "duration": 562,
    "start_time": "2021-12-09T18:12:15.181Z"
   },
   {
    "duration": 623,
    "start_time": "2021-12-09T18:12:15.745Z"
   },
   {
    "duration": 8,
    "start_time": "2021-12-09T18:12:16.370Z"
   },
   {
    "duration": 7,
    "start_time": "2021-12-09T18:27:34.334Z"
   },
   {
    "duration": 9,
    "start_time": "2021-12-09T18:28:24.576Z"
   },
   {
    "duration": 9,
    "start_time": "2021-12-09T18:28:55.891Z"
   },
   {
    "duration": 9,
    "start_time": "2021-12-09T18:31:10.691Z"
   },
   {
    "duration": 8,
    "start_time": "2021-12-09T18:35:34.496Z"
   },
   {
    "duration": 8,
    "start_time": "2021-12-09T18:36:53.128Z"
   },
   {
    "duration": 9,
    "start_time": "2021-12-09T18:39:06.101Z"
   },
   {
    "duration": 11,
    "start_time": "2021-12-09T18:40:19.672Z"
   },
   {
    "duration": 1208,
    "start_time": "2021-12-13T07:16:22.550Z"
   },
   {
    "duration": 81,
    "start_time": "2021-12-13T07:16:23.760Z"
   },
   {
    "duration": 692,
    "start_time": "2021-12-13T07:16:23.848Z"
   },
   {
    "duration": 230,
    "start_time": "2021-12-13T07:16:24.543Z"
   },
   {
    "duration": 598,
    "start_time": "2021-12-13T07:16:24.776Z"
   },
   {
    "duration": 86,
    "start_time": "2021-12-13T07:16:25.376Z"
   },
   {
    "duration": 543,
    "start_time": "2021-12-13T07:16:25.465Z"
   },
   {
    "duration": 243,
    "start_time": "2021-12-13T07:16:26.011Z"
   },
   {
    "duration": 543,
    "start_time": "2021-12-13T07:16:26.257Z"
   },
   {
    "duration": 64,
    "start_time": "2021-12-13T07:16:26.803Z"
   },
   {
    "duration": 578,
    "start_time": "2021-12-13T07:16:26.870Z"
   },
   {
    "duration": 227,
    "start_time": "2021-12-13T07:16:27.451Z"
   },
   {
    "duration": 659,
    "start_time": "2021-12-13T07:16:27.680Z"
   },
   {
    "duration": 38,
    "start_time": "2021-12-13T07:16:28.343Z"
   },
   {
    "duration": 11,
    "start_time": "2021-12-13T07:16:28.383Z"
   },
   {
    "duration": 175,
    "start_time": "2021-12-13T07:16:28.425Z"
   },
   {
    "duration": 121,
    "start_time": "2021-12-13T07:16:28.603Z"
   },
   {
    "duration": 59,
    "start_time": "2021-12-13T07:16:28.726Z"
   },
   {
    "duration": 39,
    "start_time": "2021-12-13T07:16:28.787Z"
   },
   {
    "duration": 405,
    "start_time": "2021-12-13T07:16:28.828Z"
   },
   {
    "duration": 571,
    "start_time": "2021-12-13T07:16:29.235Z"
   },
   {
    "duration": 560,
    "start_time": "2021-12-13T07:16:29.812Z"
   },
   {
    "duration": 554,
    "start_time": "2021-12-13T07:16:30.375Z"
   },
   {
    "duration": 575,
    "start_time": "2021-12-13T07:16:30.932Z"
   },
   {
    "duration": 576,
    "start_time": "2021-12-13T07:16:31.509Z"
   },
   {
    "duration": 643,
    "start_time": "2021-12-13T07:16:32.088Z"
   },
   {
    "duration": 9,
    "start_time": "2021-12-13T07:16:32.733Z"
   },
   {
    "duration": 26,
    "start_time": "2021-12-13T07:16:32.744Z"
   },
   {
    "duration": 31,
    "start_time": "2021-12-13T07:16:32.772Z"
   },
   {
    "duration": 20,
    "start_time": "2021-12-13T07:16:32.805Z"
   },
   {
    "duration": 35,
    "start_time": "2021-12-13T07:16:32.827Z"
   },
   {
    "duration": 38,
    "start_time": "2021-12-13T07:16:32.864Z"
   },
   {
    "duration": 562,
    "start_time": "2021-12-13T07:22:56.633Z"
   },
   {
    "duration": 545,
    "start_time": "2021-12-13T07:31:56.458Z"
   },
   {
    "duration": 108,
    "start_time": "2021-12-13T07:36:53.184Z"
   },
   {
    "duration": 9,
    "start_time": "2021-12-13T07:46:04.448Z"
   },
   {
    "duration": 10,
    "start_time": "2021-12-13T07:46:07.409Z"
   },
   {
    "duration": 9,
    "start_time": "2021-12-13T07:48:25.312Z"
   },
   {
    "duration": 9,
    "start_time": "2021-12-13T07:59:27.488Z"
   },
   {
    "duration": 9,
    "start_time": "2021-12-13T07:59:58.784Z"
   },
   {
    "duration": 8,
    "start_time": "2021-12-13T08:01:21.880Z"
   },
   {
    "duration": 9,
    "start_time": "2021-12-13T08:11:49.633Z"
   },
   {
    "duration": 9,
    "start_time": "2021-12-13T09:42:24.151Z"
   },
   {
    "duration": 1388,
    "start_time": "2021-12-13T09:43:03.801Z"
   },
   {
    "duration": 119,
    "start_time": "2021-12-13T09:43:05.193Z"
   },
   {
    "duration": 662,
    "start_time": "2021-12-13T09:43:05.315Z"
   },
   {
    "duration": 252,
    "start_time": "2021-12-13T09:43:05.981Z"
   },
   {
    "duration": 594,
    "start_time": "2021-12-13T09:43:06.236Z"
   },
   {
    "duration": 109,
    "start_time": "2021-12-13T09:43:06.833Z"
   },
   {
    "duration": 718,
    "start_time": "2021-12-13T09:43:06.945Z"
   },
   {
    "duration": 232,
    "start_time": "2021-12-13T09:43:07.667Z"
   },
   {
    "duration": 562,
    "start_time": "2021-12-13T09:43:07.902Z"
   },
   {
    "duration": 76,
    "start_time": "2021-12-13T09:43:08.467Z"
   },
   {
    "duration": 518,
    "start_time": "2021-12-13T09:43:08.546Z"
   },
   {
    "duration": 224,
    "start_time": "2021-12-13T09:43:09.066Z"
   },
   {
    "duration": 611,
    "start_time": "2021-12-13T09:43:09.293Z"
   },
   {
    "duration": 38,
    "start_time": "2021-12-13T09:43:09.907Z"
   },
   {
    "duration": 11,
    "start_time": "2021-12-13T09:43:09.947Z"
   },
   {
    "duration": 199,
    "start_time": "2021-12-13T09:43:09.960Z"
   },
   {
    "duration": 113,
    "start_time": "2021-12-13T09:43:10.161Z"
   },
   {
    "duration": 73,
    "start_time": "2021-12-13T09:43:10.276Z"
   },
   {
    "duration": 13,
    "start_time": "2021-12-13T09:43:10.352Z"
   },
   {
    "duration": 413,
    "start_time": "2021-12-13T09:43:10.368Z"
   },
   {
    "duration": 551,
    "start_time": "2021-12-13T09:43:10.783Z"
   },
   {
    "duration": 11,
    "start_time": "2021-12-13T09:43:11.336Z"
   },
   {
    "duration": 532,
    "start_time": "2021-12-13T09:43:11.353Z"
   },
   {
    "duration": 9,
    "start_time": "2021-12-13T09:43:11.889Z"
   },
   {
    "duration": 536,
    "start_time": "2021-12-13T09:43:11.901Z"
   },
   {
    "duration": 10,
    "start_time": "2021-12-13T09:43:12.441Z"
   },
   {
    "duration": 556,
    "start_time": "2021-12-13T09:43:12.454Z"
   },
   {
    "duration": 14,
    "start_time": "2021-12-13T09:43:13.013Z"
   },
   {
    "duration": 556,
    "start_time": "2021-12-13T09:43:13.030Z"
   },
   {
    "duration": 8,
    "start_time": "2021-12-13T09:43:13.588Z"
   },
   {
    "duration": 612,
    "start_time": "2021-12-13T09:43:13.599Z"
   },
   {
    "duration": 13,
    "start_time": "2021-12-13T09:43:14.214Z"
   },
   {
    "duration": 10,
    "start_time": "2021-12-13T09:43:14.229Z"
   },
   {
    "duration": 931,
    "start_time": "2021-12-13T09:45:31.331Z"
   },
   {
    "duration": 9,
    "start_time": "2021-12-13T09:45:51.921Z"
   },
   {
    "duration": 784,
    "start_time": "2021-12-13T09:46:02.134Z"
   },
   {
    "duration": 8,
    "start_time": "2021-12-13T09:46:09.102Z"
   },
   {
    "duration": 514,
    "start_time": "2021-12-13T09:46:52.968Z"
   },
   {
    "duration": 9,
    "start_time": "2021-12-13T09:47:00.524Z"
   },
   {
    "duration": 538,
    "start_time": "2021-12-13T09:47:10.873Z"
   },
   {
    "duration": 10,
    "start_time": "2021-12-13T09:47:18.067Z"
   },
   {
    "duration": 617,
    "start_time": "2021-12-13T09:47:27.532Z"
   },
   {
    "duration": 9,
    "start_time": "2021-12-13T09:47:39.092Z"
   },
   {
    "duration": 516,
    "start_time": "2021-12-13T09:47:46.953Z"
   },
   {
    "duration": 9,
    "start_time": "2021-12-13T09:47:53.109Z"
   },
   {
    "duration": 8,
    "start_time": "2021-12-13T09:48:02.176Z"
   },
   {
    "duration": 9,
    "start_time": "2021-12-13T09:48:07.586Z"
   },
   {
    "duration": 9,
    "start_time": "2021-12-13T09:48:25.499Z"
   },
   {
    "duration": 420,
    "start_time": "2021-12-13T09:49:08.694Z"
   },
   {
    "duration": 403,
    "start_time": "2021-12-13T10:18:30.562Z"
   },
   {
    "duration": 63,
    "start_time": "2021-12-13T10:22:49.487Z"
   },
   {
    "duration": 430,
    "start_time": "2021-12-13T10:32:11.397Z"
   },
   {
    "duration": 9,
    "start_time": "2021-12-13T10:34:02.884Z"
   },
   {
    "duration": 10,
    "start_time": "2021-12-13T10:34:49.666Z"
   },
   {
    "duration": 404,
    "start_time": "2021-12-13T10:39:49.953Z"
   },
   {
    "duration": 399,
    "start_time": "2021-12-13T10:40:13.772Z"
   },
   {
    "duration": 1319,
    "start_time": "2021-12-13T10:54:49.854Z"
   },
   {
    "duration": 84,
    "start_time": "2021-12-13T10:54:51.176Z"
   },
   {
    "duration": 667,
    "start_time": "2021-12-13T10:54:51.263Z"
   },
   {
    "duration": 248,
    "start_time": "2021-12-13T10:54:51.933Z"
   },
   {
    "duration": 615,
    "start_time": "2021-12-13T10:54:52.183Z"
   },
   {
    "duration": 122,
    "start_time": "2021-12-13T10:54:52.801Z"
   },
   {
    "duration": 960,
    "start_time": "2021-12-13T10:54:52.926Z"
   },
   {
    "duration": 279,
    "start_time": "2021-12-13T10:54:53.892Z"
   },
   {
    "duration": 613,
    "start_time": "2021-12-13T10:54:54.174Z"
   },
   {
    "duration": 70,
    "start_time": "2021-12-13T10:54:54.791Z"
   },
   {
    "duration": 614,
    "start_time": "2021-12-13T10:54:54.864Z"
   },
   {
    "duration": 374,
    "start_time": "2021-12-13T10:54:55.482Z"
   },
   {
    "duration": 1031,
    "start_time": "2021-12-13T10:54:55.860Z"
   },
   {
    "duration": 52,
    "start_time": "2021-12-13T10:54:56.894Z"
   },
   {
    "duration": 11,
    "start_time": "2021-12-13T10:54:56.948Z"
   },
   {
    "duration": 207,
    "start_time": "2021-12-13T10:54:56.961Z"
   },
   {
    "duration": 116,
    "start_time": "2021-12-13T10:54:57.170Z"
   },
   {
    "duration": 76,
    "start_time": "2021-12-13T10:54:57.289Z"
   },
   {
    "duration": 17,
    "start_time": "2021-12-13T10:54:57.368Z"
   },
   {
    "duration": 484,
    "start_time": "2021-12-13T10:54:57.387Z"
   },
   {
    "duration": 601,
    "start_time": "2021-12-13T10:54:57.874Z"
   },
   {
    "duration": 10,
    "start_time": "2021-12-13T10:54:58.477Z"
   },
   {
    "duration": 562,
    "start_time": "2021-12-13T10:54:58.491Z"
   },
   {
    "duration": 12,
    "start_time": "2021-12-13T10:54:59.057Z"
   },
   {
    "duration": 574,
    "start_time": "2021-12-13T10:54:59.072Z"
   },
   {
    "duration": 8,
    "start_time": "2021-12-13T10:54:59.649Z"
   },
   {
    "duration": 691,
    "start_time": "2021-12-13T10:54:59.659Z"
   },
   {
    "duration": 11,
    "start_time": "2021-12-13T10:55:00.353Z"
   },
   {
    "duration": 605,
    "start_time": "2021-12-13T10:55:00.367Z"
   },
   {
    "duration": 9,
    "start_time": "2021-12-13T10:55:00.974Z"
   },
   {
    "duration": 731,
    "start_time": "2021-12-13T10:55:00.986Z"
   },
   {
    "duration": 14,
    "start_time": "2021-12-13T10:55:01.719Z"
   },
   {
    "duration": 18,
    "start_time": "2021-12-13T10:55:01.735Z"
   },
   {
    "duration": 166,
    "start_time": "2021-12-13T10:55:01.755Z"
   },
   {
    "duration": 9,
    "start_time": "2021-12-13T10:56:35.046Z"
   },
   {
    "duration": 12,
    "start_time": "2021-12-13T10:57:52.644Z"
   },
   {
    "duration": 427,
    "start_time": "2021-12-13T11:06:26.025Z"
   },
   {
    "duration": 1247,
    "start_time": "2021-12-13T11:10:52.079Z"
   },
   {
    "duration": 105,
    "start_time": "2021-12-13T11:10:53.329Z"
   },
   {
    "duration": 696,
    "start_time": "2021-12-13T11:10:53.438Z"
   },
   {
    "duration": 242,
    "start_time": "2021-12-13T11:10:54.137Z"
   },
   {
    "duration": 592,
    "start_time": "2021-12-13T11:10:54.382Z"
   },
   {
    "duration": 113,
    "start_time": "2021-12-13T11:10:54.976Z"
   },
   {
    "duration": 942,
    "start_time": "2021-12-13T11:10:55.092Z"
   },
   {
    "duration": 362,
    "start_time": "2021-12-13T11:10:56.040Z"
   },
   {
    "duration": 661,
    "start_time": "2021-12-13T11:10:56.407Z"
   },
   {
    "duration": 80,
    "start_time": "2021-12-13T11:10:57.071Z"
   },
   {
    "duration": 555,
    "start_time": "2021-12-13T11:10:57.154Z"
   },
   {
    "duration": 244,
    "start_time": "2021-12-13T11:10:57.712Z"
   },
   {
    "duration": 666,
    "start_time": "2021-12-13T11:10:57.959Z"
   },
   {
    "duration": 37,
    "start_time": "2021-12-13T11:10:58.628Z"
   },
   {
    "duration": 14,
    "start_time": "2021-12-13T11:10:58.668Z"
   },
   {
    "duration": 212,
    "start_time": "2021-12-13T11:10:58.684Z"
   },
   {
    "duration": 109,
    "start_time": "2021-12-13T11:10:58.899Z"
   },
   {
    "duration": 118,
    "start_time": "2021-12-13T11:10:59.011Z"
   },
   {
    "duration": 22,
    "start_time": "2021-12-13T11:10:59.132Z"
   },
   {
    "duration": 877,
    "start_time": "2021-12-13T11:10:59.157Z"
   },
   {
    "duration": 973,
    "start_time": "2021-12-13T11:11:00.037Z"
   },
   {
    "duration": 16,
    "start_time": "2021-12-13T11:11:01.014Z"
   },
   {
    "duration": 860,
    "start_time": "2021-12-13T11:11:01.038Z"
   },
   {
    "duration": 24,
    "start_time": "2021-12-13T11:11:01.902Z"
   },
   {
    "duration": 901,
    "start_time": "2021-12-13T11:11:01.929Z"
   },
   {
    "duration": 12,
    "start_time": "2021-12-13T11:11:02.833Z"
   },
   {
    "duration": 943,
    "start_time": "2021-12-13T11:11:02.849Z"
   },
   {
    "duration": 11,
    "start_time": "2021-12-13T11:11:03.795Z"
   },
   {
    "duration": 566,
    "start_time": "2021-12-13T11:11:03.824Z"
   },
   {
    "duration": 10,
    "start_time": "2021-12-13T11:11:04.393Z"
   },
   {
    "duration": 686,
    "start_time": "2021-12-13T11:11:04.424Z"
   },
   {
    "duration": 19,
    "start_time": "2021-12-13T11:11:05.113Z"
   },
   {
    "duration": 15,
    "start_time": "2021-12-13T11:11:05.134Z"
   },
   {
    "duration": 10,
    "start_time": "2021-12-13T11:11:05.152Z"
   },
   {
    "duration": 123,
    "start_time": "2021-12-13T11:11:05.165Z"
   },
   {
    "duration": 829,
    "start_time": "2021-12-13T11:12:38.120Z"
   },
   {
    "duration": 5,
    "start_time": "2021-12-13T11:14:54.699Z"
   },
   {
    "duration": 12,
    "start_time": "2021-12-13T11:16:21.467Z"
   },
   {
    "duration": 8,
    "start_time": "2021-12-13T11:16:31.882Z"
   },
   {
    "duration": 11,
    "start_time": "2021-12-13T11:16:34.065Z"
   },
   {
    "duration": 10,
    "start_time": "2021-12-13T11:18:39.189Z"
   },
   {
    "duration": 9,
    "start_time": "2021-12-13T11:21:59.623Z"
   },
   {
    "duration": 10,
    "start_time": "2021-12-13T11:25:22.982Z"
   },
   {
    "duration": 197,
    "start_time": "2021-12-13T15:03:15.439Z"
   },
   {
    "duration": 208,
    "start_time": "2021-12-13T15:03:29.247Z"
   },
   {
    "duration": 1187,
    "start_time": "2021-12-13T15:04:33.684Z"
   },
   {
    "duration": 77,
    "start_time": "2021-12-13T15:04:34.874Z"
   },
   {
    "duration": 795,
    "start_time": "2021-12-13T15:04:34.954Z"
   },
   {
    "duration": 237,
    "start_time": "2021-12-13T15:04:35.751Z"
   },
   {
    "duration": 586,
    "start_time": "2021-12-13T15:04:35.991Z"
   },
   {
    "duration": 78,
    "start_time": "2021-12-13T15:04:36.579Z"
   },
   {
    "duration": 557,
    "start_time": "2021-12-13T15:04:36.659Z"
   },
   {
    "duration": 234,
    "start_time": "2021-12-13T15:04:37.219Z"
   },
   {
    "duration": 551,
    "start_time": "2021-12-13T15:04:37.455Z"
   },
   {
    "duration": 58,
    "start_time": "2021-12-13T15:04:38.008Z"
   },
   {
    "duration": 569,
    "start_time": "2021-12-13T15:04:38.069Z"
   },
   {
    "duration": 229,
    "start_time": "2021-12-13T15:04:38.641Z"
   },
   {
    "duration": 620,
    "start_time": "2021-12-13T15:04:38.873Z"
   },
   {
    "duration": 48,
    "start_time": "2021-12-13T15:04:39.496Z"
   },
   {
    "duration": 12,
    "start_time": "2021-12-13T15:04:39.547Z"
   },
   {
    "duration": 212,
    "start_time": "2021-12-13T15:04:39.563Z"
   },
   {
    "duration": 114,
    "start_time": "2021-12-13T15:04:39.778Z"
   },
   {
    "duration": 72,
    "start_time": "2021-12-13T15:04:39.896Z"
   },
   {
    "duration": 17,
    "start_time": "2021-12-13T15:04:39.972Z"
   },
   {
    "duration": 438,
    "start_time": "2021-12-13T15:04:39.992Z"
   },
   {
    "duration": 555,
    "start_time": "2021-12-13T15:04:40.433Z"
   },
   {
    "duration": 10,
    "start_time": "2021-12-13T15:04:40.991Z"
   },
   {
    "duration": 544,
    "start_time": "2021-12-13T15:04:41.025Z"
   },
   {
    "duration": 9,
    "start_time": "2021-12-13T15:04:41.572Z"
   },
   {
    "duration": 518,
    "start_time": "2021-12-13T15:04:41.584Z"
   },
   {
    "duration": 23,
    "start_time": "2021-12-13T15:04:42.105Z"
   },
   {
    "duration": 545,
    "start_time": "2021-12-13T15:04:42.131Z"
   },
   {
    "duration": 9,
    "start_time": "2021-12-13T15:04:42.678Z"
   },
   {
    "duration": 568,
    "start_time": "2021-12-13T15:04:42.690Z"
   },
   {
    "duration": 8,
    "start_time": "2021-12-13T15:04:43.261Z"
   },
   {
    "duration": 626,
    "start_time": "2021-12-13T15:04:43.272Z"
   },
   {
    "duration": 7,
    "start_time": "2021-12-13T15:04:43.901Z"
   },
   {
    "duration": 8,
    "start_time": "2021-12-13T15:04:43.922Z"
   },
   {
    "duration": 403,
    "start_time": "2021-12-13T15:04:43.932Z"
   },
   {
    "duration": 11,
    "start_time": "2021-12-13T15:04:44.337Z"
   },
   {
    "duration": 14,
    "start_time": "2021-12-13T15:04:44.351Z"
   },
   {
    "duration": 210,
    "start_time": "2021-12-13T15:05:02.091Z"
   },
   {
    "duration": 206,
    "start_time": "2021-12-13T15:05:07.556Z"
   },
   {
    "duration": 199,
    "start_time": "2021-12-13T15:05:15.742Z"
   },
   {
    "duration": 1186,
    "start_time": "2021-12-13T15:05:24.171Z"
   },
   {
    "duration": 77,
    "start_time": "2021-12-13T15:05:25.360Z"
   },
   {
    "duration": 645,
    "start_time": "2021-12-13T15:05:25.440Z"
   },
   {
    "duration": 242,
    "start_time": "2021-12-13T15:05:26.088Z"
   },
   {
    "duration": 562,
    "start_time": "2021-12-13T15:05:26.333Z"
   },
   {
    "duration": 73,
    "start_time": "2021-12-13T15:05:26.898Z"
   },
   {
    "duration": 544,
    "start_time": "2021-12-13T15:05:26.974Z"
   },
   {
    "duration": 233,
    "start_time": "2021-12-13T15:05:27.525Z"
   },
   {
    "duration": 600,
    "start_time": "2021-12-13T15:05:27.761Z"
   },
   {
    "duration": 77,
    "start_time": "2021-12-13T15:05:28.364Z"
   },
   {
    "duration": 579,
    "start_time": "2021-12-13T15:05:28.444Z"
   },
   {
    "duration": 227,
    "start_time": "2021-12-13T15:05:29.026Z"
   },
   {
    "duration": 575,
    "start_time": "2021-12-13T15:05:29.256Z"
   },
   {
    "duration": 35,
    "start_time": "2021-12-13T15:05:29.833Z"
   },
   {
    "duration": 19,
    "start_time": "2021-12-13T15:05:29.870Z"
   },
   {
    "duration": 196,
    "start_time": "2021-12-13T15:05:29.891Z"
   },
   {
    "duration": 113,
    "start_time": "2021-12-13T15:05:30.090Z"
   },
   {
    "duration": 75,
    "start_time": "2021-12-13T15:05:30.206Z"
   },
   {
    "duration": 42,
    "start_time": "2021-12-13T15:05:30.284Z"
   },
   {
    "duration": 439,
    "start_time": "2021-12-13T15:05:30.329Z"
   },
   {
    "duration": 572,
    "start_time": "2021-12-13T15:05:30.771Z"
   },
   {
    "duration": 10,
    "start_time": "2021-12-13T15:05:31.346Z"
   },
   {
    "duration": 542,
    "start_time": "2021-12-13T15:05:31.362Z"
   },
   {
    "duration": 18,
    "start_time": "2021-12-13T15:05:31.907Z"
   },
   {
    "duration": 508,
    "start_time": "2021-12-13T15:05:31.928Z"
   },
   {
    "duration": 10,
    "start_time": "2021-12-13T15:05:32.439Z"
   },
   {
    "duration": 565,
    "start_time": "2021-12-13T15:05:32.452Z"
   },
   {
    "duration": 8,
    "start_time": "2021-12-13T15:05:33.019Z"
   },
   {
    "duration": 582,
    "start_time": "2021-12-13T15:05:33.029Z"
   },
   {
    "duration": 14,
    "start_time": "2021-12-13T15:05:33.613Z"
   },
   {
    "duration": 649,
    "start_time": "2021-12-13T15:05:33.629Z"
   },
   {
    "duration": 8,
    "start_time": "2021-12-13T15:05:34.281Z"
   },
   {
    "duration": 32,
    "start_time": "2021-12-13T15:05:34.291Z"
   },
   {
    "duration": 489,
    "start_time": "2021-12-13T15:05:34.325Z"
   },
   {
    "duration": 9,
    "start_time": "2021-12-13T15:05:34.823Z"
   },
   {
    "duration": 51,
    "start_time": "2021-12-13T15:05:34.834Z"
   },
   {
    "duration": 1237,
    "start_time": "2021-12-13T15:57:37.152Z"
   },
   {
    "duration": 84,
    "start_time": "2021-12-13T15:57:38.392Z"
   },
   {
    "duration": 685,
    "start_time": "2021-12-13T15:57:38.479Z"
   },
   {
    "duration": 252,
    "start_time": "2021-12-13T15:57:39.166Z"
   },
   {
    "duration": 651,
    "start_time": "2021-12-13T15:57:39.423Z"
   },
   {
    "duration": 85,
    "start_time": "2021-12-13T15:57:40.077Z"
   },
   {
    "duration": 552,
    "start_time": "2021-12-13T15:57:40.164Z"
   },
   {
    "duration": 237,
    "start_time": "2021-12-13T15:57:40.724Z"
   },
   {
    "duration": 543,
    "start_time": "2021-12-13T15:57:40.965Z"
   },
   {
    "duration": 57,
    "start_time": "2021-12-13T15:57:41.511Z"
   },
   {
    "duration": 627,
    "start_time": "2021-12-13T15:57:41.570Z"
   },
   {
    "duration": 245,
    "start_time": "2021-12-13T15:57:42.200Z"
   },
   {
    "duration": 604,
    "start_time": "2021-12-13T15:57:42.448Z"
   },
   {
    "duration": 34,
    "start_time": "2021-12-13T15:57:43.055Z"
   },
   {
    "duration": 34,
    "start_time": "2021-12-13T15:57:43.092Z"
   },
   {
    "duration": 185,
    "start_time": "2021-12-13T15:57:43.129Z"
   },
   {
    "duration": 106,
    "start_time": "2021-12-13T15:57:43.324Z"
   },
   {
    "duration": 59,
    "start_time": "2021-12-13T15:57:43.432Z"
   },
   {
    "duration": 34,
    "start_time": "2021-12-13T15:57:43.494Z"
   },
   {
    "duration": 434,
    "start_time": "2021-12-13T15:57:43.530Z"
   },
   {
    "duration": 559,
    "start_time": "2021-12-13T15:57:43.967Z"
   },
   {
    "duration": 11,
    "start_time": "2021-12-13T15:57:44.528Z"
   },
   {
    "duration": 551,
    "start_time": "2021-12-13T15:57:44.543Z"
   },
   {
    "duration": 8,
    "start_time": "2021-12-13T15:57:45.096Z"
   },
   {
    "duration": 520,
    "start_time": "2021-12-13T15:57:45.106Z"
   },
   {
    "duration": 10,
    "start_time": "2021-12-13T15:57:45.629Z"
   },
   {
    "duration": 565,
    "start_time": "2021-12-13T15:57:45.642Z"
   },
   {
    "duration": 15,
    "start_time": "2021-12-13T15:57:46.209Z"
   },
   {
    "duration": 553,
    "start_time": "2021-12-13T15:57:46.227Z"
   },
   {
    "duration": 8,
    "start_time": "2021-12-13T15:57:46.783Z"
   },
   {
    "duration": 634,
    "start_time": "2021-12-13T15:57:46.793Z"
   },
   {
    "duration": 8,
    "start_time": "2021-12-13T15:57:47.430Z"
   },
   {
    "duration": 22,
    "start_time": "2021-12-13T15:57:47.440Z"
   },
   {
    "duration": 455,
    "start_time": "2021-12-13T15:57:47.465Z"
   },
   {
    "duration": 8,
    "start_time": "2021-12-13T15:57:47.924Z"
   },
   {
    "duration": 36,
    "start_time": "2021-12-13T15:57:47.934Z"
   }
  ],
  "kernelspec": {
   "display_name": "Python 3",
   "language": "python",
   "name": "python3"
  },
  "language_info": {
   "codemirror_mode": {
    "name": "ipython",
    "version": 3
   },
   "file_extension": ".py",
   "mimetype": "text/x-python",
   "name": "python",
   "nbconvert_exporter": "python",
   "pygments_lexer": "ipython3",
   "version": "3.7.8"
  },
  "toc": {
   "base_numbering": 1,
   "nav_menu": {},
   "number_sections": true,
   "sideBar": true,
   "skip_h1_title": true,
   "title_cell": "Table of Contents",
   "title_sidebar": "Contents",
   "toc_cell": false,
   "toc_position": {},
   "toc_section_display": true,
   "toc_window_display": false
  }
 },
 "nbformat": 4,
 "nbformat_minor": 2
}
