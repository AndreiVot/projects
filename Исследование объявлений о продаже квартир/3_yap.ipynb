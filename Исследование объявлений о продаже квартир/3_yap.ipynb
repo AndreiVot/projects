{
 "cells": [
  {
   "cell_type": "markdown",
   "metadata": {},
   "source": [
    "# Исследование объявлений о продаже квартир\n",
    "\n",
    "В распоряжении архив объявлений о продаже квартир в Санкт-Петербурге и соседних населённых пунктах за несколько лет. задача - установить параметры для определения рыночной стоимости объектов недвижимости. Это позволит построить автоматизированную систему: она отследит аномалии и мошенническую деятельность. \n",
    "\n",
    "По каждой квартире на продажу доступны два вида данных. Первые вписаны пользователем, вторые получены автоматически на основе картографических данных. Например, расстояние до центра, аэропорта, ближайшего парка и водоёма. "
   ]
  },
  {
   "cell_type": "markdown",
   "metadata": {},
   "source": [
    "## Изучение данных из файла"
   ]
  },
  {
   "cell_type": "code",
   "execution_count": 1,
   "metadata": {},
   "outputs": [
    {
     "data": {
      "text/html": [
       "<div>\n",
       "<style scoped>\n",
       "    .dataframe tbody tr th:only-of-type {\n",
       "        vertical-align: middle;\n",
       "    }\n",
       "\n",
       "    .dataframe tbody tr th {\n",
       "        vertical-align: top;\n",
       "    }\n",
       "\n",
       "    .dataframe thead th {\n",
       "        text-align: right;\n",
       "    }\n",
       "</style>\n",
       "<table border=\"1\" class=\"dataframe\">\n",
       "  <thead>\n",
       "    <tr style=\"text-align: right;\">\n",
       "      <th></th>\n",
       "      <th>total_images</th>\n",
       "      <th>last_price</th>\n",
       "      <th>total_area</th>\n",
       "      <th>first_day_exposition</th>\n",
       "      <th>rooms</th>\n",
       "      <th>ceiling_height</th>\n",
       "      <th>floors_total</th>\n",
       "      <th>living_area</th>\n",
       "      <th>floor</th>\n",
       "      <th>is_apartment</th>\n",
       "      <th>...</th>\n",
       "      <th>kitchen_area</th>\n",
       "      <th>balcony</th>\n",
       "      <th>locality_name</th>\n",
       "      <th>airports_nearest</th>\n",
       "      <th>cityCenters_nearest</th>\n",
       "      <th>parks_around3000</th>\n",
       "      <th>parks_nearest</th>\n",
       "      <th>ponds_around3000</th>\n",
       "      <th>ponds_nearest</th>\n",
       "      <th>days_exposition</th>\n",
       "    </tr>\n",
       "  </thead>\n",
       "  <tbody>\n",
       "    <tr>\n",
       "      <td>0</td>\n",
       "      <td>20</td>\n",
       "      <td>13000000.0</td>\n",
       "      <td>108.00</td>\n",
       "      <td>2019-03-07T00:00:00</td>\n",
       "      <td>3</td>\n",
       "      <td>2.70</td>\n",
       "      <td>16.0</td>\n",
       "      <td>51.00</td>\n",
       "      <td>8</td>\n",
       "      <td>NaN</td>\n",
       "      <td>...</td>\n",
       "      <td>25.00</td>\n",
       "      <td>NaN</td>\n",
       "      <td>Санкт-Петербург</td>\n",
       "      <td>18863.0</td>\n",
       "      <td>16028.0</td>\n",
       "      <td>1.0</td>\n",
       "      <td>482.0</td>\n",
       "      <td>2.0</td>\n",
       "      <td>755.0</td>\n",
       "      <td>NaN</td>\n",
       "    </tr>\n",
       "    <tr>\n",
       "      <td>1</td>\n",
       "      <td>7</td>\n",
       "      <td>3350000.0</td>\n",
       "      <td>40.40</td>\n",
       "      <td>2018-12-04T00:00:00</td>\n",
       "      <td>1</td>\n",
       "      <td>NaN</td>\n",
       "      <td>11.0</td>\n",
       "      <td>18.60</td>\n",
       "      <td>1</td>\n",
       "      <td>NaN</td>\n",
       "      <td>...</td>\n",
       "      <td>11.00</td>\n",
       "      <td>2.0</td>\n",
       "      <td>посёлок Шушары</td>\n",
       "      <td>12817.0</td>\n",
       "      <td>18603.0</td>\n",
       "      <td>0.0</td>\n",
       "      <td>NaN</td>\n",
       "      <td>0.0</td>\n",
       "      <td>NaN</td>\n",
       "      <td>81.0</td>\n",
       "    </tr>\n",
       "    <tr>\n",
       "      <td>2</td>\n",
       "      <td>10</td>\n",
       "      <td>5196000.0</td>\n",
       "      <td>56.00</td>\n",
       "      <td>2015-08-20T00:00:00</td>\n",
       "      <td>2</td>\n",
       "      <td>NaN</td>\n",
       "      <td>5.0</td>\n",
       "      <td>34.30</td>\n",
       "      <td>4</td>\n",
       "      <td>NaN</td>\n",
       "      <td>...</td>\n",
       "      <td>8.30</td>\n",
       "      <td>0.0</td>\n",
       "      <td>Санкт-Петербург</td>\n",
       "      <td>21741.0</td>\n",
       "      <td>13933.0</td>\n",
       "      <td>1.0</td>\n",
       "      <td>90.0</td>\n",
       "      <td>2.0</td>\n",
       "      <td>574.0</td>\n",
       "      <td>558.0</td>\n",
       "    </tr>\n",
       "    <tr>\n",
       "      <td>3</td>\n",
       "      <td>0</td>\n",
       "      <td>64900000.0</td>\n",
       "      <td>159.00</td>\n",
       "      <td>2015-07-24T00:00:00</td>\n",
       "      <td>3</td>\n",
       "      <td>NaN</td>\n",
       "      <td>14.0</td>\n",
       "      <td>NaN</td>\n",
       "      <td>9</td>\n",
       "      <td>NaN</td>\n",
       "      <td>...</td>\n",
       "      <td>NaN</td>\n",
       "      <td>0.0</td>\n",
       "      <td>Санкт-Петербург</td>\n",
       "      <td>28098.0</td>\n",
       "      <td>6800.0</td>\n",
       "      <td>2.0</td>\n",
       "      <td>84.0</td>\n",
       "      <td>3.0</td>\n",
       "      <td>234.0</td>\n",
       "      <td>424.0</td>\n",
       "    </tr>\n",
       "    <tr>\n",
       "      <td>4</td>\n",
       "      <td>2</td>\n",
       "      <td>10000000.0</td>\n",
       "      <td>100.00</td>\n",
       "      <td>2018-06-19T00:00:00</td>\n",
       "      <td>2</td>\n",
       "      <td>3.03</td>\n",
       "      <td>14.0</td>\n",
       "      <td>32.00</td>\n",
       "      <td>13</td>\n",
       "      <td>NaN</td>\n",
       "      <td>...</td>\n",
       "      <td>41.00</td>\n",
       "      <td>NaN</td>\n",
       "      <td>Санкт-Петербург</td>\n",
       "      <td>31856.0</td>\n",
       "      <td>8098.0</td>\n",
       "      <td>2.0</td>\n",
       "      <td>112.0</td>\n",
       "      <td>1.0</td>\n",
       "      <td>48.0</td>\n",
       "      <td>121.0</td>\n",
       "    </tr>\n",
       "    <tr>\n",
       "      <td>5</td>\n",
       "      <td>10</td>\n",
       "      <td>2890000.0</td>\n",
       "      <td>30.40</td>\n",
       "      <td>2018-09-10T00:00:00</td>\n",
       "      <td>1</td>\n",
       "      <td>NaN</td>\n",
       "      <td>12.0</td>\n",
       "      <td>14.40</td>\n",
       "      <td>5</td>\n",
       "      <td>NaN</td>\n",
       "      <td>...</td>\n",
       "      <td>9.10</td>\n",
       "      <td>NaN</td>\n",
       "      <td>городской посёлок Янино-1</td>\n",
       "      <td>NaN</td>\n",
       "      <td>NaN</td>\n",
       "      <td>NaN</td>\n",
       "      <td>NaN</td>\n",
       "      <td>NaN</td>\n",
       "      <td>NaN</td>\n",
       "      <td>55.0</td>\n",
       "    </tr>\n",
       "    <tr>\n",
       "      <td>6</td>\n",
       "      <td>6</td>\n",
       "      <td>3700000.0</td>\n",
       "      <td>37.30</td>\n",
       "      <td>2017-11-02T00:00:00</td>\n",
       "      <td>1</td>\n",
       "      <td>NaN</td>\n",
       "      <td>26.0</td>\n",
       "      <td>10.60</td>\n",
       "      <td>6</td>\n",
       "      <td>NaN</td>\n",
       "      <td>...</td>\n",
       "      <td>14.40</td>\n",
       "      <td>1.0</td>\n",
       "      <td>посёлок Парголово</td>\n",
       "      <td>52996.0</td>\n",
       "      <td>19143.0</td>\n",
       "      <td>0.0</td>\n",
       "      <td>NaN</td>\n",
       "      <td>0.0</td>\n",
       "      <td>NaN</td>\n",
       "      <td>155.0</td>\n",
       "    </tr>\n",
       "    <tr>\n",
       "      <td>7</td>\n",
       "      <td>5</td>\n",
       "      <td>7915000.0</td>\n",
       "      <td>71.60</td>\n",
       "      <td>2019-04-18T00:00:00</td>\n",
       "      <td>2</td>\n",
       "      <td>NaN</td>\n",
       "      <td>24.0</td>\n",
       "      <td>NaN</td>\n",
       "      <td>22</td>\n",
       "      <td>NaN</td>\n",
       "      <td>...</td>\n",
       "      <td>18.90</td>\n",
       "      <td>2.0</td>\n",
       "      <td>Санкт-Петербург</td>\n",
       "      <td>23982.0</td>\n",
       "      <td>11634.0</td>\n",
       "      <td>0.0</td>\n",
       "      <td>NaN</td>\n",
       "      <td>0.0</td>\n",
       "      <td>NaN</td>\n",
       "      <td>NaN</td>\n",
       "    </tr>\n",
       "    <tr>\n",
       "      <td>8</td>\n",
       "      <td>20</td>\n",
       "      <td>2900000.0</td>\n",
       "      <td>33.16</td>\n",
       "      <td>2018-05-23T00:00:00</td>\n",
       "      <td>1</td>\n",
       "      <td>NaN</td>\n",
       "      <td>27.0</td>\n",
       "      <td>15.43</td>\n",
       "      <td>26</td>\n",
       "      <td>NaN</td>\n",
       "      <td>...</td>\n",
       "      <td>8.81</td>\n",
       "      <td>NaN</td>\n",
       "      <td>посёлок Мурино</td>\n",
       "      <td>NaN</td>\n",
       "      <td>NaN</td>\n",
       "      <td>NaN</td>\n",
       "      <td>NaN</td>\n",
       "      <td>NaN</td>\n",
       "      <td>NaN</td>\n",
       "      <td>189.0</td>\n",
       "    </tr>\n",
       "    <tr>\n",
       "      <td>9</td>\n",
       "      <td>18</td>\n",
       "      <td>5400000.0</td>\n",
       "      <td>61.00</td>\n",
       "      <td>2017-02-26T00:00:00</td>\n",
       "      <td>3</td>\n",
       "      <td>2.50</td>\n",
       "      <td>9.0</td>\n",
       "      <td>43.60</td>\n",
       "      <td>7</td>\n",
       "      <td>NaN</td>\n",
       "      <td>...</td>\n",
       "      <td>6.50</td>\n",
       "      <td>2.0</td>\n",
       "      <td>Санкт-Петербург</td>\n",
       "      <td>50898.0</td>\n",
       "      <td>15008.0</td>\n",
       "      <td>0.0</td>\n",
       "      <td>NaN</td>\n",
       "      <td>0.0</td>\n",
       "      <td>NaN</td>\n",
       "      <td>289.0</td>\n",
       "    </tr>\n",
       "  </tbody>\n",
       "</table>\n",
       "<p>10 rows × 22 columns</p>\n",
       "</div>"
      ],
      "text/plain": [
       "   total_images  last_price  total_area first_day_exposition  rooms  \\\n",
       "0            20  13000000.0      108.00  2019-03-07T00:00:00      3   \n",
       "1             7   3350000.0       40.40  2018-12-04T00:00:00      1   \n",
       "2            10   5196000.0       56.00  2015-08-20T00:00:00      2   \n",
       "3             0  64900000.0      159.00  2015-07-24T00:00:00      3   \n",
       "4             2  10000000.0      100.00  2018-06-19T00:00:00      2   \n",
       "5            10   2890000.0       30.40  2018-09-10T00:00:00      1   \n",
       "6             6   3700000.0       37.30  2017-11-02T00:00:00      1   \n",
       "7             5   7915000.0       71.60  2019-04-18T00:00:00      2   \n",
       "8            20   2900000.0       33.16  2018-05-23T00:00:00      1   \n",
       "9            18   5400000.0       61.00  2017-02-26T00:00:00      3   \n",
       "\n",
       "   ceiling_height  floors_total  living_area  floor is_apartment  ...  \\\n",
       "0            2.70          16.0        51.00      8          NaN  ...   \n",
       "1             NaN          11.0        18.60      1          NaN  ...   \n",
       "2             NaN           5.0        34.30      4          NaN  ...   \n",
       "3             NaN          14.0          NaN      9          NaN  ...   \n",
       "4            3.03          14.0        32.00     13          NaN  ...   \n",
       "5             NaN          12.0        14.40      5          NaN  ...   \n",
       "6             NaN          26.0        10.60      6          NaN  ...   \n",
       "7             NaN          24.0          NaN     22          NaN  ...   \n",
       "8             NaN          27.0        15.43     26          NaN  ...   \n",
       "9            2.50           9.0        43.60      7          NaN  ...   \n",
       "\n",
       "   kitchen_area  balcony              locality_name  airports_nearest  \\\n",
       "0         25.00      NaN            Санкт-Петербург           18863.0   \n",
       "1         11.00      2.0             посёлок Шушары           12817.0   \n",
       "2          8.30      0.0            Санкт-Петербург           21741.0   \n",
       "3           NaN      0.0            Санкт-Петербург           28098.0   \n",
       "4         41.00      NaN            Санкт-Петербург           31856.0   \n",
       "5          9.10      NaN  городской посёлок Янино-1               NaN   \n",
       "6         14.40      1.0          посёлок Парголово           52996.0   \n",
       "7         18.90      2.0            Санкт-Петербург           23982.0   \n",
       "8          8.81      NaN             посёлок Мурино               NaN   \n",
       "9          6.50      2.0            Санкт-Петербург           50898.0   \n",
       "\n",
       "  cityCenters_nearest  parks_around3000  parks_nearest  ponds_around3000  \\\n",
       "0             16028.0               1.0          482.0               2.0   \n",
       "1             18603.0               0.0            NaN               0.0   \n",
       "2             13933.0               1.0           90.0               2.0   \n",
       "3              6800.0               2.0           84.0               3.0   \n",
       "4              8098.0               2.0          112.0               1.0   \n",
       "5                 NaN               NaN            NaN               NaN   \n",
       "6             19143.0               0.0            NaN               0.0   \n",
       "7             11634.0               0.0            NaN               0.0   \n",
       "8                 NaN               NaN            NaN               NaN   \n",
       "9             15008.0               0.0            NaN               0.0   \n",
       "\n",
       "   ponds_nearest  days_exposition  \n",
       "0          755.0              NaN  \n",
       "1            NaN             81.0  \n",
       "2          574.0            558.0  \n",
       "3          234.0            424.0  \n",
       "4           48.0            121.0  \n",
       "5            NaN             55.0  \n",
       "6            NaN            155.0  \n",
       "7            NaN              NaN  \n",
       "8            NaN            189.0  \n",
       "9            NaN            289.0  \n",
       "\n",
       "[10 rows x 22 columns]"
      ]
     },
     "metadata": {},
     "output_type": "display_data"
    },
    {
     "name": "stdout",
     "output_type": "stream",
     "text": [
      "<class 'pandas.core.frame.DataFrame'>\n",
      "RangeIndex: 23699 entries, 0 to 23698\n",
      "Data columns (total 22 columns):\n",
      "total_images            23699 non-null int64\n",
      "last_price              23699 non-null float64\n",
      "total_area              23699 non-null float64\n",
      "first_day_exposition    23699 non-null object\n",
      "rooms                   23699 non-null int64\n",
      "ceiling_height          14504 non-null float64\n",
      "floors_total            23613 non-null float64\n",
      "living_area             21796 non-null float64\n",
      "floor                   23699 non-null int64\n",
      "is_apartment            2775 non-null object\n",
      "studio                  23699 non-null bool\n",
      "open_plan               23699 non-null bool\n",
      "kitchen_area            21421 non-null float64\n",
      "balcony                 12180 non-null float64\n",
      "locality_name           23650 non-null object\n",
      "airports_nearest        18157 non-null float64\n",
      "cityCenters_nearest     18180 non-null float64\n",
      "parks_around3000        18181 non-null float64\n",
      "parks_nearest           8079 non-null float64\n",
      "ponds_around3000        18181 non-null float64\n",
      "ponds_nearest           9110 non-null float64\n",
      "days_exposition         20518 non-null float64\n",
      "dtypes: bool(2), float64(14), int64(3), object(3)\n",
      "memory usage: 3.7+ MB\n"
     ]
    }
   ],
   "source": [
    "import pandas as pd\n",
    "data = pd.read_csv('/datasets/real_estate_data.csv', sep='\\t')\n",
    "display(data.head(10)) \n",
    "data.info()\n",
    "\n",
    "import warnings\n",
    "warnings.filterwarnings('ignore')"
   ]
  },
  {
   "cell_type": "code",
   "execution_count": 2,
   "metadata": {},
   "outputs": [
    {
     "name": "stdout",
     "output_type": "stream",
     "text": [
      "Минимальная цена 12190.0\n",
      "Максимальная цена 763000000.0\n"
     ]
    }
   ],
   "source": [
    "# минимальная и максимальная цена квартиры. данные нужны для понимания \n",
    "# степени округления этих чисел\n",
    "print('Минимальная цена', data['last_price'].min())\n",
    "print('Максимальная цена', data['last_price'].max())"
   ]
  },
  {
   "cell_type": "markdown",
   "metadata": {},
   "source": [
    "### Вывод\n",
    "\n",
    "Описание данных и комментарии по последующей их обработке.\n",
    "\n",
    "•\ttotal_images           \n",
    " — число фотографий квартиры в объявлении.\n",
    "\n",
    "•\tlast_price             \n",
    "— цена на момент снятия с публикации.\n",
    "Исходя из данных о максимальной и минимальной цене, округлить данные до сотен тысяч рублей, данные указывать в миллионах рублей. \n",
    "\n",
    "•\ttotal_area              \n",
    "— площадь квартиры в квадратных метрах (м².)\n",
    "\n",
    "•\tfirst_day_exposition   \n",
    "— дата публикации.\n",
    "Перевести формат написания в более удобочитаемый. Округлить данные до дней, выявить день недели подачи объявления.\n",
    "\n",
    "•\trooms                  \n",
    "— число комнат.\n",
    "\n",
    "•\tceiling_height          \n",
    " — высота потолков (м).\n",
    "В данных есть пропуски. Вероятно, пропуски объясняются стандартностью высоты потолков, податель объявления не посчитал этот параметр уникальным и существенным. Пропуски заменить средним значением.\n",
    "\n",
    "•\tfloors_total           \n",
    "— всего этажей в доме.\n",
    "    Долей номера этажа не бывает. Тип данных перевести в целочисленный тип. Небольшое количество пропусков в данных может объясняться одноэтажностью здания. Нужно в дальнейшем уточнить.\n",
    "\n",
    "•\tliving_area             \n",
    " — жилая площадь в квадратных метрах (м².)\n",
    " В данных немало пропусков. На данном этапе не ясно по какой причине пропуски.\n",
    "\n",
    "•\tfloor                 \n",
    "— этаж.\n",
    "\n",
    "•\tis_apartment           \n",
    "— апартаменты (булев тип). Очень много пропусков. Вероятнее всего, пропуски можно заменить на значение False.\n",
    "\n",
    "•\tstudio                 \n",
    "— квартира-студия (булев тип).\n",
    "\n",
    "•\topen_plan              \n",
    "— свободная планировка (булев тип).\n",
    "\n",
    "•\tkitchen_area            \n",
    " — площадь кухни в квадратных метрах (м²).\n",
    "Есть существенное количество пропусков. Вероятно, нет данных для квартир-студий. Далее уточнить, если версия подтвердиться, пропуски заменить нулями.\n",
    "\n",
    "•\tbalcony                \n",
    "— число балконов.\n",
    "Долей числа балконов не бывает. Тип данных перевести в целочисленный тип. Пропуски в данных вероятнее всего указывают на отсутствие балконов. Пропуски заменить на ноль.\n",
    "\n",
    "•\tlocality_name           \n",
    "— название населённого пункта.\n",
    "Число пропусков незначительно, чем объясняются на данном этапе не ясно. Нужно вывести все наименования, для избежания повторов и псевдоуникальных значений, привести к единообразному написанию.\n",
    "\n",
    "•\tairports_nearest       \n",
    "— расстояние до ближайшего аэропорта в метрах (м).\n",
    "Такая точность не нужна. Данные нужно округлить до километров. Тип данных перевести в целочисленный тип. Пропуски в данных могут объясняться тем, что податель объявления не посчитал нужным указывать этот параметр. Пропуски заменить средним значением, взятым для такого же населённого пункта (в случае СПб будет большая погрешность, поэтому для СПб брать среднее значение, соответствующее удалённости от центра, что тоже не гарантирует точности, т.к. от центра можно удаляться в разные стороны). \n",
    "\n",
    "•\tcityCenters_nearest     \n",
    "— расстояние до центра города (м).\n",
    "Такая точность не нужна. Данные нужно округлить до сотен метров. С пропусками поступить аналогично пропускам в столбце airports_nearest. Указывать данные в километрах. Неканоничное наименование столбца, нужно переименовать.\n",
    "\n",
    "•\tparks_around3000        \n",
    " — число парков в радиусе 3 км.\n",
    "Долей числа парков не бывает. Тип данных перевести в целочисленный тип. Пропуски в данных вероятнее всего указывают на отсутствие парков. Пропуски заменить на ноль.\n",
    "\n",
    "•\tparks_nearest           \n",
    " — расстояние до ближайшего парка (м).\n",
    "Такая точность не нужна. Данные нужно округлить до сотен метров. Указывать данные в километрах. Пропусков в данных значительно больше, чем в столбце parks_around3000. Вероятнее всего податель объявления мог не посчитать нужным указать эти данные или не знал этих данных. После обработки столбца parks_around3000, вероятнее всего, пропуски нужно заменить на средние значения по населённому пункту или району СПб, аналогично данным столбца airports_nearest. \n",
    "\n",
    "•\tponds_around3000        \n",
    "— число водоёмов в радиусе 3 км.\n",
    "Долей числа водоёмов не бывает. Тип данных перевести в целочисленный тип. Пропуски в данных вероятнее всего указывают на отсутствие водоёмов. Пропуски заменить на ноль.\n",
    "\n",
    "•\tponds_nearest           \n",
    "— расстояние до ближайшего водоёма (м).\n",
    "Такая точность не нужна. Данные нужно округлить до сотен метров. Указывать данные в километрах. Пропусков в данных значительно больше, чем в столбце ponds_around3000. Вероятнее всего податель объявления мог не посчитать нужным указать эти данные или не знал этих данных. После обработки столбца ponds_around3000, вероятнее всего, пропуски нужно заменить на средние значения по населённому пункту или району СПб, аналогично данным столбца airports_nearest. \n",
    "\n",
    "•\tdays_exposition        \n",
    "— сколько дней было размещено объявление (от публикации до снятия).\n",
    "Тип данных перевести в целочисленный тип. Пропущенные значения на этом этапе оставить без изменений.\n",
    "\n",
    "\n"
   ]
  },
  {
   "cell_type": "markdown",
   "metadata": {},
   "source": [
    "## Предобработка данных"
   ]
  },
  {
   "cell_type": "code",
   "execution_count": 3,
   "metadata": {},
   "outputs": [
    {
     "data": {
      "text/plain": [
       "0    13.0\n",
       "1     3.4\n",
       "2     5.2\n",
       "3    64.9\n",
       "4    10.0\n",
       "Name: last_price, dtype: float64"
      ]
     },
     "execution_count": 3,
     "metadata": {},
     "output_type": "execute_result"
    }
   ],
   "source": [
    "# перевод в миллионы рублей, округление данных \n",
    "data['last_price'] = data['last_price'] / 1000000\n",
    "data['last_price'] = round(data['last_price'], 1)\n",
    "data['last_price'].head()"
   ]
  },
  {
   "cell_type": "code",
   "execution_count": 4,
   "metadata": {},
   "outputs": [
    {
     "data": {
      "text/plain": [
       "0   2019-03-07\n",
       "1   2018-12-04\n",
       "2   2015-08-20\n",
       "3   2015-07-24\n",
       "4   2018-06-19\n",
       "Name: first_day_exposition, dtype: datetime64[ns]"
      ]
     },
     "execution_count": 4,
     "metadata": {},
     "output_type": "execute_result"
    }
   ],
   "source": [
    "# перевод формата даты в удобочитаемый\n",
    "data['first_day_exposition'] = pd.to_datetime(data['first_day_exposition'], format='%Y-%m-%dT%H:%M:%S')\n",
    "data['first_day_exposition'].head()"
   ]
  },
  {
   "cell_type": "code",
   "execution_count": 5,
   "metadata": {},
   "outputs": [
    {
     "data": {
      "text/plain": [
       "0    3\n",
       "1    1\n",
       "2    3\n",
       "3    4\n",
       "4    1\n",
       "Name: weekday_exposition, dtype: int64"
      ]
     },
     "execution_count": 5,
     "metadata": {},
     "output_type": "execute_result"
    }
   ],
   "source": [
    "# добавление стобца с днём недели подачи объявления\n",
    "data['weekday_exposition'] = data['first_day_exposition'].dt.weekday\n",
    "data['weekday_exposition'].head()"
   ]
  },
  {
   "cell_type": "code",
   "execution_count": 6,
   "metadata": {},
   "outputs": [
    {
     "data": {
      "text/html": [
       "<div>\n",
       "<style scoped>\n",
       "    .dataframe tbody tr th:only-of-type {\n",
       "        vertical-align: middle;\n",
       "    }\n",
       "\n",
       "    .dataframe tbody tr th {\n",
       "        vertical-align: top;\n",
       "    }\n",
       "\n",
       "    .dataframe thead th {\n",
       "        text-align: right;\n",
       "    }\n",
       "</style>\n",
       "<table border=\"1\" class=\"dataframe\">\n",
       "  <thead>\n",
       "    <tr style=\"text-align: right;\">\n",
       "      <th></th>\n",
       "      <th>total_images</th>\n",
       "      <th>last_price</th>\n",
       "      <th>total_area</th>\n",
       "      <th>first_day_exposition</th>\n",
       "      <th>rooms</th>\n",
       "      <th>ceiling_height</th>\n",
       "      <th>floors_total</th>\n",
       "      <th>living_area</th>\n",
       "      <th>floor</th>\n",
       "      <th>is_apartment</th>\n",
       "      <th>...</th>\n",
       "      <th>balcony</th>\n",
       "      <th>locality_name</th>\n",
       "      <th>airports_nearest</th>\n",
       "      <th>cityCenters_nearest</th>\n",
       "      <th>parks_around3000</th>\n",
       "      <th>parks_nearest</th>\n",
       "      <th>ponds_around3000</th>\n",
       "      <th>ponds_nearest</th>\n",
       "      <th>days_exposition</th>\n",
       "      <th>weekday_exposition</th>\n",
       "    </tr>\n",
       "  </thead>\n",
       "  <tbody>\n",
       "    <tr>\n",
       "      <td>186</td>\n",
       "      <td>12</td>\n",
       "      <td>11.6</td>\n",
       "      <td>65.20</td>\n",
       "      <td>2018-10-02</td>\n",
       "      <td>2</td>\n",
       "      <td>NaN</td>\n",
       "      <td>NaN</td>\n",
       "      <td>30.80</td>\n",
       "      <td>4</td>\n",
       "      <td>NaN</td>\n",
       "      <td>...</td>\n",
       "      <td>NaN</td>\n",
       "      <td>Санкт-Петербург</td>\n",
       "      <td>39197.0</td>\n",
       "      <td>12373.0</td>\n",
       "      <td>1.0</td>\n",
       "      <td>123.0</td>\n",
       "      <td>0.0</td>\n",
       "      <td>NaN</td>\n",
       "      <td>49.0</td>\n",
       "      <td>1</td>\n",
       "    </tr>\n",
       "    <tr>\n",
       "      <td>237</td>\n",
       "      <td>4</td>\n",
       "      <td>2.4</td>\n",
       "      <td>28.10</td>\n",
       "      <td>2016-11-23</td>\n",
       "      <td>1</td>\n",
       "      <td>NaN</td>\n",
       "      <td>NaN</td>\n",
       "      <td>20.75</td>\n",
       "      <td>1</td>\n",
       "      <td>NaN</td>\n",
       "      <td>...</td>\n",
       "      <td>0.0</td>\n",
       "      <td>Санкт-Петербург</td>\n",
       "      <td>22041.0</td>\n",
       "      <td>17369.0</td>\n",
       "      <td>0.0</td>\n",
       "      <td>NaN</td>\n",
       "      <td>1.0</td>\n",
       "      <td>374.0</td>\n",
       "      <td>251.0</td>\n",
       "      <td>2</td>\n",
       "    </tr>\n",
       "    <tr>\n",
       "      <td>457</td>\n",
       "      <td>4</td>\n",
       "      <td>9.8</td>\n",
       "      <td>70.80</td>\n",
       "      <td>2015-08-01</td>\n",
       "      <td>2</td>\n",
       "      <td>NaN</td>\n",
       "      <td>NaN</td>\n",
       "      <td>38.40</td>\n",
       "      <td>12</td>\n",
       "      <td>NaN</td>\n",
       "      <td>...</td>\n",
       "      <td>0.0</td>\n",
       "      <td>Санкт-Петербург</td>\n",
       "      <td>37364.0</td>\n",
       "      <td>8322.0</td>\n",
       "      <td>2.0</td>\n",
       "      <td>309.0</td>\n",
       "      <td>2.0</td>\n",
       "      <td>706.0</td>\n",
       "      <td>727.0</td>\n",
       "      <td>5</td>\n",
       "    </tr>\n",
       "    <tr>\n",
       "      <td>671</td>\n",
       "      <td>4</td>\n",
       "      <td>6.1</td>\n",
       "      <td>93.60</td>\n",
       "      <td>2017-04-06</td>\n",
       "      <td>3</td>\n",
       "      <td>NaN</td>\n",
       "      <td>NaN</td>\n",
       "      <td>47.10</td>\n",
       "      <td>8</td>\n",
       "      <td>NaN</td>\n",
       "      <td>...</td>\n",
       "      <td>0.0</td>\n",
       "      <td>Санкт-Петербург</td>\n",
       "      <td>22041.0</td>\n",
       "      <td>17369.0</td>\n",
       "      <td>0.0</td>\n",
       "      <td>NaN</td>\n",
       "      <td>1.0</td>\n",
       "      <td>374.0</td>\n",
       "      <td>123.0</td>\n",
       "      <td>3</td>\n",
       "    </tr>\n",
       "    <tr>\n",
       "      <td>1757</td>\n",
       "      <td>5</td>\n",
       "      <td>3.6</td>\n",
       "      <td>39.00</td>\n",
       "      <td>2017-04-22</td>\n",
       "      <td>1</td>\n",
       "      <td>NaN</td>\n",
       "      <td>NaN</td>\n",
       "      <td>NaN</td>\n",
       "      <td>9</td>\n",
       "      <td>NaN</td>\n",
       "      <td>...</td>\n",
       "      <td>0.0</td>\n",
       "      <td>Санкт-Петербург</td>\n",
       "      <td>22735.0</td>\n",
       "      <td>11618.0</td>\n",
       "      <td>1.0</td>\n",
       "      <td>835.0</td>\n",
       "      <td>1.0</td>\n",
       "      <td>652.0</td>\n",
       "      <td>77.0</td>\n",
       "      <td>5</td>\n",
       "    </tr>\n",
       "    <tr>\n",
       "      <td>1930</td>\n",
       "      <td>1</td>\n",
       "      <td>9.8</td>\n",
       "      <td>66.77</td>\n",
       "      <td>2016-05-13</td>\n",
       "      <td>2</td>\n",
       "      <td>NaN</td>\n",
       "      <td>NaN</td>\n",
       "      <td>NaN</td>\n",
       "      <td>4</td>\n",
       "      <td>NaN</td>\n",
       "      <td>...</td>\n",
       "      <td>0.0</td>\n",
       "      <td>Санкт-Петербург</td>\n",
       "      <td>39886.0</td>\n",
       "      <td>10660.0</td>\n",
       "      <td>1.0</td>\n",
       "      <td>2276.0</td>\n",
       "      <td>3.0</td>\n",
       "      <td>244.0</td>\n",
       "      <td>90.0</td>\n",
       "      <td>4</td>\n",
       "    </tr>\n",
       "    <tr>\n",
       "      <td>2392</td>\n",
       "      <td>7</td>\n",
       "      <td>5.4</td>\n",
       "      <td>53.00</td>\n",
       "      <td>2017-06-29</td>\n",
       "      <td>2</td>\n",
       "      <td>NaN</td>\n",
       "      <td>NaN</td>\n",
       "      <td>29.00</td>\n",
       "      <td>22</td>\n",
       "      <td>NaN</td>\n",
       "      <td>...</td>\n",
       "      <td>0.0</td>\n",
       "      <td>Санкт-Петербург</td>\n",
       "      <td>43074.0</td>\n",
       "      <td>10820.0</td>\n",
       "      <td>0.0</td>\n",
       "      <td>NaN</td>\n",
       "      <td>0.0</td>\n",
       "      <td>NaN</td>\n",
       "      <td>48.0</td>\n",
       "      <td>3</td>\n",
       "    </tr>\n",
       "    <tr>\n",
       "      <td>2846</td>\n",
       "      <td>4</td>\n",
       "      <td>2.3</td>\n",
       "      <td>27.80</td>\n",
       "      <td>2016-09-21</td>\n",
       "      <td>1</td>\n",
       "      <td>NaN</td>\n",
       "      <td>NaN</td>\n",
       "      <td>19.40</td>\n",
       "      <td>15</td>\n",
       "      <td>NaN</td>\n",
       "      <td>...</td>\n",
       "      <td>0.0</td>\n",
       "      <td>Санкт-Петербург</td>\n",
       "      <td>22041.0</td>\n",
       "      <td>17369.0</td>\n",
       "      <td>0.0</td>\n",
       "      <td>NaN</td>\n",
       "      <td>1.0</td>\n",
       "      <td>374.0</td>\n",
       "      <td>307.0</td>\n",
       "      <td>2</td>\n",
       "    </tr>\n",
       "    <tr>\n",
       "      <td>2952</td>\n",
       "      <td>10</td>\n",
       "      <td>6.5</td>\n",
       "      <td>54.30</td>\n",
       "      <td>2019-04-23</td>\n",
       "      <td>1</td>\n",
       "      <td>NaN</td>\n",
       "      <td>NaN</td>\n",
       "      <td>22.20</td>\n",
       "      <td>6</td>\n",
       "      <td>NaN</td>\n",
       "      <td>...</td>\n",
       "      <td>NaN</td>\n",
       "      <td>Санкт-Петербург</td>\n",
       "      <td>23606.0</td>\n",
       "      <td>3148.0</td>\n",
       "      <td>0.0</td>\n",
       "      <td>NaN</td>\n",
       "      <td>0.0</td>\n",
       "      <td>NaN</td>\n",
       "      <td>NaN</td>\n",
       "      <td>1</td>\n",
       "    </tr>\n",
       "    <tr>\n",
       "      <td>3031</td>\n",
       "      <td>9</td>\n",
       "      <td>6.4</td>\n",
       "      <td>56.70</td>\n",
       "      <td>2018-03-27</td>\n",
       "      <td>2</td>\n",
       "      <td>NaN</td>\n",
       "      <td>NaN</td>\n",
       "      <td>32.00</td>\n",
       "      <td>12</td>\n",
       "      <td>NaN</td>\n",
       "      <td>...</td>\n",
       "      <td>NaN</td>\n",
       "      <td>Кудрово</td>\n",
       "      <td>NaN</td>\n",
       "      <td>NaN</td>\n",
       "      <td>NaN</td>\n",
       "      <td>NaN</td>\n",
       "      <td>NaN</td>\n",
       "      <td>NaN</td>\n",
       "      <td>231.0</td>\n",
       "      <td>1</td>\n",
       "    </tr>\n",
       "  </tbody>\n",
       "</table>\n",
       "<p>10 rows × 23 columns</p>\n",
       "</div>"
      ],
      "text/plain": [
       "      total_images  last_price  total_area first_day_exposition  rooms  \\\n",
       "186             12        11.6       65.20           2018-10-02      2   \n",
       "237              4         2.4       28.10           2016-11-23      1   \n",
       "457              4         9.8       70.80           2015-08-01      2   \n",
       "671              4         6.1       93.60           2017-04-06      3   \n",
       "1757             5         3.6       39.00           2017-04-22      1   \n",
       "1930             1         9.8       66.77           2016-05-13      2   \n",
       "2392             7         5.4       53.00           2017-06-29      2   \n",
       "2846             4         2.3       27.80           2016-09-21      1   \n",
       "2952            10         6.5       54.30           2019-04-23      1   \n",
       "3031             9         6.4       56.70           2018-03-27      2   \n",
       "\n",
       "      ceiling_height  floors_total  living_area  floor is_apartment  ...  \\\n",
       "186              NaN           NaN        30.80      4          NaN  ...   \n",
       "237              NaN           NaN        20.75      1          NaN  ...   \n",
       "457              NaN           NaN        38.40     12          NaN  ...   \n",
       "671              NaN           NaN        47.10      8          NaN  ...   \n",
       "1757             NaN           NaN          NaN      9          NaN  ...   \n",
       "1930             NaN           NaN          NaN      4          NaN  ...   \n",
       "2392             NaN           NaN        29.00     22          NaN  ...   \n",
       "2846             NaN           NaN        19.40     15          NaN  ...   \n",
       "2952             NaN           NaN        22.20      6          NaN  ...   \n",
       "3031             NaN           NaN        32.00     12          NaN  ...   \n",
       "\n",
       "      balcony    locality_name  airports_nearest  cityCenters_nearest  \\\n",
       "186       NaN  Санкт-Петербург           39197.0              12373.0   \n",
       "237       0.0  Санкт-Петербург           22041.0              17369.0   \n",
       "457       0.0  Санкт-Петербург           37364.0               8322.0   \n",
       "671       0.0  Санкт-Петербург           22041.0              17369.0   \n",
       "1757      0.0  Санкт-Петербург           22735.0              11618.0   \n",
       "1930      0.0  Санкт-Петербург           39886.0              10660.0   \n",
       "2392      0.0  Санкт-Петербург           43074.0              10820.0   \n",
       "2846      0.0  Санкт-Петербург           22041.0              17369.0   \n",
       "2952      NaN  Санкт-Петербург           23606.0               3148.0   \n",
       "3031      NaN          Кудрово               NaN                  NaN   \n",
       "\n",
       "     parks_around3000  parks_nearest  ponds_around3000  ponds_nearest  \\\n",
       "186               1.0          123.0               0.0            NaN   \n",
       "237               0.0            NaN               1.0          374.0   \n",
       "457               2.0          309.0               2.0          706.0   \n",
       "671               0.0            NaN               1.0          374.0   \n",
       "1757              1.0          835.0               1.0          652.0   \n",
       "1930              1.0         2276.0               3.0          244.0   \n",
       "2392              0.0            NaN               0.0            NaN   \n",
       "2846              0.0            NaN               1.0          374.0   \n",
       "2952              0.0            NaN               0.0            NaN   \n",
       "3031              NaN            NaN               NaN            NaN   \n",
       "\n",
       "      days_exposition  weekday_exposition  \n",
       "186              49.0                   1  \n",
       "237             251.0                   2  \n",
       "457             727.0                   5  \n",
       "671             123.0                   3  \n",
       "1757             77.0                   5  \n",
       "1930             90.0                   4  \n",
       "2392             48.0                   3  \n",
       "2846            307.0                   2  \n",
       "2952              NaN                   1  \n",
       "3031            231.0                   1  \n",
       "\n",
       "[10 rows x 23 columns]"
      ]
     },
     "metadata": {},
     "output_type": "display_data"
    }
   ],
   "source": [
    "# просмотр строчек таблицы, в которых не указана этажность здания\n",
    "display(data[data['floors_total'].isna()].head(10)) "
   ]
  },
  {
   "cell_type": "markdown",
   "metadata": {},
   "source": [
    "Версия о том, что этажность здания (всего этажей) не указана там, где квартира на первом и единственном этаже не подтвердилась. Из приведённой части таблицы видно, что такие квартиры могут находится на любых этажах. По какой-то причине эти пропуски совпадают со строчками без данных о  высоте потолков.\n",
    "Отсюда следует, что заполнить пропуски в столбце ceiling_height (высота потолков) рассчитанной средней величиной, в соответствии с этажностью здания не получится.\n",
    "Зная о реалиях строительства и отстутвии такого понятия, как \"соблюдение этажности возводимых зданий\", т.е. зная, что 20-ти этажный дом может строится рядом с двухэтажным, восстанавливать пропуски в столбце floors_total сколько-нибудь верифицируемым способом не получается. Если дальнейшая работа заставит заполнить пропуски, то можно заменять любым доступным способом - средней величиной, медианной или просто фиксированной величиной - это всё одинаково неверно.\n",
    "\n",
    "На данном этапе пропуски в столбцах floors_total (всего этажей) оставляю.\n",
    "\n",
    "Изучим данные столбца о высоте потолка. "
   ]
  },
  {
   "cell_type": "code",
   "execution_count": 7,
   "metadata": {},
   "outputs": [
    {
     "name": "stdout",
     "output_type": "stream",
     "text": [
      "Минимальная высота потолка 1.0\n",
      "Максимальная высота потолка  100.0\n",
      "Средняя высота потолка 2.77149889685604\n",
      "Медианная высота потолка 2.65\n"
     ]
    }
   ],
   "source": [
    "# данные о значениях высоты потолков\n",
    "print('Минимальная высота потолка', data['ceiling_height'].min())\n",
    "print('Максимальная высота потолка ', data['ceiling_height'].max())\n",
    "print('Средняя высота потолка', data['ceiling_height'].mean())\n",
    "print('Медианная высота потолка', data['ceiling_height'].median())"
   ]
  },
  {
   "cell_type": "markdown",
   "metadata": {},
   "source": [
    "Минимальная и максимальная высоты потолка имеют неадекватные значения. Но, видимо, таких значений немного, т.к. среднее и медианное адекватны и различие между этими значениями незначительно.\n",
    "\n",
    "Опираясь на жизненный опыт, можно сказать, что высота потолков примерно одинакова, поэтому все пропущенные значения заменяю на медианное значение."
   ]
  },
  {
   "cell_type": "code",
   "execution_count": 8,
   "metadata": {},
   "outputs": [
    {
     "data": {
      "text/plain": [
       "0    2.70\n",
       "1    2.65\n",
       "2    2.65\n",
       "3    2.65\n",
       "4    3.03\n",
       "Name: ceiling_height, dtype: float64"
      ]
     },
     "execution_count": 8,
     "metadata": {},
     "output_type": "execute_result"
    }
   ],
   "source": [
    "# замена пропущенных значений столбца ceiling_height\n",
    "data['ceiling_height']= data['ceiling_height'].fillna(data['ceiling_height'].median())\n",
    "data['ceiling_height'].head()"
   ]
  },
  {
   "cell_type": "code",
   "execution_count": 9,
   "metadata": {},
   "outputs": [
    {
     "data": {
      "text/html": [
       "<div>\n",
       "<style scoped>\n",
       "    .dataframe tbody tr th:only-of-type {\n",
       "        vertical-align: middle;\n",
       "    }\n",
       "\n",
       "    .dataframe tbody tr th {\n",
       "        vertical-align: top;\n",
       "    }\n",
       "\n",
       "    .dataframe thead th {\n",
       "        text-align: right;\n",
       "    }\n",
       "</style>\n",
       "<table border=\"1\" class=\"dataframe\">\n",
       "  <thead>\n",
       "    <tr style=\"text-align: right;\">\n",
       "      <th></th>\n",
       "      <th>total_images</th>\n",
       "      <th>last_price</th>\n",
       "      <th>total_area</th>\n",
       "      <th>first_day_exposition</th>\n",
       "      <th>rooms</th>\n",
       "      <th>ceiling_height</th>\n",
       "      <th>floors_total</th>\n",
       "      <th>living_area</th>\n",
       "      <th>floor</th>\n",
       "      <th>is_apartment</th>\n",
       "      <th>...</th>\n",
       "      <th>balcony</th>\n",
       "      <th>locality_name</th>\n",
       "      <th>airports_nearest</th>\n",
       "      <th>cityCenters_nearest</th>\n",
       "      <th>parks_around3000</th>\n",
       "      <th>parks_nearest</th>\n",
       "      <th>ponds_around3000</th>\n",
       "      <th>ponds_nearest</th>\n",
       "      <th>days_exposition</th>\n",
       "      <th>weekday_exposition</th>\n",
       "    </tr>\n",
       "  </thead>\n",
       "  <tbody>\n",
       "    <tr>\n",
       "      <td>3</td>\n",
       "      <td>0</td>\n",
       "      <td>64.9</td>\n",
       "      <td>159.0</td>\n",
       "      <td>2015-07-24</td>\n",
       "      <td>3</td>\n",
       "      <td>2.65</td>\n",
       "      <td>14.0</td>\n",
       "      <td>NaN</td>\n",
       "      <td>9</td>\n",
       "      <td>NaN</td>\n",
       "      <td>...</td>\n",
       "      <td>0.0</td>\n",
       "      <td>Санкт-Петербург</td>\n",
       "      <td>28098.0</td>\n",
       "      <td>6800.0</td>\n",
       "      <td>2.0</td>\n",
       "      <td>84.0</td>\n",
       "      <td>3.0</td>\n",
       "      <td>234.0</td>\n",
       "      <td>424.0</td>\n",
       "      <td>4</td>\n",
       "    </tr>\n",
       "    <tr>\n",
       "      <td>7</td>\n",
       "      <td>5</td>\n",
       "      <td>7.9</td>\n",
       "      <td>71.6</td>\n",
       "      <td>2019-04-18</td>\n",
       "      <td>2</td>\n",
       "      <td>2.65</td>\n",
       "      <td>24.0</td>\n",
       "      <td>NaN</td>\n",
       "      <td>22</td>\n",
       "      <td>NaN</td>\n",
       "      <td>...</td>\n",
       "      <td>2.0</td>\n",
       "      <td>Санкт-Петербург</td>\n",
       "      <td>23982.0</td>\n",
       "      <td>11634.0</td>\n",
       "      <td>0.0</td>\n",
       "      <td>NaN</td>\n",
       "      <td>0.0</td>\n",
       "      <td>NaN</td>\n",
       "      <td>NaN</td>\n",
       "      <td>3</td>\n",
       "    </tr>\n",
       "    <tr>\n",
       "      <td>30</td>\n",
       "      <td>12</td>\n",
       "      <td>2.2</td>\n",
       "      <td>32.8</td>\n",
       "      <td>2018-02-19</td>\n",
       "      <td>1</td>\n",
       "      <td>2.65</td>\n",
       "      <td>9.0</td>\n",
       "      <td>NaN</td>\n",
       "      <td>2</td>\n",
       "      <td>NaN</td>\n",
       "      <td>...</td>\n",
       "      <td>NaN</td>\n",
       "      <td>Коммунар</td>\n",
       "      <td>NaN</td>\n",
       "      <td>NaN</td>\n",
       "      <td>NaN</td>\n",
       "      <td>NaN</td>\n",
       "      <td>NaN</td>\n",
       "      <td>NaN</td>\n",
       "      <td>63.0</td>\n",
       "      <td>0</td>\n",
       "    </tr>\n",
       "    <tr>\n",
       "      <td>37</td>\n",
       "      <td>10</td>\n",
       "      <td>2.0</td>\n",
       "      <td>45.8</td>\n",
       "      <td>2017-10-28</td>\n",
       "      <td>2</td>\n",
       "      <td>2.50</td>\n",
       "      <td>5.0</td>\n",
       "      <td>NaN</td>\n",
       "      <td>1</td>\n",
       "      <td>NaN</td>\n",
       "      <td>...</td>\n",
       "      <td>NaN</td>\n",
       "      <td>поселок городского типа Красный Бор</td>\n",
       "      <td>NaN</td>\n",
       "      <td>NaN</td>\n",
       "      <td>NaN</td>\n",
       "      <td>NaN</td>\n",
       "      <td>NaN</td>\n",
       "      <td>NaN</td>\n",
       "      <td>196.0</td>\n",
       "      <td>5</td>\n",
       "    </tr>\n",
       "    <tr>\n",
       "      <td>44</td>\n",
       "      <td>13</td>\n",
       "      <td>5.4</td>\n",
       "      <td>40.0</td>\n",
       "      <td>2018-11-18</td>\n",
       "      <td>1</td>\n",
       "      <td>2.65</td>\n",
       "      <td>22.0</td>\n",
       "      <td>NaN</td>\n",
       "      <td>3</td>\n",
       "      <td>NaN</td>\n",
       "      <td>...</td>\n",
       "      <td>1.0</td>\n",
       "      <td>Санкт-Петербург</td>\n",
       "      <td>30471.0</td>\n",
       "      <td>11603.0</td>\n",
       "      <td>1.0</td>\n",
       "      <td>620.0</td>\n",
       "      <td>1.0</td>\n",
       "      <td>1152.0</td>\n",
       "      <td>NaN</td>\n",
       "      <td>6</td>\n",
       "    </tr>\n",
       "  </tbody>\n",
       "</table>\n",
       "<p>5 rows × 23 columns</p>\n",
       "</div>"
      ],
      "text/plain": [
       "    total_images  last_price  total_area first_day_exposition  rooms  \\\n",
       "3              0        64.9       159.0           2015-07-24      3   \n",
       "7              5         7.9        71.6           2019-04-18      2   \n",
       "30            12         2.2        32.8           2018-02-19      1   \n",
       "37            10         2.0        45.8           2017-10-28      2   \n",
       "44            13         5.4        40.0           2018-11-18      1   \n",
       "\n",
       "    ceiling_height  floors_total  living_area  floor is_apartment  ...  \\\n",
       "3             2.65          14.0          NaN      9          NaN  ...   \n",
       "7             2.65          24.0          NaN     22          NaN  ...   \n",
       "30            2.65           9.0          NaN      2          NaN  ...   \n",
       "37            2.50           5.0          NaN      1          NaN  ...   \n",
       "44            2.65          22.0          NaN      3          NaN  ...   \n",
       "\n",
       "    balcony                        locality_name  airports_nearest  \\\n",
       "3       0.0                      Санкт-Петербург           28098.0   \n",
       "7       2.0                      Санкт-Петербург           23982.0   \n",
       "30      NaN                             Коммунар               NaN   \n",
       "37      NaN  поселок городского типа Красный Бор               NaN   \n",
       "44      1.0                      Санкт-Петербург           30471.0   \n",
       "\n",
       "    cityCenters_nearest parks_around3000  parks_nearest  ponds_around3000  \\\n",
       "3                6800.0              2.0           84.0               3.0   \n",
       "7               11634.0              0.0            NaN               0.0   \n",
       "30                  NaN              NaN            NaN               NaN   \n",
       "37                  NaN              NaN            NaN               NaN   \n",
       "44              11603.0              1.0          620.0               1.0   \n",
       "\n",
       "    ponds_nearest  days_exposition  weekday_exposition  \n",
       "3           234.0            424.0                   4  \n",
       "7             NaN              NaN                   3  \n",
       "30            NaN             63.0                   0  \n",
       "37            NaN            196.0                   5  \n",
       "44         1152.0              NaN                   6  \n",
       "\n",
       "[5 rows x 23 columns]"
      ]
     },
     "metadata": {},
     "output_type": "display_data"
    }
   ],
   "source": [
    "# просмотр строчек таблицы, в которых не указана жилая площадь квартиры\n",
    "display(data[data['living_area'].isna()].head())"
   ]
  },
  {
   "cell_type": "markdown",
   "metadata": {},
   "source": [
    "На этом этапе не видно никакой видимой и явной причины пропуска значений жилой площади. Следующим шагом заменяю пропущенные значения жилой площади квартиры медианным в соответствии  с общей площадью квартиры."
   ]
  },
  {
   "cell_type": "code",
   "execution_count": 10,
   "metadata": {},
   "outputs": [
    {
     "data": {
      "text/html": [
       "<div>\n",
       "<style scoped>\n",
       "    .dataframe tbody tr th:only-of-type {\n",
       "        vertical-align: middle;\n",
       "    }\n",
       "\n",
       "    .dataframe tbody tr th {\n",
       "        vertical-align: top;\n",
       "    }\n",
       "\n",
       "    .dataframe thead th {\n",
       "        text-align: right;\n",
       "    }\n",
       "</style>\n",
       "<table border=\"1\" class=\"dataframe\">\n",
       "  <thead>\n",
       "    <tr style=\"text-align: right;\">\n",
       "      <th></th>\n",
       "      <th>total_images</th>\n",
       "      <th>last_price</th>\n",
       "      <th>total_area</th>\n",
       "      <th>first_day_exposition</th>\n",
       "      <th>rooms</th>\n",
       "      <th>ceiling_height</th>\n",
       "      <th>floors_total</th>\n",
       "      <th>living_area</th>\n",
       "      <th>floor</th>\n",
       "      <th>is_apartment</th>\n",
       "      <th>...</th>\n",
       "      <th>balcony</th>\n",
       "      <th>locality_name</th>\n",
       "      <th>airports_nearest</th>\n",
       "      <th>cityCenters_nearest</th>\n",
       "      <th>parks_around3000</th>\n",
       "      <th>parks_nearest</th>\n",
       "      <th>ponds_around3000</th>\n",
       "      <th>ponds_nearest</th>\n",
       "      <th>days_exposition</th>\n",
       "      <th>weekday_exposition</th>\n",
       "    </tr>\n",
       "  </thead>\n",
       "  <tbody>\n",
       "    <tr>\n",
       "      <td>0</td>\n",
       "      <td>20</td>\n",
       "      <td>13.0</td>\n",
       "      <td>108.0</td>\n",
       "      <td>2019-03-07</td>\n",
       "      <td>3</td>\n",
       "      <td>2.70</td>\n",
       "      <td>16.0</td>\n",
       "      <td>51.0</td>\n",
       "      <td>8</td>\n",
       "      <td>NaN</td>\n",
       "      <td>...</td>\n",
       "      <td>NaN</td>\n",
       "      <td>Санкт-Петербург</td>\n",
       "      <td>18863.0</td>\n",
       "      <td>16028.0</td>\n",
       "      <td>1.0</td>\n",
       "      <td>482.0</td>\n",
       "      <td>2.0</td>\n",
       "      <td>755.0</td>\n",
       "      <td>NaN</td>\n",
       "      <td>3</td>\n",
       "    </tr>\n",
       "    <tr>\n",
       "      <td>1</td>\n",
       "      <td>7</td>\n",
       "      <td>3.4</td>\n",
       "      <td>40.4</td>\n",
       "      <td>2018-12-04</td>\n",
       "      <td>1</td>\n",
       "      <td>2.65</td>\n",
       "      <td>11.0</td>\n",
       "      <td>18.6</td>\n",
       "      <td>1</td>\n",
       "      <td>NaN</td>\n",
       "      <td>...</td>\n",
       "      <td>2.0</td>\n",
       "      <td>посёлок Шушары</td>\n",
       "      <td>12817.0</td>\n",
       "      <td>18603.0</td>\n",
       "      <td>0.0</td>\n",
       "      <td>NaN</td>\n",
       "      <td>0.0</td>\n",
       "      <td>NaN</td>\n",
       "      <td>81.0</td>\n",
       "      <td>1</td>\n",
       "    </tr>\n",
       "    <tr>\n",
       "      <td>2</td>\n",
       "      <td>10</td>\n",
       "      <td>5.2</td>\n",
       "      <td>56.0</td>\n",
       "      <td>2015-08-20</td>\n",
       "      <td>2</td>\n",
       "      <td>2.65</td>\n",
       "      <td>5.0</td>\n",
       "      <td>34.3</td>\n",
       "      <td>4</td>\n",
       "      <td>NaN</td>\n",
       "      <td>...</td>\n",
       "      <td>0.0</td>\n",
       "      <td>Санкт-Петербург</td>\n",
       "      <td>21741.0</td>\n",
       "      <td>13933.0</td>\n",
       "      <td>1.0</td>\n",
       "      <td>90.0</td>\n",
       "      <td>2.0</td>\n",
       "      <td>574.0</td>\n",
       "      <td>558.0</td>\n",
       "      <td>3</td>\n",
       "    </tr>\n",
       "    <tr>\n",
       "      <td>3</td>\n",
       "      <td>0</td>\n",
       "      <td>64.9</td>\n",
       "      <td>159.0</td>\n",
       "      <td>2015-07-24</td>\n",
       "      <td>3</td>\n",
       "      <td>2.65</td>\n",
       "      <td>14.0</td>\n",
       "      <td>95.0</td>\n",
       "      <td>9</td>\n",
       "      <td>NaN</td>\n",
       "      <td>...</td>\n",
       "      <td>0.0</td>\n",
       "      <td>Санкт-Петербург</td>\n",
       "      <td>28098.0</td>\n",
       "      <td>6800.0</td>\n",
       "      <td>2.0</td>\n",
       "      <td>84.0</td>\n",
       "      <td>3.0</td>\n",
       "      <td>234.0</td>\n",
       "      <td>424.0</td>\n",
       "      <td>4</td>\n",
       "    </tr>\n",
       "    <tr>\n",
       "      <td>4</td>\n",
       "      <td>2</td>\n",
       "      <td>10.0</td>\n",
       "      <td>100.0</td>\n",
       "      <td>2018-06-19</td>\n",
       "      <td>2</td>\n",
       "      <td>3.03</td>\n",
       "      <td>14.0</td>\n",
       "      <td>32.0</td>\n",
       "      <td>13</td>\n",
       "      <td>NaN</td>\n",
       "      <td>...</td>\n",
       "      <td>NaN</td>\n",
       "      <td>Санкт-Петербург</td>\n",
       "      <td>31856.0</td>\n",
       "      <td>8098.0</td>\n",
       "      <td>2.0</td>\n",
       "      <td>112.0</td>\n",
       "      <td>1.0</td>\n",
       "      <td>48.0</td>\n",
       "      <td>121.0</td>\n",
       "      <td>1</td>\n",
       "    </tr>\n",
       "  </tbody>\n",
       "</table>\n",
       "<p>5 rows × 23 columns</p>\n",
       "</div>"
      ],
      "text/plain": [
       "   total_images  last_price  total_area first_day_exposition  rooms  \\\n",
       "0            20        13.0       108.0           2019-03-07      3   \n",
       "1             7         3.4        40.4           2018-12-04      1   \n",
       "2            10         5.2        56.0           2015-08-20      2   \n",
       "3             0        64.9       159.0           2015-07-24      3   \n",
       "4             2        10.0       100.0           2018-06-19      2   \n",
       "\n",
       "   ceiling_height  floors_total  living_area  floor is_apartment  ...  \\\n",
       "0            2.70          16.0         51.0      8          NaN  ...   \n",
       "1            2.65          11.0         18.6      1          NaN  ...   \n",
       "2            2.65           5.0         34.3      4          NaN  ...   \n",
       "3            2.65          14.0         95.0      9          NaN  ...   \n",
       "4            3.03          14.0         32.0     13          NaN  ...   \n",
       "\n",
       "   balcony    locality_name  airports_nearest  cityCenters_nearest  \\\n",
       "0      NaN  Санкт-Петербург           18863.0              16028.0   \n",
       "1      2.0   посёлок Шушары           12817.0              18603.0   \n",
       "2      0.0  Санкт-Петербург           21741.0              13933.0   \n",
       "3      0.0  Санкт-Петербург           28098.0               6800.0   \n",
       "4      NaN  Санкт-Петербург           31856.0               8098.0   \n",
       "\n",
       "  parks_around3000  parks_nearest  ponds_around3000  ponds_nearest  \\\n",
       "0              1.0          482.0               2.0          755.0   \n",
       "1              0.0            NaN               0.0            NaN   \n",
       "2              1.0           90.0               2.0          574.0   \n",
       "3              2.0           84.0               3.0          234.0   \n",
       "4              2.0          112.0               1.0           48.0   \n",
       "\n",
       "   days_exposition  weekday_exposition  \n",
       "0              NaN                   3  \n",
       "1             81.0                   1  \n",
       "2            558.0                   3  \n",
       "3            424.0                   4  \n",
       "4            121.0                   1  \n",
       "\n",
       "[5 rows x 23 columns]"
      ]
     },
     "metadata": {},
     "output_type": "display_data"
    }
   ],
   "source": [
    "# замена пропущенных значений living_area\n",
    "for area in data['total_area'].unique():\n",
    "    median = data.loc[data['total_area'] == area, 'living_area'].median()\n",
    "    data.loc[(data['living_area'].isna()) & (data['total_area'] == area), \\\n",
    "    'living_area'] = median\n",
    "\n",
    "# первая замена не обеспечивает заполнение всех пропусков. оставшиеся заменяю данными, \n",
    "# исходя из количества комнат в квартире    \n",
    "for area_1 in data['rooms'].unique():\n",
    "    median = data.loc[data['rooms'] == area_1, 'living_area'].median()\n",
    "    data.loc[(data['living_area'].isna()) & (data['rooms'] == area_1), \\\n",
    "    'living_area'] = median   \n",
    "    \n",
    "display(data.head())"
   ]
  },
  {
   "cell_type": "code",
   "execution_count": 11,
   "metadata": {},
   "outputs": [
    {
     "data": {
      "text/plain": [
       "0    False\n",
       "1    False\n",
       "2    False\n",
       "3    False\n",
       "4    False\n",
       "Name: is_apartment, dtype: bool"
      ]
     },
     "execution_count": 11,
     "metadata": {},
     "output_type": "execute_result"
    }
   ],
   "source": [
    "# замена пропущенных значенй столбца is_apartment на False\n",
    "data['is_apartment'] = data['is_apartment'].fillna(False)\n",
    "data['is_apartment'].head()"
   ]
  },
  {
   "cell_type": "code",
   "execution_count": 12,
   "metadata": {},
   "outputs": [
    {
     "data": {
      "text/plain": [
       "0    25.0\n",
       "1    11.0\n",
       "2     8.3\n",
       "3     9.5\n",
       "4    41.0\n",
       "Name: kitchen_area, dtype: float64"
      ]
     },
     "execution_count": 12,
     "metadata": {},
     "output_type": "execute_result"
    }
   ],
   "source": [
    "# исходя из предпосылки, что в квартирах-студиях и апартаментах нет кухонь в виде отдельных \n",
    "# помещений, заменяю пропуски столбца kitchen_area в таких квартирах нулями\n",
    "data.loc[(data['kitchen_area'] == 'NaN') \n",
    "       & (data['is_apartment'] == True), 'kitchen_area'] = 0\n",
    "\n",
    "data.loc[(data['kitchen_area'] == 'NaN') \n",
    "       & (data['studio'] == True), 'kitchen_area'] = 0\n",
    "\n",
    "# замена остальных пропущенных значений исходя из количества комнат в квартире \n",
    "for area_1 in data['rooms'].unique():\n",
    "    median = data.loc[data['rooms'] == area_1, 'kitchen_area'].median()\n",
    "    data.loc[(data['kitchen_area'].isna()) & (data['rooms'] == area_1), \\\n",
    "    'kitchen_area'] = median \n",
    "\n",
    "# предыдущие замены не обеспечивает заполнение всех пропусков. оставшиеся заменяю данными, \n",
    "# отталкиваяь от общей площади квартиры\n",
    "for area in data['total_area'].unique():\n",
    "    median = data.loc[data['total_area'] == area, 'kitchen_area'].median()\n",
    "    data.loc[(data['kitchen_area'].isna()) & (data['total_area'] == area), \\\n",
    "    'kitchen_area'] = median    \n",
    "    \n",
    "    \n",
    "data['kitchen_area'].head()    "
   ]
  },
  {
   "cell_type": "code",
   "execution_count": 13,
   "metadata": {},
   "outputs": [
    {
     "data": {
      "text/plain": [
       "0    0\n",
       "1    2\n",
       "2    0\n",
       "3    0\n",
       "4    0\n",
       "Name: balcony, dtype: int64"
      ]
     },
     "execution_count": 13,
     "metadata": {},
     "output_type": "execute_result"
    }
   ],
   "source": [
    "# замена пропущенных значений столбца balcony на ноль и замена типа данных\n",
    "data['balcony'] = data['balcony'].fillna(0).astype(int)  \n",
    "data['balcony'].head()"
   ]
  },
  {
   "cell_type": "code",
   "execution_count": 14,
   "metadata": {},
   "outputs": [
    {
     "data": {
      "text/plain": [
       "Санкт-Петербург            15721\n",
       "посёлок Мурино               522\n",
       "посёлок Шушары               440\n",
       "Всеволожск                   398\n",
       "Пушкин                       369\n",
       "Колпино                      338\n",
       "посёлок Парголово            327\n",
       "Гатчина                      307\n",
       "деревня Кудрово              299\n",
       "Выборг                       237\n",
       "Петергоф                     201\n",
       "Сестрорецк                   183\n",
       "Красное Село                 178\n",
       "Кудрово                      173\n",
       "деревня Новое Девяткино      144\n",
       "Сертолово                    142\n",
       "Ломоносов                    133\n",
       "Кириши                       125\n",
       "Сланцы                       112\n",
       "Волхов                       111\n",
       "Тосно                        104\n",
       "Кингисепп                    104\n",
       "Кронштадт                     96\n",
       "Никольское                    93\n",
       "Коммунар                      89\n",
       "Сосновый Бор                  87\n",
       "Кировск                       84\n",
       "Отрадное                      80\n",
       "посёлок Бугры                 69\n",
       "Приозерск                     66\n",
       "Name: locality_name, dtype: int64"
      ]
     },
     "execution_count": 14,
     "metadata": {},
     "output_type": "execute_result"
    }
   ],
   "source": [
    "# просмотр топонимов, указанных в таблице. \n",
    "data['locality_name'].value_counts().head(30)"
   ]
  },
  {
   "cell_type": "markdown",
   "metadata": {},
   "source": [
    "По всей видимости, названия населённых пунктов записаны корректно. Необходимости в переименовании нет. Замена \"посёлок\" на \"поселок\" или наоборот не имеет значения, т.к. нет одинаковых топонимов с различным написанием типа топонима, дубликаты таким образом не образуются."
   ]
  },
  {
   "cell_type": "code",
   "execution_count": 15,
   "metadata": {},
   "outputs": [
    {
     "data": {
      "text/plain": [
       "0    18\n",
       "1    12\n",
       "2    21\n",
       "3    28\n",
       "4    31\n",
       "5    28\n",
       "Name: airports_nearest, dtype: int64"
      ]
     },
     "execution_count": 15,
     "metadata": {},
     "output_type": "execute_result"
    }
   ],
   "source": [
    "# замена пропущенных значений столбца airports_nearest\n",
    "for locality in data['locality_name'].unique():\n",
    "    mean = data.loc[data['locality_name'] == locality, 'airports_nearest'].mean()\n",
    "    data.loc[(data['airports_nearest'].isna()) & (data['locality_name'] == locality), \\\n",
    "    'airports_nearest'] = mean\n",
    "\n",
    "# после первой замены остаётся ещё много пропусков, поэтому оставшиеся пропуски заполняю \n",
    "# одним средним значением    \n",
    "data.loc[data['airports_nearest'].isna(), 'airports_nearest'] = data['airports_nearest'].mean()\n",
    "\n",
    "# изменение единиц измерения расстояния на километры\n",
    "data['airports_nearest'] = (data['airports_nearest'] / 1000).astype(int) \n",
    "\n",
    "# ближайшее пропущенное значение в исходной таблице было в 6-ой строке. Для контроля выполнения \n",
    "# всех команд смотрим строку с индексом 5\n",
    "data['airports_nearest'].head(6)"
   ]
  },
  {
   "cell_type": "markdown",
   "metadata": {},
   "source": [
    "После обработки значения столбца расстояния до ближайшего аэропорта указаны в километрах, пропущенные значения заменены."
   ]
  },
  {
   "cell_type": "code",
   "execution_count": 16,
   "metadata": {},
   "outputs": [
    {
     "data": {
      "text/plain": [
       "0    16.0\n",
       "1    19.0\n",
       "2    14.0\n",
       "3     7.0\n",
       "4     8.0\n",
       "Name: city_centers_nearest, dtype: float64"
      ]
     },
     "execution_count": 16,
     "metadata": {},
     "output_type": "execute_result"
    }
   ],
   "source": [
    "# переименование столбца в соответствии с этикетом\n",
    "data = data.rename(columns={'cityCenters_nearest': 'city_centers_nearest'}) \n",
    "\n",
    "# замена пропущенных значений расстояний до центра города\n",
    "for locality in data['locality_name'].unique():\n",
    "    mean = data.loc[data['locality_name'] == locality, 'city_centers_nearest'].mean()\n",
    "    data.loc[(data['city_centers_nearest'].isna()) & (data['locality_name'] == locality), \\\n",
    "    'city_centers_nearest'] = mean\n",
    "    \n",
    "# после первой замены остаётся ещё много пропусков, поэтому оставшиеся пропуски заполняю \n",
    "# одним средним значением    \n",
    "data.loc[data['city_centers_nearest'].isna(), 'city_centers_nearest'] = data['city_centers_nearest'].mean()    \n",
    "    \n",
    "# изменение единиц измерения расстояния на километры \n",
    "data['city_centers_nearest'] = data['city_centers_nearest'] / 1000\n",
    "data['city_centers_nearest'] = round(data['city_centers_nearest'], 0)\n",
    "\n",
    "data['city_centers_nearest'].head()"
   ]
  },
  {
   "cell_type": "code",
   "execution_count": 17,
   "metadata": {},
   "outputs": [
    {
     "data": {
      "text/plain": [
       "0    1\n",
       "1    0\n",
       "2    1\n",
       "3    2\n",
       "4    2\n",
       "Name: parks_around3000, dtype: int64"
      ]
     },
     "execution_count": 17,
     "metadata": {},
     "output_type": "execute_result"
    }
   ],
   "source": [
    "# замена пропущенных значений столбца parks_around3000 на ноль и замена типа данных\n",
    "data['parks_around3000'] = data['parks_around3000'].fillna(0).astype(int)  \n",
    "data['parks_around3000'].head()"
   ]
  },
  {
   "cell_type": "code",
   "execution_count": 18,
   "metadata": {},
   "outputs": [
    {
     "data": {
      "text/plain": [
       "0    0.5\n",
       "1    0.5\n",
       "2    0.1\n",
       "3    0.1\n",
       "4    0.1\n",
       "Name: parks_nearest, dtype: float64"
      ]
     },
     "execution_count": 18,
     "metadata": {},
     "output_type": "execute_result"
    }
   ],
   "source": [
    "# замена пропущенных значений расстояний до парка\n",
    "for locality in data['locality_name'].unique():\n",
    "    mean = data.loc[data['locality_name'] == locality, 'parks_nearest'].mean()\n",
    "    data.loc[(data['parks_nearest'].isna()) & (data['locality_name'] == locality), \\\n",
    "    'parks_nearest'] = mean\n",
    "\n",
    "# после первой замены остаётся ещё много пропусков, поэтому оставшиеся пропуски заполняю \n",
    "# одним средним значением    \n",
    "data.loc[data['parks_nearest'].isna(), 'parks_nearest'] = data['parks_nearest'].mean()    \n",
    "\n",
    "# замена единиц измерения, расстояние делаю в километрах, расстояния округляю\n",
    "data['parks_nearest'] = data['parks_nearest'] / 1000\n",
    "data['parks_nearest'] = round(data['parks_nearest'], 1)\n",
    "\n",
    "data['parks_nearest'].head()"
   ]
  },
  {
   "cell_type": "code",
   "execution_count": 19,
   "metadata": {},
   "outputs": [
    {
     "data": {
      "text/plain": [
       "0    2\n",
       "1    0\n",
       "2    2\n",
       "3    3\n",
       "4    1\n",
       "Name: ponds_around3000, dtype: int64"
      ]
     },
     "execution_count": 19,
     "metadata": {},
     "output_type": "execute_result"
    }
   ],
   "source": [
    "# замена пропущенных значений столбца ponds_around3000 на ноль и замена типа данных\n",
    "data['ponds_around3000'] = data['ponds_around3000'].fillna(0).astype(int)  \n",
    "data['ponds_around3000'].head()"
   ]
  },
  {
   "cell_type": "code",
   "execution_count": 20,
   "metadata": {},
   "outputs": [
    {
     "data": {
      "text/plain": [
       "0    0.8\n",
       "1    0.6\n",
       "2    0.6\n",
       "3    0.2\n",
       "4    0.0\n",
       "Name: ponds_nearest, dtype: float64"
      ]
     },
     "execution_count": 20,
     "metadata": {},
     "output_type": "execute_result"
    }
   ],
   "source": [
    "# замена пропущенных значений расстояний до водоёма\n",
    "\n",
    "for locality in data['locality_name'].unique():\n",
    "    mean = data.loc[data['locality_name'] == locality, 'ponds_nearest'].mean()\n",
    "    data.loc[(data['ponds_nearest'].isna()) & (data['locality_name'] == locality), \\\n",
    "    'ponds_nearest'] =   mean\n",
    "\n",
    "# после первой замены остаётся ещё много пропусков, поэтому оставшиеся пропуски заполняю \n",
    "# одним средним значением    \n",
    "data.loc[data['ponds_nearest'].isna(), 'ponds_nearest'] = data['ponds_nearest'].mean()    \n",
    "\n",
    "# замена единиц измерения, расстояние делаю в километрах, расстояния округляю\n",
    "data['ponds_nearest'] = data['ponds_nearest'] / 1000\n",
    "data['ponds_nearest'] = round(data['ponds_nearest'], 1) \n",
    "   \n",
    "data['ponds_nearest'].head()"
   ]
  },
  {
   "cell_type": "markdown",
   "metadata": {},
   "source": [
    "В предыдущих ячейках сменил количественные данные на целочисленный тип. Также, изменил единицы измерений расстояний на километры с последующим округлением. В некоторых строчках получились расстояния 0.0 км, т.к. округение идёт по математическим правилам. Буду помнить, что 0.0 км - это расстояние менее 50 метров, что в моём случае означает дом на берегу водоёма и/или на границе парка - ничего противоречащего здравому смыслу. \n",
    "\n",
    "Пропущенные значения столбца city_centers_nearest - буду считать, что значния столбца city_centers_nearest аналогичны расстоянию до аэропорта, т.е. один центр на все населённые пункты, центр города - центр города Санкт-Петербург. \t"
   ]
  },
  {
   "cell_type": "code",
   "execution_count": 21,
   "metadata": {},
   "outputs": [
    {
     "data": {
      "text/plain": [
       "0     57.0\n",
       "1     81.0\n",
       "2    558.0\n",
       "3    424.0\n",
       "4    121.0\n",
       "Name: days_exposition, dtype: float64"
      ]
     },
     "execution_count": 21,
     "metadata": {},
     "output_type": "execute_result"
    }
   ],
   "source": [
    "# замена пропущенных значений столбца days_exposition\n",
    "for date in data['days_exposition']:\n",
    "    data.loc[data['days_exposition'].isna(), \n",
    "    'days_exposition'] = (data['first_day_exposition'].max() - data['first_day_exposition']).dt.days\n",
    "\n",
    "data['days_exposition'].head()"
   ]
  },
  {
   "cell_type": "markdown",
   "metadata": {},
   "source": [
    "Логика замены пропусков в днях размещения объявления (столбец days_exposition) следующая: если нет длительности жизни объявления, то оно не было закрыто на момент подготовки выгрузки данных. Т.о, пусть дата выгрузки данных совпадает с датой открытия самого нового объявления в таблице. Поэтому, считаем датой выгрузки самую позднюю дату, отнимаем от нее дату создания объявления и получаем длительность жизни объявлений для ситуаций, когда они пропущены."
   ]
  },
  {
   "cell_type": "markdown",
   "metadata": {},
   "source": [
    "ВЫВОД ТАБЛИЦЫ ПОСЛЕ ПЕРВИЧНОЙ ОБРАБОТКИ ДАННЫХ"
   ]
  },
  {
   "cell_type": "code",
   "execution_count": 22,
   "metadata": {},
   "outputs": [
    {
     "data": {
      "text/html": [
       "<div>\n",
       "<style scoped>\n",
       "    .dataframe tbody tr th:only-of-type {\n",
       "        vertical-align: middle;\n",
       "    }\n",
       "\n",
       "    .dataframe tbody tr th {\n",
       "        vertical-align: top;\n",
       "    }\n",
       "\n",
       "    .dataframe thead th {\n",
       "        text-align: right;\n",
       "    }\n",
       "</style>\n",
       "<table border=\"1\" class=\"dataframe\">\n",
       "  <thead>\n",
       "    <tr style=\"text-align: right;\">\n",
       "      <th></th>\n",
       "      <th>total_images</th>\n",
       "      <th>last_price</th>\n",
       "      <th>total_area</th>\n",
       "      <th>first_day_exposition</th>\n",
       "      <th>rooms</th>\n",
       "      <th>ceiling_height</th>\n",
       "      <th>floors_total</th>\n",
       "      <th>living_area</th>\n",
       "      <th>floor</th>\n",
       "      <th>is_apartment</th>\n",
       "      <th>...</th>\n",
       "      <th>balcony</th>\n",
       "      <th>locality_name</th>\n",
       "      <th>airports_nearest</th>\n",
       "      <th>city_centers_nearest</th>\n",
       "      <th>parks_around3000</th>\n",
       "      <th>parks_nearest</th>\n",
       "      <th>ponds_around3000</th>\n",
       "      <th>ponds_nearest</th>\n",
       "      <th>days_exposition</th>\n",
       "      <th>weekday_exposition</th>\n",
       "    </tr>\n",
       "  </thead>\n",
       "  <tbody>\n",
       "    <tr>\n",
       "      <td>0</td>\n",
       "      <td>20</td>\n",
       "      <td>13.0</td>\n",
       "      <td>108.00</td>\n",
       "      <td>2019-03-07</td>\n",
       "      <td>3</td>\n",
       "      <td>2.70</td>\n",
       "      <td>16.0</td>\n",
       "      <td>51.00</td>\n",
       "      <td>8</td>\n",
       "      <td>False</td>\n",
       "      <td>...</td>\n",
       "      <td>0</td>\n",
       "      <td>Санкт-Петербург</td>\n",
       "      <td>18</td>\n",
       "      <td>16.0</td>\n",
       "      <td>1</td>\n",
       "      <td>0.5</td>\n",
       "      <td>2</td>\n",
       "      <td>0.8</td>\n",
       "      <td>57.0</td>\n",
       "      <td>3</td>\n",
       "    </tr>\n",
       "    <tr>\n",
       "      <td>1</td>\n",
       "      <td>7</td>\n",
       "      <td>3.4</td>\n",
       "      <td>40.40</td>\n",
       "      <td>2018-12-04</td>\n",
       "      <td>1</td>\n",
       "      <td>2.65</td>\n",
       "      <td>11.0</td>\n",
       "      <td>18.60</td>\n",
       "      <td>1</td>\n",
       "      <td>False</td>\n",
       "      <td>...</td>\n",
       "      <td>2</td>\n",
       "      <td>посёлок Шушары</td>\n",
       "      <td>12</td>\n",
       "      <td>19.0</td>\n",
       "      <td>0</td>\n",
       "      <td>0.5</td>\n",
       "      <td>0</td>\n",
       "      <td>0.6</td>\n",
       "      <td>81.0</td>\n",
       "      <td>1</td>\n",
       "    </tr>\n",
       "    <tr>\n",
       "      <td>2</td>\n",
       "      <td>10</td>\n",
       "      <td>5.2</td>\n",
       "      <td>56.00</td>\n",
       "      <td>2015-08-20</td>\n",
       "      <td>2</td>\n",
       "      <td>2.65</td>\n",
       "      <td>5.0</td>\n",
       "      <td>34.30</td>\n",
       "      <td>4</td>\n",
       "      <td>False</td>\n",
       "      <td>...</td>\n",
       "      <td>0</td>\n",
       "      <td>Санкт-Петербург</td>\n",
       "      <td>21</td>\n",
       "      <td>14.0</td>\n",
       "      <td>1</td>\n",
       "      <td>0.1</td>\n",
       "      <td>2</td>\n",
       "      <td>0.6</td>\n",
       "      <td>558.0</td>\n",
       "      <td>3</td>\n",
       "    </tr>\n",
       "    <tr>\n",
       "      <td>3</td>\n",
       "      <td>0</td>\n",
       "      <td>64.9</td>\n",
       "      <td>159.00</td>\n",
       "      <td>2015-07-24</td>\n",
       "      <td>3</td>\n",
       "      <td>2.65</td>\n",
       "      <td>14.0</td>\n",
       "      <td>95.00</td>\n",
       "      <td>9</td>\n",
       "      <td>False</td>\n",
       "      <td>...</td>\n",
       "      <td>0</td>\n",
       "      <td>Санкт-Петербург</td>\n",
       "      <td>28</td>\n",
       "      <td>7.0</td>\n",
       "      <td>2</td>\n",
       "      <td>0.1</td>\n",
       "      <td>3</td>\n",
       "      <td>0.2</td>\n",
       "      <td>424.0</td>\n",
       "      <td>4</td>\n",
       "    </tr>\n",
       "    <tr>\n",
       "      <td>4</td>\n",
       "      <td>2</td>\n",
       "      <td>10.0</td>\n",
       "      <td>100.00</td>\n",
       "      <td>2018-06-19</td>\n",
       "      <td>2</td>\n",
       "      <td>3.03</td>\n",
       "      <td>14.0</td>\n",
       "      <td>32.00</td>\n",
       "      <td>13</td>\n",
       "      <td>False</td>\n",
       "      <td>...</td>\n",
       "      <td>0</td>\n",
       "      <td>Санкт-Петербург</td>\n",
       "      <td>31</td>\n",
       "      <td>8.0</td>\n",
       "      <td>2</td>\n",
       "      <td>0.1</td>\n",
       "      <td>1</td>\n",
       "      <td>0.0</td>\n",
       "      <td>121.0</td>\n",
       "      <td>1</td>\n",
       "    </tr>\n",
       "    <tr>\n",
       "      <td>5</td>\n",
       "      <td>10</td>\n",
       "      <td>2.9</td>\n",
       "      <td>30.40</td>\n",
       "      <td>2018-09-10</td>\n",
       "      <td>1</td>\n",
       "      <td>2.65</td>\n",
       "      <td>12.0</td>\n",
       "      <td>14.40</td>\n",
       "      <td>5</td>\n",
       "      <td>False</td>\n",
       "      <td>...</td>\n",
       "      <td>0</td>\n",
       "      <td>городской посёлок Янино-1</td>\n",
       "      <td>28</td>\n",
       "      <td>14.0</td>\n",
       "      <td>0</td>\n",
       "      <td>0.5</td>\n",
       "      <td>0</td>\n",
       "      <td>0.5</td>\n",
       "      <td>55.0</td>\n",
       "      <td>0</td>\n",
       "    </tr>\n",
       "    <tr>\n",
       "      <td>6</td>\n",
       "      <td>6</td>\n",
       "      <td>3.7</td>\n",
       "      <td>37.30</td>\n",
       "      <td>2017-11-02</td>\n",
       "      <td>1</td>\n",
       "      <td>2.65</td>\n",
       "      <td>26.0</td>\n",
       "      <td>10.60</td>\n",
       "      <td>6</td>\n",
       "      <td>False</td>\n",
       "      <td>...</td>\n",
       "      <td>1</td>\n",
       "      <td>посёлок Парголово</td>\n",
       "      <td>52</td>\n",
       "      <td>19.0</td>\n",
       "      <td>0</td>\n",
       "      <td>0.5</td>\n",
       "      <td>0</td>\n",
       "      <td>0.6</td>\n",
       "      <td>155.0</td>\n",
       "      <td>3</td>\n",
       "    </tr>\n",
       "    <tr>\n",
       "      <td>7</td>\n",
       "      <td>5</td>\n",
       "      <td>7.9</td>\n",
       "      <td>71.60</td>\n",
       "      <td>2019-04-18</td>\n",
       "      <td>2</td>\n",
       "      <td>2.65</td>\n",
       "      <td>24.0</td>\n",
       "      <td>44.30</td>\n",
       "      <td>22</td>\n",
       "      <td>False</td>\n",
       "      <td>...</td>\n",
       "      <td>2</td>\n",
       "      <td>Санкт-Петербург</td>\n",
       "      <td>23</td>\n",
       "      <td>12.0</td>\n",
       "      <td>0</td>\n",
       "      <td>0.5</td>\n",
       "      <td>0</td>\n",
       "      <td>0.5</td>\n",
       "      <td>15.0</td>\n",
       "      <td>3</td>\n",
       "    </tr>\n",
       "    <tr>\n",
       "      <td>8</td>\n",
       "      <td>20</td>\n",
       "      <td>2.9</td>\n",
       "      <td>33.16</td>\n",
       "      <td>2018-05-23</td>\n",
       "      <td>1</td>\n",
       "      <td>2.65</td>\n",
       "      <td>27.0</td>\n",
       "      <td>15.43</td>\n",
       "      <td>26</td>\n",
       "      <td>False</td>\n",
       "      <td>...</td>\n",
       "      <td>0</td>\n",
       "      <td>посёлок Мурино</td>\n",
       "      <td>28</td>\n",
       "      <td>14.0</td>\n",
       "      <td>0</td>\n",
       "      <td>0.5</td>\n",
       "      <td>0</td>\n",
       "      <td>0.5</td>\n",
       "      <td>189.0</td>\n",
       "      <td>2</td>\n",
       "    </tr>\n",
       "    <tr>\n",
       "      <td>9</td>\n",
       "      <td>18</td>\n",
       "      <td>5.4</td>\n",
       "      <td>61.00</td>\n",
       "      <td>2017-02-26</td>\n",
       "      <td>3</td>\n",
       "      <td>2.50</td>\n",
       "      <td>9.0</td>\n",
       "      <td>43.60</td>\n",
       "      <td>7</td>\n",
       "      <td>False</td>\n",
       "      <td>...</td>\n",
       "      <td>2</td>\n",
       "      <td>Санкт-Петербург</td>\n",
       "      <td>50</td>\n",
       "      <td>15.0</td>\n",
       "      <td>0</td>\n",
       "      <td>0.5</td>\n",
       "      <td>0</td>\n",
       "      <td>0.5</td>\n",
       "      <td>289.0</td>\n",
       "      <td>6</td>\n",
       "    </tr>\n",
       "  </tbody>\n",
       "</table>\n",
       "<p>10 rows × 23 columns</p>\n",
       "</div>"
      ],
      "text/plain": [
       "   total_images  last_price  total_area first_day_exposition  rooms  \\\n",
       "0            20        13.0      108.00           2019-03-07      3   \n",
       "1             7         3.4       40.40           2018-12-04      1   \n",
       "2            10         5.2       56.00           2015-08-20      2   \n",
       "3             0        64.9      159.00           2015-07-24      3   \n",
       "4             2        10.0      100.00           2018-06-19      2   \n",
       "5            10         2.9       30.40           2018-09-10      1   \n",
       "6             6         3.7       37.30           2017-11-02      1   \n",
       "7             5         7.9       71.60           2019-04-18      2   \n",
       "8            20         2.9       33.16           2018-05-23      1   \n",
       "9            18         5.4       61.00           2017-02-26      3   \n",
       "\n",
       "   ceiling_height  floors_total  living_area  floor  is_apartment  ...  \\\n",
       "0            2.70          16.0        51.00      8         False  ...   \n",
       "1            2.65          11.0        18.60      1         False  ...   \n",
       "2            2.65           5.0        34.30      4         False  ...   \n",
       "3            2.65          14.0        95.00      9         False  ...   \n",
       "4            3.03          14.0        32.00     13         False  ...   \n",
       "5            2.65          12.0        14.40      5         False  ...   \n",
       "6            2.65          26.0        10.60      6         False  ...   \n",
       "7            2.65          24.0        44.30     22         False  ...   \n",
       "8            2.65          27.0        15.43     26         False  ...   \n",
       "9            2.50           9.0        43.60      7         False  ...   \n",
       "\n",
       "   balcony              locality_name  airports_nearest  city_centers_nearest  \\\n",
       "0        0            Санкт-Петербург                18                  16.0   \n",
       "1        2             посёлок Шушары                12                  19.0   \n",
       "2        0            Санкт-Петербург                21                  14.0   \n",
       "3        0            Санкт-Петербург                28                   7.0   \n",
       "4        0            Санкт-Петербург                31                   8.0   \n",
       "5        0  городской посёлок Янино-1                28                  14.0   \n",
       "6        1          посёлок Парголово                52                  19.0   \n",
       "7        2            Санкт-Петербург                23                  12.0   \n",
       "8        0             посёлок Мурино                28                  14.0   \n",
       "9        2            Санкт-Петербург                50                  15.0   \n",
       "\n",
       "  parks_around3000  parks_nearest  ponds_around3000  ponds_nearest  \\\n",
       "0                1            0.5                 2            0.8   \n",
       "1                0            0.5                 0            0.6   \n",
       "2                1            0.1                 2            0.6   \n",
       "3                2            0.1                 3            0.2   \n",
       "4                2            0.1                 1            0.0   \n",
       "5                0            0.5                 0            0.5   \n",
       "6                0            0.5                 0            0.6   \n",
       "7                0            0.5                 0            0.5   \n",
       "8                0            0.5                 0            0.5   \n",
       "9                0            0.5                 0            0.5   \n",
       "\n",
       "   days_exposition  weekday_exposition  \n",
       "0             57.0                   3  \n",
       "1             81.0                   1  \n",
       "2            558.0                   3  \n",
       "3            424.0                   4  \n",
       "4            121.0                   1  \n",
       "5             55.0                   0  \n",
       "6            155.0                   3  \n",
       "7             15.0                   3  \n",
       "8            189.0                   2  \n",
       "9            289.0                   6  \n",
       "\n",
       "[10 rows x 23 columns]"
      ]
     },
     "metadata": {},
     "output_type": "display_data"
    },
    {
     "name": "stdout",
     "output_type": "stream",
     "text": [
      "<class 'pandas.core.frame.DataFrame'>\n",
      "RangeIndex: 23699 entries, 0 to 23698\n",
      "Data columns (total 23 columns):\n",
      "total_images            23699 non-null int64\n",
      "last_price              23699 non-null float64\n",
      "total_area              23699 non-null float64\n",
      "first_day_exposition    23699 non-null datetime64[ns]\n",
      "rooms                   23699 non-null int64\n",
      "ceiling_height          23699 non-null float64\n",
      "floors_total            23613 non-null float64\n",
      "living_area             23699 non-null float64\n",
      "floor                   23699 non-null int64\n",
      "is_apartment            23699 non-null bool\n",
      "studio                  23699 non-null bool\n",
      "open_plan               23699 non-null bool\n",
      "kitchen_area            23667 non-null float64\n",
      "balcony                 23699 non-null int64\n",
      "locality_name           23650 non-null object\n",
      "airports_nearest        23699 non-null int64\n",
      "city_centers_nearest    23699 non-null float64\n",
      "parks_around3000        23699 non-null int64\n",
      "parks_nearest           23699 non-null float64\n",
      "ponds_around3000        23699 non-null int64\n",
      "ponds_nearest           23699 non-null float64\n",
      "days_exposition         23699 non-null float64\n",
      "weekday_exposition      23699 non-null int64\n",
      "dtypes: bool(3), datetime64[ns](1), float64(10), int64(8), object(1)\n",
      "memory usage: 3.7+ MB\n",
      "\n",
      "Дублированных данных в таблице: 0\n"
     ]
    }
   ],
   "source": [
    "display(data.head(10)) \n",
    "data.info()\n",
    "print()\n",
    "print('Дублированных данных в таблице:', data.duplicated().sum()) "
   ]
  },
  {
   "cell_type": "markdown",
   "metadata": {},
   "source": [
    "Данные приведены в порядок. Очень небольшое число пропусков в столбцах: floors_total, locality_name, заполнять которые нечем.\n",
    "\n",
    "Дублированных данных в явном виде в таблице нет. "
   ]
  },
  {
   "cell_type": "markdown",
   "metadata": {},
   "source": [
    "## Расчёты и добавление результатов в таблицу"
   ]
  },
  {
   "cell_type": "code",
   "execution_count": 23,
   "metadata": {},
   "outputs": [
    {
     "data": {
      "text/html": [
       "<div>\n",
       "<style scoped>\n",
       "    .dataframe tbody tr th:only-of-type {\n",
       "        vertical-align: middle;\n",
       "    }\n",
       "\n",
       "    .dataframe tbody tr th {\n",
       "        vertical-align: top;\n",
       "    }\n",
       "\n",
       "    .dataframe thead th {\n",
       "        text-align: right;\n",
       "    }\n",
       "</style>\n",
       "<table border=\"1\" class=\"dataframe\">\n",
       "  <thead>\n",
       "    <tr style=\"text-align: right;\">\n",
       "      <th></th>\n",
       "      <th>total_images</th>\n",
       "      <th>last_price</th>\n",
       "      <th>total_area</th>\n",
       "      <th>first_day_exposition</th>\n",
       "      <th>rooms</th>\n",
       "      <th>ceiling_height</th>\n",
       "      <th>floors_total</th>\n",
       "      <th>living_area</th>\n",
       "      <th>floor</th>\n",
       "      <th>is_apartment</th>\n",
       "      <th>...</th>\n",
       "      <th>city_centers_nearest</th>\n",
       "      <th>parks_around3000</th>\n",
       "      <th>parks_nearest</th>\n",
       "      <th>ponds_around3000</th>\n",
       "      <th>ponds_nearest</th>\n",
       "      <th>days_exposition</th>\n",
       "      <th>weekday_exposition</th>\n",
       "      <th>sq_m_price</th>\n",
       "      <th>living_vs_total</th>\n",
       "      <th>kitchen_vs_total</th>\n",
       "    </tr>\n",
       "  </thead>\n",
       "  <tbody>\n",
       "    <tr>\n",
       "      <td>0</td>\n",
       "      <td>20</td>\n",
       "      <td>13.0</td>\n",
       "      <td>108.0</td>\n",
       "      <td>2019-03-07</td>\n",
       "      <td>3</td>\n",
       "      <td>2.70</td>\n",
       "      <td>16.0</td>\n",
       "      <td>51.0</td>\n",
       "      <td>8</td>\n",
       "      <td>False</td>\n",
       "      <td>...</td>\n",
       "      <td>16.0</td>\n",
       "      <td>1</td>\n",
       "      <td>0.5</td>\n",
       "      <td>2</td>\n",
       "      <td>0.8</td>\n",
       "      <td>57.0</td>\n",
       "      <td>3</td>\n",
       "      <td>0.120370</td>\n",
       "      <td>0.472222</td>\n",
       "      <td>0.231481</td>\n",
       "    </tr>\n",
       "    <tr>\n",
       "      <td>1</td>\n",
       "      <td>7</td>\n",
       "      <td>3.4</td>\n",
       "      <td>40.4</td>\n",
       "      <td>2018-12-04</td>\n",
       "      <td>1</td>\n",
       "      <td>2.65</td>\n",
       "      <td>11.0</td>\n",
       "      <td>18.6</td>\n",
       "      <td>1</td>\n",
       "      <td>False</td>\n",
       "      <td>...</td>\n",
       "      <td>19.0</td>\n",
       "      <td>0</td>\n",
       "      <td>0.5</td>\n",
       "      <td>0</td>\n",
       "      <td>0.6</td>\n",
       "      <td>81.0</td>\n",
       "      <td>1</td>\n",
       "      <td>0.084158</td>\n",
       "      <td>0.460396</td>\n",
       "      <td>0.272277</td>\n",
       "    </tr>\n",
       "    <tr>\n",
       "      <td>2</td>\n",
       "      <td>10</td>\n",
       "      <td>5.2</td>\n",
       "      <td>56.0</td>\n",
       "      <td>2015-08-20</td>\n",
       "      <td>2</td>\n",
       "      <td>2.65</td>\n",
       "      <td>5.0</td>\n",
       "      <td>34.3</td>\n",
       "      <td>4</td>\n",
       "      <td>False</td>\n",
       "      <td>...</td>\n",
       "      <td>14.0</td>\n",
       "      <td>1</td>\n",
       "      <td>0.1</td>\n",
       "      <td>2</td>\n",
       "      <td>0.6</td>\n",
       "      <td>558.0</td>\n",
       "      <td>3</td>\n",
       "      <td>0.092857</td>\n",
       "      <td>0.612500</td>\n",
       "      <td>0.148214</td>\n",
       "    </tr>\n",
       "    <tr>\n",
       "      <td>3</td>\n",
       "      <td>0</td>\n",
       "      <td>64.9</td>\n",
       "      <td>159.0</td>\n",
       "      <td>2015-07-24</td>\n",
       "      <td>3</td>\n",
       "      <td>2.65</td>\n",
       "      <td>14.0</td>\n",
       "      <td>95.0</td>\n",
       "      <td>9</td>\n",
       "      <td>False</td>\n",
       "      <td>...</td>\n",
       "      <td>7.0</td>\n",
       "      <td>2</td>\n",
       "      <td>0.1</td>\n",
       "      <td>3</td>\n",
       "      <td>0.2</td>\n",
       "      <td>424.0</td>\n",
       "      <td>4</td>\n",
       "      <td>0.408176</td>\n",
       "      <td>0.597484</td>\n",
       "      <td>0.059748</td>\n",
       "    </tr>\n",
       "    <tr>\n",
       "      <td>4</td>\n",
       "      <td>2</td>\n",
       "      <td>10.0</td>\n",
       "      <td>100.0</td>\n",
       "      <td>2018-06-19</td>\n",
       "      <td>2</td>\n",
       "      <td>3.03</td>\n",
       "      <td>14.0</td>\n",
       "      <td>32.0</td>\n",
       "      <td>13</td>\n",
       "      <td>False</td>\n",
       "      <td>...</td>\n",
       "      <td>8.0</td>\n",
       "      <td>2</td>\n",
       "      <td>0.1</td>\n",
       "      <td>1</td>\n",
       "      <td>0.0</td>\n",
       "      <td>121.0</td>\n",
       "      <td>1</td>\n",
       "      <td>0.100000</td>\n",
       "      <td>0.320000</td>\n",
       "      <td>0.410000</td>\n",
       "    </tr>\n",
       "  </tbody>\n",
       "</table>\n",
       "<p>5 rows × 26 columns</p>\n",
       "</div>"
      ],
      "text/plain": [
       "   total_images  last_price  total_area first_day_exposition  rooms  \\\n",
       "0            20        13.0       108.0           2019-03-07      3   \n",
       "1             7         3.4        40.4           2018-12-04      1   \n",
       "2            10         5.2        56.0           2015-08-20      2   \n",
       "3             0        64.9       159.0           2015-07-24      3   \n",
       "4             2        10.0       100.0           2018-06-19      2   \n",
       "\n",
       "   ceiling_height  floors_total  living_area  floor  is_apartment  ...  \\\n",
       "0            2.70          16.0         51.0      8         False  ...   \n",
       "1            2.65          11.0         18.6      1         False  ...   \n",
       "2            2.65           5.0         34.3      4         False  ...   \n",
       "3            2.65          14.0         95.0      9         False  ...   \n",
       "4            3.03          14.0         32.0     13         False  ...   \n",
       "\n",
       "   city_centers_nearest  parks_around3000  parks_nearest  ponds_around3000  \\\n",
       "0                  16.0                 1            0.5                 2   \n",
       "1                  19.0                 0            0.5                 0   \n",
       "2                  14.0                 1            0.1                 2   \n",
       "3                   7.0                 2            0.1                 3   \n",
       "4                   8.0                 2            0.1                 1   \n",
       "\n",
       "  ponds_nearest  days_exposition  weekday_exposition  sq_m_price  \\\n",
       "0           0.8             57.0                   3    0.120370   \n",
       "1           0.6             81.0                   1    0.084158   \n",
       "2           0.6            558.0                   3    0.092857   \n",
       "3           0.2            424.0                   4    0.408176   \n",
       "4           0.0            121.0                   1    0.100000   \n",
       "\n",
       "   living_vs_total  kitchen_vs_total  \n",
       "0         0.472222          0.231481  \n",
       "1         0.460396          0.272277  \n",
       "2         0.612500          0.148214  \n",
       "3         0.597484          0.059748  \n",
       "4         0.320000          0.410000  \n",
       "\n",
       "[5 rows x 26 columns]"
      ]
     },
     "metadata": {},
     "output_type": "display_data"
    }
   ],
   "source": [
    "# расчёт и добавление показателей, связанных с площадью квартир\n",
    "\n",
    "# цена квадратного метра в млн.рублей\n",
    "data['sq_m_price'] = data['last_price'] / data['total_area']\n",
    "\n",
    "# отношение жилой к общей площади квартиры\n",
    "data['living_vs_total'] = data['living_area'] / data['total_area']\n",
    "\n",
    "# отношение площади кухни к общей площади квартиры\n",
    "data['kitchen_vs_total'] = data['kitchen_area'] / data['total_area']\n",
    "\n",
    "display(data.head())"
   ]
  },
  {
   "cell_type": "markdown",
   "metadata": {},
   "source": [
    "Дату я перевёл в нормальный вид на предыдущем этапе, тогда же добавил столбец weekday_exposition - день недели подачи объявления, где 0 - понедельник, 1 -вторник и т.д."
   ]
  },
  {
   "cell_type": "code",
   "execution_count": 24,
   "metadata": {},
   "outputs": [
    {
     "data": {
      "text/plain": [
       "0    другой\n",
       "1    первый\n",
       "2    другой\n",
       "3    другой\n",
       "4    другой\n",
       "Name: floor_sort, dtype: object"
      ]
     },
     "execution_count": 24,
     "metadata": {},
     "output_type": "execute_result"
    }
   ],
   "source": [
    "# функция, придающая статус этажу\n",
    "def floor_sort(row):\n",
    "    if row['floor'] == 1: \n",
    "        return 'первый'\n",
    "    if row['floor'] == row['floors_total']: \n",
    "        return 'последний'\n",
    "    return 'другой'\n",
    "data['floor_sort'] = data.apply(floor_sort, axis = 1)\n",
    "\n",
    "data['floor_sort'].head()"
   ]
  },
  {
   "cell_type": "markdown",
   "metadata": {},
   "source": [
    "## Исследовательский анализ данных"
   ]
  },
  {
   "cell_type": "code",
   "execution_count": 25,
   "metadata": {},
   "outputs": [
    {
     "name": "stdout",
     "output_type": "stream",
     "text": [
      "Минимальная цена квартиры 0.0 миллионов рублей\n",
      "Максимальная цена квартиры 763.0 миллионов рублей\n",
      "Медианная цена квартиры 4.6 миллионов рублей\n"
     ]
    },
    {
     "data": {
      "image/png": "[encoded data removed]",
      "text/plain": [
       "<Figure size 432x288 with 1 Axes>"
      ]
     },
     "metadata": {
      "needs_background": "light"
     },
     "output_type": "display_data"
    },
    {
     "data": {
      "image/png": "[encoded data removed]",
      "text/plain": [
       "<Figure size 432x288 with 1 Axes>"
      ]
     },
     "metadata": {
      "needs_background": "light"
     },
     "output_type": "display_data"
    }
   ],
   "source": [
    "# построение гистограмм\n",
    "\n",
    "# Почти все гистограммы имеют длинные хвосты в сторону больших значений\n",
    "# дабы не строить много гистограмм на разные диапазоны цен, площадей и пр.,\n",
    "# рядом вывожу максимальные и минимальные значения параметров. \n",
    "\n",
    "# гистограмма - цена квартиры \n",
    "data.hist('last_price', bins=50, range=(0, 20))\n",
    "data.hist('last_price', bins=50, range=(0, 0.5))\n",
    "print('Минимальная цена квартиры', data['last_price'].min(), 'миллионов рублей')\n",
    "print('Максимальная цена квартиры', data['last_price'].max(), 'миллионов рублей')\n",
    "print('Медианная цена квартиры', data['last_price'].median(), 'миллионов рублей')"
   ]
  },
  {
   "cell_type": "markdown",
   "metadata": {},
   "source": [
    "Изучение параметра last_price - цена квартиры на момент сделки.\n",
    "\n",
    "Медианная цена квартиры 4.6 миллионов рублей - адекватное значение с учётом текущей инфляции.\n",
    "Максимальная цена квартиры 763.0 миллионов рублей - также, адекватное значение для огромной квартиры в СПб.\n",
    "\n",
    "Гистограмма показала одну квартиру за 0 рублей. На первом этапе этой работы я округлил цены с шагом 100 тысяч рублей. Без округления минимальная цена квартиры - 12190.0 рублей, что также неадекватно низкая цена даже для глухих и заброшенных населённых пунктов. Либо, это цена не продажи квартиры, а аренды, например.\n",
    "\n",
    "Также, гистограмма показывает наличие семи квартир по 400 тысяч рублей, 12-ти квартир по 500 тысяч рублей, что является крайне низкими ценами, возможными только для экстремально плохих состояний квартир, малой их площади, удалённости, явно находящихся вне города СПб. \n",
    "Гистограмма для цен более 500 тысяч рублей и более не строилась, т.к. при определённых условиях, такие цены возможны, хоть и также крайне низки.\n"
   ]
  },
  {
   "cell_type": "code",
   "execution_count": 26,
   "metadata": {},
   "outputs": [
    {
     "data": {
      "text/html": [
       "<div>\n",
       "<style scoped>\n",
       "    .dataframe tbody tr th:only-of-type {\n",
       "        vertical-align: middle;\n",
       "    }\n",
       "\n",
       "    .dataframe tbody tr th {\n",
       "        vertical-align: top;\n",
       "    }\n",
       "\n",
       "    .dataframe thead th {\n",
       "        text-align: right;\n",
       "    }\n",
       "</style>\n",
       "<table border=\"1\" class=\"dataframe\">\n",
       "  <thead>\n",
       "    <tr style=\"text-align: right;\">\n",
       "      <th></th>\n",
       "      <th>total_images</th>\n",
       "      <th>last_price</th>\n",
       "      <th>total_area</th>\n",
       "      <th>first_day_exposition</th>\n",
       "      <th>rooms</th>\n",
       "      <th>ceiling_height</th>\n",
       "      <th>floors_total</th>\n",
       "      <th>living_area</th>\n",
       "      <th>floor</th>\n",
       "      <th>is_apartment</th>\n",
       "      <th>...</th>\n",
       "      <th>parks_around3000</th>\n",
       "      <th>parks_nearest</th>\n",
       "      <th>ponds_around3000</th>\n",
       "      <th>ponds_nearest</th>\n",
       "      <th>days_exposition</th>\n",
       "      <th>weekday_exposition</th>\n",
       "      <th>sq_m_price</th>\n",
       "      <th>living_vs_total</th>\n",
       "      <th>kitchen_vs_total</th>\n",
       "      <th>floor_sort</th>\n",
       "    </tr>\n",
       "  </thead>\n",
       "  <tbody>\n",
       "    <tr>\n",
       "      <td>8793</td>\n",
       "      <td>7</td>\n",
       "      <td>0.0</td>\n",
       "      <td>109.0</td>\n",
       "      <td>2019-03-20</td>\n",
       "      <td>2</td>\n",
       "      <td>2.75</td>\n",
       "      <td>25.0</td>\n",
       "      <td>32.0</td>\n",
       "      <td>25</td>\n",
       "      <td>False</td>\n",
       "      <td>...</td>\n",
       "      <td>1</td>\n",
       "      <td>0.8</td>\n",
       "      <td>0</td>\n",
       "      <td>0.5</td>\n",
       "      <td>8.0</td>\n",
       "      <td>2</td>\n",
       "      <td>0.0</td>\n",
       "      <td>0.293578</td>\n",
       "      <td>0.37156</td>\n",
       "      <td>последний</td>\n",
       "    </tr>\n",
       "  </tbody>\n",
       "</table>\n",
       "<p>1 rows × 27 columns</p>\n",
       "</div>"
      ],
      "text/plain": [
       "      total_images  last_price  total_area first_day_exposition  rooms  \\\n",
       "8793             7         0.0       109.0           2019-03-20      2   \n",
       "\n",
       "      ceiling_height  floors_total  living_area  floor  is_apartment  ...  \\\n",
       "8793            2.75          25.0         32.0     25         False  ...   \n",
       "\n",
       "      parks_around3000  parks_nearest  ponds_around3000  ponds_nearest  \\\n",
       "8793                 1            0.8                 0            0.5   \n",
       "\n",
       "     days_exposition  weekday_exposition  sq_m_price  living_vs_total  \\\n",
       "8793             8.0                   2         0.0         0.293578   \n",
       "\n",
       "      kitchen_vs_total  floor_sort  \n",
       "8793           0.37156   последний  \n",
       "\n",
       "[1 rows x 27 columns]"
      ]
     },
     "metadata": {},
     "output_type": "display_data"
    },
    {
     "data": {
      "text/html": [
       "<div>\n",
       "<style scoped>\n",
       "    .dataframe tbody tr th:only-of-type {\n",
       "        vertical-align: middle;\n",
       "    }\n",
       "\n",
       "    .dataframe tbody tr th {\n",
       "        vertical-align: top;\n",
       "    }\n",
       "\n",
       "    .dataframe thead th {\n",
       "        text-align: right;\n",
       "    }\n",
       "</style>\n",
       "<table border=\"1\" class=\"dataframe\">\n",
       "  <thead>\n",
       "    <tr style=\"text-align: right;\">\n",
       "      <th></th>\n",
       "      <th>total_images</th>\n",
       "      <th>last_price</th>\n",
       "      <th>total_area</th>\n",
       "      <th>first_day_exposition</th>\n",
       "      <th>rooms</th>\n",
       "      <th>ceiling_height</th>\n",
       "      <th>floors_total</th>\n",
       "      <th>living_area</th>\n",
       "      <th>floor</th>\n",
       "      <th>is_apartment</th>\n",
       "      <th>...</th>\n",
       "      <th>parks_around3000</th>\n",
       "      <th>parks_nearest</th>\n",
       "      <th>ponds_around3000</th>\n",
       "      <th>ponds_nearest</th>\n",
       "      <th>days_exposition</th>\n",
       "      <th>weekday_exposition</th>\n",
       "      <th>sq_m_price</th>\n",
       "      <th>living_vs_total</th>\n",
       "      <th>kitchen_vs_total</th>\n",
       "      <th>floor_sort</th>\n",
       "    </tr>\n",
       "  </thead>\n",
       "  <tbody>\n",
       "    <tr>\n",
       "      <td>5698</td>\n",
       "      <td>7</td>\n",
       "      <td>0.4</td>\n",
       "      <td>42.0</td>\n",
       "      <td>2017-07-31</td>\n",
       "      <td>2</td>\n",
       "      <td>2.65</td>\n",
       "      <td>1.0</td>\n",
       "      <td>23.00</td>\n",
       "      <td>1</td>\n",
       "      <td>False</td>\n",
       "      <td>...</td>\n",
       "      <td>0</td>\n",
       "      <td>0.5</td>\n",
       "      <td>0</td>\n",
       "      <td>0.5</td>\n",
       "      <td>233.0</td>\n",
       "      <td>0</td>\n",
       "      <td>0.009524</td>\n",
       "      <td>0.547619</td>\n",
       "      <td>0.138095</td>\n",
       "      <td>первый</td>\n",
       "    </tr>\n",
       "    <tr>\n",
       "      <td>9581</td>\n",
       "      <td>7</td>\n",
       "      <td>0.4</td>\n",
       "      <td>43.4</td>\n",
       "      <td>2018-08-31</td>\n",
       "      <td>2</td>\n",
       "      <td>2.65</td>\n",
       "      <td>5.0</td>\n",
       "      <td>30.30</td>\n",
       "      <td>3</td>\n",
       "      <td>False</td>\n",
       "      <td>...</td>\n",
       "      <td>0</td>\n",
       "      <td>0.5</td>\n",
       "      <td>0</td>\n",
       "      <td>0.5</td>\n",
       "      <td>96.0</td>\n",
       "      <td>4</td>\n",
       "      <td>0.009217</td>\n",
       "      <td>0.698157</td>\n",
       "      <td>0.126728</td>\n",
       "      <td>другой</td>\n",
       "    </tr>\n",
       "    <tr>\n",
       "      <td>14911</td>\n",
       "      <td>5</td>\n",
       "      <td>0.4</td>\n",
       "      <td>54.0</td>\n",
       "      <td>2018-06-26</td>\n",
       "      <td>2</td>\n",
       "      <td>2.65</td>\n",
       "      <td>3.0</td>\n",
       "      <td>31.00</td>\n",
       "      <td>3</td>\n",
       "      <td>False</td>\n",
       "      <td>...</td>\n",
       "      <td>0</td>\n",
       "      <td>0.5</td>\n",
       "      <td>0</td>\n",
       "      <td>0.5</td>\n",
       "      <td>44.0</td>\n",
       "      <td>1</td>\n",
       "      <td>0.007407</td>\n",
       "      <td>0.574074</td>\n",
       "      <td>0.162963</td>\n",
       "      <td>последний</td>\n",
       "    </tr>\n",
       "    <tr>\n",
       "      <td>16219</td>\n",
       "      <td>14</td>\n",
       "      <td>0.4</td>\n",
       "      <td>38.5</td>\n",
       "      <td>2018-07-11</td>\n",
       "      <td>2</td>\n",
       "      <td>2.65</td>\n",
       "      <td>2.0</td>\n",
       "      <td>18.25</td>\n",
       "      <td>1</td>\n",
       "      <td>False</td>\n",
       "      <td>...</td>\n",
       "      <td>0</td>\n",
       "      <td>0.5</td>\n",
       "      <td>0</td>\n",
       "      <td>0.5</td>\n",
       "      <td>45.0</td>\n",
       "      <td>2</td>\n",
       "      <td>0.010390</td>\n",
       "      <td>0.474026</td>\n",
       "      <td>0.228571</td>\n",
       "      <td>первый</td>\n",
       "    </tr>\n",
       "    <tr>\n",
       "      <td>16274</td>\n",
       "      <td>18</td>\n",
       "      <td>0.4</td>\n",
       "      <td>40.0</td>\n",
       "      <td>2018-07-10</td>\n",
       "      <td>1</td>\n",
       "      <td>2.65</td>\n",
       "      <td>5.0</td>\n",
       "      <td>18.00</td>\n",
       "      <td>1</td>\n",
       "      <td>False</td>\n",
       "      <td>...</td>\n",
       "      <td>0</td>\n",
       "      <td>0.5</td>\n",
       "      <td>0</td>\n",
       "      <td>0.5</td>\n",
       "      <td>45.0</td>\n",
       "      <td>1</td>\n",
       "      <td>0.010000</td>\n",
       "      <td>0.450000</td>\n",
       "      <td>0.226000</td>\n",
       "      <td>первый</td>\n",
       "    </tr>\n",
       "    <tr>\n",
       "      <td>17456</td>\n",
       "      <td>7</td>\n",
       "      <td>0.4</td>\n",
       "      <td>30.4</td>\n",
       "      <td>2019-04-22</td>\n",
       "      <td>1</td>\n",
       "      <td>2.65</td>\n",
       "      <td>2.0</td>\n",
       "      <td>16.00</td>\n",
       "      <td>1</td>\n",
       "      <td>False</td>\n",
       "      <td>...</td>\n",
       "      <td>0</td>\n",
       "      <td>0.5</td>\n",
       "      <td>0</td>\n",
       "      <td>0.5</td>\n",
       "      <td>11.0</td>\n",
       "      <td>0</td>\n",
       "      <td>0.013158</td>\n",
       "      <td>0.526316</td>\n",
       "      <td>0.197368</td>\n",
       "      <td>первый</td>\n",
       "    </tr>\n",
       "    <tr>\n",
       "      <td>17676</td>\n",
       "      <td>0</td>\n",
       "      <td>0.4</td>\n",
       "      <td>36.5</td>\n",
       "      <td>2018-02-01</td>\n",
       "      <td>1</td>\n",
       "      <td>2.65</td>\n",
       "      <td>5.0</td>\n",
       "      <td>17.30</td>\n",
       "      <td>4</td>\n",
       "      <td>False</td>\n",
       "      <td>...</td>\n",
       "      <td>0</td>\n",
       "      <td>0.5</td>\n",
       "      <td>0</td>\n",
       "      <td>0.5</td>\n",
       "      <td>120.0</td>\n",
       "      <td>3</td>\n",
       "      <td>0.010959</td>\n",
       "      <td>0.473973</td>\n",
       "      <td>0.232877</td>\n",
       "      <td>другой</td>\n",
       "    </tr>\n",
       "  </tbody>\n",
       "</table>\n",
       "<p>7 rows × 27 columns</p>\n",
       "</div>"
      ],
      "text/plain": [
       "       total_images  last_price  total_area first_day_exposition  rooms  \\\n",
       "5698              7         0.4        42.0           2017-07-31      2   \n",
       "9581              7         0.4        43.4           2018-08-31      2   \n",
       "14911             5         0.4        54.0           2018-06-26      2   \n",
       "16219            14         0.4        38.5           2018-07-11      2   \n",
       "16274            18         0.4        40.0           2018-07-10      1   \n",
       "17456             7         0.4        30.4           2019-04-22      1   \n",
       "17676             0         0.4        36.5           2018-02-01      1   \n",
       "\n",
       "       ceiling_height  floors_total  living_area  floor  is_apartment  ...  \\\n",
       "5698             2.65           1.0        23.00      1         False  ...   \n",
       "9581             2.65           5.0        30.30      3         False  ...   \n",
       "14911            2.65           3.0        31.00      3         False  ...   \n",
       "16219            2.65           2.0        18.25      1         False  ...   \n",
       "16274            2.65           5.0        18.00      1         False  ...   \n",
       "17456            2.65           2.0        16.00      1         False  ...   \n",
       "17676            2.65           5.0        17.30      4         False  ...   \n",
       "\n",
       "       parks_around3000  parks_nearest  ponds_around3000  ponds_nearest  \\\n",
       "5698                  0            0.5                 0            0.5   \n",
       "9581                  0            0.5                 0            0.5   \n",
       "14911                 0            0.5                 0            0.5   \n",
       "16219                 0            0.5                 0            0.5   \n",
       "16274                 0            0.5                 0            0.5   \n",
       "17456                 0            0.5                 0            0.5   \n",
       "17676                 0            0.5                 0            0.5   \n",
       "\n",
       "      days_exposition  weekday_exposition  sq_m_price  living_vs_total  \\\n",
       "5698            233.0                   0    0.009524         0.547619   \n",
       "9581             96.0                   4    0.009217         0.698157   \n",
       "14911            44.0                   1    0.007407         0.574074   \n",
       "16219            45.0                   2    0.010390         0.474026   \n",
       "16274            45.0                   1    0.010000         0.450000   \n",
       "17456            11.0                   0    0.013158         0.526316   \n",
       "17676           120.0                   3    0.010959         0.473973   \n",
       "\n",
       "       kitchen_vs_total  floor_sort  \n",
       "5698           0.138095      первый  \n",
       "9581           0.126728      другой  \n",
       "14911          0.162963   последний  \n",
       "16219          0.228571      первый  \n",
       "16274          0.226000      первый  \n",
       "17456          0.197368      первый  \n",
       "17676          0.232877      другой  \n",
       "\n",
       "[7 rows x 27 columns]"
      ]
     },
     "metadata": {},
     "output_type": "display_data"
    }
   ],
   "source": [
    "# просмотр строчек таблицы с экстремально дешёвыми квартирами\n",
    "display(data.loc[data['last_price'] == 0])\n",
    "\n",
    "display(data.loc[data['last_price'] == 0.4])"
   ]
  },
  {
   "cell_type": "code",
   "execution_count": 27,
   "metadata": {},
   "outputs": [
    {
     "name": "stdout",
     "output_type": "stream",
     "text": [
      "Квартира за 12 тыс. рублей находится в Санкт-Петербург\n",
      "\n",
      "Квартиры за 400 тыс. рублей находятся в\n",
      "5698     городской посёлок Будогощь\n",
      "9581             деревня Старополье\n",
      "14911         посёлок станции Свирь\n",
      "16219          деревня Вахнова Кара\n",
      "16274            деревня Старополье\n",
      "17456                        Сланцы\n",
      "17676             деревня Ям-Тесово\n",
      "Name: locality_name, dtype: object\n"
     ]
    }
   ],
   "source": [
    "# просмотр названий населёных пунктов с экстремально дешёвыми квартирами\n",
    "print('Квартира за 12 тыс. рублей находится в', data.loc[8793, 'locality_name'])\n",
    "print()\n",
    "print('Квартиры за 400 тыс. рублей находятся в')\n",
    "print(data.loc[(5698, 9581, 14911, 16219, 16274, 17456, 17676), 'locality_name'])\n"
   ]
  },
  {
   "cell_type": "markdown",
   "metadata": {},
   "source": [
    "Квартира за 12 тысяч рублей имеет общую площадь более 100 квадратных метров, и находится в Санкт-Петербурге. Никаким аварийным состоянием, удалённостью от центра города и любой инфраструктуры такая низкая цена объясятся не может. Арендная плата также очень низкая. Делаю вывод, что либо ошибка записи цены - потеряно минимум три нуля, либо существуют иные причины таких данных. Запись неадекватная.\n",
    "\n",
    "Напротив, квартиры за 400 тысяч рублей находятся вне города Санкт-Петербург. При определённых условиях такая цена может быть адекватной."
   ]
  },
  {
   "cell_type": "code",
   "execution_count": 28,
   "metadata": {},
   "outputs": [
    {
     "name": "stdout",
     "output_type": "stream",
     "text": [
      "Минимальная общая площадь квартиры 12.0 кв.метров\n",
      "Максимальная общая площадь квартиры 900.0 кв.метров\n",
      "Медианная общая площадь квартиры 52.0 кв.метров\n"
     ]
    },
    {
     "data": {
      "image/png": "[encoded data removed]",
      "text/plain": [
       "<Figure size 432x288 with 1 Axes>"
      ]
     },
     "metadata": {
      "needs_background": "light"
     },
     "output_type": "display_data"
    }
   ],
   "source": [
    "# гистограмма - общая площадь квартиры\n",
    "data.hist('total_area', bins=50, range=(12, 150))\n",
    "print('Минимальная общая площадь квартиры', data['total_area'].min(), 'кв.метров')\n",
    "print('Максимальная общая площадь квартиры', data['total_area'].max(), 'кв.метров')\n",
    "print('Медианная общая площадь квартиры', data['total_area'].median(), 'кв.метров')\n"
   ]
  },
  {
   "cell_type": "markdown",
   "metadata": {},
   "source": [
    "Показатели минимальной, максимальной и медианной площади квартир адекватны, значений нулевой или почти нулевой площади квартиры или, наоборот, квартир с площадью футбольных полей нет. \n",
    "\n",
    "Медианная площадь квартиры - 52 квадратных метра. Однако, гистограмма показывает самую популярную площадь квартиры около 42-45 квадратных метров. \n",
    "\n",
    "Распределение площадей квартир также соответствует реальности: основная доля составляет квартиры с площадями 28 - 100 квадратных метров, существует некоторое количество квартир с большей площадью.\n",
    "\n",
    "\n",
    "На этом этапе принимается условие учебного проекта - квартиры с необычно большой площадью не рассматриваются, и далее из таблицы удаляются.\n"
   ]
  },
  {
   "cell_type": "code",
   "execution_count": 29,
   "metadata": {},
   "outputs": [
    {
     "name": "stdout",
     "output_type": "stream",
     "text": [
      "Минимальная жилая площадь квартиры 2.0 кв.метров\n",
      "Максимальная жилая площадь квартиры 409.7 кв.метров\n",
      "Медианная жилая площадь квартиры 30.0 кв.метров\n",
      "\n",
      "Количество квартир типа апартаменты 50\n",
      "Количество квартир-студий 149\n"
     ]
    },
    {
     "data": {
      "image/png": "[encoded data removed]",
      "text/plain": [
       "<Figure size 432x288 with 1 Axes>"
      ]
     },
     "metadata": {
      "needs_background": "light"
     },
     "output_type": "display_data"
    }
   ],
   "source": [
    "# гистограмма -  жилая площадь квартиры\n",
    "data.hist('living_area', bins=50, range=(0, 100))\n",
    "print('Минимальная жилая площадь квартиры', data['living_area'].min(), 'кв.метров')\n",
    "print('Максимальная жилая площадь квартиры', data['living_area'].max(), 'кв.метров')\n",
    "print('Медианная жилая площадь квартиры', data['living_area'].median(), 'кв.метров')\n",
    "# данные, помогающие понять самые низкие величины площади на гистограмме\n",
    "print()\n",
    "print('Количество квартир типа апартаменты', len(data.loc[data['is_apartment'] == True]))\n",
    "print('Количество квартир-студий', len(data.loc[data['studio'] == True]))"
   ]
  },
  {
   "cell_type": "markdown",
   "metadata": {},
   "source": [
    "Показатели минимальной, максимальной и медианной жилой площади квартир адекватны. Также нет неадекватных значений. Наличие в таблице небольшого количества квартир-студий и апартаментов объясняет самые низкие значения жилой площади. \n",
    "\n",
    "Гистограмма имеет три явно выраженных пика (на гистограмме с общей площадью квартир пики существуют, но гораздо менее выражены). По всей видимости, пики соответствуют 1-комнатным, 2-комнатным и 3-комнтаным квартирам. Т.к., жилая площадь квартиры - это площадь комнат квартиры, то логичным выглядит скачкообразный характер гистограммы. Количество комнат в кварире - параметр дискретный, не имеет промежуточных значений. Вслед за количеством квартир также близко к дискретному меняется жилая площадь квартир. Хвост гистограммы вправо означает наличие квартир с большим количеством комнат (большим трёх), но т.к., количество их значительно меньше, пики на гистограмме не проявляются.\n"
   ]
  },
  {
   "cell_type": "code",
   "execution_count": 30,
   "metadata": {},
   "outputs": [
    {
     "name": "stdout",
     "output_type": "stream",
     "text": [
      "Минимальная площадь кухни 1.3 кв.метров\n",
      "Максимальная площадь кухни 112.0 кв.метров\n",
      "Медианная площадь кухни 9.04 кв.метров\n"
     ]
    },
    {
     "data": {
      "image/png": "[encoded data removed]",
      "text/plain": [
       "<Figure size 432x288 with 1 Axes>"
      ]
     },
     "metadata": {
      "needs_background": "light"
     },
     "output_type": "display_data"
    }
   ],
   "source": [
    "# гистограмма - площадь кухни\n",
    "data.hist('kitchen_area', bins=50, range=(3, 20))\n",
    "print('Минимальная площадь кухни', data['kitchen_area'].min(), 'кв.метров')\n",
    "print('Максимальная площадь кухни', data['kitchen_area'].max(), 'кв.метров')\n",
    "print('Медианная площадь кухни', data['kitchen_area'].median(), 'кв.метров')"
   ]
  },
  {
   "cell_type": "markdown",
   "metadata": {},
   "source": [
    "Показатели минимальной и медианной площади кухонь адекватны. Максимальная площадь кухни близко к неадекватному значению. Наличие в таблице небольшого количества квартир-студий и апартаментов объясняет самые низкие значения площади кухонь.\n",
    "\n",
    "Гистограмма имеет ряд явно выраженных пиков, один из которых по величине минимум в два раза превосходит другие, и примерно соответствует медианной площади кухни - 9.04 кв.метров. Такой характер гистограммы легко объяснить станадатрностью планировок, универсальностью СНИПов, небольшой зависимостью площади кухни от других параметров квартиры. Таким образом, самая часто встречающаяся площадь кухни - 9 кв.метров, другие площади кухонь имеют близко к дискретному набор площадей. \n",
    "\n",
    "Хвост гистограммы вправо всё также следует за квартирами больших площадей. Пики на гистограмме более выражены посравнению с общими и жилыми площадями, что также может объясняться универсальностью СНИПов."
   ]
  },
  {
   "cell_type": "code",
   "execution_count": 31,
   "metadata": {},
   "outputs": [
    {
     "name": "stdout",
     "output_type": "stream",
     "text": [
      "Минимальное количество комнат в квартире 0\n",
      "Максимальное количество комнат в квартире 19\n",
      "Медианное значение количества комнат в квартире 2.0\n"
     ]
    },
    {
     "data": {
      "image/png": "[encoded data removed]",
      "text/plain": [
       "<Figure size 432x288 with 1 Axes>"
      ]
     },
     "metadata": {
      "needs_background": "light"
     },
     "output_type": "display_data"
    }
   ],
   "source": [
    "# гистограмма - количество комнат в квартире\n",
    "data.hist('rooms', bins=7, range=(0, 7))\n",
    "print('Минимальное количество комнат в квартире', data['rooms'].min())\n",
    "print('Максимальное количество комнат в квартире', data['rooms'].max())\n",
    "print('Медианное значение количества комнат в квартире', data['rooms'].median())"
   ]
  },
  {
   "cell_type": "code",
   "execution_count": 32,
   "metadata": {},
   "outputs": [
    {
     "data": {
      "text/html": [
       "<div>\n",
       "<style scoped>\n",
       "    .dataframe tbody tr th:only-of-type {\n",
       "        vertical-align: middle;\n",
       "    }\n",
       "\n",
       "    .dataframe tbody tr th {\n",
       "        vertical-align: top;\n",
       "    }\n",
       "\n",
       "    .dataframe thead th {\n",
       "        text-align: right;\n",
       "    }\n",
       "</style>\n",
       "<table border=\"1\" class=\"dataframe\">\n",
       "  <thead>\n",
       "    <tr style=\"text-align: right;\">\n",
       "      <th></th>\n",
       "      <th>total_images</th>\n",
       "      <th>last_price</th>\n",
       "      <th>total_area</th>\n",
       "      <th>first_day_exposition</th>\n",
       "      <th>rooms</th>\n",
       "      <th>ceiling_height</th>\n",
       "      <th>floors_total</th>\n",
       "      <th>living_area</th>\n",
       "      <th>floor</th>\n",
       "      <th>is_apartment</th>\n",
       "      <th>...</th>\n",
       "      <th>parks_around3000</th>\n",
       "      <th>parks_nearest</th>\n",
       "      <th>ponds_around3000</th>\n",
       "      <th>ponds_nearest</th>\n",
       "      <th>days_exposition</th>\n",
       "      <th>weekday_exposition</th>\n",
       "      <th>sq_m_price</th>\n",
       "      <th>living_vs_total</th>\n",
       "      <th>kitchen_vs_total</th>\n",
       "      <th>floor_sort</th>\n",
       "    </tr>\n",
       "  </thead>\n",
       "  <tbody>\n",
       "    <tr>\n",
       "      <td>144</td>\n",
       "      <td>1</td>\n",
       "      <td>2.4</td>\n",
       "      <td>27.00</td>\n",
       "      <td>2017-03-30</td>\n",
       "      <td>0</td>\n",
       "      <td>2.65</td>\n",
       "      <td>24.0</td>\n",
       "      <td>15.50</td>\n",
       "      <td>2</td>\n",
       "      <td>False</td>\n",
       "      <td>...</td>\n",
       "      <td>0</td>\n",
       "      <td>0.5</td>\n",
       "      <td>0</td>\n",
       "      <td>0.5</td>\n",
       "      <td>181.0</td>\n",
       "      <td>3</td>\n",
       "      <td>0.088889</td>\n",
       "      <td>0.574074</td>\n",
       "      <td>0.235185</td>\n",
       "      <td>другой</td>\n",
       "    </tr>\n",
       "    <tr>\n",
       "      <td>349</td>\n",
       "      <td>4</td>\n",
       "      <td>2.3</td>\n",
       "      <td>25.00</td>\n",
       "      <td>2017-09-27</td>\n",
       "      <td>0</td>\n",
       "      <td>2.65</td>\n",
       "      <td>14.0</td>\n",
       "      <td>17.00</td>\n",
       "      <td>1</td>\n",
       "      <td>False</td>\n",
       "      <td>...</td>\n",
       "      <td>0</td>\n",
       "      <td>0.5</td>\n",
       "      <td>0</td>\n",
       "      <td>0.5</td>\n",
       "      <td>45.0</td>\n",
       "      <td>2</td>\n",
       "      <td>0.092000</td>\n",
       "      <td>0.680000</td>\n",
       "      <td>0.361600</td>\n",
       "      <td>первый</td>\n",
       "    </tr>\n",
       "    <tr>\n",
       "      <td>440</td>\n",
       "      <td>8</td>\n",
       "      <td>2.5</td>\n",
       "      <td>27.11</td>\n",
       "      <td>2018-03-12</td>\n",
       "      <td>0</td>\n",
       "      <td>2.65</td>\n",
       "      <td>17.0</td>\n",
       "      <td>24.75</td>\n",
       "      <td>4</td>\n",
       "      <td>False</td>\n",
       "      <td>...</td>\n",
       "      <td>0</td>\n",
       "      <td>0.5</td>\n",
       "      <td>2</td>\n",
       "      <td>1.0</td>\n",
       "      <td>64.0</td>\n",
       "      <td>0</td>\n",
       "      <td>0.092217</td>\n",
       "      <td>0.912947</td>\n",
       "      <td>NaN</td>\n",
       "      <td>другой</td>\n",
       "    </tr>\n",
       "    <tr>\n",
       "      <td>508</td>\n",
       "      <td>0</td>\n",
       "      <td>3.4</td>\n",
       "      <td>34.40</td>\n",
       "      <td>2017-03-28</td>\n",
       "      <td>0</td>\n",
       "      <td>2.65</td>\n",
       "      <td>26.0</td>\n",
       "      <td>24.30</td>\n",
       "      <td>19</td>\n",
       "      <td>False</td>\n",
       "      <td>...</td>\n",
       "      <td>0</td>\n",
       "      <td>0.5</td>\n",
       "      <td>1</td>\n",
       "      <td>0.6</td>\n",
       "      <td>430.0</td>\n",
       "      <td>1</td>\n",
       "      <td>0.098837</td>\n",
       "      <td>0.706395</td>\n",
       "      <td>0.261628</td>\n",
       "      <td>другой</td>\n",
       "    </tr>\n",
       "    <tr>\n",
       "      <td>608</td>\n",
       "      <td>2</td>\n",
       "      <td>1.8</td>\n",
       "      <td>25.00</td>\n",
       "      <td>2019-02-20</td>\n",
       "      <td>0</td>\n",
       "      <td>2.65</td>\n",
       "      <td>10.0</td>\n",
       "      <td>17.00</td>\n",
       "      <td>7</td>\n",
       "      <td>False</td>\n",
       "      <td>...</td>\n",
       "      <td>0</td>\n",
       "      <td>0.5</td>\n",
       "      <td>0</td>\n",
       "      <td>0.6</td>\n",
       "      <td>29.0</td>\n",
       "      <td>2</td>\n",
       "      <td>0.072000</td>\n",
       "      <td>0.680000</td>\n",
       "      <td>0.361600</td>\n",
       "      <td>другой</td>\n",
       "    </tr>\n",
       "    <tr>\n",
       "      <td>...</td>\n",
       "      <td>...</td>\n",
       "      <td>...</td>\n",
       "      <td>...</td>\n",
       "      <td>...</td>\n",
       "      <td>...</td>\n",
       "      <td>...</td>\n",
       "      <td>...</td>\n",
       "      <td>...</td>\n",
       "      <td>...</td>\n",
       "      <td>...</td>\n",
       "      <td>...</td>\n",
       "      <td>...</td>\n",
       "      <td>...</td>\n",
       "      <td>...</td>\n",
       "      <td>...</td>\n",
       "      <td>...</td>\n",
       "      <td>...</td>\n",
       "      <td>...</td>\n",
       "      <td>...</td>\n",
       "      <td>...</td>\n",
       "      <td>...</td>\n",
       "    </tr>\n",
       "    <tr>\n",
       "      <td>23210</td>\n",
       "      <td>7</td>\n",
       "      <td>3.2</td>\n",
       "      <td>26.00</td>\n",
       "      <td>2017-09-01</td>\n",
       "      <td>0</td>\n",
       "      <td>2.65</td>\n",
       "      <td>25.0</td>\n",
       "      <td>18.00</td>\n",
       "      <td>16</td>\n",
       "      <td>False</td>\n",
       "      <td>...</td>\n",
       "      <td>0</td>\n",
       "      <td>0.5</td>\n",
       "      <td>1</td>\n",
       "      <td>0.6</td>\n",
       "      <td>14.0</td>\n",
       "      <td>4</td>\n",
       "      <td>0.123077</td>\n",
       "      <td>0.692308</td>\n",
       "      <td>0.347692</td>\n",
       "      <td>другой</td>\n",
       "    </tr>\n",
       "    <tr>\n",
       "      <td>23442</td>\n",
       "      <td>0</td>\n",
       "      <td>2.5</td>\n",
       "      <td>27.70</td>\n",
       "      <td>2017-09-28</td>\n",
       "      <td>0</td>\n",
       "      <td>2.65</td>\n",
       "      <td>24.0</td>\n",
       "      <td>18.00</td>\n",
       "      <td>4</td>\n",
       "      <td>False</td>\n",
       "      <td>...</td>\n",
       "      <td>0</td>\n",
       "      <td>0.5</td>\n",
       "      <td>0</td>\n",
       "      <td>0.5</td>\n",
       "      <td>4.0</td>\n",
       "      <td>3</td>\n",
       "      <td>0.090253</td>\n",
       "      <td>0.649819</td>\n",
       "      <td>0.326354</td>\n",
       "      <td>другой</td>\n",
       "    </tr>\n",
       "    <tr>\n",
       "      <td>23554</td>\n",
       "      <td>15</td>\n",
       "      <td>3.4</td>\n",
       "      <td>26.00</td>\n",
       "      <td>2018-09-07</td>\n",
       "      <td>0</td>\n",
       "      <td>2.65</td>\n",
       "      <td>19.0</td>\n",
       "      <td>17.38</td>\n",
       "      <td>8</td>\n",
       "      <td>False</td>\n",
       "      <td>...</td>\n",
       "      <td>0</td>\n",
       "      <td>0.5</td>\n",
       "      <td>2</td>\n",
       "      <td>0.1</td>\n",
       "      <td>31.0</td>\n",
       "      <td>4</td>\n",
       "      <td>0.130769</td>\n",
       "      <td>0.668462</td>\n",
       "      <td>0.347692</td>\n",
       "      <td>другой</td>\n",
       "    </tr>\n",
       "    <tr>\n",
       "      <td>23592</td>\n",
       "      <td>10</td>\n",
       "      <td>1.4</td>\n",
       "      <td>29.00</td>\n",
       "      <td>2017-11-11</td>\n",
       "      <td>0</td>\n",
       "      <td>2.65</td>\n",
       "      <td>9.0</td>\n",
       "      <td>18.00</td>\n",
       "      <td>8</td>\n",
       "      <td>False</td>\n",
       "      <td>...</td>\n",
       "      <td>0</td>\n",
       "      <td>0.5</td>\n",
       "      <td>0</td>\n",
       "      <td>0.5</td>\n",
       "      <td>82.0</td>\n",
       "      <td>5</td>\n",
       "      <td>0.048276</td>\n",
       "      <td>0.620690</td>\n",
       "      <td>0.227586</td>\n",
       "      <td>другой</td>\n",
       "    </tr>\n",
       "    <tr>\n",
       "      <td>23637</td>\n",
       "      <td>8</td>\n",
       "      <td>2.4</td>\n",
       "      <td>26.00</td>\n",
       "      <td>2018-06-26</td>\n",
       "      <td>0</td>\n",
       "      <td>2.65</td>\n",
       "      <td>25.0</td>\n",
       "      <td>17.00</td>\n",
       "      <td>4</td>\n",
       "      <td>False</td>\n",
       "      <td>...</td>\n",
       "      <td>0</td>\n",
       "      <td>0.5</td>\n",
       "      <td>0</td>\n",
       "      <td>0.5</td>\n",
       "      <td>207.0</td>\n",
       "      <td>1</td>\n",
       "      <td>0.092308</td>\n",
       "      <td>0.653846</td>\n",
       "      <td>0.347692</td>\n",
       "      <td>другой</td>\n",
       "    </tr>\n",
       "  </tbody>\n",
       "</table>\n",
       "<p>197 rows × 27 columns</p>\n",
       "</div>"
      ],
      "text/plain": [
       "       total_images  last_price  total_area first_day_exposition  rooms  \\\n",
       "144               1         2.4       27.00           2017-03-30      0   \n",
       "349               4         2.3       25.00           2017-09-27      0   \n",
       "440               8         2.5       27.11           2018-03-12      0   \n",
       "508               0         3.4       34.40           2017-03-28      0   \n",
       "608               2         1.8       25.00           2019-02-20      0   \n",
       "...             ...         ...         ...                  ...    ...   \n",
       "23210             7         3.2       26.00           2017-09-01      0   \n",
       "23442             0         2.5       27.70           2017-09-28      0   \n",
       "23554            15         3.4       26.00           2018-09-07      0   \n",
       "23592            10         1.4       29.00           2017-11-11      0   \n",
       "23637             8         2.4       26.00           2018-06-26      0   \n",
       "\n",
       "       ceiling_height  floors_total  living_area  floor  is_apartment  ...  \\\n",
       "144              2.65          24.0        15.50      2         False  ...   \n",
       "349              2.65          14.0        17.00      1         False  ...   \n",
       "440              2.65          17.0        24.75      4         False  ...   \n",
       "508              2.65          26.0        24.30     19         False  ...   \n",
       "608              2.65          10.0        17.00      7         False  ...   \n",
       "...               ...           ...          ...    ...           ...  ...   \n",
       "23210            2.65          25.0        18.00     16         False  ...   \n",
       "23442            2.65          24.0        18.00      4         False  ...   \n",
       "23554            2.65          19.0        17.38      8         False  ...   \n",
       "23592            2.65           9.0        18.00      8         False  ...   \n",
       "23637            2.65          25.0        17.00      4         False  ...   \n",
       "\n",
       "       parks_around3000  parks_nearest  ponds_around3000  ponds_nearest  \\\n",
       "144                   0            0.5                 0            0.5   \n",
       "349                   0            0.5                 0            0.5   \n",
       "440                   0            0.5                 2            1.0   \n",
       "508                   0            0.5                 1            0.6   \n",
       "608                   0            0.5                 0            0.6   \n",
       "...                 ...            ...               ...            ...   \n",
       "23210                 0            0.5                 1            0.6   \n",
       "23442                 0            0.5                 0            0.5   \n",
       "23554                 0            0.5                 2            0.1   \n",
       "23592                 0            0.5                 0            0.5   \n",
       "23637                 0            0.5                 0            0.5   \n",
       "\n",
       "      days_exposition  weekday_exposition  sq_m_price  living_vs_total  \\\n",
       "144             181.0                   3    0.088889         0.574074   \n",
       "349              45.0                   2    0.092000         0.680000   \n",
       "440              64.0                   0    0.092217         0.912947   \n",
       "508             430.0                   1    0.098837         0.706395   \n",
       "608              29.0                   2    0.072000         0.680000   \n",
       "...               ...                 ...         ...              ...   \n",
       "23210            14.0                   4    0.123077         0.692308   \n",
       "23442             4.0                   3    0.090253         0.649819   \n",
       "23554            31.0                   4    0.130769         0.668462   \n",
       "23592            82.0                   5    0.048276         0.620690   \n",
       "23637           207.0                   1    0.092308         0.653846   \n",
       "\n",
       "       kitchen_vs_total  floor_sort  \n",
       "144            0.235185      другой  \n",
       "349            0.361600      первый  \n",
       "440                 NaN      другой  \n",
       "508            0.261628      другой  \n",
       "608            0.361600      другой  \n",
       "...                 ...         ...  \n",
       "23210          0.347692      другой  \n",
       "23442          0.326354      другой  \n",
       "23554          0.347692      другой  \n",
       "23592          0.227586      другой  \n",
       "23637          0.347692      другой  \n",
       "\n",
       "[197 rows x 27 columns]"
      ]
     },
     "metadata": {},
     "output_type": "display_data"
    },
    {
     "name": "stdout",
     "output_type": "stream",
     "text": [
      "Количество квартир с нулём комнат, т.е. без комнат 197\n"
     ]
    }
   ],
   "source": [
    "# данные, помогающие понять самые низкие величины площади на гистограмме\n",
    "display(data.loc[data['rooms'] == 0])\n",
    "print('Количество квартир с нулём комнат, т.е. без комнат', len(data.loc[data['rooms'] == 0]))"
   ]
  },
  {
   "cell_type": "markdown",
   "metadata": {},
   "source": [
    "В таблице 197 квартир без единой комнаты, но с ненулевой площадью что, видимо, является ошибкой записи или испорченными данными. \n",
    "\n",
    "Максимальное количество комнат в квартире 19 - значение необычное.\n",
    "\n",
    "Медианное значение количества комнат в квартире 2.0 - это адекватное значение.\n"
   ]
  },
  {
   "cell_type": "code",
   "execution_count": 33,
   "metadata": {
    "scrolled": true
   },
   "outputs": [
    {
     "name": "stdout",
     "output_type": "stream",
     "text": [
      "Минимальный срок продажи в днях 0.0\n",
      "Максимальный срок продажи в днях 1618.0\n",
      "Медианный срок продажи в днях 94.0\n",
      "Средний срок продажи в днях 185.8217224355458\n"
     ]
    },
    {
     "data": {
      "image/png": "[encoded data removed]",
      "text/plain": [
       "<Figure size 432x288 with 1 Axes>"
      ]
     },
     "metadata": {
      "needs_background": "light"
     },
     "output_type": "display_data"
    }
   ],
   "source": [
    "# гистограмма - время продажи квартиры\n",
    "data.hist('days_exposition', bins=50, range=(0, 150))\n",
    "\n",
    "print('Минимальный срок продажи в днях', data['days_exposition'].min())\n",
    "print('Максимальный срок продажи в днях', data['days_exposition'].max())\n",
    "print('Медианный срок продажи в днях', data['days_exposition'].median())\n",
    "print('Средний срок продажи в днях', data['days_exposition'].mean())"
   ]
  },
  {
   "cell_type": "markdown",
   "metadata": {},
   "source": [
    "Минимальный срок продажи 0 дней.\n",
    "\n",
    "Максимальный срок продажи 1618 дней (4 с половиной года).\n",
    "\n",
    "Медианный срок продажи 94 дня.\n",
    "\n",
    "Средний срок продажи 185 дней (полгода).\n",
    "\n",
    "\n",
    "Все вышеприведённые значения не противоречат здравому смыслу - продажа в день подачи объявления возможна, но такое происходит редко; объявления о продаже картир также могут висеть годами - тоже бывает; медианный срок - 3 месяца - нормальное значение; средний срок продажи 185 дней - значение больше медианного в два раза, означает то, что достаточно большое число квартир продавалось сильно дольше медианного. \n",
    "\n",
    "Необычно выглядит распределение сроков продажи. Медианное и среднее значения не выделяются на гистограмме пиками (пик на медианной), но вокруг медианного нет \"склонов горы\", скорее это совпадение медианного с типичным сроком договора, например.\n",
    "\n",
    "Помимо этих значений, гистограмма показывает самые популярные сроки продажи квартир, резко выделяющиеся по своей популярности - 45, 60, 90 дней. Можно предположить, что это типичные сроки договоров с агентствами.\n",
    "\n",
    "\n",
    "Рассмотрим крайние значения подробнее."
   ]
  },
  {
   "cell_type": "code",
   "execution_count": 34,
   "metadata": {},
   "outputs": [
    {
     "data": {
      "text/html": [
       "<div>\n",
       "<style scoped>\n",
       "    .dataframe tbody tr th:only-of-type {\n",
       "        vertical-align: middle;\n",
       "    }\n",
       "\n",
       "    .dataframe tbody tr th {\n",
       "        vertical-align: top;\n",
       "    }\n",
       "\n",
       "    .dataframe thead th {\n",
       "        text-align: right;\n",
       "    }\n",
       "</style>\n",
       "<table border=\"1\" class=\"dataframe\">\n",
       "  <thead>\n",
       "    <tr style=\"text-align: right;\">\n",
       "      <th></th>\n",
       "      <th>total_images</th>\n",
       "      <th>last_price</th>\n",
       "      <th>total_area</th>\n",
       "      <th>first_day_exposition</th>\n",
       "      <th>rooms</th>\n",
       "      <th>ceiling_height</th>\n",
       "      <th>floors_total</th>\n",
       "      <th>living_area</th>\n",
       "      <th>floor</th>\n",
       "      <th>is_apartment</th>\n",
       "      <th>...</th>\n",
       "      <th>parks_around3000</th>\n",
       "      <th>parks_nearest</th>\n",
       "      <th>ponds_around3000</th>\n",
       "      <th>ponds_nearest</th>\n",
       "      <th>days_exposition</th>\n",
       "      <th>weekday_exposition</th>\n",
       "      <th>sq_m_price</th>\n",
       "      <th>living_vs_total</th>\n",
       "      <th>kitchen_vs_total</th>\n",
       "      <th>floor_sort</th>\n",
       "    </tr>\n",
       "  </thead>\n",
       "  <tbody>\n",
       "    <tr>\n",
       "      <td>2178</td>\n",
       "      <td>10</td>\n",
       "      <td>5.1</td>\n",
       "      <td>51.00</td>\n",
       "      <td>2019-05-03</td>\n",
       "      <td>1</td>\n",
       "      <td>2.65</td>\n",
       "      <td>9.0</td>\n",
       "      <td>15.00</td>\n",
       "      <td>2</td>\n",
       "      <td>False</td>\n",
       "      <td>...</td>\n",
       "      <td>0</td>\n",
       "      <td>0.5</td>\n",
       "      <td>0</td>\n",
       "      <td>0.5</td>\n",
       "      <td>0.0</td>\n",
       "      <td>4</td>\n",
       "      <td>0.100000</td>\n",
       "      <td>0.294118</td>\n",
       "      <td>0.490196</td>\n",
       "      <td>другой</td>\n",
       "    </tr>\n",
       "    <tr>\n",
       "      <td>3254</td>\n",
       "      <td>16</td>\n",
       "      <td>8.8</td>\n",
       "      <td>80.00</td>\n",
       "      <td>2019-05-03</td>\n",
       "      <td>3</td>\n",
       "      <td>2.80</td>\n",
       "      <td>17.0</td>\n",
       "      <td>31.00</td>\n",
       "      <td>15</td>\n",
       "      <td>False</td>\n",
       "      <td>...</td>\n",
       "      <td>0</td>\n",
       "      <td>0.5</td>\n",
       "      <td>0</td>\n",
       "      <td>0.5</td>\n",
       "      <td>0.0</td>\n",
       "      <td>4</td>\n",
       "      <td>0.110000</td>\n",
       "      <td>0.387500</td>\n",
       "      <td>0.337500</td>\n",
       "      <td>другой</td>\n",
       "    </tr>\n",
       "    <tr>\n",
       "      <td>4450</td>\n",
       "      <td>13</td>\n",
       "      <td>3.5</td>\n",
       "      <td>34.60</td>\n",
       "      <td>2019-05-03</td>\n",
       "      <td>1</td>\n",
       "      <td>2.50</td>\n",
       "      <td>5.0</td>\n",
       "      <td>19.40</td>\n",
       "      <td>3</td>\n",
       "      <td>False</td>\n",
       "      <td>...</td>\n",
       "      <td>1</td>\n",
       "      <td>0.4</td>\n",
       "      <td>0</td>\n",
       "      <td>0.5</td>\n",
       "      <td>0.0</td>\n",
       "      <td>4</td>\n",
       "      <td>0.101156</td>\n",
       "      <td>0.560694</td>\n",
       "      <td>0.210983</td>\n",
       "      <td>другой</td>\n",
       "    </tr>\n",
       "    <tr>\n",
       "      <td>5986</td>\n",
       "      <td>0</td>\n",
       "      <td>5.0</td>\n",
       "      <td>48.00</td>\n",
       "      <td>2019-05-03</td>\n",
       "      <td>3</td>\n",
       "      <td>2.50</td>\n",
       "      <td>9.0</td>\n",
       "      <td>27.00</td>\n",
       "      <td>2</td>\n",
       "      <td>False</td>\n",
       "      <td>...</td>\n",
       "      <td>0</td>\n",
       "      <td>0.5</td>\n",
       "      <td>0</td>\n",
       "      <td>0.5</td>\n",
       "      <td>0.0</td>\n",
       "      <td>4</td>\n",
       "      <td>0.104167</td>\n",
       "      <td>0.562500</td>\n",
       "      <td>0.197917</td>\n",
       "      <td>другой</td>\n",
       "    </tr>\n",
       "    <tr>\n",
       "      <td>8170</td>\n",
       "      <td>4</td>\n",
       "      <td>3.3</td>\n",
       "      <td>38.19</td>\n",
       "      <td>2019-05-03</td>\n",
       "      <td>1</td>\n",
       "      <td>2.65</td>\n",
       "      <td>6.0</td>\n",
       "      <td>14.41</td>\n",
       "      <td>4</td>\n",
       "      <td>False</td>\n",
       "      <td>...</td>\n",
       "      <td>0</td>\n",
       "      <td>0.5</td>\n",
       "      <td>0</td>\n",
       "      <td>0.5</td>\n",
       "      <td>0.0</td>\n",
       "      <td>4</td>\n",
       "      <td>0.086410</td>\n",
       "      <td>0.377324</td>\n",
       "      <td>0.268657</td>\n",
       "      <td>другой</td>\n",
       "    </tr>\n",
       "    <tr>\n",
       "      <td>9217</td>\n",
       "      <td>7</td>\n",
       "      <td>4.3</td>\n",
       "      <td>35.70</td>\n",
       "      <td>2019-05-03</td>\n",
       "      <td>1</td>\n",
       "      <td>2.70</td>\n",
       "      <td>21.0</td>\n",
       "      <td>15.00</td>\n",
       "      <td>12</td>\n",
       "      <td>False</td>\n",
       "      <td>...</td>\n",
       "      <td>0</td>\n",
       "      <td>0.5</td>\n",
       "      <td>0</td>\n",
       "      <td>0.5</td>\n",
       "      <td>0.0</td>\n",
       "      <td>4</td>\n",
       "      <td>0.120448</td>\n",
       "      <td>0.420168</td>\n",
       "      <td>0.364146</td>\n",
       "      <td>другой</td>\n",
       "    </tr>\n",
       "    <tr>\n",
       "      <td>10917</td>\n",
       "      <td>20</td>\n",
       "      <td>10.0</td>\n",
       "      <td>62.30</td>\n",
       "      <td>2019-05-03</td>\n",
       "      <td>2</td>\n",
       "      <td>2.65</td>\n",
       "      <td>6.0</td>\n",
       "      <td>20.00</td>\n",
       "      <td>3</td>\n",
       "      <td>False</td>\n",
       "      <td>...</td>\n",
       "      <td>2</td>\n",
       "      <td>0.6</td>\n",
       "      <td>0</td>\n",
       "      <td>0.5</td>\n",
       "      <td>0.0</td>\n",
       "      <td>4</td>\n",
       "      <td>0.160514</td>\n",
       "      <td>0.321027</td>\n",
       "      <td>0.481541</td>\n",
       "      <td>другой</td>\n",
       "    </tr>\n",
       "    <tr>\n",
       "      <td>12003</td>\n",
       "      <td>10</td>\n",
       "      <td>1.0</td>\n",
       "      <td>37.10</td>\n",
       "      <td>2019-05-03</td>\n",
       "      <td>1</td>\n",
       "      <td>2.65</td>\n",
       "      <td>4.0</td>\n",
       "      <td>17.00</td>\n",
       "      <td>4</td>\n",
       "      <td>False</td>\n",
       "      <td>...</td>\n",
       "      <td>0</td>\n",
       "      <td>0.5</td>\n",
       "      <td>0</td>\n",
       "      <td>0.5</td>\n",
       "      <td>0.0</td>\n",
       "      <td>4</td>\n",
       "      <td>0.026954</td>\n",
       "      <td>0.458221</td>\n",
       "      <td>0.226415</td>\n",
       "      <td>последний</td>\n",
       "    </tr>\n",
       "    <tr>\n",
       "      <td>12208</td>\n",
       "      <td>7</td>\n",
       "      <td>9.0</td>\n",
       "      <td>60.30</td>\n",
       "      <td>2019-05-03</td>\n",
       "      <td>2</td>\n",
       "      <td>3.25</td>\n",
       "      <td>5.0</td>\n",
       "      <td>36.90</td>\n",
       "      <td>4</td>\n",
       "      <td>False</td>\n",
       "      <td>...</td>\n",
       "      <td>1</td>\n",
       "      <td>0.4</td>\n",
       "      <td>0</td>\n",
       "      <td>0.5</td>\n",
       "      <td>0.0</td>\n",
       "      <td>4</td>\n",
       "      <td>0.149254</td>\n",
       "      <td>0.611940</td>\n",
       "      <td>0.096186</td>\n",
       "      <td>другой</td>\n",
       "    </tr>\n",
       "    <tr>\n",
       "      <td>12343</td>\n",
       "      <td>12</td>\n",
       "      <td>2.9</td>\n",
       "      <td>48.80</td>\n",
       "      <td>2019-05-03</td>\n",
       "      <td>2</td>\n",
       "      <td>2.55</td>\n",
       "      <td>5.0</td>\n",
       "      <td>29.40</td>\n",
       "      <td>1</td>\n",
       "      <td>False</td>\n",
       "      <td>...</td>\n",
       "      <td>0</td>\n",
       "      <td>0.5</td>\n",
       "      <td>0</td>\n",
       "      <td>0.5</td>\n",
       "      <td>0.0</td>\n",
       "      <td>4</td>\n",
       "      <td>0.059426</td>\n",
       "      <td>0.602459</td>\n",
       "      <td>0.147541</td>\n",
       "      <td>первый</td>\n",
       "    </tr>\n",
       "  </tbody>\n",
       "</table>\n",
       "<p>10 rows × 27 columns</p>\n",
       "</div>"
      ],
      "text/plain": [
       "       total_images  last_price  total_area first_day_exposition  rooms  \\\n",
       "2178             10         5.1       51.00           2019-05-03      1   \n",
       "3254             16         8.8       80.00           2019-05-03      3   \n",
       "4450             13         3.5       34.60           2019-05-03      1   \n",
       "5986              0         5.0       48.00           2019-05-03      3   \n",
       "8170              4         3.3       38.19           2019-05-03      1   \n",
       "9217              7         4.3       35.70           2019-05-03      1   \n",
       "10917            20        10.0       62.30           2019-05-03      2   \n",
       "12003            10         1.0       37.10           2019-05-03      1   \n",
       "12208             7         9.0       60.30           2019-05-03      2   \n",
       "12343            12         2.9       48.80           2019-05-03      2   \n",
       "\n",
       "       ceiling_height  floors_total  living_area  floor  is_apartment  ...  \\\n",
       "2178             2.65           9.0        15.00      2         False  ...   \n",
       "3254             2.80          17.0        31.00     15         False  ...   \n",
       "4450             2.50           5.0        19.40      3         False  ...   \n",
       "5986             2.50           9.0        27.00      2         False  ...   \n",
       "8170             2.65           6.0        14.41      4         False  ...   \n",
       "9217             2.70          21.0        15.00     12         False  ...   \n",
       "10917            2.65           6.0        20.00      3         False  ...   \n",
       "12003            2.65           4.0        17.00      4         False  ...   \n",
       "12208            3.25           5.0        36.90      4         False  ...   \n",
       "12343            2.55           5.0        29.40      1         False  ...   \n",
       "\n",
       "       parks_around3000  parks_nearest  ponds_around3000  ponds_nearest  \\\n",
       "2178                  0            0.5                 0            0.5   \n",
       "3254                  0            0.5                 0            0.5   \n",
       "4450                  1            0.4                 0            0.5   \n",
       "5986                  0            0.5                 0            0.5   \n",
       "8170                  0            0.5                 0            0.5   \n",
       "9217                  0            0.5                 0            0.5   \n",
       "10917                 2            0.6                 0            0.5   \n",
       "12003                 0            0.5                 0            0.5   \n",
       "12208                 1            0.4                 0            0.5   \n",
       "12343                 0            0.5                 0            0.5   \n",
       "\n",
       "      days_exposition  weekday_exposition  sq_m_price  living_vs_total  \\\n",
       "2178              0.0                   4    0.100000         0.294118   \n",
       "3254              0.0                   4    0.110000         0.387500   \n",
       "4450              0.0                   4    0.101156         0.560694   \n",
       "5986              0.0                   4    0.104167         0.562500   \n",
       "8170              0.0                   4    0.086410         0.377324   \n",
       "9217              0.0                   4    0.120448         0.420168   \n",
       "10917             0.0                   4    0.160514         0.321027   \n",
       "12003             0.0                   4    0.026954         0.458221   \n",
       "12208             0.0                   4    0.149254         0.611940   \n",
       "12343             0.0                   4    0.059426         0.602459   \n",
       "\n",
       "       kitchen_vs_total  floor_sort  \n",
       "2178           0.490196      другой  \n",
       "3254           0.337500      другой  \n",
       "4450           0.210983      другой  \n",
       "5986           0.197917      другой  \n",
       "8170           0.268657      другой  \n",
       "9217           0.364146      другой  \n",
       "10917          0.481541      другой  \n",
       "12003          0.226415   последний  \n",
       "12208          0.096186      другой  \n",
       "12343          0.147541      первый  \n",
       "\n",
       "[10 rows x 27 columns]"
      ]
     },
     "metadata": {},
     "output_type": "display_data"
    },
    {
     "name": "stdout",
     "output_type": "stream",
     "text": [
      "Количество квартир, проданных в день подачи объявления: 20\n"
     ]
    },
    {
     "data": {
      "text/html": [
       "<div>\n",
       "<style scoped>\n",
       "    .dataframe tbody tr th:only-of-type {\n",
       "        vertical-align: middle;\n",
       "    }\n",
       "\n",
       "    .dataframe tbody tr th {\n",
       "        vertical-align: top;\n",
       "    }\n",
       "\n",
       "    .dataframe thead th {\n",
       "        text-align: right;\n",
       "    }\n",
       "</style>\n",
       "<table border=\"1\" class=\"dataframe\">\n",
       "  <thead>\n",
       "    <tr style=\"text-align: right;\">\n",
       "      <th></th>\n",
       "      <th>total_images</th>\n",
       "      <th>last_price</th>\n",
       "      <th>total_area</th>\n",
       "      <th>first_day_exposition</th>\n",
       "      <th>rooms</th>\n",
       "      <th>ceiling_height</th>\n",
       "      <th>floors_total</th>\n",
       "      <th>living_area</th>\n",
       "      <th>floor</th>\n",
       "      <th>is_apartment</th>\n",
       "      <th>...</th>\n",
       "      <th>parks_around3000</th>\n",
       "      <th>parks_nearest</th>\n",
       "      <th>ponds_around3000</th>\n",
       "      <th>ponds_nearest</th>\n",
       "      <th>days_exposition</th>\n",
       "      <th>weekday_exposition</th>\n",
       "      <th>sq_m_price</th>\n",
       "      <th>living_vs_total</th>\n",
       "      <th>kitchen_vs_total</th>\n",
       "      <th>floor_sort</th>\n",
       "    </tr>\n",
       "  </thead>\n",
       "  <tbody>\n",
       "    <tr>\n",
       "      <td>2</td>\n",
       "      <td>10</td>\n",
       "      <td>5.2</td>\n",
       "      <td>56.0</td>\n",
       "      <td>2015-08-20</td>\n",
       "      <td>2</td>\n",
       "      <td>2.65</td>\n",
       "      <td>5.0</td>\n",
       "      <td>34.3</td>\n",
       "      <td>4</td>\n",
       "      <td>False</td>\n",
       "      <td>...</td>\n",
       "      <td>1</td>\n",
       "      <td>0.1</td>\n",
       "      <td>2</td>\n",
       "      <td>0.6</td>\n",
       "      <td>558.0</td>\n",
       "      <td>3</td>\n",
       "      <td>0.092857</td>\n",
       "      <td>0.612500</td>\n",
       "      <td>0.148214</td>\n",
       "      <td>другой</td>\n",
       "    </tr>\n",
       "    <tr>\n",
       "      <td>3</td>\n",
       "      <td>0</td>\n",
       "      <td>64.9</td>\n",
       "      <td>159.0</td>\n",
       "      <td>2015-07-24</td>\n",
       "      <td>3</td>\n",
       "      <td>2.65</td>\n",
       "      <td>14.0</td>\n",
       "      <td>95.0</td>\n",
       "      <td>9</td>\n",
       "      <td>False</td>\n",
       "      <td>...</td>\n",
       "      <td>2</td>\n",
       "      <td>0.1</td>\n",
       "      <td>3</td>\n",
       "      <td>0.2</td>\n",
       "      <td>424.0</td>\n",
       "      <td>4</td>\n",
       "      <td>0.408176</td>\n",
       "      <td>0.597484</td>\n",
       "      <td>0.059748</td>\n",
       "      <td>другой</td>\n",
       "    </tr>\n",
       "    <tr>\n",
       "      <td>13</td>\n",
       "      <td>20</td>\n",
       "      <td>3.6</td>\n",
       "      <td>42.8</td>\n",
       "      <td>2017-07-01</td>\n",
       "      <td>2</td>\n",
       "      <td>2.56</td>\n",
       "      <td>5.0</td>\n",
       "      <td>27.0</td>\n",
       "      <td>5</td>\n",
       "      <td>False</td>\n",
       "      <td>...</td>\n",
       "      <td>1</td>\n",
       "      <td>0.3</td>\n",
       "      <td>3</td>\n",
       "      <td>0.3</td>\n",
       "      <td>366.0</td>\n",
       "      <td>5</td>\n",
       "      <td>0.084112</td>\n",
       "      <td>0.630841</td>\n",
       "      <td>0.121495</td>\n",
       "      <td>последний</td>\n",
       "    </tr>\n",
       "    <tr>\n",
       "      <td>16</td>\n",
       "      <td>11</td>\n",
       "      <td>6.7</td>\n",
       "      <td>82.0</td>\n",
       "      <td>2017-11-23</td>\n",
       "      <td>3</td>\n",
       "      <td>3.05</td>\n",
       "      <td>5.0</td>\n",
       "      <td>55.6</td>\n",
       "      <td>1</td>\n",
       "      <td>False</td>\n",
       "      <td>...</td>\n",
       "      <td>3</td>\n",
       "      <td>0.4</td>\n",
       "      <td>0</td>\n",
       "      <td>0.5</td>\n",
       "      <td>397.0</td>\n",
       "      <td>3</td>\n",
       "      <td>0.081707</td>\n",
       "      <td>0.678049</td>\n",
       "      <td>0.109756</td>\n",
       "      <td>первый</td>\n",
       "    </tr>\n",
       "    <tr>\n",
       "      <td>17</td>\n",
       "      <td>6</td>\n",
       "      <td>4.2</td>\n",
       "      <td>36.0</td>\n",
       "      <td>2016-09-09</td>\n",
       "      <td>1</td>\n",
       "      <td>2.65</td>\n",
       "      <td>17.0</td>\n",
       "      <td>16.5</td>\n",
       "      <td>7</td>\n",
       "      <td>False</td>\n",
       "      <td>...</td>\n",
       "      <td>0</td>\n",
       "      <td>0.5</td>\n",
       "      <td>1</td>\n",
       "      <td>0.9</td>\n",
       "      <td>571.0</td>\n",
       "      <td>4</td>\n",
       "      <td>0.116667</td>\n",
       "      <td>0.458333</td>\n",
       "      <td>0.305556</td>\n",
       "      <td>другой</td>\n",
       "    </tr>\n",
       "    <tr>\n",
       "      <td>23</td>\n",
       "      <td>11</td>\n",
       "      <td>3.0</td>\n",
       "      <td>32.0</td>\n",
       "      <td>2016-10-29</td>\n",
       "      <td>1</td>\n",
       "      <td>2.60</td>\n",
       "      <td>9.0</td>\n",
       "      <td>17.7</td>\n",
       "      <td>9</td>\n",
       "      <td>False</td>\n",
       "      <td>...</td>\n",
       "      <td>2</td>\n",
       "      <td>0.5</td>\n",
       "      <td>1</td>\n",
       "      <td>0.2</td>\n",
       "      <td>615.0</td>\n",
       "      <td>5</td>\n",
       "      <td>0.093750</td>\n",
       "      <td>0.553125</td>\n",
       "      <td>0.190625</td>\n",
       "      <td>последний</td>\n",
       "    </tr>\n",
       "    <tr>\n",
       "      <td>35</td>\n",
       "      <td>6</td>\n",
       "      <td>15.5</td>\n",
       "      <td>149.0</td>\n",
       "      <td>2017-06-26</td>\n",
       "      <td>5</td>\n",
       "      <td>2.65</td>\n",
       "      <td>5.0</td>\n",
       "      <td>104.0</td>\n",
       "      <td>4</td>\n",
       "      <td>False</td>\n",
       "      <td>...</td>\n",
       "      <td>0</td>\n",
       "      <td>0.5</td>\n",
       "      <td>1</td>\n",
       "      <td>0.8</td>\n",
       "      <td>644.0</td>\n",
       "      <td>0</td>\n",
       "      <td>0.104027</td>\n",
       "      <td>0.697987</td>\n",
       "      <td>0.114094</td>\n",
       "      <td>другой</td>\n",
       "    </tr>\n",
       "    <tr>\n",
       "      <td>40</td>\n",
       "      <td>9</td>\n",
       "      <td>3.6</td>\n",
       "      <td>36.0</td>\n",
       "      <td>2017-03-15</td>\n",
       "      <td>1</td>\n",
       "      <td>2.60</td>\n",
       "      <td>26.0</td>\n",
       "      <td>15.0</td>\n",
       "      <td>22</td>\n",
       "      <td>False</td>\n",
       "      <td>...</td>\n",
       "      <td>0</td>\n",
       "      <td>0.5</td>\n",
       "      <td>0</td>\n",
       "      <td>0.6</td>\n",
       "      <td>430.0</td>\n",
       "      <td>2</td>\n",
       "      <td>0.100000</td>\n",
       "      <td>0.416667</td>\n",
       "      <td>0.277778</td>\n",
       "      <td>другой</td>\n",
       "    </tr>\n",
       "    <tr>\n",
       "      <td>42</td>\n",
       "      <td>13</td>\n",
       "      <td>22.0</td>\n",
       "      <td>161.8</td>\n",
       "      <td>2015-07-08</td>\n",
       "      <td>4</td>\n",
       "      <td>2.80</td>\n",
       "      <td>4.0</td>\n",
       "      <td>80.9</td>\n",
       "      <td>2</td>\n",
       "      <td>False</td>\n",
       "      <td>...</td>\n",
       "      <td>2</td>\n",
       "      <td>0.0</td>\n",
       "      <td>1</td>\n",
       "      <td>0.9</td>\n",
       "      <td>987.0</td>\n",
       "      <td>2</td>\n",
       "      <td>0.135970</td>\n",
       "      <td>0.500000</td>\n",
       "      <td>0.108776</td>\n",
       "      <td>другой</td>\n",
       "    </tr>\n",
       "    <tr>\n",
       "      <td>43</td>\n",
       "      <td>13</td>\n",
       "      <td>9.3</td>\n",
       "      <td>48.0</td>\n",
       "      <td>2017-01-10</td>\n",
       "      <td>2</td>\n",
       "      <td>3.00</td>\n",
       "      <td>4.0</td>\n",
       "      <td>28.0</td>\n",
       "      <td>4</td>\n",
       "      <td>False</td>\n",
       "      <td>...</td>\n",
       "      <td>0</td>\n",
       "      <td>0.5</td>\n",
       "      <td>1</td>\n",
       "      <td>0.5</td>\n",
       "      <td>763.0</td>\n",
       "      <td>1</td>\n",
       "      <td>0.193750</td>\n",
       "      <td>0.583333</td>\n",
       "      <td>0.156250</td>\n",
       "      <td>последний</td>\n",
       "    </tr>\n",
       "  </tbody>\n",
       "</table>\n",
       "<p>10 rows × 27 columns</p>\n",
       "</div>"
      ],
      "text/plain": [
       "    total_images  last_price  total_area first_day_exposition  rooms  \\\n",
       "2             10         5.2        56.0           2015-08-20      2   \n",
       "3              0        64.9       159.0           2015-07-24      3   \n",
       "13            20         3.6        42.8           2017-07-01      2   \n",
       "16            11         6.7        82.0           2017-11-23      3   \n",
       "17             6         4.2        36.0           2016-09-09      1   \n",
       "23            11         3.0        32.0           2016-10-29      1   \n",
       "35             6        15.5       149.0           2017-06-26      5   \n",
       "40             9         3.6        36.0           2017-03-15      1   \n",
       "42            13        22.0       161.8           2015-07-08      4   \n",
       "43            13         9.3        48.0           2017-01-10      2   \n",
       "\n",
       "    ceiling_height  floors_total  living_area  floor  is_apartment  ...  \\\n",
       "2             2.65           5.0         34.3      4         False  ...   \n",
       "3             2.65          14.0         95.0      9         False  ...   \n",
       "13            2.56           5.0         27.0      5         False  ...   \n",
       "16            3.05           5.0         55.6      1         False  ...   \n",
       "17            2.65          17.0         16.5      7         False  ...   \n",
       "23            2.60           9.0         17.7      9         False  ...   \n",
       "35            2.65           5.0        104.0      4         False  ...   \n",
       "40            2.60          26.0         15.0     22         False  ...   \n",
       "42            2.80           4.0         80.9      2         False  ...   \n",
       "43            3.00           4.0         28.0      4         False  ...   \n",
       "\n",
       "    parks_around3000  parks_nearest  ponds_around3000  ponds_nearest  \\\n",
       "2                  1            0.1                 2            0.6   \n",
       "3                  2            0.1                 3            0.2   \n",
       "13                 1            0.3                 3            0.3   \n",
       "16                 3            0.4                 0            0.5   \n",
       "17                 0            0.5                 1            0.9   \n",
       "23                 2            0.5                 1            0.2   \n",
       "35                 0            0.5                 1            0.8   \n",
       "40                 0            0.5                 0            0.6   \n",
       "42                 2            0.0                 1            0.9   \n",
       "43                 0            0.5                 1            0.5   \n",
       "\n",
       "   days_exposition  weekday_exposition  sq_m_price  living_vs_total  \\\n",
       "2            558.0                   3    0.092857         0.612500   \n",
       "3            424.0                   4    0.408176         0.597484   \n",
       "13           366.0                   5    0.084112         0.630841   \n",
       "16           397.0                   3    0.081707         0.678049   \n",
       "17           571.0                   4    0.116667         0.458333   \n",
       "23           615.0                   5    0.093750         0.553125   \n",
       "35           644.0                   0    0.104027         0.697987   \n",
       "40           430.0                   2    0.100000         0.416667   \n",
       "42           987.0                   2    0.135970         0.500000   \n",
       "43           763.0                   1    0.193750         0.583333   \n",
       "\n",
       "    kitchen_vs_total  floor_sort  \n",
       "2           0.148214      другой  \n",
       "3           0.059748      другой  \n",
       "13          0.121495   последний  \n",
       "16          0.109756      первый  \n",
       "17          0.305556      другой  \n",
       "23          0.190625   последний  \n",
       "35          0.114094      другой  \n",
       "40          0.277778      другой  \n",
       "42          0.108776      другой  \n",
       "43          0.156250   последний  \n",
       "\n",
       "[10 rows x 27 columns]"
      ]
     },
     "metadata": {},
     "output_type": "display_data"
    },
    {
     "name": "stdout",
     "output_type": "stream",
     "text": [
      "Количество квартир, продававшихся более 1 года: 3691\n"
     ]
    },
    {
     "data": {
      "text/html": [
       "<div>\n",
       "<style scoped>\n",
       "    .dataframe tbody tr th:only-of-type {\n",
       "        vertical-align: middle;\n",
       "    }\n",
       "\n",
       "    .dataframe tbody tr th {\n",
       "        vertical-align: top;\n",
       "    }\n",
       "\n",
       "    .dataframe thead th {\n",
       "        text-align: right;\n",
       "    }\n",
       "</style>\n",
       "<table border=\"1\" class=\"dataframe\">\n",
       "  <thead>\n",
       "    <tr style=\"text-align: right;\">\n",
       "      <th></th>\n",
       "      <th>total_images</th>\n",
       "      <th>last_price</th>\n",
       "      <th>total_area</th>\n",
       "      <th>first_day_exposition</th>\n",
       "      <th>rooms</th>\n",
       "      <th>ceiling_height</th>\n",
       "      <th>floors_total</th>\n",
       "      <th>living_area</th>\n",
       "      <th>floor</th>\n",
       "      <th>is_apartment</th>\n",
       "      <th>...</th>\n",
       "      <th>parks_around3000</th>\n",
       "      <th>parks_nearest</th>\n",
       "      <th>ponds_around3000</th>\n",
       "      <th>ponds_nearest</th>\n",
       "      <th>days_exposition</th>\n",
       "      <th>weekday_exposition</th>\n",
       "      <th>sq_m_price</th>\n",
       "      <th>living_vs_total</th>\n",
       "      <th>kitchen_vs_total</th>\n",
       "      <th>floor_sort</th>\n",
       "    </tr>\n",
       "  </thead>\n",
       "  <tbody>\n",
       "    <tr>\n",
       "      <td>42</td>\n",
       "      <td>13</td>\n",
       "      <td>22.0</td>\n",
       "      <td>161.8</td>\n",
       "      <td>2015-07-08</td>\n",
       "      <td>4</td>\n",
       "      <td>2.80</td>\n",
       "      <td>4.0</td>\n",
       "      <td>80.9</td>\n",
       "      <td>2</td>\n",
       "      <td>False</td>\n",
       "      <td>...</td>\n",
       "      <td>2</td>\n",
       "      <td>0.0</td>\n",
       "      <td>1</td>\n",
       "      <td>0.9</td>\n",
       "      <td>987.0</td>\n",
       "      <td>2</td>\n",
       "      <td>0.135970</td>\n",
       "      <td>0.500000</td>\n",
       "      <td>0.108776</td>\n",
       "      <td>другой</td>\n",
       "    </tr>\n",
       "    <tr>\n",
       "      <td>43</td>\n",
       "      <td>13</td>\n",
       "      <td>9.3</td>\n",
       "      <td>48.0</td>\n",
       "      <td>2017-01-10</td>\n",
       "      <td>2</td>\n",
       "      <td>3.00</td>\n",
       "      <td>4.0</td>\n",
       "      <td>28.0</td>\n",
       "      <td>4</td>\n",
       "      <td>False</td>\n",
       "      <td>...</td>\n",
       "      <td>0</td>\n",
       "      <td>0.5</td>\n",
       "      <td>1</td>\n",
       "      <td>0.5</td>\n",
       "      <td>763.0</td>\n",
       "      <td>1</td>\n",
       "      <td>0.193750</td>\n",
       "      <td>0.583333</td>\n",
       "      <td>0.156250</td>\n",
       "      <td>последний</td>\n",
       "    </tr>\n",
       "    <tr>\n",
       "      <td>98</td>\n",
       "      <td>11</td>\n",
       "      <td>11.7</td>\n",
       "      <td>80.0</td>\n",
       "      <td>2014-12-10</td>\n",
       "      <td>3</td>\n",
       "      <td>2.65</td>\n",
       "      <td>5.0</td>\n",
       "      <td>55.1</td>\n",
       "      <td>3</td>\n",
       "      <td>False</td>\n",
       "      <td>...</td>\n",
       "      <td>1</td>\n",
       "      <td>0.7</td>\n",
       "      <td>0</td>\n",
       "      <td>0.5</td>\n",
       "      <td>831.0</td>\n",
       "      <td>2</td>\n",
       "      <td>0.146250</td>\n",
       "      <td>0.688750</td>\n",
       "      <td>0.137500</td>\n",
       "      <td>другой</td>\n",
       "    </tr>\n",
       "    <tr>\n",
       "      <td>109</td>\n",
       "      <td>2</td>\n",
       "      <td>7.5</td>\n",
       "      <td>62.5</td>\n",
       "      <td>2015-12-08</td>\n",
       "      <td>2</td>\n",
       "      <td>2.65</td>\n",
       "      <td>5.0</td>\n",
       "      <td>35.5</td>\n",
       "      <td>5</td>\n",
       "      <td>False</td>\n",
       "      <td>...</td>\n",
       "      <td>1</td>\n",
       "      <td>0.5</td>\n",
       "      <td>0</td>\n",
       "      <td>0.5</td>\n",
       "      <td>1048.0</td>\n",
       "      <td>1</td>\n",
       "      <td>0.120000</td>\n",
       "      <td>0.568000</td>\n",
       "      <td>0.152000</td>\n",
       "      <td>последний</td>\n",
       "    </tr>\n",
       "    <tr>\n",
       "      <td>145</td>\n",
       "      <td>6</td>\n",
       "      <td>8.3</td>\n",
       "      <td>77.0</td>\n",
       "      <td>2015-09-21</td>\n",
       "      <td>2</td>\n",
       "      <td>2.77</td>\n",
       "      <td>16.0</td>\n",
       "      <td>40.0</td>\n",
       "      <td>5</td>\n",
       "      <td>False</td>\n",
       "      <td>...</td>\n",
       "      <td>0</td>\n",
       "      <td>0.5</td>\n",
       "      <td>1</td>\n",
       "      <td>0.3</td>\n",
       "      <td>807.0</td>\n",
       "      <td>0</td>\n",
       "      <td>0.107792</td>\n",
       "      <td>0.519481</td>\n",
       "      <td>0.129870</td>\n",
       "      <td>другой</td>\n",
       "    </tr>\n",
       "  </tbody>\n",
       "</table>\n",
       "<p>5 rows × 27 columns</p>\n",
       "</div>"
      ],
      "text/plain": [
       "     total_images  last_price  total_area first_day_exposition  rooms  \\\n",
       "42             13        22.0       161.8           2015-07-08      4   \n",
       "43             13         9.3        48.0           2017-01-10      2   \n",
       "98             11        11.7        80.0           2014-12-10      3   \n",
       "109             2         7.5        62.5           2015-12-08      2   \n",
       "145             6         8.3        77.0           2015-09-21      2   \n",
       "\n",
       "     ceiling_height  floors_total  living_area  floor  is_apartment  ...  \\\n",
       "42             2.80           4.0         80.9      2         False  ...   \n",
       "43             3.00           4.0         28.0      4         False  ...   \n",
       "98             2.65           5.0         55.1      3         False  ...   \n",
       "109            2.65           5.0         35.5      5         False  ...   \n",
       "145            2.77          16.0         40.0      5         False  ...   \n",
       "\n",
       "     parks_around3000  parks_nearest  ponds_around3000  ponds_nearest  \\\n",
       "42                  2            0.0                 1            0.9   \n",
       "43                  0            0.5                 1            0.5   \n",
       "98                  1            0.7                 0            0.5   \n",
       "109                 1            0.5                 0            0.5   \n",
       "145                 0            0.5                 1            0.3   \n",
       "\n",
       "    days_exposition  weekday_exposition  sq_m_price  living_vs_total  \\\n",
       "42            987.0                   2    0.135970         0.500000   \n",
       "43            763.0                   1    0.193750         0.583333   \n",
       "98            831.0                   2    0.146250         0.688750   \n",
       "109          1048.0                   1    0.120000         0.568000   \n",
       "145           807.0                   0    0.107792         0.519481   \n",
       "\n",
       "     kitchen_vs_total  floor_sort  \n",
       "42           0.108776      другой  \n",
       "43           0.156250   последний  \n",
       "98           0.137500      другой  \n",
       "109          0.152000   последний  \n",
       "145          0.129870      другой  \n",
       "\n",
       "[5 rows x 27 columns]"
      ]
     },
     "metadata": {},
     "output_type": "display_data"
    },
    {
     "name": "stdout",
     "output_type": "stream",
     "text": [
      "Количество квартир, продававшихся более 2 лет: 959\n"
     ]
    },
    {
     "data": {
      "text/html": [
       "<div>\n",
       "<style scoped>\n",
       "    .dataframe tbody tr th:only-of-type {\n",
       "        vertical-align: middle;\n",
       "    }\n",
       "\n",
       "    .dataframe tbody tr th {\n",
       "        vertical-align: top;\n",
       "    }\n",
       "\n",
       "    .dataframe thead th {\n",
       "        text-align: right;\n",
       "    }\n",
       "</style>\n",
       "<table border=\"1\" class=\"dataframe\">\n",
       "  <thead>\n",
       "    <tr style=\"text-align: right;\">\n",
       "      <th></th>\n",
       "      <th>total_images</th>\n",
       "      <th>last_price</th>\n",
       "      <th>total_area</th>\n",
       "      <th>first_day_exposition</th>\n",
       "      <th>rooms</th>\n",
       "      <th>ceiling_height</th>\n",
       "      <th>floors_total</th>\n",
       "      <th>living_area</th>\n",
       "      <th>floor</th>\n",
       "      <th>is_apartment</th>\n",
       "      <th>...</th>\n",
       "      <th>parks_around3000</th>\n",
       "      <th>parks_nearest</th>\n",
       "      <th>ponds_around3000</th>\n",
       "      <th>ponds_nearest</th>\n",
       "      <th>days_exposition</th>\n",
       "      <th>weekday_exposition</th>\n",
       "      <th>sq_m_price</th>\n",
       "      <th>living_vs_total</th>\n",
       "      <th>kitchen_vs_total</th>\n",
       "      <th>floor_sort</th>\n",
       "    </tr>\n",
       "  </thead>\n",
       "  <tbody>\n",
       "    <tr>\n",
       "      <td>260</td>\n",
       "      <td>8</td>\n",
       "      <td>17.2</td>\n",
       "      <td>102.40</td>\n",
       "      <td>2014-12-09</td>\n",
       "      <td>3</td>\n",
       "      <td>2.65</td>\n",
       "      <td>8.0</td>\n",
       "      <td>53.20</td>\n",
       "      <td>3</td>\n",
       "      <td>False</td>\n",
       "      <td>...</td>\n",
       "      <td>1</td>\n",
       "      <td>0.5</td>\n",
       "      <td>0</td>\n",
       "      <td>0.5</td>\n",
       "      <td>1606.0</td>\n",
       "      <td>1</td>\n",
       "      <td>0.167969</td>\n",
       "      <td>0.519531</td>\n",
       "      <td>0.188477</td>\n",
       "      <td>другой</td>\n",
       "    </tr>\n",
       "    <tr>\n",
       "      <td>957</td>\n",
       "      <td>20</td>\n",
       "      <td>23.0</td>\n",
       "      <td>138.00</td>\n",
       "      <td>2015-02-19</td>\n",
       "      <td>4</td>\n",
       "      <td>3.50</td>\n",
       "      <td>5.0</td>\n",
       "      <td>79.50</td>\n",
       "      <td>2</td>\n",
       "      <td>False</td>\n",
       "      <td>...</td>\n",
       "      <td>1</td>\n",
       "      <td>0.8</td>\n",
       "      <td>0</td>\n",
       "      <td>0.5</td>\n",
       "      <td>1534.0</td>\n",
       "      <td>3</td>\n",
       "      <td>0.166667</td>\n",
       "      <td>0.576087</td>\n",
       "      <td>0.080435</td>\n",
       "      <td>другой</td>\n",
       "    </tr>\n",
       "    <tr>\n",
       "      <td>1109</td>\n",
       "      <td>1</td>\n",
       "      <td>34.9</td>\n",
       "      <td>95.80</td>\n",
       "      <td>2014-12-09</td>\n",
       "      <td>2</td>\n",
       "      <td>2.65</td>\n",
       "      <td>6.0</td>\n",
       "      <td>58.30</td>\n",
       "      <td>5</td>\n",
       "      <td>True</td>\n",
       "      <td>...</td>\n",
       "      <td>2</td>\n",
       "      <td>0.2</td>\n",
       "      <td>3</td>\n",
       "      <td>0.6</td>\n",
       "      <td>1572.0</td>\n",
       "      <td>1</td>\n",
       "      <td>0.364301</td>\n",
       "      <td>0.608559</td>\n",
       "      <td>0.208768</td>\n",
       "      <td>другой</td>\n",
       "    </tr>\n",
       "    <tr>\n",
       "      <td>1885</td>\n",
       "      <td>2</td>\n",
       "      <td>13.3</td>\n",
       "      <td>79.60</td>\n",
       "      <td>2014-12-09</td>\n",
       "      <td>2</td>\n",
       "      <td>3.00</td>\n",
       "      <td>8.0</td>\n",
       "      <td>42.70</td>\n",
       "      <td>7</td>\n",
       "      <td>False</td>\n",
       "      <td>...</td>\n",
       "      <td>1</td>\n",
       "      <td>0.5</td>\n",
       "      <td>0</td>\n",
       "      <td>0.5</td>\n",
       "      <td>1513.0</td>\n",
       "      <td>1</td>\n",
       "      <td>0.167085</td>\n",
       "      <td>0.536432</td>\n",
       "      <td>0.226131</td>\n",
       "      <td>другой</td>\n",
       "    </tr>\n",
       "    <tr>\n",
       "      <td>2814</td>\n",
       "      <td>4</td>\n",
       "      <td>14.5</td>\n",
       "      <td>101.57</td>\n",
       "      <td>2014-12-11</td>\n",
       "      <td>3</td>\n",
       "      <td>3.00</td>\n",
       "      <td>17.0</td>\n",
       "      <td>53.35</td>\n",
       "      <td>3</td>\n",
       "      <td>False</td>\n",
       "      <td>...</td>\n",
       "      <td>2</td>\n",
       "      <td>0.2</td>\n",
       "      <td>3</td>\n",
       "      <td>0.2</td>\n",
       "      <td>1604.0</td>\n",
       "      <td>3</td>\n",
       "      <td>0.142759</td>\n",
       "      <td>0.525254</td>\n",
       "      <td>0.229398</td>\n",
       "      <td>другой</td>\n",
       "    </tr>\n",
       "  </tbody>\n",
       "</table>\n",
       "<p>5 rows × 27 columns</p>\n",
       "</div>"
      ],
      "text/plain": [
       "      total_images  last_price  total_area first_day_exposition  rooms  \\\n",
       "260              8        17.2      102.40           2014-12-09      3   \n",
       "957             20        23.0      138.00           2015-02-19      4   \n",
       "1109             1        34.9       95.80           2014-12-09      2   \n",
       "1885             2        13.3       79.60           2014-12-09      2   \n",
       "2814             4        14.5      101.57           2014-12-11      3   \n",
       "\n",
       "      ceiling_height  floors_total  living_area  floor  is_apartment  ...  \\\n",
       "260             2.65           8.0        53.20      3         False  ...   \n",
       "957             3.50           5.0        79.50      2         False  ...   \n",
       "1109            2.65           6.0        58.30      5          True  ...   \n",
       "1885            3.00           8.0        42.70      7         False  ...   \n",
       "2814            3.00          17.0        53.35      3         False  ...   \n",
       "\n",
       "      parks_around3000  parks_nearest  ponds_around3000  ponds_nearest  \\\n",
       "260                  1            0.5                 0            0.5   \n",
       "957                  1            0.8                 0            0.5   \n",
       "1109                 2            0.2                 3            0.6   \n",
       "1885                 1            0.5                 0            0.5   \n",
       "2814                 2            0.2                 3            0.2   \n",
       "\n",
       "     days_exposition  weekday_exposition  sq_m_price  living_vs_total  \\\n",
       "260           1606.0                   1    0.167969         0.519531   \n",
       "957           1534.0                   3    0.166667         0.576087   \n",
       "1109          1572.0                   1    0.364301         0.608559   \n",
       "1885          1513.0                   1    0.167085         0.536432   \n",
       "2814          1604.0                   3    0.142759         0.525254   \n",
       "\n",
       "      kitchen_vs_total  floor_sort  \n",
       "260           0.188477      другой  \n",
       "957           0.080435      другой  \n",
       "1109          0.208768      другой  \n",
       "1885          0.226131      другой  \n",
       "2814          0.229398      другой  \n",
       "\n",
       "[5 rows x 27 columns]"
      ]
     },
     "metadata": {},
     "output_type": "display_data"
    },
    {
     "name": "stdout",
     "output_type": "stream",
     "text": [
      "Количество квартир, продававшихся более 4 лет: 53\n"
     ]
    }
   ],
   "source": [
    "# самые быстрые и самые медленные продажи\n",
    "\n",
    "display(data.loc[data['days_exposition'] == 0].head(10))\n",
    "print('Количество квартир, проданных в день подачи объявления:', \n",
    "len(data.loc[data['days_exposition'] == 0]))\n",
    "\n",
    "display(data.loc[data['days_exposition'] > 365].head(10))\n",
    "print('Количество квартир, продававшихся более 1 года:', \n",
    "len(data.loc[data['days_exposition'] > 365]))\n",
    "\n",
    "display(data.loc[data['days_exposition'] > 730].head())\n",
    "print('Количество квартир, продававшихся более 2 лет:', \n",
    "len(data.loc[data['days_exposition'] > 730]))\n",
    "\n",
    "display(data.loc[data['days_exposition'] > 1460].head())\n",
    "print('Количество квартир, продававшихся более 4 лет:', \n",
    "len(data.loc[data['days_exposition'] > 1460]))\n"
   ]
  },
  {
   "cell_type": "markdown",
   "metadata": {},
   "source": [
    "В день подачи объявления было продано 20 квартир. Разброс параметров квартир достаточно широкий, но все квартиры были проданы в один и тот же день. Это маловероятно, но не невозможно. Например, это может быть покупка квартир некой организацией под склады, офисы, корпоративные гостиницы, штаб-квартиры и прочее. \n",
    "\n",
    "Число квартир, продававшихся длительное время - 1 год, 2 года и т.д. плавно снижается с увеличением срока сделки. Более 4 лет продавалось 53 квартиры, цена которых заметно выше медианной."
   ]
  },
  {
   "cell_type": "code",
   "execution_count": 35,
   "metadata": {},
   "outputs": [
    {
     "data": {
      "text/plain": [
       "array([[<matplotlib.axes._subplots.AxesSubplot object at 0x7f153d7aa490>]],\n",
       "      dtype=object)"
      ]
     },
     "execution_count": 35,
     "metadata": {},
     "output_type": "execute_result"
    },
    {
     "data": {
      "image/png": "[encoded data removed]",
      "text/plain": [
       "<Figure size 432x288 with 1 Axes>"
      ]
     },
     "metadata": {
      "needs_background": "light"
     },
     "output_type": "display_data"
    }
   ],
   "source": [
    "# гистограмма для всех значений столбца days_exposition\n",
    "data.hist('days_exposition', bins=50, range=(0, 1700))"
   ]
  },
  {
   "cell_type": "code",
   "execution_count": 36,
   "metadata": {},
   "outputs": [
    {
     "name": "stdout",
     "output_type": "stream",
     "text": [
      "Верхняя граница значений в днях, выше которой значения нужно удалять: 528.0\n"
     ]
    },
    {
     "data": {
      "image/png": "[encoded data removed]",
      "text/plain": [
       "<Figure size 432x288 with 1 Axes>"
      ]
     },
     "metadata": {
      "needs_background": "light"
     },
     "output_type": "display_data"
    }
   ],
   "source": [
    "# диаграмма для значений столбца days_exposition\n",
    "import matplotlib.pyplot as plt\n",
    "\n",
    "data.boxplot('days_exposition') \n",
    "plt.ylim(0, 600)\n",
    "\n",
    "# рассчёт верхней границы выбросов значений столбца days_exposition\n",
    "q1 = data['days_exposition'].quantile(0.25)\n",
    "q3 = data['days_exposition'].quantile(0.75)\n",
    "iqr = q3 - q1  \n",
    "print('Верхняя граница значений в днях, выше которой значения нужно удалять:', (q3 + 1.5 * iqr))"
   ]
  },
  {
   "cell_type": "markdown",
   "metadata": {},
   "source": [
    "Можно считать, что: \n",
    "\n",
    "Продажи прошли необычно быстро - несколько дней.\n",
    "\n",
    "Продажи прошли необычно долго - более 528 дней, т.е. выше горизонтальной линии на диаграмме, обозначающей начало значений-выбросов. \n"
   ]
  },
  {
   "cell_type": "markdown",
   "metadata": {},
   "source": [
    "УДАЛЕНИЕ РЕДКИХ И ВЫБИВАЮЩИХСЯ ЗНАЧЕНИЙ "
   ]
  },
  {
   "cell_type": "code",
   "execution_count": 37,
   "metadata": {},
   "outputs": [
    {
     "name": "stdout",
     "output_type": "stream",
     "text": [
      "Нижняя граница значений в миллионах рублей, ниже которой значения нужно удалять: -1.6999999999999997\n",
      "Верхняя граница значений в миллионах рублей, выше которой значения нужно удалять: 11.899999999999999\n"
     ]
    }
   ],
   "source": [
    "# рассчёт верхней границы выбросов значений столбца last_price\n",
    "q1 = data['last_price'].quantile(0.25)\n",
    "q3 = data['last_price'].quantile(0.75)\n",
    "iqr = q3 - q1  \n",
    "print('Нижняя граница значений в миллионах рублей, ниже которой значения нужно удалять:', \n",
    "      (q1 - 1.5 * iqr))  \n",
    "print('Верхняя граница значений в миллионах рублей, выше которой значения нужно удалять:', \n",
    "      (q3 + 1.5 * iqr))"
   ]
  },
  {
   "cell_type": "markdown",
   "metadata": {},
   "source": [
    "last_price / сумма сделки\n",
    "\n",
    "Методом quantile() удалось определить верхнюю границу выбросов - 11,9 млн. рублей. Найденная нижняя граница не имеет смысла, поэтому буду пользоваться значением, которое нашёл ранее - 400 тысяч рублей, или 0,4 млн. рублей."
   ]
  },
  {
   "cell_type": "code",
   "execution_count": 38,
   "metadata": {},
   "outputs": [
    {
     "name": "stdout",
     "output_type": "stream",
     "text": [
      "Нижняя граница значений в кв.метрах, ниже которой значения нужно удалять: -4.8500000000000085\n",
      "Верхняя граница значений в кв.метрах, выше которой значения нужно удалять: 114.75000000000001\n"
     ]
    }
   ],
   "source": [
    "# рассчёт верхней границы выбросов значений столбца total_area\n",
    "q1 = data['total_area'].quantile(0.25)\n",
    "q3 = data['total_area'].quantile(0.75)\n",
    "iqr = q3 - q1  \n",
    "print('Нижняя граница значений в кв.метрах, ниже которой значения нужно удалять:', \n",
    "      (q1 - 1.5 * iqr)) \n",
    "print('Верхняя граница значений в кв.метрах, выше которой значения нужно удалять:', \n",
    "      (q3 + 1.5 * iqr))"
   ]
  },
  {
   "cell_type": "markdown",
   "metadata": {},
   "source": [
    "total_area / общая площадь квартиры\n",
    "\n",
    "За нижнюю границу принимаю найденное ранее значение - минимальная общая площадь квартиры 12.0 кв.метров.\n",
    "Верхняя граница значений в кв.метрах, выше которой значения нужно удалять: 114.75."
   ]
  },
  {
   "cell_type": "code",
   "execution_count": 39,
   "metadata": {},
   "outputs": [
    {
     "name": "stdout",
     "output_type": "stream",
     "text": [
      "Верхняя граница значений в кв.метрах, выше которой значения нужно удалять: 77.85\n"
     ]
    }
   ],
   "source": [
    "# рассчёт верхней границы выбросов значений столбца living_area\n",
    "q1 = data['living_area'].quantile(0.25)\n",
    "q3 = data['living_area'].quantile(0.75)\n",
    "iqr = q3 - q1  \n",
    "print('Верхняя граница значений в кв.метрах, выше которой значения нужно удалять:', \n",
    "      (q3 + 1.5 * iqr))"
   ]
  },
  {
   "cell_type": "markdown",
   "metadata": {},
   "source": [
    "living_area / жилая площадь квартиры\n",
    "\n",
    "За нижнюю границу принимаю найденное ранее значение - минимальная жилая площадь квартиры 2.0 кв.метров.\n",
    "Верхняя граница значений в кв.метрах, выше которой значения нужно удалять: 77.85."
   ]
  },
  {
   "cell_type": "code",
   "execution_count": 40,
   "metadata": {},
   "outputs": [
    {
     "name": "stdout",
     "output_type": "stream",
     "text": [
      "Верхняя граница значений в кв.метрах, выше которой значения нужно удалять: 17.8\n"
     ]
    }
   ],
   "source": [
    "# рассчёт верхней границы выбросов значений столбца kitchen area\n",
    "q1 = data['kitchen_area'].quantile(0.25)\n",
    "q3 = data['kitchen_area'].quantile(0.75)\n",
    "iqr = q3 - q1  \n",
    "print('Верхняя граница значений в кв.метрах, выше которой значения нужно удалять:', \n",
    "      (q3 + 1.5 * iqr))"
   ]
  },
  {
   "cell_type": "markdown",
   "metadata": {},
   "source": [
    "kitchen area / площадь кухни\n",
    "\n",
    "За нижнюю границу принимаю найденное ранее значение - минимальная площадь кухни 1.3 кв.метров.\n",
    "Верхняя граница значений в кв.метрах, выше которой значения нужно удалять: 17.8.\n",
    "\n"
   ]
  },
  {
   "cell_type": "code",
   "execution_count": 41,
   "metadata": {},
   "outputs": [
    {
     "name": "stdout",
     "output_type": "stream",
     "text": [
      "Верхняя граница количества комнат, больше которого значения нужно удалять: 6.0\n"
     ]
    }
   ],
   "source": [
    "# рассчёт верхней границы выбросов значений столбца rooms\n",
    "q1 = data['rooms'].quantile(0.25)\n",
    "q3 = data['rooms'].quantile(0.75)\n",
    "iqr = q3 - q1  \n",
    "print('Верхняя граница количества комнат, больше которого значения нужно удалять:', (q3 + 1.5 * iqr))\n"
   ]
  },
  {
   "cell_type": "markdown",
   "metadata": {},
   "source": [
    "rooms / количество комнат\n",
    "\n",
    "Исходя из здравого смысла, удаляю квартиры с нулём комнат - нижняя граница выбросов. \n",
    "Верхняя граница количества комнат  - 6 комнат."
   ]
  },
  {
   "cell_type": "code",
   "execution_count": 42,
   "metadata": {},
   "outputs": [
    {
     "name": "stdout",
     "output_type": "stream",
     "text": [
      "Нижняя граница значений в метрах, ниже которой значения нужно удалять: 2.45\n",
      "Верхняя граница значений в метрах, выше которой значения нужно удалять: 2.8500000000000005\n"
     ]
    }
   ],
   "source": [
    "# рассчёт верхней границы выбросов значений столбца ceiling_height\n",
    "q1 = data['ceiling_height'].quantile(0.25)\n",
    "q3 = data['ceiling_height'].quantile(0.75)\n",
    "iqr = q3 - q1  \n",
    "print('Нижняя граница значений в метрах, ниже которой значения нужно удалять:', \n",
    "      (q1 - 1.5 * iqr))\n",
    "print('Верхняя граница значений в метрах, выше которой значения нужно удалять:', \n",
    "      (q3 + 1.5 * iqr))"
   ]
  },
  {
   "cell_type": "markdown",
   "metadata": {},
   "source": [
    "ceiling_height / высота потолка\n",
    "\n",
    "Нижняя граница - потолок высотой 2.45 метра.\n",
    "Верхняя граница значений - 2.85 метра.\n"
   ]
  },
  {
   "cell_type": "code",
   "execution_count": 43,
   "metadata": {},
   "outputs": [
    {
     "data": {
      "text/html": [
       "<div>\n",
       "<style scoped>\n",
       "    .dataframe tbody tr th:only-of-type {\n",
       "        vertical-align: middle;\n",
       "    }\n",
       "\n",
       "    .dataframe tbody tr th {\n",
       "        vertical-align: top;\n",
       "    }\n",
       "\n",
       "    .dataframe thead th {\n",
       "        text-align: right;\n",
       "    }\n",
       "</style>\n",
       "<table border=\"1\" class=\"dataframe\">\n",
       "  <thead>\n",
       "    <tr style=\"text-align: right;\">\n",
       "      <th></th>\n",
       "      <th>total_images</th>\n",
       "      <th>last_price</th>\n",
       "      <th>total_area</th>\n",
       "      <th>first_day_exposition</th>\n",
       "      <th>rooms</th>\n",
       "      <th>ceiling_height</th>\n",
       "      <th>floors_total</th>\n",
       "      <th>living_area</th>\n",
       "      <th>floor</th>\n",
       "      <th>is_apartment</th>\n",
       "      <th>...</th>\n",
       "      <th>parks_around3000</th>\n",
       "      <th>parks_nearest</th>\n",
       "      <th>ponds_around3000</th>\n",
       "      <th>ponds_nearest</th>\n",
       "      <th>days_exposition</th>\n",
       "      <th>weekday_exposition</th>\n",
       "      <th>sq_m_price</th>\n",
       "      <th>living_vs_total</th>\n",
       "      <th>kitchen_vs_total</th>\n",
       "      <th>floor_sort</th>\n",
       "    </tr>\n",
       "  </thead>\n",
       "  <tbody>\n",
       "    <tr>\n",
       "      <td>1</td>\n",
       "      <td>7</td>\n",
       "      <td>3.4</td>\n",
       "      <td>40.40</td>\n",
       "      <td>2018-12-04</td>\n",
       "      <td>1</td>\n",
       "      <td>2.65</td>\n",
       "      <td>11.0</td>\n",
       "      <td>18.60</td>\n",
       "      <td>1</td>\n",
       "      <td>False</td>\n",
       "      <td>...</td>\n",
       "      <td>0</td>\n",
       "      <td>0.5</td>\n",
       "      <td>0</td>\n",
       "      <td>0.6</td>\n",
       "      <td>81.0</td>\n",
       "      <td>1</td>\n",
       "      <td>0.084158</td>\n",
       "      <td>0.460396</td>\n",
       "      <td>0.272277</td>\n",
       "      <td>первый</td>\n",
       "    </tr>\n",
       "    <tr>\n",
       "      <td>5</td>\n",
       "      <td>10</td>\n",
       "      <td>2.9</td>\n",
       "      <td>30.40</td>\n",
       "      <td>2018-09-10</td>\n",
       "      <td>1</td>\n",
       "      <td>2.65</td>\n",
       "      <td>12.0</td>\n",
       "      <td>14.40</td>\n",
       "      <td>5</td>\n",
       "      <td>False</td>\n",
       "      <td>...</td>\n",
       "      <td>0</td>\n",
       "      <td>0.5</td>\n",
       "      <td>0</td>\n",
       "      <td>0.5</td>\n",
       "      <td>55.0</td>\n",
       "      <td>0</td>\n",
       "      <td>0.095395</td>\n",
       "      <td>0.473684</td>\n",
       "      <td>0.299342</td>\n",
       "      <td>другой</td>\n",
       "    </tr>\n",
       "    <tr>\n",
       "      <td>6</td>\n",
       "      <td>6</td>\n",
       "      <td>3.7</td>\n",
       "      <td>37.30</td>\n",
       "      <td>2017-11-02</td>\n",
       "      <td>1</td>\n",
       "      <td>2.65</td>\n",
       "      <td>26.0</td>\n",
       "      <td>10.60</td>\n",
       "      <td>6</td>\n",
       "      <td>False</td>\n",
       "      <td>...</td>\n",
       "      <td>0</td>\n",
       "      <td>0.5</td>\n",
       "      <td>0</td>\n",
       "      <td>0.6</td>\n",
       "      <td>155.0</td>\n",
       "      <td>3</td>\n",
       "      <td>0.099196</td>\n",
       "      <td>0.284182</td>\n",
       "      <td>0.386059</td>\n",
       "      <td>другой</td>\n",
       "    </tr>\n",
       "    <tr>\n",
       "      <td>8</td>\n",
       "      <td>20</td>\n",
       "      <td>2.9</td>\n",
       "      <td>33.16</td>\n",
       "      <td>2018-05-23</td>\n",
       "      <td>1</td>\n",
       "      <td>2.65</td>\n",
       "      <td>27.0</td>\n",
       "      <td>15.43</td>\n",
       "      <td>26</td>\n",
       "      <td>False</td>\n",
       "      <td>...</td>\n",
       "      <td>0</td>\n",
       "      <td>0.5</td>\n",
       "      <td>0</td>\n",
       "      <td>0.5</td>\n",
       "      <td>189.0</td>\n",
       "      <td>2</td>\n",
       "      <td>0.087455</td>\n",
       "      <td>0.465320</td>\n",
       "      <td>0.265682</td>\n",
       "      <td>другой</td>\n",
       "    </tr>\n",
       "    <tr>\n",
       "      <td>9</td>\n",
       "      <td>18</td>\n",
       "      <td>5.4</td>\n",
       "      <td>61.00</td>\n",
       "      <td>2017-02-26</td>\n",
       "      <td>3</td>\n",
       "      <td>2.50</td>\n",
       "      <td>9.0</td>\n",
       "      <td>43.60</td>\n",
       "      <td>7</td>\n",
       "      <td>False</td>\n",
       "      <td>...</td>\n",
       "      <td>0</td>\n",
       "      <td>0.5</td>\n",
       "      <td>0</td>\n",
       "      <td>0.5</td>\n",
       "      <td>289.0</td>\n",
       "      <td>6</td>\n",
       "      <td>0.088525</td>\n",
       "      <td>0.714754</td>\n",
       "      <td>0.106557</td>\n",
       "      <td>другой</td>\n",
       "    </tr>\n",
       "    <tr>\n",
       "      <td>10</td>\n",
       "      <td>5</td>\n",
       "      <td>5.0</td>\n",
       "      <td>39.60</td>\n",
       "      <td>2017-11-16</td>\n",
       "      <td>1</td>\n",
       "      <td>2.67</td>\n",
       "      <td>12.0</td>\n",
       "      <td>20.30</td>\n",
       "      <td>3</td>\n",
       "      <td>False</td>\n",
       "      <td>...</td>\n",
       "      <td>1</td>\n",
       "      <td>0.3</td>\n",
       "      <td>2</td>\n",
       "      <td>0.6</td>\n",
       "      <td>137.0</td>\n",
       "      <td>3</td>\n",
       "      <td>0.126263</td>\n",
       "      <td>0.512626</td>\n",
       "      <td>0.214646</td>\n",
       "      <td>другой</td>\n",
       "    </tr>\n",
       "    <tr>\n",
       "      <td>11</td>\n",
       "      <td>9</td>\n",
       "      <td>3.3</td>\n",
       "      <td>44.00</td>\n",
       "      <td>2018-08-27</td>\n",
       "      <td>2</td>\n",
       "      <td>2.65</td>\n",
       "      <td>5.0</td>\n",
       "      <td>31.00</td>\n",
       "      <td>4</td>\n",
       "      <td>False</td>\n",
       "      <td>...</td>\n",
       "      <td>0</td>\n",
       "      <td>0.4</td>\n",
       "      <td>0</td>\n",
       "      <td>0.6</td>\n",
       "      <td>7.0</td>\n",
       "      <td>0</td>\n",
       "      <td>0.075000</td>\n",
       "      <td>0.704545</td>\n",
       "      <td>0.136364</td>\n",
       "      <td>другой</td>\n",
       "    </tr>\n",
       "    <tr>\n",
       "      <td>12</td>\n",
       "      <td>10</td>\n",
       "      <td>3.9</td>\n",
       "      <td>54.00</td>\n",
       "      <td>2016-06-30</td>\n",
       "      <td>2</td>\n",
       "      <td>2.65</td>\n",
       "      <td>5.0</td>\n",
       "      <td>30.00</td>\n",
       "      <td>5</td>\n",
       "      <td>False</td>\n",
       "      <td>...</td>\n",
       "      <td>0</td>\n",
       "      <td>0.5</td>\n",
       "      <td>0</td>\n",
       "      <td>0.5</td>\n",
       "      <td>90.0</td>\n",
       "      <td>3</td>\n",
       "      <td>0.072222</td>\n",
       "      <td>0.555556</td>\n",
       "      <td>0.166667</td>\n",
       "      <td>последний</td>\n",
       "    </tr>\n",
       "    <tr>\n",
       "      <td>13</td>\n",
       "      <td>20</td>\n",
       "      <td>3.6</td>\n",
       "      <td>42.80</td>\n",
       "      <td>2017-07-01</td>\n",
       "      <td>2</td>\n",
       "      <td>2.56</td>\n",
       "      <td>5.0</td>\n",
       "      <td>27.00</td>\n",
       "      <td>5</td>\n",
       "      <td>False</td>\n",
       "      <td>...</td>\n",
       "      <td>1</td>\n",
       "      <td>0.3</td>\n",
       "      <td>3</td>\n",
       "      <td>0.3</td>\n",
       "      <td>366.0</td>\n",
       "      <td>5</td>\n",
       "      <td>0.084112</td>\n",
       "      <td>0.630841</td>\n",
       "      <td>0.121495</td>\n",
       "      <td>последний</td>\n",
       "    </tr>\n",
       "    <tr>\n",
       "      <td>14</td>\n",
       "      <td>1</td>\n",
       "      <td>4.4</td>\n",
       "      <td>36.00</td>\n",
       "      <td>2016-06-23</td>\n",
       "      <td>1</td>\n",
       "      <td>2.65</td>\n",
       "      <td>6.0</td>\n",
       "      <td>17.00</td>\n",
       "      <td>1</td>\n",
       "      <td>False</td>\n",
       "      <td>...</td>\n",
       "      <td>0</td>\n",
       "      <td>0.4</td>\n",
       "      <td>1</td>\n",
       "      <td>0.1</td>\n",
       "      <td>203.0</td>\n",
       "      <td>3</td>\n",
       "      <td>0.122222</td>\n",
       "      <td>0.472222</td>\n",
       "      <td>0.222222</td>\n",
       "      <td>первый</td>\n",
       "    </tr>\n",
       "  </tbody>\n",
       "</table>\n",
       "<p>10 rows × 27 columns</p>\n",
       "</div>"
      ],
      "text/plain": [
       "    total_images  last_price  total_area first_day_exposition  rooms  \\\n",
       "1              7         3.4       40.40           2018-12-04      1   \n",
       "5             10         2.9       30.40           2018-09-10      1   \n",
       "6              6         3.7       37.30           2017-11-02      1   \n",
       "8             20         2.9       33.16           2018-05-23      1   \n",
       "9             18         5.4       61.00           2017-02-26      3   \n",
       "10             5         5.0       39.60           2017-11-16      1   \n",
       "11             9         3.3       44.00           2018-08-27      2   \n",
       "12            10         3.9       54.00           2016-06-30      2   \n",
       "13            20         3.6       42.80           2017-07-01      2   \n",
       "14             1         4.4       36.00           2016-06-23      1   \n",
       "\n",
       "    ceiling_height  floors_total  living_area  floor  is_apartment  ...  \\\n",
       "1             2.65          11.0        18.60      1         False  ...   \n",
       "5             2.65          12.0        14.40      5         False  ...   \n",
       "6             2.65          26.0        10.60      6         False  ...   \n",
       "8             2.65          27.0        15.43     26         False  ...   \n",
       "9             2.50           9.0        43.60      7         False  ...   \n",
       "10            2.67          12.0        20.30      3         False  ...   \n",
       "11            2.65           5.0        31.00      4         False  ...   \n",
       "12            2.65           5.0        30.00      5         False  ...   \n",
       "13            2.56           5.0        27.00      5         False  ...   \n",
       "14            2.65           6.0        17.00      1         False  ...   \n",
       "\n",
       "    parks_around3000  parks_nearest  ponds_around3000  ponds_nearest  \\\n",
       "1                  0            0.5                 0            0.6   \n",
       "5                  0            0.5                 0            0.5   \n",
       "6                  0            0.5                 0            0.6   \n",
       "8                  0            0.5                 0            0.5   \n",
       "9                  0            0.5                 0            0.5   \n",
       "10                 1            0.3                 2            0.6   \n",
       "11                 0            0.4                 0            0.6   \n",
       "12                 0            0.5                 0            0.5   \n",
       "13                 1            0.3                 3            0.3   \n",
       "14                 0            0.4                 1            0.1   \n",
       "\n",
       "   days_exposition  weekday_exposition  sq_m_price  living_vs_total  \\\n",
       "1             81.0                   1    0.084158         0.460396   \n",
       "5             55.0                   0    0.095395         0.473684   \n",
       "6            155.0                   3    0.099196         0.284182   \n",
       "8            189.0                   2    0.087455         0.465320   \n",
       "9            289.0                   6    0.088525         0.714754   \n",
       "10           137.0                   3    0.126263         0.512626   \n",
       "11             7.0                   0    0.075000         0.704545   \n",
       "12            90.0                   3    0.072222         0.555556   \n",
       "13           366.0                   5    0.084112         0.630841   \n",
       "14           203.0                   3    0.122222         0.472222   \n",
       "\n",
       "    kitchen_vs_total  floor_sort  \n",
       "1           0.272277      первый  \n",
       "5           0.299342      другой  \n",
       "6           0.386059      другой  \n",
       "8           0.265682      другой  \n",
       "9           0.106557      другой  \n",
       "10          0.214646      другой  \n",
       "11          0.136364      другой  \n",
       "12          0.166667   последний  \n",
       "13          0.121495   последний  \n",
       "14          0.222222      первый  \n",
       "\n",
       "[10 rows x 27 columns]"
      ]
     },
     "metadata": {},
     "output_type": "display_data"
    },
    {
     "name": "stdout",
     "output_type": "stream",
     "text": [
      "<class 'pandas.core.frame.DataFrame'>\n",
      "Int64Index: 17581 entries, 1 to 23696\n",
      "Data columns (total 27 columns):\n",
      "total_images            17581 non-null int64\n",
      "last_price              17581 non-null float64\n",
      "total_area              17581 non-null float64\n",
      "first_day_exposition    17581 non-null datetime64[ns]\n",
      "rooms                   17581 non-null int64\n",
      "ceiling_height          17581 non-null float64\n",
      "floors_total            17517 non-null float64\n",
      "living_area             17581 non-null float64\n",
      "floor                   17581 non-null int64\n",
      "is_apartment            17581 non-null bool\n",
      "studio                  17581 non-null bool\n",
      "open_plan               17581 non-null bool\n",
      "kitchen_area            17581 non-null float64\n",
      "balcony                 17581 non-null int64\n",
      "locality_name           17549 non-null object\n",
      "airports_nearest        17581 non-null int64\n",
      "city_centers_nearest    17581 non-null float64\n",
      "parks_around3000        17581 non-null int64\n",
      "parks_nearest           17581 non-null float64\n",
      "ponds_around3000        17581 non-null int64\n",
      "ponds_nearest           17581 non-null float64\n",
      "days_exposition         17581 non-null float64\n",
      "weekday_exposition      17581 non-null int64\n",
      "sq_m_price              17581 non-null float64\n",
      "living_vs_total         17581 non-null float64\n",
      "kitchen_vs_total        17581 non-null float64\n",
      "floor_sort              17581 non-null object\n",
      "dtypes: bool(3), datetime64[ns](1), float64(13), int64(8), object(2)\n",
      "memory usage: 3.4+ MB\n"
     ]
    }
   ],
   "source": [
    "# непосредственно удаление выбросов и формирование новой таблицы, добытой с горькими слезами\n",
    "bitter_data = data.query('days_exposition <= 528 and 0.4 <= last_price <=11.9 \\\n",
    "and 12 <= total_area <= 114.75 and 2 <= living_area <= 77.85 and 1.3 <= kitchen_area <= 17.8 \\\n",
    "and 1 <= rooms < 7 and 2.45 <= ceiling_height <= 2.85') \n",
    "         \n",
    "display(bitter_data.head(10))      \n",
    "bitter_data.info()\n"
   ]
  },
  {
   "cell_type": "code",
   "execution_count": 44,
   "metadata": {},
   "outputs": [
    {
     "name": "stdout",
     "output_type": "stream",
     "text": [
      "Минимальная цена квартиры 0.4 миллионов рублей\n",
      "Максимальная цена квартиры 11.9 миллионов рублей\n",
      "Медианная цена квартиры 4.2 миллионов рублей\n"
     ]
    },
    {
     "data": {
      "image/png": "[encoded data removed]",
      "text/plain": [
       "<Figure size 432x288 with 1 Axes>"
      ]
     },
     "metadata": {
      "needs_background": "light"
     },
     "output_type": "display_data"
    }
   ],
   "source": [
    "# гистограмма - цена квартиры после удаления значений-выбросов\n",
    "bitter_data.hist('last_price', bins=40, range=(0, 12.2))\n",
    "print('Минимальная цена квартиры', bitter_data['last_price'].min(), 'миллионов рублей')\n",
    "print('Максимальная цена квартиры', bitter_data['last_price'].max(), 'миллионов рублей')\n",
    "print('Медианная цена квартиры', bitter_data['last_price'].median(), 'миллионов рублей')"
   ]
  },
  {
   "cell_type": "code",
   "execution_count": 45,
   "metadata": {},
   "outputs": [
    {
     "name": "stdout",
     "output_type": "stream",
     "text": [
      "Минимальная общая площадь квартиры 12.0 кв.метров\n",
      "Максимальная общая площадь квартиры 114.3 кв.метров\n",
      "Медианная общая площадь квартиры 47.0 кв.метров\n"
     ]
    },
    {
     "data": {
      "image/png": "[encoded data removed]",
      "text/plain": [
       "<Figure size 432x288 with 1 Axes>"
      ]
     },
     "metadata": {
      "needs_background": "light"
     },
     "output_type": "display_data"
    }
   ],
   "source": [
    "# гистограмма - общая площадь квартиры после удаления значений-выбросов\n",
    "\n",
    "bitter_data.hist('total_area', bins=50, range=(12, 120))\n",
    "print('Минимальная общая площадь квартиры', bitter_data['total_area'].min(), 'кв.метров')\n",
    "print('Максимальная общая площадь квартиры', bitter_data['total_area'].max(), 'кв.метров')\n",
    "print('Медианная общая площадь квартиры', bitter_data['total_area'].median(), 'кв.метров')\n"
   ]
  },
  {
   "cell_type": "code",
   "execution_count": 46,
   "metadata": {},
   "outputs": [
    {
     "name": "stdout",
     "output_type": "stream",
     "text": [
      "Минимальная жилая площадь квартиры 3.0 кв.метров\n",
      "Максимальная жилая площадь квартиры 77.0 кв.метров\n",
      "Медианная жилая площадь квартиры 28.4 кв.метров\n"
     ]
    },
    {
     "data": {
      "image/png": "[encoded data removed]",
      "text/plain": [
       "<Figure size 432x288 with 1 Axes>"
      ]
     },
     "metadata": {
      "needs_background": "light"
     },
     "output_type": "display_data"
    }
   ],
   "source": [
    "# гистограмма -  жилая площадь квартиры после удаления значений-выбросов\n",
    "bitter_data.hist('living_area', bins=50, range=(4, 80))\n",
    "print('Минимальная жилая площадь квартиры', bitter_data['living_area'].min(), 'кв.метров')\n",
    "print('Максимальная жилая площадь квартиры', bitter_data['living_area'].max(), 'кв.метров')\n",
    "print('Медианная жилая площадь квартиры', bitter_data['living_area'].median(), 'кв.метров')"
   ]
  },
  {
   "cell_type": "code",
   "execution_count": 47,
   "metadata": {},
   "outputs": [
    {
     "name": "stdout",
     "output_type": "stream",
     "text": [
      "Минимальная площадь кухни 1.3 кв.метров\n",
      "Максимальная площадь кухни 17.8 кв.метров\n",
      "Медианная площадь кухни 8.9 кв.метров\n"
     ]
    },
    {
     "data": {
      "image/png": "[encoded data removed]",
      "text/plain": [
       "<Figure size 432x288 with 1 Axes>"
      ]
     },
     "metadata": {
      "needs_background": "light"
     },
     "output_type": "display_data"
    }
   ],
   "source": [
    "# гистограмма - площадь кухни после удаления значений-выбросов\n",
    "bitter_data.hist('kitchen_area', bins=50, range=(3, 18))\n",
    "print('Минимальная площадь кухни', bitter_data['kitchen_area'].min(), 'кв.метров')\n",
    "print('Максимальная площадь кухни', bitter_data['kitchen_area'].max(), 'кв.метров')\n",
    "print('Медианная площадь кухни', bitter_data['kitchen_area'].median(), 'кв.метров')"
   ]
  },
  {
   "cell_type": "code",
   "execution_count": 48,
   "metadata": {},
   "outputs": [
    {
     "name": "stdout",
     "output_type": "stream",
     "text": [
      "Минимальное количество комнат в квартире 1\n",
      "Максимальное количество комнат в квартире 6\n",
      "Медианное значение количества комнат в квартире 2.0\n"
     ]
    },
    {
     "data": {
      "image/png": "[encoded data removed]",
      "text/plain": [
       "<Figure size 432x288 with 1 Axes>"
      ]
     },
     "metadata": {
      "needs_background": "light"
     },
     "output_type": "display_data"
    }
   ],
   "source": [
    "# гистограмма - количество комнат в квартире после удаления значений-выбросов\n",
    "bitter_data.hist('rooms', bins=7, range=(0, 6))\n",
    "print('Минимальное количество комнат в квартире', bitter_data['rooms'].min())\n",
    "print('Максимальное количество комнат в квартире', bitter_data['rooms'].max())\n",
    "print('Медианное значение количества комнат в квартире', bitter_data['rooms'].median())"
   ]
  },
  {
   "cell_type": "markdown",
   "metadata": {},
   "source": [
    " Построенные вновь гистограммы после удаления значений-выбросов имеют более логичный вид."
   ]
  },
  {
   "cell_type": "code",
   "execution_count": 49,
   "metadata": {},
   "outputs": [
    {
     "name": "stdout",
     "output_type": "stream",
     "text": [
      "Коэффициент корреляция цены квартиры от её общей площади 0.6699628569803002\n",
      "Коэффициент корреляция цены квартиры от её жилой площади 0.5464572047602636\n",
      "Коэффициент корреляция цены квартиры от её площади кухни 0.4512150014917904\n"
     ]
    }
   ],
   "source": [
    "# изучение зависимости цены на квартиру от её площади\n",
    "\n",
    "print('Коэффициент корреляция цены квартиры от её общей площади', \n",
    "      bitter_data['last_price'].corr(bitter_data['total_area']))\n",
    "\n",
    "print('Коэффициент корреляция цены квартиры от её жилой площади', \n",
    "      bitter_data['last_price'].corr(bitter_data['living_area']))\n",
    "\n",
    "print('Коэффициент корреляция цены квартиры от её площади кухни', \n",
    "      bitter_data['last_price'].corr(bitter_data['kitchen_area']))\n"
   ]
  },
  {
   "cell_type": "markdown",
   "metadata": {},
   "source": [
    "Данные показывают, что на цену квартиры сильно влияет её общая площадь (коэффициент корреляции 0,67). \n",
    "\n",
    "Чуть менее влияет на цену квартиры площадь кухни (коэффициент корреляции 0,55).\n",
    "\n",
    "Значительно, но менее других указанных параметров на цену квартиры влияет жилая площадь квартиры (коэффициент корреляции 0,45)."
   ]
  },
  {
   "cell_type": "code",
   "execution_count": 50,
   "metadata": {},
   "outputs": [
    {
     "name": "stdout",
     "output_type": "stream",
     "text": [
      "Коэффициент корреляция цены квартиры от числа комнат в ней 0.41015211415824226\n",
      "Коэффициент корреляция цены квартиры от её удалённости от центра города -0.19292228238649944\n"
     ]
    }
   ],
   "source": [
    "# изучение зависимости цены на квартиру от числа комнат, удалённости от центра \n",
    "\n",
    "print('Коэффициент корреляция цены квартиры от числа комнат в ней', \n",
    "      bitter_data['last_price'].corr(bitter_data['rooms']))\n",
    "\n",
    "print('Коэффициент корреляция цены квартиры от её удалённости от центра города', \n",
    "      bitter_data['last_price'].corr(bitter_data['city_centers_nearest']))"
   ]
  },
  {
   "cell_type": "markdown",
   "metadata": {},
   "source": [
    "Количество комнат в квартире сильно влияет на её цену (коэффициент корреляции 0,41).\n",
    "\n",
    "Удалённость квартиры от центра города на цену квартиры влияет слабо, и обратно пропорционально, т.е.: чем дальше от центра, тем дешевле квартира, (коэффициент корреляции минус 0,19)."
   ]
  },
  {
   "cell_type": "code",
   "execution_count": 51,
   "metadata": {},
   "outputs": [
    {
     "name": "stdout",
     "output_type": "stream",
     "text": [
      "Коэффициент корреляция цены квартиры от её расположения на первом этаже -0.14385640927474574\n",
      "Коэффициент корреляция цены квартиры от её расположения на последнем этаже -0.09930388990413094\n",
      "Коэффициент корреляция цены квартиры от её расположения между перым и последним этажом 0.18559319206060845\n"
     ]
    }
   ],
   "source": [
    "# изучение зависимости цены на квартиру от того, на каком этаже расположена квартира: первом, \n",
    "# последнем или другом\n",
    "\n",
    "print('Коэффициент корреляция цены квартиры от её расположения на первом этаже', \n",
    "      bitter_data['last_price'].corr(bitter_data['floor_sort'] == 'первый'))\n",
    "\n",
    "print('Коэффициент корреляция цены квартиры от её расположения на последнем этаже', \n",
    "      bitter_data['last_price'].corr(bitter_data['floor_sort'] == 'последний'))\n",
    "\n",
    "print('Коэффициент корреляция цены квартиры от её расположения между перым и последним этажом', \n",
    "      bitter_data['last_price'].corr(bitter_data['floor_sort'] == 'другой'))"
   ]
  },
  {
   "cell_type": "markdown",
   "metadata": {},
   "source": [
    "Зависимость цены на квартиру от того, на каком этаже она расположена не сильно выражена. \n",
    "\n",
    "Из трёх категорий этажности квартиры, наибольшую степень зависимости от этажа имеет цена квартиры между первым и последним (другим) этажом. Зависимость прямо пропорциональная, т.е., чем выше этаж, тем немного дороже квартира, (коэффициент корреляции 0,24).\n"
   ]
  },
  {
   "cell_type": "code",
   "execution_count": 52,
   "metadata": {},
   "outputs": [
    {
     "name": "stdout",
     "output_type": "stream",
     "text": [
      "Коэффициент корреляция цены квартиры от дня размещения объявления о её продаже -0.0054175538407567605\n"
     ]
    }
   ],
   "source": [
    "# изучение зависимости цены на квартиру от даты размещения: дня недели, месяца и года.\n",
    "\n",
    "print('Коэффициент корреляция цены квартиры от дня размещения объявления о её продаже', \n",
    "      bitter_data['last_price'].corr(bitter_data['weekday_exposition']))"
   ]
  },
  {
   "cell_type": "markdown",
   "metadata": {},
   "source": [
    "Зависимости цены на квартиру от дня недели размещения объявления о её продаже нет (коэффициент корреляции близок к нулю и составляет минус 0,005)."
   ]
  },
  {
   "cell_type": "code",
   "execution_count": 53,
   "metadata": {},
   "outputs": [],
   "source": [
    "# добавление столбцов с месяцем и годом подачи объявления о продаже квартиры\n",
    "bitter_data['month'] = pd.DatetimeIndex(bitter_data['first_day_exposition']).month \n",
    "bitter_data['year'] = pd.DatetimeIndex(bitter_data['first_day_exposition']).year"
   ]
  },
  {
   "cell_type": "code",
   "execution_count": 54,
   "metadata": {},
   "outputs": [
    {
     "data": {
      "image/png": "[encoded data removed]",
      "text/plain": [
       "<Figure size 432x288 with 1 Axes>"
      ]
     },
     "metadata": {
      "needs_background": "light"
     },
     "output_type": "display_data"
    }
   ],
   "source": [
    "import seaborn as sns\n",
    "sns.lineplot(data = bitter_data, x = 'month', y = 'last_price')\n",
    "plt.show()"
   ]
  },
  {
   "cell_type": "code",
   "execution_count": 55,
   "metadata": {},
   "outputs": [
    {
     "data": {
      "image/png": "[encoded data removed]",
      "text/plain": [
       "<Figure size 432x288 with 1 Axes>"
      ]
     },
     "metadata": {
      "needs_background": "light"
     },
     "output_type": "display_data"
    }
   ],
   "source": [
    "sns.lineplot(data = bitter_data, x = 'month', y = 'sq_m_price')\n",
    "plt.show()"
   ]
  },
  {
   "cell_type": "markdown",
   "metadata": {},
   "source": [
    "Зависимость цены на квартиру от месяца размещения объявления о её продаже имеет волнообразный характер с двумя подъёмами - весной и осенью, и соответственно двумя провалами - летом и зимой. Провал, приходящийся на летние месяцы, а именно на июнь, более выражен.\n",
    "\n",
    "Графики, построенные для цен на квартиры и для цены квадратного метра очень близки по своей форме, отличия малозначительны. \n",
    "\n"
   ]
  },
  {
   "cell_type": "code",
   "execution_count": 56,
   "metadata": {},
   "outputs": [
    {
     "data": {
      "image/png": "[encoded data removed]",
      "text/plain": [
       "<Figure size 432x288 with 1 Axes>"
      ]
     },
     "metadata": {
      "needs_background": "light"
     },
     "output_type": "display_data"
    }
   ],
   "source": [
    "sns.lineplot(data = bitter_data, x = 'year', y = 'last_price')\n",
    "plt.show()"
   ]
  },
  {
   "cell_type": "code",
   "execution_count": 57,
   "metadata": {},
   "outputs": [
    {
     "data": {
      "image/png": "[encoded data removed]",
      "text/plain": [
       "<Figure size 432x288 with 1 Axes>"
      ]
     },
     "metadata": {
      "needs_background": "light"
     },
     "output_type": "display_data"
    }
   ],
   "source": [
    "sns.lineplot(data = bitter_data, x = 'year', y = 'sq_m_price')\n",
    "plt.show()"
   ]
  },
  {
   "cell_type": "markdown",
   "metadata": {},
   "source": [
    "Зависимость цены на квартиру от года размещения объявления о её продаже.\n",
    "\n",
    "График, построенный для цен на квариры имеет три большие стадии: падение с 2015 по 2016 годы со скоростью 200 тысяч в год; близкий к равномерному медленный рост с 2016 по 2018 годы со скоростью примерно 35 тысяч в год; и довольно быстрый рост с 2018 по 2019 год с скоростью 300 тысяч в год.\n",
    "\n",
    "График, построенный для цены квадратного метра имеет отличный характер на участке с 2015 по 2016 годы, по сравнению с графиком выше. На этом графике цена квадратного метра на участке с 2015 по 2016 годы медленно растёт.\n",
    "\n",
    "Учитывая то, что первый график относится по сути к средней цене квартиры, можно предположить, что с 2015 по 2016 годы в объявлениях о продаже квартир была тенденция на продажу всё более дешёвых квартир, вероятно, ниже статусом, меньшей площади и т.п. Быстрый рост цены на квадратный метр с 2018 года потянул с собой такой же быстрый рост цен на квартиры в целом.\n",
    "\n"
   ]
  },
  {
   "cell_type": "markdown",
   "metadata": {},
   "source": [
    "Выше, при просмотре названий населённых пунктов, присутствующих в таблице, для контроля наличия дублей я выводил первые 30 названий. Здесь приведены первые 10 названий населённых пунктов в порядке убывания числа поданных объявлений с квартирами в этих населённых пунктах.\n",
    "\n",
    "Санкт-Петербург            15721\n",
    "\n",
    "посёлок Мурино               522\n",
    "\n",
    "посёлок Шушары               440\n",
    "\n",
    "Всеволожск                   398\n",
    "\n",
    "Пушкин                       369\n",
    "\n",
    "Колпино                      338\n",
    "\n",
    "посёлок Парголово            327\n",
    "\n",
    "Гатчина                      307\n",
    "\n",
    "деревня Кудрово              299\n",
    "\n",
    "Выборг                       237\n",
    "\n",
    "\n",
    "Рассмотрим каждый приведённый здесь населённый пункт подробнее."
   ]
  },
  {
   "cell_type": "code",
   "execution_count": 58,
   "metadata": {},
   "outputs": [
    {
     "name": "stdout",
     "output_type": "stream",
     "text": [
      "Средняя цена квадратного метра жилья в Санкт-Петербурге: 0.10430877352028717\n",
      "\n",
      "Средняя цена квадратного метра жилья в посёлке Мурино: 0.08542294511200253\n",
      "\n",
      "Средняя цена квадратного метра жилья в посёлке Шушары: 0.0782837777792902\n",
      "\n",
      "Средняя цена квадратного метра жилья в Всеволожске: 0.0665629417244675\n",
      "\n",
      "Средняя цена квадратного метра жилья в Пушкине: 0.09917925732730397\n",
      "\n",
      "Средняя цена квадратного метра жилья в Колпино: 0.07532119998258203\n",
      "\n",
      "Средняя цена квадратного метра жилья в посёлке Парголово: 0.0906573441964324\n",
      "\n",
      "Средняя цена квадратного метра жилья в Гатчине: 0.06844485991729009\n",
      "\n",
      "Средняя цена квадратного метра жилья в деревне Кудрово: 0.09307534367341543\n",
      "\n",
      "Средняя цена квадратного метра жилья в Выборге: 0.05735858467369964\n"
     ]
    }
   ],
   "source": [
    "# средние цены квадратного метра жилья для первой десятки самых популярных населённых пунктов\n",
    "\n",
    "# Санкт-Петербург\n",
    "print('Средняя цена квадратного метра жилья в Санкт-Петербурге:',\n",
    "      bitter_data.loc[bitter_data['locality_name'] == 'Санкт-Петербург', 'sq_m_price'].mean())\n",
    "print()\n",
    "# посёлок Мурино\n",
    "print('Средняя цена квадратного метра жилья в посёлке Мурино:',\n",
    "      bitter_data.loc[bitter_data['locality_name'] == 'посёлок Мурино', 'sq_m_price'].mean())\n",
    "print()\n",
    "# посёлок Шушары\n",
    "print('Средняя цена квадратного метра жилья в посёлке Шушары:',\n",
    "      bitter_data.loc[bitter_data['locality_name'] == 'посёлок Шушары', 'sq_m_price'].mean())\n",
    "print()\n",
    "# Всеволожск\n",
    "print('Средняя цена квадратного метра жилья в Всеволожске:',\n",
    "      bitter_data.loc[bitter_data['locality_name'] == 'Всеволожск', 'sq_m_price'].mean())\n",
    "print()\n",
    "# Пушкин\n",
    "print('Средняя цена квадратного метра жилья в Пушкине:',\n",
    "      bitter_data.loc[bitter_data['locality_name'] == 'Пушкин', 'sq_m_price'].mean())\n",
    "print()\n",
    "# Колпино\n",
    "print('Средняя цена квадратного метра жилья в Колпино:',\n",
    "      bitter_data.loc[bitter_data['locality_name'] == 'Колпино', 'sq_m_price'].mean())\n",
    "print()\n",
    "# посёлок Парголово\n",
    "print('Средняя цена квадратного метра жилья в посёлке Парголово:',\n",
    "      bitter_data.loc[bitter_data['locality_name'] == 'посёлок Парголово', 'sq_m_price'].mean())\n",
    "print()\n",
    "# Гатчина\n",
    "print('Средняя цена квадратного метра жилья в Гатчине:',\n",
    "      bitter_data.loc[bitter_data['locality_name'] == 'Гатчина', 'sq_m_price'].mean())\n",
    "print()\n",
    "# деревня Кудрово\n",
    "print('Средняя цена квадратного метра жилья в деревне Кудрово:',\n",
    "      bitter_data.loc[bitter_data['locality_name'] == 'деревня Кудрово', 'sq_m_price'].mean())\n",
    "print()\n",
    "# Выборг \n",
    "print('Средняя цена квадратного метра жилья в Выборге:', \n",
    "      bitter_data.loc[bitter_data['locality_name'] == 'Выборг', 'sq_m_price'].mean())"
   ]
  },
  {
   "cell_type": "markdown",
   "metadata": {},
   "source": [
    "Средние цены квадратного метра жилья для первой десятки самых популярных населённых пунктов в порядке убывания:\n",
    "\n",
    "Санкт-Петербург - 104 тыс.рублей\n",
    "\n",
    "Пушкин - 99 тыс.рублей\n",
    "\n",
    "деревня Кудрово - 93 тыс.рублей\n",
    "\n",
    "посёлок Парголово - 90 тыс.рублей\n",
    "\n",
    "посёлок Мурино - 85 тыс.рублей \n",
    "\n",
    "посёлок Шушары - 78 тыс.рублей\n",
    "\n",
    "Колпино - 75 тыс.рублей\n",
    "\n",
    "Гатчина - 68 тыс.рублей\n",
    "\n",
    "Всеволожск - 66 тыс.рублей\n",
    "\n",
    "Выборг - 57 тыс.рублей"
   ]
  },
  {
   "cell_type": "code",
   "execution_count": 59,
   "metadata": {},
   "outputs": [
    {
     "data": {
      "text/plain": [
       "<matplotlib.axes._subplots.AxesSubplot at 0x7f153d22a110>"
      ]
     },
     "execution_count": 59,
     "metadata": {},
     "output_type": "execute_result"
    },
    {
     "data": {
      "image/png": "[encoded data removed]",
      "text/plain": [
       "<Figure size 432x288 with 1 Axes>"
      ]
     },
     "metadata": {
      "needs_background": "light"
     },
     "output_type": "display_data"
    }
   ],
   "source": [
    "# график зависимости цены квартиры от удалённости от центра СПб\n",
    "again_data = bitter_data.pivot_table(index= 'city_centers_nearest', values='last_price')\n",
    "again_data.plot() "
   ]
  },
  {
   "cell_type": "code",
   "execution_count": 60,
   "metadata": {},
   "outputs": [
    {
     "data": {
      "text/plain": [
       "<matplotlib.axes._subplots.AxesSubplot at 0x7f151f504bd0>"
      ]
     },
     "execution_count": 60,
     "metadata": {},
     "output_type": "execute_result"
    },
    {
     "data": {
      "image/png": "[encoded data removed]",
      "text/plain": [
       "<Figure size 432x288 with 1 Axes>"
      ]
     },
     "metadata": {
      "needs_background": "light"
     },
     "output_type": "display_data"
    }
   ],
   "source": [
    "# график зависимости цены квадратного метра квартиры от удалённости от центра СПб\n",
    "another_data = bitter_data.pivot_table(index= 'city_centers_nearest', values='sq_m_price')\n",
    "another_data.plot() "
   ]
  },
  {
   "cell_type": "markdown",
   "metadata": {},
   "source": [
    "Для исключения искажения построил два графика зависимости цены на жильё в зависимости от удалённости от цетра Санкт-Петербурга. Графики имеют схожий вид. \n",
    "\n",
    "Далее рассмотрим подробнее область расстояний до 15 км, и подробнее изучим два очень высоких пика на значительном удалении от центра Санкт-Петербурга, т.е. необычно дорогие кваритиры, находящиеся явно не в городе Санкт-Петербург."
   ]
  },
  {
   "cell_type": "code",
   "execution_count": 61,
   "metadata": {},
   "outputs": [
    {
     "data": {
      "text/html": [
       "<div>\n",
       "<style scoped>\n",
       "    .dataframe tbody tr th:only-of-type {\n",
       "        vertical-align: middle;\n",
       "    }\n",
       "\n",
       "    .dataframe tbody tr th {\n",
       "        vertical-align: top;\n",
       "    }\n",
       "\n",
       "    .dataframe thead th {\n",
       "        text-align: right;\n",
       "    }\n",
       "</style>\n",
       "<table border=\"1\" class=\"dataframe\">\n",
       "  <thead>\n",
       "    <tr style=\"text-align: right;\">\n",
       "      <th></th>\n",
       "      <th>total_images</th>\n",
       "      <th>last_price</th>\n",
       "      <th>total_area</th>\n",
       "      <th>first_day_exposition</th>\n",
       "      <th>rooms</th>\n",
       "      <th>ceiling_height</th>\n",
       "      <th>floors_total</th>\n",
       "      <th>living_area</th>\n",
       "      <th>floor</th>\n",
       "      <th>is_apartment</th>\n",
       "      <th>...</th>\n",
       "      <th>ponds_around3000</th>\n",
       "      <th>ponds_nearest</th>\n",
       "      <th>days_exposition</th>\n",
       "      <th>weekday_exposition</th>\n",
       "      <th>sq_m_price</th>\n",
       "      <th>living_vs_total</th>\n",
       "      <th>kitchen_vs_total</th>\n",
       "      <th>floor_sort</th>\n",
       "      <th>month</th>\n",
       "      <th>year</th>\n",
       "    </tr>\n",
       "  </thead>\n",
       "  <tbody>\n",
       "    <tr>\n",
       "      <td>19984</td>\n",
       "      <td>20</td>\n",
       "      <td>8.0</td>\n",
       "      <td>62.2</td>\n",
       "      <td>2018-07-29</td>\n",
       "      <td>2</td>\n",
       "      <td>2.65</td>\n",
       "      <td>6.0</td>\n",
       "      <td>32.79</td>\n",
       "      <td>6</td>\n",
       "      <td>False</td>\n",
       "      <td>...</td>\n",
       "      <td>3</td>\n",
       "      <td>0.2</td>\n",
       "      <td>23.0</td>\n",
       "      <td>6</td>\n",
       "      <td>0.128617</td>\n",
       "      <td>0.52717</td>\n",
       "      <td>0.189389</td>\n",
       "      <td>последний</td>\n",
       "      <td>7</td>\n",
       "      <td>2018</td>\n",
       "    </tr>\n",
       "  </tbody>\n",
       "</table>\n",
       "<p>1 rows × 29 columns</p>\n",
       "</div>"
      ],
      "text/plain": [
       "       total_images  last_price  total_area first_day_exposition  rooms  \\\n",
       "19984            20         8.0        62.2           2018-07-29      2   \n",
       "\n",
       "       ceiling_height  floors_total  living_area  floor  is_apartment  ...  \\\n",
       "19984            2.65           6.0        32.79      6         False  ...   \n",
       "\n",
       "       ponds_around3000  ponds_nearest  days_exposition  weekday_exposition  \\\n",
       "19984                 3            0.2             23.0                   6   \n",
       "\n",
       "      sq_m_price  living_vs_total  kitchen_vs_total  floor_sort  month  year  \n",
       "19984   0.128617          0.52717          0.189389   последний      7  2018  \n",
       "\n",
       "[1 rows x 29 columns]"
      ]
     },
     "metadata": {},
     "output_type": "display_data"
    },
    {
     "data": {
      "text/html": [
       "<div>\n",
       "<style scoped>\n",
       "    .dataframe tbody tr th:only-of-type {\n",
       "        vertical-align: middle;\n",
       "    }\n",
       "\n",
       "    .dataframe tbody tr th {\n",
       "        vertical-align: top;\n",
       "    }\n",
       "\n",
       "    .dataframe thead th {\n",
       "        text-align: right;\n",
       "    }\n",
       "</style>\n",
       "<table border=\"1\" class=\"dataframe\">\n",
       "  <thead>\n",
       "    <tr style=\"text-align: right;\">\n",
       "      <th></th>\n",
       "      <th>total_images</th>\n",
       "      <th>last_price</th>\n",
       "      <th>total_area</th>\n",
       "      <th>first_day_exposition</th>\n",
       "      <th>rooms</th>\n",
       "      <th>ceiling_height</th>\n",
       "      <th>floors_total</th>\n",
       "      <th>living_area</th>\n",
       "      <th>floor</th>\n",
       "      <th>is_apartment</th>\n",
       "      <th>...</th>\n",
       "      <th>ponds_around3000</th>\n",
       "      <th>ponds_nearest</th>\n",
       "      <th>days_exposition</th>\n",
       "      <th>weekday_exposition</th>\n",
       "      <th>sq_m_price</th>\n",
       "      <th>living_vs_total</th>\n",
       "      <th>kitchen_vs_total</th>\n",
       "      <th>floor_sort</th>\n",
       "      <th>month</th>\n",
       "      <th>year</th>\n",
       "    </tr>\n",
       "  </thead>\n",
       "  <tbody>\n",
       "    <tr>\n",
       "      <td>376</td>\n",
       "      <td>18</td>\n",
       "      <td>8.4</td>\n",
       "      <td>84.0</td>\n",
       "      <td>2018-06-26</td>\n",
       "      <td>2</td>\n",
       "      <td>2.75</td>\n",
       "      <td>3.0</td>\n",
       "      <td>41.0</td>\n",
       "      <td>1</td>\n",
       "      <td>False</td>\n",
       "      <td>...</td>\n",
       "      <td>0</td>\n",
       "      <td>0.5</td>\n",
       "      <td>201.0</td>\n",
       "      <td>1</td>\n",
       "      <td>0.100000</td>\n",
       "      <td>0.488095</td>\n",
       "      <td>0.154762</td>\n",
       "      <td>первый</td>\n",
       "      <td>6</td>\n",
       "      <td>2018</td>\n",
       "    </tr>\n",
       "    <tr>\n",
       "      <td>1687</td>\n",
       "      <td>0</td>\n",
       "      <td>6.0</td>\n",
       "      <td>87.0</td>\n",
       "      <td>2017-06-28</td>\n",
       "      <td>2</td>\n",
       "      <td>2.80</td>\n",
       "      <td>4.0</td>\n",
       "      <td>37.0</td>\n",
       "      <td>3</td>\n",
       "      <td>False</td>\n",
       "      <td>...</td>\n",
       "      <td>3</td>\n",
       "      <td>0.4</td>\n",
       "      <td>236.0</td>\n",
       "      <td>2</td>\n",
       "      <td>0.068966</td>\n",
       "      <td>0.425287</td>\n",
       "      <td>0.172414</td>\n",
       "      <td>другой</td>\n",
       "      <td>6</td>\n",
       "      <td>2017</td>\n",
       "    </tr>\n",
       "    <tr>\n",
       "      <td>2036</td>\n",
       "      <td>19</td>\n",
       "      <td>6.1</td>\n",
       "      <td>50.0</td>\n",
       "      <td>2018-03-24</td>\n",
       "      <td>2</td>\n",
       "      <td>2.60</td>\n",
       "      <td>5.0</td>\n",
       "      <td>29.0</td>\n",
       "      <td>5</td>\n",
       "      <td>False</td>\n",
       "      <td>...</td>\n",
       "      <td>1</td>\n",
       "      <td>0.9</td>\n",
       "      <td>72.0</td>\n",
       "      <td>5</td>\n",
       "      <td>0.122000</td>\n",
       "      <td>0.580000</td>\n",
       "      <td>0.180000</td>\n",
       "      <td>последний</td>\n",
       "      <td>3</td>\n",
       "      <td>2018</td>\n",
       "    </tr>\n",
       "    <tr>\n",
       "      <td>3477</td>\n",
       "      <td>4</td>\n",
       "      <td>6.4</td>\n",
       "      <td>67.2</td>\n",
       "      <td>2016-10-10</td>\n",
       "      <td>3</td>\n",
       "      <td>2.65</td>\n",
       "      <td>6.0</td>\n",
       "      <td>43.0</td>\n",
       "      <td>1</td>\n",
       "      <td>False</td>\n",
       "      <td>...</td>\n",
       "      <td>1</td>\n",
       "      <td>0.4</td>\n",
       "      <td>316.0</td>\n",
       "      <td>0</td>\n",
       "      <td>0.095238</td>\n",
       "      <td>0.639881</td>\n",
       "      <td>0.178571</td>\n",
       "      <td>первый</td>\n",
       "      <td>10</td>\n",
       "      <td>2016</td>\n",
       "    </tr>\n",
       "    <tr>\n",
       "      <td>4906</td>\n",
       "      <td>11</td>\n",
       "      <td>5.5</td>\n",
       "      <td>49.0</td>\n",
       "      <td>2017-10-24</td>\n",
       "      <td>2</td>\n",
       "      <td>2.50</td>\n",
       "      <td>5.0</td>\n",
       "      <td>29.0</td>\n",
       "      <td>3</td>\n",
       "      <td>False</td>\n",
       "      <td>...</td>\n",
       "      <td>2</td>\n",
       "      <td>0.5</td>\n",
       "      <td>25.0</td>\n",
       "      <td>1</td>\n",
       "      <td>0.112245</td>\n",
       "      <td>0.591837</td>\n",
       "      <td>0.173469</td>\n",
       "      <td>другой</td>\n",
       "      <td>10</td>\n",
       "      <td>2017</td>\n",
       "    </tr>\n",
       "    <tr>\n",
       "      <td>9493</td>\n",
       "      <td>0</td>\n",
       "      <td>5.4</td>\n",
       "      <td>47.5</td>\n",
       "      <td>2017-06-14</td>\n",
       "      <td>2</td>\n",
       "      <td>2.55</td>\n",
       "      <td>5.0</td>\n",
       "      <td>29.9</td>\n",
       "      <td>4</td>\n",
       "      <td>False</td>\n",
       "      <td>...</td>\n",
       "      <td>1</td>\n",
       "      <td>0.9</td>\n",
       "      <td>394.0</td>\n",
       "      <td>2</td>\n",
       "      <td>0.113684</td>\n",
       "      <td>0.629474</td>\n",
       "      <td>0.168421</td>\n",
       "      <td>другой</td>\n",
       "      <td>6</td>\n",
       "      <td>2017</td>\n",
       "    </tr>\n",
       "    <tr>\n",
       "      <td>18096</td>\n",
       "      <td>2</td>\n",
       "      <td>6.2</td>\n",
       "      <td>70.2</td>\n",
       "      <td>2015-11-10</td>\n",
       "      <td>3</td>\n",
       "      <td>2.65</td>\n",
       "      <td>4.0</td>\n",
       "      <td>43.7</td>\n",
       "      <td>4</td>\n",
       "      <td>False</td>\n",
       "      <td>...</td>\n",
       "      <td>1</td>\n",
       "      <td>0.5</td>\n",
       "      <td>259.0</td>\n",
       "      <td>1</td>\n",
       "      <td>0.088319</td>\n",
       "      <td>0.622507</td>\n",
       "      <td>0.133903</td>\n",
       "      <td>последний</td>\n",
       "      <td>11</td>\n",
       "      <td>2015</td>\n",
       "    </tr>\n",
       "  </tbody>\n",
       "</table>\n",
       "<p>7 rows × 29 columns</p>\n",
       "</div>"
      ],
      "text/plain": [
       "       total_images  last_price  total_area first_day_exposition  rooms  \\\n",
       "376              18         8.4        84.0           2018-06-26      2   \n",
       "1687              0         6.0        87.0           2017-06-28      2   \n",
       "2036             19         6.1        50.0           2018-03-24      2   \n",
       "3477              4         6.4        67.2           2016-10-10      3   \n",
       "4906             11         5.5        49.0           2017-10-24      2   \n",
       "9493              0         5.4        47.5           2017-06-14      2   \n",
       "18096             2         6.2        70.2           2015-11-10      3   \n",
       "\n",
       "       ceiling_height  floors_total  living_area  floor  is_apartment  ...  \\\n",
       "376              2.75           3.0         41.0      1         False  ...   \n",
       "1687             2.80           4.0         37.0      3         False  ...   \n",
       "2036             2.60           5.0         29.0      5         False  ...   \n",
       "3477             2.65           6.0         43.0      1         False  ...   \n",
       "4906             2.50           5.0         29.0      3         False  ...   \n",
       "9493             2.55           5.0         29.9      4         False  ...   \n",
       "18096            2.65           4.0         43.7      4         False  ...   \n",
       "\n",
       "       ponds_around3000  ponds_nearest  days_exposition  weekday_exposition  \\\n",
       "376                   0            0.5            201.0                   1   \n",
       "1687                  3            0.4            236.0                   2   \n",
       "2036                  1            0.9             72.0                   5   \n",
       "3477                  1            0.4            316.0                   0   \n",
       "4906                  2            0.5             25.0                   1   \n",
       "9493                  1            0.9            394.0                   2   \n",
       "18096                 1            0.5            259.0                   1   \n",
       "\n",
       "      sq_m_price  living_vs_total  kitchen_vs_total  floor_sort  month  year  \n",
       "376     0.100000         0.488095          0.154762      первый      6  2018  \n",
       "1687    0.068966         0.425287          0.172414      другой      6  2017  \n",
       "2036    0.122000         0.580000          0.180000   последний      3  2018  \n",
       "3477    0.095238         0.639881          0.178571      первый     10  2016  \n",
       "4906    0.112245         0.591837          0.173469      другой     10  2017  \n",
       "9493    0.113684         0.629474          0.168421      другой      6  2017  \n",
       "18096   0.088319         0.622507          0.133903   последний     11  2015  \n",
       "\n",
       "[7 rows x 29 columns]"
      ]
     },
     "metadata": {},
     "output_type": "display_data"
    }
   ],
   "source": [
    "# ищу строчки с объявлениями о продаже необычно дорогих и удалённых квартир\n",
    "\n",
    "# первый пик\n",
    "display(bitter_data.loc[(42 < data['city_centers_nearest']) & \n",
    "                        (data['city_centers_nearest'] < 45)])\n",
    "\n",
    "# вторй пик\n",
    "display(bitter_data.loc[(52 < data['city_centers_nearest']) & \n",
    "                        (data['city_centers_nearest'] < 60) & \n",
    "                        (5 < data['last_price'])])\n"
   ]
  },
  {
   "cell_type": "code",
   "execution_count": 62,
   "metadata": {},
   "outputs": [
    {
     "name": "stdout",
     "output_type": "stream",
     "text": [
      "Необычно дорогая квартира находится в: Сестрорецк\n",
      "\n",
      "Необычно дорогие квартиры находятся в:\n",
      "376      Зеленогорск\n",
      "1687       Ломоносов\n",
      "2036     Зеленогорск\n",
      "3477     Зеленогорск\n",
      "4906     Зеленогорск\n",
      "9493     Зеленогорск\n",
      "18096    Зеленогорск\n",
      "Name: locality_name, dtype: object\n"
     ]
    }
   ],
   "source": [
    "# местонахождение необычных квартир\n",
    "\n",
    "# пик 1\n",
    "print('Необычно дорогая квартира находится в:', data.loc[(19984), 'locality_name'])\n",
    "print()\n",
    "\n",
    "# пик 2\n",
    "print('Необычно дорогие квартиры находятся в:')\n",
    "print(data.loc[(376, 1687, 2036, 3477, 4906, 9493, 18096), 'locality_name'])\n",
    "              \n"
   ]
  },
  {
   "cell_type": "markdown",
   "metadata": {},
   "source": [
    "Характеристики необычно дорогих удалённых от центра Санкт-Петербурга квартир на первый взгляд ничем особым не отличаются: ни площадью, ни количеством комнат. \n",
    "\n",
    "Однако, значения столбцов ponds_around3000 и ponds_nearest подсказывает близость водоёмов. Поверка гипотезы географической картой подтверждает предположение: Сестрорецк и Зеленогорск - курортные города, Ломоносов - город с дворцами и крепостями.\n",
    "\n",
    "Таким образом, ничего удивительного в ценах на эти квартиры нет."
   ]
  },
  {
   "cell_type": "code",
   "execution_count": 63,
   "metadata": {},
   "outputs": [
    {
     "data": {
      "text/plain": [
       "<matplotlib.axes._subplots.AxesSubplot at 0x7f151f4aa8d0>"
      ]
     },
     "execution_count": 63,
     "metadata": {},
     "output_type": "execute_result"
    },
    {
     "data": {
      "image/png": "[encoded data removed]",
      "text/plain": [
       "<Figure size 432x288 with 1 Axes>"
      ]
     },
     "metadata": {
      "needs_background": "light"
     },
     "output_type": "display_data"
    }
   ],
   "source": [
    "# график зависимости цены квадратного метра жилья от удалённости от центра внутри города Санкт-Петербург\n",
    "other_data = bitter_data.query('city_centers_nearest < 17')\n",
    "other_data = other_data.pivot_table(index= 'city_centers_nearest', values='sq_m_price')\n",
    "other_data.plot() "
   ]
  },
  {
   "cell_type": "code",
   "execution_count": 64,
   "metadata": {},
   "outputs": [
    {
     "data": {
      "text/plain": [
       "<matplotlib.axes._subplots.AxesSubplot at 0x7f151f2f3d10>"
      ]
     },
     "execution_count": 64,
     "metadata": {},
     "output_type": "execute_result"
    },
    {
     "data": {
      "image/png": "[encoded data removed]",
      "text/plain": [
       "<Figure size 432x288 with 1 Axes>"
      ]
     },
     "metadata": {
      "needs_background": "light"
     },
     "output_type": "display_data"
    }
   ],
   "source": [
    "# версия предыдущего графика с ценами квартир\n",
    "other_data = bitter_data.query('city_centers_nearest < 17')\n",
    "other_data = other_data.pivot_table(index= 'city_centers_nearest', values='last_price')\n",
    "other_data.plot() "
   ]
  },
  {
   "cell_type": "markdown",
   "metadata": {},
   "source": [
    "Графики очень чётко показывают границу города - 14 км от центра города Санкт-Петербург. \n",
    "\n",
    "Также отчётливо виден перелом графиков на отметке 8 км от центра города. \n",
    "\n",
    "Таким образом, радиус центра города с точки зрения цены на жильё составляет 8 км."
   ]
  },
  {
   "cell_type": "code",
   "execution_count": 65,
   "metadata": {},
   "outputs": [
    {
     "name": "stdout",
     "output_type": "stream",
     "text": [
      "Медианная площадь 58.0\n",
      "Медианная цена 6.7\n",
      "Медианное количество комнат 2.0\n",
      "Медианная высота потолков 2.65\n",
      "Медианный этаж 4.0\n",
      "Медианный год размещения объявления 2017.0\n"
     ]
    },
    {
     "data": {
      "text/html": [
       "<div>\n",
       "<style scoped>\n",
       "    .dataframe tbody tr th:only-of-type {\n",
       "        vertical-align: middle;\n",
       "    }\n",
       "\n",
       "    .dataframe tbody tr th {\n",
       "        vertical-align: top;\n",
       "    }\n",
       "\n",
       "    .dataframe thead th {\n",
       "        text-align: right;\n",
       "    }\n",
       "</style>\n",
       "<table border=\"1\" class=\"dataframe\">\n",
       "  <thead>\n",
       "    <tr style=\"text-align: right;\">\n",
       "      <th></th>\n",
       "      <th>total_images</th>\n",
       "      <th>last_price</th>\n",
       "      <th>total_area</th>\n",
       "      <th>first_day_exposition</th>\n",
       "      <th>rooms</th>\n",
       "      <th>ceiling_height</th>\n",
       "      <th>floors_total</th>\n",
       "      <th>living_area</th>\n",
       "      <th>floor</th>\n",
       "      <th>is_apartment</th>\n",
       "      <th>...</th>\n",
       "      <th>ponds_around3000</th>\n",
       "      <th>ponds_nearest</th>\n",
       "      <th>days_exposition</th>\n",
       "      <th>weekday_exposition</th>\n",
       "      <th>sq_m_price</th>\n",
       "      <th>living_vs_total</th>\n",
       "      <th>kitchen_vs_total</th>\n",
       "      <th>floor_sort</th>\n",
       "      <th>month</th>\n",
       "      <th>year</th>\n",
       "    </tr>\n",
       "  </thead>\n",
       "  <tbody>\n",
       "    <tr>\n",
       "      <td>94</td>\n",
       "      <td>3</td>\n",
       "      <td>3.5</td>\n",
       "      <td>29.5</td>\n",
       "      <td>2019-04-26</td>\n",
       "      <td>1</td>\n",
       "      <td>2.50</td>\n",
       "      <td>5.0</td>\n",
       "      <td>15.6</td>\n",
       "      <td>2</td>\n",
       "      <td>False</td>\n",
       "      <td>...</td>\n",
       "      <td>0</td>\n",
       "      <td>0.5</td>\n",
       "      <td>4.0</td>\n",
       "      <td>4</td>\n",
       "      <td>0.118644</td>\n",
       "      <td>0.528814</td>\n",
       "      <td>0.186441</td>\n",
       "      <td>другой</td>\n",
       "      <td>4</td>\n",
       "      <td>2019</td>\n",
       "    </tr>\n",
       "    <tr>\n",
       "      <td>99</td>\n",
       "      <td>32</td>\n",
       "      <td>9.6</td>\n",
       "      <td>90.0</td>\n",
       "      <td>2017-09-26</td>\n",
       "      <td>4</td>\n",
       "      <td>2.65</td>\n",
       "      <td>5.0</td>\n",
       "      <td>67.0</td>\n",
       "      <td>2</td>\n",
       "      <td>False</td>\n",
       "      <td>...</td>\n",
       "      <td>0</td>\n",
       "      <td>0.5</td>\n",
       "      <td>104.0</td>\n",
       "      <td>1</td>\n",
       "      <td>0.106667</td>\n",
       "      <td>0.744444</td>\n",
       "      <td>0.088889</td>\n",
       "      <td>другой</td>\n",
       "      <td>9</td>\n",
       "      <td>2017</td>\n",
       "    </tr>\n",
       "    <tr>\n",
       "      <td>111</td>\n",
       "      <td>4</td>\n",
       "      <td>4.6</td>\n",
       "      <td>40.0</td>\n",
       "      <td>2017-05-29</td>\n",
       "      <td>1</td>\n",
       "      <td>2.65</td>\n",
       "      <td>6.0</td>\n",
       "      <td>18.0</td>\n",
       "      <td>1</td>\n",
       "      <td>False</td>\n",
       "      <td>...</td>\n",
       "      <td>0</td>\n",
       "      <td>0.5</td>\n",
       "      <td>31.0</td>\n",
       "      <td>0</td>\n",
       "      <td>0.115000</td>\n",
       "      <td>0.450000</td>\n",
       "      <td>0.250000</td>\n",
       "      <td>первый</td>\n",
       "      <td>5</td>\n",
       "      <td>2017</td>\n",
       "    </tr>\n",
       "    <tr>\n",
       "      <td>138</td>\n",
       "      <td>8</td>\n",
       "      <td>4.8</td>\n",
       "      <td>40.0</td>\n",
       "      <td>2017-11-18</td>\n",
       "      <td>2</td>\n",
       "      <td>2.65</td>\n",
       "      <td>3.0</td>\n",
       "      <td>29.0</td>\n",
       "      <td>2</td>\n",
       "      <td>False</td>\n",
       "      <td>...</td>\n",
       "      <td>2</td>\n",
       "      <td>0.7</td>\n",
       "      <td>80.0</td>\n",
       "      <td>5</td>\n",
       "      <td>0.120000</td>\n",
       "      <td>0.725000</td>\n",
       "      <td>0.150000</td>\n",
       "      <td>другой</td>\n",
       "      <td>11</td>\n",
       "      <td>2017</td>\n",
       "    </tr>\n",
       "    <tr>\n",
       "      <td>141</td>\n",
       "      <td>8</td>\n",
       "      <td>6.5</td>\n",
       "      <td>32.6</td>\n",
       "      <td>2019-02-27</td>\n",
       "      <td>1</td>\n",
       "      <td>2.65</td>\n",
       "      <td>5.0</td>\n",
       "      <td>18.5</td>\n",
       "      <td>5</td>\n",
       "      <td>False</td>\n",
       "      <td>...</td>\n",
       "      <td>0</td>\n",
       "      <td>0.5</td>\n",
       "      <td>65.0</td>\n",
       "      <td>2</td>\n",
       "      <td>0.199387</td>\n",
       "      <td>0.567485</td>\n",
       "      <td>0.168712</td>\n",
       "      <td>последний</td>\n",
       "      <td>2</td>\n",
       "      <td>2019</td>\n",
       "    </tr>\n",
       "  </tbody>\n",
       "</table>\n",
       "<p>5 rows × 29 columns</p>\n",
       "</div>"
      ],
      "text/plain": [
       "     total_images  last_price  total_area first_day_exposition  rooms  \\\n",
       "94              3         3.5        29.5           2019-04-26      1   \n",
       "99             32         9.6        90.0           2017-09-26      4   \n",
       "111             4         4.6        40.0           2017-05-29      1   \n",
       "138             8         4.8        40.0           2017-11-18      2   \n",
       "141             8         6.5        32.6           2019-02-27      1   \n",
       "\n",
       "     ceiling_height  floors_total  living_area  floor  is_apartment  ...  \\\n",
       "94             2.50           5.0         15.6      2         False  ...   \n",
       "99             2.65           5.0         67.0      2         False  ...   \n",
       "111            2.65           6.0         18.0      1         False  ...   \n",
       "138            2.65           3.0         29.0      2         False  ...   \n",
       "141            2.65           5.0         18.5      5         False  ...   \n",
       "\n",
       "     ponds_around3000  ponds_nearest  days_exposition  weekday_exposition  \\\n",
       "94                  0            0.5              4.0                   4   \n",
       "99                  0            0.5            104.0                   1   \n",
       "111                 0            0.5             31.0                   0   \n",
       "138                 2            0.7             80.0                   5   \n",
       "141                 0            0.5             65.0                   2   \n",
       "\n",
       "    sq_m_price  living_vs_total  kitchen_vs_total  floor_sort  month  year  \n",
       "94    0.118644         0.528814          0.186441      другой      4  2019  \n",
       "99    0.106667         0.744444          0.088889      другой      9  2017  \n",
       "111   0.115000         0.450000          0.250000      первый      5  2017  \n",
       "138   0.120000         0.725000          0.150000      другой     11  2017  \n",
       "141   0.199387         0.567485          0.168712   последний      2  2019  \n",
       "\n",
       "[5 rows x 29 columns]"
      ]
     },
     "metadata": {},
     "output_type": "display_data"
    }
   ],
   "source": [
    "# характеристики квартир в центре города\n",
    "center_data = bitter_data.query('city_centers_nearest < 8')\n",
    "print('Медианная площадь', center_data['total_area'].median())\n",
    "print('Медианная цена', center_data['last_price'].median())\n",
    "print('Медианное количество комнат', center_data['rooms'].median())\n",
    "print('Медианная высота потолков', center_data['ceiling_height'].median())\n",
    "print('Медианный этаж', center_data['floor'].median())\n",
    "print('Медианный год размещения объявления', center_data['year'].median())\n",
    "\n",
    "display(center_data.head())"
   ]
  },
  {
   "cell_type": "code",
   "execution_count": 66,
   "metadata": {},
   "outputs": [
    {
     "name": "stdout",
     "output_type": "stream",
     "text": [
      "Медианная площадь 46.0\n",
      "Медианная цена 4.1\n",
      "Медианное количество комнат 2.0\n",
      "Медианная высота потолков 2.65\n",
      "Медианный этаж 5.0\n",
      "Медианный год размещения объявления 2018.0\n"
     ]
    },
    {
     "data": {
      "text/html": [
       "<div>\n",
       "<style scoped>\n",
       "    .dataframe tbody tr th:only-of-type {\n",
       "        vertical-align: middle;\n",
       "    }\n",
       "\n",
       "    .dataframe tbody tr th {\n",
       "        vertical-align: top;\n",
       "    }\n",
       "\n",
       "    .dataframe thead th {\n",
       "        text-align: right;\n",
       "    }\n",
       "</style>\n",
       "<table border=\"1\" class=\"dataframe\">\n",
       "  <thead>\n",
       "    <tr style=\"text-align: right;\">\n",
       "      <th></th>\n",
       "      <th>total_images</th>\n",
       "      <th>last_price</th>\n",
       "      <th>total_area</th>\n",
       "      <th>first_day_exposition</th>\n",
       "      <th>rooms</th>\n",
       "      <th>ceiling_height</th>\n",
       "      <th>floors_total</th>\n",
       "      <th>living_area</th>\n",
       "      <th>floor</th>\n",
       "      <th>is_apartment</th>\n",
       "      <th>...</th>\n",
       "      <th>ponds_around3000</th>\n",
       "      <th>ponds_nearest</th>\n",
       "      <th>days_exposition</th>\n",
       "      <th>weekday_exposition</th>\n",
       "      <th>sq_m_price</th>\n",
       "      <th>living_vs_total</th>\n",
       "      <th>kitchen_vs_total</th>\n",
       "      <th>floor_sort</th>\n",
       "      <th>month</th>\n",
       "      <th>year</th>\n",
       "    </tr>\n",
       "  </thead>\n",
       "  <tbody>\n",
       "    <tr>\n",
       "      <td>5</td>\n",
       "      <td>10</td>\n",
       "      <td>2.9</td>\n",
       "      <td>30.40</td>\n",
       "      <td>2018-09-10</td>\n",
       "      <td>1</td>\n",
       "      <td>2.65</td>\n",
       "      <td>12.0</td>\n",
       "      <td>14.40</td>\n",
       "      <td>5</td>\n",
       "      <td>False</td>\n",
       "      <td>...</td>\n",
       "      <td>0</td>\n",
       "      <td>0.5</td>\n",
       "      <td>55.0</td>\n",
       "      <td>0</td>\n",
       "      <td>0.095395</td>\n",
       "      <td>0.473684</td>\n",
       "      <td>0.299342</td>\n",
       "      <td>другой</td>\n",
       "      <td>9</td>\n",
       "      <td>2018</td>\n",
       "    </tr>\n",
       "    <tr>\n",
       "      <td>8</td>\n",
       "      <td>20</td>\n",
       "      <td>2.9</td>\n",
       "      <td>33.16</td>\n",
       "      <td>2018-05-23</td>\n",
       "      <td>1</td>\n",
       "      <td>2.65</td>\n",
       "      <td>27.0</td>\n",
       "      <td>15.43</td>\n",
       "      <td>26</td>\n",
       "      <td>False</td>\n",
       "      <td>...</td>\n",
       "      <td>0</td>\n",
       "      <td>0.5</td>\n",
       "      <td>189.0</td>\n",
       "      <td>2</td>\n",
       "      <td>0.087455</td>\n",
       "      <td>0.465320</td>\n",
       "      <td>0.265682</td>\n",
       "      <td>другой</td>\n",
       "      <td>5</td>\n",
       "      <td>2018</td>\n",
       "    </tr>\n",
       "    <tr>\n",
       "      <td>9</td>\n",
       "      <td>18</td>\n",
       "      <td>5.4</td>\n",
       "      <td>61.00</td>\n",
       "      <td>2017-02-26</td>\n",
       "      <td>3</td>\n",
       "      <td>2.50</td>\n",
       "      <td>9.0</td>\n",
       "      <td>43.60</td>\n",
       "      <td>7</td>\n",
       "      <td>False</td>\n",
       "      <td>...</td>\n",
       "      <td>0</td>\n",
       "      <td>0.5</td>\n",
       "      <td>289.0</td>\n",
       "      <td>6</td>\n",
       "      <td>0.088525</td>\n",
       "      <td>0.714754</td>\n",
       "      <td>0.106557</td>\n",
       "      <td>другой</td>\n",
       "      <td>2</td>\n",
       "      <td>2017</td>\n",
       "    </tr>\n",
       "    <tr>\n",
       "      <td>10</td>\n",
       "      <td>5</td>\n",
       "      <td>5.0</td>\n",
       "      <td>39.60</td>\n",
       "      <td>2017-11-16</td>\n",
       "      <td>1</td>\n",
       "      <td>2.67</td>\n",
       "      <td>12.0</td>\n",
       "      <td>20.30</td>\n",
       "      <td>3</td>\n",
       "      <td>False</td>\n",
       "      <td>...</td>\n",
       "      <td>2</td>\n",
       "      <td>0.6</td>\n",
       "      <td>137.0</td>\n",
       "      <td>3</td>\n",
       "      <td>0.126263</td>\n",
       "      <td>0.512626</td>\n",
       "      <td>0.214646</td>\n",
       "      <td>другой</td>\n",
       "      <td>11</td>\n",
       "      <td>2017</td>\n",
       "    </tr>\n",
       "    <tr>\n",
       "      <td>12</td>\n",
       "      <td>10</td>\n",
       "      <td>3.9</td>\n",
       "      <td>54.00</td>\n",
       "      <td>2016-06-30</td>\n",
       "      <td>2</td>\n",
       "      <td>2.65</td>\n",
       "      <td>5.0</td>\n",
       "      <td>30.00</td>\n",
       "      <td>5</td>\n",
       "      <td>False</td>\n",
       "      <td>...</td>\n",
       "      <td>0</td>\n",
       "      <td>0.5</td>\n",
       "      <td>90.0</td>\n",
       "      <td>3</td>\n",
       "      <td>0.072222</td>\n",
       "      <td>0.555556</td>\n",
       "      <td>0.166667</td>\n",
       "      <td>последний</td>\n",
       "      <td>6</td>\n",
       "      <td>2016</td>\n",
       "    </tr>\n",
       "  </tbody>\n",
       "</table>\n",
       "<p>5 rows × 29 columns</p>\n",
       "</div>"
      ],
      "text/plain": [
       "    total_images  last_price  total_area first_day_exposition  rooms  \\\n",
       "5             10         2.9       30.40           2018-09-10      1   \n",
       "8             20         2.9       33.16           2018-05-23      1   \n",
       "9             18         5.4       61.00           2017-02-26      3   \n",
       "10             5         5.0       39.60           2017-11-16      1   \n",
       "12            10         3.9       54.00           2016-06-30      2   \n",
       "\n",
       "    ceiling_height  floors_total  living_area  floor  is_apartment  ...  \\\n",
       "5             2.65          12.0        14.40      5         False  ...   \n",
       "8             2.65          27.0        15.43     26         False  ...   \n",
       "9             2.50           9.0        43.60      7         False  ...   \n",
       "10            2.67          12.0        20.30      3         False  ...   \n",
       "12            2.65           5.0        30.00      5         False  ...   \n",
       "\n",
       "    ponds_around3000  ponds_nearest  days_exposition  weekday_exposition  \\\n",
       "5                  0            0.5             55.0                   0   \n",
       "8                  0            0.5            189.0                   2   \n",
       "9                  0            0.5            289.0                   6   \n",
       "10                 2            0.6            137.0                   3   \n",
       "12                 0            0.5             90.0                   3   \n",
       "\n",
       "   sq_m_price  living_vs_total  kitchen_vs_total  floor_sort  month  year  \n",
       "5    0.095395         0.473684          0.299342      другой      9  2018  \n",
       "8    0.087455         0.465320          0.265682      другой      5  2018  \n",
       "9    0.088525         0.714754          0.106557      другой      2  2017  \n",
       "10   0.126263         0.512626          0.214646      другой     11  2017  \n",
       "12   0.072222         0.555556          0.166667   последний      6  2016  \n",
       "\n",
       "[5 rows x 29 columns]"
      ]
     },
     "metadata": {},
     "output_type": "display_data"
    }
   ],
   "source": [
    "# характеристики квартир в вне центра города\n",
    "out_center_data = bitter_data.query('city_centers_nearest > 8 and city_centers_nearest < 17')\n",
    "print('Медианная площадь', out_center_data['total_area'].median())\n",
    "print('Медианная цена', out_center_data['last_price'].median())\n",
    "print('Медианное количество комнат', out_center_data['rooms'].median())\n",
    "print('Медианная высота потолков', out_center_data['ceiling_height'].median())\n",
    "print('Медианный этаж', out_center_data['floor'].median())\n",
    "print('Медианный год размещения объявления', out_center_data['year'].median())\n",
    "\n",
    "display(out_center_data.head())"
   ]
  },
  {
   "cell_type": "markdown",
   "metadata": {},
   "source": [
    "Сравнение характеристик квартир в центре Санкт-Петрбурга (в радиусе 8 км от центра) и вне центра города показало:\n",
    "\n",
    "- в центре города квартиры большей площади, дороже, продавались в основном в 2017 году (вспоминая графики выше - в период медленного роста цен на жильё), вне центра города квартиры чаще продавались в 2018 году; \n",
    "\n",
    "- количество комнат и высота потолков не отличаются; \n",
    "\n",
    "- этаж квартиры вне центра города в основном немного выше, чем в центре. Это может объясняться преобладанием высотных домов вне центра города. \n",
    "\n",
    "Факторы, влияющие на цену квартиры описаны выше в рассчётах коэффициентов корреляции, при постороении графиков зависимости цены от удалённости."
   ]
  },
  {
   "cell_type": "markdown",
   "metadata": {},
   "source": [
    "## Общий вывод\n",
    "\n",
    "Проведено исседование таблицы с данными объявлений о продаже квартир в Ленинградской области\n",
    "\n",
    "В исходных данных не доставало значительной доли характеристик квартир. Дополнение недостающих данных не всегда правомерно, не необходимо, часто факультативно. Дополненные данные могли исказить общую картину исследования, но не могли исказить общий тренд и выводы исследования. К таким недостающим данным отношу высоту потолков, этажность дома и др.\n",
    "\n",
    "Некая доля данных в исходной таблице аномальны - следствие неправильной записи, искажений, повреждений, умышленной порчи и/или иное. \n",
    "\n",
    "Часть результатов исследований ожидаемо показала отстутвие необходимости углублённо изучать данную область. Например, взаимосвязь влияния дня недели подачи объявления на другие характеристики, на итоговую цену квартиры. \n",
    "\n",
    "После отсеивания аномалий и невосполнимых пропущенных значений полученные данные и зависимости отвечают принципу адекватности и здравому смыслу: квартиры в центре дороже, в отдалённых деревнях дешевле, чем больше площадь, тем выше цена и пр."
   ]
  }
 ],
 "metadata": {
  "ExecuteTimeLog": [
   {
    "duration": 882,
    "start_time": "2021-11-24T11:20:13.588Z"
   },
   {
    "duration": 81,
    "start_time": "2021-11-24T11:21:27.652Z"
   },
   {
    "duration": 110,
    "start_time": "2021-11-24T11:22:54.351Z"
   },
   {
    "duration": 117,
    "start_time": "2021-11-24T11:23:25.168Z"
   },
   {
    "duration": 81,
    "start_time": "2021-11-24T11:24:11.055Z"
   },
   {
    "duration": 147,
    "start_time": "2021-11-24T11:27:51.456Z"
   },
   {
    "duration": 82,
    "start_time": "2021-11-24T11:28:03.774Z"
   },
   {
    "duration": 148,
    "start_time": "2021-11-24T11:29:10.946Z"
   },
   {
    "duration": 127,
    "start_time": "2021-11-24T11:31:39.841Z"
   },
   {
    "duration": 451,
    "start_time": "2021-11-24T11:34:40.695Z"
   },
   {
    "duration": 7,
    "start_time": "2021-11-24T11:35:15.218Z"
   },
   {
    "duration": 8,
    "start_time": "2021-11-24T11:35:20.135Z"
   },
   {
    "duration": 9,
    "start_time": "2021-11-24T11:35:32.118Z"
   },
   {
    "duration": 6,
    "start_time": "2021-11-24T11:35:47.227Z"
   },
   {
    "duration": 6,
    "start_time": "2021-11-24T11:35:55.112Z"
   },
   {
    "duration": 6,
    "start_time": "2021-11-24T11:36:13.990Z"
   },
   {
    "duration": 7,
    "start_time": "2021-11-24T11:38:03.341Z"
   },
   {
    "duration": 138,
    "start_time": "2021-11-24T11:49:16.539Z"
   },
   {
    "duration": 331,
    "start_time": "2021-11-24T12:39:44.753Z"
   },
   {
    "duration": 9,
    "start_time": "2021-11-24T12:45:34.292Z"
   },
   {
    "duration": 13,
    "start_time": "2021-11-24T12:45:56.478Z"
   },
   {
    "duration": 7,
    "start_time": "2021-11-24T12:46:16.103Z"
   },
   {
    "duration": 8,
    "start_time": "2021-11-24T12:46:59.031Z"
   },
   {
    "duration": 111,
    "start_time": "2021-11-24T12:47:09.526Z"
   },
   {
    "duration": 518,
    "start_time": "2021-11-24T12:47:15.070Z"
   },
   {
    "duration": 116,
    "start_time": "2021-11-24T12:47:26.734Z"
   },
   {
    "duration": 8,
    "start_time": "2021-11-24T12:49:27.210Z"
   },
   {
    "duration": 8,
    "start_time": "2021-11-24T12:51:18.137Z"
   },
   {
    "duration": 6,
    "start_time": "2021-11-24T12:51:32.617Z"
   },
   {
    "duration": 5,
    "start_time": "2021-11-24T12:51:36.151Z"
   },
   {
    "duration": 6,
    "start_time": "2021-11-24T12:51:55.741Z"
   },
   {
    "duration": 7,
    "start_time": "2021-11-24T12:51:59.099Z"
   },
   {
    "duration": 8,
    "start_time": "2021-11-24T12:52:10.383Z"
   },
   {
    "duration": 8,
    "start_time": "2021-11-24T12:52:37.031Z"
   },
   {
    "duration": 9,
    "start_time": "2021-11-24T12:52:43.123Z"
   },
   {
    "duration": 4,
    "start_time": "2021-11-24T12:52:49.725Z"
   },
   {
    "duration": 8,
    "start_time": "2021-11-24T12:52:54.753Z"
   },
   {
    "duration": 901,
    "start_time": "2021-11-24T12:53:25.114Z"
   },
   {
    "duration": 6,
    "start_time": "2021-11-24T12:53:26.018Z"
   },
   {
    "duration": 20,
    "start_time": "2021-11-24T12:53:26.026Z"
   },
   {
    "duration": 9,
    "start_time": "2021-11-24T12:55:14.713Z"
   },
   {
    "duration": 5,
    "start_time": "2021-11-24T12:55:42.228Z"
   },
   {
    "duration": 9,
    "start_time": "2021-11-24T12:55:51.907Z"
   },
   {
    "duration": 873,
    "start_time": "2021-11-24T12:56:36.045Z"
   },
   {
    "duration": 6,
    "start_time": "2021-11-24T12:56:36.921Z"
   },
   {
    "duration": 14,
    "start_time": "2021-11-24T12:56:36.930Z"
   },
   {
    "duration": 11,
    "start_time": "2021-11-24T12:57:00.224Z"
   },
   {
    "duration": 125,
    "start_time": "2021-11-24T12:57:08.882Z"
   },
   {
    "duration": 5,
    "start_time": "2021-11-24T12:57:41.478Z"
   },
   {
    "duration": 9,
    "start_time": "2021-11-24T12:57:57.985Z"
   },
   {
    "duration": 1025,
    "start_time": "2021-11-24T12:58:05.582Z"
   },
   {
    "duration": 7,
    "start_time": "2021-11-24T12:58:06.610Z"
   },
   {
    "duration": 14,
    "start_time": "2021-11-24T12:58:06.620Z"
   },
   {
    "duration": 458,
    "start_time": "2021-11-24T13:04:09.812Z"
   },
   {
    "duration": 337,
    "start_time": "2021-11-24T13:04:24.780Z"
   },
   {
    "duration": 943,
    "start_time": "2021-11-24T13:04:37.497Z"
   },
   {
    "duration": 7,
    "start_time": "2021-11-24T13:04:38.443Z"
   },
   {
    "duration": 14,
    "start_time": "2021-11-24T13:04:38.453Z"
   },
   {
    "duration": 469,
    "start_time": "2021-11-24T13:04:38.469Z"
   },
   {
    "duration": 339,
    "start_time": "2021-11-24T13:04:44.780Z"
   },
   {
    "duration": 7,
    "start_time": "2021-11-24T13:10:08.223Z"
   },
   {
    "duration": 11,
    "start_time": "2021-11-24T13:10:28.572Z"
   },
   {
    "duration": 11,
    "start_time": "2021-11-24T13:10:51.227Z"
   },
   {
    "duration": 10,
    "start_time": "2021-11-24T13:11:17.085Z"
   },
   {
    "duration": 9,
    "start_time": "2021-11-24T13:11:23.282Z"
   },
   {
    "duration": 987,
    "start_time": "2021-11-24T13:11:34.572Z"
   },
   {
    "duration": 8,
    "start_time": "2021-11-24T13:11:35.562Z"
   },
   {
    "duration": 31,
    "start_time": "2021-11-24T13:11:35.573Z"
   },
   {
    "duration": 2444,
    "start_time": "2021-11-24T13:11:35.607Z"
   },
   {
    "duration": 2274,
    "start_time": "2021-11-24T13:12:38.469Z"
   },
   {
    "duration": 2406,
    "start_time": "2021-11-24T13:12:55.578Z"
   },
   {
    "duration": 2742,
    "start_time": "2021-11-24T13:13:18.122Z"
   },
   {
    "duration": 15,
    "start_time": "2021-11-24T13:13:42.352Z"
   },
   {
    "duration": 329,
    "start_time": "2021-11-24T13:15:37.358Z"
   },
   {
    "duration": 337,
    "start_time": "2021-11-24T13:16:18.804Z"
   },
   {
    "duration": 15,
    "start_time": "2021-11-24T13:17:59.642Z"
   },
   {
    "duration": 9,
    "start_time": "2021-11-24T13:18:35.551Z"
   },
   {
    "duration": 11,
    "start_time": "2021-11-24T13:18:38.209Z"
   },
   {
    "duration": 12,
    "start_time": "2021-11-24T13:20:00.308Z"
   },
   {
    "duration": 358,
    "start_time": "2021-11-24T13:32:10.614Z"
   },
   {
    "duration": 199,
    "start_time": "2021-11-24T13:36:52.293Z"
   },
   {
    "duration": 331,
    "start_time": "2021-11-24T13:37:01.157Z"
   },
   {
    "duration": 342,
    "start_time": "2021-11-24T13:40:36.859Z"
   },
   {
    "duration": 391,
    "start_time": "2021-11-24T13:40:43.874Z"
   },
   {
    "duration": 22,
    "start_time": "2021-11-24T13:42:20.493Z"
   },
   {
    "duration": 38,
    "start_time": "2021-11-24T13:42:33.225Z"
   },
   {
    "duration": 48,
    "start_time": "2021-11-24T13:44:06.047Z"
   },
   {
    "duration": 40,
    "start_time": "2021-11-24T13:44:33.273Z"
   },
   {
    "duration": 338,
    "start_time": "2021-11-24T13:56:28.986Z"
   },
   {
    "duration": 154,
    "start_time": "2021-11-24T13:57:07.457Z"
   },
   {
    "duration": 286,
    "start_time": "2021-11-24T13:57:52.264Z"
   },
   {
    "duration": 153,
    "start_time": "2021-11-24T13:58:05.146Z"
   },
   {
    "duration": 54,
    "start_time": "2021-11-24T13:59:09.142Z"
   },
   {
    "duration": 55,
    "start_time": "2021-11-24T13:59:20.651Z"
   },
   {
    "duration": 54,
    "start_time": "2021-11-24T14:00:34.345Z"
   },
   {
    "duration": 40,
    "start_time": "2021-11-24T14:00:47.417Z"
   },
   {
    "duration": 76,
    "start_time": "2021-11-24T14:07:46.858Z"
   },
   {
    "duration": 1066,
    "start_time": "2021-11-24T14:09:09.094Z"
   },
   {
    "duration": 8,
    "start_time": "2021-11-24T14:09:10.162Z"
   },
   {
    "duration": 68,
    "start_time": "2021-11-24T14:09:10.173Z"
   },
   {
    "duration": 18,
    "start_time": "2021-11-24T14:09:10.244Z"
   },
   {
    "duration": 12,
    "start_time": "2021-11-24T14:09:10.264Z"
   },
   {
    "duration": 58,
    "start_time": "2021-11-24T14:09:10.279Z"
   },
   {
    "duration": 43,
    "start_time": "2021-11-24T14:09:10.340Z"
   },
   {
    "duration": 42,
    "start_time": "2021-11-24T14:10:48.431Z"
   },
   {
    "duration": 56,
    "start_time": "2021-11-24T14:11:19.603Z"
   },
   {
    "duration": 44,
    "start_time": "2021-11-24T14:11:44.297Z"
   },
   {
    "duration": 206,
    "start_time": "2021-11-24T14:15:42.831Z"
   },
   {
    "duration": 93,
    "start_time": "2021-11-24T14:16:21.669Z"
   },
   {
    "duration": 74,
    "start_time": "2021-11-24T14:16:35.124Z"
   },
   {
    "duration": 497,
    "start_time": "2021-11-24T14:16:42.386Z"
   },
   {
    "duration": 161,
    "start_time": "2021-11-24T14:18:35.315Z"
   },
   {
    "duration": 142,
    "start_time": "2021-11-24T14:18:51.242Z"
   },
   {
    "duration": 18,
    "start_time": "2021-11-24T14:19:19.679Z"
   },
   {
    "duration": 7,
    "start_time": "2021-11-24T14:19:50.113Z"
   },
   {
    "duration": 8,
    "start_time": "2021-11-24T14:20:12.421Z"
   },
   {
    "duration": 9,
    "start_time": "2021-11-24T14:21:25.588Z"
   },
   {
    "duration": 392,
    "start_time": "2021-11-24T14:27:57.733Z"
   },
   {
    "duration": 156,
    "start_time": "2021-11-24T14:28:40.533Z"
   },
   {
    "duration": 50,
    "start_time": "2021-11-24T14:30:55.902Z"
   },
   {
    "duration": 51,
    "start_time": "2021-11-24T14:31:08.569Z"
   },
   {
    "duration": 93,
    "start_time": "2021-11-24T14:31:47.707Z"
   },
   {
    "duration": 9483,
    "start_time": "2021-11-24T14:33:59.948Z"
   },
   {
    "duration": 86,
    "start_time": "2021-11-24T14:34:36.061Z"
   },
   {
    "duration": 364,
    "start_time": "2021-11-24T14:35:45.474Z"
   },
   {
    "duration": 135,
    "start_time": "2021-11-24T14:37:04.355Z"
   },
   {
    "duration": 993,
    "start_time": "2021-11-24T14:37:24.287Z"
   },
   {
    "duration": 6,
    "start_time": "2021-11-24T14:37:25.283Z"
   },
   {
    "duration": 15,
    "start_time": "2021-11-24T14:37:25.305Z"
   },
   {
    "duration": 15,
    "start_time": "2021-11-24T14:37:25.323Z"
   },
   {
    "duration": 12,
    "start_time": "2021-11-24T14:37:25.341Z"
   },
   {
    "duration": 94,
    "start_time": "2021-11-24T14:37:25.356Z"
   },
   {
    "duration": 68,
    "start_time": "2021-11-24T14:37:25.453Z"
   },
   {
    "duration": 11,
    "start_time": "2021-11-24T14:37:25.523Z"
   },
   {
    "duration": 629,
    "start_time": "2021-11-24T14:37:25.537Z"
   },
   {
    "duration": 412,
    "start_time": "2021-11-24T14:37:33.798Z"
   },
   {
    "duration": 374,
    "start_time": "2021-11-24T14:37:46.884Z"
   },
   {
    "duration": 408,
    "start_time": "2021-11-24T14:38:24.794Z"
   },
   {
    "duration": 405,
    "start_time": "2021-11-24T14:38:28.301Z"
   },
   {
    "duration": 1020,
    "start_time": "2021-11-24T14:38:44.115Z"
   },
   {
    "duration": 7,
    "start_time": "2021-11-24T14:38:45.138Z"
   },
   {
    "duration": 20,
    "start_time": "2021-11-24T14:38:45.148Z"
   },
   {
    "duration": 41,
    "start_time": "2021-11-24T14:38:45.172Z"
   },
   {
    "duration": 12,
    "start_time": "2021-11-24T14:38:45.215Z"
   },
   {
    "duration": 71,
    "start_time": "2021-11-24T14:38:45.230Z"
   },
   {
    "duration": 55,
    "start_time": "2021-11-24T14:38:45.304Z"
   },
   {
    "duration": 11,
    "start_time": "2021-11-24T14:38:45.363Z"
   },
   {
    "duration": 488,
    "start_time": "2021-11-24T14:38:45.400Z"
   },
   {
    "duration": 130,
    "start_time": "2021-11-24T14:38:51.624Z"
   },
   {
    "duration": 141,
    "start_time": "2021-11-24T14:38:58.259Z"
   },
   {
    "duration": 944,
    "start_time": "2021-11-24T14:39:05.411Z"
   },
   {
    "duration": 6,
    "start_time": "2021-11-24T14:39:06.358Z"
   },
   {
    "duration": 39,
    "start_time": "2021-11-24T14:39:06.367Z"
   },
   {
    "duration": 16,
    "start_time": "2021-11-24T14:39:06.409Z"
   },
   {
    "duration": 14,
    "start_time": "2021-11-24T14:39:06.428Z"
   },
   {
    "duration": 74,
    "start_time": "2021-11-24T14:39:06.444Z"
   },
   {
    "duration": 44,
    "start_time": "2021-11-24T14:39:06.520Z"
   },
   {
    "duration": 47,
    "start_time": "2021-11-24T14:39:06.568Z"
   },
   {
    "duration": 528,
    "start_time": "2021-11-24T14:39:06.617Z"
   },
   {
    "duration": 144,
    "start_time": "2021-11-24T14:39:11.842Z"
   },
   {
    "duration": 166,
    "start_time": "2021-11-24T14:39:15.766Z"
   },
   {
    "duration": 9,
    "start_time": "2021-11-24T14:39:28.181Z"
   },
   {
    "duration": 15,
    "start_time": "2021-11-24T14:39:31.680Z"
   },
   {
    "duration": 16,
    "start_time": "2021-11-24T14:39:36.548Z"
   },
   {
    "duration": 42,
    "start_time": "2021-11-24T14:39:40.317Z"
   },
   {
    "duration": 41,
    "start_time": "2021-11-24T14:39:45.172Z"
   },
   {
    "duration": 11,
    "start_time": "2021-11-24T14:39:49.653Z"
   },
   {
    "duration": 582,
    "start_time": "2021-11-24T14:39:53.047Z"
   },
   {
    "duration": 396,
    "start_time": "2021-11-24T14:40:40.076Z"
   },
   {
    "duration": 389,
    "start_time": "2021-11-24T14:40:50.605Z"
   },
   {
    "duration": 9,
    "start_time": "2021-11-24T14:41:52.804Z"
   },
   {
    "duration": 397,
    "start_time": "2021-11-24T14:42:06.261Z"
   },
   {
    "duration": 900,
    "start_time": "2021-11-24T14:42:55.952Z"
   },
   {
    "duration": 7,
    "start_time": "2021-11-24T14:42:56.855Z"
   },
   {
    "duration": 15,
    "start_time": "2021-11-24T14:42:56.865Z"
   },
   {
    "duration": 18,
    "start_time": "2021-11-24T14:42:56.902Z"
   },
   {
    "duration": 11,
    "start_time": "2021-11-24T14:42:56.923Z"
   },
   {
    "duration": 75,
    "start_time": "2021-11-24T14:42:56.937Z"
   },
   {
    "duration": 48,
    "start_time": "2021-11-24T14:42:57.016Z"
   },
   {
    "duration": 37,
    "start_time": "2021-11-24T14:42:57.069Z"
   },
   {
    "duration": 491,
    "start_time": "2021-11-24T14:42:57.109Z"
   },
   {
    "duration": 461,
    "start_time": "2021-11-24T14:43:03.452Z"
   },
   {
    "duration": 1474,
    "start_time": "2021-11-24T14:44:22.753Z"
   },
   {
    "duration": 9,
    "start_time": "2021-11-24T14:44:24.231Z"
   },
   {
    "duration": 16,
    "start_time": "2021-11-24T14:44:24.244Z"
   },
   {
    "duration": 25,
    "start_time": "2021-11-24T14:44:24.301Z"
   },
   {
    "duration": 20,
    "start_time": "2021-11-24T14:44:24.329Z"
   },
   {
    "duration": 101,
    "start_time": "2021-11-24T14:44:24.352Z"
   },
   {
    "duration": 86,
    "start_time": "2021-11-24T14:44:24.456Z"
   },
   {
    "duration": 15,
    "start_time": "2021-11-24T14:44:24.546Z"
   },
   {
    "duration": 573,
    "start_time": "2021-11-24T14:44:24.563Z"
   },
   {
    "duration": 474,
    "start_time": "2021-11-24T14:44:53.539Z"
   },
   {
    "duration": 7,
    "start_time": "2021-11-24T15:05:20.651Z"
   },
   {
    "duration": 129,
    "start_time": "2021-11-24T15:06:28.032Z"
   },
   {
    "duration": 10,
    "start_time": "2021-11-24T15:06:38.782Z"
   },
   {
    "duration": 5,
    "start_time": "2021-11-24T15:07:00.592Z"
   },
   {
    "duration": 64,
    "start_time": "2021-11-24T15:07:23.394Z"
   },
   {
    "duration": 11,
    "start_time": "2021-11-24T15:09:42.241Z"
   },
   {
    "duration": 12,
    "start_time": "2021-11-24T15:10:08.350Z"
   },
   {
    "duration": 10,
    "start_time": "2021-11-24T15:11:35.391Z"
   },
   {
    "duration": 10,
    "start_time": "2021-11-24T15:15:33.654Z"
   },
   {
    "duration": 13,
    "start_time": "2021-11-24T15:15:59.451Z"
   },
   {
    "duration": 12,
    "start_time": "2021-11-24T15:16:50.385Z"
   },
   {
    "duration": 12,
    "start_time": "2021-11-24T15:17:05.820Z"
   },
   {
    "duration": 13,
    "start_time": "2021-11-24T15:17:14.845Z"
   },
   {
    "duration": 157,
    "start_time": "2021-11-24T15:18:52.523Z"
   },
   {
    "duration": 445,
    "start_time": "2021-11-24T16:00:33.470Z"
   },
   {
    "duration": 2336,
    "start_time": "2021-11-24T16:08:13.451Z"
   },
   {
    "duration": 2313,
    "start_time": "2021-11-24T16:08:36.070Z"
   },
   {
    "duration": 2347,
    "start_time": "2021-11-24T16:08:39.053Z"
   },
   {
    "duration": 2431,
    "start_time": "2021-11-24T16:09:56.797Z"
   },
   {
    "duration": 2396,
    "start_time": "2021-11-24T16:11:41.209Z"
   },
   {
    "duration": 161,
    "start_time": "2021-11-24T16:18:38.548Z"
   },
   {
    "duration": 2362,
    "start_time": "2021-11-24T16:18:48.632Z"
   },
   {
    "duration": 2503,
    "start_time": "2021-11-24T16:19:53.884Z"
   },
   {
    "duration": 1193,
    "start_time": "2021-11-24T16:20:04.904Z"
   },
   {
    "duration": 6,
    "start_time": "2021-11-24T16:20:06.101Z"
   },
   {
    "duration": 13,
    "start_time": "2021-11-24T16:20:06.110Z"
   },
   {
    "duration": 15,
    "start_time": "2021-11-24T16:20:06.127Z"
   },
   {
    "duration": 11,
    "start_time": "2021-11-24T16:20:06.144Z"
   },
   {
    "duration": 81,
    "start_time": "2021-11-24T16:20:06.157Z"
   },
   {
    "duration": 59,
    "start_time": "2021-11-24T16:20:06.241Z"
   },
   {
    "duration": 10,
    "start_time": "2021-11-24T16:20:06.303Z"
   },
   {
    "duration": 632,
    "start_time": "2021-11-24T16:20:06.316Z"
   },
   {
    "duration": 1970,
    "start_time": "2021-11-24T16:20:04.981Z"
   },
   {
    "duration": 1963,
    "start_time": "2021-11-24T16:20:04.989Z"
   },
   {
    "duration": 1961,
    "start_time": "2021-11-24T16:20:04.992Z"
   },
   {
    "duration": 1960,
    "start_time": "2021-11-24T16:20:04.994Z"
   },
   {
    "duration": 10,
    "start_time": "2021-11-24T16:21:05.686Z"
   },
   {
    "duration": 11,
    "start_time": "2021-11-24T16:21:13.983Z"
   },
   {
    "duration": 2359,
    "start_time": "2021-11-24T16:21:19.454Z"
   },
   {
    "duration": 2490,
    "start_time": "2021-11-24T16:22:02.332Z"
   },
   {
    "duration": 2372,
    "start_time": "2021-11-24T16:22:19.231Z"
   },
   {
    "duration": 124,
    "start_time": "2021-11-24T16:22:42.879Z"
   },
   {
    "duration": 2410,
    "start_time": "2021-11-24T16:22:50.194Z"
   },
   {
    "duration": 2397,
    "start_time": "2021-11-24T16:23:15.544Z"
   },
   {
    "duration": 910,
    "start_time": "2021-11-24T16:24:04.925Z"
   },
   {
    "duration": 6,
    "start_time": "2021-11-24T16:24:05.838Z"
   },
   {
    "duration": 22,
    "start_time": "2021-11-24T16:24:05.847Z"
   },
   {
    "duration": 32,
    "start_time": "2021-11-24T16:24:05.872Z"
   },
   {
    "duration": 11,
    "start_time": "2021-11-24T16:24:05.906Z"
   },
   {
    "duration": 52,
    "start_time": "2021-11-24T16:24:05.920Z"
   },
   {
    "duration": 58,
    "start_time": "2021-11-24T16:24:05.974Z"
   },
   {
    "duration": 10,
    "start_time": "2021-11-24T16:24:06.035Z"
   },
   {
    "duration": 478,
    "start_time": "2021-11-24T16:24:06.048Z"
   },
   {
    "duration": 1964,
    "start_time": "2021-11-24T16:24:04.565Z"
   },
   {
    "duration": 1963,
    "start_time": "2021-11-24T16:24:04.567Z"
   },
   {
    "duration": 1964,
    "start_time": "2021-11-24T16:24:04.568Z"
   },
   {
    "duration": 1963,
    "start_time": "2021-11-24T16:24:04.570Z"
   },
   {
    "duration": 11,
    "start_time": "2021-11-24T16:24:20.283Z"
   },
   {
    "duration": 11,
    "start_time": "2021-11-24T16:24:22.799Z"
   },
   {
    "duration": 2451,
    "start_time": "2021-11-24T16:24:27.179Z"
   },
   {
    "duration": 2511,
    "start_time": "2021-11-24T16:24:35.649Z"
   },
   {
    "duration": 12,
    "start_time": "2021-11-24T16:26:47.361Z"
   },
   {
    "duration": 13,
    "start_time": "2021-11-24T16:30:10.427Z"
   },
   {
    "duration": 42,
    "start_time": "2021-11-24T16:45:18.681Z"
   },
   {
    "duration": 8577,
    "start_time": "2021-11-24T16:50:40.780Z"
   },
   {
    "duration": 118,
    "start_time": "2021-11-24T16:53:40.009Z"
   },
   {
    "duration": 8981,
    "start_time": "2021-11-24T16:53:53.204Z"
   },
   {
    "duration": 397,
    "start_time": "2021-11-24T16:54:38.389Z"
   },
   {
    "duration": 521,
    "start_time": "2021-11-24T16:55:23.369Z"
   },
   {
    "duration": 426,
    "start_time": "2021-11-24T16:55:52.606Z"
   },
   {
    "duration": 12,
    "start_time": "2021-11-24T17:16:32.937Z"
   },
   {
    "duration": 14,
    "start_time": "2021-11-24T17:17:14.443Z"
   },
   {
    "duration": 390,
    "start_time": "2021-11-24T17:20:10.182Z"
   },
   {
    "duration": 9143,
    "start_time": "2021-11-24T17:20:57.477Z"
   },
   {
    "duration": 372,
    "start_time": "2021-11-24T17:21:13.417Z"
   },
   {
    "duration": 940,
    "start_time": "2021-11-24T17:21:48.162Z"
   },
   {
    "duration": 7,
    "start_time": "2021-11-24T17:21:49.105Z"
   },
   {
    "duration": 14,
    "start_time": "2021-11-24T17:21:49.115Z"
   },
   {
    "duration": 14,
    "start_time": "2021-11-24T17:21:49.132Z"
   },
   {
    "duration": 11,
    "start_time": "2021-11-24T17:21:49.149Z"
   },
   {
    "duration": 79,
    "start_time": "2021-11-24T17:21:49.162Z"
   },
   {
    "duration": 37,
    "start_time": "2021-11-24T17:21:49.243Z"
   },
   {
    "duration": 8715,
    "start_time": "2021-11-24T17:21:49.302Z"
   },
   {
    "duration": 10,
    "start_time": "2021-11-24T17:21:58.019Z"
   },
   {
    "duration": 18,
    "start_time": "2021-11-24T17:21:58.032Z"
   },
   {
    "duration": 11,
    "start_time": "2021-11-24T17:21:58.052Z"
   },
   {
    "duration": 2327,
    "start_time": "2021-11-24T17:21:58.065Z"
   },
   {
    "duration": 2395,
    "start_time": "2021-11-24T17:22:00.394Z"
   },
   {
    "duration": 20,
    "start_time": "2021-11-24T17:22:02.792Z"
   },
   {
    "duration": 119,
    "start_time": "2021-11-24T17:22:02.815Z"
   },
   {
    "duration": 2041,
    "start_time": "2021-11-24T17:22:00.897Z"
   },
   {
    "duration": 2032,
    "start_time": "2021-11-24T17:22:00.908Z"
   },
   {
    "duration": 43,
    "start_time": "2021-11-24T17:27:18.294Z"
   },
   {
    "duration": 48,
    "start_time": "2021-11-24T17:32:05.118Z"
   },
   {
    "duration": 47,
    "start_time": "2021-11-24T17:33:48.474Z"
   },
   {
    "duration": 51,
    "start_time": "2021-11-24T17:34:37.405Z"
   },
   {
    "duration": 11,
    "start_time": "2021-11-24T17:36:18.506Z"
   },
   {
    "duration": 10,
    "start_time": "2021-11-24T17:36:57.903Z"
   },
   {
    "duration": 11,
    "start_time": "2021-11-24T17:42:21.265Z"
   },
   {
    "duration": 7,
    "start_time": "2021-11-24T17:47:21.284Z"
   },
   {
    "duration": 8,
    "start_time": "2021-11-24T17:47:28.276Z"
   },
   {
    "duration": 8,
    "start_time": "2021-11-24T17:47:36.539Z"
   },
   {
    "duration": 867,
    "start_time": "2021-11-24T17:47:45.243Z"
   },
   {
    "duration": 7,
    "start_time": "2021-11-24T17:47:46.114Z"
   },
   {
    "duration": 16,
    "start_time": "2021-11-24T17:47:46.123Z"
   },
   {
    "duration": 15,
    "start_time": "2021-11-24T17:47:46.141Z"
   },
   {
    "duration": 48,
    "start_time": "2021-11-24T17:47:46.158Z"
   },
   {
    "duration": 39,
    "start_time": "2021-11-24T17:47:46.208Z"
   },
   {
    "duration": 11,
    "start_time": "2021-11-24T17:47:46.250Z"
   },
   {
    "duration": 529,
    "start_time": "2021-11-24T17:47:46.265Z"
   },
   {
    "duration": 2000,
    "start_time": "2021-11-24T17:47:44.796Z"
   },
   {
    "duration": 1997,
    "start_time": "2021-11-24T17:47:44.801Z"
   },
   {
    "duration": 1990,
    "start_time": "2021-11-24T17:47:44.810Z"
   },
   {
    "duration": 1987,
    "start_time": "2021-11-24T17:47:44.814Z"
   },
   {
    "duration": 1987,
    "start_time": "2021-11-24T17:47:44.816Z"
   },
   {
    "duration": 1984,
    "start_time": "2021-11-24T17:47:44.820Z"
   },
   {
    "duration": 1978,
    "start_time": "2021-11-24T17:47:44.828Z"
   },
   {
    "duration": 1977,
    "start_time": "2021-11-24T17:47:44.830Z"
   },
   {
    "duration": 1977,
    "start_time": "2021-11-24T17:47:44.832Z"
   },
   {
    "duration": 1974,
    "start_time": "2021-11-24T17:47:44.836Z"
   },
   {
    "duration": 1970,
    "start_time": "2021-11-24T17:47:44.842Z"
   },
   {
    "duration": 10,
    "start_time": "2021-11-24T17:48:27.153Z"
   },
   {
    "duration": 37,
    "start_time": "2021-11-24T17:49:40.993Z"
   },
   {
    "duration": 8702,
    "start_time": "2021-11-24T17:50:36.360Z"
   },
   {
    "duration": 12,
    "start_time": "2021-11-24T17:51:05.049Z"
   },
   {
    "duration": 11,
    "start_time": "2021-11-24T17:51:14.183Z"
   },
   {
    "duration": 13,
    "start_time": "2021-11-24T17:51:20.666Z"
   },
   {
    "duration": 2379,
    "start_time": "2021-11-24T17:51:31.513Z"
   },
   {
    "duration": 2400,
    "start_time": "2021-11-24T17:52:24.518Z"
   },
   {
    "duration": 4990,
    "start_time": "2021-11-24T17:54:48.310Z"
   },
   {
    "duration": 2391,
    "start_time": "2021-11-24T17:55:46.698Z"
   },
   {
    "duration": 2296,
    "start_time": "2021-11-24T17:57:38.790Z"
   },
   {
    "duration": 2373,
    "start_time": "2021-11-24T17:59:22.762Z"
   },
   {
    "duration": 2371,
    "start_time": "2021-11-24T18:01:06.738Z"
   },
   {
    "duration": 2341,
    "start_time": "2021-11-24T18:01:22.163Z"
   },
   {
    "duration": 935,
    "start_time": "2021-11-24T18:01:32.799Z"
   },
   {
    "duration": 7,
    "start_time": "2021-11-24T18:01:33.738Z"
   },
   {
    "duration": 21,
    "start_time": "2021-11-24T18:01:33.748Z"
   },
   {
    "duration": 35,
    "start_time": "2021-11-24T18:01:33.772Z"
   },
   {
    "duration": 11,
    "start_time": "2021-11-24T18:01:33.810Z"
   },
   {
    "duration": 44,
    "start_time": "2021-11-24T18:01:33.824Z"
   },
   {
    "duration": 36,
    "start_time": "2021-11-24T18:01:33.870Z"
   },
   {
    "duration": 9,
    "start_time": "2021-11-24T18:01:33.910Z"
   },
   {
    "duration": 37,
    "start_time": "2021-11-24T18:01:33.922Z"
   },
   {
    "duration": 8802,
    "start_time": "2021-11-24T18:01:33.962Z"
   },
   {
    "duration": 12,
    "start_time": "2021-11-24T18:01:42.766Z"
   },
   {
    "duration": 27,
    "start_time": "2021-11-24T18:01:42.781Z"
   },
   {
    "duration": 11,
    "start_time": "2021-11-24T18:01:42.810Z"
   },
   {
    "duration": 2403,
    "start_time": "2021-11-24T18:01:42.824Z"
   },
   {
    "duration": 2595,
    "start_time": "2021-11-24T18:01:45.230Z"
   },
   {
    "duration": 9,
    "start_time": "2021-11-24T18:01:47.827Z"
   },
   {
    "duration": 128,
    "start_time": "2021-11-24T18:01:47.839Z"
   },
   {
    "duration": 2003,
    "start_time": "2021-11-24T18:01:45.967Z"
   },
   {
    "duration": 2003,
    "start_time": "2021-11-24T18:01:45.969Z"
   },
   {
    "duration": 2468,
    "start_time": "2021-11-24T18:02:55.093Z"
   },
   {
    "duration": 1051,
    "start_time": "2021-11-24T18:03:04.163Z"
   },
   {
    "duration": 6,
    "start_time": "2021-11-24T18:03:05.217Z"
   },
   {
    "duration": 25,
    "start_time": "2021-11-24T18:03:05.228Z"
   },
   {
    "duration": 16,
    "start_time": "2021-11-24T18:03:05.255Z"
   },
   {
    "duration": 36,
    "start_time": "2021-11-24T18:03:05.273Z"
   },
   {
    "duration": 41,
    "start_time": "2021-11-24T18:03:05.311Z"
   },
   {
    "duration": 9,
    "start_time": "2021-11-24T18:03:05.355Z"
   },
   {
    "duration": 9,
    "start_time": "2021-11-24T18:03:05.400Z"
   },
   {
    "duration": 37,
    "start_time": "2021-11-24T18:03:05.412Z"
   },
   {
    "duration": 8526,
    "start_time": "2021-11-24T18:03:05.452Z"
   },
   {
    "duration": 22,
    "start_time": "2021-11-24T18:03:13.980Z"
   },
   {
    "duration": 12,
    "start_time": "2021-11-24T18:03:14.004Z"
   },
   {
    "duration": 12,
    "start_time": "2021-11-24T18:03:14.018Z"
   },
   {
    "duration": 2401,
    "start_time": "2021-11-24T18:03:14.032Z"
   },
   {
    "duration": 2578,
    "start_time": "2021-11-24T18:03:16.436Z"
   },
   {
    "duration": 9,
    "start_time": "2021-11-24T18:03:19.016Z"
   },
   {
    "duration": 115,
    "start_time": "2021-11-24T18:03:19.028Z"
   },
   {
    "duration": 2003,
    "start_time": "2021-11-24T18:03:17.142Z"
   },
   {
    "duration": 2002,
    "start_time": "2021-11-24T18:03:17.145Z"
   },
   {
    "duration": 2314,
    "start_time": "2021-11-24T18:03:47.987Z"
   },
   {
    "duration": 874,
    "start_time": "2021-11-24T18:03:56.943Z"
   },
   {
    "duration": 7,
    "start_time": "2021-11-24T18:03:57.821Z"
   },
   {
    "duration": 17,
    "start_time": "2021-11-24T18:03:57.833Z"
   },
   {
    "duration": 57,
    "start_time": "2021-11-24T18:03:57.854Z"
   },
   {
    "duration": 18,
    "start_time": "2021-11-24T18:03:57.915Z"
   },
   {
    "duration": 86,
    "start_time": "2021-11-24T18:03:57.936Z"
   },
   {
    "duration": 14,
    "start_time": "2021-11-24T18:03:58.025Z"
   },
   {
    "duration": 12,
    "start_time": "2021-11-24T18:03:58.044Z"
   },
   {
    "duration": 69,
    "start_time": "2021-11-24T18:03:58.060Z"
   },
   {
    "duration": 8980,
    "start_time": "2021-11-24T18:03:58.132Z"
   },
   {
    "duration": 10,
    "start_time": "2021-11-24T18:04:07.115Z"
   },
   {
    "duration": 15,
    "start_time": "2021-11-24T18:04:07.127Z"
   },
   {
    "duration": 13,
    "start_time": "2021-11-24T18:04:07.145Z"
   },
   {
    "duration": 2462,
    "start_time": "2021-11-24T18:04:07.160Z"
   },
   {
    "duration": 2645,
    "start_time": "2021-11-24T18:04:09.625Z"
   },
   {
    "duration": 8,
    "start_time": "2021-11-24T18:04:12.274Z"
   },
   {
    "duration": 167,
    "start_time": "2021-11-24T18:04:12.302Z"
   },
   {
    "duration": 1974,
    "start_time": "2021-11-24T18:04:10.497Z"
   },
   {
    "duration": 1970,
    "start_time": "2021-11-24T18:04:10.503Z"
   },
   {
    "duration": 2475,
    "start_time": "2021-11-24T18:11:56.307Z"
   },
   {
    "duration": 2354,
    "start_time": "2021-11-24T18:12:11.102Z"
   },
   {
    "duration": 913,
    "start_time": "2021-11-24T18:12:26.548Z"
   },
   {
    "duration": 5,
    "start_time": "2021-11-24T18:12:27.464Z"
   },
   {
    "duration": 25,
    "start_time": "2021-11-24T18:12:27.476Z"
   },
   {
    "duration": 14,
    "start_time": "2021-11-24T18:12:27.504Z"
   },
   {
    "duration": 21,
    "start_time": "2021-11-24T18:12:27.521Z"
   },
   {
    "duration": 65,
    "start_time": "2021-11-24T18:12:27.544Z"
   },
   {
    "duration": 11,
    "start_time": "2021-11-24T18:12:27.615Z"
   },
   {
    "duration": 11,
    "start_time": "2021-11-24T18:12:27.630Z"
   },
   {
    "duration": 76,
    "start_time": "2021-11-24T18:12:27.643Z"
   },
   {
    "duration": 8657,
    "start_time": "2021-11-24T18:12:27.721Z"
   },
   {
    "duration": 21,
    "start_time": "2021-11-24T18:12:36.381Z"
   },
   {
    "duration": 14,
    "start_time": "2021-11-24T18:12:36.404Z"
   },
   {
    "duration": 15,
    "start_time": "2021-11-24T18:12:36.420Z"
   },
   {
    "duration": 2429,
    "start_time": "2021-11-24T18:12:36.438Z"
   },
   {
    "duration": 2321,
    "start_time": "2021-11-24T18:12:38.870Z"
   },
   {
    "duration": 12,
    "start_time": "2021-11-24T18:12:41.194Z"
   },
   {
    "duration": 114,
    "start_time": "2021-11-24T18:12:41.209Z"
   },
   {
    "duration": 1990,
    "start_time": "2021-11-24T18:12:39.335Z"
   },
   {
    "duration": 1988,
    "start_time": "2021-11-24T18:12:39.338Z"
   },
   {
    "duration": 120,
    "start_time": "2021-11-24T18:21:09.248Z"
   },
   {
    "duration": 2312,
    "start_time": "2021-11-24T18:21:27.266Z"
   },
   {
    "duration": 2813,
    "start_time": "2021-11-24T18:22:58.111Z"
   },
   {
    "duration": 893,
    "start_time": "2021-11-24T18:23:16.237Z"
   },
   {
    "duration": 5,
    "start_time": "2021-11-24T18:23:17.133Z"
   },
   {
    "duration": 16,
    "start_time": "2021-11-24T18:23:17.141Z"
   },
   {
    "duration": 13,
    "start_time": "2021-11-24T18:23:17.160Z"
   },
   {
    "duration": 33,
    "start_time": "2021-11-24T18:23:17.176Z"
   },
   {
    "duration": 42,
    "start_time": "2021-11-24T18:23:17.212Z"
   },
   {
    "duration": 9,
    "start_time": "2021-11-24T18:23:17.256Z"
   },
   {
    "duration": 9,
    "start_time": "2021-11-24T18:23:17.301Z"
   },
   {
    "duration": 39,
    "start_time": "2021-11-24T18:23:17.313Z"
   },
   {
    "duration": 9175,
    "start_time": "2021-11-24T18:23:17.354Z"
   },
   {
    "duration": 11,
    "start_time": "2021-11-24T18:23:26.532Z"
   },
   {
    "duration": 16,
    "start_time": "2021-11-24T18:23:26.546Z"
   },
   {
    "duration": 38,
    "start_time": "2021-11-24T18:23:26.565Z"
   },
   {
    "duration": 2457,
    "start_time": "2021-11-24T18:23:26.605Z"
   },
   {
    "duration": 2407,
    "start_time": "2021-11-24T18:23:29.064Z"
   },
   {
    "duration": 29,
    "start_time": "2021-11-24T18:23:31.473Z"
   },
   {
    "duration": 2403,
    "start_time": "2021-11-24T18:23:31.504Z"
   },
   {
    "duration": 9,
    "start_time": "2021-11-24T18:23:33.909Z"
   },
   {
    "duration": 133,
    "start_time": "2021-11-24T18:23:33.921Z"
   },
   {
    "duration": 2454,
    "start_time": "2021-11-24T18:24:59.961Z"
   },
   {
    "duration": 902,
    "start_time": "2021-11-24T18:25:10.136Z"
   },
   {
    "duration": 6,
    "start_time": "2021-11-24T18:25:11.041Z"
   },
   {
    "duration": 14,
    "start_time": "2021-11-24T18:25:11.050Z"
   },
   {
    "duration": 35,
    "start_time": "2021-11-24T18:25:11.067Z"
   },
   {
    "duration": 11,
    "start_time": "2021-11-24T18:25:11.105Z"
   },
   {
    "duration": 41,
    "start_time": "2021-11-24T18:25:11.118Z"
   },
   {
    "duration": 42,
    "start_time": "2021-11-24T18:25:11.161Z"
   },
   {
    "duration": 9,
    "start_time": "2021-11-24T18:25:11.207Z"
   },
   {
    "duration": 38,
    "start_time": "2021-11-24T18:25:11.219Z"
   },
   {
    "duration": 8912,
    "start_time": "2021-11-24T18:25:11.260Z"
   },
   {
    "duration": 11,
    "start_time": "2021-11-24T18:25:20.175Z"
   },
   {
    "duration": 11,
    "start_time": "2021-11-24T18:25:20.201Z"
   },
   {
    "duration": 12,
    "start_time": "2021-11-24T18:25:20.215Z"
   },
   {
    "duration": 2343,
    "start_time": "2021-11-24T18:25:20.229Z"
   },
   {
    "duration": 2505,
    "start_time": "2021-11-24T18:25:22.575Z"
   },
   {
    "duration": 21,
    "start_time": "2021-11-24T18:25:25.082Z"
   },
   {
    "duration": 2361,
    "start_time": "2021-11-24T18:25:25.105Z"
   },
   {
    "duration": 9,
    "start_time": "2021-11-24T18:25:27.469Z"
   },
   {
    "duration": 122,
    "start_time": "2021-11-24T18:25:27.481Z"
   },
   {
    "duration": 2337,
    "start_time": "2021-11-24T18:27:50.469Z"
   },
   {
    "duration": 2303,
    "start_time": "2021-11-24T18:28:40.193Z"
   },
   {
    "duration": 978,
    "start_time": "2021-11-24T18:29:01.166Z"
   },
   {
    "duration": 5,
    "start_time": "2021-11-24T18:29:02.147Z"
   },
   {
    "duration": 36,
    "start_time": "2021-11-24T18:29:02.155Z"
   },
   {
    "duration": 23,
    "start_time": "2021-11-24T18:29:02.193Z"
   },
   {
    "duration": 27,
    "start_time": "2021-11-24T18:29:02.218Z"
   },
   {
    "duration": 51,
    "start_time": "2021-11-24T18:29:02.247Z"
   },
   {
    "duration": 10,
    "start_time": "2021-11-24T18:29:02.300Z"
   },
   {
    "duration": 10,
    "start_time": "2021-11-24T18:29:02.313Z"
   },
   {
    "duration": 38,
    "start_time": "2021-11-24T18:29:02.325Z"
   },
   {
    "duration": 8625,
    "start_time": "2021-11-24T18:29:02.365Z"
   },
   {
    "duration": 12,
    "start_time": "2021-11-24T18:29:10.992Z"
   },
   {
    "duration": 13,
    "start_time": "2021-11-24T18:29:11.007Z"
   },
   {
    "duration": 11,
    "start_time": "2021-11-24T18:29:11.022Z"
   },
   {
    "duration": 2369,
    "start_time": "2021-11-24T18:29:11.035Z"
   },
   {
    "duration": 2396,
    "start_time": "2021-11-24T18:29:13.406Z"
   },
   {
    "duration": 9,
    "start_time": "2021-11-24T18:29:15.804Z"
   },
   {
    "duration": 2393,
    "start_time": "2021-11-24T18:29:15.815Z"
   },
   {
    "duration": 8,
    "start_time": "2021-11-24T18:29:18.210Z"
   },
   {
    "duration": 2383,
    "start_time": "2021-11-24T18:29:18.221Z"
   },
   {
    "duration": 2346,
    "start_time": "2021-11-24T18:29:38.879Z"
   },
   {
    "duration": 931,
    "start_time": "2021-11-24T18:30:07.805Z"
   },
   {
    "duration": 7,
    "start_time": "2021-11-24T18:30:08.738Z"
   },
   {
    "duration": 22,
    "start_time": "2021-11-24T18:30:08.748Z"
   },
   {
    "duration": 33,
    "start_time": "2021-11-24T18:30:08.773Z"
   },
   {
    "duration": 11,
    "start_time": "2021-11-24T18:30:08.808Z"
   },
   {
    "duration": 83,
    "start_time": "2021-11-24T18:30:08.821Z"
   },
   {
    "duration": 10,
    "start_time": "2021-11-24T18:30:08.906Z"
   },
   {
    "duration": 22,
    "start_time": "2021-11-24T18:30:08.920Z"
   },
   {
    "duration": 40,
    "start_time": "2021-11-24T18:30:08.945Z"
   },
   {
    "duration": 8971,
    "start_time": "2021-11-24T18:30:08.988Z"
   },
   {
    "duration": 11,
    "start_time": "2021-11-24T18:30:17.961Z"
   },
   {
    "duration": 31,
    "start_time": "2021-11-24T18:30:17.975Z"
   },
   {
    "duration": 17,
    "start_time": "2021-11-24T18:30:18.008Z"
   },
   {
    "duration": 2379,
    "start_time": "2021-11-24T18:30:18.027Z"
   },
   {
    "duration": 2395,
    "start_time": "2021-11-24T18:30:20.408Z"
   },
   {
    "duration": 9,
    "start_time": "2021-11-24T18:30:22.806Z"
   },
   {
    "duration": 2388,
    "start_time": "2021-11-24T18:30:22.817Z"
   },
   {
    "duration": 9,
    "start_time": "2021-11-24T18:30:25.207Z"
   },
   {
    "duration": 2346,
    "start_time": "2021-11-24T18:30:25.218Z"
   },
   {
    "duration": 2347,
    "start_time": "2021-11-24T18:35:58.078Z"
   },
   {
    "duration": 2504,
    "start_time": "2021-11-24T18:36:06.858Z"
   },
   {
    "duration": 2327,
    "start_time": "2021-11-24T18:36:36.987Z"
   },
   {
    "duration": 2304,
    "start_time": "2021-11-24T18:37:12.064Z"
   },
   {
    "duration": 2435,
    "start_time": "2021-11-24T18:37:29.313Z"
   },
   {
    "duration": 967,
    "start_time": "2021-11-24T18:38:21.289Z"
   },
   {
    "duration": 7,
    "start_time": "2021-11-24T18:38:22.259Z"
   },
   {
    "duration": 33,
    "start_time": "2021-11-24T18:38:22.269Z"
   },
   {
    "duration": 16,
    "start_time": "2021-11-24T18:38:22.305Z"
   },
   {
    "duration": 17,
    "start_time": "2021-11-24T18:38:22.324Z"
   },
   {
    "duration": 71,
    "start_time": "2021-11-24T18:38:22.343Z"
   },
   {
    "duration": 11,
    "start_time": "2021-11-24T18:38:22.418Z"
   },
   {
    "duration": 11,
    "start_time": "2021-11-24T18:38:22.434Z"
   },
   {
    "duration": 79,
    "start_time": "2021-11-24T18:38:22.449Z"
   },
   {
    "duration": 8742,
    "start_time": "2021-11-24T18:38:22.531Z"
   },
   {
    "duration": 24,
    "start_time": "2021-11-24T18:38:31.276Z"
   },
   {
    "duration": 12,
    "start_time": "2021-11-24T18:38:31.304Z"
   },
   {
    "duration": 17,
    "start_time": "2021-11-24T18:38:31.319Z"
   },
   {
    "duration": 2392,
    "start_time": "2021-11-24T18:38:31.339Z"
   },
   {
    "duration": 2377,
    "start_time": "2021-11-24T18:38:33.734Z"
   },
   {
    "duration": 8,
    "start_time": "2021-11-24T18:38:36.114Z"
   },
   {
    "duration": 2366,
    "start_time": "2021-11-24T18:38:36.125Z"
   },
   {
    "duration": 13,
    "start_time": "2021-11-24T18:38:38.493Z"
   },
   {
    "duration": 2366,
    "start_time": "2021-11-24T18:38:38.508Z"
   },
   {
    "duration": 919,
    "start_time": "2021-11-24T18:39:26.123Z"
   },
   {
    "duration": 7,
    "start_time": "2021-11-24T18:39:27.044Z"
   },
   {
    "duration": 23,
    "start_time": "2021-11-24T18:39:27.057Z"
   },
   {
    "duration": 27,
    "start_time": "2021-11-24T18:39:27.082Z"
   },
   {
    "duration": 20,
    "start_time": "2021-11-24T18:39:27.111Z"
   },
   {
    "duration": 41,
    "start_time": "2021-11-24T18:39:27.134Z"
   },
   {
    "duration": 28,
    "start_time": "2021-11-24T18:39:27.179Z"
   },
   {
    "duration": 11,
    "start_time": "2021-11-24T18:39:27.210Z"
   },
   {
    "duration": 37,
    "start_time": "2021-11-24T18:39:27.223Z"
   },
   {
    "duration": 8856,
    "start_time": "2021-11-24T18:39:27.262Z"
   },
   {
    "duration": 11,
    "start_time": "2021-11-24T18:39:36.121Z"
   },
   {
    "duration": 15,
    "start_time": "2021-11-24T18:39:36.134Z"
   },
   {
    "duration": 10,
    "start_time": "2021-11-24T18:39:36.151Z"
   },
   {
    "duration": 2415,
    "start_time": "2021-11-24T18:39:36.164Z"
   },
   {
    "duration": 2376,
    "start_time": "2021-11-24T18:39:38.582Z"
   },
   {
    "duration": 8,
    "start_time": "2021-11-24T18:39:40.961Z"
   },
   {
    "duration": 2336,
    "start_time": "2021-11-24T18:39:40.971Z"
   },
   {
    "duration": 8,
    "start_time": "2021-11-24T18:39:43.309Z"
   },
   {
    "duration": 5,
    "start_time": "2021-11-24T18:40:01.034Z"
   },
   {
    "duration": 2394,
    "start_time": "2021-11-24T18:40:29.109Z"
   },
   {
    "duration": 2810,
    "start_time": "2021-11-24T18:40:46.473Z"
   },
   {
    "duration": 2473,
    "start_time": "2021-11-24T18:43:07.143Z"
   },
   {
    "duration": 2315,
    "start_time": "2021-11-24T20:04:47.440Z"
   },
   {
    "duration": 3,
    "start_time": "2021-11-24T20:05:11.081Z"
   },
   {
    "duration": 8742,
    "start_time": "2021-11-24T20:07:00.139Z"
   },
   {
    "duration": 8,
    "start_time": "2021-11-24T20:07:21.669Z"
   },
   {
    "duration": 2422,
    "start_time": "2021-11-24T20:08:05.557Z"
   },
   {
    "duration": 2411,
    "start_time": "2021-11-24T20:09:02.002Z"
   },
   {
    "duration": 370,
    "start_time": "2021-11-25T08:02:45.298Z"
   },
   {
    "duration": 736,
    "start_time": "2021-11-25T08:02:57.816Z"
   },
   {
    "duration": 4,
    "start_time": "2021-11-25T08:02:58.554Z"
   },
   {
    "duration": 11,
    "start_time": "2021-11-25T08:02:58.560Z"
   },
   {
    "duration": 10,
    "start_time": "2021-11-25T08:02:58.573Z"
   },
   {
    "duration": 29,
    "start_time": "2021-11-25T08:02:58.585Z"
   },
   {
    "duration": 24,
    "start_time": "2021-11-25T08:02:58.616Z"
   },
   {
    "duration": 6,
    "start_time": "2021-11-25T08:02:58.642Z"
   },
   {
    "duration": 5,
    "start_time": "2021-11-25T08:02:58.652Z"
   },
   {
    "duration": 59,
    "start_time": "2021-11-25T08:02:58.659Z"
   },
   {
    "duration": 5260,
    "start_time": "2021-11-25T08:02:58.720Z"
   },
   {
    "duration": 7,
    "start_time": "2021-11-25T08:03:03.982Z"
   },
   {
    "duration": 22,
    "start_time": "2021-11-25T08:03:03.991Z"
   },
   {
    "duration": 21,
    "start_time": "2021-11-25T08:03:04.015Z"
   },
   {
    "duration": 1598,
    "start_time": "2021-11-25T08:03:04.037Z"
   },
   {
    "duration": 1725,
    "start_time": "2021-11-25T08:03:05.636Z"
   },
   {
    "duration": 6,
    "start_time": "2021-11-25T08:03:07.363Z"
   },
   {
    "duration": 1630,
    "start_time": "2021-11-25T08:03:07.371Z"
   },
   {
    "duration": 9,
    "start_time": "2021-11-25T08:03:09.007Z"
   },
   {
    "duration": 1584,
    "start_time": "2021-11-25T08:03:09.018Z"
   },
   {
    "duration": 2247,
    "start_time": "2021-11-25T08:08:05.200Z"
   },
   {
    "duration": 1925,
    "start_time": "2021-11-25T08:09:09.440Z"
   },
   {
    "duration": 2020,
    "start_time": "2021-11-25T08:12:17.876Z"
   },
   {
    "duration": 1741,
    "start_time": "2021-11-25T08:17:24.731Z"
   },
   {
    "duration": 716,
    "start_time": "2021-11-25T08:17:36.641Z"
   },
   {
    "duration": 6,
    "start_time": "2021-11-25T08:17:37.360Z"
   },
   {
    "duration": 28,
    "start_time": "2021-11-25T08:17:37.369Z"
   },
   {
    "duration": 29,
    "start_time": "2021-11-25T08:17:37.399Z"
   },
   {
    "duration": 27,
    "start_time": "2021-11-25T08:17:37.430Z"
   },
   {
    "duration": 34,
    "start_time": "2021-11-25T08:17:37.460Z"
   },
   {
    "duration": 9,
    "start_time": "2021-11-25T08:17:37.497Z"
   },
   {
    "duration": 19,
    "start_time": "2021-11-25T08:17:37.509Z"
   },
   {
    "duration": 41,
    "start_time": "2021-11-25T08:17:37.530Z"
   },
   {
    "duration": 5392,
    "start_time": "2021-11-25T08:17:37.573Z"
   },
   {
    "duration": 7,
    "start_time": "2021-11-25T08:17:42.966Z"
   },
   {
    "duration": 28,
    "start_time": "2021-11-25T08:17:42.975Z"
   },
   {
    "duration": 11,
    "start_time": "2021-11-25T08:17:43.005Z"
   },
   {
    "duration": 1624,
    "start_time": "2021-11-25T08:17:43.018Z"
   },
   {
    "duration": 1579,
    "start_time": "2021-11-25T08:17:44.644Z"
   },
   {
    "duration": 6,
    "start_time": "2021-11-25T08:17:46.225Z"
   },
   {
    "duration": 1650,
    "start_time": "2021-11-25T08:17:46.233Z"
   },
   {
    "duration": 7,
    "start_time": "2021-11-25T08:17:47.885Z"
   },
   {
    "duration": 1580,
    "start_time": "2021-11-25T08:17:47.894Z"
   },
   {
    "duration": 470,
    "start_time": "2021-11-25T08:31:30.626Z"
   },
   {
    "duration": 752,
    "start_time": "2021-11-25T08:31:48.967Z"
   },
   {
    "duration": 5,
    "start_time": "2021-11-25T08:31:49.721Z"
   },
   {
    "duration": 35,
    "start_time": "2021-11-25T08:31:49.728Z"
   },
   {
    "duration": 30,
    "start_time": "2021-11-25T08:31:49.765Z"
   },
   {
    "duration": 27,
    "start_time": "2021-11-25T08:31:49.797Z"
   },
   {
    "duration": 30,
    "start_time": "2021-11-25T08:31:49.826Z"
   },
   {
    "duration": 8,
    "start_time": "2021-11-25T08:31:49.858Z"
   },
   {
    "duration": 6,
    "start_time": "2021-11-25T08:31:49.869Z"
   },
   {
    "duration": 37,
    "start_time": "2021-11-25T08:31:49.877Z"
   },
   {
    "duration": 5381,
    "start_time": "2021-11-25T08:31:49.916Z"
   },
   {
    "duration": 12,
    "start_time": "2021-11-25T08:31:55.299Z"
   },
   {
    "duration": 415,
    "start_time": "2021-11-25T08:31:55.313Z"
   },
   {
    "duration": 4033,
    "start_time": "2021-11-25T08:31:51.698Z"
   },
   {
    "duration": 4031,
    "start_time": "2021-11-25T08:31:51.701Z"
   },
   {
    "duration": 4013,
    "start_time": "2021-11-25T08:31:51.720Z"
   },
   {
    "duration": 4004,
    "start_time": "2021-11-25T08:31:51.730Z"
   },
   {
    "duration": 4002,
    "start_time": "2021-11-25T08:31:51.733Z"
   },
   {
    "duration": 3995,
    "start_time": "2021-11-25T08:31:51.741Z"
   },
   {
    "duration": 3992,
    "start_time": "2021-11-25T08:31:51.746Z"
   },
   {
    "duration": 3990,
    "start_time": "2021-11-25T08:31:51.749Z"
   },
   {
    "duration": 358,
    "start_time": "2021-11-25T08:32:10.870Z"
   },
   {
    "duration": 6,
    "start_time": "2021-11-25T08:43:46.896Z"
   },
   {
    "duration": 9,
    "start_time": "2021-11-25T08:45:34.405Z"
   },
   {
    "duration": 5301,
    "start_time": "2021-11-25T08:52:48.523Z"
   },
   {
    "duration": 9,
    "start_time": "2021-11-25T08:54:34.134Z"
   },
   {
    "duration": 8,
    "start_time": "2021-11-25T08:54:37.788Z"
   },
   {
    "duration": 1612,
    "start_time": "2021-11-25T08:54:42.698Z"
   },
   {
    "duration": 1526,
    "start_time": "2021-11-25T08:54:52.641Z"
   },
   {
    "duration": 8,
    "start_time": "2021-11-25T08:54:58.449Z"
   },
   {
    "duration": 1594,
    "start_time": "2021-11-25T08:55:02.992Z"
   },
   {
    "duration": 9,
    "start_time": "2021-11-25T08:55:08.044Z"
   },
   {
    "duration": 1550,
    "start_time": "2021-11-25T08:55:11.536Z"
   },
   {
    "duration": 33,
    "start_time": "2021-11-25T09:07:41.239Z"
   },
   {
    "duration": 1699,
    "start_time": "2021-11-25T09:10:02.584Z"
   },
   {
    "duration": 1584,
    "start_time": "2021-11-25T09:10:22.865Z"
   },
   {
    "duration": 718,
    "start_time": "2021-11-25T09:10:31.720Z"
   },
   {
    "duration": 4,
    "start_time": "2021-11-25T09:10:32.440Z"
   },
   {
    "duration": 14,
    "start_time": "2021-11-25T09:10:32.446Z"
   },
   {
    "duration": 15,
    "start_time": "2021-11-25T09:10:32.462Z"
   },
   {
    "duration": 16,
    "start_time": "2021-11-25T09:10:32.479Z"
   },
   {
    "duration": 34,
    "start_time": "2021-11-25T09:10:32.496Z"
   },
   {
    "duration": 7,
    "start_time": "2021-11-25T09:10:32.531Z"
   },
   {
    "duration": 9,
    "start_time": "2021-11-25T09:10:32.540Z"
   },
   {
    "duration": 30,
    "start_time": "2021-11-25T09:10:32.551Z"
   },
   {
    "duration": 5209,
    "start_time": "2021-11-25T09:10:32.583Z"
   },
   {
    "duration": 14,
    "start_time": "2021-11-25T09:10:37.794Z"
   },
   {
    "duration": 5270,
    "start_time": "2021-11-25T09:10:37.810Z"
   },
   {
    "duration": 26,
    "start_time": "2021-11-25T09:10:43.083Z"
   },
   {
    "duration": 18,
    "start_time": "2021-11-25T09:10:43.111Z"
   },
   {
    "duration": 1548,
    "start_time": "2021-11-25T09:10:43.131Z"
   },
   {
    "duration": 1554,
    "start_time": "2021-11-25T09:10:44.681Z"
   },
   {
    "duration": 7,
    "start_time": "2021-11-25T09:10:46.238Z"
   },
   {
    "duration": 1564,
    "start_time": "2021-11-25T09:10:46.247Z"
   },
   {
    "duration": 7,
    "start_time": "2021-11-25T09:10:47.813Z"
   },
   {
    "duration": 1570,
    "start_time": "2021-11-25T09:10:47.822Z"
   },
   {
    "duration": 42,
    "start_time": "2021-11-25T09:10:49.395Z"
   },
   {
    "duration": 5213,
    "start_time": "2021-11-25T09:20:31.000Z"
   },
   {
    "duration": 30,
    "start_time": "2021-11-25T09:20:48.308Z"
   },
   {
    "duration": 5374,
    "start_time": "2021-11-25T09:24:19.049Z"
   },
   {
    "duration": 33,
    "start_time": "2021-11-25T09:24:33.606Z"
   },
   {
    "duration": 49,
    "start_time": "2021-11-25T09:29:19.125Z"
   },
   {
    "duration": 51,
    "start_time": "2021-11-25T09:30:57.356Z"
   },
   {
    "duration": 71,
    "start_time": "2021-11-25T09:31:12.076Z"
   },
   {
    "duration": 97,
    "start_time": "2021-11-25T09:38:52.352Z"
   },
   {
    "duration": 25,
    "start_time": "2021-11-25T09:44:58.210Z"
   },
   {
    "duration": 783,
    "start_time": "2021-11-25T09:45:11.074Z"
   },
   {
    "duration": 4,
    "start_time": "2021-11-25T09:45:11.859Z"
   },
   {
    "duration": 26,
    "start_time": "2021-11-25T09:45:11.866Z"
   },
   {
    "duration": 31,
    "start_time": "2021-11-25T09:45:11.894Z"
   },
   {
    "duration": 33,
    "start_time": "2021-11-25T09:45:11.927Z"
   },
   {
    "duration": 33,
    "start_time": "2021-11-25T09:45:11.962Z"
   },
   {
    "duration": 9,
    "start_time": "2021-11-25T09:45:11.998Z"
   },
   {
    "duration": 33,
    "start_time": "2021-11-25T09:45:12.010Z"
   },
   {
    "duration": 42,
    "start_time": "2021-11-25T09:45:12.046Z"
   },
   {
    "duration": 5329,
    "start_time": "2021-11-25T09:45:12.090Z"
   },
   {
    "duration": 8,
    "start_time": "2021-11-25T09:45:17.421Z"
   },
   {
    "duration": 5291,
    "start_time": "2021-11-25T09:45:17.431Z"
   },
   {
    "duration": 10,
    "start_time": "2021-11-25T09:45:22.724Z"
   },
   {
    "duration": 20,
    "start_time": "2021-11-25T09:45:22.735Z"
   },
   {
    "duration": 1583,
    "start_time": "2021-11-25T09:45:22.756Z"
   },
   {
    "duration": 1640,
    "start_time": "2021-11-25T09:45:24.341Z"
   },
   {
    "duration": 6,
    "start_time": "2021-11-25T09:45:25.982Z"
   },
   {
    "duration": 1545,
    "start_time": "2021-11-25T09:45:25.990Z"
   },
   {
    "duration": 6,
    "start_time": "2021-11-25T09:45:27.537Z"
   },
   {
    "duration": 1906,
    "start_time": "2021-11-25T09:45:27.544Z"
   },
   {
    "duration": 62,
    "start_time": "2021-11-25T09:45:29.452Z"
   },
   {
    "duration": 25,
    "start_time": "2021-11-25T09:45:29.516Z"
   },
   {
    "duration": 13294,
    "start_time": "2021-11-25T10:50:28.804Z"
   },
   {
    "duration": 9317,
    "start_time": "2021-11-25T11:07:51.105Z"
   },
   {
    "duration": 3,
    "start_time": "2021-11-25T11:11:38.573Z"
   },
   {
    "duration": 4,
    "start_time": "2021-11-25T11:11:50.867Z"
   },
   {
    "duration": 4,
    "start_time": "2021-11-25T11:11:57.479Z"
   },
   {
    "duration": 116,
    "start_time": "2021-11-25T11:15:19.994Z"
   },
   {
    "duration": 10,
    "start_time": "2021-11-25T11:15:30.105Z"
   },
   {
    "duration": 8,
    "start_time": "2021-11-25T11:17:24.076Z"
   },
   {
    "duration": 82,
    "start_time": "2021-11-25T11:30:03.102Z"
   },
   {
    "duration": 339,
    "start_time": "2021-11-25T11:31:49.963Z"
   },
   {
    "duration": 10298,
    "start_time": "2021-11-25T11:31:59.466Z"
   },
   {
    "duration": 8607,
    "start_time": "2021-11-25T11:32:20.817Z"
   },
   {
    "duration": 9046,
    "start_time": "2021-11-25T11:33:48.735Z"
   },
   {
    "duration": 8539,
    "start_time": "2021-11-25T11:38:23.684Z"
   },
   {
    "duration": 8884,
    "start_time": "2021-11-25T11:39:44.466Z"
   },
   {
    "duration": 926,
    "start_time": "2021-11-25T11:40:05.052Z"
   },
   {
    "duration": 6,
    "start_time": "2021-11-25T11:40:05.981Z"
   },
   {
    "duration": 27,
    "start_time": "2021-11-25T11:40:05.990Z"
   },
   {
    "duration": 18,
    "start_time": "2021-11-25T11:40:06.019Z"
   },
   {
    "duration": 12,
    "start_time": "2021-11-25T11:40:06.039Z"
   },
   {
    "duration": 27,
    "start_time": "2021-11-25T11:40:06.053Z"
   },
   {
    "duration": 29,
    "start_time": "2021-11-25T11:40:06.082Z"
   },
   {
    "duration": 10,
    "start_time": "2021-11-25T11:40:06.115Z"
   },
   {
    "duration": 26,
    "start_time": "2021-11-25T11:40:06.128Z"
   },
   {
    "duration": 7898,
    "start_time": "2021-11-25T11:40:06.156Z"
   },
   {
    "duration": 8,
    "start_time": "2021-11-25T11:40:14.056Z"
   },
   {
    "duration": 5905,
    "start_time": "2021-11-25T11:40:14.066Z"
   },
   {
    "duration": 8,
    "start_time": "2021-11-25T11:40:19.973Z"
   },
   {
    "duration": 25,
    "start_time": "2021-11-25T11:40:19.983Z"
   },
   {
    "duration": 1854,
    "start_time": "2021-11-25T11:40:20.011Z"
   },
   {
    "duration": 1677,
    "start_time": "2021-11-25T11:40:21.868Z"
   },
   {
    "duration": 7,
    "start_time": "2021-11-25T11:40:23.547Z"
   },
   {
    "duration": 1690,
    "start_time": "2021-11-25T11:40:23.556Z"
   },
   {
    "duration": 7,
    "start_time": "2021-11-25T11:40:25.249Z"
   },
   {
    "duration": 1670,
    "start_time": "2021-11-25T11:40:25.258Z"
   },
   {
    "duration": 9674,
    "start_time": "2021-11-25T11:40:26.930Z"
   },
   {
    "duration": 3969,
    "start_time": "2021-11-25T11:40:32.637Z"
   },
   {
    "duration": 3960,
    "start_time": "2021-11-25T11:40:32.648Z"
   },
   {
    "duration": 3955,
    "start_time": "2021-11-25T11:40:32.654Z"
   },
   {
    "duration": 8499,
    "start_time": "2021-11-25T15:59:24.115Z"
   },
   {
    "duration": 8283,
    "start_time": "2021-11-25T16:03:43.625Z"
   },
   {
    "duration": 75036,
    "start_time": "2021-11-25T16:05:02.109Z"
   },
   {
    "duration": 8506,
    "start_time": "2021-11-25T16:08:37.022Z"
   },
   {
    "duration": 564,
    "start_time": "2021-11-25T16:09:01.348Z"
   },
   {
    "duration": 4,
    "start_time": "2021-11-25T16:12:44.796Z"
   },
   {
    "duration": 615,
    "start_time": "2021-11-25T16:12:53.799Z"
   },
   {
    "duration": 9239,
    "start_time": "2021-11-25T16:14:44.925Z"
   },
   {
    "duration": 9150,
    "start_time": "2021-11-25T16:16:34.749Z"
   },
   {
    "duration": 4999,
    "start_time": "2021-11-25T16:21:37.761Z"
   },
   {
    "duration": 553,
    "start_time": "2021-11-25T16:24:22.955Z"
   },
   {
    "duration": 569,
    "start_time": "2021-11-25T16:24:48.078Z"
   },
   {
    "duration": 579,
    "start_time": "2021-11-25T16:25:46.727Z"
   },
   {
    "duration": 567,
    "start_time": "2021-11-25T16:26:00.952Z"
   },
   {
    "duration": 739,
    "start_time": "2021-11-25T16:27:17.708Z"
   },
   {
    "duration": 5,
    "start_time": "2021-11-25T16:27:18.449Z"
   },
   {
    "duration": 20,
    "start_time": "2021-11-25T16:27:18.457Z"
   },
   {
    "duration": 12,
    "start_time": "2021-11-25T16:27:18.480Z"
   },
   {
    "duration": 27,
    "start_time": "2021-11-25T16:27:18.494Z"
   },
   {
    "duration": 34,
    "start_time": "2021-11-25T16:27:18.523Z"
   },
   {
    "duration": 7,
    "start_time": "2021-11-25T16:27:18.559Z"
   },
   {
    "duration": 28,
    "start_time": "2021-11-25T16:27:18.568Z"
   },
   {
    "duration": 33,
    "start_time": "2021-11-25T16:27:18.598Z"
   },
   {
    "duration": 5184,
    "start_time": "2021-11-25T16:27:18.633Z"
   },
   {
    "duration": 9,
    "start_time": "2021-11-25T16:27:23.819Z"
   },
   {
    "duration": 5386,
    "start_time": "2021-11-25T16:27:23.830Z"
   },
   {
    "duration": 8,
    "start_time": "2021-11-25T16:27:29.218Z"
   },
   {
    "duration": 11,
    "start_time": "2021-11-25T16:27:29.228Z"
   },
   {
    "duration": 1534,
    "start_time": "2021-11-25T16:27:29.241Z"
   },
   {
    "duration": 1591,
    "start_time": "2021-11-25T16:27:30.777Z"
   },
   {
    "duration": 6,
    "start_time": "2021-11-25T16:27:32.370Z"
   },
   {
    "duration": 1626,
    "start_time": "2021-11-25T16:27:32.378Z"
   },
   {
    "duration": 6,
    "start_time": "2021-11-25T16:27:34.007Z"
   },
   {
    "duration": 1532,
    "start_time": "2021-11-25T16:27:34.015Z"
   },
   {
    "duration": 72943,
    "start_time": "2021-11-25T16:27:35.549Z"
   },
   {
    "duration": 61,
    "start_time": "2021-11-25T16:28:48.494Z"
   },
   {
    "duration": 25,
    "start_time": "2021-11-25T16:28:48.558Z"
   },
   {
    "duration": 1052,
    "start_time": "2021-11-25T16:28:48.587Z"
   },
   {
    "duration": 8,
    "start_time": "2021-11-25T16:38:35.803Z"
   },
   {
    "duration": 8,
    "start_time": "2021-11-25T16:38:59.295Z"
   },
   {
    "duration": 7,
    "start_time": "2021-11-25T16:39:45.223Z"
   },
   {
    "duration": 729,
    "start_time": "2021-11-25T16:39:54.942Z"
   },
   {
    "duration": 5,
    "start_time": "2021-11-25T16:39:55.673Z"
   },
   {
    "duration": 12,
    "start_time": "2021-11-25T16:39:55.681Z"
   },
   {
    "duration": 12,
    "start_time": "2021-11-25T16:39:55.707Z"
   },
   {
    "duration": 10,
    "start_time": "2021-11-25T16:39:55.721Z"
   },
   {
    "duration": 28,
    "start_time": "2021-11-25T16:39:55.733Z"
   },
   {
    "duration": 7,
    "start_time": "2021-11-25T16:39:55.763Z"
   },
   {
    "duration": 33,
    "start_time": "2021-11-25T16:39:55.774Z"
   },
   {
    "duration": 24,
    "start_time": "2021-11-25T16:39:55.810Z"
   },
   {
    "duration": 5106,
    "start_time": "2021-11-25T16:39:55.836Z"
   },
   {
    "duration": 7,
    "start_time": "2021-11-25T16:40:00.944Z"
   },
   {
    "duration": 5274,
    "start_time": "2021-11-25T16:40:00.953Z"
   },
   {
    "duration": 9,
    "start_time": "2021-11-25T16:40:06.229Z"
   },
   {
    "duration": 9,
    "start_time": "2021-11-25T16:40:06.240Z"
   },
   {
    "duration": 1599,
    "start_time": "2021-11-25T16:40:06.251Z"
   },
   {
    "duration": 1567,
    "start_time": "2021-11-25T16:40:07.852Z"
   },
   {
    "duration": 8,
    "start_time": "2021-11-25T16:40:09.421Z"
   },
   {
    "duration": 1488,
    "start_time": "2021-11-25T16:40:09.431Z"
   },
   {
    "duration": 6,
    "start_time": "2021-11-25T16:40:10.922Z"
   },
   {
    "duration": 1585,
    "start_time": "2021-11-25T16:40:10.930Z"
   },
   {
    "duration": 71484,
    "start_time": "2021-11-25T16:40:12.517Z"
   },
   {
    "duration": 51,
    "start_time": "2021-11-25T16:41:24.002Z"
   },
   {
    "duration": 24,
    "start_time": "2021-11-25T16:41:24.056Z"
   },
   {
    "duration": 28,
    "start_time": "2021-11-25T16:41:24.082Z"
   },
   {
    "duration": 663,
    "start_time": "2021-11-25T16:41:24.112Z"
   },
   {
    "duration": 702,
    "start_time": "2021-11-25T16:46:16.641Z"
   },
   {
    "duration": 305,
    "start_time": "2021-11-25T16:52:44.690Z"
   },
   {
    "duration": 900,
    "start_time": "2021-11-25T16:58:33.674Z"
   },
   {
    "duration": 1113,
    "start_time": "2021-11-25T16:59:35.044Z"
   },
   {
    "duration": 944,
    "start_time": "2021-11-25T16:59:45.050Z"
   },
   {
    "duration": 1049,
    "start_time": "2021-11-25T17:00:02.052Z"
   },
   {
    "duration": 1429,
    "start_time": "2021-11-25T17:00:55.682Z"
   },
   {
    "duration": 1470,
    "start_time": "2021-11-25T17:01:43.178Z"
   },
   {
    "duration": 1466,
    "start_time": "2021-11-25T17:01:58.440Z"
   },
   {
    "duration": 1791,
    "start_time": "2021-11-25T17:03:02.755Z"
   },
   {
    "duration": 2512,
    "start_time": "2021-11-25T17:03:25.820Z"
   },
   {
    "duration": 1499,
    "start_time": "2021-11-25T17:04:05.292Z"
   },
   {
    "duration": 1695,
    "start_time": "2021-11-25T17:05:10.604Z"
   },
   {
    "duration": 1410,
    "start_time": "2021-11-25T17:05:24.419Z"
   },
   {
    "duration": 1526,
    "start_time": "2021-11-25T17:05:30.890Z"
   },
   {
    "duration": 1194,
    "start_time": "2021-11-25T17:17:43.879Z"
   },
   {
    "duration": 1274,
    "start_time": "2021-11-25T17:18:32.767Z"
   },
   {
    "duration": 117,
    "start_time": "2021-11-25T17:20:37.450Z"
   },
   {
    "duration": 1763,
    "start_time": "2021-11-25T17:20:50.770Z"
   },
   {
    "duration": 1432,
    "start_time": "2021-11-25T17:23:11.427Z"
   },
   {
    "duration": 1201,
    "start_time": "2021-11-25T17:23:58.107Z"
   },
   {
    "duration": 1312,
    "start_time": "2021-11-25T17:24:49.250Z"
   },
   {
    "duration": 2138,
    "start_time": "2021-11-25T17:26:20.185Z"
   },
   {
    "duration": 2104,
    "start_time": "2021-11-25T17:27:10.502Z"
   },
   {
    "duration": 2101,
    "start_time": "2021-11-25T17:27:31.355Z"
   },
   {
    "duration": 1392,
    "start_time": "2021-11-25T17:30:18.484Z"
   },
   {
    "duration": 691,
    "start_time": "2021-11-25T17:31:52.192Z"
   },
   {
    "duration": 486,
    "start_time": "2021-11-25T17:33:45.969Z"
   },
   {
    "duration": 505,
    "start_time": "2021-11-25T17:34:06.529Z"
   },
   {
    "duration": 480,
    "start_time": "2021-11-25T17:34:31.252Z"
   },
   {
    "duration": 14,
    "start_time": "2021-11-25T17:53:04.343Z"
   },
   {
    "duration": 1024,
    "start_time": "2021-11-25T17:55:07.680Z"
   },
   {
    "duration": 136,
    "start_time": "2021-11-25T17:55:28.664Z"
   },
   {
    "duration": 118,
    "start_time": "2021-11-25T17:55:37.331Z"
   },
   {
    "duration": 424,
    "start_time": "2021-11-25T17:55:41.287Z"
   },
   {
    "duration": 12,
    "start_time": "2021-11-25T17:56:33.127Z"
   },
   {
    "duration": 109,
    "start_time": "2021-11-25T17:56:55.155Z"
   },
   {
    "duration": 16,
    "start_time": "2021-11-25T17:57:05.071Z"
   },
   {
    "duration": 24,
    "start_time": "2021-11-25T17:57:15.758Z"
   },
   {
    "duration": 50,
    "start_time": "2021-11-25T17:58:24.400Z"
   },
   {
    "duration": 26,
    "start_time": "2021-11-25T18:02:56.404Z"
   },
   {
    "duration": 61,
    "start_time": "2021-11-25T18:03:07.142Z"
   },
   {
    "duration": 702,
    "start_time": "2021-11-25T18:03:32.840Z"
   },
   {
    "duration": 4,
    "start_time": "2021-11-25T18:03:33.544Z"
   },
   {
    "duration": 15,
    "start_time": "2021-11-25T18:03:33.550Z"
   },
   {
    "duration": 14,
    "start_time": "2021-11-25T18:03:33.567Z"
   },
   {
    "duration": 13,
    "start_time": "2021-11-25T18:03:33.583Z"
   },
   {
    "duration": 31,
    "start_time": "2021-11-25T18:03:33.598Z"
   },
   {
    "duration": 7,
    "start_time": "2021-11-25T18:03:33.630Z"
   },
   {
    "duration": 8,
    "start_time": "2021-11-25T18:03:33.639Z"
   },
   {
    "duration": 26,
    "start_time": "2021-11-25T18:03:33.649Z"
   },
   {
    "duration": 5462,
    "start_time": "2021-11-25T18:03:33.676Z"
   },
   {
    "duration": 8,
    "start_time": "2021-11-25T18:03:39.140Z"
   },
   {
    "duration": 5686,
    "start_time": "2021-11-25T18:03:39.150Z"
   },
   {
    "duration": 9,
    "start_time": "2021-11-25T18:03:44.838Z"
   },
   {
    "duration": 12,
    "start_time": "2021-11-25T18:03:44.849Z"
   },
   {
    "duration": 1672,
    "start_time": "2021-11-25T18:03:44.863Z"
   },
   {
    "duration": 1534,
    "start_time": "2021-11-25T18:03:46.536Z"
   },
   {
    "duration": 6,
    "start_time": "2021-11-25T18:03:48.071Z"
   },
   {
    "duration": 1513,
    "start_time": "2021-11-25T18:03:48.079Z"
   },
   {
    "duration": 14,
    "start_time": "2021-11-25T18:03:49.594Z"
   },
   {
    "duration": 1539,
    "start_time": "2021-11-25T18:03:49.610Z"
   },
   {
    "duration": 77725,
    "start_time": "2021-11-25T18:03:51.152Z"
   },
   {
    "duration": 67,
    "start_time": "2021-11-25T18:05:08.878Z"
   },
   {
    "duration": 27,
    "start_time": "2021-11-25T18:05:08.948Z"
   },
   {
    "duration": 652,
    "start_time": "2021-11-25T18:05:08.978Z"
   },
   {
    "duration": 677,
    "start_time": "2021-11-25T18:05:09.631Z"
   },
   {
    "duration": 46,
    "start_time": "2021-11-25T18:05:10.309Z"
   },
   {
    "duration": 276,
    "start_time": "2021-11-25T18:05:10.357Z"
   },
   {
    "duration": 259,
    "start_time": "2021-11-25T18:05:10.635Z"
   },
   {
    "duration": 327,
    "start_time": "2021-11-25T18:05:10.895Z"
   },
   {
    "duration": 202,
    "start_time": "2021-11-25T18:05:11.224Z"
   },
   {
    "duration": 286,
    "start_time": "2021-11-26T07:33:41.434Z"
   },
   {
    "duration": 689,
    "start_time": "2021-11-26T07:33:49.607Z"
   },
   {
    "duration": 5,
    "start_time": "2021-11-26T07:33:50.298Z"
   },
   {
    "duration": 9,
    "start_time": "2021-11-26T07:33:50.306Z"
   },
   {
    "duration": 11,
    "start_time": "2021-11-26T07:33:50.317Z"
   },
   {
    "duration": 13,
    "start_time": "2021-11-26T07:33:50.330Z"
   },
   {
    "duration": 25,
    "start_time": "2021-11-26T07:33:50.364Z"
   },
   {
    "duration": 7,
    "start_time": "2021-11-26T07:33:50.391Z"
   },
   {
    "duration": 10,
    "start_time": "2021-11-26T07:33:50.400Z"
   },
   {
    "duration": 54,
    "start_time": "2021-11-26T07:33:50.414Z"
   },
   {
    "duration": 5187,
    "start_time": "2021-11-26T07:33:50.470Z"
   },
   {
    "duration": 8,
    "start_time": "2021-11-26T07:33:55.659Z"
   },
   {
    "duration": 5308,
    "start_time": "2021-11-26T07:33:55.668Z"
   },
   {
    "duration": 8,
    "start_time": "2021-11-26T07:34:00.978Z"
   },
   {
    "duration": 33,
    "start_time": "2021-11-26T07:34:00.988Z"
   },
   {
    "duration": 1568,
    "start_time": "2021-11-26T07:34:01.023Z"
   },
   {
    "duration": 1553,
    "start_time": "2021-11-26T07:34:02.593Z"
   },
   {
    "duration": 16,
    "start_time": "2021-11-26T07:34:04.147Z"
   },
   {
    "duration": 1530,
    "start_time": "2021-11-26T07:34:04.165Z"
   },
   {
    "duration": 7,
    "start_time": "2021-11-26T07:34:05.696Z"
   },
   {
    "duration": 1512,
    "start_time": "2021-11-26T07:34:05.705Z"
   },
   {
    "duration": 72970,
    "start_time": "2021-11-26T07:34:07.219Z"
   },
   {
    "duration": 51,
    "start_time": "2021-11-26T07:35:20.190Z"
   },
   {
    "duration": 41,
    "start_time": "2021-11-26T07:35:20.244Z"
   },
   {
    "duration": 617,
    "start_time": "2021-11-26T07:35:20.286Z"
   },
   {
    "duration": 562,
    "start_time": "2021-11-26T07:35:20.905Z"
   },
   {
    "duration": 437,
    "start_time": "2021-11-26T07:35:21.469Z"
   },
   {
    "duration": 5303,
    "start_time": "2021-11-26T07:35:16.606Z"
   },
   {
    "duration": 5298,
    "start_time": "2021-11-26T07:35:16.613Z"
   },
   {
    "duration": 5297,
    "start_time": "2021-11-26T07:35:16.615Z"
   },
   {
    "duration": 5296,
    "start_time": "2021-11-26T07:35:16.618Z"
   },
   {
    "duration": 120,
    "start_time": "2021-11-26T08:19:20.786Z"
   },
   {
    "duration": 44,
    "start_time": "2021-11-26T08:19:59.954Z"
   },
   {
    "duration": 5,
    "start_time": "2021-11-26T08:23:28.612Z"
   },
   {
    "duration": 44,
    "start_time": "2021-11-26T08:24:17.721Z"
   },
   {
    "duration": 246,
    "start_time": "2021-11-26T08:25:31.719Z"
   },
   {
    "duration": 6,
    "start_time": "2021-11-26T08:25:45.946Z"
   },
   {
    "duration": 74,
    "start_time": "2021-11-26T08:26:30.507Z"
   },
   {
    "duration": 79,
    "start_time": "2021-11-26T08:26:37.948Z"
   },
   {
    "duration": 10,
    "start_time": "2021-11-26T08:26:45.119Z"
   },
   {
    "duration": 6,
    "start_time": "2021-11-26T08:26:56.429Z"
   },
   {
    "duration": 6,
    "start_time": "2021-11-26T08:27:31.208Z"
   },
   {
    "duration": 253,
    "start_time": "2021-11-26T08:35:11.492Z"
   },
   {
    "duration": 269,
    "start_time": "2021-11-26T08:36:21.476Z"
   },
   {
    "duration": 267,
    "start_time": "2021-11-26T08:37:18.067Z"
   },
   {
    "duration": 339,
    "start_time": "2021-11-26T08:37:29.905Z"
   },
   {
    "duration": 252,
    "start_time": "2021-11-26T08:44:31.030Z"
   },
   {
    "duration": 255,
    "start_time": "2021-11-26T08:45:02.427Z"
   },
   {
    "duration": 255,
    "start_time": "2021-11-26T08:45:22.087Z"
   },
   {
    "duration": 260,
    "start_time": "2021-11-26T08:49:06.526Z"
   },
   {
    "duration": 249,
    "start_time": "2021-11-26T08:50:34.692Z"
   },
   {
    "duration": 261,
    "start_time": "2021-11-26T08:50:50.621Z"
   },
   {
    "duration": 249,
    "start_time": "2021-11-26T08:52:52.555Z"
   },
   {
    "duration": 252,
    "start_time": "2021-11-26T09:02:37.849Z"
   },
   {
    "duration": 240,
    "start_time": "2021-11-26T09:03:50.389Z"
   },
   {
    "duration": 248,
    "start_time": "2021-11-26T09:04:15.221Z"
   },
   {
    "duration": 416,
    "start_time": "2021-11-26T09:04:28.174Z"
   },
   {
    "duration": 56,
    "start_time": "2021-11-26T09:06:43.669Z"
   },
   {
    "duration": 53,
    "start_time": "2021-11-26T09:06:48.597Z"
   },
   {
    "duration": 734,
    "start_time": "2021-11-26T09:07:01.329Z"
   },
   {
    "duration": 6,
    "start_time": "2021-11-26T09:07:02.065Z"
   },
   {
    "duration": 61,
    "start_time": "2021-11-26T09:07:02.073Z"
   },
   {
    "duration": 62,
    "start_time": "2021-11-26T09:07:02.136Z"
   },
   {
    "duration": 65,
    "start_time": "2021-11-26T09:07:02.205Z"
   },
   {
    "duration": 51,
    "start_time": "2021-11-26T09:07:02.272Z"
   },
   {
    "duration": 16,
    "start_time": "2021-11-26T09:07:02.325Z"
   },
   {
    "duration": 26,
    "start_time": "2021-11-26T09:07:02.343Z"
   },
   {
    "duration": 47,
    "start_time": "2021-11-26T09:07:02.371Z"
   },
   {
    "duration": 5100,
    "start_time": "2021-11-26T09:07:02.419Z"
   },
   {
    "duration": 9,
    "start_time": "2021-11-26T09:07:07.521Z"
   },
   {
    "duration": 77,
    "start_time": "2021-11-26T09:07:07.532Z"
   },
   {
    "duration": 9,
    "start_time": "2021-11-26T09:07:07.611Z"
   },
   {
    "duration": 34,
    "start_time": "2021-11-26T09:07:07.622Z"
   },
   {
    "duration": 1509,
    "start_time": "2021-11-26T09:07:07.658Z"
   },
   {
    "duration": 1518,
    "start_time": "2021-11-26T09:07:09.169Z"
   },
   {
    "duration": 6,
    "start_time": "2021-11-26T09:07:10.689Z"
   },
   {
    "duration": 1482,
    "start_time": "2021-11-26T09:07:10.697Z"
   },
   {
    "duration": 6,
    "start_time": "2021-11-26T09:07:12.181Z"
   },
   {
    "duration": 1558,
    "start_time": "2021-11-26T09:07:12.189Z"
   },
   {
    "duration": 72175,
    "start_time": "2021-11-26T09:07:13.749Z"
   },
   {
    "duration": 66,
    "start_time": "2021-11-26T09:08:25.926Z"
   },
   {
    "duration": 26,
    "start_time": "2021-11-26T09:08:25.994Z"
   },
   {
    "duration": 626,
    "start_time": "2021-11-26T09:08:26.022Z"
   },
   {
    "duration": 552,
    "start_time": "2021-11-26T09:08:26.649Z"
   },
   {
    "duration": 60,
    "start_time": "2021-11-26T09:08:27.203Z"
   },
   {
    "duration": 7,
    "start_time": "2021-11-26T09:08:27.265Z"
   },
   {
    "duration": 391,
    "start_time": "2021-11-26T09:08:27.274Z"
   },
   {
    "duration": 276,
    "start_time": "2021-11-26T09:08:27.667Z"
   },
   {
    "duration": 380,
    "start_time": "2021-11-26T09:08:27.944Z"
   },
   {
    "duration": 198,
    "start_time": "2021-11-26T09:08:28.326Z"
   },
   {
    "duration": 5491,
    "start_time": "2021-11-26T09:12:07.612Z"
   },
   {
    "duration": 755,
    "start_time": "2021-11-26T09:12:20.837Z"
   },
   {
    "duration": 5,
    "start_time": "2021-11-26T09:12:21.594Z"
   },
   {
    "duration": 23,
    "start_time": "2021-11-26T09:12:21.601Z"
   },
   {
    "duration": 10,
    "start_time": "2021-11-26T09:12:21.627Z"
   },
   {
    "duration": 33,
    "start_time": "2021-11-26T09:12:21.639Z"
   },
   {
    "duration": 43,
    "start_time": "2021-11-26T09:12:21.674Z"
   },
   {
    "duration": 7,
    "start_time": "2021-11-26T09:12:21.719Z"
   },
   {
    "duration": 15,
    "start_time": "2021-11-26T09:12:21.729Z"
   },
   {
    "duration": 34,
    "start_time": "2021-11-26T09:12:21.746Z"
   },
   {
    "duration": 5219,
    "start_time": "2021-11-26T09:12:21.781Z"
   },
   {
    "duration": 8,
    "start_time": "2021-11-26T09:12:27.001Z"
   },
   {
    "duration": 5263,
    "start_time": "2021-11-26T09:12:27.010Z"
   },
   {
    "duration": 8,
    "start_time": "2021-11-26T09:12:32.275Z"
   },
   {
    "duration": 8,
    "start_time": "2021-11-26T09:12:32.284Z"
   },
   {
    "duration": 1651,
    "start_time": "2021-11-26T09:12:32.294Z"
   },
   {
    "duration": 1557,
    "start_time": "2021-11-26T09:12:33.946Z"
   },
   {
    "duration": 6,
    "start_time": "2021-11-26T09:12:35.505Z"
   },
   {
    "duration": 1703,
    "start_time": "2021-11-26T09:12:35.513Z"
   },
   {
    "duration": 7,
    "start_time": "2021-11-26T09:12:37.218Z"
   },
   {
    "duration": 1605,
    "start_time": "2021-11-26T09:12:37.228Z"
   },
   {
    "duration": 77099,
    "start_time": "2021-11-26T09:12:38.835Z"
   },
   {
    "duration": 71,
    "start_time": "2021-11-26T09:13:55.936Z"
   },
   {
    "duration": 28,
    "start_time": "2021-11-26T09:13:56.010Z"
   },
   {
    "duration": 652,
    "start_time": "2021-11-26T09:13:56.040Z"
   },
   {
    "duration": 589,
    "start_time": "2021-11-26T09:13:56.694Z"
   },
   {
    "duration": 47,
    "start_time": "2021-11-26T09:13:57.285Z"
   },
   {
    "duration": 30,
    "start_time": "2021-11-26T09:13:57.333Z"
   },
   {
    "duration": 279,
    "start_time": "2021-11-26T09:13:57.365Z"
   },
   {
    "duration": 271,
    "start_time": "2021-11-26T09:13:57.646Z"
   },
   {
    "duration": 397,
    "start_time": "2021-11-26T09:13:57.919Z"
   },
   {
    "duration": 200,
    "start_time": "2021-11-26T09:13:58.317Z"
   },
   {
    "duration": 5476,
    "start_time": "2021-11-26T09:17:28.778Z"
   },
   {
    "duration": 732,
    "start_time": "2021-11-26T09:17:41.759Z"
   },
   {
    "duration": 5,
    "start_time": "2021-11-26T09:17:42.493Z"
   },
   {
    "duration": 10,
    "start_time": "2021-11-26T09:17:42.500Z"
   },
   {
    "duration": 11,
    "start_time": "2021-11-26T09:17:42.512Z"
   },
   {
    "duration": 10,
    "start_time": "2021-11-26T09:17:42.525Z"
   },
   {
    "duration": 51,
    "start_time": "2021-11-26T09:17:42.537Z"
   },
   {
    "duration": 7,
    "start_time": "2021-11-26T09:17:42.590Z"
   },
   {
    "duration": 6,
    "start_time": "2021-11-26T09:17:42.600Z"
   },
   {
    "duration": 24,
    "start_time": "2021-11-26T09:17:42.608Z"
   },
   {
    "duration": 5210,
    "start_time": "2021-11-26T09:17:42.634Z"
   },
   {
    "duration": 7,
    "start_time": "2021-11-26T09:17:47.846Z"
   },
   {
    "duration": 5040,
    "start_time": "2021-11-26T09:17:47.855Z"
   },
   {
    "duration": 9,
    "start_time": "2021-11-26T09:17:52.896Z"
   },
   {
    "duration": 30,
    "start_time": "2021-11-26T09:17:52.907Z"
   },
   {
    "duration": 1524,
    "start_time": "2021-11-26T09:17:52.939Z"
   },
   {
    "duration": 1576,
    "start_time": "2021-11-26T09:17:54.465Z"
   },
   {
    "duration": 6,
    "start_time": "2021-11-26T09:17:56.043Z"
   },
   {
    "duration": 1570,
    "start_time": "2021-11-26T09:17:56.063Z"
   },
   {
    "duration": 7,
    "start_time": "2021-11-26T09:17:57.636Z"
   },
   {
    "duration": 1778,
    "start_time": "2021-11-26T09:17:57.645Z"
   },
   {
    "duration": 71561,
    "start_time": "2021-11-26T09:17:59.425Z"
   },
   {
    "duration": 49,
    "start_time": "2021-11-26T09:19:10.988Z"
   },
   {
    "duration": 43,
    "start_time": "2021-11-26T09:19:11.040Z"
   },
   {
    "duration": 613,
    "start_time": "2021-11-26T09:19:11.085Z"
   },
   {
    "duration": 562,
    "start_time": "2021-11-26T09:19:11.700Z"
   },
   {
    "duration": 41,
    "start_time": "2021-11-26T09:19:12.264Z"
   },
   {
    "duration": 6,
    "start_time": "2021-11-26T09:19:12.306Z"
   },
   {
    "duration": 277,
    "start_time": "2021-11-26T09:19:12.314Z"
   },
   {
    "duration": 320,
    "start_time": "2021-11-26T09:19:12.593Z"
   },
   {
    "duration": 358,
    "start_time": "2021-11-26T09:19:12.914Z"
   },
   {
    "duration": 214,
    "start_time": "2021-11-26T09:19:13.274Z"
   },
   {
    "duration": 180,
    "start_time": "2021-11-26T09:34:35.749Z"
   },
   {
    "duration": 190,
    "start_time": "2021-11-26T09:34:48.238Z"
   },
   {
    "duration": 42,
    "start_time": "2021-11-26T09:37:53.881Z"
   },
   {
    "duration": 51,
    "start_time": "2021-11-26T09:38:43.115Z"
   },
   {
    "duration": 307,
    "start_time": "2021-11-26T09:39:32.032Z"
   },
   {
    "duration": 39,
    "start_time": "2021-11-26T09:40:22.393Z"
   },
   {
    "duration": 266,
    "start_time": "2021-11-29T10:26:26.133Z"
   },
   {
    "duration": 589,
    "start_time": "2021-11-29T10:26:34.042Z"
   },
   {
    "duration": 4,
    "start_time": "2021-11-29T10:26:34.632Z"
   },
   {
    "duration": 22,
    "start_time": "2021-11-29T10:26:34.638Z"
   },
   {
    "duration": 20,
    "start_time": "2021-11-29T10:26:34.662Z"
   },
   {
    "duration": 17,
    "start_time": "2021-11-29T10:26:34.684Z"
   },
   {
    "duration": 38,
    "start_time": "2021-11-29T10:26:34.702Z"
   },
   {
    "duration": 8,
    "start_time": "2021-11-29T10:26:34.741Z"
   },
   {
    "duration": 30,
    "start_time": "2021-11-29T10:26:34.751Z"
   },
   {
    "duration": 40,
    "start_time": "2021-11-29T10:26:34.783Z"
   },
   {
    "duration": 4809,
    "start_time": "2021-11-29T10:26:34.824Z"
   },
   {
    "duration": 7,
    "start_time": "2021-11-29T10:26:39.635Z"
   },
   {
    "duration": 4729,
    "start_time": "2021-11-29T10:26:39.644Z"
   },
   {
    "duration": 14,
    "start_time": "2021-11-29T10:26:44.375Z"
   },
   {
    "duration": 6,
    "start_time": "2021-11-29T10:26:44.391Z"
   },
   {
    "duration": 1359,
    "start_time": "2021-11-29T10:26:44.399Z"
   },
   {
    "duration": 1467,
    "start_time": "2021-11-29T10:26:45.760Z"
   },
   {
    "duration": 6,
    "start_time": "2021-11-29T10:26:47.229Z"
   },
   {
    "duration": 1808,
    "start_time": "2021-11-29T10:26:47.237Z"
   },
   {
    "duration": 5,
    "start_time": "2021-11-29T10:26:49.047Z"
   },
   {
    "duration": 1493,
    "start_time": "2021-11-29T10:26:49.053Z"
   },
   {
    "duration": 64102,
    "start_time": "2021-11-29T10:26:50.548Z"
   },
   {
    "duration": 54,
    "start_time": "2021-11-29T10:27:54.652Z"
   },
   {
    "duration": 21,
    "start_time": "2021-11-29T10:27:54.709Z"
   },
   {
    "duration": 596,
    "start_time": "2021-11-29T10:27:54.731Z"
   },
   {
    "duration": 522,
    "start_time": "2021-11-29T10:27:55.329Z"
   },
   {
    "duration": 44,
    "start_time": "2021-11-29T10:27:55.852Z"
   },
   {
    "duration": 5,
    "start_time": "2021-11-29T10:27:55.898Z"
   },
   {
    "duration": 249,
    "start_time": "2021-11-29T10:27:55.904Z"
   },
   {
    "duration": 235,
    "start_time": "2021-11-29T10:27:56.155Z"
   },
   {
    "duration": 283,
    "start_time": "2021-11-29T10:27:56.391Z"
   },
   {
    "duration": 170,
    "start_time": "2021-11-29T10:27:56.675Z"
   },
   {
    "duration": 33,
    "start_time": "2021-11-29T10:27:56.846Z"
   },
   {
    "duration": 236,
    "start_time": "2021-11-29T10:27:56.888Z"
   },
   {
    "duration": 227,
    "start_time": "2021-11-29T10:29:00.364Z"
   },
   {
    "duration": 222,
    "start_time": "2021-11-29T10:29:13.649Z"
   },
   {
    "duration": 223,
    "start_time": "2021-11-29T10:30:45.148Z"
   },
   {
    "duration": 59,
    "start_time": "2021-11-29T10:41:26.640Z"
   },
   {
    "duration": 44,
    "start_time": "2021-11-29T10:43:03.948Z"
   },
   {
    "duration": 47,
    "start_time": "2021-11-29T10:43:23.188Z"
   },
   {
    "duration": 51,
    "start_time": "2021-11-29T10:45:43.496Z"
   },
   {
    "duration": 52,
    "start_time": "2021-11-29T10:45:57.780Z"
   },
   {
    "duration": 50,
    "start_time": "2021-11-29T10:46:08.200Z"
   },
   {
    "duration": 50,
    "start_time": "2021-11-29T10:47:08.462Z"
   },
   {
    "duration": 64,
    "start_time": "2021-11-29T10:51:43.201Z"
   },
   {
    "duration": 83,
    "start_time": "2021-11-29T10:53:05.849Z"
   },
   {
    "duration": 394,
    "start_time": "2021-11-29T11:00:02.921Z"
   },
   {
    "duration": 325,
    "start_time": "2021-11-29T11:00:32.606Z"
   },
   {
    "duration": 90,
    "start_time": "2021-11-29T11:00:55.117Z"
   },
   {
    "duration": 212,
    "start_time": "2021-11-29T11:05:23.928Z"
   },
   {
    "duration": 818,
    "start_time": "2021-11-29T11:28:02.694Z"
   },
   {
    "duration": 129,
    "start_time": "2021-11-29T11:30:10.600Z"
   },
   {
    "duration": 273,
    "start_time": "2021-11-29T11:34:30.061Z"
   },
   {
    "duration": 125,
    "start_time": "2021-11-29T11:50:11.819Z"
   },
   {
    "duration": 126,
    "start_time": "2021-11-29T11:51:14.961Z"
   },
   {
    "duration": 115,
    "start_time": "2021-11-29T12:02:57.008Z"
   },
   {
    "duration": 124,
    "start_time": "2021-11-29T12:04:15.273Z"
   },
   {
    "duration": 176,
    "start_time": "2021-11-29T12:17:26.062Z"
   },
   {
    "duration": 171,
    "start_time": "2021-11-29T12:17:44.876Z"
   },
   {
    "duration": 174,
    "start_time": "2021-11-29T12:18:04.693Z"
   },
   {
    "duration": 437,
    "start_time": "2021-11-29T12:19:51.421Z"
   },
   {
    "duration": 229,
    "start_time": "2021-11-29T12:31:46.720Z"
   },
   {
    "duration": 433,
    "start_time": "2021-11-29T12:34:28.622Z"
   },
   {
    "duration": 516,
    "start_time": "2021-11-29T12:34:40.887Z"
   },
   {
    "duration": 119,
    "start_time": "2021-11-29T15:49:37.029Z"
   },
   {
    "duration": 117,
    "start_time": "2021-11-29T15:49:46.066Z"
   },
   {
    "duration": 116,
    "start_time": "2021-11-29T15:49:53.931Z"
   },
   {
    "duration": 142,
    "start_time": "2021-11-29T15:53:44.574Z"
   },
   {
    "duration": 125,
    "start_time": "2021-11-29T16:01:57.663Z"
   },
   {
    "duration": 112,
    "start_time": "2021-11-29T16:02:02.499Z"
   },
   {
    "duration": 126,
    "start_time": "2021-11-29T16:02:07.625Z"
   },
   {
    "duration": 122,
    "start_time": "2021-11-29T16:02:14.767Z"
   },
   {
    "duration": 193,
    "start_time": "2021-11-29T16:02:19.114Z"
   },
   {
    "duration": 125,
    "start_time": "2021-11-29T16:14:39.524Z"
   },
   {
    "duration": 197,
    "start_time": "2021-11-29T16:14:49.193Z"
   },
   {
    "duration": 151,
    "start_time": "2021-11-29T16:14:55.486Z"
   },
   {
    "duration": 120,
    "start_time": "2021-11-29T16:14:59.826Z"
   },
   {
    "duration": 175,
    "start_time": "2021-11-29T16:15:04.755Z"
   },
   {
    "duration": 212,
    "start_time": "2021-11-29T16:15:10.994Z"
   },
   {
    "duration": 231,
    "start_time": "2021-11-29T16:15:51.074Z"
   },
   {
    "duration": 155,
    "start_time": "2021-11-29T16:16:04.701Z"
   },
   {
    "duration": 128,
    "start_time": "2021-11-29T16:16:15.153Z"
   },
   {
    "duration": 122,
    "start_time": "2021-11-29T16:16:20.217Z"
   },
   {
    "duration": 120,
    "start_time": "2021-11-29T16:16:26.440Z"
   },
   {
    "duration": 123,
    "start_time": "2021-11-29T17:25:44.733Z"
   },
   {
    "duration": 122,
    "start_time": "2021-11-29T17:27:22.068Z"
   },
   {
    "duration": 188,
    "start_time": "2021-11-29T17:36:08.459Z"
   },
   {
    "duration": 125,
    "start_time": "2021-11-29T17:36:28.819Z"
   },
   {
    "duration": 126,
    "start_time": "2021-11-29T17:37:36.930Z"
   },
   {
    "duration": 120,
    "start_time": "2021-11-29T17:38:45.244Z"
   },
   {
    "duration": 130,
    "start_time": "2021-11-29T17:39:31.815Z"
   },
   {
    "duration": 556,
    "start_time": "2021-11-29T17:41:44.881Z"
   },
   {
    "duration": 83,
    "start_time": "2021-11-29T17:42:06.766Z"
   },
   {
    "duration": 131,
    "start_time": "2021-11-29T17:42:13.415Z"
   },
   {
    "duration": 132,
    "start_time": "2021-11-29T17:46:57.581Z"
   },
   {
    "duration": 6419,
    "start_time": "2021-11-29T17:50:00.726Z"
   },
   {
    "duration": 8401,
    "start_time": "2021-11-29T17:49:58.746Z"
   },
   {
    "duration": 6,
    "start_time": "2021-11-29T17:50:08.095Z"
   },
   {
    "duration": 7,
    "start_time": "2021-11-29T17:50:14.065Z"
   },
   {
    "duration": 6,
    "start_time": "2021-11-29T17:51:09.633Z"
   },
   {
    "duration": 9,
    "start_time": "2021-11-29T17:51:22.687Z"
   },
   {
    "duration": 6,
    "start_time": "2021-11-29T17:51:31.077Z"
   },
   {
    "duration": 6846,
    "start_time": "2021-11-29T17:51:37.257Z"
   },
   {
    "duration": 6,
    "start_time": "2021-11-29T17:52:03.773Z"
   },
   {
    "duration": 7,
    "start_time": "2021-11-29T17:54:45.682Z"
   },
   {
    "duration": 7,
    "start_time": "2021-11-29T17:56:05.311Z"
   },
   {
    "duration": 8,
    "start_time": "2021-11-29T17:59:31.917Z"
   },
   {
    "duration": 6,
    "start_time": "2021-11-29T18:12:37.388Z"
   },
   {
    "duration": 7,
    "start_time": "2021-11-29T18:23:48.371Z"
   },
   {
    "duration": 7,
    "start_time": "2021-11-29T18:24:08.978Z"
   },
   {
    "duration": 92,
    "start_time": "2021-11-29T18:41:38.472Z"
   },
   {
    "duration": 235,
    "start_time": "2021-11-29T18:41:48.175Z"
   },
   {
    "duration": 282,
    "start_time": "2021-11-29T18:42:09.289Z"
   },
   {
    "duration": 229,
    "start_time": "2021-11-29T18:42:28.059Z"
   },
   {
    "duration": 73,
    "start_time": "2021-11-29T18:49:16.712Z"
   },
   {
    "duration": 107,
    "start_time": "2021-11-29T18:53:12.893Z"
   },
   {
    "duration": 81,
    "start_time": "2021-11-29T18:53:27.963Z"
   },
   {
    "duration": 85,
    "start_time": "2021-11-29T18:53:36.262Z"
   },
   {
    "duration": 110,
    "start_time": "2021-11-29T18:53:49.794Z"
   },
   {
    "duration": 30,
    "start_time": "2021-11-29T18:57:53.018Z"
   },
   {
    "duration": 27,
    "start_time": "2021-11-29T18:59:10.299Z"
   },
   {
    "duration": 81,
    "start_time": "2021-11-29T19:02:01.033Z"
   },
   {
    "duration": 76,
    "start_time": "2021-11-29T19:02:52.801Z"
   },
   {
    "duration": 32,
    "start_time": "2021-11-29T19:03:07.628Z"
   },
   {
    "duration": 32,
    "start_time": "2021-11-29T19:03:26.347Z"
   },
   {
    "duration": 39,
    "start_time": "2021-11-29T19:03:50.495Z"
   },
   {
    "duration": 224,
    "start_time": "2021-11-29T20:10:29.001Z"
   },
   {
    "duration": 4,
    "start_time": "2021-11-29T20:12:31.347Z"
   },
   {
    "duration": 7,
    "start_time": "2021-11-29T20:14:23.710Z"
   },
   {
    "duration": 231,
    "start_time": "2021-11-29T20:16:41.062Z"
   },
   {
    "duration": 12,
    "start_time": "2021-11-29T20:16:50.725Z"
   },
   {
    "duration": 12,
    "start_time": "2021-11-29T20:17:18.405Z"
   },
   {
    "duration": 12,
    "start_time": "2021-11-29T20:18:07.789Z"
   },
   {
    "duration": 17,
    "start_time": "2021-11-29T20:19:12.253Z"
   },
   {
    "duration": 12,
    "start_time": "2021-11-29T20:19:53.574Z"
   },
   {
    "duration": 12,
    "start_time": "2021-11-29T20:23:59.014Z"
   },
   {
    "duration": 895,
    "start_time": "2021-11-30T10:30:07.247Z"
   },
   {
    "duration": 7,
    "start_time": "2021-11-30T10:30:08.145Z"
   },
   {
    "duration": 24,
    "start_time": "2021-11-30T10:30:08.156Z"
   },
   {
    "duration": 17,
    "start_time": "2021-11-30T10:30:08.200Z"
   },
   {
    "duration": 26,
    "start_time": "2021-11-30T10:30:08.220Z"
   },
   {
    "duration": 53,
    "start_time": "2021-11-30T10:30:08.249Z"
   },
   {
    "duration": 11,
    "start_time": "2021-11-30T10:30:08.305Z"
   },
   {
    "duration": 26,
    "start_time": "2021-11-30T10:30:08.321Z"
   },
   {
    "duration": 62,
    "start_time": "2021-11-30T10:30:08.350Z"
   },
   {
    "duration": 9222,
    "start_time": "2021-11-30T10:30:08.414Z"
   },
   {
    "duration": 11,
    "start_time": "2021-11-30T10:30:17.638Z"
   },
   {
    "duration": 9277,
    "start_time": "2021-11-30T10:30:17.651Z"
   },
   {
    "duration": 10,
    "start_time": "2021-11-30T10:30:26.930Z"
   },
   {
    "duration": 10,
    "start_time": "2021-11-30T10:30:26.943Z"
   },
   {
    "duration": 2361,
    "start_time": "2021-11-30T10:30:26.955Z"
   },
   {
    "duration": 2379,
    "start_time": "2021-11-30T10:30:29.318Z"
   },
   {
    "duration": 8,
    "start_time": "2021-11-30T10:30:31.701Z"
   },
   {
    "duration": 2413,
    "start_time": "2021-11-30T10:30:31.711Z"
   },
   {
    "duration": 10,
    "start_time": "2021-11-30T10:30:34.129Z"
   },
   {
    "duration": 3498,
    "start_time": "2021-11-30T10:30:34.141Z"
   },
   {
    "duration": 116110,
    "start_time": "2021-11-30T10:30:37.642Z"
   },
   {
    "duration": 102,
    "start_time": "2021-11-30T10:32:33.755Z"
   },
   {
    "duration": 63,
    "start_time": "2021-11-30T10:32:33.862Z"
   },
   {
    "duration": 1059,
    "start_time": "2021-11-30T10:32:33.929Z"
   },
   {
    "duration": 962,
    "start_time": "2021-11-30T10:32:34.990Z"
   },
   {
    "duration": 82,
    "start_time": "2021-11-30T10:32:35.955Z"
   },
   {
    "duration": 9,
    "start_time": "2021-11-30T10:32:36.039Z"
   },
   {
    "duration": 457,
    "start_time": "2021-11-30T10:32:36.051Z"
   },
   {
    "duration": 447,
    "start_time": "2021-11-30T10:32:36.511Z"
   },
   {
    "duration": 731,
    "start_time": "2021-11-30T10:32:36.960Z"
   },
   {
    "duration": 491,
    "start_time": "2021-11-30T10:32:37.701Z"
   },
   {
    "duration": 68,
    "start_time": "2021-11-30T10:32:38.200Z"
   },
   {
    "duration": 446,
    "start_time": "2021-11-30T10:32:38.271Z"
   },
   {
    "duration": 214,
    "start_time": "2021-11-30T10:32:38.720Z"
   },
   {
    "duration": 443,
    "start_time": "2021-11-30T10:32:38.936Z"
   },
   {
    "duration": 232,
    "start_time": "2021-11-30T10:32:39.382Z"
   },
   {
    "duration": 10,
    "start_time": "2021-11-30T10:32:39.617Z"
   },
   {
    "duration": 11,
    "start_time": "2021-11-30T10:32:39.629Z"
   },
   {
    "duration": 9,
    "start_time": "2021-11-30T10:32:39.642Z"
   },
   {
    "duration": 51,
    "start_time": "2021-11-30T10:32:39.653Z"
   },
   {
    "duration": 10,
    "start_time": "2021-11-30T10:32:39.708Z"
   },
   {
    "duration": 14,
    "start_time": "2021-11-30T10:32:39.721Z"
   },
   {
    "duration": 108,
    "start_time": "2021-11-30T10:32:39.737Z"
   },
   {
    "duration": 23,
    "start_time": "2021-11-30T10:32:39.848Z"
   },
   {
    "duration": 10,
    "start_time": "2021-11-30T10:39:11.031Z"
   },
   {
    "duration": 8,
    "start_time": "2021-11-30T10:40:02.676Z"
   },
   {
    "duration": 14,
    "start_time": "2021-11-30T10:40:43.939Z"
   },
   {
    "duration": 7,
    "start_time": "2021-11-30T10:41:10.339Z"
   },
   {
    "duration": 507,
    "start_time": "2021-11-30T11:00:26.870Z"
   },
   {
    "duration": 50,
    "start_time": "2021-11-30T11:00:48.827Z"
   },
   {
    "duration": 434,
    "start_time": "2021-11-30T11:01:27.597Z"
   },
   {
    "duration": 47,
    "start_time": "2021-11-30T11:03:14.887Z"
   },
   {
    "duration": 443,
    "start_time": "2021-11-30T11:05:55.098Z"
   },
   {
    "duration": 377,
    "start_time": "2021-11-30T11:06:33.387Z"
   },
   {
    "duration": 13,
    "start_time": "2021-11-30T11:07:44.977Z"
   },
   {
    "duration": 367,
    "start_time": "2021-11-30T11:40:31.550Z"
   },
   {
    "duration": 1172,
    "start_time": "2021-11-30T14:41:30.013Z"
   },
   {
    "duration": 35367,
    "start_time": "2021-11-30T14:42:08.076Z"
   },
   {
    "duration": 10,
    "start_time": "2021-11-30T14:52:13.664Z"
   },
   {
    "duration": 9,
    "start_time": "2021-11-30T14:52:55.142Z"
   },
   {
    "duration": 10,
    "start_time": "2021-11-30T14:53:31.596Z"
   },
   {
    "duration": 1464,
    "start_time": "2021-11-30T15:01:06.661Z"
   },
   {
    "duration": 1478,
    "start_time": "2021-11-30T15:01:22.063Z"
   },
   {
    "duration": 12,
    "start_time": "2021-11-30T15:01:34.428Z"
   },
   {
    "duration": 11,
    "start_time": "2021-11-30T15:01:41.209Z"
   },
   {
    "duration": 10,
    "start_time": "2021-11-30T15:01:49.445Z"
   },
   {
    "duration": 2315,
    "start_time": "2021-11-30T15:01:54.340Z"
   },
   {
    "duration": 11,
    "start_time": "2021-11-30T15:06:08.171Z"
   },
   {
    "duration": 8,
    "start_time": "2021-11-30T15:06:29.072Z"
   },
   {
    "duration": 12,
    "start_time": "2021-11-30T15:07:30.475Z"
   },
   {
    "duration": 12,
    "start_time": "2021-11-30T15:07:42.963Z"
   },
   {
    "duration": 966,
    "start_time": "2021-11-30T15:07:59.892Z"
   },
   {
    "duration": 2222,
    "start_time": "2021-11-30T15:08:00.861Z"
   },
   {
    "duration": 2838,
    "start_time": "2021-11-30T15:08:03.086Z"
   },
   {
    "duration": 4224,
    "start_time": "2021-11-30T15:08:05.928Z"
   },
   {
    "duration": 3837,
    "start_time": "2021-11-30T15:08:10.155Z"
   },
   {
    "duration": 4097,
    "start_time": "2021-11-30T15:08:13.995Z"
   },
   {
    "duration": 3506,
    "start_time": "2021-11-30T15:08:18.095Z"
   },
   {
    "duration": 3737,
    "start_time": "2021-11-30T15:08:21.606Z"
   },
   {
    "duration": 5598,
    "start_time": "2021-11-30T15:08:25.347Z"
   },
   {
    "duration": 13864,
    "start_time": "2021-11-30T15:08:30.947Z"
   },
   {
    "duration": 10,
    "start_time": "2021-11-30T15:08:44.814Z"
   },
   {
    "duration": 13319,
    "start_time": "2021-11-30T15:08:44.827Z"
   },
   {
    "duration": 10,
    "start_time": "2021-11-30T15:08:58.148Z"
   },
   {
    "duration": 5421,
    "start_time": "2021-11-30T15:08:58.161Z"
   },
   {
    "duration": 7541,
    "start_time": "2021-11-30T15:09:03.584Z"
   },
   {
    "duration": 4972,
    "start_time": "2021-11-30T15:09:11.127Z"
   },
   {
    "duration": 3775,
    "start_time": "2021-11-30T15:09:16.102Z"
   },
   {
    "duration": 6555,
    "start_time": "2021-11-30T15:09:19.879Z"
   },
   {
    "duration": 5039,
    "start_time": "2021-11-30T15:09:26.437Z"
   },
   {
    "duration": 9938,
    "start_time": "2021-11-30T15:09:31.478Z"
   },
   {
    "duration": 115352,
    "start_time": "2021-11-30T15:09:41.418Z"
   },
   {
    "duration": 84,
    "start_time": "2021-11-30T15:11:36.772Z"
   },
   {
    "duration": 7997,
    "start_time": "2021-11-30T15:11:36.861Z"
   },
   {
    "duration": 7767,
    "start_time": "2021-11-30T15:11:44.861Z"
   },
   {
    "duration": 9134,
    "start_time": "2021-11-30T15:11:52.630Z"
   },
   {
    "duration": 7422,
    "start_time": "2021-11-30T15:12:01.767Z"
   },
   {
    "duration": 7978,
    "start_time": "2021-11-30T15:12:09.192Z"
   },
   {
    "duration": 7829,
    "start_time": "2021-11-30T15:12:17.173Z"
   },
   {
    "duration": 8263,
    "start_time": "2021-11-30T15:12:25.004Z"
   },
   {
    "duration": 6535,
    "start_time": "2021-11-30T15:12:33.269Z"
   },
   {
    "duration": 6097,
    "start_time": "2021-11-30T15:12:39.806Z"
   },
   {
    "duration": 8120,
    "start_time": "2021-11-30T15:12:45.906Z"
   },
   {
    "duration": 7586,
    "start_time": "2021-11-30T15:12:54.028Z"
   },
   {
    "duration": 9087,
    "start_time": "2021-11-30T15:13:01.616Z"
   },
   {
    "duration": 10358,
    "start_time": "2021-11-30T15:13:10.706Z"
   },
   {
    "duration": 6286,
    "start_time": "2021-11-30T15:13:21.067Z"
   },
   {
    "duration": 6473,
    "start_time": "2021-11-30T15:13:27.355Z"
   },
   {
    "duration": 6284,
    "start_time": "2021-11-30T15:13:33.830Z"
   },
   {
    "duration": 8645,
    "start_time": "2021-11-30T15:13:40.117Z"
   },
   {
    "duration": 7797,
    "start_time": "2021-11-30T15:13:48.765Z"
   },
   {
    "duration": 7715,
    "start_time": "2021-11-30T15:13:56.565Z"
   },
   {
    "duration": 4070,
    "start_time": "2021-11-30T15:14:04.283Z"
   },
   {
    "duration": 627,
    "start_time": "2021-11-30T15:14:08.355Z"
   },
   {
    "duration": 859,
    "start_time": "2021-11-30T15:14:08.984Z"
   },
   {
    "duration": 1382,
    "start_time": "2021-11-30T15:14:09.846Z"
   },
   {
    "duration": 2600,
    "start_time": "2021-11-30T15:14:11.232Z"
   },
   {
    "duration": 2050,
    "start_time": "2021-11-30T15:14:13.835Z"
   },
   {
    "duration": 666,
    "start_time": "2021-11-30T15:14:15.889Z"
   },
   {
    "duration": 35103,
    "start_time": "2021-11-30T15:14:16.558Z"
   },
   {
    "duration": 8,
    "start_time": "2021-11-30T15:16:38.676Z"
   },
   {
    "duration": 1058,
    "start_time": "2021-11-30T15:16:57.556Z"
   },
   {
    "duration": 688,
    "start_time": "2021-11-30T15:17:41.985Z"
   },
   {
    "duration": 763,
    "start_time": "2021-11-30T15:28:58.875Z"
   },
   {
    "duration": 691,
    "start_time": "2021-11-30T15:29:12.812Z"
   },
   {
    "duration": 12,
    "start_time": "2021-11-30T15:30:53.990Z"
   },
   {
    "duration": 698,
    "start_time": "2021-11-30T15:32:02.390Z"
   },
   {
    "duration": 997,
    "start_time": "2021-11-30T15:32:43.392Z"
   },
   {
    "duration": 990,
    "start_time": "2021-11-30T15:33:14.438Z"
   },
   {
    "duration": 915,
    "start_time": "2021-11-30T15:35:48.798Z"
   },
   {
    "duration": 427,
    "start_time": "2021-11-30T15:36:24.384Z"
   },
   {
    "duration": 351,
    "start_time": "2021-11-30T15:37:11.721Z"
   },
   {
    "duration": 1676,
    "start_time": "2021-11-30T15:37:20.432Z"
   },
   {
    "duration": 375,
    "start_time": "2021-11-30T15:37:40.133Z"
   },
   {
    "duration": 513,
    "start_time": "2021-11-30T15:37:51.351Z"
   },
   {
    "duration": 438,
    "start_time": "2021-11-30T15:39:34.502Z"
   },
   {
    "duration": 420,
    "start_time": "2021-11-30T15:39:55.201Z"
   },
   {
    "duration": 437,
    "start_time": "2021-11-30T15:41:19.907Z"
   },
   {
    "duration": 634,
    "start_time": "2021-11-30T15:41:43.741Z"
   },
   {
    "duration": 9675,
    "start_time": "2021-11-30T15:43:41.361Z"
   },
   {
    "duration": 435,
    "start_time": "2021-11-30T15:44:45.013Z"
   },
   {
    "duration": 303,
    "start_time": "2021-11-30T15:46:00.264Z"
   },
   {
    "duration": 72,
    "start_time": "2021-11-30T15:47:46.930Z"
   },
   {
    "duration": 396,
    "start_time": "2021-11-30T15:48:03.760Z"
   },
   {
    "duration": 422,
    "start_time": "2021-11-30T15:48:10.330Z"
   },
   {
    "duration": 5130,
    "start_time": "2021-11-30T15:48:15.616Z"
   },
   {
    "duration": 4248,
    "start_time": "2021-11-30T15:48:20.749Z"
   },
   {
    "duration": 322,
    "start_time": "2021-11-30T15:48:30.312Z"
   },
   {
    "duration": 912,
    "start_time": "2021-12-01T09:00:39.823Z"
   },
   {
    "duration": 6,
    "start_time": "2021-12-01T09:00:40.737Z"
   },
   {
    "duration": 14,
    "start_time": "2021-12-01T09:00:40.746Z"
   },
   {
    "duration": 14,
    "start_time": "2021-12-01T09:00:40.763Z"
   },
   {
    "duration": 49,
    "start_time": "2021-12-01T09:00:40.780Z"
   },
   {
    "duration": 41,
    "start_time": "2021-12-01T09:00:40.831Z"
   },
   {
    "duration": 9,
    "start_time": "2021-12-01T09:00:40.875Z"
   },
   {
    "duration": 8,
    "start_time": "2021-12-01T09:00:40.888Z"
   },
   {
    "duration": 66,
    "start_time": "2021-12-01T09:00:40.899Z"
   },
   {
    "duration": 8285,
    "start_time": "2021-12-01T09:00:40.967Z"
   },
   {
    "duration": 10,
    "start_time": "2021-12-01T09:00:49.255Z"
   },
   {
    "duration": 8681,
    "start_time": "2021-12-01T09:00:49.268Z"
   },
   {
    "duration": 10,
    "start_time": "2021-12-01T09:00:57.951Z"
   },
   {
    "duration": 11,
    "start_time": "2021-12-01T09:00:57.963Z"
   },
   {
    "duration": 2239,
    "start_time": "2021-12-01T09:00:57.976Z"
   },
   {
    "duration": 2299,
    "start_time": "2021-12-01T09:01:00.217Z"
   },
   {
    "duration": 16,
    "start_time": "2021-12-01T09:01:02.518Z"
   },
   {
    "duration": 2406,
    "start_time": "2021-12-01T09:01:02.536Z"
   },
   {
    "duration": 9,
    "start_time": "2021-12-01T09:01:04.944Z"
   },
   {
    "duration": 2460,
    "start_time": "2021-12-01T09:01:04.955Z"
   },
   {
    "duration": 108890,
    "start_time": "2021-12-01T09:01:07.418Z"
   },
   {
    "duration": 86,
    "start_time": "2021-12-01T09:02:56.310Z"
   },
   {
    "duration": 61,
    "start_time": "2021-12-01T09:02:56.401Z"
   },
   {
    "duration": 995,
    "start_time": "2021-12-01T09:02:56.465Z"
   },
   {
    "duration": 951,
    "start_time": "2021-12-01T09:02:57.462Z"
   },
   {
    "duration": 74,
    "start_time": "2021-12-01T09:02:58.415Z"
   },
   {
    "duration": 37,
    "start_time": "2021-12-01T09:02:58.492Z"
   },
   {
    "duration": 450,
    "start_time": "2021-12-01T09:02:58.532Z"
   },
   {
    "duration": 433,
    "start_time": "2021-12-01T09:02:58.984Z"
   },
   {
    "duration": 493,
    "start_time": "2021-12-01T09:02:59.419Z"
   },
   {
    "duration": 329,
    "start_time": "2021-12-01T09:02:59.915Z"
   },
   {
    "duration": 63,
    "start_time": "2021-12-01T09:03:00.246Z"
   },
   {
    "duration": 446,
    "start_time": "2021-12-01T09:03:00.329Z"
   },
   {
    "duration": 203,
    "start_time": "2021-12-01T09:03:00.778Z"
   },
   {
    "duration": 462,
    "start_time": "2021-12-01T09:03:00.984Z"
   },
   {
    "duration": 237,
    "start_time": "2021-12-01T09:03:01.450Z"
   },
   {
    "duration": 10,
    "start_time": "2021-12-01T09:03:01.689Z"
   },
   {
    "duration": 32,
    "start_time": "2021-12-01T09:03:01.702Z"
   },
   {
    "duration": 13,
    "start_time": "2021-12-01T09:03:01.737Z"
   },
   {
    "duration": 21,
    "start_time": "2021-12-01T09:03:01.752Z"
   },
   {
    "duration": 14,
    "start_time": "2021-12-01T09:03:01.775Z"
   },
   {
    "duration": 24,
    "start_time": "2021-12-01T09:03:01.792Z"
   },
   {
    "duration": 92,
    "start_time": "2021-12-01T09:03:01.818Z"
   },
   {
    "duration": 426,
    "start_time": "2021-12-01T09:03:01.912Z"
   },
   {
    "duration": 449,
    "start_time": "2021-12-01T09:03:02.341Z"
   },
   {
    "duration": 467,
    "start_time": "2021-12-01T09:03:02.793Z"
   },
   {
    "duration": 454,
    "start_time": "2021-12-01T09:03:03.263Z"
   },
   {
    "duration": 397,
    "start_time": "2021-12-01T09:03:03.720Z"
   },
   {
    "duration": 16,
    "start_time": "2021-12-01T09:03:04.120Z"
   },
   {
    "duration": 14,
    "start_time": "2021-12-01T09:03:04.139Z"
   },
   {
    "duration": 20,
    "start_time": "2021-12-01T09:03:04.155Z"
   },
   {
    "duration": 14,
    "start_time": "2021-12-01T09:03:04.178Z"
   },
   {
    "duration": 42,
    "start_time": "2021-12-01T09:03:04.194Z"
   },
   {
    "duration": 1654,
    "start_time": "2021-12-01T09:03:04.238Z"
   },
   {
    "duration": 1107,
    "start_time": "2021-12-01T09:03:05.894Z"
   },
   {
    "duration": 932,
    "start_time": "2021-12-01T09:03:07.003Z"
   },
   {
    "duration": 897,
    "start_time": "2021-12-01T09:03:07.937Z"
   },
   {
    "duration": 1104,
    "start_time": "2021-12-01T09:03:08.837Z"
   },
   {
    "duration": 875,
    "start_time": "2021-12-01T09:07:47.865Z"
   },
   {
    "duration": 9,
    "start_time": "2021-12-01T09:39:28.450Z"
   },
   {
    "duration": 15,
    "start_time": "2021-12-01T09:40:36.217Z"
   },
   {
    "duration": 105,
    "start_time": "2021-12-01T09:52:01.807Z"
   },
   {
    "duration": 99,
    "start_time": "2021-12-01T09:52:19.230Z"
   },
   {
    "duration": 14,
    "start_time": "2021-12-01T09:52:51.376Z"
   },
   {
    "duration": 22,
    "start_time": "2021-12-01T09:53:12.077Z"
   },
   {
    "duration": 32,
    "start_time": "2021-12-01T09:53:32.432Z"
   },
   {
    "duration": 100,
    "start_time": "2021-12-01T09:53:50.220Z"
   },
   {
    "duration": 36,
    "start_time": "2021-12-01T09:54:10.893Z"
   },
   {
    "duration": 44,
    "start_time": "2021-12-01T09:54:42.836Z"
   },
   {
    "duration": 35,
    "start_time": "2021-12-01T09:56:16.751Z"
   },
   {
    "duration": 2391,
    "start_time": "2021-12-01T10:05:25.169Z"
   },
   {
    "duration": 913,
    "start_time": "2021-12-01T10:05:36.348Z"
   },
   {
    "duration": 6,
    "start_time": "2021-12-01T10:05:37.264Z"
   },
   {
    "duration": 20,
    "start_time": "2021-12-01T10:05:37.273Z"
   },
   {
    "duration": 33,
    "start_time": "2021-12-01T10:05:37.296Z"
   },
   {
    "duration": 11,
    "start_time": "2021-12-01T10:05:37.331Z"
   },
   {
    "duration": 41,
    "start_time": "2021-12-01T10:05:37.345Z"
   },
   {
    "duration": 41,
    "start_time": "2021-12-01T10:05:37.388Z"
   },
   {
    "duration": 8,
    "start_time": "2021-12-01T10:05:37.433Z"
   },
   {
    "duration": 37,
    "start_time": "2021-12-01T10:05:37.444Z"
   },
   {
    "duration": 8888,
    "start_time": "2021-12-01T10:05:37.483Z"
   },
   {
    "duration": 11,
    "start_time": "2021-12-01T10:05:46.373Z"
   },
   {
    "duration": 8819,
    "start_time": "2021-12-01T10:05:46.387Z"
   },
   {
    "duration": 22,
    "start_time": "2021-12-01T10:05:55.208Z"
   },
   {
    "duration": 10,
    "start_time": "2021-12-01T10:05:55.232Z"
   },
   {
    "duration": 2337,
    "start_time": "2021-12-01T10:05:55.245Z"
   },
   {
    "duration": 2308,
    "start_time": "2021-12-01T10:05:57.585Z"
   },
   {
    "duration": 9,
    "start_time": "2021-12-01T10:05:59.895Z"
   },
   {
    "duration": 2570,
    "start_time": "2021-12-01T10:05:59.907Z"
   },
   {
    "duration": 9,
    "start_time": "2021-12-01T10:06:02.479Z"
   },
   {
    "duration": 2376,
    "start_time": "2021-12-01T10:06:02.491Z"
   },
   {
    "duration": 112815,
    "start_time": "2021-12-01T10:06:04.870Z"
   },
   {
    "duration": 94,
    "start_time": "2021-12-01T10:07:57.688Z"
   },
   {
    "duration": 65,
    "start_time": "2021-12-01T10:07:57.788Z"
   },
   {
    "duration": 1076,
    "start_time": "2021-12-01T10:07:57.856Z"
   },
   {
    "duration": 1084,
    "start_time": "2021-12-01T10:07:58.935Z"
   },
   {
    "duration": 72,
    "start_time": "2021-12-01T10:08:00.030Z"
   },
   {
    "duration": 29,
    "start_time": "2021-12-01T10:08:00.105Z"
   },
   {
    "duration": 465,
    "start_time": "2021-12-01T10:08:00.137Z"
   },
   {
    "duration": 458,
    "start_time": "2021-12-01T10:08:00.605Z"
   },
   {
    "duration": 523,
    "start_time": "2021-12-01T10:08:01.065Z"
   },
   {
    "duration": 350,
    "start_time": "2021-12-01T10:08:01.591Z"
   },
   {
    "duration": 64,
    "start_time": "2021-12-01T10:08:01.943Z"
   },
   {
    "duration": 446,
    "start_time": "2021-12-01T10:08:02.030Z"
   },
   {
    "duration": 194,
    "start_time": "2021-12-01T10:08:02.478Z"
   },
   {
    "duration": 459,
    "start_time": "2021-12-01T10:08:02.675Z"
   },
   {
    "duration": 239,
    "start_time": "2021-12-01T10:08:03.136Z"
   },
   {
    "duration": 11,
    "start_time": "2021-12-01T10:08:03.377Z"
   },
   {
    "duration": 15,
    "start_time": "2021-12-01T10:08:03.391Z"
   },
   {
    "duration": 26,
    "start_time": "2021-12-01T10:08:03.409Z"
   },
   {
    "duration": 15,
    "start_time": "2021-12-01T10:08:03.438Z"
   },
   {
    "duration": 11,
    "start_time": "2021-12-01T10:08:03.456Z"
   },
   {
    "duration": 17,
    "start_time": "2021-12-01T10:08:03.469Z"
   },
   {
    "duration": 109,
    "start_time": "2021-12-01T10:08:03.489Z"
   },
   {
    "duration": 472,
    "start_time": "2021-12-01T10:08:03.601Z"
   },
   {
    "duration": 448,
    "start_time": "2021-12-01T10:08:04.075Z"
   },
   {
    "duration": 462,
    "start_time": "2021-12-01T10:08:04.530Z"
   },
   {
    "duration": 463,
    "start_time": "2021-12-01T10:08:04.994Z"
   },
   {
    "duration": 334,
    "start_time": "2021-12-01T10:08:05.459Z"
   },
   {
    "duration": 9,
    "start_time": "2021-12-01T10:08:05.796Z"
   },
   {
    "duration": 27,
    "start_time": "2021-12-01T10:08:05.808Z"
   },
   {
    "duration": 14,
    "start_time": "2021-12-01T10:08:05.837Z"
   },
   {
    "duration": 7,
    "start_time": "2021-12-01T10:08:05.854Z"
   },
   {
    "duration": 15,
    "start_time": "2021-12-01T10:08:05.863Z"
   },
   {
    "duration": 1763,
    "start_time": "2021-12-01T10:08:05.881Z"
   },
   {
    "duration": 1118,
    "start_time": "2021-12-01T10:08:07.646Z"
   },
   {
    "duration": 868,
    "start_time": "2021-12-01T10:08:08.767Z"
   },
   {
    "duration": 957,
    "start_time": "2021-12-01T10:08:09.637Z"
   },
   {
    "duration": 52,
    "start_time": "2021-12-01T10:08:10.596Z"
   },
   {
    "duration": 11,
    "start_time": "2021-12-01T10:08:10.651Z"
   },
   {
    "duration": 84,
    "start_time": "2021-12-01T10:23:10.569Z"
   },
   {
    "duration": 412,
    "start_time": "2021-12-01T10:23:38.452Z"
   },
   {
    "duration": 93,
    "start_time": "2021-12-01T10:24:34.049Z"
   },
   {
    "duration": 281,
    "start_time": "2021-12-01T10:24:41.019Z"
   },
   {
    "duration": 88,
    "start_time": "2021-12-01T10:24:59.841Z"
   },
   {
    "duration": 57,
    "start_time": "2021-12-01T10:25:09.126Z"
   },
   {
    "duration": 7322,
    "start_time": "2021-12-01T10:27:55.295Z"
   },
   {
    "duration": 7922,
    "start_time": "2021-12-01T10:28:30.873Z"
   },
   {
    "duration": 83,
    "start_time": "2021-12-01T10:31:31.620Z"
   },
   {
    "duration": 83,
    "start_time": "2021-12-01T10:31:40.524Z"
   },
   {
    "duration": 84,
    "start_time": "2021-12-01T10:32:03.808Z"
   },
   {
    "duration": 80,
    "start_time": "2021-12-01T10:32:09.412Z"
   },
   {
    "duration": 20,
    "start_time": "2021-12-01T10:43:40.564Z"
   },
   {
    "duration": 8002,
    "start_time": "2021-12-01T10:46:40.976Z"
   },
   {
    "duration": 886,
    "start_time": "2021-12-01T10:53:52.164Z"
   },
   {
    "duration": 7,
    "start_time": "2021-12-01T10:53:53.053Z"
   },
   {
    "duration": 31,
    "start_time": "2021-12-01T10:53:53.063Z"
   },
   {
    "duration": 32,
    "start_time": "2021-12-01T10:53:53.097Z"
   },
   {
    "duration": 22,
    "start_time": "2021-12-01T10:53:53.131Z"
   },
   {
    "duration": 40,
    "start_time": "2021-12-01T10:53:53.156Z"
   },
   {
    "duration": 11,
    "start_time": "2021-12-01T10:53:53.198Z"
   },
   {
    "duration": 9,
    "start_time": "2021-12-01T10:53:53.231Z"
   },
   {
    "duration": 71,
    "start_time": "2021-12-01T10:53:53.242Z"
   },
   {
    "duration": 8556,
    "start_time": "2021-12-01T10:53:53.315Z"
   },
   {
    "duration": 11,
    "start_time": "2021-12-01T10:54:01.873Z"
   },
   {
    "duration": 8422,
    "start_time": "2021-12-01T10:54:01.886Z"
   },
   {
    "duration": 20,
    "start_time": "2021-12-01T10:54:10.311Z"
   },
   {
    "duration": 11,
    "start_time": "2021-12-01T10:54:10.333Z"
   },
   {
    "duration": 2282,
    "start_time": "2021-12-01T10:54:10.346Z"
   },
   {
    "duration": 2287,
    "start_time": "2021-12-01T10:54:12.630Z"
   },
   {
    "duration": 17,
    "start_time": "2021-12-01T10:54:14.919Z"
   },
   {
    "duration": 2306,
    "start_time": "2021-12-01T10:54:14.938Z"
   },
   {
    "duration": 8,
    "start_time": "2021-12-01T10:54:17.246Z"
   },
   {
    "duration": 2295,
    "start_time": "2021-12-01T10:54:17.256Z"
   },
   {
    "duration": 111038,
    "start_time": "2021-12-01T10:54:19.554Z"
   },
   {
    "duration": 88,
    "start_time": "2021-12-01T10:56:10.594Z"
   },
   {
    "duration": 59,
    "start_time": "2021-12-01T10:56:10.688Z"
   },
   {
    "duration": 1016,
    "start_time": "2021-12-01T10:56:10.751Z"
   },
   {
    "duration": 932,
    "start_time": "2021-12-01T10:56:11.770Z"
   },
   {
    "duration": 81,
    "start_time": "2021-12-01T10:56:12.705Z"
   },
   {
    "duration": 12,
    "start_time": "2021-12-01T10:56:12.789Z"
   },
   {
    "duration": 459,
    "start_time": "2021-12-01T10:56:12.803Z"
   },
   {
    "duration": 429,
    "start_time": "2021-12-01T10:56:13.265Z"
   },
   {
    "duration": 506,
    "start_time": "2021-12-01T10:56:13.697Z"
   },
   {
    "duration": 347,
    "start_time": "2021-12-01T10:56:14.205Z"
   },
   {
    "duration": 75,
    "start_time": "2021-12-01T10:56:14.554Z"
   },
   {
    "duration": 437,
    "start_time": "2021-12-01T10:56:14.632Z"
   },
   {
    "duration": 189,
    "start_time": "2021-12-01T10:56:15.071Z"
   },
   {
    "duration": 431,
    "start_time": "2021-12-01T10:56:15.263Z"
   },
   {
    "duration": 233,
    "start_time": "2021-12-01T10:56:15.697Z"
   },
   {
    "duration": 11,
    "start_time": "2021-12-01T10:56:15.933Z"
   },
   {
    "duration": 16,
    "start_time": "2021-12-01T10:56:15.947Z"
   },
   {
    "duration": 9,
    "start_time": "2021-12-01T10:56:15.966Z"
   },
   {
    "duration": 53,
    "start_time": "2021-12-01T10:56:15.977Z"
   },
   {
    "duration": 9,
    "start_time": "2021-12-01T10:56:16.032Z"
   },
   {
    "duration": 18,
    "start_time": "2021-12-01T10:56:16.043Z"
   },
   {
    "duration": 95,
    "start_time": "2021-12-01T10:56:16.063Z"
   },
   {
    "duration": 431,
    "start_time": "2021-12-01T10:56:16.161Z"
   },
   {
    "duration": 428,
    "start_time": "2021-12-01T10:56:16.595Z"
   },
   {
    "duration": 452,
    "start_time": "2021-12-01T10:56:17.029Z"
   },
   {
    "duration": 458,
    "start_time": "2021-12-01T10:56:17.484Z"
   },
   {
    "duration": 316,
    "start_time": "2021-12-01T10:56:17.944Z"
   },
   {
    "duration": 10,
    "start_time": "2021-12-01T10:56:18.262Z"
   },
   {
    "duration": 11,
    "start_time": "2021-12-01T10:56:18.275Z"
   },
   {
    "duration": 46,
    "start_time": "2021-12-01T10:56:18.289Z"
   },
   {
    "duration": 6,
    "start_time": "2021-12-01T10:56:18.337Z"
   },
   {
    "duration": 12,
    "start_time": "2021-12-01T10:56:18.346Z"
   },
   {
    "duration": 1851,
    "start_time": "2021-12-01T10:56:18.361Z"
   },
   {
    "duration": 1099,
    "start_time": "2021-12-01T10:56:20.215Z"
   },
   {
    "duration": 860,
    "start_time": "2021-12-01T10:56:21.316Z"
   },
   {
    "duration": 890,
    "start_time": "2021-12-01T10:56:22.179Z"
   },
   {
    "duration": 119,
    "start_time": "2021-12-01T10:56:23.072Z"
   },
   {
    "duration": 8263,
    "start_time": "2021-12-01T10:56:23.194Z"
   },
   {
    "duration": 12714,
    "start_time": "2021-12-01T10:56:18.746Z"
   },
   {
    "duration": 8548,
    "start_time": "2021-12-01T10:57:30.634Z"
   },
   {
    "duration": 297,
    "start_time": "2021-12-01T11:17:42.451Z"
   },
   {
    "duration": 511,
    "start_time": "2021-12-01T14:20:38.729Z"
   },
   {
    "duration": 1028,
    "start_time": "2021-12-01T14:20:59.140Z"
   },
   {
    "duration": 7,
    "start_time": "2021-12-01T14:21:00.170Z"
   },
   {
    "duration": 16,
    "start_time": "2021-12-01T14:21:00.180Z"
   },
   {
    "duration": 14,
    "start_time": "2021-12-01T14:21:00.199Z"
   },
   {
    "duration": 12,
    "start_time": "2021-12-01T14:21:00.215Z"
   },
   {
    "duration": 69,
    "start_time": "2021-12-01T14:21:00.229Z"
   },
   {
    "duration": 10,
    "start_time": "2021-12-01T14:21:00.301Z"
   },
   {
    "duration": 12,
    "start_time": "2021-12-01T14:21:00.315Z"
   },
   {
    "duration": 43,
    "start_time": "2021-12-01T14:21:00.360Z"
   },
   {
    "duration": 8515,
    "start_time": "2021-12-01T14:21:00.405Z"
   },
   {
    "duration": 10,
    "start_time": "2021-12-01T14:21:08.923Z"
   },
   {
    "duration": 8385,
    "start_time": "2021-12-01T14:21:08.935Z"
   },
   {
    "duration": 9,
    "start_time": "2021-12-01T14:21:17.322Z"
   },
   {
    "duration": 29,
    "start_time": "2021-12-01T14:21:17.334Z"
   },
   {
    "duration": 2238,
    "start_time": "2021-12-01T14:21:17.365Z"
   },
   {
    "duration": 2280,
    "start_time": "2021-12-01T14:21:19.606Z"
   },
   {
    "duration": 8,
    "start_time": "2021-12-01T14:21:21.888Z"
   },
   {
    "duration": 2266,
    "start_time": "2021-12-01T14:21:21.898Z"
   },
   {
    "duration": 8,
    "start_time": "2021-12-01T14:21:24.166Z"
   },
   {
    "duration": 2284,
    "start_time": "2021-12-01T14:21:24.176Z"
   },
   {
    "duration": 110413,
    "start_time": "2021-12-01T14:21:26.462Z"
   },
   {
    "duration": 99,
    "start_time": "2021-12-01T14:23:16.877Z"
   },
   {
    "duration": 39,
    "start_time": "2021-12-01T14:23:16.982Z"
   },
   {
    "duration": 955,
    "start_time": "2021-12-01T14:23:17.024Z"
   },
   {
    "duration": 892,
    "start_time": "2021-12-01T14:23:17.981Z"
   },
   {
    "duration": 91,
    "start_time": "2021-12-01T14:23:18.876Z"
   },
   {
    "duration": 12,
    "start_time": "2021-12-01T14:23:18.970Z"
   },
   {
    "duration": 450,
    "start_time": "2021-12-01T14:23:18.985Z"
   },
   {
    "duration": 422,
    "start_time": "2021-12-01T14:23:19.437Z"
   },
   {
    "duration": 494,
    "start_time": "2021-12-01T14:23:19.861Z"
   },
   {
    "duration": 330,
    "start_time": "2021-12-01T14:23:20.357Z"
   },
   {
    "duration": 77,
    "start_time": "2021-12-01T14:23:20.690Z"
   },
   {
    "duration": 421,
    "start_time": "2021-12-01T14:23:20.769Z"
   },
   {
    "duration": 186,
    "start_time": "2021-12-01T14:23:21.193Z"
   },
   {
    "duration": 421,
    "start_time": "2021-12-01T14:23:21.382Z"
   },
   {
    "duration": 234,
    "start_time": "2021-12-01T14:23:21.805Z"
   },
   {
    "duration": 18,
    "start_time": "2021-12-01T14:23:22.041Z"
   },
   {
    "duration": 9,
    "start_time": "2021-12-01T14:23:22.062Z"
   },
   {
    "duration": 8,
    "start_time": "2021-12-01T14:23:22.074Z"
   },
   {
    "duration": 8,
    "start_time": "2021-12-01T14:23:22.085Z"
   },
   {
    "duration": 9,
    "start_time": "2021-12-01T14:23:22.096Z"
   },
   {
    "duration": 58,
    "start_time": "2021-12-01T14:23:22.108Z"
   },
   {
    "duration": 94,
    "start_time": "2021-12-01T14:23:22.168Z"
   },
   {
    "duration": 412,
    "start_time": "2021-12-01T14:23:22.264Z"
   },
   {
    "duration": 409,
    "start_time": "2021-12-01T14:23:22.678Z"
   },
   {
    "duration": 441,
    "start_time": "2021-12-01T14:23:23.089Z"
   },
   {
    "duration": 436,
    "start_time": "2021-12-01T14:23:23.532Z"
   },
   {
    "duration": 316,
    "start_time": "2021-12-01T14:23:23.970Z"
   },
   {
    "duration": 10,
    "start_time": "2021-12-01T14:23:24.288Z"
   },
   {
    "duration": 8,
    "start_time": "2021-12-01T14:23:24.300Z"
   },
   {
    "duration": 14,
    "start_time": "2021-12-01T14:23:24.311Z"
   },
   {
    "duration": 6,
    "start_time": "2021-12-01T14:23:24.360Z"
   },
   {
    "duration": 14,
    "start_time": "2021-12-01T14:23:24.368Z"
   },
   {
    "duration": 1679,
    "start_time": "2021-12-01T14:23:24.384Z"
   },
   {
    "duration": 1068,
    "start_time": "2021-12-01T14:23:26.066Z"
   },
   {
    "duration": 839,
    "start_time": "2021-12-01T14:23:27.136Z"
   },
   {
    "duration": 904,
    "start_time": "2021-12-01T14:23:27.977Z"
   },
   {
    "duration": 35,
    "start_time": "2021-12-01T14:23:28.883Z"
   },
   {
    "duration": 328,
    "start_time": "2021-12-01T14:23:28.920Z"
   },
   {
    "duration": 310,
    "start_time": "2021-12-01T14:23:29.251Z"
   },
   {
    "duration": 12,
    "start_time": "2021-12-01T14:23:29.565Z"
   },
   {
    "duration": 70,
    "start_time": "2021-12-01T14:26:09.621Z"
   },
   {
    "duration": 389,
    "start_time": "2021-12-01T14:26:23.451Z"
   },
   {
    "duration": 421,
    "start_time": "2021-12-01T14:26:27.242Z"
   },
   {
    "duration": 432,
    "start_time": "2021-12-01T14:26:31.225Z"
   },
   {
    "duration": 523,
    "start_time": "2021-12-01T14:26:35.751Z"
   },
   {
    "duration": 301,
    "start_time": "2021-12-01T14:26:40.802Z"
   },
   {
    "duration": 428,
    "start_time": "2021-12-01T14:26:46.891Z"
   },
   {
    "duration": 10,
    "start_time": "2021-12-01T14:26:56.921Z"
   },
   {
    "duration": 8,
    "start_time": "2021-12-01T14:27:31.542Z"
   },
   {
    "duration": 14,
    "start_time": "2021-12-01T14:28:07.816Z"
   },
   {
    "duration": 6,
    "start_time": "2021-12-01T14:28:19.949Z"
   },
   {
    "duration": 13,
    "start_time": "2021-12-01T14:28:33.385Z"
   },
   {
    "duration": 1007,
    "start_time": "2021-12-01T14:28:36.700Z"
   },
   {
    "duration": 1058,
    "start_time": "2021-12-01T14:28:45.616Z"
   },
   {
    "duration": 916,
    "start_time": "2021-12-01T14:28:52.756Z"
   },
   {
    "duration": 836,
    "start_time": "2021-12-01T14:28:56.641Z"
   },
   {
    "duration": 37,
    "start_time": "2021-12-01T14:29:10.902Z"
   },
   {
    "duration": 287,
    "start_time": "2021-12-01T14:29:24.420Z"
   },
   {
    "duration": 295,
    "start_time": "2021-12-01T14:29:27.920Z"
   },
   {
    "duration": 531,
    "start_time": "2021-12-01T14:31:51.715Z"
   },
   {
    "duration": 63,
    "start_time": "2021-12-01T14:32:04.582Z"
   },
   {
    "duration": 37,
    "start_time": "2021-12-01T14:33:36.050Z"
   },
   {
    "duration": 470,
    "start_time": "2021-12-01T14:36:19.811Z"
   },
   {
    "duration": 80,
    "start_time": "2021-12-01T14:36:31.455Z"
   },
   {
    "duration": 117,
    "start_time": "2021-12-01T14:38:35.595Z"
   },
   {
    "duration": 79,
    "start_time": "2021-12-01T14:41:53.014Z"
   },
   {
    "duration": 9,
    "start_time": "2021-12-01T14:43:30.648Z"
   },
   {
    "duration": 8,
    "start_time": "2021-12-01T14:52:20.485Z"
   },
   {
    "duration": 10,
    "start_time": "2021-12-01T14:52:57.138Z"
   },
   {
    "duration": 293,
    "start_time": "2021-12-01T14:53:38.921Z"
   },
   {
    "duration": 662,
    "start_time": "2021-12-01T14:54:23.207Z"
   },
   {
    "duration": 319,
    "start_time": "2021-12-01T14:54:40.743Z"
   },
   {
    "duration": 73,
    "start_time": "2021-12-01T14:55:43.419Z"
   },
   {
    "duration": 8,
    "start_time": "2021-12-01T14:56:27.784Z"
   },
   {
    "duration": 178,
    "start_time": "2021-12-01T15:16:01.013Z"
   },
   {
    "duration": 159,
    "start_time": "2021-12-01T15:16:57.860Z"
   },
   {
    "duration": 149,
    "start_time": "2021-12-01T15:17:19.081Z"
   },
   {
    "duration": 153,
    "start_time": "2021-12-01T15:18:34.142Z"
   },
   {
    "duration": 9,
    "start_time": "2021-12-01T15:18:41.528Z"
   },
   {
    "duration": 9,
    "start_time": "2021-12-01T15:18:48.055Z"
   },
   {
    "duration": 223,
    "start_time": "2021-12-01T15:18:53.468Z"
   },
   {
    "duration": 293,
    "start_time": "2021-12-01T15:20:24.338Z"
   },
   {
    "duration": 452,
    "start_time": "2021-12-01T15:20:51.633Z"
   },
   {
    "duration": 303,
    "start_time": "2021-12-01T15:21:08.411Z"
   },
   {
    "duration": 297,
    "start_time": "2021-12-01T15:21:32.695Z"
   },
   {
    "duration": 294,
    "start_time": "2021-12-01T15:21:52.115Z"
   },
   {
    "duration": 286,
    "start_time": "2021-12-01T15:24:14.473Z"
   },
   {
    "duration": 10100,
    "start_time": "2021-12-01T15:34:21.051Z"
   },
   {
    "duration": 47,
    "start_time": "2021-12-01T15:35:18.909Z"
   },
   {
    "duration": 43,
    "start_time": "2021-12-01T15:36:16.812Z"
   },
   {
    "duration": 42,
    "start_time": "2021-12-01T15:36:38.382Z"
   },
   {
    "duration": 71,
    "start_time": "2021-12-01T15:43:10.631Z"
   },
   {
    "duration": 60,
    "start_time": "2021-12-01T15:43:59.043Z"
   },
   {
    "duration": 62,
    "start_time": "2021-12-01T15:45:20.829Z"
   },
   {
    "duration": 733,
    "start_time": "2021-12-01T15:45:56.789Z"
   },
   {
    "duration": 51,
    "start_time": "2021-12-01T15:46:33.253Z"
   },
   {
    "duration": 49,
    "start_time": "2021-12-01T15:47:38.335Z"
   },
   {
    "duration": 47,
    "start_time": "2021-12-01T15:48:53.906Z"
   },
   {
    "duration": 51,
    "start_time": "2021-12-01T15:50:44.910Z"
   },
   {
    "duration": 1010,
    "start_time": "2021-12-01T16:15:14.073Z"
   },
   {
    "duration": 7,
    "start_time": "2021-12-01T16:15:15.085Z"
   },
   {
    "duration": 23,
    "start_time": "2021-12-01T16:15:15.095Z"
   },
   {
    "duration": 38,
    "start_time": "2021-12-01T16:15:15.121Z"
   },
   {
    "duration": 11,
    "start_time": "2021-12-01T16:15:15.161Z"
   },
   {
    "duration": 43,
    "start_time": "2021-12-01T16:15:15.175Z"
   },
   {
    "duration": 46,
    "start_time": "2021-12-01T16:15:15.221Z"
   },
   {
    "duration": 11,
    "start_time": "2021-12-01T16:15:15.272Z"
   },
   {
    "duration": 72,
    "start_time": "2021-12-01T16:15:15.287Z"
   },
   {
    "duration": 8676,
    "start_time": "2021-12-01T16:15:15.362Z"
   },
   {
    "duration": 21,
    "start_time": "2021-12-01T16:15:24.041Z"
   },
   {
    "duration": 8582,
    "start_time": "2021-12-01T16:15:24.065Z"
   },
   {
    "duration": 19,
    "start_time": "2021-12-01T16:15:32.649Z"
   },
   {
    "duration": 23,
    "start_time": "2021-12-01T16:15:32.670Z"
   },
   {
    "duration": 2248,
    "start_time": "2021-12-01T16:15:32.695Z"
   },
   {
    "duration": 2227,
    "start_time": "2021-12-01T16:15:34.945Z"
   },
   {
    "duration": 9,
    "start_time": "2021-12-01T16:15:37.174Z"
   },
   {
    "duration": 2260,
    "start_time": "2021-12-01T16:15:37.185Z"
   },
   {
    "duration": 13,
    "start_time": "2021-12-01T16:15:39.447Z"
   },
   {
    "duration": 2223,
    "start_time": "2021-12-01T16:15:39.463Z"
   },
   {
    "duration": 108928,
    "start_time": "2021-12-01T16:15:41.688Z"
   },
   {
    "duration": 100,
    "start_time": "2021-12-01T16:17:30.620Z"
   },
   {
    "duration": 71,
    "start_time": "2021-12-01T16:17:30.726Z"
   },
   {
    "duration": 987,
    "start_time": "2021-12-01T16:17:30.800Z"
   },
   {
    "duration": 894,
    "start_time": "2021-12-01T16:17:31.790Z"
   },
   {
    "duration": 87,
    "start_time": "2021-12-01T16:17:32.686Z"
   },
   {
    "duration": 10,
    "start_time": "2021-12-01T16:17:32.776Z"
   },
   {
    "duration": 447,
    "start_time": "2021-12-01T16:17:32.789Z"
   },
   {
    "duration": 476,
    "start_time": "2021-12-01T16:17:33.238Z"
   },
   {
    "duration": 439,
    "start_time": "2021-12-01T16:17:33.716Z"
   },
   {
    "duration": 311,
    "start_time": "2021-12-01T16:17:34.159Z"
   },
   {
    "duration": 60,
    "start_time": "2021-12-01T16:17:34.472Z"
   },
   {
    "duration": 442,
    "start_time": "2021-12-01T16:17:34.535Z"
   },
   {
    "duration": 184,
    "start_time": "2021-12-01T16:17:34.979Z"
   },
   {
    "duration": 424,
    "start_time": "2021-12-01T16:17:35.167Z"
   },
   {
    "duration": 248,
    "start_time": "2021-12-01T16:17:35.595Z"
   },
   {
    "duration": 17,
    "start_time": "2021-12-01T16:17:35.846Z"
   },
   {
    "duration": 9,
    "start_time": "2021-12-01T16:17:35.866Z"
   },
   {
    "duration": 9,
    "start_time": "2021-12-01T16:17:35.878Z"
   },
   {
    "duration": 11,
    "start_time": "2021-12-01T16:17:35.890Z"
   },
   {
    "duration": 54,
    "start_time": "2021-12-01T16:17:35.905Z"
   },
   {
    "duration": 13,
    "start_time": "2021-12-01T16:17:35.962Z"
   },
   {
    "duration": 98,
    "start_time": "2021-12-01T16:17:35.978Z"
   },
   {
    "duration": 412,
    "start_time": "2021-12-01T16:17:36.078Z"
   },
   {
    "duration": 429,
    "start_time": "2021-12-01T16:17:36.492Z"
   },
   {
    "duration": 470,
    "start_time": "2021-12-01T16:17:36.923Z"
   },
   {
    "duration": 457,
    "start_time": "2021-12-01T16:17:37.396Z"
   },
   {
    "duration": 379,
    "start_time": "2021-12-01T16:17:37.855Z"
   },
   {
    "duration": 29,
    "start_time": "2021-12-01T16:17:38.237Z"
   },
   {
    "duration": 6,
    "start_time": "2021-12-01T16:17:38.269Z"
   },
   {
    "duration": 14,
    "start_time": "2021-12-01T16:17:38.278Z"
   },
   {
    "duration": 10,
    "start_time": "2021-12-01T16:17:38.295Z"
   },
   {
    "duration": 23,
    "start_time": "2021-12-01T16:17:38.307Z"
   },
   {
    "duration": 1573,
    "start_time": "2021-12-01T16:17:38.332Z"
   },
   {
    "duration": 1063,
    "start_time": "2021-12-01T16:17:39.908Z"
   },
   {
    "duration": 897,
    "start_time": "2021-12-01T16:17:40.973Z"
   },
   {
    "duration": 846,
    "start_time": "2021-12-01T16:17:41.872Z"
   },
   {
    "duration": 56,
    "start_time": "2021-12-01T16:17:42.721Z"
   },
   {
    "duration": 302,
    "start_time": "2021-12-01T16:17:42.780Z"
   },
   {
    "duration": 306,
    "start_time": "2021-12-01T16:17:43.084Z"
   },
   {
    "duration": 88,
    "start_time": "2021-12-01T16:17:43.393Z"
   },
   {
    "duration": 8,
    "start_time": "2021-12-01T16:17:43.484Z"
   },
   {
    "duration": 336,
    "start_time": "2021-12-01T16:17:43.494Z"
   },
   {
    "duration": 412,
    "start_time": "2021-12-01T16:17:43.833Z"
   },
   {
    "duration": 58,
    "start_time": "2021-12-01T16:17:44.248Z"
   },
   {
    "duration": 77,
    "start_time": "2021-12-01T16:17:44.309Z"
   }
  ],
  "kernelspec": {
   "display_name": "Python 3",
   "language": "python",
   "name": "python3"
  },
  "language_info": {
   "codemirror_mode": {
    "name": "ipython",
    "version": 3
   },
   "file_extension": ".py",
   "mimetype": "text/x-python",
   "name": "python",
   "nbconvert_exporter": "python",
   "pygments_lexer": "ipython3",
   "version": "3.7.8"
  },
  "toc": {
   "base_numbering": 1,
   "nav_menu": {},
   "number_sections": true,
   "sideBar": true,
   "skip_h1_title": true,
   "title_cell": "Содержание",
   "title_sidebar": "Contents",
   "toc_cell": true,
   "toc_position": {
    "height": "calc(100% - 180px)",
    "left": "10px",
    "top": "150px",
    "width": "165px"
   },
   "toc_section_display": true,
   "toc_window_display": false
  }
 },
 "nbformat": 4,
 "nbformat_minor": 2
}
